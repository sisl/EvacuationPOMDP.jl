{
 "cells": [
  {
   "cell_type": "code",
   "execution_count": 3,
   "id": "d1439bc0",
   "metadata": {},
   "outputs": [],
   "source": [
    "using POMDPs # for MDP type\n",
    "using DiscreteValueIteration\n",
    "using POMDPPolicies\n",
    "using POMDPModelTools #for sparse cat \n",
    "using Parameters\n",
    "using Random\n",
    "using Plots; default(fontfamily=\"Computer Modern\", framestyle=:box) # LaTex-style\n",
    "using QuickPOMDPs\n",
    "using Distributions \n",
    "#using PlotlyJS\n",
    "using LinearAlgebra\n",
    "using POMDPSimulators\n",
    "using Measures"
   ]
  },
  {
   "cell_type": "code",
   "execution_count": 4,
   "id": "1775e911",
   "metadata": {},
   "outputs": [
    {
     "data": {
      "text/plain": [
       "MersenneTwister(12648430)"
      ]
     },
     "execution_count": 4,
     "metadata": {},
     "output_type": "execute_result"
    }
   ],
   "source": [
    "Random.seed!(0xC0FFEE)"
   ]
  },
  {
   "cell_type": "markdown",
   "id": "a21058cf",
   "metadata": {},
   "source": [
    "**States**"
   ]
  },
  {
   "cell_type": "code",
   "execution_count": 5,
   "id": "75e654a0",
   "metadata": {},
   "outputs": [],
   "source": [
    "struct State\n",
    "    c::Int # chairs remaining \n",
    "    t::Int # time remaining \n",
    "    f::Int # family size \n",
    "    v::Int # visa status \n",
    "end "
   ]
  },
  {
   "cell_type": "markdown",
   "id": "8897ebc7",
   "metadata": {},
   "source": [
    "**Environment Parameters**"
   ]
  },
  {
   "cell_type": "code",
   "execution_count": 6,
   "id": "b9e4868d",
   "metadata": {},
   "outputs": [
    {
     "data": {
      "text/plain": [
       "EvacuationParameters"
      ]
     },
     "execution_count": 6,
     "metadata": {},
     "output_type": "execute_result"
    }
   ],
   "source": [
    "@with_kw struct EvacuationParameters\n",
    "    family_sizes::Vector{Int} = [1, 2, 3, 4, 5] # set with no repeats \n",
    "    family_prob = [.1, .2, .3, .2, .2]\n",
    "    visa_status::Vector{Int} = [-2, -1, 0, 1, 2] #TODO: map to various status \n",
    "    visa_prob = [.1, .1, .4, .2, .2]\n",
    "    capacity::Int = 60 # keeping these both as integers of 20 for now. \n",
    "    time::Int = 60\n",
    "    size::Tuple{Int, Int} = (length(visa_status), length(family_sizes)) # size of grid \n",
    "    p_transition::Real = 0.8 # don't we always transition into this since time moves forward? I'm confused... \n",
    "    null_state::State = State(-1, -1, -1 ,-1) # is there someway to do this???\n",
    "    accept_prob = [.80, .20]\n",
    "    reject_prob = [1.0]\n",
    "end"
   ]
  },
  {
   "cell_type": "code",
   "execution_count": 7,
   "id": "27f4df6b",
   "metadata": {},
   "outputs": [],
   "source": [
    "params = EvacuationParameters(); "
   ]
  },
  {
   "cell_type": "code",
   "execution_count": 8,
   "id": "8d7ed9cc",
   "metadata": {},
   "outputs": [
    {
     "name": "stdout",
     "output_type": "stream",
     "text": [
      "number_states = params.capacity * params.time * (size(params.family_sizes))[1] * (size(params.visa_status))[1] = 90000\n"
     ]
    },
    {
     "data": {
      "text/plain": [
       "90000"
      ]
     },
     "execution_count": 8,
     "metadata": {},
     "output_type": "execute_result"
    }
   ],
   "source": [
    "@show number_states = params.capacity * params.time * size(params.family_sizes)[1] * size(params.visa_status)[1]"
   ]
  },
  {
   "cell_type": "code",
   "execution_count": 9,
   "id": "84038044",
   "metadata": {
    "scrolled": true
   },
   "outputs": [
    {
     "data": {
      "text/plain": [
       "93026-element Vector{Any}:\n",
       " State(0, 0, 1, -2)\n",
       " State(0, 0, 1, -1)\n",
       " State(0, 0, 1, 0)\n",
       " State(0, 0, 1, 1)\n",
       " State(0, 0, 1, 2)\n",
       " State(0, 0, 2, -2)\n",
       " State(0, 0, 2, -1)\n",
       " State(0, 0, 2, 0)\n",
       " State(0, 0, 2, 1)\n",
       " State(0, 0, 2, 2)\n",
       " State(0, 0, 3, -2)\n",
       " State(0, 0, 3, -1)\n",
       " State(0, 0, 3, 0)\n",
       " ⋮\n",
       " State(60, 60, 3, 2)\n",
       " State(60, 60, 4, -2)\n",
       " State(60, 60, 4, -1)\n",
       " State(60, 60, 4, 0)\n",
       " State(60, 60, 4, 1)\n",
       " State(60, 60, 4, 2)\n",
       " State(60, 60, 5, -2)\n",
       " State(60, 60, 5, -1)\n",
       " State(60, 60, 5, 0)\n",
       " State(60, 60, 5, 1)\n",
       " State(60, 60, 5, 2)\n",
       " State(-1, -1, -1, -1)"
      ]
     },
     "execution_count": 9,
     "metadata": {},
     "output_type": "execute_result"
    }
   ],
   "source": [
    "# The state space S for the evacuation problem is the set of all combinations \n",
    "𝒮 = []\n",
    "for c in 0:params.capacity # capacity ends at 0 \n",
    "    for t in 0:params.time # time ends at 0 \n",
    "        for f in params.family_sizes # family size here we should have the ACTUAL family sizes \n",
    "            for v in params.visa_status # actual visa statuses \n",
    "                new = State(c, t, f, v) \n",
    "                𝒮 = [𝒮; new]\n",
    "            end\n",
    "        end        \n",
    "    end\n",
    "end\n",
    "𝒮 = [𝒮; params.null_state]"
   ]
  },
  {
   "cell_type": "markdown",
   "id": "f9a0c0d5",
   "metadata": {},
   "source": [
    "**Actions**"
   ]
  },
  {
   "cell_type": "code",
   "execution_count": 10,
   "id": "e0ce57ab",
   "metadata": {},
   "outputs": [],
   "source": [
    "# the possible actions are whether accept or reject a family at the gate \n",
    "@enum Action REJECT ACCEPT"
   ]
  },
  {
   "cell_type": "code",
   "execution_count": 11,
   "id": "d07469a5",
   "metadata": {},
   "outputs": [
    {
     "data": {
      "text/plain": [
       "2-element Vector{Action}:\n",
       " REJECT::Action = 0\n",
       " ACCEPT::Action = 1"
      ]
     },
     "execution_count": 11,
     "metadata": {},
     "output_type": "execute_result"
    }
   ],
   "source": [
    "𝒜 = [REJECT, ACCEPT]"
   ]
  },
  {
   "cell_type": "code",
   "execution_count": 12,
   "id": "839bbf8f",
   "metadata": {},
   "outputs": [
    {
     "data": {
      "text/plain": [
       "validtime (generic function with 1 method)"
      ]
     },
     "execution_count": 12,
     "metadata": {},
     "output_type": "execute_result"
    }
   ],
   "source": [
    "# only inbounds if room for the family [assuming would not separate even though might]\n",
    "# and if time is available to enter the airport \n",
    "validtime(s::State) = 0 < s.t "
   ]
  },
  {
   "cell_type": "code",
   "execution_count": 13,
   "id": "32351952",
   "metadata": {},
   "outputs": [
    {
     "data": {
      "text/plain": [
       "validcapacity (generic function with 1 method)"
      ]
     },
     "execution_count": 13,
     "metadata": {},
     "output_type": "execute_result"
    }
   ],
   "source": [
    "validcapacity(s::State) = 0 ≤ s.c # maybe try back to 0 "
   ]
  },
  {
   "cell_type": "markdown",
   "id": "9be60758",
   "metadata": {},
   "source": [
    "**Transition Function** "
   ]
  },
  {
   "cell_type": "code",
   "execution_count": 14,
   "id": "bf68a83a",
   "metadata": {},
   "outputs": [
    {
     "data": {
      "text/plain": [
       "T (generic function with 1 method)"
      ]
     },
     "execution_count": 14,
     "metadata": {},
     "output_type": "execute_result"
    }
   ],
   "source": [
    "#***** OLD ONE THAT WORKED ******\n",
    "function T(s::State, a::Action)\n",
    "    next_states = []\n",
    "    if validtime(s) \n",
    "        \n",
    "        f′ = rand(params.family_sizes) # pull according to those probabilities \n",
    "        v′ = rand(params.visa_status) # TODO: possibly make this weighted in some way \n",
    "        # keep pushing to next states and have a bigger associated probability mass with those possible next states. \n",
    "        # need a for loop iterating over all family sizes and and visa statuses \n",
    "        \n",
    "        if a == ACCEPT \n",
    "            next_state_accept = State(s.c - s.f, s.t - 1, f′, v′) # they get seats\n",
    "            next_state_reject = State(s.c, s.t - 1, f′, v′)\n",
    "            push!(next_states, next_state_accept)\n",
    "            push!(next_states, next_state_reject)\n",
    "            if !validcapacity(next_state_accept) \n",
    "                probabilities = [0, 1] #no room for full family :( so we make probability 0 to accept and 1 reject\n",
    "            else\n",
    "                probabilities = [.80, .20]\n",
    "            end\n",
    "\n",
    "        elseif a == REJECT\n",
    "            probabilities = [1.0]\n",
    "            push!(next_states, State(s.c, s.t - 1, f′, v′))\n",
    "        end\n",
    "    else\n",
    "        push!(next_states,params.null_state)\n",
    "        probabilities = [1]\n",
    "    end\n",
    "    return SparseCat(next_states, probabilities)\n",
    "end"
   ]
  },
  {
   "cell_type": "code",
   "execution_count": null,
   "id": "7d3d0137",
   "metadata": {},
   "outputs": [],
   "source": [
    "# #***** ENUMERATING OVER ALL STATES ******\n",
    "\n",
    "# function T(s::State, a::Action)\n",
    "#     #c::Int # chairs remaining \n",
    "#     #t::Int # time remaining \n",
    "#     #f::Int # family size \n",
    "#     #v::Int # visa status \n",
    "#     next_states = []\n",
    "#     probabilities = [] \n",
    "\n",
    "# #     if !validtime(s) \n",
    "# #         push!(next_states,params.null_state)\n",
    "# #         push!(probabilities, 1) # double check \n",
    "# #     else\n",
    "#     if validtime(s)\n",
    "#         if a == ACCEPT \n",
    "#             next_state_accept = State(s.c - s.f, s.t - 1, 1, 1) # they get seats\n",
    "#             if !validcapacity(next_state_accept) \n",
    "#                 prob = [0,1] #no room for full family :( so we make probability 0 to accept and 1 reject\n",
    "#             else\n",
    "#                 prob = params.accept_prob\n",
    "#             end\n",
    "#             for f in 1:length(params.family_sizes)\n",
    "#                 for v in 1:length(params.visa_status)\n",
    "#                      #if get on plan\n",
    "#                     push!(next_states, State(s.c - s.f, s.t - 1, params.family_sizes[f], params.visa_status[v]))\n",
    "#                     push!(probabilities, prob[1] * params.visa_prob[v] * params.family_prob[f])\n",
    "#                      #if not\n",
    "#                     push!(next_states, State(s.c, s.t - 1, params.family_sizes[f], params.visa_status[v]))\n",
    "#                     push!(probabilities, prob[2] * params.visa_prob[v] * params.family_prob[f])                    \n",
    "#                 end\n",
    "#             end\n",
    "#         else   #if reject     \n",
    "#             for f in 1:length(params.family_sizes)\n",
    "#                 for v in 1:length(params.visa_status)\n",
    "#                     push!(next_states, State(s.c, s.t - 1, params.family_sizes[f], params.visa_status[v]))\n",
    "#                     push!(probabilities, params.reject_prob[1] * params.visa_prob[v] * params.family_prob[f])    \n",
    "#                 end\n",
    "#             end  \n",
    "#         end\n",
    "#     end                \n",
    "#     return SparseCat(next_states, probabilities)\n",
    "# end      "
   ]
  },
  {
   "cell_type": "code",
   "execution_count": null,
   "id": "66ddbe7f",
   "metadata": {},
   "outputs": [],
   "source": [
    "#check = T(State(2,0,2,2), ACCEPT)\n",
    "#check = T(State(0,10,2,2), ACCEPT) # im confused with what should be happening here...."
   ]
  },
  {
   "cell_type": "markdown",
   "id": "9b7629b2",
   "metadata": {},
   "source": [
    "**Reward Function**"
   ]
  },
  {
   "cell_type": "code",
   "execution_count": 15,
   "id": "c0022d74",
   "metadata": {},
   "outputs": [
    {
     "data": {
      "text/plain": [
       "R (generic function with 1 method)"
      ]
     },
     "execution_count": 15,
     "metadata": {},
     "output_type": "execute_result"
    }
   ],
   "source": [
    "function R(s::State, a::Action)\n",
    "    # reward is just the visa status times family size i think! \n",
    "    if a == ACCEPT\n",
    "        return s.v*s.f\n",
    "    end\n",
    "    return 0\n",
    "end "
   ]
  },
  {
   "cell_type": "code",
   "execution_count": 17,
   "id": "2179f471",
   "metadata": {},
   "outputs": [
    {
     "data": {
      "text/plain": [
       "0.95"
      ]
     },
     "execution_count": 17,
     "metadata": {},
     "output_type": "execute_result"
    }
   ],
   "source": [
    "γ = 0.95"
   ]
  },
  {
   "cell_type": "code",
   "execution_count": 18,
   "id": "00c36682",
   "metadata": {},
   "outputs": [
    {
     "data": {
      "text/plain": [
       "termination (generic function with 1 method)"
      ]
     },
     "execution_count": 18,
     "metadata": {},
     "output_type": "execute_result"
    }
   ],
   "source": [
    "termination(s::State)= s == params.null_state # change to 1 or the other "
   ]
  },
  {
   "cell_type": "markdown",
   "id": "4f975135",
   "metadata": {},
   "source": [
    "**MDP Formulation**"
   ]
  },
  {
   "cell_type": "code",
   "execution_count": 19,
   "id": "aa4058f8",
   "metadata": {},
   "outputs": [],
   "source": [
    "# We define the Airport abstract MDP type so we can reference it in other methods.\n",
    "abstract type Evacuation <: MDP{State, Action} end"
   ]
  },
  {
   "cell_type": "code",
   "execution_count": 20,
   "id": "6f0ad105",
   "metadata": {},
   "outputs": [
    {
     "data": {
      "text/plain": [
       "State(60, 60, 5, 0)"
      ]
     },
     "execution_count": 20,
     "metadata": {},
     "output_type": "execute_result"
    }
   ],
   "source": [
    "c_initial = params.capacity\n",
    "t_initial = params.time\n",
    "f_initial = rand(params.family_sizes, 1)[1]\n",
    "v_initial = rand(params.visa_status, 1)[1]\n",
    "\n",
    "initial_state = State(c_initial, t_initial, f_initial, v_initial)"
   ]
  },
  {
   "cell_type": "code",
   "execution_count": 21,
   "id": "028c9b87",
   "metadata": {},
   "outputs": [
    {
     "data": {
      "text/plain": [
       "1-element Vector{State}:\n",
       " State(60, 60, 5, 0)"
      ]
     },
     "execution_count": 21,
     "metadata": {},
     "output_type": "execute_result"
    }
   ],
   "source": [
    "statetype = typeof(initial_state)\n",
    "initialstate_array = [initial_state]"
   ]
  },
  {
   "cell_type": "code",
   "execution_count": 22,
   "id": "34895203",
   "metadata": {},
   "outputs": [],
   "source": [
    "mdp = QuickMDP(Evacuation,\n",
    "    states       = 𝒮,\n",
    "    actions      = 𝒜,\n",
    "    transition   = T,\n",
    "    reward       = R,\n",
    "    discount     = γ,\n",
    "    initialstate = initialstate_array, \n",
    "    isterminal   = termination,\n",
    "    render       = render,\n",
    "    statetype    = statetype \n",
    "    );"
   ]
  },
  {
   "cell_type": "code",
   "execution_count": 23,
   "id": "2dec2621",
   "metadata": {},
   "outputs": [],
   "source": [
    "solver = ValueIterationSolver(max_iterations=30, belres=1e-6, verbose=true);"
   ]
  },
  {
   "cell_type": "markdown",
   "id": "6d829758",
   "metadata": {},
   "source": [
    "**Policy**"
   ]
  },
  {
   "cell_type": "code",
   "execution_count": 25,
   "id": "7dbbd783",
   "metadata": {
    "scrolled": true
   },
   "outputs": [
    {
     "name": "stdout",
     "output_type": "stream",
     "text": [
      "[Iteration 1   ] residual:       74.3 | iteration runtime:    434.631 ms, (     0.435 s total)\n",
      "[Iteration 2   ] residual:       31.3 | iteration runtime:    349.290 ms, (     0.784 s total)\n",
      "[Iteration 3   ] residual:       24.8 | iteration runtime:    342.508 ms, (      1.13 s total)\n",
      "[Iteration 4   ] residual:         30 | iteration runtime:    350.235 ms, (      1.48 s total)\n",
      "[Iteration 5   ] residual:       29.4 | iteration runtime:    341.811 ms, (      1.82 s total)\n",
      "[Iteration 6   ] residual:       30.6 | iteration runtime:    353.092 ms, (      2.17 s total)\n",
      "[Iteration 7   ] residual:       31.9 | iteration runtime:    344.410 ms, (      2.52 s total)\n",
      "[Iteration 8   ] residual:       26.5 | iteration runtime:    347.537 ms, (      2.86 s total)\n",
      "[Iteration 9   ] residual:       25.7 | iteration runtime:    348.859 ms, (      3.21 s total)\n",
      "[Iteration 10  ] residual:       28.3 | iteration runtime:    340.445 ms, (      3.55 s total)\n",
      "[Iteration 11  ] residual:       32.2 | iteration runtime:    347.093 ms, (       3.9 s total)\n",
      "[Iteration 12  ] residual:         32 | iteration runtime:    341.493 ms, (      4.24 s total)\n",
      "[Iteration 13  ] residual:       33.6 | iteration runtime:    349.281 ms, (      4.59 s total)\n",
      "[Iteration 14  ] residual:       29.9 | iteration runtime:    340.760 ms, (      4.93 s total)\n",
      "[Iteration 15  ] residual:       30.1 | iteration runtime:    348.700 ms, (      5.28 s total)\n",
      "[Iteration 16  ] residual:       27.2 | iteration runtime:    352.459 ms, (      5.63 s total)\n",
      "[Iteration 17  ] residual:       27.9 | iteration runtime:    342.002 ms, (      5.97 s total)\n",
      "[Iteration 18  ] residual:       31.6 | iteration runtime:    350.200 ms, (      6.32 s total)\n",
      "[Iteration 19  ] residual:       35.9 | iteration runtime:    341.435 ms, (      6.67 s total)\n",
      "[Iteration 20  ] residual:       30.8 | iteration runtime:    354.610 ms, (      7.02 s total)\n",
      "[Iteration 21  ] residual:       26.9 | iteration runtime:    361.191 ms, (      7.38 s total)\n",
      "[Iteration 22  ] residual:       28.6 | iteration runtime:    352.906 ms, (      7.73 s total)\n",
      "[Iteration 23  ] residual:       24.4 | iteration runtime:    340.583 ms, (      8.08 s total)\n",
      "[Iteration 24  ] residual:       25.8 | iteration runtime:    350.160 ms, (      8.43 s total)\n",
      "[Iteration 25  ] residual:       31.5 | iteration runtime:    350.135 ms, (      8.78 s total)\n",
      "[Iteration 26  ] residual:       26.4 | iteration runtime:    355.562 ms, (      9.13 s total)\n",
      "[Iteration 27  ] residual:       27.5 | iteration runtime:    348.971 ms, (      9.48 s total)\n",
      "[Iteration 28  ] residual:       26.6 | iteration runtime:    344.869 ms, (      9.83 s total)\n",
      "[Iteration 29  ] residual:       33.5 | iteration runtime:    349.949 ms, (      10.2 s total)\n",
      "[Iteration 30  ] residual:         32 | iteration runtime:    342.089 ms, (      10.5 s total)\n"
     ]
    },
    {
     "data": {
      "text/plain": [
       "ValueIterationPolicy:\n",
       " State(0, 0, 1, -2) -> REJECT\n",
       " State(0, 0, 1, -1) -> REJECT\n",
       " State(0, 0, 1, 0) -> REJECT\n",
       " State(0, 0, 1, 1) -> ACCEPT\n",
       " State(0, 0, 1, 2) -> ACCEPT\n",
       " State(0, 0, 2, -2) -> REJECT\n",
       " State(0, 0, 2, -1) -> REJECT\n",
       " State(0, 0, 2, 0) -> REJECT\n",
       " State(0, 0, 2, 1) -> ACCEPT\n",
       " State(0, 0, 2, 2) -> ACCEPT\n",
       " State(0, 0, 3, -2) -> REJECT\n",
       " State(0, 0, 3, -1) -> REJECT\n",
       " State(0, 0, 3, 0) -> REJECT\n",
       " State(0, 0, 3, 1) -> ACCEPT\n",
       " State(0, 0, 3, 2) -> ACCEPT\n",
       " State(0, 0, 4, -2) -> REJECT\n",
       " State(0, 0, 4, -1) -> REJECT\n",
       " State(0, 0, 4, 0) -> REJECT\n",
       " State(0, 0, 4, 1) -> ACCEPT\n",
       " State(0, 0, 4, 2) -> ACCEPT\n",
       " State(0, 0, 5, -2) -> REJECT\n",
       " State(0, 0, 5, -1) -> REJECT\n",
       " State(0, 0, 5, 0) -> REJECT\n",
       " State(0, 0, 5, 1) -> ACCEPT\n",
       " State(0, 0, 5, 2) -> ACCEPT\n",
       " …"
      ]
     },
     "execution_count": 25,
     "metadata": {},
     "output_type": "execute_result"
    }
   ],
   "source": [
    "mdp_policy = solve(solver, mdp) "
   ]
  },
  {
   "cell_type": "markdown",
   "id": "d0b557df",
   "metadata": {},
   "source": [
    "**Basesline Policies**"
   ]
  },
  {
   "cell_type": "code",
   "execution_count": 26,
   "id": "a74102f8",
   "metadata": {},
   "outputs": [
    {
     "data": {
      "text/plain": [
       "AcceptAll()"
      ]
     },
     "execution_count": 26,
     "metadata": {},
     "output_type": "execute_result"
    }
   ],
   "source": [
    "\"\"\"AcceptAll\"\"\"\n",
    "struct AcceptAll <: Policy end\n",
    "\n",
    "# accept everyone until capacity is 0\n",
    "function POMDPs.action(::AcceptAll, s::State)    # action(policy, state)\n",
    "    return ACCEPT\n",
    "end;\n",
    "\n",
    "AcceptAll_policy = AcceptAll()"
   ]
  },
  {
   "cell_type": "code",
   "execution_count": 28,
   "id": "93128860",
   "metadata": {},
   "outputs": [
    {
     "data": {
      "text/plain": [
       "AMCITS()"
      ]
     },
     "execution_count": 28,
     "metadata": {},
     "output_type": "execute_result"
    }
   ],
   "source": [
    "\"\"\"AMCITS\"\"\"\n",
    "struct AMCITS <: Policy end\n",
    "\n",
    "function POMDPs.action(::AMCITS, s::State)\n",
    "    return (s.v == 2)  ? ACCEPT : REJECT\n",
    "end;\n",
    "\n",
    "AMCITS_policy = AMCITS()"
   ]
  },
  {
   "cell_type": "code",
   "execution_count": 29,
   "id": "2ba06f60",
   "metadata": {},
   "outputs": [
    {
     "data": {
      "text/plain": [
       "SIV_AMCITS()"
      ]
     },
     "execution_count": 29,
     "metadata": {},
     "output_type": "execute_result"
    }
   ],
   "source": [
    "\"\"\"SIV_AMCITS \"\"\"\n",
    "struct SIV_AMCITS <: Policy end\n",
    "\n",
    "function POMDPs.action(::SIV_AMCITS, s::State)\n",
    "    return (s.v == 2 || s.v == 1) ? ACCEPT : REJECT\n",
    "end;\n",
    "SIV_AMCITS_policy = SIV_AMCITS()"
   ]
  },
  {
   "cell_type": "code",
   "execution_count": 30,
   "id": "3b4fd55e",
   "metadata": {},
   "outputs": [
    {
     "data": {
      "text/plain": [
       "AfterThresholdAMCITS\n",
       "  threshold: Int64 20\n"
      ]
     },
     "execution_count": 30,
     "metadata": {},
     "output_type": "execute_result"
    }
   ],
   "source": [
    "\"\"\"AfterThresholdAMCITS\"\"\"\n",
    "# if want to change this need to make it a mutable struct \n",
    "@with_kw struct AfterThresholdAMCITS <: Policy\n",
    "    threshold = 20 # could define this in parameters \n",
    "end\n",
    "\n",
    "function POMDPs.action(policy::AfterThresholdAMCITS, s::State)\n",
    "    if s.t <= 20 #policy.threshold\n",
    "        return s.v == 5 ? ACCEPT : REJECT\n",
    "    else\n",
    "        return action(mdp_policy, s)\n",
    "    end\n",
    "end\n",
    "\n",
    "SIV_AfterThresholdAMCITS_policy = AfterThresholdAMCITS()"
   ]
  },
  {
   "cell_type": "code",
   "execution_count": 31,
   "id": "26a8cd1d",
   "metadata": {},
   "outputs": [
    {
     "data": {
      "text/plain": [
       "BeforeThresholdAMCITS\n",
       "  threshold: Int64 20\n"
      ]
     },
     "execution_count": 31,
     "metadata": {},
     "output_type": "execute_result"
    }
   ],
   "source": [
    "\"\"\"BeforeThresholdAMCITS\"\"\"\n",
    "@with_kw struct BeforeThresholdAMCITS <: Policy\n",
    "    threshold = 20\n",
    "end\n",
    "\n",
    "function POMDPs.action(policy::BeforeThresholdAMCITS, s::State)\n",
    "    if s.t >= 20 #policy.threshold\n",
    "        return s.v == 5 ? ACCEPT : REJECT\n",
    "    else\n",
    "        return action(mdp_policy, s)\n",
    "    end\n",
    "end\n",
    "\n",
    "        \n",
    "BeforeThresholdAMCITS_policy = BeforeThresholdAMCITS()\n",
    "#simulations(BeforeThresholdAMCITS_policy, mdp, 10)\n",
    "# could play with changing this threshold\n"
   ]
  },
  {
   "cell_type": "markdown",
   "id": "50ef9852",
   "metadata": {},
   "source": [
    "**Simulation**"
   ]
  },
  {
   "cell_type": "code",
   "execution_count": 33,
   "id": "a2d0fba8",
   "metadata": {},
   "outputs": [
    {
     "data": {
      "text/plain": [
       "simulation (generic function with 1 method)"
      ]
     },
     "execution_count": 33,
     "metadata": {},
     "output_type": "execute_result"
    }
   ],
   "source": [
    "# # for reference, this is what is happening in sim\n",
    "# # b = initialize_belief(up, b0)\n",
    "\n",
    "# r_total = 0.0\n",
    "# d = 1.0\n",
    "# while !isterminal(pomdp, s)\n",
    "#     a = action(policy, b)\n",
    "#     s, o, r = @gen(:sp,:o,:r)(pomdp, s, a) # gen is \n",
    "#     r_total += d*r\n",
    "#     d *= discount(pomdp)\n",
    "#     b = update(up, b, a, o)\n",
    "# end\n",
    "\n",
    "# gen is     \n",
    "#     sp = rand(transition(pomdp, s, a))\n",
    "#     o = rand(observation(pomdp, s, a, sp))\n",
    "#     r = reward(pomdp, s, a, sp, o)\n",
    "#     s = sp\n",
    "# function simulation(policy, mdp)\n",
    "#     sim = RolloutSimulator()\n",
    "#     r = simulate(sim, mdp, policy) #accumulated discounted reward \n",
    "#     # could we also return the number of ppl on the plane? \n",
    "#     return r\n",
    "# end\n",
    "# sim w/ out history \n",
    "# function simulation(policy, mdp)\n",
    "#     sim = RolloutSimulator()\n",
    "#     r = simulate(sim, mdp, policy) #accumulated discounted reward \n",
    "#     # could we also return the number of ppl on the plane? \n",
    "#     return r\n",
    "# end\n",
    "# INTEGRATE HISTORY HERE https://juliapomdp.github.io/POMDPSimulators.jl/latest/histories/#Examples and use in stats\n",
    "function simulation(policy, mdp)\n",
    "    hr = HistoryRecorder()\n",
    "    #sim = RolloutSimulator()\n",
    "    history = simulate(hr, mdp, policy)\n",
    "    #r = simulate(sim, mdp, policy) #accumulated discounted reward \n",
    "    # could we also return the number of ppl on the plane? \n",
    "    return history\n",
    "end\n"
   ]
  },
  {
   "cell_type": "code",
   "execution_count": 34,
   "id": "ea492a78",
   "metadata": {
    "scrolled": true
   },
   "outputs": [
    {
     "data": {
      "text/plain": [
       "61-element SimHistory{NamedTuple{(:s, :a, :sp, :r, :info, :t, :action_info), Tuple{State, Action, State, Int64, Nothing, Int64, Nothing}}, Float64}:\n",
       " (s = State(60, 60, 5, 0), a = ACCEPT, sp = State(55, 59, 1, 1), r = 0, info = nothing, t = 1, action_info = nothing)\n",
       " (s = State(55, 59, 1, 1), a = ACCEPT, sp = State(55, 58, 4, 0), r = 1, info = nothing, t = 2, action_info = nothing)\n",
       " (s = State(55, 58, 4, 0), a = REJECT, sp = State(55, 57, 3, 2), r = 0, info = nothing, t = 3, action_info = nothing)\n",
       " (s = State(55, 57, 3, 2), a = ACCEPT, sp = State(52, 56, 4, -2), r = 6, info = nothing, t = 4, action_info = nothing)\n",
       " (s = State(52, 56, 4, -2), a = REJECT, sp = State(52, 55, 5, -2), r = 0, info = nothing, t = 5, action_info = nothing)\n",
       " (s = State(52, 55, 5, -2), a = REJECT, sp = State(52, 54, 2, 0), r = 0, info = nothing, t = 6, action_info = nothing)\n",
       " (s = State(52, 54, 2, 0), a = REJECT, sp = State(52, 53, 4, 0), r = 0, info = nothing, t = 7, action_info = nothing)\n",
       " (s = State(52, 53, 4, 0), a = REJECT, sp = State(52, 52, 4, -1), r = 0, info = nothing, t = 8, action_info = nothing)\n",
       " (s = State(52, 52, 4, -1), a = ACCEPT, sp = State(52, 51, 5, -2), r = -4, info = nothing, t = 9, action_info = nothing)\n",
       " (s = State(52, 51, 5, -2), a = REJECT, sp = State(52, 50, 3, -2), r = 0, info = nothing, t = 10, action_info = nothing)\n",
       " (s = State(52, 50, 3, -2), a = REJECT, sp = State(52, 49, 4, 2), r = 0, info = nothing, t = 11, action_info = nothing)\n",
       " (s = State(52, 49, 4, 2), a = ACCEPT, sp = State(48, 48, 4, 0), r = 8, info = nothing, t = 12, action_info = nothing)\n",
       " (s = State(48, 48, 4, 0), a = ACCEPT, sp = State(44, 47, 4, 0), r = 0, info = nothing, t = 13, action_info = nothing)\n",
       " ⋮\n",
       " (s = State(3, 11, 5, 2), a = ACCEPT, sp = State(3, 10, 5, 0), r = 10, info = nothing, t = 50, action_info = nothing)\n",
       " (s = State(3, 10, 5, 0), a = REJECT, sp = State(3, 9, 3, 0), r = 0, info = nothing, t = 51, action_info = nothing)\n",
       " (s = State(3, 9, 3, 0), a = ACCEPT, sp = State(0, 8, 5, -2), r = 0, info = nothing, t = 52, action_info = nothing)\n",
       " (s = State(0, 8, 5, -2), a = REJECT, sp = State(0, 7, 3, 0), r = 0, info = nothing, t = 53, action_info = nothing)\n",
       " (s = State(0, 7, 3, 0), a = REJECT, sp = State(0, 6, 3, 1), r = 0, info = nothing, t = 54, action_info = nothing)\n",
       " (s = State(0, 6, 3, 1), a = ACCEPT, sp = State(0, 5, 1, 1), r = 3, info = nothing, t = 55, action_info = nothing)\n",
       " (s = State(0, 5, 1, 1), a = ACCEPT, sp = State(0, 4, 5, 0), r = 1, info = nothing, t = 56, action_info = nothing)\n",
       " (s = State(0, 4, 5, 0), a = ACCEPT, sp = State(0, 3, 4, -1), r = 0, info = nothing, t = 57, action_info = nothing)\n",
       " (s = State(0, 3, 4, -1), a = REJECT, sp = State(0, 2, 4, 0), r = 0, info = nothing, t = 58, action_info = nothing)\n",
       " (s = State(0, 2, 4, 0), a = ACCEPT, sp = State(0, 1, 5, -1), r = 0, info = nothing, t = 59, action_info = nothing)\n",
       " (s = State(0, 1, 5, -1), a = REJECT, sp = State(0, 0, 1, -2), r = 0, info = nothing, t = 60, action_info = nothing)\n",
       " (s = State(0, 0, 1, -2), a = REJECT, sp = State(-1, -1, -1, -1), r = 0, info = nothing, t = 61, action_info = nothing)"
      ]
     },
     "execution_count": 34,
     "metadata": {},
     "output_type": "execute_result"
    }
   ],
   "source": [
    "mdp_history = simulation(mdp_policy, mdp)"
   ]
  },
  {
   "cell_type": "code",
   "execution_count": 35,
   "id": "6e4f9567",
   "metadata": {},
   "outputs": [
    {
     "data": {
      "text/plain": [
       "get_metrics (generic function with 1 method)"
      ]
     },
     "execution_count": 35,
     "metadata": {},
     "output_type": "execute_result"
    }
   ],
   "source": [
    "function get_metrics(history)\n",
    "    # THIS IS SO COOL AH \n",
    "    total_accepted_people = 0\n",
    "    total_accepted_families = 0 \n",
    "    total_rejected_people = 0\n",
    "    total_rejected_families = 0\n",
    "    total_reward = 0\n",
    "    # Initialize visa_statuses dictionary\n",
    "    visa_statuses = params.visa_status\n",
    "    visa_dict_accepts = Dict()\n",
    "    for v in visa_statuses\n",
    "        visa_dict_accepts[v] = 0\n",
    "    end\n",
    "    visa_dict_rejects = Dict()\n",
    "    for v in visa_statuses\n",
    "        visa_dict_rejects[v] = 0\n",
    "    end\n",
    "\n",
    "    # State(c, t, f, v)\n",
    "    for (s, a, r, sp) in eachstep(history, \"(s, a, r, sp)\") \n",
    "        # only counting the s not sp so as not to double count \n",
    "        if a==ACCEPT\n",
    "            total_accepted_people += s.f\n",
    "            total_accepted_families += 1\n",
    "            visa_dict_accepts[s.v] += 1\n",
    "        else # action is reject \n",
    "            total_rejected_people += 1\n",
    "            total_rejected_families +=1\n",
    "            visa_dict_rejects[s.v] += 1\n",
    "        end\n",
    "\n",
    "        total_reward += r\n",
    "        return total_accepted_people, total_accepted_families, total_reward, visa_dict_accepts \n",
    "        println(\"reward $r received when state $sp was reached after action $a was taken in state $s\")\n",
    "    end\n",
    "end"
   ]
  },
  {
   "cell_type": "code",
   "execution_count": 36,
   "id": "eaf301a6",
   "metadata": {},
   "outputs": [
    {
     "data": {
      "text/plain": [
       "(5, 1, 0, Dict{Any, Any}(0 => 1, -1 => 0, 2 => 0, -2 => 0, 1 => 0))"
      ]
     },
     "execution_count": 36,
     "metadata": {},
     "output_type": "execute_result"
    }
   ],
   "source": [
    "total_accepted_people, total_accepted_families, total_reward, visa_dict_accepts = get_metrics(mdp_history)"
   ]
  },
  {
   "cell_type": "code",
   "execution_count": 37,
   "id": "cca30a79",
   "metadata": {},
   "outputs": [
    {
     "data": {
      "text/plain": [
       "reward_simulations (generic function with 1 method)"
      ]
     },
     "execution_count": 37,
     "metadata": {},
     "output_type": "execute_result"
    }
   ],
   "source": [
    "# function reward_simulations(policy, mdp, n_sims) # n is number of times to run \n",
    "#     policy_rewards = []\n",
    "#     for i in 1:n_sims\n",
    "#         push!(policy_rewards, simulation(policy, mdp))\n",
    "#     end\n",
    "#     std_policy_reward = std(policy_rewards)\n",
    "#     mean_policy_reward = mean(policy_rewards)\n",
    "#     return mean_policy_reward, std_policy_reward\n",
    "# end"
   ]
  },
  {
   "cell_type": "code",
   "execution_count": 40,
   "id": "ab29d422",
   "metadata": {},
   "outputs": [
    {
     "data": {
      "text/plain": [
       "reward_simulations (generic function with 1 method)"
      ]
     },
     "execution_count": 40,
     "metadata": {},
     "output_type": "execute_result"
    }
   ],
   "source": [
    "function reward_simulations(policy, mdp, n_sims) # n is number of times to run \n",
    "    histories = []\n",
    "    for i in 1:n_sims\n",
    "        push!(histories, simulation(policy, mdp))\n",
    "    end\n",
    "    \n",
    "    list_total_accepted_people = []\n",
    "    list_total_accepted_families = []\n",
    "    list_total_reward = []\n",
    "    list_visa_dict_accepts = []\n",
    "    \n",
    "    for history in histories\n",
    "        total_accepted_people, total_accepted_families, total_reward, visa_dict_accepts = get_metrics(history)\n",
    "        push!(list_total_accepted_people, total_accepted_people)\n",
    "        push!(list_total_accepted_families, total_accepted_families)\n",
    "        push!(list_total_reward, total_reward)\n",
    "        push!(list_visa_dict_accepts, visa_dict_accepts)\n",
    "    end\n",
    "    \n",
    "    mean_total_accepted_people = mean(list_total_accepted_people)\n",
    "    std_list_total_accepted_people = std(list_total_accepted_people)\n",
    "    mean_list_total_accepted_families = mean(list_total_accepted_families)\n",
    "    std_list_total_accepted_families = std(list_total_accepted_families)\n",
    "    mean_list_total_reward = mean(list_total_reward)\n",
    "    std_list_total_reward = std(list_total_reward)\n",
    "    mean_list_visa_dict_accepts = mean(list_visa_dict_accepts) \n",
    "    std_list_visa_dict_accepts  = std(list_visa_dict_accepts) \n",
    "    \n",
    "end"
   ]
  },
  {
   "cell_type": "code",
   "execution_count": null,
   "id": "755db7fd",
   "metadata": {},
   "outputs": [],
   "source": [
    "reward_simulations(policy, mdp, n_sims)"
   ]
  },
  {
   "cell_type": "code",
   "execution_count": 38,
   "id": "dff9f1b1",
   "metadata": {},
   "outputs": [
    {
     "data": {
      "text/plain": [
       "experiments (generic function with 1 method)"
      ]
     },
     "execution_count": 38,
     "metadata": {},
     "output_type": "execute_result"
    }
   ],
   "source": [
    "function experiments()\n",
    "    # policies and n_sims can probably be put in our params function as a list. here for now. \n",
    "    n_sims = 10\n",
    "    policies = [AcceptAll_policy, AMCITS_policy, \n",
    "        SIV_AMCITS_policy, SIV_AfterThresholdAMCITS_policy, \n",
    "        BeforeThresholdAMCITS_policy]\n",
    "    m_std_rewards = []\n",
    "    for curr_policy in policies\n",
    "        push!(m_std_rewards, reward_simulations(curr_policy, mdp, n_sims))\n",
    "    end\n",
    "\n",
    "    return m_std_rewards\n",
    "\n",
    "end"
   ]
  },
  {
   "cell_type": "code",
   "execution_count": 39,
   "id": "880a5549",
   "metadata": {},
   "outputs": [
    {
     "ename": "LoadError",
     "evalue": "MethodError: no method matching /(::NamedTuple{(:s, :a, :sp, :r, :info, :t, :action_info), Tuple{State, Action, State, Int64, Nothing, Int64, Nothing}}, ::Int64)\n\u001b[0mClosest candidates are:\n\u001b[0m  /(::Any, \u001b[91m::ChainRulesCore.AbstractThunk\u001b[39m) at /Users/lisaeinstein/.julia/packages/ChainRulesCore/MhCRV/src/tangent_types/thunks.jl:33\n\u001b[0m  /(\u001b[91m::Union{Int128, Int16, Int32, Int64, Int8, UInt128, UInt16, UInt32, UInt64, UInt8}\u001b[39m, ::Union{Int128, Int16, Int32, Int64, Int8, UInt128, UInt16, UInt32, UInt64, UInt8}) at int.jl:93\n\u001b[0m  /(\u001b[91m::StridedArray{P, N} where N\u001b[39m, ::Real) where P<:Dates.Period at /Users/julia/buildbot/worker/package_macos64/build/usr/share/julia/stdlib/v1.6/Dates/src/deprecated.jl:44\n\u001b[0m  ...",
     "output_type": "error",
     "traceback": [
      "MethodError: no method matching /(::NamedTuple{(:s, :a, :sp, :r, :info, :t, :action_info), Tuple{State, Action, State, Int64, Nothing, Int64, Nothing}}, ::Int64)\n\u001b[0mClosest candidates are:\n\u001b[0m  /(::Any, \u001b[91m::ChainRulesCore.AbstractThunk\u001b[39m) at /Users/lisaeinstein/.julia/packages/ChainRulesCore/MhCRV/src/tangent_types/thunks.jl:33\n\u001b[0m  /(\u001b[91m::Union{Int128, Int16, Int32, Int64, Int8, UInt128, UInt16, UInt32, UInt64, UInt8}\u001b[39m, ::Union{Int128, Int16, Int32, Int64, Int8, UInt128, UInt16, UInt32, UInt64, UInt8}) at int.jl:93\n\u001b[0m  /(\u001b[91m::StridedArray{P, N} where N\u001b[39m, ::Real) where P<:Dates.Period at /Users/julia/buildbot/worker/package_macos64/build/usr/share/julia/stdlib/v1.6/Dates/src/deprecated.jl:44\n\u001b[0m  ...",
      "",
      "Stacktrace:",
      "  [1] _broadcast_getindex_evalf",
      "    @ ./broadcast.jl:648 [inlined]",
      "  [2] _broadcast_getindex",
      "    @ ./broadcast.jl:621 [inlined]",
      "  [3] getindex",
      "    @ ./broadcast.jl:575 [inlined]",
      "  [4] copy",
      "    @ ./broadcast.jl:922 [inlined]",
      "  [5] materialize",
      "    @ ./broadcast.jl:883 [inlined]",
      "  [6] broadcast_preserving_zero_d",
      "    @ ./broadcast.jl:872 [inlined]",
      "  [7] /(A::SimHistory{NamedTuple{(:s, :a, :sp, :r, :info, :t, :action_info), Tuple{State, Action, State, Int64, Nothing, Int64, Nothing}}, Float64}, B::Int64)",
      "    @ Base ./arraymath.jl:55",
      "  [8] _mean(f::typeof(identity), A::Vector{Any}, dims::Colon)",
      "    @ Statistics /Users/julia/buildbot/worker/package_macos64/build/usr/share/julia/stdlib/v1.6/Statistics/src/Statistics.jl:176",
      "  [9] #mean#2",
      "    @ /Users/julia/buildbot/worker/package_macos64/build/usr/share/julia/stdlib/v1.6/Statistics/src/Statistics.jl:164 [inlined]",
      " [10] mean",
      "    @ /Users/julia/buildbot/worker/package_macos64/build/usr/share/julia/stdlib/v1.6/Statistics/src/Statistics.jl:164 [inlined]",
      " [11] _var(A::Vector{Any}, corrected::Bool, mean::Nothing, #unused#::Colon)",
      "    @ Statistics /Users/julia/buildbot/worker/package_macos64/build/usr/share/julia/stdlib/v1.6/Statistics/src/Statistics.jl:371",
      " [12] #var#15",
      "    @ /Users/julia/buildbot/worker/package_macos64/build/usr/share/julia/stdlib/v1.6/Statistics/src/Statistics.jl:366 [inlined]",
      " [13] _std(A::Vector{Any}, corrected::Bool, mean::Nothing, #unused#::Colon)",
      "    @ Statistics /Users/julia/buildbot/worker/package_macos64/build/usr/share/julia/stdlib/v1.6/Statistics/src/Statistics.jl:446",
      " [14] #std#18",
      "    @ /Users/julia/buildbot/worker/package_macos64/build/usr/share/julia/stdlib/v1.6/Statistics/src/Statistics.jl:441 [inlined]",
      " [15] std",
      "    @ /Users/julia/buildbot/worker/package_macos64/build/usr/share/julia/stdlib/v1.6/Statistics/src/Statistics.jl:441 [inlined]",
      " [16] reward_simulations(policy::AcceptAll, mdp::QuickMDP{Evacuation, State, Action, NamedTuple{(:stateindex, :isterminal, :states, :statetype, :discount, :render, :actions, :actionindex, :transition, :reward, :initialstate), Tuple{Dict{State, Int64}, typeof(termination), Vector{Any}, DataType, Float64, typeof(render), Vector{Action}, Dict{Action, Int64}, typeof(T), typeof(R), Vector{State}}}}, n_sims::Int64)",
      "    @ Main ./In[37]:6",
      " [17] experiments()",
      "    @ Main ./In[38]:9",
      " [18] top-level scope",
      "    @ In[39]:1",
      " [19] eval",
      "    @ ./boot.jl:360 [inlined]",
      " [20] include_string(mapexpr::typeof(REPL.softscope), mod::Module, code::String, filename::String)",
      "    @ Base ./loading.jl:1116"
     ]
    }
   ],
   "source": [
    "mean_std_rewards = experiments()"
   ]
  },
  {
   "cell_type": "markdown",
   "id": "b5c6b89c",
   "metadata": {},
   "source": [
    "**Visualizations**"
   ]
  },
  {
   "cell_type": "code",
   "execution_count": null,
   "id": "63cda74b",
   "metadata": {},
   "outputs": [],
   "source": [
    "function vis_time_step(policy, history, c, t) # pass in policy and chairs and time remaing. Spit out graph of family size versus visa status.\n",
    "    (v_size, f_size) = params.size  #visa, family 5, 5\n",
    "    policyGraph = zeros(v_size, f_size) \n",
    "    \n",
    "#     visa_statuses=params.visa_status\n",
    "#     family_sizes=params.family_sizes\n",
    "    \n",
    "    index = 1\n",
    "    visatoindx_dict = Dict()\n",
    "    for v in visa_statuses\n",
    "        visatoindx_dict[v] = index\n",
    "        index += 1\n",
    "    end\n",
    "    \n",
    "\n",
    "#    State(12, 8, 3, 1) (c, t, v, f)\n",
    "    for (s, a, r, sp) in eachstep(mdp_history, \"(s, a, r, sp)\") \n",
    "        if (s.c == c && s.t == t)\n",
    "            if a == ACCEPT\n",
    "                #println(s.v, s.f)\n",
    "                policyGraph[visatoindx_dict[s.v], s.f] = 100\n",
    "            end\n",
    "        end\n",
    "    end\n",
    "        \n",
    "#     for f in 1:f_size\n",
    "#         for v in 1:v_size\n",
    "#             act = action(policy, State(c, t, family_sizes[f], visa_statuses[v])) \n",
    "#             if act == ACCEPT\n",
    "#                 policyGraph[v,f] = 100\n",
    "#             else\n",
    "#                 policyGraph[v,f] = 0\n",
    "#             end\n",
    "#         end\n",
    "#     end\n",
    "    \n",
    "    x=params.visa_status\n",
    "    y=params.family_sizes\n",
    "    z=policyGraph'\n",
    "    title_time_cap=\"t = $t c = $c $policy\" # MAKE title smaller \n",
    "    return heatmap(x, y, z, \n",
    "        aspect_ratio = :equal, \n",
    "        legend = :none, \n",
    "        xlims = (params.visa_status[1], \n",
    "        params.visa_status[length(params.visa_status)]), \n",
    "        xlabel = \"Visa Status\", \n",
    "        ylabel = \"Family Size\", \n",
    "        ylims = (params.family_sizes[1], \n",
    "        params.family_sizes[length(params.family_sizes)]), \n",
    "        title=title_time_cap, \n",
    "        xtickfont = font(5, \"Courier\"), \n",
    "        ytickfont = font(5, \"Courier\"),\n",
    "        thickness_scaling = .5,\n",
    "        palette = cgrad([:red, :green], [0, 1]),\n",
    "        )\n",
    "    \n",
    "end"
   ]
  },
  {
   "cell_type": "code",
   "execution_count": null,
   "id": "b2c8c0d9",
   "metadata": {},
   "outputs": [],
   "source": [
    "x = vis_time_step(mdp_policy, mdp_history, 10, 30)"
   ]
  },
  {
   "cell_type": "code",
   "execution_count": null,
   "id": "e6545eb2",
   "metadata": {},
   "outputs": [],
   "source": [
    "function vis_all(policy)\n",
    "    total_time = params.time \n",
    "    total_capacity = params.capacity\n",
    "    graph_per_n = 4\n",
    "    heat_maps = []\n",
    "    time_points = (total_time/graph_per_n) + 1 # to include 0 \n",
    "    capacity_points = (total_capacity/graph_per_n) + 1 \n",
    "    num_graphs = trunc(Int, time_points*capacity_points)\n",
    "    \n",
    "    for t in 0:total_time\n",
    "        if t % graph_per_n == 0 \n",
    "            for c in 0:total_capacity\n",
    "                if c % graph_per_n == 0\n",
    "                push!(heat_maps, vis_time_step(policy, c, t))\n",
    "                end\n",
    "            end\n",
    "        end\n",
    "    end \n",
    "    plot((heat_maps...), layout = num_graphs, margin = 5mm)\n",
    "\n",
    "end"
   ]
  },
  {
   "cell_type": "code",
   "execution_count": null,
   "id": "7010dfb1",
   "metadata": {},
   "outputs": [],
   "source": [
    "vis_all(policy) # THIS IS VISIA;L"
   ]
  },
  {
   "cell_type": "code",
   "execution_count": null,
   "id": "65a79631",
   "metadata": {},
   "outputs": [],
   "source": [
    "vis_all(AcceptAll_policy)"
   ]
  },
  {
   "cell_type": "code",
   "execution_count": null,
   "id": "fb6155e1",
   "metadata": {},
   "outputs": [],
   "source": [
    "vis_all(AMCITS_policy) \n",
    "\n",
    "       "
   ]
  },
  {
   "cell_type": "code",
   "execution_count": null,
   "id": "3b7450be",
   "metadata": {},
   "outputs": [],
   "source": [
    "vis_all(SIV_AMCITS_policy)"
   ]
  },
  {
   "cell_type": "code",
   "execution_count": null,
   "id": "98364f5d",
   "metadata": {
    "scrolled": false
   },
   "outputs": [],
   "source": [
    "vis_all(SIV_AfterThresholdAMCITS_policy)\n"
   ]
  },
  {
   "cell_type": "code",
   "execution_count": null,
   "id": "604f298b",
   "metadata": {},
   "outputs": [],
   "source": [
    "vis_all(BeforeThresholdAMCITS_policy)"
   ]
  },
  {
   "cell_type": "markdown",
   "id": "43a55929",
   "metadata": {},
   "source": [
    "**Aggregate Metrics**"
   ]
  },
  {
   "cell_type": "code",
   "execution_count": null,
   "id": "7e1a9513",
   "metadata": {},
   "outputs": [],
   "source": [
    "# function getmetrics(policy, mdp)\n",
    "#     # I think this somehow needs to simulated in our rollout \n",
    "#     total_people = 0\n",
    "#     total_accept = 0\n",
    "#     total_reject = 0\n",
    "#     total_accepted_people = 0 \n",
    "    \n",
    "#     # Initialize visa_statuses dictionary\n",
    "#     visa_statuses = params.visa_status\n",
    "#     visa_dict = Dict()\n",
    "#     for v in visa_statuses\n",
    "#         visa_dict[v] = 0\n",
    "#     end\n",
    "    \n",
    "#     for c in 0:params.capacity # capacity ends at 0 \n",
    "#         for t in 0:params.time # time ends at 0 \n",
    "#             for f in params.family_sizes # family size here we should have the ACTUAL family sizes \n",
    "#                 for v in params.visa_status # actual visa statuses  \n",
    "#                     state = State(c, t, f, v)\n",
    "#                     total_people += f \n",
    "#                     if action(policy, state) == ACCEPT\n",
    "#                         total_accept += 1\n",
    "#                         total_accepted_people += f\n",
    "#                         visa_dict[v] += 1\n",
    "#                     else \n",
    "#                         total_reject += 1\n",
    "#                     end\n",
    "#                 end        \n",
    "#             end\n",
    "#         end\n",
    "#     end\n",
    "    \n",
    "#     print(\"Total people: \", total_people, )\n",
    "#     print(\"Total accept: \", total_accept)\n",
    "#     print(\"Total reject: \", total_reject)\n",
    "#     visa_dict \n",
    "       \n",
    "# end "
   ]
  },
  {
   "cell_type": "code",
   "execution_count": null,
   "id": "09367517",
   "metadata": {},
   "outputs": [],
   "source": [
    "# getmetrics(policy, mdp)"
   ]
  },
  {
   "cell_type": "code",
   "execution_count": null,
   "id": "48d00343",
   "metadata": {},
   "outputs": [],
   "source": [
    "# function getmetrics(policy, mdp)\n",
    "#     # I think this somehow needs to simulated in our rollout \n",
    "#     total_people = 0\n",
    "#     total_accept = 0\n",
    "#     total_reject = 0\n",
    "#     total_accepted_people = 0 \n",
    "    \n",
    "#     # Initialize visa_statuses dictionary\n",
    "#     visa_statuses = params.visa_status\n",
    "#     visa_dict = Dict()\n",
    "#     for v in visa_statuses\n",
    "#         visa_dict[v] = 0\n",
    "#     end\n",
    "    \n",
    "#     for c in 0:params.capacity # capacity ends at 0 \n",
    "#         for t in 0:params.time # time ends at 0 \n",
    "#             for f in params.family_sizes # family size here we should have the ACTUAL family sizes \n",
    "#                 for v in params.visa_status # actual visa statuses  \n",
    "#                     state = State(c, t, f, v)\n",
    "#                     total_people += f \n",
    "#                     if action(policy, state) == ACCEPT\n",
    "#                         total_accept += 1\n",
    "#                         total_accepted_people += f\n",
    "#                         visa_dict[v] += 1\n",
    "#                     else \n",
    "#                         total_reject += 1\n",
    "#                     end\n",
    "#                 end        \n",
    "#             end\n",
    "#         end\n",
    "#     end\n",
    "    \n",
    "#     print(\"Total people: \", total_people, )\n",
    "#     print(\"Total accept: \", total_accept)\n",
    "#     print(\"Total reject: \", total_reject)\n",
    "#     visa_dict \n",
    "       \n",
    "# end "
   ]
  }
 ],
 "metadata": {
  "@webio": {
   "lastCommId": null,
   "lastKernelId": null
  },
  "kernelspec": {
   "display_name": "Julia 1.6.2",
   "language": "julia",
   "name": "julia-1.6"
  },
  "language_info": {
   "file_extension": ".jl",
   "mimetype": "application/julia",
   "name": "julia",
   "version": "1.6.2"
  }
 },
 "nbformat": 4,
 "nbformat_minor": 5
}
