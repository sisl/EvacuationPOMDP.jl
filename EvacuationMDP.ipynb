{
 "cells": [
  {
   "cell_type": "code",
   "execution_count": null,
   "id": "d1439bc0",
   "metadata": {},
   "outputs": [],
   "source": [
    "using POMDPs # for MDP type\n",
    "using DiscreteValueIteration\n",
    "using POMDPPolicies\n",
    "using POMDPModelTools #for sparse cat \n",
    "using Parameters\n",
    "using Random\n",
    "using Plots; default(fontfamily=\"Computer Modern\", framestyle=:box) # LaTex-style\n",
    "using QuickPOMDPs\n",
    "using Distributions \n",
    "#using PlotlyJS\n",
    "using LinearAlgebra\n",
    "using POMDPSimulators\n",
    "using Measures"
   ]
  },
  {
   "cell_type": "code",
   "execution_count": null,
   "id": "1775e911",
   "metadata": {},
   "outputs": [],
   "source": [
    "Random.seed!(0xC0FFEE)"
   ]
  },
  {
   "cell_type": "markdown",
   "id": "a21058cf",
   "metadata": {},
   "source": [
    "**States**"
   ]
  },
  {
   "cell_type": "code",
   "execution_count": null,
   "id": "75e654a0",
   "metadata": {},
   "outputs": [],
   "source": [
    "struct State\n",
    "    c::Int # chairs remaining \n",
    "    t::Int # time remaining \n",
    "    f::Int # family size \n",
    "    v::Int # visa status \n",
    "end "
   ]
  },
  {
   "cell_type": "markdown",
   "id": "8897ebc7",
   "metadata": {},
   "source": [
    "**Environment Parameters**"
   ]
  },
  {
   "cell_type": "code",
   "execution_count": null,
   "id": "b9e4868d",
   "metadata": {},
   "outputs": [],
   "source": [
    "@with_kw struct EvacuationParameters\n",
    "    family_sizes::Vector{Int} = [1, 2, 3, 4, 5] # set with no repeats \n",
    "    family_prob = [.1, .2, .3, .2, .2]\n",
    "    visa_status::Vector{Int} = [-2, -1, 0, 1, 2] #TODO: map to various status strings\n",
    "    visa_prob = [.1, .1, .4, .2, .2]\n",
    "    capacity::Int = 60 # keeping these both as integers of 20 for now. \n",
    "    time::Int = 60\n",
    "    size::Tuple{Int, Int} = (length(visa_status), length(family_sizes)) # size of grid \n",
    "    p_transition::Real = 0.8 # don't we always transition into this since time moves forward? I'm confused... \n",
    "    null_state::State = State(-1, -1, -1 ,-1) # is there someway to do this???\n",
    "    accept_prob = [.80, .20]\n",
    "    reject_prob = [1.0]\n",
    "end"
   ]
  },
  {
   "cell_type": "code",
   "execution_count": null,
   "id": "27f4df6b",
   "metadata": {},
   "outputs": [],
   "source": [
    "params = EvacuationParameters(); "
   ]
  },
  {
   "cell_type": "code",
   "execution_count": null,
   "id": "8d7ed9cc",
   "metadata": {},
   "outputs": [],
   "source": [
    "@show number_states = params.capacity * params.time * size(params.family_sizes)[1] * size(params.visa_status)[1]"
   ]
  },
  {
   "cell_type": "code",
   "execution_count": null,
   "id": "84038044",
   "metadata": {
    "scrolled": true
   },
   "outputs": [],
   "source": [
    "# The state space S for the evacuation problem is the set of all combinations \n",
    "𝒮 = []\n",
    "for c in 0:params.capacity # capacity ends at 0 \n",
    "    for t in 0:params.time # time ends at 0 \n",
    "        for f in params.family_sizes # family size here we should have the ACTUAL family sizes \n",
    "            for v in params.visa_status # actual visa statuses \n",
    "                new = State(c, t, f, v) \n",
    "                𝒮 = [𝒮; new]\n",
    "            end\n",
    "        end        \n",
    "    end\n",
    "end\n",
    "𝒮 = [𝒮; params.null_state]"
   ]
  },
  {
   "cell_type": "markdown",
   "id": "f9a0c0d5",
   "metadata": {},
   "source": [
    "**Actions**"
   ]
  },
  {
   "cell_type": "code",
   "execution_count": null,
   "id": "e0ce57ab",
   "metadata": {},
   "outputs": [],
   "source": [
    "# the possible actions are whether accept or reject a family at the gate \n",
    "@enum Action REJECT ACCEPT"
   ]
  },
  {
   "cell_type": "code",
   "execution_count": null,
   "id": "d07469a5",
   "metadata": {},
   "outputs": [],
   "source": [
    "𝒜 = [REJECT, ACCEPT]"
   ]
  },
  {
   "cell_type": "code",
   "execution_count": null,
   "id": "839bbf8f",
   "metadata": {},
   "outputs": [],
   "source": [
    "# only inbounds if room for the family [assuming would not separate even though might]\n",
    "# and if time is available to enter the airport \n",
    "validtime(s::State) = 0 < s.t "
   ]
  },
  {
   "cell_type": "code",
   "execution_count": null,
   "id": "32351952",
   "metadata": {},
   "outputs": [],
   "source": [
    "validcapacity(s::State) = 0 ≤ s.c # maybe try back to 0 "
   ]
  },
  {
   "cell_type": "markdown",
   "id": "9be60758",
   "metadata": {},
   "source": [
    "**Transition Function** "
   ]
  },
  {
   "cell_type": "code",
   "execution_count": null,
   "id": "bf68a83a",
   "metadata": {},
   "outputs": [],
   "source": [
    "# #***** OLD ONE THAT WORKED ******\n",
    "# function T(s::State, a::Action)\n",
    "#     next_states = []\n",
    "#     if validtime(s) \n",
    "        \n",
    "#         f′ = rand(params.family_sizes) # pull according to those probabilities \n",
    "#         v′ = rand(params.visa_status) # TODO: possibly make this weighted in some way \n",
    "#         # keep pushing to next states and have a bigger associated probability mass with those possible next states. \n",
    "#         # need a for loop iterating over all family sizes and and visa statuses \n",
    "        \n",
    "#         if a == ACCEPT \n",
    "#             next_state_accept = State(s.c - s.f, s.t - 1, f′, v′) # they get seats\n",
    "#             next_state_reject = State(s.c, s.t - 1, f′, v′)\n",
    "#             push!(next_states, next_state_accept)\n",
    "#             push!(next_states, next_state_reject)\n",
    "#             if !validcapacity(next_state_accept) \n",
    "#                 probabilities = [0, 1] #no room for full family :( so we make probability 0 to accept and 1 reject\n",
    "#             else\n",
    "#                 probabilities = [.80, .20]\n",
    "#             end\n",
    "\n",
    "#         elseif a == REJECT\n",
    "#             probabilities = [1.0]\n",
    "#             push!(next_states, State(s.c, s.t - 1, f′, v′))\n",
    "#         end\n",
    "#     else\n",
    "#         push!(next_states,params.null_state)\n",
    "#         probabilities = [1]\n",
    "#     end\n",
    "#     return SparseCat(next_states, probabilities)\n",
    "# end"
   ]
  },
  {
   "cell_type": "code",
   "execution_count": null,
   "id": "7d3d0137",
   "metadata": {},
   "outputs": [],
   "source": [
    "#***** ENUMERATING OVER ALL STATES ******\n",
    "\n",
    "function T(s::State, a::Action)\n",
    "    #c::Int # chairs remaining \n",
    "    #t::Int # time remaining \n",
    "    #f::Int # family size \n",
    "    #v::Int # visa status \n",
    "    next_states = State[]\n",
    "    probabilities = Float64[] \n",
    "    \n",
    "    if !validtime(s) \n",
    "        push!(next_states,params.null_state)\n",
    "        push!(probabilities, 1) # double check \n",
    "    else\n",
    "        if a == ACCEPT \n",
    "            next_state_accept = State(s.c - s.f, s.t - 1, 1, 1) # check if valid capacity \n",
    "            if !validcapacity(next_state_accept) \n",
    "                prob = [0,1] #no room for full family :( so we make probability 0 to accept and 1 reject\n",
    "            else\n",
    "                prob = params.accept_prob\n",
    "            end\n",
    "            for f in 1:length(params.family_sizes)\n",
    "                for v in 1:length(params.visa_status)\n",
    "                     #if get on plan\n",
    "                    push!(next_states, State(s.c - s.f, s.t - 1, params.family_sizes[f], params.visa_status[v]))\n",
    "                    push!(probabilities, prob[1] * params.visa_prob[v] * params.family_prob[f])\n",
    "                     #if not\n",
    "                    push!(next_states, State(s.c, s.t - 1, params.family_sizes[f], params.visa_status[v]))\n",
    "                    push!(probabilities, prob[2] * params.visa_prob[v] * params.family_prob[f])                    \n",
    "                end\n",
    "            end\n",
    "        else   #if reject     \n",
    "            for f in 1:length(params.family_sizes)\n",
    "                for v in 1:length(params.visa_status)\n",
    "                    push!(next_states, State(s.c, s.t - 1, params.family_sizes[f], params.visa_status[v]))\n",
    "                    push!(probabilities, params.reject_prob[1] * params.visa_prob[v] * params.family_prob[f])    \n",
    "                end\n",
    "            end  \n",
    "        end\n",
    "    end                \n",
    "    normalize!(probabilities, 1)\n",
    "    @assert sum(probabilities) ≈ 1\n",
    "    return SparseCat(next_states, probabilities)\n",
    "end      "
   ]
  },
  {
   "cell_type": "code",
   "execution_count": null,
   "id": "66ddbe7f",
   "metadata": {},
   "outputs": [],
   "source": [
    "#check = T(State(2,0,2,2), ACCEPT)\n",
    "#check = T(State(0,10,2,2), ACCEPT) # im confused with what should be happening here...."
   ]
  },
  {
   "cell_type": "markdown",
   "id": "9b7629b2",
   "metadata": {},
   "source": [
    "**Reward Function**"
   ]
  },
  {
   "cell_type": "code",
   "execution_count": null,
   "id": "c0022d74",
   "metadata": {},
   "outputs": [],
   "source": [
    "function R(s::State, a::Action)\n",
    "    # reward is just the visa status times family size i think! \n",
    "    if a == ACCEPT\n",
    "        return s.v*s.f\n",
    "    end\n",
    "    return 0\n",
    "end "
   ]
  },
  {
   "cell_type": "code",
   "execution_count": null,
   "id": "2179f471",
   "metadata": {},
   "outputs": [],
   "source": [
    "γ = 0.95"
   ]
  },
  {
   "cell_type": "code",
   "execution_count": null,
   "id": "00c36682",
   "metadata": {},
   "outputs": [],
   "source": [
    "termination(s::State)= s == params.null_state # change to 1 or the other "
   ]
  },
  {
   "cell_type": "markdown",
   "id": "4f975135",
   "metadata": {},
   "source": [
    "**MDP Formulation**"
   ]
  },
  {
   "cell_type": "code",
   "execution_count": null,
   "id": "aa4058f8",
   "metadata": {},
   "outputs": [],
   "source": [
    "# We define the Airport abstract MDP type so we can reference it in other methods.\n",
    "abstract type Evacuation <: MDP{State, Action} end"
   ]
  },
  {
   "cell_type": "code",
   "execution_count": null,
   "id": "6f0ad105",
   "metadata": {},
   "outputs": [],
   "source": [
    "c_initial = params.capacity\n",
    "t_initial = params.time\n",
    "f_initial = rand(params.family_sizes, 1)[1]\n",
    "v_initial = rand(params.visa_status, 1)[1]\n",
    "\n",
    "initial_state = State(c_initial, t_initial, f_initial, v_initial)"
   ]
  },
  {
   "cell_type": "code",
   "execution_count": null,
   "id": "028c9b87",
   "metadata": {},
   "outputs": [],
   "source": [
    "statetype = typeof(initial_state)\n",
    "initialstate_array = [initial_state]"
   ]
  },
  {
   "cell_type": "code",
   "execution_count": null,
   "id": "34895203",
   "metadata": {},
   "outputs": [],
   "source": [
    "mdp = QuickMDP(Evacuation,\n",
    "    states       = 𝒮,\n",
    "    actions      = 𝒜,\n",
    "    transition   = T,\n",
    "    reward       = R,\n",
    "    discount     = γ,\n",
    "    initialstate = initialstate_array, \n",
    "    isterminal   = termination,\n",
    "    render       = render,\n",
    "    statetype    = statetype \n",
    "    );"
   ]
  },
  {
   "cell_type": "code",
   "execution_count": null,
   "id": "2dec2621",
   "metadata": {},
   "outputs": [],
   "source": [
    "solver = ValueIterationSolver(max_iterations=30, belres=1e-6, verbose=true);"
   ]
  },
  {
   "cell_type": "markdown",
   "id": "6d829758",
   "metadata": {},
   "source": [
    "**Policy**"
   ]
  },
  {
   "cell_type": "code",
   "execution_count": null,
   "id": "7dbbd783",
   "metadata": {
    "scrolled": true
   },
   "outputs": [],
   "source": [
    "mdp_policy = solve(solver, mdp) "
   ]
  },
  {
   "cell_type": "markdown",
   "id": "d0b557df",
   "metadata": {},
   "source": [
    "**Basesline Policies**"
   ]
  },
  {
   "cell_type": "code",
   "execution_count": null,
   "id": "a74102f8",
   "metadata": {},
   "outputs": [],
   "source": [
    "\"\"\"AcceptAll\"\"\"\n",
    "struct AcceptAll <: Policy end\n",
    "\n",
    "# accept everyone until capacity is 0\n",
    "function POMDPs.action(::AcceptAll, s::State)    # action(policy, state)\n",
    "    return ACCEPT\n",
    "end;\n",
    "\n",
    "AcceptAll_policy = AcceptAll()"
   ]
  },
  {
   "cell_type": "code",
   "execution_count": null,
   "id": "93128860",
   "metadata": {},
   "outputs": [],
   "source": [
    "\"\"\"AMCITS\"\"\"\n",
    "struct AMCITS <: Policy end\n",
    "\n",
    "function POMDPs.action(::AMCITS, s::State)\n",
    "    return (s.v == 2)  ? ACCEPT : REJECT\n",
    "end;\n",
    "\n",
    "AMCITS_policy = AMCITS()"
   ]
  },
  {
   "cell_type": "code",
   "execution_count": null,
   "id": "2ba06f60",
   "metadata": {},
   "outputs": [],
   "source": [
    "\"\"\"SIV_AMCITS \"\"\"\n",
    "struct SIV_AMCITS <: Policy end\n",
    "\n",
    "function POMDPs.action(::SIV_AMCITS, s::State)\n",
    "    return (s.v == 2 || s.v == 1) ? ACCEPT : REJECT\n",
    "end;\n",
    "SIV_AMCITS_policy = SIV_AMCITS()"
   ]
  },
  {
   "cell_type": "code",
   "execution_count": null,
   "id": "3b4fd55e",
   "metadata": {},
   "outputs": [],
   "source": [
    "\"\"\"AfterThresholdAMCITS\"\"\"\n",
    "# if want to change this need to make it a mutable struct \n",
    "@with_kw struct AfterThresholdAMCITS <: Policy\n",
    "    threshold = 20 # could define this in parameters \n",
    "end\n",
    "\n",
    "function POMDPs.action(policy::AfterThresholdAMCITS, s::State)\n",
    "    if s.t <= 20 #policy.threshold\n",
    "        return s.v == 5 ? ACCEPT : REJECT\n",
    "    else\n",
    "        return action(mdp_policy, s)\n",
    "    end\n",
    "end\n",
    "\n",
    "SIV_AfterThresholdAMCITS_policy = AfterThresholdAMCITS()"
   ]
  },
  {
   "cell_type": "code",
   "execution_count": null,
   "id": "26a8cd1d",
   "metadata": {},
   "outputs": [],
   "source": [
    "\"\"\"BeforeThresholdAMCITS\"\"\"\n",
    "@with_kw struct BeforeThresholdAMCITS <: Policy\n",
    "    threshold = 20\n",
    "end\n",
    "\n",
    "function POMDPs.action(policy::BeforeThresholdAMCITS, s::State)\n",
    "    if s.t >= 20 #policy.threshold\n",
    "        return s.v == 5 ? ACCEPT : REJECT\n",
    "    else\n",
    "        return action(mdp_policy, s)\n",
    "    end\n",
    "end\n",
    "\n",
    "        \n",
    "BeforeThresholdAMCITS_policy = BeforeThresholdAMCITS()\n",
    "#simulations(BeforeThresholdAMCITS_policy, mdp, 10)\n",
    "# could play with changing this threshold\n"
   ]
  },
  {
   "cell_type": "markdown",
   "id": "50ef9852",
   "metadata": {},
   "source": [
    "**Simulation**"
   ]
  },
  {
   "cell_type": "code",
   "execution_count": null,
   "id": "a2d0fba8",
   "metadata": {},
   "outputs": [],
   "source": [
    "# # for reference, this is what is happening in sim\n",
    "# # b = initialize_belief(up, b0)\n",
    "\n",
    "# r_total = 0.0\n",
    "# d = 1.0\n",
    "# while !isterminal(pomdp, s)\n",
    "#     a = action(policy, b)\n",
    "#     s, o, r = @gen(:sp,:o,:r)(pomdp, s, a) # gen is \n",
    "#     r_total += d*r\n",
    "#     d *= discount(pomdp)\n",
    "#     b = update(up, b, a, o)\n",
    "# end\n",
    "\n",
    "# gen is     \n",
    "#     sp = rand(transition(pomdp, s, a))\n",
    "#     o = rand(observation(pomdp, s, a, sp))\n",
    "#     r = reward(pomdp, s, a, sp, o)\n",
    "#     s = sp\n",
    "# function simulation(policy, mdp)\n",
    "#     sim = RolloutSimulator()\n",
    "#     r = simulate(sim, mdp, policy) #accumulated discounted reward \n",
    "#     # could we also return the number of ppl on the plane? \n",
    "#     return r\n",
    "# end\n",
    "# sim w/ out history \n",
    "# function simulation(policy, mdp)\n",
    "#     sim = RolloutSimulator()\n",
    "#     r = simulate(sim, mdp, policy) #accumulated discounted reward \n",
    "#     # could we also return the number of ppl on the plane? \n",
    "#     return r\n",
    "# end\n",
    "# INTEGRATE HISTORY HERE https://juliapomdp.github.io/POMDPSimulators.jl/latest/histories/#Examples and use in stats\n",
    "function simulation(policy, mdp)\n",
    "    hr = HistoryRecorder()\n",
    "    #sim = RolloutSimulator()\n",
    "    history = simulate(hr, mdp, policy)\n",
    "    #r = simulate(sim, mdp, policy) #accumulated discounted reward \n",
    "    # could we also return the number of ppl on the plane? \n",
    "    return history\n",
    "end\n"
   ]
  },
  {
   "cell_type": "code",
   "execution_count": null,
   "id": "ea492a78",
   "metadata": {
    "scrolled": true
   },
   "outputs": [],
   "source": [
    "mdp_history = simulation(mdp_policy, mdp)"
   ]
  },
  {
   "cell_type": "code",
   "execution_count": null,
   "id": "6e4f9567",
   "metadata": {},
   "outputs": [],
   "source": [
    "function get_metrics(history)\n",
    "    # THIS IS SO COOL AH \n",
    "    total_accepted_people = 0\n",
    "    total_accepted_families = 0 \n",
    "    total_rejected_people = 0\n",
    "    total_rejected_families = 0\n",
    "    total_reward = 0.0\n",
    "    # Initialize visa_statuses dictionary\n",
    "    visa_statuses = params.visa_status\n",
    "    visa_dict_accepts = Dict()\n",
    "    for v in visa_statuses\n",
    "        visa_dict_accepts[v] = 0\n",
    "    end\n",
    "    visa_dict_rejects = Dict()\n",
    "    for v in visa_statuses\n",
    "        visa_dict_rejects[v] = 0\n",
    "    end\n",
    "\n",
    "    # State(c, t, f, v)\n",
    "    for (s, a, r, sp) in eachstep(history, \"(s, a, r, sp)\") \n",
    "        # only counting the s not sp so as not to double count \n",
    "        if a==ACCEPT\n",
    "            total_accepted_people += s.f\n",
    "            total_accepted_families += 1\n",
    "            visa_dict_accepts[s.v] += 1\n",
    "        else # action is reject \n",
    "            total_rejected_people += 1\n",
    "            total_rejected_families +=1\n",
    "            visa_dict_rejects[s.v] += 1\n",
    "        end\n",
    "\n",
    "        total_reward += r\n",
    "        return total_accepted_people, total_accepted_families, total_reward, visa_dict_accepts \n",
    "        println(\"reward $r received when state $sp was reached after action $a was taken in state $s\")\n",
    "    end\n",
    "end"
   ]
  },
  {
   "cell_type": "code",
   "execution_count": null,
   "id": "eaf301a6",
   "metadata": {},
   "outputs": [],
   "source": [
    "total_accepted_people, total_accepted_families, total_reward, visa_dict_accepts = get_metrics(mdp_history)"
   ]
  },
  {
   "cell_type": "code",
   "execution_count": null,
   "id": "cca30a79",
   "metadata": {},
   "outputs": [],
   "source": [
    "# function reward_simulations(policy, mdp, n_sims) # n is number of times to run \n",
    "#     policy_rewards = []\n",
    "#     for i in 1:n_sims\n",
    "#         push!(policy_rewards, simulation(policy, mdp))\n",
    "#     end\n",
    "#     std_policy_reward = std(policy_rewards)\n",
    "#     mean_policy_reward = mean(policy_rewards)\n",
    "#     return mean_policy_reward, std_policy_reward\n",
    "# end"
   ]
  },
  {
   "cell_type": "code",
   "execution_count": null,
   "id": "79102ea7",
   "metadata": {},
   "outputs": [],
   "source": [
    "function reward_simulations(policy, mdp, n_sims) # n is number of times to run \n",
    "    histories = []\n",
    "    for i in 1:n_sims\n",
    "        push!(histories, simulation(policy, mdp))\n",
    "    end\n",
    "    \n",
    "    list_total_accepted_people = []\n",
    "    list_total_accepted_families = []\n",
    "    list_total_reward = []\n",
    "    list_visa_dict_accepts = []\n",
    "    \n",
    "    for history in histories\n",
    "        total_accepted_people, total_accepted_families, total_reward, visa_dict_accepts = get_metrics(history)\n",
    "        push!(list_total_accepted_people, total_accepted_people)\n",
    "        push!(list_total_accepted_families, total_accepted_families)\n",
    "        push!(list_total_reward, total_reward)\n",
    "        push!(list_visa_dict_accepts, visa_dict_accepts)\n",
    "    end\n",
    "    \n",
    "    mean_total_accepted_people = mean(list_total_accepted_people)\n",
    "    std_list_total_accepted_people = std(list_total_accepted_people)\n",
    "    mean_list_total_accepted_families = mean(list_total_accepted_families)\n",
    "    std_list_total_accepted_families = std(list_total_accepted_families)\n",
    "    mean_list_total_reward = mean(list_total_reward)\n",
    "    std_list_total_reward = std(list_total_reward)\n",
    "    #mean_list_visa_dict_accepts = mean(list_visa_dict_accepts) \n",
    "    #std_list_visa_dict_accepts  = std(list_visa_dict_accepts) \n",
    "    \n",
    "end"
   ]
  },
  {
   "cell_type": "code",
   "execution_count": null,
   "id": "b8333264",
   "metadata": {},
   "outputs": [],
   "source": [
    "reward_simulations(mdp_policy, mdp, 2)"
   ]
  },
  {
   "cell_type": "code",
   "execution_count": null,
   "id": "dff9f1b1",
   "metadata": {},
   "outputs": [],
   "source": [
    "function experiments()\n",
    "    # policies and n_sims can probably be put in our params function as a list. here for now. \n",
    "    n_sims = 10\n",
    "    policies = [AcceptAll_policy, AMCITS_policy, \n",
    "        SIV_AMCITS_policy, SIV_AfterThresholdAMCITS_policy, \n",
    "        BeforeThresholdAMCITS_policy]\n",
    "    m_std_rewards = []\n",
    "    for curr_policy in policies\n",
    "        push!(m_std_rewards, reward_simulations(curr_policy, mdp, n_sims))\n",
    "    end\n",
    "\n",
    "    return m_std_rewards\n",
    "\n",
    "end"
   ]
  },
  {
   "cell_type": "code",
   "execution_count": null,
   "id": "880a5549",
   "metadata": {},
   "outputs": [],
   "source": [
    "mean_std_rewards = experiments()"
   ]
  },
  {
   "cell_type": "markdown",
   "id": "b5c6b89c",
   "metadata": {},
   "source": [
    "**Visualizations**"
   ]
  },
  {
   "cell_type": "code",
   "execution_count": null,
   "id": "63cda74b",
   "metadata": {},
   "outputs": [],
   "source": [
    "function vis_time_step(policy, history, c, t) # pass in policy and chairs and time remaing. Spit out graph of family size versus visa status.\n",
    "    (v_size, f_size) = params.size  #visa, family 5, 5\n",
    "    policyGraph = zeros(v_size, f_size) \n",
    "    \n",
    "    visa_statuses=params.visa_status\n",
    "    family_sizes=params.family_sizes\n",
    "    \n",
    "#     index = 1\n",
    "#     visatoindx_dict = Dict()\n",
    "#     for v in visa_statuses\n",
    "#         visatoindx_dict[v] = index\n",
    "#         index += 1\n",
    "#     end\n",
    "    \n",
    "\n",
    "# #    State(12, 8, 3, 1) (c, t, v, f)\n",
    "#     for (s, a, r, sp) in eachstep(mdp_history, \"(s, a, r, sp)\") \n",
    "#         if (s.c == c && s.t == t)\n",
    "#             if a == ACCEPT\n",
    "#                 #println(s.v, s.f)\n",
    "#                 policyGraph[visatoindx_dict[s.v], s.f] = 100\n",
    "#             end\n",
    "#         end\n",
    "#     end\n",
    "        \n",
    "    for f in 1:f_size\n",
    "        for v in 1:v_size\n",
    "            act = action(policy, State(c, t, family_sizes[f], visa_statuses[v])) \n",
    "            if act == ACCEPT\n",
    "                policyGraph[v,f] = 100\n",
    "            else\n",
    "                policyGraph[v,f] = 0\n",
    "            end\n",
    "        end\n",
    "    end\n",
    "    \n",
    "    x=params.visa_status\n",
    "    y=params.family_sizes\n",
    "    z=policyGraph'\n",
    "    title_time_cap=\"t = $t c = $c $policy\" # MAKE title smaller \n",
    "    return heatmap(x, y, z, \n",
    "        aspect_ratio = :equal, \n",
    "        legend = :none, \n",
    "        xlims = (params.visa_status[1], \n",
    "        params.visa_status[length(params.visa_status)]), \n",
    "        xlabel = \"Visa Status\", \n",
    "        ylabel = \"Family Size\", \n",
    "        ylims = (params.family_sizes[1], \n",
    "        params.family_sizes[length(params.family_sizes)]), \n",
    "        title=title_time_cap, \n",
    "        xtickfont = font(5, \"Courier\"), \n",
    "        ytickfont = font(5, \"Courier\"),\n",
    "        thickness_scaling = .5,\n",
    "        palette = cgrad([:red, :green], [0, 1]),\n",
    "        )\n",
    "    \n",
    "end"
   ]
  },
  {
   "cell_type": "code",
   "execution_count": null,
   "id": "b2c8c0d9",
   "metadata": {},
   "outputs": [],
   "source": [
    "x = vis_time_step(mdp_policy, mdp_history, 10, 30)"
   ]
  },
  {
   "cell_type": "code",
   "execution_count": null,
   "id": "e6545eb2",
   "metadata": {},
   "outputs": [],
   "source": [
    "function vis_all(policy)\n",
    "    total_time = params.time \n",
    "    total_capacity = params.capacity\n",
    "    graph_per_n = 4\n",
    "    heat_maps = []\n",
    "    time_points = (total_time/graph_per_n) + 1 # to include 0 \n",
    "    capacity_points = (total_capacity/graph_per_n) + 1 \n",
    "    num_graphs = trunc(Int, time_points*capacity_points)\n",
    "    \n",
    "    for t in 0:total_time\n",
    "        if t % graph_per_n == 0 \n",
    "            for c in 0:total_capacity\n",
    "                if c % graph_per_n == 0\n",
    "                push!(heat_maps, vis_time_step(policy, c, t))\n",
    "                end\n",
    "            end\n",
    "        end\n",
    "    end \n",
    "    plot((heat_maps...), layout = num_graphs, margin = 5mm)\n",
    "\n",
    "end"
   ]
  },
  {
   "cell_type": "code",
   "execution_count": null,
   "id": "7010dfb1",
   "metadata": {},
   "outputs": [],
   "source": [
    "vis_all(policy) # THIS IS VISIA;L"
   ]
  },
  {
   "cell_type": "code",
   "execution_count": null,
   "id": "65a79631",
   "metadata": {},
   "outputs": [],
   "source": [
    "vis_all(AcceptAll_policy)"
   ]
  },
  {
   "cell_type": "code",
   "execution_count": null,
   "id": "fb6155e1",
   "metadata": {},
   "outputs": [],
   "source": [
    "vis_all(AMCITS_policy) \n",
    "\n",
    "       "
   ]
  },
  {
   "cell_type": "code",
   "execution_count": null,
   "id": "3b7450be",
   "metadata": {},
   "outputs": [],
   "source": [
    "vis_all(SIV_AMCITS_policy)"
   ]
  },
  {
   "cell_type": "code",
   "execution_count": null,
   "id": "98364f5d",
   "metadata": {
    "scrolled": false
   },
   "outputs": [],
   "source": [
    "vis_all(SIV_AfterThresholdAMCITS_policy)\n"
   ]
  },
  {
   "cell_type": "code",
   "execution_count": null,
   "id": "604f298b",
   "metadata": {},
   "outputs": [],
   "source": [
    "vis_all(BeforeThresholdAMCITS_policy)"
   ]
  },
  {
   "cell_type": "markdown",
   "id": "43a55929",
   "metadata": {},
   "source": [
    "**Aggregate Metrics**"
   ]
  },
  {
   "cell_type": "code",
   "execution_count": null,
   "id": "7e1a9513",
   "metadata": {},
   "outputs": [],
   "source": [
    "# function getmetrics(policy, mdp)\n",
    "#     # I think this somehow needs to simulated in our rollout \n",
    "#     total_people = 0\n",
    "#     total_accept = 0\n",
    "#     total_reject = 0\n",
    "#     total_accepted_people = 0 \n",
    "    \n",
    "#     # Initialize visa_statuses dictionary\n",
    "#     visa_statuses = params.visa_status\n",
    "#     visa_dict = Dict()\n",
    "#     for v in visa_statuses\n",
    "#         visa_dict[v] = 0\n",
    "#     end\n",
    "    \n",
    "#     for c in 0:params.capacity # capacity ends at 0 \n",
    "#         for t in 0:params.time # time ends at 0 \n",
    "#             for f in params.family_sizes # family size here we should have the ACTUAL family sizes \n",
    "#                 for v in params.visa_status # actual visa statuses  \n",
    "#                     state = State(c, t, f, v)\n",
    "#                     total_people += f \n",
    "#                     if action(policy, state) == ACCEPT\n",
    "#                         total_accept += 1\n",
    "#                         total_accepted_people += f\n",
    "#                         visa_dict[v] += 1\n",
    "#                     else \n",
    "#                         total_reject += 1\n",
    "#                     end\n",
    "#                 end        \n",
    "#             end\n",
    "#         end\n",
    "#     end\n",
    "    \n",
    "#     print(\"Total people: \", total_people, )\n",
    "#     print(\"Total accept: \", total_accept)\n",
    "#     print(\"Total reject: \", total_reject)\n",
    "#     visa_dict \n",
    "       \n",
    "# end "
   ]
  },
  {
   "cell_type": "code",
   "execution_count": null,
   "id": "09367517",
   "metadata": {},
   "outputs": [],
   "source": [
    "# getmetrics(policy, mdp)"
   ]
  },
  {
   "cell_type": "code",
   "execution_count": null,
   "id": "48d00343",
   "metadata": {},
   "outputs": [],
   "source": [
    "# function getmetrics(policy, mdp)\n",
    "#     # I think this somehow needs to simulated in our rollout \n",
    "#     total_people = 0\n",
    "#     total_accept = 0\n",
    "#     total_reject = 0\n",
    "#     total_accepted_people = 0 \n",
    "    \n",
    "#     # Initialize visa_statuses dictionary\n",
    "#     visa_statuses = params.visa_status\n",
    "#     visa_dict = Dict()\n",
    "#     for v in visa_statuses\n",
    "#         visa_dict[v] = 0\n",
    "#     end\n",
    "    \n",
    "#     for c in 0:params.capacity # capacity ends at 0 \n",
    "#         for t in 0:params.time # time ends at 0 \n",
    "#             for f in params.family_sizes # family size here we should have the ACTUAL family sizes \n",
    "#                 for v in params.visa_status # actual visa statuses  \n",
    "#                     state = State(c, t, f, v)\n",
    "#                     total_people += f \n",
    "#                     if action(policy, state) == ACCEPT\n",
    "#                         total_accept += 1\n",
    "#                         total_accepted_people += f\n",
    "#                         visa_dict[v] += 1\n",
    "#                     else \n",
    "#                         total_reject += 1\n",
    "#                     end\n",
    "#                 end        \n",
    "#             end\n",
    "#         end\n",
    "#     end\n",
    "    \n",
    "#     print(\"Total people: \", total_people, )\n",
    "#     print(\"Total accept: \", total_accept)\n",
    "#     print(\"Total reject: \", total_reject)\n",
    "#     visa_dict \n",
    "       \n",
    "# end "
   ]
  }
 ],
 "metadata": {
  "@webio": {
   "lastCommId": null,
   "lastKernelId": null
  },
  "kernelspec": {
   "display_name": "Julia 1.6.2",
   "language": "julia",
   "name": "julia-1.6"
  },
  "language_info": {
   "file_extension": ".jl",
   "mimetype": "application/julia",
   "name": "julia",
   "version": "1.6.2"
  }
 },
 "nbformat": 4,
 "nbformat_minor": 5
}
