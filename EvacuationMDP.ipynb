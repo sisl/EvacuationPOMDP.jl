{
 "cells": [
  {
   "cell_type": "code",
   "execution_count": 1,
   "id": "d1439bc0",
   "metadata": {},
   "outputs": [],
   "source": [
    "using POMDPs # for MDP type\n",
    "using DiscreteValueIteration\n",
    "using POMDPPolicies\n",
    "using POMDPModelTools #for sparse cat \n",
    "using Parameters\n",
    "using Random\n",
    "using Plots; default(fontfamily=\"Computer Modern\", framestyle=:box) # LaTex-style\n",
    "using QuickPOMDPs\n",
    "using Distributions \n",
    "using LinearAlgebra\n",
    "using POMDPSimulators\n",
    "using Measures\n",
    "using DataStructures"
   ]
  },
  {
   "cell_type": "code",
   "execution_count": 2,
   "id": "1775e911",
   "metadata": {},
   "outputs": [
    {
     "data": {
      "text/plain": [
       "MersenneTwister(12648430)"
      ]
     },
     "execution_count": 2,
     "metadata": {},
     "output_type": "execute_result"
    }
   ],
   "source": [
    "Random.seed!(0xC0FFEE)"
   ]
  },
  {
   "cell_type": "markdown",
   "id": "a21058cf",
   "metadata": {},
   "source": [
    "**States**"
   ]
  },
  {
   "cell_type": "code",
   "execution_count": 3,
   "id": "75e654a0",
   "metadata": {},
   "outputs": [],
   "source": [
    "struct State\n",
    "    c::Int # chairs remaining \n",
    "    t::Int # time remaining \n",
    "    f::Int # family size \n",
    "    v::Int # visa status \n",
    "end "
   ]
  },
  {
   "cell_type": "markdown",
   "id": "8897ebc7",
   "metadata": {},
   "source": [
    "**Environment Parameters**"
   ]
  },
  {
   "cell_type": "code",
   "execution_count": 4,
   "id": "b9e4868d",
   "metadata": {},
   "outputs": [
    {
     "data": {
      "text/plain": [
       "EvacuationParameters"
      ]
     },
     "execution_count": 4,
     "metadata": {},
     "output_type": "execute_result"
    }
   ],
   "source": [
    "@with_kw struct EvacuationParameters\n",
    "    \n",
    "    family_sizes::Vector{Int} = [1, 2, 3, 4, 5] \n",
    "    family_prob = [.1, .2, .3, .2, .2]\n",
    "    visa_status::Vector{Int} = [-2, -1, 0, 1, 2] #TODO: map to various status strings\n",
    "    visa_prob = [.1, .1, .4, .2, .2]\n",
    "    \n",
    "    v_stringtoint = Dict(\"ISIS-k\"=>-2,\n",
    "        \"Taliban\"=>-1,\n",
    "        \"Afghan\"=>0,\n",
    "        \"SIV\"=>1,\n",
    "        \"AMCIT\"=>2)\n",
    "    \n",
    "     v_inttostring = Dict(-2=>\"ISIS-k\",\n",
    "        -1=>\"Taliban\",\n",
    "        0=>\"Afghan\",\n",
    "        1=>\"SIV\",\n",
    "        2=>\"AMCIT\")\n",
    "    \n",
    "    capacity::Int = 120 # keeping these both as integers of 20 for now. \n",
    "    time::Int = 120\n",
    "    size::Tuple{Int, Int} = (length(visa_status), length(family_sizes)) # size of grid \n",
    "    p_transition::Real = 0.8 # don't we always transition into this since time moves forward? I'm confused... \n",
    "    null_state::State = State(-1, -1, -1 ,-1) # is there someway to do this???\n",
    "    accept_prob = [.80, .20]\n",
    "    reject_prob = [1.0]\n",
    "end"
   ]
  },
  {
   "cell_type": "code",
   "execution_count": 5,
   "id": "27f4df6b",
   "metadata": {},
   "outputs": [],
   "source": [
    "params = EvacuationParameters(); "
   ]
  },
  {
   "cell_type": "code",
   "execution_count": 6,
   "id": "8d7ed9cc",
   "metadata": {},
   "outputs": [
    {
     "name": "stdout",
     "output_type": "stream",
     "text": [
      "number_states = params.capacity * params.time * (size(params.family_sizes))[1] * (size(params.visa_status))[1] = 360000\n"
     ]
    },
    {
     "data": {
      "text/plain": [
       "360000"
      ]
     },
     "execution_count": 6,
     "metadata": {},
     "output_type": "execute_result"
    }
   ],
   "source": [
    "@show number_states = params.capacity * params.time * size(params.family_sizes)[1] * size(params.visa_status)[1]"
   ]
  },
  {
   "cell_type": "code",
   "execution_count": null,
   "id": "84038044",
   "metadata": {
    "scrolled": true
   },
   "outputs": [],
   "source": [
    "# The state space S for the evacuation problem is the set of all combinations \n",
    "𝒮 = []\n",
    "for c in 0:params.capacity # capacity ends at 0 \n",
    "    for t in 0:params.time # time ends at 0 \n",
    "        for f in params.family_sizes # family size here we should have the ACTUAL family sizes \n",
    "            for v in params.visa_status # actual visa statuses \n",
    "                new = State(c, t, f, v) \n",
    "                𝒮 = [𝒮; new]\n",
    "            end\n",
    "        end        \n",
    "    end\n",
    "end\n",
    "𝒮 = [𝒮; params.null_state]"
   ]
  },
  {
   "cell_type": "markdown",
   "id": "f9a0c0d5",
   "metadata": {},
   "source": [
    "**Actions**"
   ]
  },
  {
   "cell_type": "code",
   "execution_count": null,
   "id": "e0ce57ab",
   "metadata": {},
   "outputs": [],
   "source": [
    "# the possible actions are whether accept or reject a family at the gate \n",
    "@enum Action REJECT ACCEPT"
   ]
  },
  {
   "cell_type": "code",
   "execution_count": null,
   "id": "d07469a5",
   "metadata": {},
   "outputs": [],
   "source": [
    "𝒜 = [REJECT, ACCEPT]"
   ]
  },
  {
   "cell_type": "code",
   "execution_count": null,
   "id": "839bbf8f",
   "metadata": {},
   "outputs": [],
   "source": [
    "# only inbounds if room for the family [assuming would not separate even though might]\n",
    "# and if time is available to enter the airport \n",
    "validtime(s::State) = 0 < s.t "
   ]
  },
  {
   "cell_type": "code",
   "execution_count": null,
   "id": "32351952",
   "metadata": {},
   "outputs": [],
   "source": [
    "validcapacity(s::State) = 0 ≤ s.c # maybe try back to 0 "
   ]
  },
  {
   "cell_type": "markdown",
   "id": "9be60758",
   "metadata": {},
   "source": [
    "**Transition Function** "
   ]
  },
  {
   "cell_type": "code",
   "execution_count": null,
   "id": "7d3d0137",
   "metadata": {},
   "outputs": [],
   "source": [
    "#***** ENUMERATING OVER ALL STATES ******\n",
    "function T(s::State, a::Action)\n",
    "    next_states = State[]\n",
    "    probabilities = Float64[] \n",
    "    \n",
    "    if !validtime(s) \n",
    "        push!(next_states,params.null_state)\n",
    "        push!(probabilities, 1) # double check \n",
    "    else\n",
    "        if a == ACCEPT \n",
    "            next_state_accept = State(s.c - s.f, s.t - 1, 1, 1) # check if valid capacity \n",
    "            if !validcapacity(next_state_accept) \n",
    "                prob = [0,1] #no room for full family :( so we make probability 0 to accept and 1 reject\n",
    "            else\n",
    "                prob = params.accept_prob\n",
    "            end\n",
    "            for f in 1:length(params.family_sizes)\n",
    "                for v in 1:length(params.visa_status)\n",
    "                     #if get on plan\n",
    "                    push!(next_states, State(s.c - s.f, s.t - 1, params.family_sizes[f], params.visa_status[v]))\n",
    "                    push!(probabilities, prob[1] * params.visa_prob[v] * params.family_prob[f])\n",
    "                     #if not\n",
    "                    push!(next_states, State(s.c, s.t - 1, params.family_sizes[f], params.visa_status[v]))\n",
    "                    push!(probabilities, prob[2] * params.visa_prob[v] * params.family_prob[f])                    \n",
    "                end\n",
    "            end\n",
    "        else   #if reject     \n",
    "            for f in 1:length(params.family_sizes)\n",
    "                for v in 1:length(params.visa_status)\n",
    "                    push!(next_states, State(s.c, s.t - 1, params.family_sizes[f], params.visa_status[v]))\n",
    "                    push!(probabilities, params.reject_prob[1] * params.visa_prob[v] * params.family_prob[f])    \n",
    "                end\n",
    "            end  \n",
    "        end\n",
    "    end                \n",
    "    normalize!(probabilities, 1)\n",
    "    @assert sum(probabilities) ≈ 1\n",
    "    return SparseCat(next_states, probabilities)\n",
    "end      "
   ]
  },
  {
   "cell_type": "markdown",
   "id": "9b7629b2",
   "metadata": {},
   "source": [
    "**Reward Function**"
   ]
  },
  {
   "cell_type": "code",
   "execution_count": null,
   "id": "c0022d74",
   "metadata": {},
   "outputs": [],
   "source": [
    "function R(s::State, a::Action)\n",
    "    # reward is just the visa status times family size i think! \n",
    "    if a == ACCEPT\n",
    "        return s.v*s.f\n",
    "    end\n",
    "    return 0\n",
    "end "
   ]
  },
  {
   "cell_type": "code",
   "execution_count": null,
   "id": "2179f471",
   "metadata": {},
   "outputs": [],
   "source": [
    "γ = 0.95"
   ]
  },
  {
   "cell_type": "code",
   "execution_count": null,
   "id": "00c36682",
   "metadata": {},
   "outputs": [],
   "source": [
    "termination(s::State)= s == params.null_state # change to 1 or the other "
   ]
  },
  {
   "cell_type": "markdown",
   "id": "4f975135",
   "metadata": {},
   "source": [
    "**MDP Formulation**"
   ]
  },
  {
   "cell_type": "code",
   "execution_count": null,
   "id": "aa4058f8",
   "metadata": {},
   "outputs": [],
   "source": [
    "abstract type Evacuation <: MDP{State, Action} end"
   ]
  },
  {
   "cell_type": "code",
   "execution_count": null,
   "id": "6f0ad105",
   "metadata": {},
   "outputs": [],
   "source": [
    "c_initial = params.capacity\n",
    "t_initial = params.time\n",
    "f_initial = rand(params.family_sizes, 1)[1]\n",
    "v_initial = rand(params.visa_status, 1)[1]\n",
    "initial_state = State(c_initial, t_initial, f_initial, v_initial)\n",
    "statetype = typeof(initial_state)\n",
    "initialstate_array = [initial_state]"
   ]
  },
  {
   "cell_type": "code",
   "execution_count": null,
   "id": "34895203",
   "metadata": {},
   "outputs": [],
   "source": [
    "mdp = QuickMDP(Evacuation,\n",
    "    states       = 𝒮,\n",
    "    actions      = 𝒜,\n",
    "    transition   = T,\n",
    "    reward       = R,\n",
    "    discount     = γ,\n",
    "    initialstate = initialstate_array, \n",
    "    isterminal   = termination,\n",
    "    render       = render,\n",
    "    statetype    = statetype \n",
    "    );"
   ]
  },
  {
   "cell_type": "code",
   "execution_count": null,
   "id": "2dec2621",
   "metadata": {},
   "outputs": [],
   "source": [
    "solver = ValueIterationSolver(max_iterations=30, belres=1e-6, verbose=true);"
   ]
  },
  {
   "cell_type": "markdown",
   "id": "6d829758",
   "metadata": {},
   "source": [
    "**Policy**"
   ]
  },
  {
   "cell_type": "code",
   "execution_count": null,
   "id": "7dbbd783",
   "metadata": {
    "scrolled": true
   },
   "outputs": [],
   "source": [
    "mdp_policy = solve(solver, mdp)  # look at this to see why it's not graphing anymore "
   ]
  },
  {
   "cell_type": "code",
   "execution_count": null,
   "id": "a2e808f3",
   "metadata": {},
   "outputs": [],
   "source": []
  },
  {
   "cell_type": "markdown",
   "id": "d0b557df",
   "metadata": {},
   "source": [
    "**Basesline Policies**"
   ]
  },
  {
   "cell_type": "code",
   "execution_count": null,
   "id": "a74102f8",
   "metadata": {},
   "outputs": [],
   "source": [
    "\"\"\"AcceptAll\"\"\"\n",
    "struct AcceptAll <: Policy end\n",
    "\n",
    "# accept everyone until capacity is 0\n",
    "function POMDPs.action(::AcceptAll, s::State)    # action(policy, state)\n",
    "    return ACCEPT\n",
    "end;\n",
    "\n",
    "AcceptAll_policy = AcceptAll()"
   ]
  },
  {
   "cell_type": "code",
   "execution_count": null,
   "id": "93128860",
   "metadata": {},
   "outputs": [],
   "source": [
    "\"\"\"AMCITS\"\"\"\n",
    "struct AMCITS <: Policy end\n",
    "\n",
    "# function POMDPs.action(::AMCITS, s::State)\n",
    "#     return (s.v == 2)  ? ACCEPT : REJECT\n",
    "# end;\n",
    "\n",
    "function POMDPs.action(::AMCITS, s::State)\n",
    "    return (s.v == params.v_stringtoint[\"AMCIT\"])  ? ACCEPT : REJECT\n",
    "end;\n",
    "\n",
    "\n",
    "AMCITS_policy = AMCITS()"
   ]
  },
  {
   "cell_type": "code",
   "execution_count": null,
   "id": "2ba06f60",
   "metadata": {},
   "outputs": [],
   "source": [
    "\"\"\"SIV_AMCITS \"\"\"\n",
    "struct SIV_AMCITS <: Policy end\n",
    "\n",
    "function POMDPs.action(::SIV_AMCITS, s::State)\n",
    "    return (s.v == params.v_stringtoint[\"AMCIT\"] || s.v == params.v_stringtoint[\"SIV\"]) ? ACCEPT : REJECT\n",
    "end;\n",
    "SIV_AMCITS_policy = SIV_AMCITS()"
   ]
  },
  {
   "cell_type": "code",
   "execution_count": null,
   "id": "3b4fd55e",
   "metadata": {},
   "outputs": [],
   "source": [
    "\"\"\"AfterThresholdAMCITS\"\"\"\n",
    "# if want to change this need to make it a mutable struct \n",
    "@with_kw struct AfterThresholdAMCITS <: Policy\n",
    "    threshold = 20 # could define this in parameters \n",
    "end\n",
    "\n",
    "function POMDPs.action(policy::AfterThresholdAMCITS, s::State)\n",
    "    if s.t <= 20 #policy.threshold\n",
    "        return s.v == params.v_stringtoint[\"AMCIT\"] ? ACCEPT : REJECT\n",
    "    else\n",
    "        return action(mdp_policy, s)\n",
    "    end\n",
    "end\n",
    "\n",
    "AfterThresholdAMCITS_policy = AfterThresholdAMCITS()"
   ]
  },
  {
   "cell_type": "code",
   "execution_count": null,
   "id": "26a8cd1d",
   "metadata": {},
   "outputs": [],
   "source": [
    "\"\"\"BeforeThresholdAMCITS\"\"\"\n",
    "@with_kw struct BeforeThresholdAMCITS <: Policy\n",
    "    threshold = 20\n",
    "end\n",
    "\n",
    "function POMDPs.action(policy::BeforeThresholdAMCITS, s::State)\n",
    "    if s.t >= 20 #policy.threshold\n",
    "        return s.v == params.v_stringtoint[\"AMCIT\"] ? ACCEPT : REJECT\n",
    "    else\n",
    "        return action(mdp_policy, s)\n",
    "    end\n",
    "end\n",
    "        \n",
    "BeforeThresholdAMCITS_policy = BeforeThresholdAMCITS()\n",
    "#simulations(BeforeThresholdAMCITS_policy, mdp, 10)\n",
    "# could play with changing this threshold\n"
   ]
  },
  {
   "cell_type": "markdown",
   "id": "50ef9852",
   "metadata": {},
   "source": [
    "**Simulation**"
   ]
  },
  {
   "cell_type": "code",
   "execution_count": null,
   "id": "6e4f9567",
   "metadata": {},
   "outputs": [],
   "source": [
    "\"\"\"Given a history of a simulation, return metrics.\"\"\"\n",
    "function get_metrics(history)\n",
    "    total_accepted_people = 0\n",
    "    total_accepted_families = 0 \n",
    "    total_rejected_people = 0\n",
    "    total_rejected_families = 0\n",
    "    total_reward = 0.0\n",
    "    # Initialize visa_statuses dictionary\n",
    "    visa_statuses = params.visa_status\n",
    "    visa_dict_accepts = Dict(0=>0) # make dictionaries accept just ints \n",
    "    for v in visa_statuses\n",
    "        visa_dict_accepts[v] = 0\n",
    "    end\n",
    "    \n",
    "    visa_dict_rejects = Dict()\n",
    "    for v in visa_statuses\n",
    "        visa_dict_rejects[v] = 0\n",
    "    end\n",
    "\n",
    "    # State(c, t, f, v)\n",
    "    for (s, a, r, sp) in eachstep(history, \"(s, a, r, sp)\") \n",
    "        # only counting the s not sp so as not to double count \n",
    "        if a==ACCEPT\n",
    "            total_accepted_people += s.f\n",
    "            total_accepted_families += 1\n",
    "            visa_dict_accepts[s.v] += 1\n",
    "        else # action is reject \n",
    "            total_rejected_people += s.f\n",
    "            total_rejected_families +=1\n",
    "            visa_dict_rejects[s.v] += 1\n",
    "        end\n",
    "\n",
    "        total_reward += r\n",
    "       # println(\"reward $r received when state $sp was reached after action $a was taken in state $s\")    \n",
    "    end\n",
    "    return total_accepted_people, total_accepted_families, total_reward, visa_dict_accepts \n",
    "end"
   ]
  },
  {
   "cell_type": "code",
   "execution_count": null,
   "id": "de3787f4",
   "metadata": {},
   "outputs": [],
   "source": [
    "\"\"\"Given a policy and mdp simulate a rollout and return the history.\"\"\"\n",
    "function simulation(policy, mdp)\n",
    "    hr = HistoryRecorder()\n",
    "    history = simulate(hr, mdp, policy)\n",
    "    return history\n",
    "end\n"
   ]
  },
  {
   "cell_type": "code",
   "execution_count": null,
   "id": "ca105ce7",
   "metadata": {},
   "outputs": [],
   "source": [
    "\"\"\" Takes in a list and takes their rounded mean and standard deviation \"\"\"\n",
    "function mean_std(list_simulated_values, people::Bool)\n",
    "    if people \n",
    "        # round to whole people trunc \n",
    "        mean_list = round(mean(list_simulated_values); digits=2)\n",
    "        std_list = round(std(list_simulated_values); digits=2)\n",
    "    else\n",
    "        mean_list = round(mean(list_simulated_values); digits=2)\n",
    "        std_list = round(std(list_simulated_values); digits=2)\n",
    "    end\n",
    "    return mean_list, std_list\n",
    "end"
   ]
  },
  {
   "cell_type": "code",
   "execution_count": null,
   "id": "207b2379",
   "metadata": {},
   "outputs": [],
   "source": []
  },
  {
   "cell_type": "code",
   "execution_count": null,
   "id": "3405772e",
   "metadata": {},
   "outputs": [],
   "source": [
    "\"\"\"Simulate n times and get the mean and std of n rollouts of a policy.\"\"\"\n",
    "function simulations(policy, str_policy, mdp, n_sims) # n is number of times to run \n",
    "    people = false\n",
    "    \n",
    "    list_total_accepted_people = []\n",
    "    list_total_accepted_families = []\n",
    "    list_total_reward = []\n",
    "    list_visa_dict_accepts = []\n",
    "    \n",
    "    for i in 1:n_sims\n",
    "        history = simulation(policy, mdp) # do 1 simulation and get the history \n",
    "        total_accepted_people, total_accepted_families, total_reward, visa_dict_accepts = get_metrics(history)\n",
    "        push!(list_total_accepted_people, total_accepted_people)\n",
    "        push!(list_total_accepted_families, total_accepted_families)\n",
    "        push!(list_total_reward, total_reward)\n",
    "        push!(list_visa_dict_accepts, visa_dict_accepts)\n",
    "    end\n",
    "    \n",
    "    \n",
    "    mean_std_reward = mean_std(list_total_reward, false)\n",
    "    mean_std_total_accepted_people = mean_std(list_total_accepted_people, true)\n",
    "    \n",
    "    \n",
    "    # calculate average ppl by visa type \n",
    "    base_dict = Dict{Int64, Int64}(0=>0)\n",
    "    # add together total people over sims \n",
    "    for dict in list_visa_dict_accepts\n",
    "        base_dict = merge(counter(base_dict), counter(dict)).map\n",
    "    end\n",
    "    # divide by num sims \n",
    "    for visa_status in keys(base_dict)\n",
    "        base_dict[visa_status]= trunc(Int, base_dict[visa_status]/n_sims)\n",
    "    end\n",
    "    # print in latex form \n",
    "   # base_dict_sorted = sort(base_dict)\n",
    "    if (str_policy == \"AMCITS-policy\")\n",
    "        print(\"Policy        &     Reward        &  Num Accepted   &\")\n",
    "        for visa_status in sort(collect(keys(base_dict)), rev=true)\n",
    "            st_visa_status = params.v_inttostring[visa_status]\n",
    "            print(\"$st_visa_status &\") # just show what order the stats are showing up \n",
    "        end\n",
    "    end\n",
    "    println()\n",
    "\n",
    "    print(\"$str_policy & $(mean_std_reward[1]) \\$\\\\pm\\$ $(mean_std_reward[2]) & $(mean_std_total_accepted_people[1]) \\$\\\\pm\\$ $(mean_std_total_accepted_people[2]) & \")\n",
    "    for visa_status in sort(collect(keys(base_dict)), rev=true)\n",
    "        st_visa_status = params.v_inttostring[visa_status]\n",
    "        print(\"$(base_dict[visa_status]) &   \")\n",
    "    end\n",
    "    println()\n",
    "end\n",
    "\n",
    "\n",
    "\n",
    "\n"
   ]
  },
  {
   "cell_type": "code",
   "execution_count": null,
   "id": "802f1af1",
   "metadata": {},
   "outputs": [],
   "source": [
    "# finish in the morning \n",
    "# for visa_dict_accepts in list_visa_dict_accepts\n",
    "#     for visa_type in keys(visa_dict_accepts)\n",
    "#         count = visa_dict_accepts[visa_type]\n",
    "        \n",
    "# end\n",
    "#     $mean_total_reward \\$\\\\pm\\$ $std_total_reward & "
   ]
  },
  {
   "cell_type": "code",
   "execution_count": null,
   "id": "dff9f1b1",
   "metadata": {},
   "outputs": [],
   "source": [
    "function experiments()\n",
    "    # policies and n_sims can probably be put in our params function as a list. here for now. \n",
    "    n_sims = 1000\n",
    "    dict_policies = Dict(\"mdp-policy\"=>mdp_policy, \n",
    "        \"AcceptAll-policy\"=>AcceptAll_policy, \n",
    "        \"AMCITS-policy\"=>AMCITS_policy, \n",
    "        \"SIV-AMCITS-policy\"=>SIV_AMCITS_policy, \n",
    "        \"AfterThresholdAMCITS-policy\"=>AfterThresholdAMCITS_policy, \n",
    "        \"BeforeThresholdAMCITS-policy\"=>BeforeThresholdAMCITS_policy)\n",
    "    \n",
    "    # for now don't report the std here. would need to keep track of every single value....\n",
    "    for str_policy in sort(collect(keys(dict_policies)))\n",
    "        list_visa_dict_accepts = simulations(dict_policies[str_policy], str_policy, mdp, n_sims)\n",
    "    end\n",
    "\n",
    "\n",
    "end"
   ]
  },
  {
   "cell_type": "code",
   "execution_count": null,
   "id": "11fa02f1",
   "metadata": {},
   "outputs": [],
   "source": [
    "experiments()"
   ]
  },
  {
   "cell_type": "markdown",
   "id": "b5c6b89c",
   "metadata": {},
   "source": [
    "**Visualizations**"
   ]
  },
  {
   "cell_type": "code",
   "execution_count": null,
   "id": "63cda74b",
   "metadata": {},
   "outputs": [],
   "source": [
    "function vis_time_step(policy, c, t) # pass in policy and chairs and time remaing. Spit out graph of family size versus visa status.\n",
    "    (v_size, f_size) = params.size  #visa, family 5, 5\n",
    "    policyGraph = zeros(v_size, f_size) \n",
    "    \n",
    "     visa_statuses=params.visa_status\n",
    "     x = visa_statuses\n",
    "     family_sizes=params.family_sizes\n",
    "     y = family_sizes\n",
    "        \n",
    "    for f in 1:f_size\n",
    "        for v in 1:v_size\n",
    "            act = action(policy, State(c, t, family_sizes[f], visa_statuses[v])) \n",
    "            if act == ACCEPT\n",
    "                policyGraph[v,f] = 500 #2ca02c\n",
    "            else\n",
    "                policyGraph[v,f] = 0\n",
    "            end\n",
    "        end\n",
    "    end\n",
    "    \n",
    "    z= policyGraph'\n",
    "\n",
    "    timeVal = string(t)\n",
    "    capVal = string(c)\n",
    "    \n",
    "    titleX = string(\"t: \" * timeVal * \" c: \" * capVal)\n",
    "    #print(titleX)\n",
    "\n",
    "    return heatmap(x, y, z, \n",
    "         aspect_ratio = 1, \n",
    "         legend = :none, \n",
    "         xlims = (params.visa_status[1], params.visa_status[length(params.visa_status)]), \n",
    "         ylims = (params.family_sizes[1], params.family_sizes[length(params.family_sizes)]),         \n",
    "         xlabel = \"Visa Status\", \n",
    "         ylabel = \"Family Size\", \n",
    "         title = titleX, \n",
    "         xtickfont = font(5, \"Courier\"), \n",
    "         ytickfont = font(5, \"Courier\"),\n",
    "         thickness_scaling = .5,\n",
    "        )\n",
    "end"
   ]
  },
  {
   "cell_type": "code",
   "execution_count": null,
   "id": "e6545eb2",
   "metadata": {},
   "outputs": [],
   "source": [
    "function vis_all(policy)\n",
    "    total_time = params.time \n",
    "    total_capacity = params.capacity\n",
    "    graph_per_n = 40\n",
    "    heat_maps = []\n",
    "    time_points = (total_time/graph_per_n) + 1 # to include 0 \n",
    "    capacity_points = (total_capacity/graph_per_n) + 1 \n",
    "    num_graphs = trunc(Int, time_points*capacity_points)\n",
    "    \n",
    "    for t in 0:total_time\n",
    "        if t % graph_per_n == 0 \n",
    "            for c in 0:total_capacity\n",
    "                if c % graph_per_n == 0\n",
    "                push!(heat_maps, vis_time_step(policy, c, t))\n",
    "                end\n",
    "            end\n",
    "        end\n",
    "    end \n",
    "    plot((heat_maps...), layout = num_graphs, margin = 5mm)\n",
    "    #print(num_graphs)\n",
    "    #plot(heat_maps[1], heat_maps[2], heat_maps[3],heat_maps[4],heat_maps[5],\n",
    "    #    heat_maps[6],heat_maps[7],heat_maps[8],heat_maps[9],heat_maps[10],\n",
    "    #    heat_maps[11],heat_maps[12],heat_maps[13],heat_maps[14],heat_maps[15],heat_maps[16],layout = 16, margin = 5mm)\n",
    "\n",
    "end"
   ]
  },
  {
   "cell_type": "code",
   "execution_count": null,
   "id": "7010dfb1",
   "metadata": {},
   "outputs": [],
   "source": [
    "vis_all(mdp_policy) "
   ]
  },
  {
   "cell_type": "markdown",
   "id": "43a55929",
   "metadata": {},
   "source": [
    "**OLD CODE**"
   ]
  },
  {
   "cell_type": "code",
   "execution_count": null,
   "id": "4278669f",
   "metadata": {},
   "outputs": [],
   "source": [
    "# #***** OLD ONE THAT WORKED ******\n",
    "# function T(s::State, a::Action)\n",
    "#     next_states = []\n",
    "#     if validtime(s) \n",
    "        \n",
    "#         f′ = rand(params.family_sizes) # pull according to those probabilities \n",
    "#         v′ = rand(params.visa_status) # TODO: possibly make this weighted in some way \n",
    "#         # keep pushing to next states and have a bigger associated probability mass with those possible next states. \n",
    "#         # need a for loop iterating over all family sizes and and visa statuses \n",
    "        \n",
    "#         if a == ACCEPT \n",
    "#             next_state_accept = State(s.c - s.f, s.t - 1, f′, v′) # they get seats\n",
    "#             next_state_reject = State(s.c, s.t - 1, f′, v′)\n",
    "#             push!(next_states, next_state_accept)\n",
    "#             push!(next_states, next_state_reject)\n",
    "#             if !validcapacity(next_state_accept) \n",
    "#                 probabilities = [0, 1] #no room for full family :( so we make probability 0 to accept and 1 reject\n",
    "#             else\n",
    "#                 probabilities = [.80, .20]\n",
    "#             end\n",
    "\n",
    "#         elseif a == REJECT\n",
    "#             probabilities = [1.0]\n",
    "#             push!(next_states, State(s.c, s.t - 1, f′, v′))\n",
    "#         end\n",
    "#     else\n",
    "#         push!(next_states,params.null_state)\n",
    "#         probabilities = [1]\n",
    "#     end\n",
    "#     return SparseCat(next_states, probabilities)\n",
    "# end"
   ]
  },
  {
   "cell_type": "code",
   "execution_count": null,
   "id": "7e1a9513",
   "metadata": {},
   "outputs": [],
   "source": [
    "# function getmetrics(policy, mdp)\n",
    "#     # I think this somehow needs to simulated in our rollout \n",
    "#     total_people = 0\n",
    "#     total_accept = 0\n",
    "#     total_reject = 0\n",
    "#     total_accepted_people = 0 \n",
    "    \n",
    "#     # Initialize visa_statuses dictionary\n",
    "#     visa_statuses = params.visa_status\n",
    "#     visa_dict = Dict()\n",
    "#     for v in visa_statuses\n",
    "#         visa_dict[v] = 0\n",
    "#     end\n",
    "    \n",
    "#     for c in 0:params.capacity # capacity ends at 0 \n",
    "#         for t in 0:params.time # time ends at 0 \n",
    "#             for f in params.family_sizes # family size here we should have the ACTUAL family sizes \n",
    "#                 for v in params.visa_status # actual visa statuses  \n",
    "#                     state = State(c, t, f, v)\n",
    "#                     total_people += f \n",
    "#                     if action(policy, state) == ACCEPT\n",
    "#                         total_accept += 1\n",
    "#                         total_accepted_people += f\n",
    "#                         visa_dict[v] += 1\n",
    "#                     else \n",
    "#                         total_reject += 1\n",
    "#                     end\n",
    "#                 end        \n",
    "#             end\n",
    "#         end\n",
    "#     end\n",
    "    \n",
    "#     print(\"Total people: \", total_people, )\n",
    "#     print(\"Total accept: \", total_accept)\n",
    "#     print(\"Total reject: \", total_reject)\n",
    "#     visa_dict \n",
    "       \n",
    "# end "
   ]
  },
  {
   "cell_type": "code",
   "execution_count": null,
   "id": "09367517",
   "metadata": {},
   "outputs": [],
   "source": [
    "# getmetrics(policy, mdp)"
   ]
  },
  {
   "cell_type": "code",
   "execution_count": null,
   "id": "48d00343",
   "metadata": {},
   "outputs": [],
   "source": [
    "# function getmetrics(policy, mdp)\n",
    "#     # I think this somehow needs to simulated in our rollout \n",
    "#     total_people = 0\n",
    "#     total_accept = 0\n",
    "#     total_reject = 0\n",
    "#     total_accepted_people = 0 \n",
    "    \n",
    "#     # Initialize visa_statuses dictionary\n",
    "#     visa_statuses = params.visa_status\n",
    "#     visa_dict = Dict()\n",
    "#     for v in visa_statuses\n",
    "#         visa_dict[v] = 0\n",
    "#     end\n",
    "    \n",
    "#     for c in 0:params.capacity # capacity ends at 0 \n",
    "#         for t in 0:params.time # time ends at 0 \n",
    "#             for f in params.family_sizes # family size here we should have the ACTUAL family sizes \n",
    "#                 for v in params.visa_status # actual visa statuses  \n",
    "#                     state = State(c, t, f, v)\n",
    "#                     total_people += f \n",
    "#                     if action(policy, state) == ACCEPT\n",
    "#                         total_accept += 1\n",
    "#                         total_accepted_people += f\n",
    "#                         visa_dict[v] += 1\n",
    "#                     else \n",
    "#                         total_reject += 1\n",
    "#                     end\n",
    "#                 end        \n",
    "#             end\n",
    "#         end\n",
    "#     end\n",
    "    \n",
    "#     print(\"Total people: \", total_people, )\n",
    "#     print(\"Total accept: \", total_accept)\n",
    "#     print(\"Total reject: \", total_reject)\n",
    "#     visa_dict \n",
    "       \n",
    "# end "
   ]
  },
  {
   "cell_type": "code",
   "execution_count": null,
   "id": "737eb5cb",
   "metadata": {},
   "outputs": [],
   "source": [
    "# # for reference, this is what is happening in sim\n",
    "# # b = initialize_belief(up, b0)\n",
    "\n",
    "# r_total = 0.0\n",
    "# d = 1.0\n",
    "# while !isterminal(pomdp, s)\n",
    "#     a = action(policy, b)\n",
    "#     s, o, r = @gen(:sp,:o,:r)(pomdp, s, a) # gen is \n",
    "#     r_total += d*r\n",
    "#     d *= discount(pomdp)\n",
    "#     b = update(up, b, a, o)\n",
    "# end\n",
    "\n",
    "# gen is     \n",
    "#     sp = rand(transition(pomdp, s, a))\n",
    "#     o = rand(observation(pomdp, s, a, sp))\n",
    "#     r = reward(pomdp, s, a, sp, o)\n",
    "#     s = sp\n",
    "# function simulation(policy, mdp)\n",
    "#     sim = RolloutSimulator()\n",
    "#     r = simulate(sim, mdp, policy) #accumulated discounted reward \n",
    "#     # could we also return the number of ppl on the plane? \n",
    "#     return r\n",
    "# end\n",
    "# sim w/ out history \n",
    "# function simulation(policy, mdp)\n",
    "#     sim = RolloutSimulator()\n",
    "#     r = simulate(sim, mdp, policy) #accumulated discounted reward \n",
    "#     # could we also return the number of ppl on the plane? \n",
    "#     return r\n",
    "# end\n",
    "# INTEGRATE HISTORY HERE https://juliapomdp.github.io/POMDPSimulators.jl/latest/histories/#Examples and use in stats"
   ]
  },
  {
   "cell_type": "code",
   "execution_count": null,
   "id": "7022b93e",
   "metadata": {},
   "outputs": [],
   "source": [
    "# function simulation(policy, mdp)\n",
    "#     hr = HistoryRecorder()\n",
    "#     #sim = RolloutSimulator()\n",
    "#     history = simulate(hr, mdp, policy)\n",
    "#     #r = simulate(sim, mdp, policy) #accumulated discounted reward \n",
    "#     # could we also return the number of ppl on the plane? \n",
    "#     return history\n",
    "# end"
   ]
  },
  {
   "cell_type": "code",
   "execution_count": null,
   "id": "9033a5e4",
   "metadata": {},
   "outputs": [],
   "source": [
    "# function reward_simulations(policy, mdp, n_sims) # n is number of times to run \n",
    "#     policy_rewards = []\n",
    "#     for i in 1:n_sims\n",
    "#         push!(policy_rewards, simulation(policy, mdp))\n",
    "#     end\n",
    "#     std_policy_reward = std(policy_rewards)\n",
    "#     mean_policy_reward = mean(policy_rewards)\n",
    "#     return mean_policy_reward, std_policy_reward\n",
    "# end"
   ]
  },
  {
   "cell_type": "code",
   "execution_count": null,
   "id": "d2fa0ffb",
   "metadata": {},
   "outputs": [],
   "source": [
    "   \n",
    "#     mean_total_reward = round(mean(list_total_reward);digits=2)\n",
    "#     std_total_reward = round(std(list_total_reward);digits=2) # double check if should be discounted reward ? \n",
    "#     mean_total_accepted_people = round(mean(list_total_accepted_people);digits=2)\n",
    "#     std_total_accepted_people = round(std(list_total_accepted_people);digits=2)\n",
    "# #     mean_total_accepted_families = round(mean(list_total_accepted_families);digits=2)\n",
    "# #     std_total_accepted_families = round(std(list_total_accepted_families);digits=2)\n",
    "#   #  println(\"$str_policy & $mean_total_reward \\$\\\\pm\\$ $std_total_reward\")\n",
    "    \n",
    "#     # fix seperately - get mean and std. for each number of ppl accepted \n",
    "    \n",
    "#     println(\"$str_policy & $mean_total_reward \\$\\\\pm\\$ $std_total_reward & $mean_total_accepted_people \\$\\\\pm\\$ $std_total_accepted_people\")\n",
    "            "
   ]
  },
  {
   "cell_type": "code",
   "execution_count": null,
   "id": "d7ce92ad",
   "metadata": {},
   "outputs": [],
   "source": [
    "# DEBUGGING DICTIONARY NOTES \n",
    "    \n",
    "#     base_dict = Dict{Int64, Int64}(0=>0)\n",
    "#    # println(\"base_dict_initial \", base_dict)\n",
    "#     for dict in list_visa_dict_accepts\n",
    "#         base_dict = merge(counter(base_dict), counter(dict)).map\n",
    "# #         println(\"new dict \", dict)\n",
    "# #         println(\"base_dict + dict\")\n",
    "# #         println(\"base_dict_added \", base_dict)\n",
    "#     end\n",
    "#     println(base_dict)\n",
    "    \n",
    "#        # nums_visa = keys(dict)\n",
    "#         # put togehter the valyes of all the dictionaries and divide by the number of dictionaries \n",
    "#         # I want to build a list of each of the visa types in this particular dict and \n",
    "# #         for visa_type in keys(dict)\n",
    "# #             println(visa_type, dict[visa_type])\n",
    "# #         end\n",
    "        \n",
    "    \n",
    "# #     mean_std_reward = mean_std(list_total_reward, false)\n",
    "# #     mean_std_total_accepted_people = mean_std(list_total_accepted_people, true)\n",
    "# #     println(\"$str_policy & $(mean_std_reward[1]) \\$\\\\pm\\$ $(mean_std_reward[2]) & $(mean_std_total_accepted_people[1]) \\$\\\\pm\\$ $(mean_std_total_accepted_people[2])\")\n",
    "\n",
    "    "
   ]
  },
  {
   "cell_type": "code",
   "execution_count": null,
   "id": "4fd48317",
   "metadata": {},
   "outputs": [],
   "source": [
    "#     policies = Dict(\"mdp-policy\"=>mdp_policy, \n",
    "#         \"AcceptAll-policy\"=>AcceptAll_policy, \n",
    "#         \"AMCITS-policy\"=>AMCITS_policy, \n",
    "#         \"SIV-AMCITS-policy\"=>SIV_AMCITS_policy, \n",
    "#         \"AfterThresholdAMCITS-policy\"=>AfterThresholdAMCITS_policy, \n",
    "#         \"BeforeThresholdAMCITS-policy\"=>BeforeThresholdAMCITS_policy)\n",
    "    \n",
    "# #     # definitely could have more statuses\n",
    "#     v_stringtoint = Dict(\"ISIS-k\"=>-2,\n",
    "#         \"Taliban\"=>-1,\n",
    "#         \"Afghan\"=>0,\n",
    "#         \"SIV\"=>1,\n",
    "#         \"AMCIT\"=>2)\n",
    "    \n",
    "#      v_inttostring = Dict(-2=>\"ISIS-k\",\n",
    "#         -1=>\"Taliban\",\n",
    "#         0=>\"Afghan\",\n",
    "#         1=>\"SIV\",\n",
    "#         2=>\"AMCIT\")\n",
    "    "
   ]
  }
 ],
 "metadata": {
  "@webio": {
   "lastCommId": null,
   "lastKernelId": null
  },
  "kernelspec": {
   "display_name": "Julia 1.6.2",
   "language": "julia",
   "name": "julia-1.6"
  },
  "language_info": {
   "file_extension": ".jl",
   "mimetype": "application/julia",
   "name": "julia",
   "version": "1.6.2"
  }
 },
 "nbformat": 4,
 "nbformat_minor": 5
}
