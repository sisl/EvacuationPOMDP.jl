{
 "cells": [
  {
   "cell_type": "code",
   "execution_count": 1,
   "id": "2df6dbc7",
   "metadata": {},
   "outputs": [],
   "source": [
    "using POMDPs # for MDP type\n",
    "using DiscreteValueIteration\n",
    "using POMDPPolicies\n",
    "using POMDPModelTools #for sparse cat \n",
    "using Parameters\n",
    "using Random\n",
    "using Plots; default(fontfamily=\"Computer Modern\", framestyle=:box) # LaTex-style\n",
    "using QuickPOMDPs\n",
    "using Distributions \n",
    "#using PlotlyJS\n",
    "using LinearAlgebra\n",
    "using POMDPSimulators"
   ]
  },
  {
   "cell_type": "code",
   "execution_count": 2,
   "id": "f2a06957",
   "metadata": {},
   "outputs": [
    {
     "data": {
      "text/plain": [
       "MersenneTwister(12648430)"
      ]
     },
     "execution_count": 2,
     "metadata": {},
     "output_type": "execute_result"
    }
   ],
   "source": [
    "Random.seed!(0xC0FFEE)"
   ]
  },
  {
   "cell_type": "markdown",
   "id": "41c9cdd8",
   "metadata": {},
   "source": [
    "**States**"
   ]
  },
  {
   "cell_type": "code",
   "execution_count": 3,
   "id": "0aab1a9c",
   "metadata": {},
   "outputs": [],
   "source": [
    "# A state s in the evacuation problem is a discrete set of 4 values: \n",
    "# chairs remaining, time remaining, family size, and visa status\n",
    "struct State\n",
    "    c::Int # chairs remaining \n",
    "    t::Int # time remaining \n",
    "    f::Int # family size \n",
    "    v::Int # visa status \n",
    "end "
   ]
  },
  {
   "cell_type": "markdown",
   "id": "6cc585ac",
   "metadata": {},
   "source": [
    "**Environment Parameters**"
   ]
  },
  {
   "cell_type": "code",
   "execution_count": 4,
   "id": "258940f1",
   "metadata": {},
   "outputs": [
    {
     "data": {
      "text/plain": [
       "EvacuationParameters"
      ]
     },
     "execution_count": 4,
     "metadata": {},
     "output_type": "execute_result"
    }
   ],
   "source": [
    "# TO DO: WEIGHT FAMILY SIZES AND VISA STATUS BY PROBABILITY \n",
    "@with_kw struct EvacuationParameters\n",
    "    family_sizes::Vector{Int} = [1, 2, 3, 4, 5, 6, 7, 8, 9, 10] # set with no repeats \n",
    "    # p_family_sizes::Vector{Float} = # must sum to 1 \n",
    "    visa_status::Vector{Int} = [-20, -4, 0, 1, 2, 3, 4, 10] #TODO: map to various status \n",
    "    # p_visa_status::Vector{Float} = # must sum to 1 \n",
    "    capacity::Int = 70\n",
    "    time::Int = 60\n",
    "    size::Tuple{Int, Int} = (length(visa_status), length(family_sizes)) # size of grid \n",
    "    p_transition::Real = 0.8 # don't we always transition into this since time moves forward? I'm confused... \n",
    "    null_state::State = State(-1, -1, -1 ,-1) # is there someway to do this???\n",
    "end\n"
   ]
  },
  {
   "cell_type": "code",
   "execution_count": 5,
   "id": "b0442685",
   "metadata": {},
   "outputs": [],
   "source": [
    "params = EvacuationParameters(); "
   ]
  },
  {
   "cell_type": "code",
   "execution_count": 6,
   "id": "075db58a",
   "metadata": {},
   "outputs": [
    {
     "name": "stdout",
     "output_type": "stream",
     "text": [
      "number_states = params.capacity * params.time * (size(params.family_sizes))[1] * (size(params.visa_status))[1] = 336000\n"
     ]
    },
    {
     "data": {
      "text/plain": [
       "336000"
      ]
     },
     "execution_count": 6,
     "metadata": {},
     "output_type": "execute_result"
    }
   ],
   "source": [
    "@show number_states = params.capacity * params.time * size(params.family_sizes)[1] * size(params.visa_status)[1]"
   ]
  },
  {
   "cell_type": "code",
   "execution_count": 7,
   "id": "f62a060b",
   "metadata": {},
   "outputs": [
    {
     "data": {
      "text/plain": [
       "346481-element Vector{Any}:\n",
       " State(0, 0, 1, -20)\n",
       " State(0, 0, 1, -4)\n",
       " State(0, 0, 1, 0)\n",
       " State(0, 0, 1, 1)\n",
       " State(0, 0, 1, 2)\n",
       " State(0, 0, 1, 3)\n",
       " State(0, 0, 1, 4)\n",
       " State(0, 0, 1, 10)\n",
       " State(0, 0, 2, -20)\n",
       " State(0, 0, 2, -4)\n",
       " State(0, 0, 2, 0)\n",
       " State(0, 0, 2, 1)\n",
       " State(0, 0, 2, 2)\n",
       " ⋮\n",
       " State(70, 60, 9, 3)\n",
       " State(70, 60, 9, 4)\n",
       " State(70, 60, 9, 10)\n",
       " State(70, 60, 10, -20)\n",
       " State(70, 60, 10, -4)\n",
       " State(70, 60, 10, 0)\n",
       " State(70, 60, 10, 1)\n",
       " State(70, 60, 10, 2)\n",
       " State(70, 60, 10, 3)\n",
       " State(70, 60, 10, 4)\n",
       " State(70, 60, 10, 10)\n",
       " State(-1, -1, -1, -1)"
      ]
     },
     "execution_count": 7,
     "metadata": {},
     "output_type": "execute_result"
    }
   ],
   "source": [
    "# The state space S for the evacuation problem is the set of all combinations \n",
    "𝒮 = []\n",
    "for c in 0:params.capacity # capacity ends at 0 \n",
    "    for t in 0:params.time # time ends at 0 \n",
    "        for f in params.family_sizes # family size here we should have the ACTUAL family sizes \n",
    "            for v in params.visa_status # actual visa statuses \n",
    "                new = State(c, t, f, v) \n",
    "                𝒮 = [𝒮; new]\n",
    "            end\n",
    "        end        \n",
    "    end\n",
    "end\n",
    "𝒮 = [𝒮; params.null_state]\n",
    "\n",
    "\n"
   ]
  },
  {
   "cell_type": "markdown",
   "id": "2b54b559",
   "metadata": {},
   "source": [
    "**Actions**"
   ]
  },
  {
   "cell_type": "code",
   "execution_count": 8,
   "id": "e39358e4",
   "metadata": {},
   "outputs": [],
   "source": [
    "# the possible actions are whether accept or reject a family at the gate \n",
    "@enum Action REJECT ACCEPT"
   ]
  },
  {
   "cell_type": "code",
   "execution_count": 25,
   "id": "7c9681fe",
   "metadata": {},
   "outputs": [
    {
     "data": {
      "text/plain": [
       "2-element Vector{Action}:\n",
       " REJECT::Action = 0\n",
       " ACCEPT::Action = 1"
      ]
     },
     "execution_count": 25,
     "metadata": {},
     "output_type": "execute_result"
    }
   ],
   "source": [
    "𝒜 = [REJECT, ACCEPT]"
   ]
  },
  {
   "cell_type": "code",
   "execution_count": 10,
   "id": "7c069d06",
   "metadata": {},
   "outputs": [
    {
     "data": {
      "text/plain": [
       "validtime (generic function with 1 method)"
      ]
     },
     "execution_count": 10,
     "metadata": {},
     "output_type": "execute_result"
    }
   ],
   "source": [
    "# only inbounds if room for the family [assuming would not separate even though might]\n",
    "# and if time is available to enter the airport \n",
    "validtime(s::State) = 0 < s.t "
   ]
  },
  {
   "cell_type": "code",
   "execution_count": 11,
   "id": "6d649f36",
   "metadata": {},
   "outputs": [
    {
     "data": {
      "text/plain": [
       "validcapacity (generic function with 1 method)"
      ]
     },
     "execution_count": 11,
     "metadata": {},
     "output_type": "execute_result"
    }
   ],
   "source": [
    "validcapacity(s::State) = 0 ≤ s.c # maybe try back to 0 "
   ]
  },
  {
   "cell_type": "markdown",
   "id": "57696b5e",
   "metadata": {},
   "source": [
    "**Transition Function** "
   ]
  },
  {
   "cell_type": "code",
   "execution_count": 12,
   "id": "f5fb2df0",
   "metadata": {},
   "outputs": [
    {
     "data": {
      "text/plain": [
       "T (generic function with 1 method)"
      ]
     },
     "execution_count": 12,
     "metadata": {},
     "output_type": "execute_result"
    }
   ],
   "source": [
    "function T(s::State, a::Action)\n",
    "    next_states = []\n",
    "    if validtime(s) \n",
    "        f′ = rand(params.family_sizes) # pull according to those probabilities \n",
    "        v′ = rand(params.visa_status) # TODO: possibly make this weighted in some way \n",
    "        \n",
    "        # need a for loop iterating over all family sizes and and visa statuses \n",
    "        \n",
    "        if a == ACCEPT \n",
    "            next_state_accept = State(s.c - s.f, s.t - 1, f′, v′) # they get seats\n",
    "            next_state_reject = State(s.c, s.t - 1, f′, v′)\n",
    "            push!(next_states, next_state_accept)\n",
    "            push!(next_states, next_state_reject)\n",
    "            if !validcapacity(next_state_accept) \n",
    "                probabilities = [0, 1] #no room for full family :( so we make probability 0 to accept and 1 reject\n",
    "            else\n",
    "                probabilities = [.80, .20]\n",
    "            end\n",
    "\n",
    "        elseif a == REJECT\n",
    "            probabilities = [1.0]\n",
    "            push!(next_states, State(s.c, s.t - 1, f′, v′))\n",
    "        end\n",
    "    else\n",
    "        push!(next_states,params.null_state)\n",
    "        probabilities = [1]\n",
    "    end\n",
    "    return SparseCat(next_states, probabilities)\n",
    "end\n",
    "\n",
    "    "
   ]
  },
  {
   "cell_type": "markdown",
   "id": "c976b83b",
   "metadata": {},
   "source": [
    "**Reward Function**"
   ]
  },
  {
   "cell_type": "code",
   "execution_count": 13,
   "id": "e5e4117d",
   "metadata": {},
   "outputs": [
    {
     "data": {
      "text/plain": [
       "R (generic function with 1 method)"
      ]
     },
     "execution_count": 13,
     "metadata": {},
     "output_type": "execute_result"
    }
   ],
   "source": [
    "function R(s::State, a::Action)\n",
    "    # reward is just the visa status times family size i think! \n",
    "    if a == ACCEPT\n",
    "        return s.v*s.f\n",
    "    end\n",
    "    return 0\n",
    "end "
   ]
  },
  {
   "cell_type": "code",
   "execution_count": 14,
   "id": "10e74fea",
   "metadata": {},
   "outputs": [
    {
     "data": {
      "text/plain": [
       "0.95"
      ]
     },
     "execution_count": 14,
     "metadata": {},
     "output_type": "execute_result"
    }
   ],
   "source": [
    "#render(mdp; show_rewards=true)\n",
    "#@bind γ Slider(0:0.05:1, default=0.95, show_value=true)\n",
    "# hard code for now. maybe come back to it. \n",
    "γ = 0.95"
   ]
  },
  {
   "cell_type": "code",
   "execution_count": 15,
   "id": "5e73455a",
   "metadata": {},
   "outputs": [
    {
     "data": {
      "text/plain": [
       "termination (generic function with 1 method)"
      ]
     },
     "execution_count": 15,
     "metadata": {},
     "output_type": "execute_result"
    }
   ],
   "source": [
    "# when time is 0...possibly encode this into the parameters \n",
    "#termination(s::State) = (s.t == 0 || s.c == 0)\n",
    "# can probably do this instead of overriding ... alternate possibility: \n",
    "# # not sure we need this... to say when time and capacity are equal\n",
    "\n",
    "#termination(s::State) = (s.t == params.null_state.t && s.c == params.null_state.c)\n",
    "#Base.:(==)(s1::State, s2::State) = (s1.t == s2.t) && (s1.c == s2.c)\n",
    "termination(s::State)= s == params.null_state # change to 1 or the other "
   ]
  },
  {
   "cell_type": "markdown",
   "id": "dfdcdbac",
   "metadata": {},
   "source": [
    "**MDP Formulation**"
   ]
  },
  {
   "cell_type": "code",
   "execution_count": 16,
   "id": "eb47d072",
   "metadata": {},
   "outputs": [],
   "source": [
    "# We define the Airport abstract MDP type so we can reference it in other methods.\n",
    "abstract type Evacuation <: MDP{State, Action} end"
   ]
  },
  {
   "cell_type": "code",
   "execution_count": 17,
   "id": "cd187a9f",
   "metadata": {},
   "outputs": [
    {
     "data": {
      "text/plain": [
       "State(70, 60, 9, 1)"
      ]
     },
     "execution_count": 17,
     "metadata": {},
     "output_type": "execute_result"
    }
   ],
   "source": [
    "c_initial = params.capacity\n",
    "t_initial = params.time\n",
    "f_initial = rand(params.family_sizes, 1)[1]\n",
    "v_initial = rand(params.visa_status, 1)[1]\n",
    "\n",
    "initial_state = State(c_initial, t_initial, f_initial, v_initial)"
   ]
  },
  {
   "cell_type": "code",
   "execution_count": 18,
   "id": "f2d6fcb9",
   "metadata": {},
   "outputs": [
    {
     "data": {
      "text/plain": [
       "1-element Vector{State}:\n",
       " State(70, 60, 9, 1)"
      ]
     },
     "execution_count": 18,
     "metadata": {},
     "output_type": "execute_result"
    }
   ],
   "source": [
    "statetype = typeof(initial_state)\n",
    "initialstate_array = [initial_state]"
   ]
  },
  {
   "cell_type": "code",
   "execution_count": 19,
   "id": "5e6be2ca",
   "metadata": {},
   "outputs": [],
   "source": [
    "#render = plot_evac"
   ]
  },
  {
   "cell_type": "code",
   "execution_count": 20,
   "id": "0781bae1",
   "metadata": {},
   "outputs": [],
   "source": [
    "mdp = QuickMDP(Evacuation,\n",
    "    states       = 𝒮,\n",
    "    actions      = 𝒜,\n",
    "    transition   = T,\n",
    "    reward       = R,\n",
    "    discount     = γ,\n",
    "    initialstate = initialstate_array, \n",
    "    isterminal   = termination,\n",
    "    render       = render,\n",
    "    statetype    = statetype \n",
    "    );"
   ]
  },
  {
   "cell_type": "code",
   "execution_count": 21,
   "id": "e07faa69",
   "metadata": {},
   "outputs": [],
   "source": [
    "#render(mdp)"
   ]
  },
  {
   "cell_type": "code",
   "execution_count": 22,
   "id": "0c47742a",
   "metadata": {},
   "outputs": [],
   "source": [
    "solver = ValueIterationSolver(max_iterations=30, belres=1e-6, verbose=true);"
   ]
  },
  {
   "cell_type": "markdown",
   "id": "b18554c7",
   "metadata": {},
   "source": [
    "**Policy**"
   ]
  },
  {
   "cell_type": "code",
   "execution_count": 23,
   "id": "d9bf7d0f",
   "metadata": {},
   "outputs": [
    {
     "name": "stdout",
     "output_type": "stream",
     "text": [
      "[Iteration 1   ] residual:        697 | iteration runtime:   1357.195 ms, (      1.36 s total)\n",
      "[Iteration 2   ] residual:        258 | iteration runtime:   1271.313 ms, (      2.63 s total)\n",
      "[Iteration 3   ] residual:        272 | iteration runtime:   1271.806 ms, (       3.9 s total)\n",
      "[Iteration 4   ] residual:        236 | iteration runtime:   1295.504 ms, (       5.2 s total)\n",
      "[Iteration 5   ] residual:        268 | iteration runtime:   1295.117 ms, (      6.49 s total)\n",
      "[Iteration 6   ] residual:        295 | iteration runtime:   1277.739 ms, (      7.77 s total)\n",
      "[Iteration 7   ] residual:        245 | iteration runtime:   1280.978 ms, (      9.05 s total)\n",
      "[Iteration 8   ] residual:        259 | iteration runtime:   1297.685 ms, (      10.3 s total)\n",
      "[Iteration 9   ] residual:        254 | iteration runtime:   1291.403 ms, (      11.6 s total)\n",
      "[Iteration 10  ] residual:        298 | iteration runtime:   1294.599 ms, (      12.9 s total)\n",
      "[Iteration 11  ] residual:        275 | iteration runtime:   1343.219 ms, (      14.3 s total)\n",
      "[Iteration 12  ] residual:        271 | iteration runtime:   1279.193 ms, (      15.6 s total)\n",
      "[Iteration 13  ] residual:        263 | iteration runtime:   1297.576 ms, (      16.9 s total)\n",
      "[Iteration 14  ] residual:        266 | iteration runtime:   1290.579 ms, (      18.1 s total)\n",
      "[Iteration 15  ] residual:        274 | iteration runtime:   1297.456 ms, (      19.4 s total)\n",
      "[Iteration 16  ] residual:        259 | iteration runtime:   1285.038 ms, (      20.7 s total)\n",
      "[Iteration 17  ] residual:        272 | iteration runtime:   1302.705 ms, (        22 s total)\n",
      "[Iteration 18  ] residual:        253 | iteration runtime:   1291.541 ms, (      23.3 s total)\n",
      "[Iteration 19  ] residual:        264 | iteration runtime:   1299.066 ms, (      24.6 s total)\n",
      "[Iteration 20  ] residual:        259 | iteration runtime:   1295.008 ms, (      25.9 s total)\n",
      "[Iteration 21  ] residual:        284 | iteration runtime:   1305.481 ms, (      27.2 s total)\n",
      "[Iteration 22  ] residual:        337 | iteration runtime:   1249.054 ms, (      28.5 s total)\n",
      "[Iteration 23  ] residual:        346 | iteration runtime:   1247.172 ms, (      29.7 s total)\n",
      "[Iteration 24  ] residual:        282 | iteration runtime:   1237.533 ms, (        31 s total)\n",
      "[Iteration 25  ] residual:        275 | iteration runtime:   1246.878 ms, (      32.2 s total)\n",
      "[Iteration 26  ] residual:        258 | iteration runtime:   1242.160 ms, (      33.4 s total)\n",
      "[Iteration 27  ] residual:        254 | iteration runtime:   1253.774 ms, (      34.7 s total)\n",
      "[Iteration 28  ] residual:        239 | iteration runtime:   1243.976 ms, (      35.9 s total)\n",
      "[Iteration 29  ] residual:        289 | iteration runtime:   1272.595 ms, (      37.2 s total)\n",
      "[Iteration 30  ] residual:        235 | iteration runtime:   1263.761 ms, (      38.5 s total)\n"
     ]
    },
    {
     "data": {
      "text/plain": [
       "ValueIterationPolicy:\n",
       " State(0, 0, 1, -20) -> REJECT\n",
       " State(0, 0, 1, -4) -> REJECT\n",
       " State(0, 0, 1, 0) -> REJECT\n",
       " State(0, 0, 1, 1) -> ACCEPT\n",
       " State(0, 0, 1, 2) -> ACCEPT\n",
       " State(0, 0, 1, 3) -> ACCEPT\n",
       " State(0, 0, 1, 4) -> ACCEPT\n",
       " State(0, 0, 1, 10) -> ACCEPT\n",
       " State(0, 0, 2, -20) -> REJECT\n",
       " State(0, 0, 2, -4) -> REJECT\n",
       " State(0, 0, 2, 0) -> REJECT\n",
       " State(0, 0, 2, 1) -> ACCEPT\n",
       " State(0, 0, 2, 2) -> ACCEPT\n",
       " State(0, 0, 2, 3) -> ACCEPT\n",
       " State(0, 0, 2, 4) -> ACCEPT\n",
       " State(0, 0, 2, 10) -> ACCEPT\n",
       " State(0, 0, 3, -20) -> REJECT\n",
       " State(0, 0, 3, -4) -> REJECT\n",
       " State(0, 0, 3, 0) -> REJECT\n",
       " State(0, 0, 3, 1) -> ACCEPT\n",
       " State(0, 0, 3, 2) -> ACCEPT\n",
       " State(0, 0, 3, 3) -> ACCEPT\n",
       " State(0, 0, 3, 4) -> ACCEPT\n",
       " State(0, 0, 3, 10) -> ACCEPT\n",
       " State(0, 0, 4, -20) -> REJECT\n",
       " …"
      ]
     },
     "execution_count": 23,
     "metadata": {},
     "output_type": "execute_result"
    }
   ],
   "source": [
    "policy = solve(solver, mdp) "
   ]
  },
  {
   "cell_type": "markdown",
   "id": "55ffed9b",
   "metadata": {},
   "source": [
    "**Additional possible needs- use for baseline policies?**"
   ]
  },
  {
   "cell_type": "code",
   "execution_count": null,
   "id": "68e81c1e",
   "metadata": {},
   "outputs": [],
   "source": [
    "# helper functions to:\n",
    "# 1. get all the values from a policy\n",
    "\n",
    "\n",
    "begin\n",
    "    function one_based_policy!(policy)\n",
    "        # change the default action in the policy (all zeros) to all ones (if needed) e.g. just accept everyone\n",
    "        if all(iszero, policy.policy)\n",
    "            policy.policy[:] = ones(eltype(policy.policy), length(policy.policy))\n",
    "        end\n",
    "    end\n",
    "    \n",
    "    # no idea if this is right \n",
    "    function get_rewards(mdp::QuickMDP{Evacuation}, policy::Policy)\n",
    "        null_state = params.null_state\n",
    "        valid_states = setdiff(states(mdp), [null_state])\n",
    "        valid_actions = [action(policy, valid_state) for valid_state in valid_states]\n",
    "        # can I map a state and action to reward? \n",
    "        state_actions = zip(valid_states, valid_actions) \n",
    "        U = map(state_action->reward(mdp, state_action), state_actions)\n",
    "    end\n",
    "    \n",
    "    function values(mdp::QuickMDP{Evacuation}, policy::Policy)\n",
    "        null_state = params.null_state\n",
    "        valid_states = setdiff(states(mdp), [null_state])\n",
    "        U = map(s->value(policy, s), valid_states)\n",
    "    end\n",
    "    \n",
    "#     # WHAT DOES THIS ONE DO? Monte carlo tree search... don't need \n",
    "#     function values(mdp::QuickMDP{Evacuation}, planner::MCTSPlanner)\n",
    "#         null_state = params.null_state\n",
    "#         valid_states = setdiff(states(mdp), [null_state])\n",
    "#         U = []\n",
    "#         for s in valid_states\n",
    "#             u = 0\n",
    "#             try\n",
    "#                 u = value(planner, s)\n",
    "#             catch\n",
    "#                 # state not in tree\n",
    "#             end\n",
    "#             push!(U, u)\n",
    "#         end\n",
    "#         return U\n",
    "#     end\n",
    "    \n",
    "    function values(mdp::QuickMDP{Evacuation}, policy::ValuePolicy)\n",
    "        maxU = mapslices(maximum, policy.value_table, dims=2)\n",
    "        return maxU[1:end-1] # remove null_state\n",
    "    end\n",
    "    \n",
    "    struct NothingPolicy <: Policy end\n",
    "    \n",
    "    # Use this to get a stationary grid of rewards\n",
    "    function values(mdp::QuickMDP{Evacuation}, policy::Union{NothingPolicy, FunctionPolicy})\n",
    "        null_state = params.null_state\n",
    "        valid_states = setdiff(states(mdp), [null_state])\n",
    "        rewards = map(s->reward(mdp, s), valid_states)\n",
    "    end\n",
    "end"
   ]
  },
  {
   "cell_type": "code",
   "execution_count": 28,
   "id": "6f9e37ee",
   "metadata": {},
   "outputs": [
    {
     "data": {
      "text/plain": [
       "346481-element Vector{Int64}:\n",
       " 1\n",
       " 1\n",
       " 1\n",
       " 2\n",
       " 2\n",
       " 2\n",
       " 2\n",
       " 2\n",
       " 1\n",
       " 1\n",
       " 1\n",
       " 2\n",
       " 2\n",
       " ⋮\n",
       " 2\n",
       " 2\n",
       " 2\n",
       " 1\n",
       " 1\n",
       " 2\n",
       " 2\n",
       " 2\n",
       " 2\n",
       " 2\n",
       " 2\n",
       " 1"
      ]
     },
     "execution_count": 28,
     "metadata": {},
     "output_type": "execute_result"
    }
   ],
   "source": [
    "# policy.policy # what is this? "
   ]
  },
  {
   "cell_type": "code",
   "execution_count": 26,
   "id": "351dac08",
   "metadata": {},
   "outputs": [
    {
     "ename": "LoadError",
     "evalue": "type ValueIterationPolicy has no field action",
     "output_type": "error",
     "traceback": [
      "type ValueIterationPolicy has no field action",
      "",
      "Stacktrace:",
      " [1] getproperty(x::ValueIterationPolicy{Matrix{Float64}, Vector{Float64}, Vector{Int64}, Action, QuickMDP{Evacuation, State, Action, NamedTuple{(:stateindex, :isterminal, :states, :statetype, :discount, :render, :actions, :actionindex, :transition, :reward, :initialstate), Tuple{Dict{State, Int64}, typeof(termination), Vector{Any}, DataType, Float64, typeof(render), Vector{Action}, Dict{Action, Int64}, typeof(T), typeof(R), Vector{State}}}}}, f::Symbol)",
      "   @ Base ./Base.jl:33",
      " [2] top-level scope",
      "   @ In[26]:1",
      " [3] eval",
      "   @ ./boot.jl:360 [inlined]",
      " [4] include_string(mapexpr::typeof(REPL.softscope), mod::Module, code::String, filename::String)",
      "   @ Base ./loading.jl:1116"
     ]
    }
   ],
   "source": [
    "#https://github.com/JuliaPOMDP/DiscreteValueIteration.jl/blob/master/src/common.jl\n",
    "# # Fields \n",
    "# - `qmat`  Q matrix storing Q(s,a) values\n",
    "# - `util` The value function V(s)\n",
    "# - `policy` Policy array, maps state index to action index\n",
    "# - `action_map` Maps the action index to the concrete action type\n",
    "# - `include_Q` Flag for including the Q-matrix\n",
    "# - `mdp`  uses the model for indexing in the action function\n",
    "# \"\"\"\n",
    "# struct ValueIterationPolicy{Q<:AbstractMatrix, U<:AbstractVector, P<:AbstractVector, A, M<:MDP} <: Policy\n",
    "#     qmat::Q\n",
    "#     util::U \n",
    "#     policy::P \n",
    "#     action_map::Vector{A}\n",
    "#     include_Q::Bool \n",
    "#     mdp::M\n",
    "# end"
   ]
  },
  {
   "cell_type": "code",
   "execution_count": 34,
   "id": "f158468a",
   "metadata": {},
   "outputs": [
    {
     "data": {
      "text/plain": [
       "2-element Vector{Action}:\n",
       " REJECT::Action = 0\n",
       " ACCEPT::Action = 1"
      ]
     },
     "execution_count": 34,
     "metadata": {},
     "output_type": "execute_result"
    }
   ],
   "source": [
    "policy.action_map"
   ]
  },
  {
   "cell_type": "code",
   "execution_count": 35,
   "id": "4e4327d7",
   "metadata": {},
   "outputs": [
    {
     "data": {
      "text/plain": [
       "QuickMDP{Evacuation, State, Action, NamedTuple{(:stateindex, :isterminal, :states, :statetype, :discount, :render, :actions, :actionindex, :transition, :reward, :initialstate), Tuple{Dict{State, Int64}, typeof(termination), Vector{Any}, DataType, Float64, typeof(render), Vector{Action}, Dict{Action, Int64}, typeof(T), typeof(R), Vector{State}}}}((stateindex = Dict{State, Int64}(State(22, 0, 1, 10) => 107368, State(28, 17, 3, 1) => 138020, State(16, 28, 10, 10) => 80400, State(12, 6, 9, 2) => 59109, State(13, 48, 10, 10) => 67360, State(40, 27, 4, 4) => 197391, State(47, 46, 6, 4) => 233087, State(17, 18, 7, 0) => 84451, State(61, 33, 6, 2) => 300365, State(55, 33, 9, 0) => 271107…), isterminal = termination, states = Any[State(0, 0, 1, -20), State(0, 0, 1, -4), State(0, 0, 1, 0), State(0, 0, 1, 1), State(0, 0, 1, 2), State(0, 0, 1, 3), State(0, 0, 1, 4), State(0, 0, 1, 10), State(0, 0, 2, -20), State(0, 0, 2, -4)  …  State(70, 60, 9, 10), State(70, 60, 10, -20), State(70, 60, 10, -4), State(70, 60, 10, 0), State(70, 60, 10, 1), State(70, 60, 10, 2), State(70, 60, 10, 3), State(70, 60, 10, 4), State(70, 60, 10, 10), State(-1, -1, -1, -1)], statetype = State, discount = 0.95, render = POMDPModelTools.render, actions = Action[REJECT, ACCEPT], actionindex = Dict{Action, Int64}(ACCEPT => 2, REJECT => 1), transition = T, reward = R, initialstate = State[State(70, 60, 9, 1)]))"
      ]
     },
     "execution_count": 35,
     "metadata": {},
     "output_type": "execute_result"
    }
   ],
   "source": [
    "policy.mdp"
   ]
  },
  {
   "cell_type": "code",
   "execution_count": 41,
   "id": "b9efe53e",
   "metadata": {},
   "outputs": [
    {
     "data": {
      "text/plain": [
       "1"
      ]
     },
     "execution_count": 41,
     "metadata": {},
     "output_type": "execute_result"
    }
   ],
   "source": [
    "actionvalues(policy, s)[actionindex(policy.mdp, REJECT)]"
   ]
  },
  {
   "cell_type": "code",
   "execution_count": 44,
   "id": "4b66eb87",
   "metadata": {},
   "outputs": [
    {
     "data": {
      "text/plain": [
       "346481-element Vector{Any}:\n",
       " State(0, 0, 1, -20)\n",
       " State(0, 0, 1, -4)\n",
       " State(0, 0, 1, 0)\n",
       " State(0, 0, 1, 1)\n",
       " State(0, 0, 1, 2)\n",
       " State(0, 0, 1, 3)\n",
       " State(0, 0, 1, 4)\n",
       " State(0, 0, 1, 10)\n",
       " State(0, 0, 2, -20)\n",
       " State(0, 0, 2, -4)\n",
       " State(0, 0, 2, 0)\n",
       " State(0, 0, 2, 1)\n",
       " State(0, 0, 2, 2)\n",
       " ⋮\n",
       " State(70, 60, 9, 3)\n",
       " State(70, 60, 9, 4)\n",
       " State(70, 60, 9, 10)\n",
       " State(70, 60, 10, -20)\n",
       " State(70, 60, 10, -4)\n",
       " State(70, 60, 10, 0)\n",
       " State(70, 60, 10, 1)\n",
       " State(70, 60, 10, 2)\n",
       " State(70, 60, 10, 3)\n",
       " State(70, 60, 10, 4)\n",
       " State(70, 60, 10, 10)\n",
       " State(-1, -1, -1, -1)"
      ]
     },
     "execution_count": 44,
     "metadata": {},
     "output_type": "execute_result"
    }
   ],
   "source": [
    "states(mdp)"
   ]
  },
  {
   "cell_type": "markdown",
   "id": "9848530b",
   "metadata": {},
   "source": [
    "**Basesline Policies**"
   ]
  },
  {
   "cell_type": "code",
   "execution_count": 59,
   "id": "e9472cc3",
   "metadata": {},
   "outputs": [
    {
     "data": {
      "text/plain": [
       "only_AMCITS_before_threshold! (generic function with 1 method)"
      ]
     },
     "execution_count": 59,
     "metadata": {},
     "output_type": "execute_result"
    }
   ],
   "source": [
    "#Looking at this and confused. Also-do we need to use all the states we have from our \n",
    "#https://github.com/JuliaPOMDP/DiscreteValueIteration.jl/blob/master/src/common.jl\n",
    "#just accept anyone with a positive status \n",
    "#accept Anyone with a high status and low family size \n",
    "#accept everyone who is status 5 until 50 seats remaining and then anything goes \n",
    "#policy::Policy\n",
    "# function baseline_policies(policy::Policy, )\n",
    "        # accept all until capacity would be 0 \n",
    "        # actually I think you just accept all families and then the simulator stops at the terminal state\n",
    "  \n",
    "\n",
    "    # anyone up to capacity\n",
    "function accept_all!(policy::Policy)\n",
    "    policy.policy[:] = 2*ones(eltype(policy.policy), length(policy.policy)) # better way? 2 is accept \n",
    "    return policy\n",
    "end\n",
    "# Only AMCITS and SIVs \n",
    "function accept_AMCITS!(policy::Policy)\n",
    "    return policy\n",
    "end\n",
    "function accept_SIVS_AMCITS!(policy::Policy)\n",
    "    return policy\n",
    "end\n",
    "# Threshold: only AMCITS up to a certain time \n",
    "function only_AMCITS_after_threshold!(policy::Policy, threshold_time::Int)\n",
    "    return policy\n",
    "end\n",
    "# Threshold: only AMCITS after a certain time \n",
    "function only_AMCITS_before_threshold!(policy::Policy, threshold_time::Int)\n",
    "    return policy\n",
    "end    \n"
   ]
  },
  {
   "cell_type": "code",
   "execution_count": 60,
   "id": "c5956c2c",
   "metadata": {},
   "outputs": [
    {
     "data": {
      "text/plain": [
       "ValueIterationPolicy:\n",
       " State(0, 0, 1, -20) -> ACCEPT\n",
       " State(0, 0, 1, -4) -> ACCEPT\n",
       " State(0, 0, 1, 0) -> ACCEPT\n",
       " State(0, 0, 1, 1) -> ACCEPT\n",
       " State(0, 0, 1, 2) -> ACCEPT\n",
       " State(0, 0, 1, 3) -> ACCEPT\n",
       " State(0, 0, 1, 4) -> ACCEPT\n",
       " State(0, 0, 1, 10) -> ACCEPT\n",
       " State(0, 0, 2, -20) -> ACCEPT\n",
       " State(0, 0, 2, -4) -> ACCEPT\n",
       " State(0, 0, 2, 0) -> ACCEPT\n",
       " State(0, 0, 2, 1) -> ACCEPT\n",
       " State(0, 0, 2, 2) -> ACCEPT\n",
       " State(0, 0, 2, 3) -> ACCEPT\n",
       " State(0, 0, 2, 4) -> ACCEPT\n",
       " State(0, 0, 2, 10) -> ACCEPT\n",
       " State(0, 0, 3, -20) -> ACCEPT\n",
       " State(0, 0, 3, -4) -> ACCEPT\n",
       " State(0, 0, 3, 0) -> ACCEPT\n",
       " State(0, 0, 3, 1) -> ACCEPT\n",
       " State(0, 0, 3, 2) -> ACCEPT\n",
       " State(0, 0, 3, 3) -> ACCEPT\n",
       " State(0, 0, 3, 4) -> ACCEPT\n",
       " State(0, 0, 3, 10) -> ACCEPT\n",
       " State(0, 0, 4, -20) -> ACCEPT\n",
       " …"
      ]
     },
     "execution_count": 60,
     "metadata": {},
     "output_type": "execute_result"
    }
   ],
   "source": [
    "accept_all_policy = accept_all!(policy)"
   ]
  },
  {
   "cell_type": "code",
   "execution_count": 47,
   "id": "96dddebc",
   "metadata": {},
   "outputs": [
    {
     "data": {
      "text/plain": [
       "ValueIterationPolicy:\n",
       " State(0, 0, 1, -20) -> REJECT\n",
       " State(0, 0, 1, -4) -> REJECT\n",
       " State(0, 0, 1, 0) -> REJECT\n",
       " State(0, 0, 1, 1) -> ACCEPT\n",
       " State(0, 0, 1, 2) -> ACCEPT\n",
       " State(0, 0, 1, 3) -> ACCEPT\n",
       " State(0, 0, 1, 4) -> ACCEPT\n",
       " State(0, 0, 1, 10) -> ACCEPT\n",
       " State(0, 0, 2, -20) -> REJECT\n",
       " State(0, 0, 2, -4) -> REJECT\n",
       " State(0, 0, 2, 0) -> REJECT\n",
       " State(0, 0, 2, 1) -> ACCEPT\n",
       " State(0, 0, 2, 2) -> ACCEPT\n",
       " State(0, 0, 2, 3) -> ACCEPT\n",
       " State(0, 0, 2, 4) -> ACCEPT\n",
       " State(0, 0, 2, 10) -> ACCEPT\n",
       " State(0, 0, 3, -20) -> REJECT\n",
       " State(0, 0, 3, -4) -> REJECT\n",
       " State(0, 0, 3, 0) -> REJECT\n",
       " State(0, 0, 3, 1) -> ACCEPT\n",
       " State(0, 0, 3, 2) -> ACCEPT\n",
       " State(0, 0, 3, 3) -> ACCEPT\n",
       " State(0, 0, 3, 4) -> ACCEPT\n",
       " State(0, 0, 3, 10) -> ACCEPT\n",
       " State(0, 0, 4, -20) -> REJECT\n",
       " …"
      ]
     },
     "execution_count": 47,
     "metadata": {},
     "output_type": "execute_result"
    }
   ],
   "source": []
  },
  {
   "cell_type": "markdown",
   "id": "fc4c6514",
   "metadata": {},
   "source": [
    "**Aggregate Metrics**"
   ]
  },
  {
   "cell_type": "code",
   "execution_count": null,
   "id": "721d9969",
   "metadata": {},
   "outputs": [],
   "source": [
    "# total_states = size(𝒮)[1]\n",
    "\n",
    "# total_accept = 0\n",
    "# total_reject = 0\n",
    "\n",
    "\n",
    "# # this is a dictionary mapping a visa staus to \n",
    "# # can make it into variables so if we change it...\n",
    "# # also possibly make it a counter \n",
    "# #visa_statuses = params.visa_status\n",
    "\n",
    "# visa_counts = Dict(-5=>0, -4=>0, -3=>0, -2=>0, -1=>0, 0=>0, 1=>0, 2=>0, 3=>0, 4=>0, 5=>0)\n",
    "\n",
    "# for c in 0:params.capacity # capacity ends at 0 \n",
    "#     for t in 0:params.time # time ends at 0 \n",
    "#         for f in params.family_sizes # family size here we should have the ACTUAL family sizes \n",
    "#             for v in params.visa_status # actual visa statuses  \n",
    "#                 state = State(c, t, f, v)\n",
    "#                 if action(policy, state) == ACCEPT\n",
    "#                     total_accept += 1\n",
    "#                     visa_counts[v] += 1\n",
    "#                 else \n",
    "#                     total_reject += 1\n",
    "#                 end\n",
    "#             end        \n",
    "#         end\n",
    "#     end\n",
    "# end\n",
    "    \n",
    "# percent_accept = total_accept / total_states \n",
    "# percent_reject = total_reject / total_states \n",
    "\n",
    "# visa_counts\n",
    "    \n",
    "    \n",
    "\n"
   ]
  },
  {
   "cell_type": "code",
   "execution_count": null,
   "id": "141db8a3",
   "metadata": {},
   "outputs": [],
   "source": [
    "params"
   ]
  },
  {
   "cell_type": "code",
   "execution_count": null,
   "id": "558afdc0",
   "metadata": {},
   "outputs": [],
   "source": [
    "#print(${policy} & {percent_accept:.2f}$\\pm${percent_reject:.2f} & {mean_correlation:.2f}$\\pm${std_correlation:.2f} & {mean_mutual_info_regression:.2f}$\\pm${std_mutual_info_regression:.2f}\\\\\\\\\")"
   ]
  },
  {
   "cell_type": "markdown",
   "id": "0ba418d9",
   "metadata": {},
   "source": [
    "**Visualizations Trial 2**"
   ]
  },
  {
   "cell_type": "code",
   "execution_count": null,
   "id": "60d89b3a",
   "metadata": {},
   "outputs": [],
   "source": [
    "\n",
    "function vis_time_step(policy, c, t) # pass in policy and chairs and time remaing. Spit out graph of family size versus visa status.\n",
    "    (vi, fa) = params.size  #visa, family 8, 15\n",
    "    policyGraph = zeros(vi, fa) #8 by 15 matrix of zeroes\n",
    "    \n",
    "    for f in 1:fa\n",
    "        for v in 1:vi\n",
    "            act = action(policy, State(c, t, f, v - 5))\n",
    "            if act == ACCEPT\n",
    "                policyGraph[v,f] = 100\n",
    "            else\n",
    "                policyGraph[v,f] = 0\n",
    "            end\n",
    "        end\n",
    "    end\n",
    "    \n",
    "    x=params.visa_status\n",
    "    y=params.family_sizes\n",
    "    z=policyGraph'\n",
    "    title_time_cap=\"t = $t c = $c \"\n",
    "    return heatmap(x, y, z, aspect_ratio = 1, legend = :none, xlims = (-4,4), xlabel = \"Visa Status\", ylabel = \"Family Size\", ylims = (1,10), title=title_time_cap )\n",
    "    \n",
    "end"
   ]
  },
  {
   "cell_type": "code",
   "execution_count": null,
   "id": "3a547a57",
   "metadata": {},
   "outputs": [],
   "source": [
    "# full time and capacity \n",
    "p_1 = vis_time_step(policy, 150, 60)\n"
   ]
  },
  {
   "cell_type": "code",
   "execution_count": null,
   "id": "39d9eaa3",
   "metadata": {},
   "outputs": [],
   "source": [
    "# mid time mid capacity \n",
    "p_2 = vis_time_step(policy, 50, 50)\n"
   ]
  },
  {
   "cell_type": "code",
   "execution_count": null,
   "id": "47768586",
   "metadata": {},
   "outputs": [],
   "source": []
  },
  {
   "cell_type": "code",
   "execution_count": null,
   "id": "70d2fb44",
   "metadata": {},
   "outputs": [],
   "source": [
    "# low time mid capacity\n",
    "p = vis_time_step(policy, 10, 50)\n"
   ]
  },
  {
   "cell_type": "code",
   "execution_count": null,
   "id": "9081b2c4",
   "metadata": {},
   "outputs": [],
   "source": [
    "# low capacity high time\n",
    "p = vis_time_step(policy, 50, 10)\n"
   ]
  },
  {
   "cell_type": "code",
   "execution_count": null,
   "id": "70936dc5",
   "metadata": {},
   "outputs": [],
   "source": [
    "# no time or capacity \n",
    "p = vis_time_step(policy, 0, 0)\n"
   ]
  },
  {
   "cell_type": "code",
   "execution_count": null,
   "id": "61639455",
   "metadata": {},
   "outputs": [],
   "source": [
    "t = 2\n",
    "\"Evacuation Policy when t = $t\""
   ]
  },
  {
   "cell_type": "code",
   "execution_count": null,
   "id": "41ab4833",
   "metadata": {},
   "outputs": [],
   "source": [
    "# group plot \n",
    "# http://docs.juliaplots.org/latest/layouts/\n",
    "function vis_all(policy)\n",
    "    total_time = params.time \n",
    "    total_capacity = params.capacity\n",
    "    total_graphs = total_time*total_capacity\n",
    "    heat_maps = []\n",
    "    for t in 1:2 #total_time\n",
    "        for c in 1:2 #total_capacity\n",
    "            push!(heat_maps, vis_time_step(policy, c, t))\n",
    "          #  plot(vis_time_step(policy, 1, 1), layout =1)\n",
    "        end\n",
    "    end\n",
    "    return heat_maps\n",
    "    \n",
    "   # plot(vis_time_step(policy, 1, 1), layout =1)\n",
    "   # plot(vis_time_step(policy, c, t), layout =4)\n",
    " #   \"$heat_maps[i],\" for i in 1:2\n",
    "        \n",
    "   \n",
    "  #  plot(heat_maps[i] for i in 1:total_graphs, layout=4)\n",
    "    # return vis_time_step(policy, c, t)\n",
    "end\n",
    "\n",
    "\n",
    "\n",
    "#plot(p_1, p_2, layout = 2)\n"
   ]
  },
  {
   "cell_type": "code",
   "execution_count": null,
   "id": "8adf3f2a",
   "metadata": {},
   "outputs": [],
   "source": [
    "heat_maps = vis_all(policy)"
   ]
  },
  {
   "cell_type": "code",
   "execution_count": null,
   "id": "5db6403f",
   "metadata": {},
   "outputs": [],
   "source": [
    "plot(\"$heat_maps[i],\" for i in 1:2, layout=2)"
   ]
  },
  {
   "cell_type": "code",
   "execution_count": null,
   "id": "e7f0384e",
   "metadata": {},
   "outputs": [],
   "source": [
    "vis_all(policy)"
   ]
  },
  {
   "cell_type": "code",
   "execution_count": null,
   "id": "d06b1935",
   "metadata": {},
   "outputs": [],
   "source": [
    "rand(10, 4)"
   ]
  },
  {
   "cell_type": "code",
   "execution_count": null,
   "id": "8a477923",
   "metadata": {},
   "outputs": [],
   "source": [
    "gr(leg = false, bg = :lightgrey)"
   ]
  },
  {
   "cell_type": "code",
   "execution_count": null,
   "id": "ea0e1959",
   "metadata": {},
   "outputs": [],
   "source": [
    "plot(p1, p2)"
   ]
  },
  {
   "cell_type": "code",
   "execution_count": null,
   "id": "a43c64c8",
   "metadata": {},
   "outputs": [],
   "source": [
    "l = @layout [a b;  c d]\n",
    "p1 = plot(vis_time_step(policy, 1, 0))\n",
    "p2 = plot(vis_time_step(policy, 0, 1))\n",
    "p3 = plot(vis_time_step(policy, 1, 1))\n",
    "p4 = plot(vis_time_step(policy, 1, 1))\n",
    "plot(p1, p2, p3, p4, layout = l)"
   ]
  },
  {
   "cell_type": "code",
   "execution_count": null,
   "id": "176498ab",
   "metadata": {},
   "outputs": [],
   "source": [
    "vis_all(policy)"
   ]
  },
  {
   "cell_type": "code",
   "execution_count": null,
   "id": "624ef2a4",
   "metadata": {},
   "outputs": [],
   "source": [
    "l = @layout [\n",
    "    a{0.2w} [grid(2,2)\n",
    "             b{0.2h}  ]\n",
    "]"
   ]
  },
  {
   "cell_type": "code",
   "execution_count": null,
   "id": "b8b022ed",
   "metadata": {},
   "outputs": [],
   "source": []
  },
  {
   "cell_type": "code",
   "execution_count": null,
   "id": "0245c938",
   "metadata": {},
   "outputs": [],
   "source": [
    "vis_all(policy)"
   ]
  },
  {
   "cell_type": "code",
   "execution_count": null,
   "id": "13cb6f0f",
   "metadata": {},
   "outputs": [],
   "source": [
    "#@show size(heat_maps) [shouldn't this be 60*20 here]"
   ]
  },
  {
   "cell_type": "code",
   "execution_count": null,
   "id": "b884826a",
   "metadata": {},
   "outputs": [],
   "source": [
    "p = vis(policy, 20, 20)\n",
    "# plot(p)\n",
    "#policyGraph = zeros(5,3) #turns into 5 by 3 matrix\n",
    "#(xmax, ymax) = params.size    \n"
   ]
  },
  {
   "cell_type": "code",
   "execution_count": null,
   "id": "4a5bce43",
   "metadata": {},
   "outputs": [],
   "source": [
    "p = vis(policy, 20, 60)\n",
    "#State(c, t, f, v)"
   ]
  },
  {
   "cell_type": "code",
   "execution_count": null,
   "id": "49c922af",
   "metadata": {},
   "outputs": [],
   "source": [
    "p = vis(policy, 10, 10)\n"
   ]
  },
  {
   "cell_type": "markdown",
   "id": "77348a83",
   "metadata": {},
   "source": [
    "**Simulation**"
   ]
  },
  {
   "cell_type": "code",
   "execution_count": null,
   "id": "56f8f82e",
   "metadata": {},
   "outputs": [],
   "source": [
    "# one can use the Rollout Simulator \n",
    "# from the POMDPSimulators package to find the accumulated discounted reward from a single simulated trajectory as follows:\n",
    "\n",
    "function simulation(policy, mdp)\n",
    "    sim = RolloutSimulator()\n",
    "    r = simulate(sim, mdp, policy) #accumulated discounted reward \n",
    "    return r\n",
    "end\n",
    "\n"
   ]
  },
  {
   "cell_type": "code",
   "execution_count": null,
   "id": "37158ff7",
   "metadata": {},
   "outputs": [],
   "source": [
    "simulation(policy, mdp) # this should be changing becuase our MDP has uncertainty??"
   ]
  },
  {
   "cell_type": "code",
   "execution_count": null,
   "id": "8aac5154",
   "metadata": {},
   "outputs": [],
   "source": []
  },
  {
   "cell_type": "markdown",
   "id": "a25a5e24",
   "metadata": {},
   "source": [
    "**Visualizations**"
   ]
  },
  {
   "cell_type": "code",
   "execution_count": null,
   "id": "707aed5a",
   "metadata": {},
   "outputs": [],
   "source": [
    "# struct evacPolicy <: Policy end "
   ]
  },
  {
   "cell_type": "code",
   "execution_count": null,
   "id": "05ce8f77",
   "metadata": {},
   "outputs": [],
   "source": [
    "# function plot_evac(mdp::MDP,\n",
    "#         policy::Policy=NothingPolicy(),  # our policy will have states State(c, t, f, v) with actions (reject/accept)\n",
    "#         iter=0,\n",
    "#         discount=NaN; \n",
    "#         outline=true,\n",
    "#         show_policy=true,\n",
    "#         show_rewards=false, \n",
    "#         outline_state::Union{State, Nothing}=nothing\n",
    "#     )\n",
    "                   \n",
    "#     gr()\n",
    "    \n",
    "#     # what do here? \n",
    "# #     if policy isa NothingPolicy\n",
    "# #         # override when the policy is empty\n",
    "# #         show_policy = false\n",
    "# #     end\n",
    "    \n",
    "#     show_policy = false\n",
    "    \n",
    "# #     U = zeros(1, params.size[1]*params.size[2]) # tryung \n",
    "# #     policy = ones(1, params.size[1]*params.size[2]) # how do you make a policy? \n",
    "# #    DISCUSS \n",
    "#     if iter == 0\n",
    "#         # solver has not been run yet, so we just plot the raw rewards\n",
    "#         # overwrite policy at time=0 to be emp\n",
    "#         U = get_rewards(mdp, policy)\n",
    "#     else\n",
    "#         # otherwise, use the Value Function to get the values (i.e., utility)\n",
    "#         U = values(mdp, policy)\n",
    "#     end\n",
    "    \n",
    "#     # reshape to grid\n",
    "#     (xmax, ymax) = params.size # reshape grid to family size * visa status\n",
    "#     Uxy = reshape(U, xmax, ymax)\n",
    "#     # plot values (i.e the U matrix)\n",
    "#     fig = heatmap(Uxy',\n",
    "#                   legend=:none,\n",
    "#                   aspect_ratio=:equal,\n",
    "#                   framestyle=:box,\n",
    "#                   tickdirection=:out)\n",
    "#     xlims!(0.5, xmax+0.5)\n",
    "#     ylims!(0.5, ymax+0.5)\n",
    "#     xticks!(1:xmax)\n",
    "#     yticks!(1:ymax)\n",
    "#     rectangle(w, h, x, y) = Shape(x .+ [0,w,w,0], y .+ [0,0,h,h])\n",
    "#     # not sure the visualization makes perfect sense since x and y will not have every possible family size...\n",
    "#     # policy_grid(policy::Policy, xmax::Int, ymax::Int, time::Int, capacity::Int)\n",
    "#     # Let x represent family size, y represent visa status \n",
    "#     for x in 1:xmax, y in 1:ymax \n",
    "#         policy_grid(policy, xmax, ymax, 0, 0) # time = 0 and capacity = 0 here - the last time step \n",
    "#         annotate!([(x, y, (grid[x,y], :center, 12, \"Computer Modern\"))])\n",
    "#         rect = rectangle(1, 1, x - 0.5, y - 0.5)\n",
    "#         plot!(rect, fillalpha=0, linecolor=:gray)\n",
    "        \n",
    "#         # Some if statement here to say: \n",
    "#         # if policy at State(c,t,f,v) == ACCEPT\n",
    "#             # color = green\n",
    "#         # else \n",
    "#             # no color \n",
    "#     end\n",
    "#         title!(\"Evacuation Policy Plot$extra_title\")\n",
    "#         return fig \n",
    "# end"
   ]
  },
  {
   "cell_type": "code",
   "execution_count": null,
   "id": "18e35ac1",
   "metadata": {},
   "outputs": [],
   "source": [
    "# plot_evac(mdp)"
   ]
  },
  {
   "cell_type": "code",
   "execution_count": null,
   "id": "8ac030dc",
   "metadata": {},
   "outputs": [],
   "source": [
    "# policy\n",
    "# act = action(policy, State(0,0,1,5))\n"
   ]
  },
  {
   "cell_type": "code",
   "execution_count": null,
   "id": "74e06d61",
   "metadata": {},
   "outputs": [],
   "source": []
  },
  {
   "cell_type": "code",
   "execution_count": null,
   "id": "5629983e",
   "metadata": {},
   "outputs": [],
   "source": [
    "# # create policy grid showing the best action in each state at a particular time and capacity \n",
    "# #State(c, t, f, v)\n",
    "# function policy_grid(policy::Policy, xmax::Int, ymax::Int, time::Int, capacity::Int)\n",
    "#     viz_action = Dict(REJECT => \"\",\n",
    "#                   ACCEPT => \"+\",)\n",
    "#     grid = Array{String}(undef, xmax, ymax)\n",
    "#     for x = 1:xmax, y = 1:xmax\n",
    "#         s = State(capacity, time, x, y) # x is family size, v is visa status \n",
    "#         grid[x,y] = viz_action[action(policy, s)] # need to define this action space \n",
    "#     end\n",
    "#     return grid\n",
    "# end\n"
   ]
  },
  {
   "cell_type": "code",
   "execution_count": null,
   "id": "177bb027",
   "metadata": {},
   "outputs": [],
   "source": [
    "#(chairs, time, family_size, visa_status)\n",
    "#T(State(-1, -1, 4, 5), ACCEPT)\n",
    "# this is the problem \n",
    "# ACCEPT: State(50, 9, ANYTHING, ANYTHING)\n",
    "# ACCEPT: State(42, 9, ANYTHING, ANYTHING)\n",
    "# REJECT: State(50, 9, ANYTHING, ANYTHING)"
   ]
  },
  {
   "cell_type": "code",
   "execution_count": null,
   "id": "f4143a72",
   "metadata": {},
   "outputs": [],
   "source": [
    "# T(State(4, 3, 4, 5), ACCEPT)\n"
   ]
  },
  {
   "cell_type": "code",
   "execution_count": null,
   "id": "a4a560f5",
   "metadata": {},
   "outputs": [],
   "source": [
    "#T(State(-1, -1, 4, 5), ACCEPT)"
   ]
  }
 ],
 "metadata": {
  "@webio": {
   "lastCommId": "b5d61c2173eb40a488d5cac01c9e13a1",
   "lastKernelId": "c341b7c9-7607-47e4-9d4e-360847dfcdec"
  },
  "kernelspec": {
   "display_name": "Julia 1.6.2",
   "language": "julia",
   "name": "julia-1.6"
  },
  "language_info": {
   "file_extension": ".jl",
   "mimetype": "application/julia",
   "name": "julia",
   "version": "1.6.2"
  }
 },
 "nbformat": 4,
 "nbformat_minor": 5
}
