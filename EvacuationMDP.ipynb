{
 "cells": [
  {
   "cell_type": "code",
   "execution_count": 3,
   "id": "2df6dbc7",
   "metadata": {},
   "outputs": [],
   "source": [
    "using POMDPs # for MDP type\n",
    "using DiscreteValueIteration\n",
    "using POMDPPolicies\n",
    "using POMDPModelTools #for sparse cat \n",
    "using Parameters\n",
    "using Random\n",
    "using Plots; default(fontfamily=\"Computer Modern\", framestyle=:box) # LaTex-style\n",
    "using QuickPOMDPs\n",
    "using Distributions \n",
    "#using PlotlyJS\n",
    "using LinearAlgebra"
   ]
  },
  {
   "cell_type": "code",
   "execution_count": 4,
   "id": "f2a06957",
   "metadata": {},
   "outputs": [
    {
     "data": {
      "text/plain": [
       "MersenneTwister(12648430)"
      ]
     },
     "execution_count": 4,
     "metadata": {},
     "output_type": "execute_result"
    }
   ],
   "source": [
    "Random.seed!(0xC0FFEE)"
   ]
  },
  {
   "cell_type": "markdown",
   "id": "41c9cdd8",
   "metadata": {},
   "source": [
    "**States**"
   ]
  },
  {
   "cell_type": "code",
   "execution_count": 5,
   "id": "0aab1a9c",
   "metadata": {},
   "outputs": [],
   "source": [
    "# A state s in the evacuation problem is a discrete set of 4 values: \n",
    "# chairs remaining, time remaining, family size, and visa status\n",
    "struct State\n",
    "    c::Int # chairs remaining \n",
    "    t::Int # time remaining \n",
    "    f::Int # family size \n",
    "    v::Int # visa status \n",
    "end "
   ]
  },
  {
   "cell_type": "markdown",
   "id": "6cc585ac",
   "metadata": {},
   "source": [
    "**Environment Parameters**"
   ]
  },
  {
   "cell_type": "code",
   "execution_count": 6,
   "id": "258940f1",
   "metadata": {},
   "outputs": [
    {
     "data": {
      "text/plain": [
       "EvacuationParameters"
      ]
     },
     "execution_count": 6,
     "metadata": {},
     "output_type": "execute_result"
    }
   ],
   "source": [
    "# assume families normally distributed as integers around average family size in afghanistan of 8. \n",
    "# Truncated to include 1 or greater and rounded to be integers \n",
    "@with_kw struct EvacuationParameters\n",
    "    # need the probability that a particular family shows up at the door....\n",
    "    #family_sizes::Vector{Int} =  [trunc(Int, x) for x in rand(TruncatedNormal(3, 1, 1, Inf), 10)] \n",
    "    family_sizes::Vector{Int} = [1, 2, 3, 4, 5, 6, 7, 8, 9, 10]\n",
    "    visa_status::Vector{Int} = [-4, -3, -2, -1, 0, 1, 2, 3, 4] #TODO: map to various status \n",
    "    capacity::Int = 20\n",
    "    time::Int = 60\n",
    "    size::Tuple{Int, Int} = (length(visa_status), length(family_sizes)) # size of grid \n",
    "    p_transition::Real = 0.8 # don't we always transition into this since time moves forward? I'm confused... \n",
    "    null_state::State = State(-1, -1, -1 ,-1) # is there someway to do this???\n",
    "end\n"
   ]
  },
  {
   "cell_type": "code",
   "execution_count": 7,
   "id": "b0442685",
   "metadata": {},
   "outputs": [],
   "source": [
    "params = EvacuationParameters(); "
   ]
  },
  {
   "cell_type": "code",
   "execution_count": 8,
   "id": "2b8558fb",
   "metadata": {},
   "outputs": [
    {
     "data": {
      "text/plain": [
       "10-element Vector{Int64}:\n",
       "  1\n",
       "  2\n",
       "  3\n",
       "  4\n",
       "  5\n",
       "  6\n",
       "  7\n",
       "  8\n",
       "  9\n",
       " 10"
      ]
     },
     "execution_count": 8,
     "metadata": {},
     "output_type": "execute_result"
    }
   ],
   "source": [
    "params.family_sizes"
   ]
  },
  {
   "cell_type": "code",
   "execution_count": 9,
   "id": "f62a060b",
   "metadata": {},
   "outputs": [
    {
     "data": {
      "text/plain": [
       "115291-element Vector{Any}:\n",
       " State(0, 0, 1, -4)\n",
       " State(0, 0, 1, -3)\n",
       " State(0, 0, 1, -2)\n",
       " State(0, 0, 1, -1)\n",
       " State(0, 0, 1, 0)\n",
       " State(0, 0, 1, 1)\n",
       " State(0, 0, 1, 2)\n",
       " State(0, 0, 1, 3)\n",
       " State(0, 0, 1, 4)\n",
       " State(0, 0, 2, -4)\n",
       " State(0, 0, 2, -3)\n",
       " State(0, 0, 2, -2)\n",
       " State(0, 0, 2, -1)\n",
       " ⋮\n",
       " State(20, 60, 9, 3)\n",
       " State(20, 60, 9, 4)\n",
       " State(20, 60, 10, -4)\n",
       " State(20, 60, 10, -3)\n",
       " State(20, 60, 10, -2)\n",
       " State(20, 60, 10, -1)\n",
       " State(20, 60, 10, 0)\n",
       " State(20, 60, 10, 1)\n",
       " State(20, 60, 10, 2)\n",
       " State(20, 60, 10, 3)\n",
       " State(20, 60, 10, 4)\n",
       " State(-1, -1, -1, -1)"
      ]
     },
     "execution_count": 9,
     "metadata": {},
     "output_type": "execute_result"
    }
   ],
   "source": [
    "# The state space S for the evacuation problem is the set of \n",
    "# all combinations \n",
    "# Question: Do I need the end state here? \n",
    "#𝒮 = [[State(c, t, f, v) for  c=1:params.capacity, t=1:params.time, f=1:params.size[2], v=1:params.size[1]]]\n",
    "𝒮 = []\n",
    "\n",
    "for c in 0:params.capacity # capacity ends at 0 \n",
    "    for t in 0:params.time # time ends at 0 \n",
    "        for f in params.family_sizes # family size here we should have the ACTUAL family sizes \n",
    "            for v in params.visa_status # actual visa statuses \n",
    "                new = State(c, t, f, v) \n",
    "                𝒮 = [𝒮; new]\n",
    "            end\n",
    "        end        \n",
    "    end\n",
    "end\n",
    "𝒮 = [𝒮; params.null_state]\n",
    "\n",
    "\n"
   ]
  },
  {
   "cell_type": "code",
   "execution_count": 10,
   "id": "05cc11ce",
   "metadata": {},
   "outputs": [],
   "source": [
    "#@show 𝒮"
   ]
  },
  {
   "cell_type": "code",
   "execution_count": 11,
   "id": "0e5e6bfe",
   "metadata": {},
   "outputs": [],
   "source": [
    "#@show size(𝒮)\n",
    "#@show size[1,1,1,1]\n",
    "#(20, 60, 10, 10)\n",
    "#length(𝒮[1]) = 120000 = 100*60*10*10"
   ]
  },
  {
   "cell_type": "markdown",
   "id": "2b54b559",
   "metadata": {},
   "source": [
    "**Actions**"
   ]
  },
  {
   "cell_type": "code",
   "execution_count": 12,
   "id": "e39358e4",
   "metadata": {},
   "outputs": [],
   "source": [
    "# the possible actions are whether accept or reject a family at the gate \n",
    "@enum Action REJECT ACCEPT"
   ]
  },
  {
   "cell_type": "code",
   "execution_count": 13,
   "id": "7c9681fe",
   "metadata": {},
   "outputs": [
    {
     "data": {
      "text/plain": [
       "2-element Vector{Action}:\n",
       " REJECT::Action = 0\n",
       " ACCEPT::Action = 1"
      ]
     },
     "execution_count": 13,
     "metadata": {},
     "output_type": "execute_result"
    }
   ],
   "source": [
    "𝒜 = [REJECT, ACCEPT]"
   ]
  },
  {
   "cell_type": "code",
   "execution_count": 14,
   "id": "01617c1d",
   "metadata": {},
   "outputs": [
    {
     "data": {
      "text/plain": [
       "policy_grid (generic function with 1 method)"
      ]
     },
     "execution_count": 14,
     "metadata": {},
     "output_type": "execute_result"
    }
   ],
   "source": [
    "# create policy grid showing the best action in each state at a particular time and capacity \n",
    "#State(c, t, f, v)\n",
    "function policy_grid(policy::Policy, xmax::Int, ymax::Int, time::Int, capacity::Int)\n",
    "    viz_action = Dict(REJECT => \"\",\n",
    "                  ACCEPT => \"+\",)\n",
    "    grid = Array{String}(undef, xmax, ymax)\n",
    "    for x = 1:xmax, y = 1:xmax\n",
    "        s = State(capacity, time, x, y) # x is family size, v is visa status \n",
    "        grid[x,y] = viz_action[action(policy, s)] # need to define this action space \n",
    "    end\n",
    "    return grid\n",
    "end\n"
   ]
  },
  {
   "cell_type": "code",
   "execution_count": 15,
   "id": "7c069d06",
   "metadata": {},
   "outputs": [
    {
     "data": {
      "text/plain": [
       "validtime (generic function with 1 method)"
      ]
     },
     "execution_count": 15,
     "metadata": {},
     "output_type": "execute_result"
    }
   ],
   "source": [
    "# only inbounds if room for the family [assuming would not separate even though might]\n",
    "# and if time is available to enter the airport \n",
    "validtime(s::State) = 0 < s.t "
   ]
  },
  {
   "cell_type": "code",
   "execution_count": 16,
   "id": "6d649f36",
   "metadata": {},
   "outputs": [
    {
     "data": {
      "text/plain": [
       "validcapacity (generic function with 1 method)"
      ]
     },
     "execution_count": 16,
     "metadata": {},
     "output_type": "execute_result"
    }
   ],
   "source": [
    "validcapacity(s::State) = 0 ≤ s.c # maybe try back to 0 "
   ]
  },
  {
   "cell_type": "code",
   "execution_count": null,
   "id": "caf761e4",
   "metadata": {},
   "outputs": [],
   "source": []
  },
  {
   "cell_type": "markdown",
   "id": "57696b5e",
   "metadata": {},
   "source": [
    "**Transition Function** "
   ]
  },
  {
   "cell_type": "code",
   "execution_count": 17,
   "id": "f5fb2df0",
   "metadata": {},
   "outputs": [
    {
     "data": {
      "text/plain": [
       "T (generic function with 1 method)"
      ]
     },
     "execution_count": 17,
     "metadata": {},
     "output_type": "execute_result"
    }
   ],
   "source": [
    "function T(s::State, a::Action)\n",
    "    # randomly sample a family size and visa status \n",
    "    # don't think we need this with the rest of the code in our transition function...\n",
    "    next_states = []\n",
    "    if validtime(s) \n",
    "        # how do we account for the null state/termination in the transition function? \n",
    "        f′ = rand(params.family_sizes)\n",
    "        v′ = rand(params.visa_status) # TODO: possibly make this weighted in some way \n",
    "        #next_states = Vector{State}(undef, Nₐ) \n",
    "        if a == ACCEPT \n",
    "            next_state_accept = State(s.c - s.f, s.t - 1, f′, v′) # they get seats\n",
    "            next_state_reject = State(s.c, s.t - 1, f′, v′)\n",
    "            push!(next_states, next_state_accept)\n",
    "            push!(next_states, next_state_reject)\n",
    "            if !validcapacity(next_state_accept) \n",
    "                probabilities = [0, 1] #no room for full family :( so we make probability 0 to accept and 1 reject\n",
    "            else\n",
    "                probabilities = [.80, .20]\n",
    "            end\n",
    "\n",
    "        elseif a == REJECT\n",
    "#             Nₐ = 1\n",
    "#             next_states = Vector{State}(undef, Nₐ) \n",
    "            probabilities = [1.0]\n",
    "            push!(next_states, State(s.c, s.t - 1, f′, v′))\n",
    "            #next_states[1] =  #where they don't get seats\n",
    "            # handle out-of-bounds transitions\n",
    "        end\n",
    "    else\n",
    "        push!(next_states,params.null_state)\n",
    "        probabilities = [1]\n",
    "    end\n",
    "    return SparseCat(next_states, probabilities)\n",
    "end\n",
    "\n",
    "    "
   ]
  },
  {
   "cell_type": "code",
   "execution_count": 18,
   "id": "fb6cba0b",
   "metadata": {},
   "outputs": [],
   "source": [
    "#next_states = Vector{State}(undef, 1) "
   ]
  },
  {
   "cell_type": "code",
   "execution_count": 19,
   "id": "4aff57f7",
   "metadata": {},
   "outputs": [
    {
     "data": {
      "text/plain": [
       "                                   \u001b[1mSparseCat distribution\u001b[22m           \n",
       "                         \u001b[90m┌                                        ┐\u001b[39m \n",
       "   \u001b[0mState(-1, -1, -1, -1) \u001b[90m┤\u001b[39m\u001b[38;5;2m■■■■■■■■■■■■■■■■■■■■■■■■■■■■■■■■■■■\u001b[39m\u001b[0m 1.0 \u001b[90m \u001b[39m \n",
       "                         \u001b[90m└                                        ┘\u001b[39m "
      ]
     },
     "execution_count": 19,
     "metadata": {},
     "output_type": "execute_result"
    }
   ],
   "source": [
    "# struct State\n",
    "#     c::Int # chairs remaining \n",
    "#     t::Int # time remaining \n",
    "# #     f::Int # family size \n",
    "# #     v::Int # visa status \n",
    "# # end \n",
    "T(State(-1, -1, 4, 5), ACCEPT)\n",
    "\n",
    "# this is the problem \n",
    "\n",
    "# ACCEPT: State(50, 9, ANYTHING, ANYTHING)\n",
    "# ACCEPT: State(42, 9, ANYTHING, ANYTHING)\n",
    "# REJECT: State(50, 9, ANYTHING, ANYTHING)"
   ]
  },
  {
   "cell_type": "code",
   "execution_count": 20,
   "id": "609d5c1a",
   "metadata": {},
   "outputs": [
    {
     "data": {
      "text/plain": [
       "                               \u001b[1mSparseCat distribution\u001b[22m           \n",
       "                     \u001b[90m┌                                        ┐\u001b[39m \n",
       "   \u001b[0mState(0, 2, 9, 0) \u001b[90m┤\u001b[39m\u001b[38;5;2m■■■■■■■■■■■■■■■■■■■■■■■■■■■■■■■■■■■\u001b[39m\u001b[0m 0.8 \u001b[90m \u001b[39m \n",
       "   \u001b[0mState(4, 2, 9, 0) \u001b[90m┤\u001b[39m\u001b[38;5;2m■■■■■■■■■\u001b[39m\u001b[0m 0.2                           \u001b[90m \u001b[39m \n",
       "                     \u001b[90m└                                        ┘\u001b[39m "
      ]
     },
     "execution_count": 20,
     "metadata": {},
     "output_type": "execute_result"
    }
   ],
   "source": [
    "T(State(4, 3, 4, 5), ACCEPT)\n"
   ]
  },
  {
   "cell_type": "code",
   "execution_count": 21,
   "id": "e4742e66",
   "metadata": {},
   "outputs": [
    {
     "data": {
      "text/plain": [
       "                                   \u001b[1mSparseCat distribution\u001b[22m           \n",
       "                         \u001b[90m┌                                        ┐\u001b[39m \n",
       "   \u001b[0mState(-1, -1, -1, -1) \u001b[90m┤\u001b[39m\u001b[38;5;2m■■■■■■■■■■■■■■■■■■■■■■■■■■■■■■■■■■■\u001b[39m\u001b[0m 1.0 \u001b[90m \u001b[39m \n",
       "                         \u001b[90m└                                        ┘\u001b[39m "
      ]
     },
     "execution_count": 21,
     "metadata": {},
     "output_type": "execute_result"
    }
   ],
   "source": [
    "T(State(-1, -1, 4, 5), ACCEPT)"
   ]
  },
  {
   "cell_type": "markdown",
   "id": "c976b83b",
   "metadata": {},
   "source": [
    "**Reward Function**"
   ]
  },
  {
   "cell_type": "code",
   "execution_count": 22,
   "id": "e5e4117d",
   "metadata": {},
   "outputs": [
    {
     "data": {
      "text/plain": [
       "R (generic function with 1 method)"
      ]
     },
     "execution_count": 22,
     "metadata": {},
     "output_type": "execute_result"
    }
   ],
   "source": [
    "function R(s::State, a::Action)\n",
    "    # reward is just the visa status times family size i think! \n",
    "    if a == ACCEPT\n",
    "        return s.v*s.f\n",
    "    end\n",
    "    return 0\n",
    "end "
   ]
  },
  {
   "cell_type": "code",
   "execution_count": 23,
   "id": "10e74fea",
   "metadata": {},
   "outputs": [
    {
     "data": {
      "text/plain": [
       "0.95"
      ]
     },
     "execution_count": 23,
     "metadata": {},
     "output_type": "execute_result"
    }
   ],
   "source": [
    "#render(mdp; show_rewards=true)\n",
    "#@bind γ Slider(0:0.05:1, default=0.95, show_value=true)\n",
    "# hard code for now. maybe come back to it. \n",
    "γ = 0.95"
   ]
  },
  {
   "cell_type": "code",
   "execution_count": 24,
   "id": "5e73455a",
   "metadata": {},
   "outputs": [
    {
     "data": {
      "text/plain": [
       "termination (generic function with 1 method)"
      ]
     },
     "execution_count": 24,
     "metadata": {},
     "output_type": "execute_result"
    }
   ],
   "source": [
    "# when time is 0...possibly encode this into the parameters \n",
    "#termination(s::State) = (s.t == 0 || s.c == 0)\n",
    "# can probably do this instead of overriding ... alternate possibility: \n",
    "# # not sure we need this... to say when time and capacity are equal\n",
    "\n",
    "#termination(s::State) = (s.t == params.null_state.t && s.c == params.null_state.c)\n",
    "#Base.:(==)(s1::State, s2::State) = (s1.t == s2.t) && (s1.c == s2.c)\n",
    "termination(s::State)= s == params.null_state # change to 1 or the other "
   ]
  },
  {
   "cell_type": "code",
   "execution_count": 25,
   "id": "b6658b20",
   "metadata": {},
   "outputs": [],
   "source": [
    "#termination(State(0,1,-5,0))"
   ]
  },
  {
   "cell_type": "markdown",
   "id": "dfdcdbac",
   "metadata": {},
   "source": [
    "**MDP Formulation**"
   ]
  },
  {
   "cell_type": "code",
   "execution_count": 26,
   "id": "eb47d072",
   "metadata": {},
   "outputs": [],
   "source": [
    "# We define the Airport abstract MDP type so we can reference it in other methods.\n",
    "abstract type Evacuation <: MDP{State, Action} end"
   ]
  },
  {
   "cell_type": "code",
   "execution_count": 27,
   "id": "cd187a9f",
   "metadata": {},
   "outputs": [
    {
     "data": {
      "text/plain": [
       "State(20, 60, 2, 1)"
      ]
     },
     "execution_count": 27,
     "metadata": {},
     "output_type": "execute_result"
    }
   ],
   "source": [
    "  # struct State\n",
    "        #     c::Int # chairs remaining \n",
    "        #     t::Int # time remaining \n",
    "        #     f::Int # family size \n",
    "        #     v::Int # visa status \n",
    "        # end \n",
    "c_initial = params.capacity\n",
    "t_initial = params.time\n",
    "f_initial = rand(params.family_sizes, 1)[1]\n",
    "v_initial = rand(params.visa_status, 1)[1]\n",
    "\n",
    "initial_state = State(c_initial, t_initial, f_initial, v_initial)"
   ]
  },
  {
   "cell_type": "code",
   "execution_count": 28,
   "id": "f2d6fcb9",
   "metadata": {},
   "outputs": [
    {
     "data": {
      "text/plain": [
       "1-element Vector{State}:\n",
       " State(20, 60, 2, 1)"
      ]
     },
     "execution_count": 28,
     "metadata": {},
     "output_type": "execute_result"
    }
   ],
   "source": [
    "statetype = typeof(initial_state)\n",
    "initialstate_array = [initial_state]"
   ]
  },
  {
   "cell_type": "code",
   "execution_count": 29,
   "id": "5e6be2ca",
   "metadata": {},
   "outputs": [],
   "source": [
    "#render = plot_evac"
   ]
  },
  {
   "cell_type": "code",
   "execution_count": 30,
   "id": "0781bae1",
   "metadata": {},
   "outputs": [],
   "source": [
    "mdp = QuickMDP(Evacuation,\n",
    "    states       = 𝒮,\n",
    "    actions      = 𝒜,\n",
    "    transition   = T,\n",
    "    reward       = R,\n",
    "    discount     = γ,\n",
    "    initialstate = initialstate_array, # change this from sampling whole state since we always start max time and cap.\n",
    "    isterminal   = termination,\n",
    "    render       = render,\n",
    "    statetype    = statetype #\n",
    "    );"
   ]
  },
  {
   "cell_type": "code",
   "execution_count": 31,
   "id": "e07faa69",
   "metadata": {},
   "outputs": [],
   "source": [
    "#render(mdp)"
   ]
  },
  {
   "cell_type": "code",
   "execution_count": 32,
   "id": "0c47742a",
   "metadata": {},
   "outputs": [],
   "source": [
    "solver = ValueIterationSolver(max_iterations=30, belres=1e-6, verbose=true);"
   ]
  },
  {
   "cell_type": "markdown",
   "id": "b18554c7",
   "metadata": {},
   "source": [
    "**Policy**"
   ]
  },
  {
   "cell_type": "code",
   "execution_count": 33,
   "id": "219e5164",
   "metadata": {},
   "outputs": [],
   "source": [
    "# Set discount factor to variable gamma and solve the MDP to obptain policy pi mapping states to actions a"
   ]
  },
  {
   "cell_type": "code",
   "execution_count": 34,
   "id": "d9bf7d0f",
   "metadata": {},
   "outputs": [
    {
     "name": "stdout",
     "output_type": "stream",
     "text": [
      "[Iteration 1   ] residual:        304 | iteration runtime:    586.356 ms, (     0.586 s total)\n",
      "[Iteration 2   ] residual:        121 | iteration runtime:    580.702 ms, (      1.17 s total)\n",
      "[Iteration 3   ] residual:       93.4 | iteration runtime:    477.591 ms, (      1.64 s total)\n",
      "[Iteration 4   ] residual:        113 | iteration runtime:    479.231 ms, (      2.12 s total)\n",
      "[Iteration 5   ] residual:        111 | iteration runtime:    486.379 ms, (      2.61 s total)\n",
      "[Iteration 6   ] residual:        113 | iteration runtime:    485.141 ms, (       3.1 s total)\n",
      "[Iteration 7   ] residual:       99.7 | iteration runtime:    449.531 ms, (      3.54 s total)\n",
      "[Iteration 8   ] residual:        108 | iteration runtime:    476.204 ms, (      4.02 s total)\n",
      "[Iteration 9   ] residual:       99.9 | iteration runtime:    470.662 ms, (      4.49 s total)\n",
      "[Iteration 10  ] residual:        115 | iteration runtime:    521.997 ms, (      5.01 s total)\n",
      "[Iteration 11  ] residual:        104 | iteration runtime:    522.926 ms, (      5.54 s total)\n",
      "[Iteration 12  ] residual:        112 | iteration runtime:    501.717 ms, (      6.04 s total)\n",
      "[Iteration 13  ] residual:        108 | iteration runtime:    551.146 ms, (      6.59 s total)\n",
      "[Iteration 14  ] residual:        108 | iteration runtime:    564.693 ms, (      7.15 s total)\n",
      "[Iteration 15  ] residual:        114 | iteration runtime:    470.379 ms, (      7.62 s total)\n",
      "[Iteration 16  ] residual:        111 | iteration runtime:    485.565 ms, (      8.11 s total)\n",
      "[Iteration 17  ] residual:        111 | iteration runtime:    601.525 ms, (      8.71 s total)\n",
      "[Iteration 18  ] residual:        104 | iteration runtime:    512.814 ms, (      9.22 s total)\n",
      "[Iteration 19  ] residual:       99.1 | iteration runtime:    493.925 ms, (      9.72 s total)\n",
      "[Iteration 20  ] residual:        106 | iteration runtime:    493.677 ms, (      10.2 s total)\n",
      "[Iteration 21  ] residual:        106 | iteration runtime:    439.941 ms, (      10.7 s total)\n",
      "[Iteration 22  ] residual:        105 | iteration runtime:    487.133 ms, (      11.1 s total)\n",
      "[Iteration 23  ] residual:        124 | iteration runtime:    535.363 ms, (      11.7 s total)\n",
      "[Iteration 24  ] residual:        114 | iteration runtime:    480.990 ms, (      12.2 s total)\n",
      "[Iteration 25  ] residual:        122 | iteration runtime:    529.601 ms, (      12.7 s total)\n",
      "[Iteration 26  ] residual:        125 | iteration runtime:    499.635 ms, (      13.2 s total)\n",
      "[Iteration 27  ] residual:        108 | iteration runtime:    531.623 ms, (      13.7 s total)\n",
      "[Iteration 28  ] residual:        112 | iteration runtime:    506.542 ms, (      14.2 s total)\n",
      "[Iteration 29  ] residual:        105 | iteration runtime:    482.712 ms, (      14.7 s total)\n",
      "[Iteration 30  ] residual:        115 | iteration runtime:    465.185 ms, (      15.2 s total)\n"
     ]
    },
    {
     "name": "stderr",
     "output_type": "stream",
     "text": [
      "Excessive output truncated after 10488640 bytes."
     ]
    },
    {
     "name": "stdout",
     "output_type": "stream",
     "text": [
      "policy = solve(solver, mdp) = "
     ]
    },
    {
     "data": {
      "text/plain": [
       "ValueIterationPolicy:\n",
       " State(0, 0, 1, -4) -> REJECT\n",
       " State(0, 0, 1, -3) -> REJECT\n",
       " State(0, 0, 1, -2) -> REJECT\n",
       " State(0, 0, 1, -1) -> REJECT\n",
       " State(0, 0, 1, 0) -> REJECT\n",
       " State(0, 0, 1, 1) -> ACCEPT\n",
       " State(0, 0, 1, 2) -> ACCEPT\n",
       " State(0, 0, 1, 3) -> ACCEPT\n",
       " State(0, 0, 1, 4) -> ACCEPT\n",
       " State(0, 0, 2, -4) -> REJECT\n",
       " State(0, 0, 2, -3) -> REJECT\n",
       " State(0, 0, 2, -2) -> REJECT\n",
       " State(0, 0, 2, -1) -> REJECT\n",
       " State(0, 0, 2, 0) -> REJECT\n",
       " State(0, 0, 2, 1) -> ACCEPT\n",
       " State(0, 0, 2, 2) -> ACCEPT\n",
       " State(0, 0, 2, 3) -> ACCEPT\n",
       " State(0, 0, 2, 4) -> ACCEPT\n",
       " State(0, 0, 3, -4) -> REJECT\n",
       " State(0, 0, 3, -3) -> REJECT\n",
       " State(0, 0, 3, -2) -> REJECT\n",
       " State(0, 0, 3, -1) -> REJECT\n",
       " State(0, 0, 3, 0) -> REJECT\n",
       " State(0, 0, 3, 1) -> ACCEPT\n",
       " State(0, 0, 3, 2) -> ACCEPT\n",
       " …"
      ]
     },
     "execution_count": 34,
     "metadata": {},
     "output_type": "execute_result"
    }
   ],
   "source": [
    "policy = solve(solver, mdp) "
   ]
  },
  {
   "cell_type": "code",
   "execution_count": 35,
   "id": "3f414513",
   "metadata": {},
   "outputs": [
    {
     "data": {
      "text/plain": [
       "ACCEPT::Action = 1"
      ]
     },
     "execution_count": 35,
     "metadata": {},
     "output_type": "execute_result"
    }
   ],
   "source": [
    "action(policy, State(20, 60, 4, 3))\n",
    "# we now have a policy! "
   ]
  },
  {
   "cell_type": "code",
   "execution_count": 36,
   "id": "10d44737",
   "metadata": {},
   "outputs": [],
   "source": [
    "# a = action(policy, s) # returns the optimal action for state s\n",
    "# value(policy, s) # returns the optimal value at state s\n",
    "#actions = [action(policy, valid_state) for valid_state in valid_states]"
   ]
  },
  {
   "cell_type": "markdown",
   "id": "55ffed9b",
   "metadata": {},
   "source": [
    "**Additional possible needs**"
   ]
  },
  {
   "cell_type": "code",
   "execution_count": 37,
   "id": "68e81c1e",
   "metadata": {},
   "outputs": [
    {
     "data": {
      "text/plain": [
       "values (generic function with 3 methods)"
      ]
     },
     "execution_count": 37,
     "metadata": {},
     "output_type": "execute_result"
    }
   ],
   "source": [
    "# helper functions to:\n",
    "# 1. get all the values from a policy\n",
    "\n",
    "\n",
    "begin\n",
    "    function one_based_policy!(policy)\n",
    "        # change the default action in the policy (all zeros) to all ones (if needed) e.g. just accept everyone\n",
    "        if all(iszero, policy.policy)\n",
    "            policy.policy[:] = ones(eltype(policy.policy), length(policy.policy))\n",
    "        end\n",
    "    end\n",
    "    \n",
    "    # no idea if this is right \n",
    "    function get_rewards(mdp::QuickMDP{Evacuation}, policy::Policy)\n",
    "        null_state = params.null_state\n",
    "        valid_states = setdiff(states(mdp), [null_state])\n",
    "        valid_actions = [action(policy, valid_state) for valid_state in valid_states]\n",
    "        # can I map a state and action to reward? \n",
    "        state_actions = zip(valid_states, valid_actions) \n",
    "        U = map(state_action->reward(mdp, state_action), state_actions)\n",
    "    end\n",
    "    \n",
    "    function values(mdp::QuickMDP{Evacuation}, policy::Policy)\n",
    "        null_state = params.null_state\n",
    "        valid_states = setdiff(states(mdp), [null_state])\n",
    "        U = map(s->value(policy, s), valid_states)\n",
    "    end\n",
    "    \n",
    "#     # WHAT DOES THIS ONE DO? Monte carlo tree search... don't need \n",
    "#     function values(mdp::QuickMDP{Evacuation}, planner::MCTSPlanner)\n",
    "#         null_state = params.null_state\n",
    "#         valid_states = setdiff(states(mdp), [null_state])\n",
    "#         U = []\n",
    "#         for s in valid_states\n",
    "#             u = 0\n",
    "#             try\n",
    "#                 u = value(planner, s)\n",
    "#             catch\n",
    "#                 # state not in tree\n",
    "#             end\n",
    "#             push!(U, u)\n",
    "#         end\n",
    "#         return U\n",
    "#     end\n",
    "    \n",
    "    function values(mdp::QuickMDP{Evacuation}, policy::ValuePolicy)\n",
    "        maxU = mapslices(maximum, policy.value_table, dims=2)\n",
    "        return maxU[1:end-1] # remove null_state\n",
    "    end\n",
    "    \n",
    "    struct NothingPolicy <: Policy end\n",
    "    \n",
    "    # Use this to get a stationary grid of rewards\n",
    "    function values(mdp::QuickMDP{Evacuation}, policy::Union{NothingPolicy, FunctionPolicy})\n",
    "        null_state = params.null_state\n",
    "        valid_states = setdiff(states(mdp), [null_state])\n",
    "        rewards = map(s->reward(mdp, s), valid_states)\n",
    "    end\n",
    "end"
   ]
  },
  {
   "cell_type": "markdown",
   "id": "98243b2f",
   "metadata": {},
   "source": [
    "**Visualizations**"
   ]
  },
  {
   "cell_type": "code",
   "execution_count": 38,
   "id": "4e4ba30d",
   "metadata": {},
   "outputs": [],
   "source": [
    "# struct evacPolicy <: Policy end "
   ]
  },
  {
   "cell_type": "code",
   "execution_count": 39,
   "id": "0c259e46",
   "metadata": {},
   "outputs": [],
   "source": [
    "# function plot_evac(mdp::MDP,\n",
    "#         policy::Policy=NothingPolicy(),  # our policy will have states State(c, t, f, v) with actions (reject/accept)\n",
    "#         iter=0,\n",
    "#         discount=NaN; \n",
    "#         outline=true,\n",
    "#         show_policy=true,\n",
    "#         show_rewards=false, \n",
    "#         outline_state::Union{State, Nothing}=nothing\n",
    "#     )\n",
    "                   \n",
    "#     gr()\n",
    "    \n",
    "#     # what do here? \n",
    "# #     if policy isa NothingPolicy\n",
    "# #         # override when the policy is empty\n",
    "# #         show_policy = false\n",
    "# #     end\n",
    "    \n",
    "#     show_policy = false\n",
    "    \n",
    "# #     U = zeros(1, params.size[1]*params.size[2]) # tryung \n",
    "# #     policy = ones(1, params.size[1]*params.size[2]) # how do you make a policy? \n",
    "# #    DISCUSS \n",
    "#     if iter == 0\n",
    "#         # solver has not been run yet, so we just plot the raw rewards\n",
    "#         # overwrite policy at time=0 to be emp\n",
    "#         U = get_rewards(mdp, policy)\n",
    "#     else\n",
    "#         # otherwise, use the Value Function to get the values (i.e., utility)\n",
    "#         U = values(mdp, policy)\n",
    "#     end\n",
    "    \n",
    "#     # reshape to grid\n",
    "#     (xmax, ymax) = params.size # reshape grid to family size * visa status\n",
    "#     Uxy = reshape(U, xmax, ymax)\n",
    "#     # plot values (i.e the U matrix)\n",
    "#     fig = heatmap(Uxy',\n",
    "#                   legend=:none,\n",
    "#                   aspect_ratio=:equal,\n",
    "#                   framestyle=:box,\n",
    "#                   tickdirection=:out)\n",
    "#     xlims!(0.5, xmax+0.5)\n",
    "#     ylims!(0.5, ymax+0.5)\n",
    "#     xticks!(1:xmax)\n",
    "#     yticks!(1:ymax)\n",
    "#     rectangle(w, h, x, y) = Shape(x .+ [0,w,w,0], y .+ [0,0,h,h])\n",
    "#     # not sure the visualization makes perfect sense since x and y will not have every possible family size...\n",
    "#     # policy_grid(policy::Policy, xmax::Int, ymax::Int, time::Int, capacity::Int)\n",
    "#     # Let x represent family size, y represent visa status \n",
    "#     for x in 1:xmax, y in 1:ymax \n",
    "#         policy_grid(policy, xmax, ymax, 0, 0) # time = 0 and capacity = 0 here - the last time step \n",
    "#         annotate!([(x, y, (grid[x,y], :center, 12, \"Computer Modern\"))])\n",
    "#         rect = rectangle(1, 1, x - 0.5, y - 0.5)\n",
    "#         plot!(rect, fillalpha=0, linecolor=:gray)\n",
    "        \n",
    "#         # Some if statement here to say: \n",
    "#         # if policy at State(c,t,f,v) == ACCEPT\n",
    "#             # color = green\n",
    "#         # else \n",
    "#             # no color \n",
    "#     end\n",
    "#         title!(\"Evacuation Policy Plot$extra_title\")\n",
    "#         return fig \n",
    "# end"
   ]
  },
  {
   "cell_type": "code",
   "execution_count": 40,
   "id": "ec9fcc2b",
   "metadata": {},
   "outputs": [],
   "source": [
    "# plot_evac(mdp)"
   ]
  },
  {
   "cell_type": "code",
   "execution_count": 41,
   "id": "1a517a5c",
   "metadata": {},
   "outputs": [],
   "source": [
    "# policy\n",
    "# act = action(policy, State(0,0,1,5))\n"
   ]
  },
  {
   "cell_type": "markdown",
   "id": "0ba418d9",
   "metadata": {},
   "source": [
    "**Visualizations Trial 2**"
   ]
  },
  {
   "cell_type": "code",
   "execution_count": 75,
   "id": "60d89b3a",
   "metadata": {},
   "outputs": [
    {
     "data": {
      "text/plain": [
       "vis (generic function with 1 method)"
      ]
     },
     "execution_count": 75,
     "metadata": {},
     "output_type": "execute_result"
    }
   ],
   "source": [
    "function vis(policy, c, t) #pass in policy and chairs and time remaing. Spit out graph of family size versus visa status.\n",
    "    (vi, fa) = params.size  #visa, family 8, 15\n",
    "    policyGraph = zeros(vi, fa) #8 by 15 matrix of zeroes\n",
    "    \n",
    "    for f in 1:fa\n",
    "        for v in 1:vi\n",
    "            act = action(policy, State(c, t, f, v - 5))\n",
    "            if act == ACCEPT\n",
    "                policyGraph[v,f] = 100\n",
    "            else\n",
    "                policyGraph[v,f] = 0\n",
    "            end\n",
    "        end\n",
    "    end\n",
    "    \n",
    "    x=params.visa_status\n",
    "    y=params.family_sizes\n",
    "    z=policyGraph'\n",
    "    return heatmap(x, y, z, aspect_ratio = 1, legend = :none, xlims = (-4,4), xlabel = \"Visa Status\", ylabel = \"Family Size\", ylims = (1,10), title= \"Policy\"\n",
    ")\n",
    "    \n",
    "end"
   ]
  },
  {
   "cell_type": "code",
   "execution_count": 76,
   "id": "b884826a",
   "metadata": {},
   "outputs": [
    {
     "data": {
      "image/svg+xml": [
       "<?xml version=\"1.0\" encoding=\"utf-8\"?>\n",
       "<svg xmlns=\"http://www.w3.org/2000/svg\" xmlns:xlink=\"http://www.w3.org/1999/xlink\" width=\"600\" height=\"400\" viewBox=\"0 0 2400 1600\">\n",
       "<defs>\n",
       "  <clipPath id=\"clip280\">\n",
       "    <rect x=\"0\" y=\"0\" width=\"2400\" height=\"1600\"/>\n",
       "  </clipPath>\n",
       "</defs>\n",
       "<path clip-path=\"url(#clip280)\" d=\"\n",
       "M0 1600 L2400 1600 L2400 0 L0 0  Z\n",
       "  \" fill=\"#ffffff\" fill-rule=\"evenodd\" fill-opacity=\"1\"/>\n",
       "<defs>\n",
       "  <clipPath id=\"clip281\">\n",
       "    <rect x=\"480\" y=\"0\" width=\"1681\" height=\"1600\"/>\n",
       "  </clipPath>\n",
       "</defs>\n",
       "<path clip-path=\"url(#clip280)\" d=\"\n",
       "M695.896 1423.18 L1851.19 1423.18 L1851.19 123.472 L695.896 123.472  Z\n",
       "  \" fill=\"#ffffff\" fill-rule=\"evenodd\" fill-opacity=\"1\"/>\n",
       "<defs>\n",
       "  <clipPath id=\"clip282\">\n",
       "    <rect x=\"695\" y=\"123\" width=\"1156\" height=\"1301\"/>\n",
       "  </clipPath>\n",
       "</defs>\n",
       "<polyline clip-path=\"url(#clip282)\" style=\"stroke:#000000; stroke-linecap:butt; stroke-linejoin:round; stroke-width:2; stroke-opacity:0.1; fill:none\" points=\"\n",
       "  695.896,1423.18 695.896,123.472 \n",
       "  \"/>\n",
       "<polyline clip-path=\"url(#clip282)\" style=\"stroke:#000000; stroke-linecap:butt; stroke-linejoin:round; stroke-width:2; stroke-opacity:0.1; fill:none\" points=\"\n",
       "  984.719,1423.18 984.719,123.472 \n",
       "  \"/>\n",
       "<polyline clip-path=\"url(#clip282)\" style=\"stroke:#000000; stroke-linecap:butt; stroke-linejoin:round; stroke-width:2; stroke-opacity:0.1; fill:none\" points=\"\n",
       "  1273.54,1423.18 1273.54,123.472 \n",
       "  \"/>\n",
       "<polyline clip-path=\"url(#clip282)\" style=\"stroke:#000000; stroke-linecap:butt; stroke-linejoin:round; stroke-width:2; stroke-opacity:0.1; fill:none\" points=\"\n",
       "  1562.37,1423.18 1562.37,123.472 \n",
       "  \"/>\n",
       "<polyline clip-path=\"url(#clip282)\" style=\"stroke:#000000; stroke-linecap:butt; stroke-linejoin:round; stroke-width:2; stroke-opacity:0.1; fill:none\" points=\"\n",
       "  1851.19,1423.18 1851.19,123.472 \n",
       "  \"/>\n",
       "<polyline clip-path=\"url(#clip280)\" style=\"stroke:#000000; stroke-linecap:butt; stroke-linejoin:round; stroke-width:4; stroke-opacity:1; fill:none\" points=\"\n",
       "  695.896,1423.18 1851.19,1423.18 \n",
       "  \"/>\n",
       "<polyline clip-path=\"url(#clip280)\" style=\"stroke:#000000; stroke-linecap:butt; stroke-linejoin:round; stroke-width:4; stroke-opacity:1; fill:none\" points=\"\n",
       "  695.896,123.472 1851.19,123.472 \n",
       "  \"/>\n",
       "<polyline clip-path=\"url(#clip280)\" style=\"stroke:#000000; stroke-linecap:butt; stroke-linejoin:round; stroke-width:4; stroke-opacity:1; fill:none\" points=\"\n",
       "  695.896,1423.18 695.896,1404.28 \n",
       "  \"/>\n",
       "<polyline clip-path=\"url(#clip280)\" style=\"stroke:#000000; stroke-linecap:butt; stroke-linejoin:round; stroke-width:4; stroke-opacity:1; fill:none\" points=\"\n",
       "  984.719,1423.18 984.719,1404.28 \n",
       "  \"/>\n",
       "<polyline clip-path=\"url(#clip280)\" style=\"stroke:#000000; stroke-linecap:butt; stroke-linejoin:round; stroke-width:4; stroke-opacity:1; fill:none\" points=\"\n",
       "  1273.54,1423.18 1273.54,1404.28 \n",
       "  \"/>\n",
       "<polyline clip-path=\"url(#clip280)\" style=\"stroke:#000000; stroke-linecap:butt; stroke-linejoin:round; stroke-width:4; stroke-opacity:1; fill:none\" points=\"\n",
       "  1562.37,1423.18 1562.37,1404.28 \n",
       "  \"/>\n",
       "<polyline clip-path=\"url(#clip280)\" style=\"stroke:#000000; stroke-linecap:butt; stroke-linejoin:round; stroke-width:4; stroke-opacity:1; fill:none\" points=\"\n",
       "  1851.19,1423.18 1851.19,1404.28 \n",
       "  \"/>\n",
       "<path clip-path=\"url(#clip280)\" d=\"M699.119 1472.22 Q699.416 1472.51 699.416 1472.93 Q699.416 1473.35 699.119 1473.65 Q698.823 1473.94 698.403 1473.94 L666.733 1473.94 Q666.313 1473.94 666.017 1473.65 Q665.72 1473.35 665.72 1472.93 Q665.72 1472.51 666.017 1472.22 Q666.313 1471.92 666.733 1471.92 L698.403 1471.92 Q698.823 1471.92 699.119 1472.22 Z\" fill=\"#000000\" fill-rule=\"evenodd\" fill-opacity=\"1\" /><path clip-path=\"url(#clip280)\" d=\"M703.64 1477.23 L703.64 1475.67 L719.178 1451.93 Q719.574 1451.32 720.191 1451.34 Q720.759 1451.34 720.883 1451.56 Q721.007 1451.79 721.007 1452.65 L721.007 1475.67 L726.071 1475.67 L726.071 1477.23 L721.007 1477.23 L721.007 1481.63 Q721.007 1483.08 721.599 1483.55 Q722.217 1484.02 724.836 1484.02 L725.898 1484.02 L725.898 1485.58 Q723.823 1485.43 719.03 1485.43 Q714.263 1485.43 712.187 1485.58 L712.187 1484.02 L713.25 1484.02 Q715.868 1484.02 716.486 1483.58 Q717.103 1483.11 717.103 1481.63 L717.103 1477.23 L703.64 1477.23 M705.073 1475.67 L717.4 1475.67 L717.4 1456.8 L705.073 1475.67 Z\" fill=\"#000000\" fill-rule=\"evenodd\" fill-opacity=\"1\" /><path clip-path=\"url(#clip280)\" d=\"M988.499 1472.22 Q988.796 1472.51 988.796 1472.93 Q988.796 1473.35 988.499 1473.65 Q988.203 1473.94 987.783 1473.94 L956.113 1473.94 Q955.693 1473.94 955.397 1473.65 Q955.1 1473.35 955.1 1472.93 Q955.1 1472.51 955.397 1472.22 Q955.693 1471.92 956.113 1471.92 L987.783 1471.92 Q988.203 1471.92 988.499 1472.22 Z\" fill=\"#000000\" fill-rule=\"evenodd\" fill-opacity=\"1\" /><path clip-path=\"url(#clip280)\" d=\"M994.131 1485.58 Q994.131 1484.67 994.206 1484.39 Q994.304 1484.12 994.7 1483.7 L1004.41 1472.88 Q1009.72 1466.9 1009.72 1461.69 Q1009.72 1458.31 1007.94 1455.89 Q1006.19 1453.47 1002.95 1453.47 Q1000.73 1453.47 998.85 1454.82 Q996.972 1456.18 996.108 1458.6 Q996.256 1458.55 996.775 1458.55 Q998.035 1458.55 998.726 1459.34 Q999.443 1460.14 999.443 1461.2 Q999.443 1462.56 998.553 1463.22 Q997.689 1463.87 996.824 1463.87 Q996.478 1463.87 996.009 1463.79 Q995.564 1463.72 994.848 1463.03 Q994.131 1462.31 994.131 1461.05 Q994.131 1457.52 996.799 1454.7 Q999.492 1451.88 1003.59 1451.88 Q1008.24 1451.88 1011.28 1454.65 Q1014.34 1457.39 1014.34 1461.69 Q1014.34 1463.2 1013.87 1464.58 Q1013.42 1465.94 1012.81 1467 Q1012.21 1468.07 1010.58 1469.77 Q1008.95 1471.47 1007.64 1472.68 Q1006.33 1473.9 1003.4 1476.46 L998.035 1481.68 L1007.15 1481.68 Q1011.6 1481.68 1011.94 1481.28 Q1012.44 1480.57 1013.05 1476.79 L1014.34 1476.79 L1012.91 1485.58 L994.131 1485.58 Z\" fill=\"#000000\" fill-rule=\"evenodd\" fill-opacity=\"1\" /><path clip-path=\"url(#clip280)\" d=\"M1262.9 1469.4 Q1262.9 1461.96 1264.77 1457.91 Q1267.39 1451.88 1273.57 1451.88 Q1274.88 1451.88 1276.24 1452.26 Q1277.62 1452.6 1279.35 1453.96 Q1281.1 1455.32 1282.16 1457.54 Q1284.19 1461.84 1284.19 1469.4 Q1284.19 1476.79 1282.31 1480.81 Q1279.57 1486.69 1273.52 1486.69 Q1271.25 1486.69 1268.92 1485.53 Q1266.63 1484.37 1265.17 1481.58 Q1262.9 1477.4 1262.9 1469.4 M1267.1 1468.78 Q1267.1 1476.41 1267.64 1479.45 Q1268.26 1482.74 1269.94 1484.17 Q1271.64 1485.58 1273.52 1485.58 Q1275.54 1485.58 1277.22 1484.07 Q1278.93 1482.54 1279.45 1479.26 Q1280.02 1476.02 1279.99 1468.78 Q1279.99 1461.74 1279.5 1458.92 Q1278.83 1455.64 1277.05 1454.33 Q1275.3 1453 1273.52 1453 Q1272.85 1453 1272.14 1453.19 Q1271.44 1453.39 1270.43 1453.96 Q1269.42 1454.53 1268.63 1455.94 Q1267.86 1457.34 1267.49 1459.47 Q1267.1 1462.21 1267.1 1468.78 Z\" fill=\"#000000\" fill-rule=\"evenodd\" fill-opacity=\"1\" /><path clip-path=\"url(#clip280)\" d=\"M1552.26 1485.58 Q1552.26 1484.67 1552.34 1484.39 Q1552.44 1484.12 1552.83 1483.7 L1562.54 1472.88 Q1567.85 1466.9 1567.85 1461.69 Q1567.85 1458.31 1566.07 1455.89 Q1564.32 1453.47 1561.08 1453.47 Q1558.86 1453.47 1556.98 1454.82 Q1555.1 1456.18 1554.24 1458.6 Q1554.39 1458.55 1554.91 1458.55 Q1556.17 1458.55 1556.86 1459.34 Q1557.57 1460.14 1557.57 1461.2 Q1557.57 1462.56 1556.69 1463.22 Q1555.82 1463.87 1554.96 1463.87 Q1554.61 1463.87 1554.14 1463.79 Q1553.7 1463.72 1552.98 1463.03 Q1552.26 1462.31 1552.26 1461.05 Q1552.26 1457.52 1554.93 1454.7 Q1557.62 1451.88 1561.73 1451.88 Q1566.37 1451.88 1569.41 1454.65 Q1572.47 1457.39 1572.47 1461.69 Q1572.47 1463.2 1572 1464.58 Q1571.56 1465.94 1570.94 1467 Q1570.35 1468.07 1568.72 1469.77 Q1567.09 1471.47 1565.78 1472.68 Q1564.47 1473.9 1561.53 1476.46 L1556.17 1481.68 L1565.28 1481.68 Q1569.73 1481.68 1570.07 1481.28 Q1570.57 1480.57 1571.19 1476.79 L1572.47 1476.79 L1571.04 1485.58 L1552.26 1485.58 Z\" fill=\"#000000\" fill-rule=\"evenodd\" fill-opacity=\"1\" /><path clip-path=\"url(#clip280)\" d=\"M1839.98 1477.23 L1839.98 1475.67 L1855.51 1451.93 Q1855.91 1451.32 1856.53 1451.34 Q1857.1 1451.34 1857.22 1451.56 Q1857.34 1451.79 1857.34 1452.65 L1857.34 1475.67 L1862.41 1475.67 L1862.41 1477.23 L1857.34 1477.23 L1857.34 1481.63 Q1857.34 1483.08 1857.94 1483.55 Q1858.55 1484.02 1861.17 1484.02 L1862.23 1484.02 L1862.23 1485.58 Q1860.16 1485.43 1855.37 1485.43 Q1850.6 1485.43 1848.52 1485.58 L1848.52 1484.02 L1849.59 1484.02 Q1852.2 1484.02 1852.82 1483.58 Q1853.44 1483.11 1853.44 1481.63 L1853.44 1477.23 L1839.98 1477.23 M1841.41 1475.67 L1853.74 1475.67 L1853.74 1456.8 L1841.41 1475.67 Z\" fill=\"#000000\" fill-rule=\"evenodd\" fill-opacity=\"1\" /><path clip-path=\"url(#clip280)\" d=\"M1100.38 1522.7 L1100.38 1520.52 Q1107.89 1520.73 1109.21 1520.73 Q1116.65 1520.73 1119.16 1520.52 L1119.16 1522.7 Q1113.46 1522.7 1113.46 1524.7 Q1113.46 1524.97 1113.86 1525.96 L1127.15 1561.08 L1139.88 1527.56 Q1140.22 1526.5 1140.22 1526.16 Q1140.22 1524.77 1138.93 1523.78 Q1137.67 1522.77 1135.16 1522.7 L1135.16 1520.52 Q1140.6 1520.73 1143.08 1520.73 Q1146.61 1520.73 1149.84 1520.52 L1149.84 1522.7 Q1143.99 1522.77 1142.26 1527.35 L1126.74 1568.25 Q1126.47 1569.1 1126.19 1569.33 Q1125.92 1569.57 1125.07 1569.57 Q1124.39 1569.57 1124.02 1569.3 Q1123.68 1569.03 1123.34 1568.04 L1107.21 1525.35 Q1106.53 1523.48 1105.3 1523.11 Q1104.08 1522.7 1100.38 1522.7 Z\" fill=\"#000000\" fill-rule=\"evenodd\" fill-opacity=\"1\" /><path clip-path=\"url(#clip280)\" d=\"M1153.54 1568.04 L1153.54 1565.9 Q1157.24 1565.9 1158.09 1565.46 Q1158.94 1564.99 1158.94 1562.74 L1158.94 1544.03 Q1158.94 1541.45 1158.06 1540.84 Q1157.21 1540.22 1153.81 1540.22 L1153.81 1538.05 L1163.52 1537.3 L1163.52 1562.81 Q1163.52 1564.88 1164.27 1565.39 Q1165.02 1565.9 1168.42 1565.9 L1168.42 1568.04 Q1161.32 1567.84 1161.18 1567.84 Q1160.23 1567.84 1153.54 1568.04 M1156.46 1525.18 Q1156.46 1523.78 1157.51 1522.66 Q1158.6 1521.51 1160.13 1521.51 Q1161.66 1521.51 1162.74 1522.56 Q1163.83 1523.58 1163.83 1525.21 Q1163.83 1526.81 1162.74 1527.86 Q1161.66 1528.88 1160.13 1528.88 Q1158.53 1528.88 1157.48 1527.76 Q1156.46 1526.64 1156.46 1525.18 Z\" fill=\"#000000\" fill-rule=\"evenodd\" fill-opacity=\"1\" /><path clip-path=\"url(#clip280)\" d=\"M1172.8 1567.13 L1172.8 1557.96 Q1172.8 1557.17 1172.83 1556.9 Q1172.86 1556.63 1173.07 1556.43 Q1173.27 1556.22 1173.68 1556.22 Q1174.16 1556.22 1174.33 1556.43 Q1174.53 1556.63 1174.67 1557.41 Q1175.72 1562.2 1177.96 1564.75 Q1180.24 1567.26 1184.35 1567.26 Q1188.25 1567.26 1190.22 1565.53 Q1192.19 1563.8 1192.19 1560.94 Q1192.19 1555.85 1184.96 1554.56 Q1180.78 1553.71 1179.05 1553.17 Q1177.31 1552.59 1175.79 1551.33 Q1172.8 1548.89 1172.8 1545.42 Q1172.8 1541.96 1175.41 1539.41 Q1178.06 1536.86 1183.9 1536.86 Q1187.81 1536.86 1190.46 1538.83 Q1191.24 1538.22 1191.65 1537.71 Q1192.57 1536.86 1193.04 1536.86 Q1193.58 1536.86 1193.69 1537.24 Q1193.79 1537.58 1193.79 1538.56 L1193.79 1545.56 Q1193.79 1546.34 1193.75 1546.61 Q1193.72 1546.88 1193.52 1547.09 Q1193.31 1547.26 1192.87 1547.26 Q1192.09 1547.26 1192.06 1546.61 Q1191.51 1538.19 1183.9 1538.19 Q1179.79 1538.19 1177.96 1539.78 Q1176.13 1541.35 1176.13 1543.49 Q1176.13 1544.67 1176.67 1545.59 Q1177.25 1546.47 1177.96 1547.02 Q1178.71 1547.53 1180.07 1548.04 Q1181.42 1548.51 1182.24 1548.68 Q1183.09 1548.85 1184.69 1549.19 Q1190.26 1550.25 1192.6 1552.52 Q1195.52 1555.44 1195.52 1559.14 Q1195.52 1563.25 1192.74 1566.04 Q1189.95 1568.83 1184.35 1568.83 Q1179.83 1568.83 1176.67 1565.8 Q1176.26 1566.21 1175.96 1566.58 Q1175.65 1566.92 1175.51 1567.06 Q1175.41 1567.19 1175.38 1567.3 Q1175.34 1567.36 1175.28 1567.43 Q1173.88 1568.83 1173.54 1568.83 Q1173 1568.83 1172.9 1568.45 Q1172.8 1568.11 1172.8 1567.13 Z\" fill=\"#000000\" fill-rule=\"evenodd\" fill-opacity=\"1\" /><path clip-path=\"url(#clip280)\" d=\"M1200.79 1561.42 Q1200.79 1555.51 1207.75 1552.39 Q1211.93 1550.38 1220.55 1549.87 L1220.55 1547.32 Q1220.55 1543.01 1218.28 1540.73 Q1216.04 1538.42 1213.18 1538.42 Q1208.09 1538.42 1205.64 1541.62 Q1207.72 1541.69 1208.46 1542.74 Q1209.21 1543.76 1209.21 1544.81 Q1209.21 1546.2 1208.33 1547.12 Q1207.48 1548 1206.02 1548 Q1204.62 1548 1203.71 1547.15 Q1202.79 1546.27 1202.79 1544.74 Q1202.79 1541.35 1205.85 1539.1 Q1208.94 1536.86 1213.32 1536.86 Q1219.03 1536.86 1222.83 1540.7 Q1224.02 1541.89 1224.6 1543.42 Q1225.21 1544.95 1225.28 1545.97 Q1225.34 1546.95 1225.34 1548.92 L1225.34 1562.81 Q1225.34 1563.22 1225.48 1563.9 Q1225.62 1564.58 1226.23 1565.46 Q1226.87 1566.31 1227.93 1566.31 Q1230.44 1566.31 1230.41 1561.86 L1230.41 1557.96 L1232.17 1557.96 L1232.17 1561.86 Q1232.17 1565.56 1230.2 1567.02 Q1228.27 1568.45 1226.47 1568.45 Q1224.16 1568.45 1222.69 1566.75 Q1221.23 1565.05 1221.03 1562.74 Q1219.98 1565.39 1217.57 1567.13 Q1215.19 1568.83 1211.93 1568.83 Q1209.41 1568.83 1207.04 1568.18 Q1204.69 1567.57 1202.72 1565.84 Q1200.79 1564.07 1200.79 1561.42 M1206.15 1561.35 Q1206.15 1563.93 1207.99 1565.6 Q1209.82 1567.26 1212.4 1567.26 Q1215.32 1567.26 1217.94 1565.02 Q1220.55 1562.74 1220.55 1558.3 L1220.55 1551.33 Q1212.84 1551.6 1209.48 1554.69 Q1206.15 1557.75 1206.15 1561.35 Z\" fill=\"#000000\" fill-rule=\"evenodd\" fill-opacity=\"1\" /><path clip-path=\"url(#clip280)\" d=\"M1259.68 1567.91 L1259.68 1553.98 Q1259.68 1553.2 1259.72 1552.93 Q1259.75 1552.66 1259.96 1552.45 Q1260.16 1552.25 1260.57 1552.25 Q1261.35 1552.25 1261.42 1552.96 Q1261.62 1559.86 1265.73 1563.66 Q1269.77 1567.43 1276.7 1567.43 Q1280.88 1567.43 1283.46 1564.44 Q1286.04 1561.42 1286.04 1557.48 Q1286.04 1553.71 1283.87 1551.06 Q1282.95 1549.87 1281.8 1549.12 Q1280.68 1548.34 1279.96 1548.11 Q1279.28 1547.87 1277.96 1547.53 Q1269.33 1545.46 1268.79 1545.22 Q1264.68 1543.83 1262.16 1540.33 Q1259.68 1536.79 1259.68 1532.48 Q1259.68 1526.91 1263.59 1522.97 Q1267.53 1519 1273.24 1519 Q1276.09 1519 1278.47 1519.91 Q1280.88 1520.8 1281.87 1521.61 Q1282.85 1522.43 1284.38 1523.89 L1286.79 1519.91 Q1287.33 1519 1287.84 1519 Q1288.39 1519 1288.49 1519.33 Q1288.62 1519.64 1288.62 1520.66 L1288.62 1534.65 Q1288.62 1535.44 1288.59 1535.71 Q1288.56 1535.98 1288.32 1536.15 Q1288.12 1536.32 1287.71 1536.32 Q1287.03 1536.32 1286.86 1535.5 Q1284.92 1520.97 1273.31 1520.97 Q1269.33 1520.97 1266.72 1523.65 Q1264.13 1526.3 1264.13 1530.07 Q1264.13 1533.13 1266.04 1535.64 Q1267.94 1538.12 1271.17 1538.9 L1280.07 1541.04 Q1284.51 1542.09 1287.5 1546.03 Q1290.49 1549.97 1290.49 1555.1 Q1290.49 1561.01 1286.62 1565.29 Q1282.78 1569.57 1276.77 1569.57 Q1272.46 1569.57 1269.13 1568.15 Q1265.8 1566.72 1264 1564.72 Q1262.61 1567.02 1261.69 1568.32 L1261.49 1568.66 Q1260.94 1569.57 1260.43 1569.57 Q1259.89 1569.57 1259.79 1569.23 Q1259.68 1568.89 1259.68 1567.91 Z\" fill=\"#000000\" fill-rule=\"evenodd\" fill-opacity=\"1\" /><path clip-path=\"url(#clip280)\" d=\"M1295.69 1540.22 L1295.69 1538.7 Q1298.88 1538.56 1300.99 1536.32 Q1303.13 1534.04 1303.84 1531.26 Q1304.59 1528.47 1304.66 1525.25 L1306.39 1525.25 L1306.39 1538.05 L1316.34 1538.05 L1316.34 1540.22 L1306.39 1540.22 L1306.39 1559.55 Q1306.39 1567.06 1311.08 1567.06 Q1313.08 1567.06 1314.41 1565.02 Q1315.73 1562.95 1315.73 1559.28 L1315.73 1555.44 L1317.46 1555.44 L1317.46 1559.42 Q1317.46 1563.19 1315.73 1566.01 Q1314 1568.83 1310.57 1568.83 Q1309.31 1568.83 1308.05 1568.49 Q1306.83 1568.18 1305.2 1567.36 Q1303.6 1566.52 1302.59 1564.48 Q1301.6 1562.41 1301.6 1559.42 L1301.6 1540.22 L1295.69 1540.22 Z\" fill=\"#000000\" fill-rule=\"evenodd\" fill-opacity=\"1\" /><path clip-path=\"url(#clip280)\" d=\"M1324.26 1561.42 Q1324.26 1555.51 1331.22 1552.39 Q1335.4 1550.38 1344.03 1549.87 L1344.03 1547.32 Q1344.03 1543.01 1341.75 1540.73 Q1339.51 1538.42 1336.65 1538.42 Q1331.56 1538.42 1329.11 1541.62 Q1331.19 1541.69 1331.93 1542.74 Q1332.68 1543.76 1332.68 1544.81 Q1332.68 1546.2 1331.8 1547.12 Q1330.95 1548 1329.49 1548 Q1328.09 1548 1327.18 1547.15 Q1326.26 1546.27 1326.26 1544.74 Q1326.26 1541.35 1329.32 1539.1 Q1332.41 1536.86 1336.79 1536.86 Q1342.5 1536.86 1346.3 1540.7 Q1347.49 1541.89 1348.07 1543.42 Q1348.68 1544.95 1348.75 1545.97 Q1348.81 1546.95 1348.81 1548.92 L1348.81 1562.81 Q1348.81 1563.22 1348.95 1563.9 Q1349.09 1564.58 1349.7 1565.46 Q1350.34 1566.31 1351.4 1566.31 Q1353.91 1566.31 1353.88 1561.86 L1353.88 1557.96 L1355.64 1557.96 L1355.64 1561.86 Q1355.64 1565.56 1353.67 1567.02 Q1351.74 1568.45 1349.94 1568.45 Q1347.63 1568.45 1346.17 1566.75 Q1344.7 1565.05 1344.5 1562.74 Q1343.45 1565.39 1341.04 1567.13 Q1338.66 1568.83 1335.4 1568.83 Q1332.88 1568.83 1330.51 1568.18 Q1328.16 1567.57 1326.19 1565.84 Q1324.26 1564.07 1324.26 1561.42 M1329.62 1561.35 Q1329.62 1563.93 1331.46 1565.6 Q1333.29 1567.26 1335.87 1567.26 Q1338.79 1567.26 1341.41 1565.02 Q1344.03 1562.74 1344.03 1558.3 L1344.03 1551.33 Q1336.31 1551.6 1332.95 1554.69 Q1329.62 1557.75 1329.62 1561.35 Z\" fill=\"#000000\" fill-rule=\"evenodd\" fill-opacity=\"1\" /><path clip-path=\"url(#clip280)\" d=\"M1357.44 1540.22 L1357.44 1538.7 Q1360.64 1538.56 1362.74 1536.32 Q1364.88 1534.04 1365.59 1531.26 Q1366.34 1528.47 1366.41 1525.25 L1368.14 1525.25 L1368.14 1538.05 L1378.09 1538.05 L1378.09 1540.22 L1368.14 1540.22 L1368.14 1559.55 Q1368.14 1567.06 1372.83 1567.06 Q1374.83 1567.06 1376.16 1565.02 Q1377.48 1562.95 1377.48 1559.28 L1377.48 1555.44 L1379.22 1555.44 L1379.22 1559.42 Q1379.22 1563.19 1377.48 1566.01 Q1375.75 1568.83 1372.32 1568.83 Q1371.06 1568.83 1369.81 1568.49 Q1368.58 1568.18 1366.95 1567.36 Q1365.36 1566.52 1364.34 1564.48 Q1363.35 1562.41 1363.35 1559.42 L1363.35 1540.22 L1357.44 1540.22 Z\" fill=\"#000000\" fill-rule=\"evenodd\" fill-opacity=\"1\" /><path clip-path=\"url(#clip280)\" d=\"M1385.33 1540.22 L1385.33 1538.05 L1395.55 1537.3 L1395.55 1560.4 Q1395.55 1562.07 1395.69 1563.05 Q1395.83 1564 1396.37 1565.12 Q1396.95 1566.24 1398.24 1566.75 Q1399.56 1567.26 1401.67 1567.26 Q1405.44 1567.26 1407.75 1564.17 Q1410.09 1561.08 1410.09 1556.5 L1410.09 1544.1 Q1410.09 1541.52 1409.17 1540.87 Q1408.26 1540.22 1404.66 1540.22 L1404.66 1538.05 L1414.88 1537.3 L1414.88 1562 Q1414.88 1564.58 1415.76 1565.26 Q1416.68 1565.9 1420.32 1565.9 L1420.32 1568.04 L1410.3 1568.83 L1410.3 1562.54 Q1407.37 1568.79 1401.33 1568.83 Q1398.27 1568.83 1396.16 1568.04 Q1394.09 1567.26 1393.04 1566.31 Q1391.99 1565.33 1391.41 1563.46 Q1390.87 1561.59 1390.8 1560.44 Q1390.73 1559.28 1390.73 1557.04 L1390.73 1546.61 Q1390.73 1541.89 1390.05 1541.07 Q1389.37 1540.22 1385.33 1540.22 Z\" fill=\"#000000\" fill-rule=\"evenodd\" fill-opacity=\"1\" /><path clip-path=\"url(#clip280)\" d=\"M1423.98 1567.13 L1423.98 1557.96 Q1423.98 1557.17 1424.02 1556.9 Q1424.05 1556.63 1424.26 1556.43 Q1424.46 1556.22 1424.87 1556.22 Q1425.34 1556.22 1425.51 1556.43 Q1425.72 1556.63 1425.85 1557.41 Q1426.9 1562.2 1429.15 1564.75 Q1431.42 1567.26 1435.53 1567.26 Q1439.44 1567.26 1441.41 1565.53 Q1443.38 1563.8 1443.38 1560.94 Q1443.38 1555.85 1436.14 1554.56 Q1431.97 1553.71 1430.23 1553.17 Q1428.5 1552.59 1426.97 1551.33 Q1423.98 1548.89 1423.98 1545.42 Q1423.98 1541.96 1426.6 1539.41 Q1429.25 1536.86 1435.09 1536.86 Q1439 1536.86 1441.65 1538.83 Q1442.43 1538.22 1442.84 1537.71 Q1443.75 1536.86 1444.23 1536.86 Q1444.77 1536.86 1444.87 1537.24 Q1444.98 1537.58 1444.98 1538.56 L1444.98 1545.56 Q1444.98 1546.34 1444.94 1546.61 Q1444.91 1546.88 1444.7 1547.09 Q1444.5 1547.26 1444.06 1547.26 Q1443.28 1547.26 1443.24 1546.61 Q1442.7 1538.19 1435.09 1538.19 Q1430.98 1538.19 1429.15 1539.78 Q1427.31 1541.35 1427.31 1543.49 Q1427.31 1544.67 1427.86 1545.59 Q1428.43 1546.47 1429.15 1547.02 Q1429.89 1547.53 1431.25 1548.04 Q1432.61 1548.51 1433.43 1548.68 Q1434.28 1548.85 1435.87 1549.19 Q1441.44 1550.25 1443.79 1552.52 Q1446.71 1555.44 1446.71 1559.14 Q1446.71 1563.25 1443.92 1566.04 Q1441.14 1568.83 1435.53 1568.83 Q1431.01 1568.83 1427.86 1565.8 Q1427.45 1566.21 1427.14 1566.58 Q1426.84 1566.92 1426.7 1567.06 Q1426.6 1567.19 1426.57 1567.3 Q1426.53 1567.36 1426.46 1567.43 Q1425.07 1568.83 1424.73 1568.83 Q1424.19 1568.83 1424.09 1568.45 Q1423.98 1568.11 1423.98 1567.13 Z\" fill=\"#000000\" fill-rule=\"evenodd\" fill-opacity=\"1\" /><polyline clip-path=\"url(#clip282)\" style=\"stroke:#000000; stroke-linecap:butt; stroke-linejoin:round; stroke-width:2; stroke-opacity:0.1; fill:none\" points=\"\n",
       "  695.896,1278.77 1851.19,1278.77 \n",
       "  \"/>\n",
       "<polyline clip-path=\"url(#clip282)\" style=\"stroke:#000000; stroke-linecap:butt; stroke-linejoin:round; stroke-width:2; stroke-opacity:0.1; fill:none\" points=\"\n",
       "  695.896,989.944 1851.19,989.944 \n",
       "  \"/>\n",
       "<polyline clip-path=\"url(#clip282)\" style=\"stroke:#000000; stroke-linecap:butt; stroke-linejoin:round; stroke-width:2; stroke-opacity:0.1; fill:none\" points=\"\n",
       "  695.896,701.12 1851.19,701.12 \n",
       "  \"/>\n",
       "<polyline clip-path=\"url(#clip282)\" style=\"stroke:#000000; stroke-linecap:butt; stroke-linejoin:round; stroke-width:2; stroke-opacity:0.1; fill:none\" points=\"\n",
       "  695.896,412.296 1851.19,412.296 \n",
       "  \"/>\n",
       "<polyline clip-path=\"url(#clip282)\" style=\"stroke:#000000; stroke-linecap:butt; stroke-linejoin:round; stroke-width:2; stroke-opacity:0.1; fill:none\" points=\"\n",
       "  695.896,123.472 1851.19,123.472 \n",
       "  \"/>\n",
       "<polyline clip-path=\"url(#clip280)\" style=\"stroke:#000000; stroke-linecap:butt; stroke-linejoin:round; stroke-width:4; stroke-opacity:1; fill:none\" points=\"\n",
       "  695.896,1423.18 695.896,123.472 \n",
       "  \"/>\n",
       "<polyline clip-path=\"url(#clip280)\" style=\"stroke:#000000; stroke-linecap:butt; stroke-linejoin:round; stroke-width:4; stroke-opacity:1; fill:none\" points=\"\n",
       "  1851.19,1423.18 1851.19,123.472 \n",
       "  \"/>\n",
       "<polyline clip-path=\"url(#clip280)\" style=\"stroke:#000000; stroke-linecap:butt; stroke-linejoin:round; stroke-width:4; stroke-opacity:1; fill:none\" points=\"\n",
       "  695.896,1278.77 706.011,1278.77 \n",
       "  \"/>\n",
       "<polyline clip-path=\"url(#clip280)\" style=\"stroke:#000000; stroke-linecap:butt; stroke-linejoin:round; stroke-width:4; stroke-opacity:1; fill:none\" points=\"\n",
       "  695.896,989.944 706.011,989.944 \n",
       "  \"/>\n",
       "<polyline clip-path=\"url(#clip280)\" style=\"stroke:#000000; stroke-linecap:butt; stroke-linejoin:round; stroke-width:4; stroke-opacity:1; fill:none\" points=\"\n",
       "  695.896,701.12 706.011,701.12 \n",
       "  \"/>\n",
       "<polyline clip-path=\"url(#clip280)\" style=\"stroke:#000000; stroke-linecap:butt; stroke-linejoin:round; stroke-width:4; stroke-opacity:1; fill:none\" points=\"\n",
       "  695.896,412.296 706.011,412.296 \n",
       "  \"/>\n",
       "<polyline clip-path=\"url(#clip280)\" style=\"stroke:#000000; stroke-linecap:butt; stroke-linejoin:round; stroke-width:4; stroke-opacity:1; fill:none\" points=\"\n",
       "  695.896,123.472 706.011,123.472 \n",
       "  \"/>\n",
       "<path clip-path=\"url(#clip280)\" d=\"M639.688 1296.05 Q639.688 1295.13 639.762 1294.86 Q639.861 1294.59 640.256 1294.17 L649.965 1283.35 Q655.276 1277.37 655.276 1272.16 Q655.276 1268.78 653.497 1266.35 Q651.743 1263.93 648.507 1263.93 Q646.284 1263.93 644.407 1265.29 Q642.529 1266.65 641.664 1269.07 Q641.813 1269.02 642.331 1269.02 Q643.591 1269.02 644.283 1269.81 Q644.999 1270.6 644.999 1271.67 Q644.999 1273.02 644.11 1273.69 Q643.245 1274.33 642.381 1274.33 Q642.035 1274.33 641.566 1274.26 Q641.121 1274.19 640.405 1273.49 Q639.688 1272.78 639.688 1271.52 Q639.688 1267.98 642.356 1265.17 Q645.049 1262.35 649.15 1262.35 Q653.794 1262.35 656.832 1265.12 Q659.896 1267.86 659.896 1272.16 Q659.896 1273.67 659.426 1275.05 Q658.982 1276.41 658.364 1277.47 Q657.771 1278.53 656.141 1280.24 Q654.51 1281.94 653.201 1283.15 Q651.892 1284.36 648.952 1286.93 L643.591 1292.14 L652.707 1292.14 Q657.153 1292.14 657.499 1291.75 Q657.993 1291.03 658.611 1287.25 L659.896 1287.25 L658.463 1296.05 L639.688 1296.05 Z\" fill=\"#000000\" fill-rule=\"evenodd\" fill-opacity=\"1\" /><path clip-path=\"url(#clip280)\" d=\"M637.465 998.874 L637.465 997.318 L653.003 973.578 Q653.399 972.96 654.016 972.985 Q654.584 972.985 654.708 973.207 Q654.831 973.43 654.831 974.294 L654.831 997.318 L659.896 997.318 L659.896 998.874 L654.831 998.874 L654.831 1003.27 Q654.831 1004.73 655.424 1005.2 Q656.042 1005.67 658.66 1005.67 L659.723 1005.67 L659.723 1007.22 Q657.648 1007.08 652.855 1007.08 Q648.087 1007.08 646.012 1007.22 L646.012 1005.67 L647.075 1005.67 Q649.693 1005.67 650.311 1005.22 Q650.928 1004.75 650.928 1003.27 L650.928 998.874 L637.465 998.874 M638.898 997.318 L651.225 997.318 L651.225 978.445 L638.898 997.318 Z\" fill=\"#000000\" fill-rule=\"evenodd\" fill-opacity=\"1\" /><path clip-path=\"url(#clip280)\" d=\"M638.898 702.417 Q638.898 694.462 642.949 689.596 Q647 684.705 652.213 684.705 Q655.251 684.705 656.931 686.261 Q658.636 687.793 658.636 690.164 Q658.636 691.473 657.87 692.042 Q657.104 692.61 656.314 692.61 Q655.4 692.61 654.683 691.992 Q653.967 691.375 653.967 690.263 Q653.967 687.99 656.758 687.99 Q655.449 685.964 652.312 685.964 Q651.348 685.964 650.36 686.261 Q649.372 686.533 648.087 687.471 Q646.803 688.41 645.815 689.892 Q644.827 691.375 644.135 694.166 Q643.443 696.957 643.443 700.589 L643.443 701.799 Q645.518 696.785 649.767 696.809 Q654.016 696.809 656.956 700.045 Q659.896 703.282 659.896 708.074 Q659.896 712.99 656.832 716.251 Q653.769 719.512 649.471 719.512 Q647.544 719.512 645.79 718.696 Q644.061 717.906 642.43 716.078 Q640.825 714.25 639.861 710.742 Q638.898 707.234 638.898 702.417 M643.542 706.962 Q643.542 711.928 644.456 714.299 Q644.604 714.694 644.925 715.238 Q645.271 715.781 645.839 716.498 Q646.432 717.19 647.396 717.659 Q648.359 718.104 649.471 718.104 Q652.855 718.104 654.486 714.818 Q655.35 712.99 655.35 708.025 Q655.35 702.96 654.436 701.108 Q652.88 697.97 649.718 697.97 Q647.593 697.97 646.111 699.428 Q644.654 700.885 644.085 702.837 Q643.542 704.788 643.542 706.962 Z\" fill=\"#000000\" fill-rule=\"evenodd\" fill-opacity=\"1\" /><path clip-path=\"url(#clip280)\" d=\"M638.898 421.943 Q638.898 416.286 646.185 412.63 Q643.048 410.505 642.48 409.887 Q640.256 407.417 640.256 404.329 Q640.256 400.797 642.924 398.351 Q645.617 395.881 649.421 395.881 Q653.053 395.881 655.795 397.98 Q658.537 400.08 658.537 403.415 Q658.537 408.109 652.41 411.271 Q656.462 413.791 657.425 414.853 Q659.896 417.595 659.896 421.078 Q659.896 425.129 656.783 427.921 Q653.67 430.688 649.372 430.688 Q645.172 430.688 642.035 428.242 Q638.898 425.796 638.898 421.943 M641.417 421.943 Q641.417 425.08 643.764 427.18 Q646.136 429.28 649.421 429.28 Q652.608 429.28 654.98 427.452 Q657.376 425.624 657.376 422.906 Q657.376 421.844 657.005 420.93 Q656.659 420.016 655.943 419.299 Q655.251 418.558 654.807 418.237 Q654.387 417.891 653.571 417.323 L647.346 413.395 Q641.417 416.681 641.417 421.943 M642.48 402.353 Q642.48 404.774 645.024 406.454 L651.299 410.505 Q656.314 407.565 656.314 403.415 Q656.314 400.723 654.263 398.944 Q652.213 397.141 649.372 397.141 Q646.58 397.141 644.53 398.623 Q642.48 400.08 642.48 402.353 Z\" fill=\"#000000\" fill-rule=\"evenodd\" fill-opacity=\"1\" /><path clip-path=\"url(#clip280)\" d=\"M615.825 111.874 L615.825 110.293 Q621.902 110.293 625.039 107.057 Q625.904 107.057 626.052 107.254 Q626.2 107.452 626.2 108.366 L626.2 136.75 Q626.2 138.257 626.941 138.726 Q627.682 139.196 630.919 139.196 L632.524 139.196 L632.524 140.752 Q630.746 140.604 624.323 140.604 Q617.9 140.604 616.146 140.752 L616.146 139.196 L617.752 139.196 Q620.938 139.196 621.704 138.751 Q622.47 138.282 622.47 136.75 L622.47 110.54 Q619.827 111.874 615.825 111.874 Z\" fill=\"#000000\" fill-rule=\"evenodd\" fill-opacity=\"1\" /><path clip-path=\"url(#clip280)\" d=\"M638.601 124.571 Q638.601 117.136 640.479 113.084 Q643.097 107.057 649.273 107.057 Q650.582 107.057 651.941 107.427 Q653.324 107.773 655.054 109.132 Q656.808 110.491 657.87 112.714 Q659.896 117.012 659.896 124.571 Q659.896 131.958 658.018 135.984 Q655.276 141.864 649.224 141.864 Q646.951 141.864 644.629 140.703 Q642.331 139.542 640.874 136.75 Q638.601 132.575 638.601 124.571 M642.801 123.954 Q642.801 131.587 643.344 134.626 Q643.962 137.911 645.642 139.344 Q647.346 140.752 649.224 140.752 Q651.249 140.752 652.929 139.245 Q654.634 137.714 655.153 134.428 Q655.721 131.192 655.696 123.954 Q655.696 116.913 655.202 114.097 Q654.535 110.812 652.756 109.502 Q651.002 108.168 649.224 108.168 Q648.557 108.168 647.84 108.366 Q647.149 108.564 646.136 109.132 Q645.123 109.7 644.332 111.108 Q643.567 112.516 643.196 114.641 Q642.801 117.383 642.801 123.954 Z\" fill=\"#000000\" fill-rule=\"evenodd\" fill-opacity=\"1\" /><path clip-path=\"url(#clip280)\" d=\"M565.569 946.253 L563.429 946.253 L563.429 944.588 Q563.429 940.818 562.817 939.969 Q562.172 939.086 560.134 939.086 L523.687 939.086 Q521.683 939.086 521.072 939.969 Q520.426 940.852 520.426 944.588 L520.426 946.253 L518.253 946.253 L518.253 908.074 L533.911 906.137 L533.911 907.87 Q529.937 908.345 527.695 908.991 Q525.42 909.602 523.619 911.029 Q521.819 912.455 521.14 914.867 Q520.426 917.245 520.426 921.151 L520.426 929.507 Q520.426 931.884 520.936 932.394 Q521.412 932.904 523.212 932.904 L540.807 932.904 L540.807 926.925 Q540.807 922.204 539.108 920.879 Q537.41 919.554 532.655 919.554 L532.655 917.822 L551.099 917.822 L551.099 919.554 Q546.309 919.554 544.645 920.879 Q542.947 922.204 542.947 926.925 L542.947 932.904 L560.066 932.904 Q561.527 932.904 562.104 932.666 Q562.648 932.428 563.055 930.967 Q563.429 929.507 563.429 926.314 L563.429 924.004 L565.569 924.004 Q565.365 926.518 565.365 935.689 Q565.365 943.807 565.569 946.253 Z\" fill=\"#000000\" fill-rule=\"evenodd\" fill-opacity=\"1\" /><path clip-path=\"url(#clip280)\" d=\"M558.945 906.069 Q553.035 906.069 549.91 899.106 Q547.906 894.928 547.396 886.301 L544.849 886.301 Q540.535 886.301 538.259 888.576 Q535.949 890.818 535.949 893.671 Q535.949 898.767 539.142 901.212 Q539.21 899.14 540.263 898.393 Q541.282 897.646 542.335 897.646 Q543.728 897.646 544.645 898.529 Q545.528 899.378 545.528 900.839 Q545.528 902.231 544.679 903.148 Q543.796 904.065 542.267 904.065 Q538.871 904.065 536.629 901.008 Q534.387 897.917 534.387 893.536 Q534.387 887.829 538.225 884.025 Q539.414 882.836 540.943 882.259 Q542.471 881.647 543.49 881.579 Q544.475 881.511 546.445 881.511 L560.338 881.511 Q560.745 881.511 561.425 881.375 Q562.104 881.24 562.987 880.628 Q563.836 879.983 563.836 878.93 Q563.836 876.416 559.387 876.45 L555.481 876.45 L555.481 874.684 L559.387 874.684 Q563.089 874.684 564.55 876.654 Q565.976 878.59 565.976 880.39 Q565.976 882.7 564.278 884.161 Q562.58 885.621 560.27 885.825 Q562.919 886.878 564.652 889.29 Q566.35 891.667 566.35 894.928 Q566.35 897.442 565.705 899.82 Q565.093 902.163 563.361 904.133 Q561.595 906.069 558.945 906.069 M558.877 900.703 Q561.459 900.703 563.123 898.868 Q564.788 897.034 564.788 894.453 Q564.788 891.532 562.546 888.916 Q560.27 886.301 555.82 886.301 L548.857 886.301 Q549.129 894.011 552.22 897.374 Q555.277 900.703 558.877 900.703 Z\" fill=\"#000000\" fill-rule=\"evenodd\" fill-opacity=\"1\" /><path clip-path=\"url(#clip280)\" d=\"M565.569 871.966 L563.429 871.966 Q563.429 868.264 562.987 867.415 Q562.512 866.566 560.27 866.566 L541.622 866.566 Q539.04 866.566 538.395 867.483 Q537.75 868.366 537.75 871.966 L535.576 871.966 L534.829 862.184 L542.131 862.184 Q534.829 858.923 534.829 851.892 Q534.829 843.74 541.622 842.619 Q538.973 841.43 536.901 838.95 Q534.829 836.437 534.829 832.531 Q534.829 827.3 537.41 825.228 Q539.142 823.699 541.078 823.394 Q543.015 823.088 548.042 823.088 L561.323 823.088 Q562.783 823.02 563.123 821.899 Q563.429 820.778 563.429 817.653 L565.569 817.653 Q565.365 824.752 565.365 825.432 Q565.365 825.975 565.569 833.312 L563.429 833.312 Q563.429 829.61 562.987 828.76 Q562.512 827.877 560.27 827.877 L544.068 827.877 Q540.535 827.877 538.463 828.964 Q536.357 830.051 536.357 833.04 Q536.357 836.641 539.38 839.528 Q542.403 842.415 547.498 842.415 L560.27 842.415 Q562.512 842.415 562.987 841.566 Q563.429 840.683 563.429 836.98 L565.569 836.98 Q565.365 844.079 565.365 844.793 Q565.365 845.336 565.569 852.639 L563.429 852.639 Q563.429 848.937 562.987 848.088 Q562.512 847.204 560.27 847.204 L544.068 847.204 Q540.535 847.204 538.463 848.291 Q536.357 849.378 536.357 852.367 Q536.357 855.968 539.38 858.855 Q542.403 861.742 547.498 861.742 L560.27 861.742 Q562.512 861.742 562.987 860.893 Q563.429 860.01 563.429 856.342 L565.569 856.342 Q565.365 863.441 565.365 864.12 Q565.365 864.664 565.569 871.966 Z\" fill=\"#000000\" fill-rule=\"evenodd\" fill-opacity=\"1\" /><path clip-path=\"url(#clip280)\" d=\"M565.569 813.985 L563.429 813.985 Q563.429 810.282 562.987 809.433 Q562.512 808.584 560.27 808.584 L541.554 808.584 Q538.973 808.584 538.361 809.467 Q537.75 810.316 537.75 813.713 L535.576 813.713 L534.829 803.998 L560.338 803.998 Q562.41 803.998 562.919 803.251 Q563.429 802.504 563.429 799.107 L565.569 799.107 Q565.365 806.206 565.365 806.342 Q565.365 807.293 565.569 813.985 M522.702 811.063 Q521.31 811.063 520.189 810.01 Q519.034 808.924 519.034 807.395 Q519.034 805.866 520.087 804.78 Q521.106 803.693 522.736 803.693 Q524.333 803.693 525.386 804.78 Q526.405 805.866 526.405 807.395 Q526.405 808.991 525.284 810.044 Q524.163 811.063 522.702 811.063 Z\" fill=\"#000000\" fill-rule=\"evenodd\" fill-opacity=\"1\" /><path clip-path=\"url(#clip280)\" d=\"M565.569 794.725 L563.429 794.725 Q563.429 791.023 562.987 790.174 Q562.512 789.324 560.27 789.324 L524.095 789.324 Q521.513 789.324 520.868 790.242 Q520.223 791.125 520.223 794.725 L518.049 794.725 L517.301 784.739 L560.27 784.739 Q562.512 784.739 562.987 783.856 Q563.429 782.973 563.429 779.304 L565.569 779.304 Q565.569 780.153 565.501 781.92 Q565.433 783.686 565.399 784.977 Q565.365 786.267 565.365 787.015 Q565.365 787.83 565.569 794.725 Z\" fill=\"#000000\" fill-rule=\"evenodd\" fill-opacity=\"1\" /><path clip-path=\"url(#clip280)\" d=\"M574.196 776.451 Q572.736 776.451 571.955 775.602 Q571.207 774.719 571.207 773.53 Q571.207 772.273 571.989 771.458 Q572.804 770.609 574.128 770.609 Q576.71 770.609 577.05 773.326 Q578.306 772.001 578.306 770.065 Q578.306 767.993 576.778 766.329 Q575.249 764.63 573.789 763.917 Q572.328 763.17 569.679 762.117 Q567.607 761.132 565.569 760.385 L540.161 770.812 Q538.497 771.492 538.123 772.545 Q537.75 773.598 537.75 776.451 L535.576 776.451 Q535.78 773.326 535.78 769.692 Q535.78 767.552 535.576 762.117 L537.75 762.117 Q537.75 766.023 539.55 766.023 Q539.754 766.023 540.807 765.615 L559.523 757.871 L542.403 750.84 Q541.418 750.432 540.739 750.432 Q537.886 750.432 537.75 753.693 L535.576 753.693 Q535.78 749.107 535.78 747.647 Q535.78 744.794 535.576 742.45 L537.75 742.45 Q537.75 747.103 542.199 748.904 L571.887 761.166 Q579.801 764.495 579.835 770.065 Q579.835 772.715 578.205 774.583 Q576.574 776.451 574.196 776.451 Z\" fill=\"#000000\" fill-rule=\"evenodd\" fill-opacity=\"1\" /><path clip-path=\"url(#clip280)\" d=\"M565.433 714.087 L551.506 714.087 Q550.725 714.087 550.453 714.053 Q550.182 714.019 549.978 713.816 Q549.774 713.612 549.774 713.204 Q549.774 712.423 550.487 712.355 Q557.383 712.151 561.187 708.041 Q564.957 703.999 564.957 697.07 Q564.957 692.892 561.968 690.31 Q558.945 687.729 555.005 687.729 Q551.235 687.729 548.585 689.903 Q547.396 690.82 546.649 691.975 Q545.868 693.096 545.63 693.809 Q545.392 694.488 545.053 695.813 Q542.981 704.441 542.743 704.984 Q541.35 709.094 537.852 711.608 Q534.319 714.087 530.005 714.087 Q524.435 714.087 520.494 710.181 Q516.52 706.241 516.52 700.534 Q516.52 697.681 517.437 695.304 Q518.32 692.892 519.136 691.907 Q519.951 690.922 521.412 689.393 L517.437 686.982 Q516.52 686.438 516.52 685.929 Q516.52 685.385 516.86 685.283 Q517.166 685.147 518.185 685.147 L532.179 685.147 Q532.96 685.147 533.232 685.181 Q533.504 685.215 533.674 685.453 Q533.843 685.657 533.843 686.064 Q533.843 686.744 533.028 686.914 Q518.49 688.85 518.49 700.467 Q518.49 704.441 521.174 707.056 Q523.823 709.638 527.594 709.638 Q530.651 709.638 533.164 707.735 Q535.644 705.833 536.425 702.606 L538.565 693.707 Q539.618 689.257 543.558 686.268 Q547.498 683.279 552.627 683.279 Q558.538 683.279 562.817 687.151 Q567.097 690.99 567.097 697.002 Q567.097 701.316 565.671 704.644 Q564.244 707.973 562.24 709.774 Q564.55 711.166 565.84 712.083 L566.18 712.287 Q567.097 712.831 567.097 713.34 Q567.097 713.884 566.758 713.985 Q566.418 714.087 565.433 714.087 Z\" fill=\"#000000\" fill-rule=\"evenodd\" fill-opacity=\"1\" /><path clip-path=\"url(#clip280)\" d=\"M565.569 677.097 L563.429 677.097 Q563.429 673.395 562.987 672.546 Q562.512 671.696 560.27 671.696 L541.554 671.696 Q538.973 671.696 538.361 672.58 Q537.75 673.429 537.75 676.825 L535.576 676.825 L534.829 667.111 L560.338 667.111 Q562.41 667.111 562.919 666.364 Q563.429 665.616 563.429 662.22 L565.569 662.22 Q565.365 669.319 565.365 669.455 Q565.365 670.406 565.569 677.097 M522.702 674.176 Q521.31 674.176 520.189 673.123 Q519.034 672.036 519.034 670.508 Q519.034 668.979 520.087 667.892 Q521.106 666.805 522.736 666.805 Q524.333 666.805 525.386 667.892 Q526.405 668.979 526.405 670.508 Q526.405 672.104 525.284 673.157 Q524.163 674.176 522.702 674.176 Z\" fill=\"#000000\" fill-rule=\"evenodd\" fill-opacity=\"1\" /><path clip-path=\"url(#clip280)\" d=\"M564.584 658.211 Q564.108 658.211 563.327 657.566 L537.104 638.171 L537.104 646.085 Q537.104 651.588 539.142 653.388 Q541.146 655.154 546.785 655.494 L546.785 657.226 L535.576 656.445 L535.576 634.197 Q535.576 633.415 535.61 633.11 Q535.644 632.804 535.881 632.6 Q536.085 632.396 536.493 632.396 Q536.901 632.396 537.682 633.008 L563.836 652.369 L563.836 644.149 Q563.836 638.375 561.425 636.438 Q559.013 634.468 552.559 633.993 L552.559 632.261 L565.569 633.449 L565.569 656.377 Q565.569 657.498 565.433 657.872 Q565.263 658.211 564.584 658.211 Z\" fill=\"#000000\" fill-rule=\"evenodd\" fill-opacity=\"1\" /><path clip-path=\"url(#clip280)\" d=\"M550.25 627.335 Q543.694 627.335 539.04 623.123 Q534.387 618.911 534.387 612.865 Q534.387 606.751 538.361 603.592 Q542.335 600.399 548.042 600.399 Q549.095 600.399 549.299 600.671 Q549.502 600.943 549.502 602.132 L549.502 621.561 Q556.601 621.561 559.93 619.455 Q564.584 616.534 564.584 611.609 Q564.584 610.929 564.448 610.114 Q564.312 609.299 563.735 607.634 Q563.123 605.97 561.527 604.509 Q559.93 603.049 557.417 602.2 Q556.432 601.996 556.466 601.316 Q556.466 600.399 557.281 600.399 Q557.892 600.399 559.285 601.079 Q560.644 601.724 562.274 602.981 Q563.904 604.238 565.127 606.683 Q566.35 609.095 566.35 612.016 Q566.35 618.13 561.73 622.75 Q557.077 627.335 550.25 627.335 M548.042 621.493 L548.042 604.985 Q546.581 604.985 544.951 605.257 Q543.32 605.494 541.078 606.242 Q538.803 606.955 537.376 608.653 Q535.949 610.352 535.949 612.865 Q535.949 613.986 536.425 615.209 Q536.901 616.398 538.055 617.858 Q539.21 619.319 541.826 620.338 Q544.441 621.357 548.042 621.493 Z\" fill=\"#000000\" fill-rule=\"evenodd\" fill-opacity=\"1\" /><path clip-path=\"url(#clip280)\" d=\"M1157.47 72.576 L1157.47 69.8525 L1159.59 69.8525 Q1164.39 69.8525 1165.47 69.0743 Q1166.59 68.2529 1166.59 65.6591 L1166.59 19.0129 Q1166.59 16.4623 1165.47 15.6842 Q1164.34 14.8628 1159.59 14.8628 L1157.47 14.8628 L1157.47 12.096 L1188.72 12.096 Q1197.67 12.096 1203.64 17.0243 Q1209.6 21.9526 1209.6 28.567 Q1209.6 35.1381 1203.51 39.8935 Q1197.46 44.6056 1189.42 44.6056 L1174.46 44.6056 L1174.46 65.6591 Q1174.46 68.2097 1175.54 69.0311 Q1176.66 69.8525 1181.46 69.8525 L1183.58 69.8525 L1183.58 72.576 Q1180.47 72.3166 1170.48 72.3166 Q1160.58 72.3166 1157.47 72.576 M1174.2 42.3144 L1186.39 42.3144 Q1190.37 42.3144 1193.26 41.1904 Q1196.16 40.0664 1197.46 38.7262 Q1198.8 37.3428 1199.53 35.1381 Q1200.31 32.8901 1200.4 31.6796 Q1200.48 30.4259 1200.48 28.567 Q1200.48 26.6216 1200.4 25.4111 Q1200.31 24.1574 1199.53 21.9526 Q1198.8 19.7046 1197.46 18.3645 Q1196.16 16.9811 1193.26 15.9435 Q1190.41 14.8628 1186.39 14.8628 L1178.52 14.8628 Q1175.5 14.8628 1174.85 15.468 Q1174.2 16.0732 1174.2 18.4077 L1174.2 42.3144 Z\" fill=\"#000000\" fill-rule=\"evenodd\" fill-opacity=\"1\" /><path clip-path=\"url(#clip280)\" d=\"M1220.37 67.8206 Q1214.53 62.0277 1214.53 53.6409 Q1214.53 45.2109 1220.24 39.0721 Q1225.99 32.8901 1234.2 32.8901 Q1242.24 32.8901 1247.99 39.0288 Q1253.79 45.1244 1253.79 53.6409 Q1253.79 61.9844 1247.95 67.7774 Q1242.16 73.5703 1234.12 73.5703 Q1226.25 73.5703 1220.37 67.8206 M1221.88 52.9059 Q1221.88 61.5089 1224.13 65.3997 Q1227.59 71.3223 1234.2 71.3223 Q1237.49 71.3223 1240.21 69.5498 Q1242.98 67.7774 1244.49 64.7944 Q1246.44 60.9037 1246.44 52.9059 Q1246.44 44.3895 1244.1 40.6284 Q1240.64 34.8787 1234.12 34.8787 Q1231.26 34.8787 1228.45 36.3918 Q1225.69 37.8616 1224 40.8013 Q1221.88 44.6921 1221.88 52.9059 Z\" fill=\"#000000\" fill-rule=\"evenodd\" fill-opacity=\"1\" /><path clip-path=\"url(#clip280)\" d=\"M1259.28 72.576 L1259.28 69.8525 Q1263.99 69.8525 1265.07 69.2905 Q1266.15 68.6852 1266.15 65.832 L1266.15 19.7911 Q1266.15 16.5055 1264.98 15.6842 Q1263.86 14.8628 1259.28 14.8628 L1259.28 12.096 L1271.99 11.1449 L1271.99 65.832 Q1271.99 68.6852 1273.11 69.2905 Q1274.24 69.8525 1278.9 69.8525 L1278.9 72.576 Q1277.82 72.576 1275.58 72.4895 Q1273.33 72.4031 1271.68 72.3598 Q1270.04 72.3166 1269.09 72.3166 Q1268.05 72.3166 1259.28 72.576 Z\" fill=\"#000000\" fill-rule=\"evenodd\" fill-opacity=\"1\" /><path clip-path=\"url(#clip280)\" d=\"M1283.79 72.576 L1283.79 69.8525 Q1288.5 69.8525 1289.58 69.2905 Q1290.66 68.6852 1290.66 65.832 L1290.66 42.0118 Q1290.66 38.7262 1289.54 37.9481 Q1288.46 37.1699 1284.13 37.1699 L1284.13 34.4031 L1296.5 33.4521 L1296.5 65.9184 Q1296.5 68.5555 1297.45 69.204 Q1298.4 69.8525 1302.72 69.8525 L1302.72 72.576 Q1293.69 72.3166 1293.52 72.3166 Q1292.31 72.3166 1283.79 72.576 M1287.51 18.0186 Q1287.51 16.2462 1288.85 14.8195 Q1290.23 13.3497 1292.18 13.3497 Q1294.12 13.3497 1295.5 14.6899 Q1296.89 15.9868 1296.89 18.0619 Q1296.89 20.0937 1295.5 21.4339 Q1294.12 22.7308 1292.18 22.7308 Q1290.14 22.7308 1288.8 21.3042 Q1287.51 19.8776 1287.51 18.0186 Z\" fill=\"#000000\" fill-rule=\"evenodd\" fill-opacity=\"1\" /><path clip-path=\"url(#clip280)\" d=\"M1314.01 67.7341 Q1308.39 61.8547 1308.39 53.468 Q1308.39 45.0379 1313.92 38.9856 Q1319.45 32.8901 1327.58 32.8901 Q1332.99 32.8901 1337.05 35.4839 Q1341.11 38.0345 1341.11 42.4008 Q1341.11 44.3462 1339.95 45.4702 Q1338.82 46.551 1337.05 46.551 Q1335.19 46.551 1334.07 45.427 Q1332.99 44.2598 1332.99 42.4873 Q1332.99 41.7092 1333.25 40.931 Q1333.5 40.1528 1334.46 39.3315 Q1335.45 38.5101 1337.14 38.3804 Q1333.98 35.1381 1327.84 35.1381 Q1327.75 35.1381 1327.67 35.1381 Q1323.17 35.1381 1319.45 39.3747 Q1315.74 43.6113 1315.74 53.295 Q1315.74 58.353 1316.95 62.0709 Q1318.2 65.7455 1320.23 67.6477 Q1322.26 69.5498 1324.25 70.4577 Q1326.24 71.3223 1328.19 71.3223 Q1336.88 71.3223 1339.82 62.0277 Q1340.08 61.163 1340.94 61.163 Q1342.11 61.163 1342.11 62.0277 Q1342.11 62.46 1341.76 63.584 Q1341.42 64.708 1340.34 66.4804 Q1339.25 68.2529 1337.7 69.8092 Q1336.18 71.3223 1333.46 72.4463 Q1330.78 73.5703 1327.41 73.5703 Q1319.63 73.5703 1314.01 67.7341 Z\" fill=\"#000000\" fill-rule=\"evenodd\" fill-opacity=\"1\" /><path clip-path=\"url(#clip280)\" d=\"M1346.34 83.5566 Q1346.34 81.6977 1347.43 80.7034 Q1348.55 79.7523 1350.06 79.7523 Q1351.66 79.7523 1352.7 80.7466 Q1353.78 81.7842 1353.78 83.4702 Q1353.78 86.7557 1350.32 87.188 Q1352.01 88.7876 1354.47 88.7876 Q1357.11 88.7876 1359.23 86.8422 Q1361.39 84.8968 1362.3 83.0379 Q1363.25 81.1789 1364.59 77.8069 Q1365.84 75.1699 1366.79 72.576 L1353.52 40.2393 Q1352.66 38.121 1351.32 37.6454 Q1349.98 37.1699 1346.34 37.1699 L1346.34 34.4031 Q1350.32 34.6625 1354.95 34.6625 Q1357.67 34.6625 1364.59 34.4031 L1364.59 37.1699 Q1359.62 37.1699 1359.62 39.4611 Q1359.62 39.7205 1360.13 41.0607 L1369.99 64.8809 L1378.94 43.0925 Q1379.46 41.8388 1379.46 40.9742 Q1379.46 37.3428 1375.31 37.1699 L1375.31 34.4031 Q1381.15 34.6625 1383 34.6625 Q1386.64 34.6625 1389.62 34.4031 L1389.62 37.1699 Q1383.7 37.1699 1381.4 42.8332 L1365.8 80.6169 Q1361.56 90.6897 1354.47 90.733 Q1351.1 90.733 1348.72 88.6579 Q1346.34 86.5828 1346.34 83.5566 Z\" fill=\"#000000\" fill-rule=\"evenodd\" fill-opacity=\"1\" /><g clip-path=\"url(#clip282)\">\n",
       "<image width=\"1300\" height=\"1444\" xlink:href=\"data:image/png;base64,\n",
       "iVBORw0KGgoAAAANSUhEUgAABRQAAAWkCAYAAAC0LI2dAAAgAElEQVR4nOzasY3DQBAEQfFxgSo0\n",
       "BkrgPoWWZCwIVkUw1hqNPV6vtV8AAMDHrn1OT+DG1vGengAAX/mbHgAAAAAA3IegCAAAAABkgiIA\n",
       "AAAAkAmKAAAAAEAmKAIAAAAAmaAIAAAAAGSCIgAAAACQCYoAAAAAQCYoAgAAAACZoAgAAAAAZIIi\n",
       "AAAAAJAJigAAAABAJigCAAAAAJmgCAAAAABkgiIAAAAAkAmKAAAAAEAmKAIAAAAAmaAIAAAAAGSC\n",
       "IgAAAACQCYoAAAAAQCYoAgAAAACZoAgAAAAAZIIiAAAAAJAJigAAAABAJigCAAAAAJmgCAAAAABk\n",
       "giIAAAAAkAmKAAAAAEAmKAIAAAAAmaAIAAAAAGSCIgAAAACQCYoAAAAAQCYoAgAAAACZoAgAAAAA\n",
       "ZIIiAAAAAJAJigAAAABAJigCAAAAAJmgCAAAAABkgiIAAAAAkAmKAAAAAEAmKAIAAAAAmaAIAAAA\n",
       "AGSCIgAAAACQCYoAAAAAQCYoAgAAAACZoAgAAAAAZIIiAAAAAJAJigAAAABAJigCAAAAAJmgCAAA\n",
       "AABkgiIAAAAAkAmKAAAAAEAmKAIAAAAAmaAIAAAAAGSCIgAAAACQCYoAAAAAQCYoAgAAAACZoAgA\n",
       "AAAAZIIiAAAAAJAJigAAAABAJigCAAAAAJmgCAAAAABkgiIAAAAAkAmKAAAAAEAmKAIAAAAAmaAI\n",
       "AAAAAGSCIgAAAACQCYoAAAAAQCYoAgAAAACZoAgAAAAAZIIiAAAAAJAJigAAAABAJigCAAAAAJmg\n",
       "CAAAAABkgiIAAAAAkAmKAAAAAEAmKAIAAAAAmaAIAAAAAGSCIgAAAACQCYoAAAAAQCYoAgAAAACZ\n",
       "oAgAAAAAZIIiAAAAAJAJigAAAABAJigCAAAAAJmgCAAAAABkgiIAAAAAkAmKAAAAAEAmKAIAAAAA\n",
       "maAIAAAAAGSCIgAAAACQCYoAAAAAQCYoAgAAAACZoAgAAAAAZIIiAAAAAJAJigAAAABAJigCAAAA\n",
       "AJmgCAAAAABkgiIAAAAAkAmKAAAAAEAmKAIAAAAAmaAIAAAAAGSCIgAAAACQCYoAAAAAQCYoAgAA\n",
       "AACZoAgAAAAAZIIiAAAAAJAJigAAAABAJigCAAAAAJmgCAAAAABkgiIAAAAAkAmKAAAAAEAmKAIA\n",
       "AAAAmaAIAAAAAGSCIgAAAACQCYoAAAAAQCYoAgAAAACZoAgAAAAAZIIiAAAAAJAJigAAAABAJigC\n",
       "AAAAAJmgCAAAAABkgiIAAAAAkAmKAAAAAEAmKAIAAAAAmaAIAAAAAGSCIgAAAACQCYoAAAAAQCYo\n",
       "AgAAAACZoAgAAAAAZIIiAAAAAJAJigAAAABAJigCAAAAAJmgCAAAAABkgiIAAAAAkAmKAAAAAEAm\n",
       "KAIAAAAAmaAIAAAAAGSCIgAAAACQCYoAAAAAQCYoAgAAAACZoAgAAAAAZIIiAAAAAJAJigAAAABA\n",
       "tqYHAAAAPNG1z+kJAPAVH4oAAAAAQCYoAgAAAACZoAgAAAAAZIIiAAAAAJAJigAAAABAJigCAAAA\n",
       "AJmgCAAAAABkgiIAAAAAkAmKAAAAAEAmKAIAAAAAmaAIAAAAAGSCIgAAAACQCYoAAAAAQCYoAgAA\n",
       "AACZoAgAAAAAZIIiAAAAAJAJigAAAABAJigCAAAAAJmgCAAAAABkgiIAAAAAkAmKAAAAAEAmKAIA\n",
       "AAAAmaAIAAAAAGSCIgAAAACQCYoAAAAAQCYoAgAAAACZoAgAAAAAZIIiAAAAAJAJigAAAABAJigC\n",
       "AAAAAJmgCAAAAABkgiIAAAAAkAmKAAAAAEAmKAIAAAAAmaAIAAAAAGSCIgAAAACQCYoAAAAAQCYo\n",
       "AgAAAACZoAgAAAAAZIIiAAAAAJAJigAAAABAJigCAAAAAJmgCAAAAABkgiIAAAAAkAmKAAAAAEAm\n",
       "KAIAAAAAmaAIAAAAAGSCIgAAAACQCYoAAAAAQCYoAgAAAACZoAgAAAAAZIIiAAAAAJAJigAAAABA\n",
       "JigCAAAAAJmgCAAAAABkgiIAAAAAkAmKAAAAAEAmKAIAAAAAmaAIAAAAAGSCIgAAAACQCYoAAAAA\n",
       "QCYoAgAAAACZoAgAAAAAZIIiAAAAAJAJigAAAABAJigCAAAAAJmgCAAAAABkgiIAAAAAkAmKAAAA\n",
       "AEAmKAIAAAAAmaAIAAAAAGSCIgAAAACQCYoAAAAAQCYoAgAAAACZoAgAAAAAZIIiAAAAAJAJigAA\n",
       "AABAJigCAAAAAJmgCAAAAABkgiIAAAAAkAmKAAAAAEAmKAIAAAAAmaAIAAAAAGSCIgAAAACQCYoA\n",
       "AAAAQCYoAgAAAACZoAgAAAAAZIIiAAAAAJAJigAAAABAJigCAAAAAJmgCAAAAABkgiIAAAAAkAmK\n",
       "AAAAAEAmKAIAAAAAmaAIAAAAAGSCIgAAAACQCYoAAAAAQCYoAgAAAACZoAgAAAAAZIIiAAAAAJAJ\n",
       "igAAAABAJigCAAAAAJmgCAAAAABkgiIAAAAAkAmKAAAAAEAmKAIAAAAAmaAIAAAAAGSCIgAAAACQ\n",
       "CYoAAAAAQCYoAgAAAACZoAgAAAAAZIIiAAAAAJAJigAAAABAJigCAAAAAJmgCAAAAABkgiIAAAAA\n",
       "kAmKAAAAAEAmKAIAAAAAmaAIAAAAAGSCIgAAAACQCYoAAAAAQCYoAgAAAACZoAgAAAAAZIIiAAAA\n",
       "AJAJigAAAABAJigCAAAAAJmgCAAAAABkgiIAAAAAkAmKAAAAAEAmKAIAAAAAmaAIAAAAAGSCIgAA\n",
       "AACQCYoAAAAAQCYoAgAAAACZoAgAAAAAZIIiAAAAAJAJigAAAABAJigCAAAAAJmgCAAAAABkgiIA\n",
       "AAAAkAmKAAAAAEAmKAIAAAAAmaAIAAAAAGRregAA/OLa5/QEAACAR/GhCAAAAABkgiIAAAAAkAmK\n",
       "AAAAAEAmKAIAAAAAmaAIAAAAAGSCIgAAAACQCYoAAAAAQCYoAgAAAACZoAgAAAAAZIIiAAAAAJAJ\n",
       "igAAAABAJigCAAAAAJmgCAAAAABkgiIAAAAAkAmKAAAAAEAmKAIAAAAAmaAIAAAAAGSCIgAAAACQ\n",
       "CYoAAAAAQCYoAgAAAACZoAgAAAAAZIIiAAAAAJAJigAAAABAJigCAAAAAJmgCAAAAABkgiIAAAAA\n",
       "kAmKAAAAAEAmKAIAAAAAmaAIAAAAAGSCIgAAAACQCYoAAAAAQCYoAgAAAACZoAgAAAAAZIIiAAAA\n",
       "AJAJigAAAABAJigCAAAAAJmgCAAAAABkgiIAAAAAkAmKAAAAAEAmKAIAAAAAmaAIAAAAAGSCIgAA\n",
       "AACQCYoAAAAAQCYoAgAAAACZoAgAAAAAZIIiAAAAAJAJigAAAABAJigCAAAAAJmgCAAAAABkgiIA\n",
       "AAAAkAmKAAAAAEAmKAIAAAAAmaAIAAAAAGSCIgAAAACQCYoAAAAAQCYoAgAAAACZoAgAAAAAZIIi\n",
       "AAAAAJAJigAAAABAJigCAAAAAJmgCAAAAABkgiIAAAAAkAmKAAAAAEAmKAIAAAAAmaAIAAAAAGSC\n",
       "IgAAAACQCYoAAAAAQCYoAgAAAACZoAgAAAAAZIIiAAAAAJAJigAAAABAJigCAAAAAJmgCAAAAABk\n",
       "giIAAAAAkAmKAAAAAEAmKAIAAAAAmaAIAAAAAGSCIgAAAACQCYoAAAAAQCYoAgAAAACZoAgAAAAA\n",
       "ZIIiAAAAAJAJigAAAABAJigCAAAAAJmgCAAAAABkgiIAAAAAkAmKAAAAAEAmKAIAAAAAmaAIAAAA\n",
       "AGSCIgAAAACQCYoAAAAAQCYoAgAAAACZoAgAAAAAZIIiAAAAAJAJigAAAABAJigCAAAAAJmgCAAA\n",
       "AABkgiIAAAAAkAmKAAAAAEAmKAIAAAAAmaAIAAAAAGSCIgAAAACQCYoAAAAAQCYoAgAAAACZoAgA\n",
       "AAAAZIIiAAAAAJAJigAAAABAJigCAAAAAJmgCAAAAABkgiIAAAAAkAmKAAAAAEAmKAIAAAAAmaAI\n",
       "AAAAAGSCIgAAAACQCYoAAAAAQCYoAgAAAACZoAgAAAAAZIIiAAAAAJAJigAAAABAJigCAAAAAJmg\n",
       "CAAAAABkgiIAAAAAkAmKAAAAAEAmKAIAAAAAmaAIAAAAAGSCIgAAAACQCYoAAAAAQCYoAgAAAACZ\n",
       "oAgAAAAAZIIiAAAAAJAJigAAAABAJigCAAAAAJmgCAAAAABkgiIAAAAAkAmKAAAAAEAmKAIAAAAA\n",
       "maAIAAAAAGSCIgAAAACQCYoAAAAAQCYoAgAAAACZoAgAAAAAZIIiAAAAAJAJigAAAABAJigCAAAA\n",
       "ANmaHgAAMGUd7+kJwINd+5yeAABf8aEIAAAAAGSCIgAAAACQCYoAAAAAQCYoAgAAAACZoAgAAAAA\n",
       "ZIIiAAAAAJAJigAAAABAJigCAAAAAJmgCAAAAABkgiIAAAAAkAmKAAAAAEAmKAIAAAAAmaAIAAAA\n",
       "AGSCIgAAAACQCYoAAAAAQCYoAgAAAACZoAgAAAAAZIIiAAAAAJAJigAAAABAJigCAAAAAJmgCAAA\n",
       "AABkgiIAAAAAkAmKAAAAAEAmKAIAAAAAmaAIAAAAAGSCIgAAAACQCYoAAAAAQCYoAgAAAACZoAgA\n",
       "AAAAZIIiAAAAAJAJigAAAABAJigCAAAAAJmgCAAAAABkgiIAAAAAkAmKAAAAAEAmKAIAAAAAmaAI\n",
       "AAAAAGSCIgAAAACQCYoAAAAAQCYoAgAAAACZoAgAAAAAZIIiAAAAAJAJigAAAABAJigCAAAAAJmg\n",
       "CAAAAABkgiIAAAAAkAmKAAAAAEAmKAIAAAAAmaAIAAAAAGSCIgAAAACQCYoAAAAAQCYoAgAAAACZ\n",
       "oAgAAAAAZIIiAAAAAJAJigAAAABAJigCAAAAAJmgCAAAAABkgiIAAAAAkAmKAAAAAEAmKAIAAAAA\n",
       "maAIAAAAAGSCIgAAAACQCYoAAAAAQCYoAgAAAACZoAgAAAAAZIIiAAAAAJAJigAAAABAJigCAAAA\n",
       "AJmgCAAAAABkgiIAAAAAkAmKAAAAAEAmKAIAAAAAmaAIAAAAAGSCIgAAAACQCYoAAAAAQCYoAgAA\n",
       "AACZoAgAAAAAZIIiAAAAAJAJigAAAABAJigCAAAAAJmgCAAAAABkgiIAAAAAkAmKAAAAAEAmKAIA\n",
       "AAAAmaAIAAAAAGSCIgAAAACQCYoAAAAAQCYoAgAAAACZoAgAAAAAZIIiAAAAAJAJigAAAABAJigC\n",
       "AAAAAJmgCAAAAABkgiIAAAAAkAmKAAAAAEAmKAIAAAAAmaAIAAAAAGSCIgAAAACQCYoAAAAAQCYo\n",
       "AgAAAACZoAgAAAAAZIIiAAAAAJAJigAAAABAJigCAAAAAJmgCAAAAABkgiIAAAAAkAmKAAAAAEAm\n",
       "KAIAAAAAmaAIAAAAAGSCIgAAAACQCYoAAAAAQCYoAgAAAACZoAgAAAAAZIIiAAAAAJAJigAAAABA\n",
       "JigCAAAAAJmgCAAAAABkgiIAAAAAkAmKAAAAAEAmKAIAAAAAmaAIAAAAAGSCIgAAAACQCYoAAAAA\n",
       "QCYoAgAAAACZoAgAAAAAZIIiAAAAAJAJigAAAABAJigCAAAAAJmgCAAAAABkgiIAAAAAkAmKAAAA\n",
       "AEAmKAIAAAAAmaAIAAAAAGSCIgAAAACQCYoAAAAAQCYoAgAAAACZoAgAAAAAZIIiAAAAAJAJigAA\n",
       "AABAJigCAAAAAJmgCAAAAABkgiIAAAAAkAmKAAAAAEC2pgcAz3btc3oCN7eO9/QEbswNAgCAz/lQ\n",
       "BAAAAAAyQREAAAAAyARFAAAAACATFAEAAACATFAEAAAAADJBEQAAAADIBEUAAAAAIBMUAQAAAIBM\n",
       "UAQAAAAAMkERAAAAAMgERQAAAAAgExQBAAAAgExQBAAAAAAyQREAAAAAyARFAAAAACATFAEAAACA\n",
       "TFAEAAAAADJBEQAAAADIBEUAAAAAIBMUAQAAAIBMUAQAAAAAMkERAAAAAMgERQAAAAAgExQBAAAA\n",
       "gExQBAAAAAAyQREAAAAAyARFAAAAACATFAEAAACATFAEAAAAADJBEQAAAADIBEUAAAAAIBMUAQAA\n",
       "AIBMUAQAAAAAMkERAAAAAMgERQAAAAAgExQBAAAAgExQBAAAAAAyQREAAAAAyARFAAAAACATFAEA\n",
       "AACATFAEAAAAADJBEQAAAADIBEUAAAAAIBMUAQAAAIBMUAQAAAAAMkERAAAAAMgERQAAAAAgExQB\n",
       "AAAAgExQBAAAAAAyQREAAAAAyARFAAAAACATFAEAAACATFAEAAAAADJBEQAAAADIBEUAAAAAIBMU\n",
       "AQAAAIBMUAQAAAAAMkERAAAAAMgERQAAAAAgExQBAAAAgExQBAAAAAAyQREAAAAAyARFAAAAACAT\n",
       "FAEAAACATFAEAAAAADJBEQAAAADIBEUAAAAAIBMUAQAAAIBMUAQAAAAAMkERAAAAAMgERQAAAAAg\n",
       "ExQBAAAAgExQBAAAAAAyQREAAAAAyARFAAAAACATFAEAAACATFAEAAAAADJBEQAAAADIBEUAAAAA\n",
       "IBMUAQAAAIBMUAQAAAAAMkERAAAAAMgERQAAAAAgExQBAAAAgExQBAAAAAAyQREAAAAAyARFAAAA\n",
       "ACATFAEAAACATFAEAAAAADJBEQAAAADIBEUAAAAAIBMUAQAAAIBMUAQAAAAAMkERAAAAAMgERQAA\n",
       "AAAgExQBAAAAgExQBAAAAAAyQREAAAAAyARFAAAAACATFAEAAACATFAEAAAAADJBEQAAAADIBEUA\n",
       "AAAAIBMUAQAAAIBMUAQAAAAAMkERAAAAAMgERQAAAAAgExQBAAAAgExQBAAAAAAyQREAAAAAyARF\n",
       "AAAAACATFAEAAACATFAEAAAAADJBEQAAAADIBEUAAAAAIBMUAQAAAIBMUAQAAAAAMkERAAAAAMgE\n",
       "RQAAAAAgExQBAAAAgExQBAAAAAAyQREAAAAAyARFAAAAACATFAEAAACATFAEAAAAADJBEQAAAADI\n",
       "BEUAAAAAIBMUAQAAAIBMUAQAAAAAMkERAAAAAMgERQAAAAAgExQBAAAAgExQBAAAAAAyQREAAAAA\n",
       "yARFAAAAACATFAEAAACATFAEAAAAADJBEQAAAADIBEUAAAAAIBMUAQAAAIBMUAQAAAAAMkERAAAA\n",
       "AMgERQAAAAAgW9MDAOAX1z6nJwAAADyKD0UAAAAAIBMUAQAAAIBMUAQAAAAAMkERAAAAAMgERQAA\n",
       "AAAgExQBAAAAgExQBAAAAAAyQREAAAAAyARFAAAAACATFAEAAACATFAEAAAAADJBEQAAAADIBEUA\n",
       "AAAAIBMUAQAAAIBMUAQAAAAAMkERAAAAAMgERQAAAAAgExQBAAAAgExQBAAAAAAyQREAAAAAyARF\n",
       "AAAAACATFAEAAACATFAEAAAAADJBEQAAAADIBEUAAAAAIBMUAQAAAIBMUAQAAAAAMkERAAAAAMgE\n",
       "RQAAAAAgExQBAAAAgExQBAAAAAAyQREAAAAAyARFAAAAACATFAEAAACATFAEAAAAADJBEQAAAADI\n",
       "BEUAAAAAIBMUAQAAAIBMUAQAAAAAMkERAAAAAMgERQAAAAAgExQBAAAAgExQBAAAAAAyQREAAAAA\n",
       "yARFAAAAACATFAEAAACATFAEAAAAADJBEQAAAADIBEUAAAAAIBMUAQAAAIBMUAQAAAAAMkERAAAA\n",
       "AMgERQAAAAAgExQBAAAAgExQBAAAAOC/XXs7sRAIoih6hQ7U0AxUcFLY6EfRzFoRnC8fm4JMUAQA\n",
       "AAAAMkERAAAAAMgERQAAAAAgExQBAAAAgExQBAAAAAAyQREAAAAAyARFAAAAACATFAEAAACATFAE\n",
       "AAAAADJBEQAAAADIBEUAAAAAIBMUAQAAAIBMUAQAAAAAMkERAAAAAMgERQAAAAAgExQBAAAAgExQ\n",
       "BAAAAAAyQREAAAAAyARFAAAAACATFAEAAACATFAEAAAAADJBEQAAAADIBEUAAAAAIBMUAQAAAIBM\n",
       "UAQAAAAAMkERAAAAAMgERQAAAAAgExQBAAAAgExQBAAAAAAyQREAAAAAyARFAAAAACATFAEAAACA\n",
       "TFAEAAAAADJBEQAAAADIBEUAAAAAIBMUAQAAAIBMUAQAAAAAMkERAAAAAMgERQAAAAAgExQBAAAA\n",
       "gExQBAAAAAAyQREAAAAAyARFAAAAACATFAEAAACATFAEAAAAADJBEQAAAADIBEUAAAAAIBMUAQAA\n",
       "AIBMUAQAAAAAMkERAAAAAMgERQAAAAAgExQBAAAAgExQBAAAAAAyQREAAAAAyARFAAAAACATFAEA\n",
       "AACATFAEAAAAADJBEQAAAADIBEUAAAAAIBMUAQAAAIBMUAQAAAAAMkERAAAAAMgERQAAAAAgExQB\n",
       "AAAAgExQBAAAAAAyQREAAAAAyARFAAAAACATFAEAAACATFAEAAAAADJBEQAAAADIBEUAAAAAIBMU\n",
       "AQAAAIBMUAQAAAAAMkERAAAAAMgERQAAAAAgExQBAAAAgExQBAAAAAAyQREAAAAAyARFAAAAACAT\n",
       "FAEAAACATFAEAAAAADJBEQAAAADIBEUAAAAAIBMUAQAAAIBMUAQAAAAAMkERAAAAAMgERQAAAAAg\n",
       "ExQBAAAAgExQBAAAAACyNT0AAAB2tY5zegIbu59regIAvOJCEQAAAADIBEUAAAAAIBMUAQAAAIBM\n",
       "UAQAAAAAMkERAAAAAMgERQAAAAAgExQBAAAAgExQBAAAAAAyQREAAAAAyARFAAAAACATFAEAAACA\n",
       "TFAEAAAAADJBEQAAAADIBEUAAAAAIBMUAQAAAIBMUAQAAAAAMkERAAAAAMgERQAAAAAgExQBAAAA\n",
       "gExQBAAAAAAyQREAAAAAyARFAAAAACATFAEAAACATFAEAAAAADJBEQAAAADIBEUAAAAAIBMUAQAA\n",
       "AIBMUAQAAAAAMkERAAAAAMgERQAAAAAgExQBAAAAgExQBAAAAAAyQREAAAAAyARFAAAAACATFAEA\n",
       "AACATFAEAAAAADJBEQAAAADIBEUAAAAAIBMUAQAAAIBMUAQAAAAAMkERAAAAAMgERQAAAAAgExQB\n",
       "AAAAgExQBAAAAAAyQREAAAAAyARFAAAAACATFAEAAACATFAEAAAAADJBEQAAAADIBEUAAAAAIBMU\n",
       "AQAAAIBMUAQAAAAAMkERAAAAAMgERQAAAAAgExQBAAAAgExQBAAAAAAyQREAAAAAyARFAAAAACAT\n",
       "FAEAAACATFAEAAAAADJBEQAAAADIBEUAAAAAIBMUAQAAAIBMUAQAAAAAMkERAAAAAMgERQAAAAAg\n",
       "ExQBAAAAgExQBAAAAAAyQREAAAAAyARFAAAAACATFAEAAACATFAEAAAAADJBEQAAAADIBEUAAAAA\n",
       "IBMUAQAAAIBMUAQAAAAAMkERAAAAAMgERQAAAAAgExQBAAAAgExQBAAAAAAyQREAAAAAyARFAAAA\n",
       "ACATFAEAAACATFAEAAAAADJBEQAAAADIBEUAAAAAIBMUAQAAAIBMUAQAAAAAMkERAAAAAMgERQAA\n",
       "AAAgExQBAAAAgExQBAAAAAAyQREAAAAAyARFAAAAACATFAEAAACATFAEAAAAADJBEQAAAADIBEUA\n",
       "AAAAIBMUAQAAAIBMUAQAAAAAMkERAAAAAMgERQAAAAAgExQBAAAAgExQBAAAAAAyQREAAAAAyARF\n",
       "AAAAACATFAEAAACATFAEAAAAADJBEQAAAADIBEUAAAAAIBMUAQAAAIBMUAQAAAAAMkERAAAAAMgE\n",
       "RQAAAAAgExQBAAAAgExQBAAAAAAyQREAAAAAyARFAAAAACATFAEAAACATFAEAAAAADJBEQAAAADI\n",
       "BEUAAAAAIBMUAQAAAIBMUAQAAAAAMkERAAAAAMgERQAAAAAgExQBAAAAgExQBAAAAAAyQREAAAAA\n",
       "yARFAAAAACATFAEAAACATFAEAAAAADJBEQAAAADIBEUAAAAAIBMUAQAAAIBMUAQAAAAAMkERAAAA\n",
       "AMgERQAAAAAgExQBAAAAgExQBAAAAAAyQREAAAAAyARFAAAAACATFAEAAACAbE0PYH/3c01PYGPr\n",
       "OKcnAMBrvoMAgP/IhSIAAAAAkAmKAAAAAEAmKAIAAAAAmaAIAAAAAGSCIgAAAACQCYoAAAAAQCYo\n",
       "AgAAAACZoAgAAAAAZIIiAAAAAJAJigAAAABAJigCAAAAAJmgCAAAAABkgiIAAAAAkAmKAAAAAEAm\n",
       "KAIAAAAAmaAIAAAAAGSCIgAAAACQCYoAAAAAQCYoAgAAAACZoAgAAAAAZIIiAAAAAJAJigAAAABA\n",
       "JigCAAAAAJmgCAAAAABkgiIAAAAAkAmKAAAAAEAmKAIAAAAAmaAIAAAAAGSCIgAAAACQCYoAAAAA\n",
       "QCYoAgAAAACZoAgAAAAAZIIiAAAAAJAJigAAAABAJigCAAAAAJmgCAAAAABkgiIAAAAAkAmKAAAA\n",
       "AEAmKAIAAAAAmaAIAAAAAGSCIgAAAACQCYoAAAAAQCYoAgAAAACZoAgAAAAAZIIiAAAAAJAJigAA\n",
       "AABAJigCAAAAAJmgCAAAAABkgiIAAAAAkAmKAAAAAEAmKAIAAAAAmaAIAAAAAGSCIgAAAACQCYoA\n",
       "AAAAQCYoAgAAAACZoAgAAAAAZIIiAAAAAJAJigAAAABAJigCAAAAAJmgCAAAAABkgiIAAAAAkAmK\n",
       "AAAAAEAmKAIAAAAAmaAIAAAAAGSCIgAAAACQCYoAAAAAQCYoAgAAAACZoAgAAAAAZIIiAAAAAJAJ\n",
       "igAAAABAJigCAAAAAJmgCAAAAABkgiIAAAAAkAmKAAAAAEAmKAIAAAAAmaAIAAAAAGSCIgAAAACQ\n",
       "CYoAAAAAQCYoAgAAAACZoAgAAAAAZIIiAAAAAJAJigAAAABAJigCAAAAAJmgCAAAAABkgiIAAAAA\n",
       "kAmKAAAAAEAmKAIAAAAAmaAIAAAAAGSCIgAAAACQCYoAAAAAQCYoAgAAAACZoAgAAAAAZIIiAAAA\n",
       "AJAJigAAAABAJigCAAAAAJmgCAAAAABkguhAkSQAAAmuSURBVCIAAAAAkAmKAAAAAEAmKAIAAAAA\n",
       "maAIAAAAAGSCIgAAAACQCYoAAAAAQCYoAgAAAACZoAgAAAAAZIIiAAAAAJAJigAAAABAJigCAAAA\n",
       "AJmgCAAAAABkgiIAAAAAkAmKAAAAAEAmKAIAAAAAmaAIAAAAAGSCIgAAAACQCYoAAAAAQCYoAgAA\n",
       "AACZoAgAAAAAZIIiAAAAAJAJigAAAABAJigCAAAAAJmgCAAAAABkgiIAAAAAkAmKAAAAAEAmKAIA\n",
       "AAAAmaAIAAAAAGSCIgAAAACQCYoAAAAAQCYoAgAAAACZoAgAAAAAZIIiAAAAAJAJigAAAABAJigC\n",
       "AAAAAJmgCAAAAABkgiIAAAAAkAmKAAAAAEAmKAIAAAAAmaAIAAAAAGSCIgAAAACQCYoAAAAAQCYo\n",
       "AgAAAACZoAgAAAAAZIIiAAAAAJAJigAAAABAJigCAAAAAJmgCAAAAABkx++3nukRAPDW/VzTEwAA\n",
       "YDvrOKcnsDEXigAAAABAJigCAAAAAJmgCAAAAABkgiIAAAAAkAmKAAAAAEAmKAIAAAAAmaAIAAAA\n",
       "AGSCIgAAAACQCYoAAAAAQCYoAgAAAACZoAgAAAAAZIIiAAAAAJAJigAAAABAJigCAAAAAJmgCAAA\n",
       "AABkgiIAAAAAkAmKAAAAAEAmKAIAAAAAmaAIAAAAAGSCIgAAAACQCYoAAAAAQCYoAgAAAACZoAgA\n",
       "AAAAZIIiAAAAAJAJigAAAABAJigCAAAAAJmgCAAAAABkgiIAAAAAkAmKAAAAAEAmKAIAAAAAmaAI\n",
       "AAAAAGSCIgAAAACQCYoAAAAAQCYoAgAAAACZoAgAAAAAZIIiAAAAAJAJigAAAABAJigCAAAAAJmg\n",
       "CAAAAABkgiIAAAAAkAmKAAAAAEAmKAIAAAAAmaAIAAAAAGSCIgAAAACQCYoAAAAAQCYoAgAAAACZ\n",
       "oAgAAAAAZIIiAAAAAJAJigAAAABAJigCAAAAAJmgCAAAAABkgiIAAAAAkAmKAAAAAEAmKAIAAAAA\n",
       "maAIAAAAAGSCIgAAAACQCYoAAAAAQCYoAgAAAACZoAgAAAAAZIIiAAAAAJAJigAAAABAJigCAAAA\n",
       "AJmgCAAAAABkgiIAAAAAkAmKAAAAAEAmKAIAAAAAmaAIAAAAAGSCIgAAAACQCYoAAAAAQCYoAgAA\n",
       "AACZoAgAAAAAZIIiAAAAAJAJigAAAABAJigCAAAAAJmgCAAAAABkgiIAAAAAkAmKAAAAAEAmKAIA\n",
       "AAAAmaAIAAAAAGSCIgAAAACQCYoAAAAAQCYoAgAAAACZoAgAAAAAZIIiAAAAAJAJigAAAABAJigC\n",
       "AAAAAJmgCAAAAABkgiIAAAAAkAmKAAAAAEAmKAIAAAAAmaAIAAAAAGSCIgAAAACQCYoAAAAAQCYo\n",
       "AgAAAACZoAgAAAAAZIIiAAAAAJAJigAAAABAJigCAAAAAJmgCAAAAABkgiIAAAAAkAmKAAAAAEAm\n",
       "KAIAAAAAmaAIAAAAAGSCIgAAAACQCYoAAAAAQCYoAgAAAACZoAgAAAAAZIIiAAAAAJAJigAAAABA\n",
       "JigCAAAAAJmgCAAAAABkgiIAAAAAkAmKAAAAAEAmKAIAAAAAmaAIAAAAAGSCIgAAAACQCYoAAAAA\n",
       "QCYoAgAAAACZoAgAAAAAZIIiAAAAAJAJigAAAABAJigCAAAAAJmgCAAAAABkgiIAAAAAkAmKAAAA\n",
       "AEAmKAIAAAAAmaAIAAAAAGSCIgAAAACQCYoAAAAAQCYoAgAAAACZoAgAAAAAZIIiAAAAAJAJigAA\n",
       "AABAJigCAAAAAJmgCAAAAABkgiIAAAAAkAmKAAAAAEAmKAIAAAAAmaAIAAAAAGSCIgAAAACQCYoA\n",
       "AAAAQCYoAgAAAACZoAgAAAAAZOt+rukNbG4d5/QEAHjFOwyY5F+Mr7zH+MIziC9cKAIAAAAAmaAI\n",
       "AAAAAGSCIgAAAACQCYoAAAAAQCYoAgAAAACZoAgAAAAAZIIiAAAAAJAJigAAAABAJigCAAAAAJmg\n",
       "CAAAAABkgiIAAAAAkAmKAAAAAEAmKAIAAAAAmaAIAAAAAGSCIgAAAACQCYoAAAAAQCYoAgAAAACZ\n",
       "oAgAAAAAZIIiAAAAAJAJigAAAABAJigCAAAAAJmgCAAAAABkgiIAAAAAkAmKAAAAAEAmKAIAAAAA\n",
       "maAIAAAAAGSCIgAAAACQCYoAAAAAQCYoAgAAAACZoAgAAAAAZIIiAAAAAJAJigAAAABAJigCAAAA\n",
       "AJmgCAAAAABkgiIAAAAAkAmKAAAAAEAmKAIAAAAAmaAIAAAAAGSCIgAAAACQCYoAAAAAQCYoAgAA\n",
       "AACZoAgAAAAAZIIiAAAAAJAJigAAAABAJigCAAAAAJmgCAAAAABkgiIAAAAAkAmKAAAAAEAmKAIA\n",
       "AAAAmaAIAAAAAGSCIgAAAACQCYoAAAAAQCYoAgAAAACZoAgAAAAAZIIiAAAAAJAJigAAAABAJigC\n",
       "AAAAAJmgCAAAAABkgiIAAAAAkAmKAAAAAEAmKAIAAAAAmaAIAAAAAGSCIgAAAACQCYoAAAAAQCYo\n",
       "AgAAAACZoAgAAAAAZIIiAAAAAJAJigAAAABAJigCAAAAAJmgCAAAAABkgiIAAAAAkAmKAAAAAEAm\n",
       "KAIAAAAAmaAIAAAAAGSCIgAAAACQCYoAAAAAQCYoAgAAAACZoAgAAAAAZIIiAAAAAJAJigAAAABA\n",
       "JigCAAAAAJmgCAAAAABkgiIAAAAAkAmKAAAAAEAmKAIAAAAAmaAIAAAAAGSCIgAAAACQCYoAAAAA\n",
       "QCYoAgAAAACZoAgAAAAAZIIiAAAAAJAJigAAAABAJigCAAAAAJmgCAAAAABkgiIAAAAAkAmKAAAA\n",
       "AEAmKAIAAAAAmaAIAAAAAGSCIgAAAACQCYoAAAAAQCYoAgAAAACZoAgAAAAAZIIiAAAAAJAJigAA\n",
       "AABAJigCAAAAAJmgCAAAAABkgiIAAAAAkAmKAAAAAEAmKAIAAAAAmaAIAAAAAGSCIgAAAACQCYoA\n",
       "AAAAQCYoAgAAAACZoAgAAAAAZIIiAAAAAJAJigAAAABAJigCAAAAAJmgCAAAAABkgiIAAAAAkAmK\n",
       "AAAAAEAmKAIAAAAAmaAIAAAAAGSCIgAAAACQCYoAAAAAQCYoAgAAAACZoAgAAAAAZIIiAAAAAJAJ\n",
       "igAAAABAJigCAAAAAJmgCAAAAABkgiIAAAAAkAmKAAAAAEAmKAIAAAAAmaAIAAAAAGSCIgAAAACQ\n",
       "CYoAAAAAQCYoAgAAAACZoAgAAAAAZIIiAAAAAJAJigAAAABAJigCAAAAAJmgCAAAAABkgiIAAAAA\n",
       "kP0BRa41ZIYwUVAAAAAASUVORK5CYII=\n",
       "\" transform=\"translate(624, 51)\"/>\n",
       "</g>\n",
       "</svg>\n"
      ]
     },
     "execution_count": 76,
     "metadata": {},
     "output_type": "execute_result"
    }
   ],
   "source": [
    "p = vis(policy, 20, 20)\n",
    "# plot(p)\n",
    "#policyGraph = zeros(5,3) #turns into 5 by 3 matrix\n",
    "#(xmax, ymax) = params.size    \n"
   ]
  },
  {
   "cell_type": "code",
   "execution_count": null,
   "id": "4a5bce43",
   "metadata": {},
   "outputs": [],
   "source": []
  }
 ],
 "metadata": {
  "@webio": {
   "lastCommId": "b5d61c2173eb40a488d5cac01c9e13a1",
   "lastKernelId": "c341b7c9-7607-47e4-9d4e-360847dfcdec"
  },
  "kernelspec": {
   "display_name": "Julia 1.6.3",
   "language": "julia",
   "name": "julia-1.6"
  },
  "language_info": {
   "file_extension": ".jl",
   "mimetype": "application/julia",
   "name": "julia",
   "version": "1.6.3"
  }
 },
 "nbformat": 4,
 "nbformat_minor": 5
}
