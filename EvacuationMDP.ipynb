{
 "cells": [
  {
   "cell_type": "code",
   "execution_count": 1,
   "metadata": {},
   "outputs": [
    {
     "ename": "LoadError",
     "evalue": "ArgumentError: Package POMDPSimulators not found in current path:\n- Run `import Pkg; Pkg.add(\"POMDPSimulators\")` to install the POMDPSimulators package.\n",
     "output_type": "error",
     "traceback": [
      "ArgumentError: Package POMDPSimulators not found in current path:\n- Run `import Pkg; Pkg.add(\"POMDPSimulators\")` to install the POMDPSimulators package.\n",
      "",
      "Stacktrace:",
      " [1] require(into::Module, mod::Symbol)",
      "   @ Base ./loading.jl:893",
      " [2] eval",
      "   @ ./boot.jl:360 [inlined]",
      " [3] include_string(mapexpr::typeof(REPL.softscope), mod::Module, code::String, filename::String)",
      "   @ Base ./loading.jl:1116"
     ]
    }
   ],
   "source": [
    "using POMDPs # for MDP type\n",
    "using DiscreteValueIteration\n",
    "using POMDPPolicies\n",
    "using POMDPModelTools #for sparse cat \n",
    "using Parameters\n",
    "using Random\n",
    "using Plots; default(fontfamily=\"Computer Modern\", framestyle=:box) # LaTex-style\n",
    "using QuickPOMDPs\n",
    "using Distributions \n",
    "#using PlotlyJS\n",
    "using LinearAlgebra\n",
    "using POMDPSimulators"
   ]
  },
  {
   "cell_type": "code",
   "execution_count": 2,
   "metadata": {},
   "outputs": [
    {
     "data": {
      "text/plain": [
       "MersenneTwister(12648430)"
      ]
     },
     "execution_count": 2,
     "metadata": {},
     "output_type": "execute_result"
    }
   ],
   "source": [
    "Random.seed!(0xC0FFEE)"
   ]
  },
  {
   "cell_type": "markdown",
   "metadata": {},
   "source": [
    "**States**"
   ]
  },
  {
   "cell_type": "code",
   "execution_count": 3,
   "metadata": {},
   "outputs": [],
   "source": [
    "# A state s in the evacuation problem is a discrete set of 4 values: \n",
    "# chairs remaining, time remaining, family size, and visa status\n",
    "struct State\n",
    "    c::Int # chairs remaining \n",
    "    t::Int # time remaining \n",
    "    f::Int # family size \n",
    "    v::Int # visa status \n",
    "end "
   ]
  },
  {
   "cell_type": "markdown",
   "metadata": {},
   "source": [
    "**Environment Parameters**"
   ]
  },
  {
   "cell_type": "code",
   "execution_count": 4,
   "metadata": {},
   "outputs": [
    {
     "data": {
      "text/plain": [
       "EvacuationParameters"
      ]
     },
     "execution_count": 4,
     "metadata": {},
     "output_type": "execute_result"
    }
   ],
   "source": [
    "# TO DO: WEIGHT FAMILY SIZES AND VISA STATUS BY PROBABILITY \n",
    "@with_kw struct EvacuationParameters\n",
    "    family_sizes::Vector{Int} = [1, 2, 3, 4, 5, 6, 7, 8, 9, 10] # set with no repeats \n",
    "    # p_family_sizes::Vector{Float} = # must sum to 1 \n",
    "    visa_status::Vector{Int} = [-20, -4, 0, 1, 2, 3, 4, 10] #TODO: map to various status \n",
    "    # p_visa_status::Vector{Float} = # must sum to 1 \n",
    "    capacity::Int = 70\n",
    "    time::Int = 60\n",
    "    size::Tuple{Int, Int} = (length(visa_status), length(family_sizes)) # size of grid \n",
    "    p_transition::Real = 0.8 # don't we always transition into this since time moves forward? I'm confused... \n",
    "    null_state::State = State(-1, -1, -1 ,-1) # is there someway to do this???\n",
    "end\n"
   ]
  },
  {
   "cell_type": "code",
   "execution_count": 5,
   "metadata": {},
   "outputs": [],
   "source": [
    "params = EvacuationParameters(); "
   ]
  },
  {
   "cell_type": "code",
   "execution_count": 6,
   "metadata": {},
   "outputs": [
    {
     "name": "stdout",
     "output_type": "stream",
     "text": [
      "number_states = params.capacity * params.time * (size(params.family_sizes))[1] * (size(params.visa_status))[1] = 336000\n"
     ]
    },
    {
     "data": {
      "text/plain": [
       "336000"
      ]
     },
     "execution_count": 6,
     "metadata": {},
     "output_type": "execute_result"
    }
   ],
   "source": [
    "@show number_states = params.capacity * params.time * size(params.family_sizes)[1] * size(params.visa_status)[1]"
   ]
  },
  {
   "cell_type": "code",
   "execution_count": 7,
   "metadata": {},
   "outputs": [
    {
     "data": {
      "text/plain": [
       "346481-element Vector{Any}:\n",
       " State(0, 0, 1, -20)\n",
       " State(0, 0, 1, -4)\n",
       " State(0, 0, 1, 0)\n",
       " State(0, 0, 1, 1)\n",
       " State(0, 0, 1, 2)\n",
       " State(0, 0, 1, 3)\n",
       " State(0, 0, 1, 4)\n",
       " State(0, 0, 1, 10)\n",
       " State(0, 0, 2, -20)\n",
       " State(0, 0, 2, -4)\n",
       " State(0, 0, 2, 0)\n",
       " State(0, 0, 2, 1)\n",
       " State(0, 0, 2, 2)\n",
       " ⋮\n",
       " State(70, 60, 9, 3)\n",
       " State(70, 60, 9, 4)\n",
       " State(70, 60, 9, 10)\n",
       " State(70, 60, 10, -20)\n",
       " State(70, 60, 10, -4)\n",
       " State(70, 60, 10, 0)\n",
       " State(70, 60, 10, 1)\n",
       " State(70, 60, 10, 2)\n",
       " State(70, 60, 10, 3)\n",
       " State(70, 60, 10, 4)\n",
       " State(70, 60, 10, 10)\n",
       " State(-1, -1, -1, -1)"
      ]
     },
     "execution_count": 7,
     "metadata": {},
     "output_type": "execute_result"
    }
   ],
   "source": [
    "# The state space S for the evacuation problem is the set of all combinations \n",
    "𝒮 = []\n",
    "for c in 0:params.capacity # capacity ends at 0 \n",
    "    for t in 0:params.time # time ends at 0 \n",
    "        for f in params.family_sizes # family size here we should have the ACTUAL family sizes \n",
    "            for v in params.visa_status # actual visa statuses \n",
    "                new = State(c, t, f, v) \n",
    "                𝒮 = [𝒮; new]\n",
    "            end\n",
    "        end        \n",
    "    end\n",
    "end\n",
    "𝒮 = [𝒮; params.null_state]\n",
    "\n",
    "\n"
   ]
  },
  {
   "cell_type": "markdown",
   "metadata": {},
   "source": [
    "**Actions**"
   ]
  },
  {
   "cell_type": "code",
   "execution_count": 8,
   "metadata": {},
   "outputs": [],
   "source": [
    "# the possible actions are whether accept or reject a family at the gate \n",
    "@enum Action REJECT ACCEPT"
   ]
  },
  {
   "cell_type": "code",
   "execution_count": 9,
   "metadata": {},
   "outputs": [
    {
     "data": {
      "text/plain": [
       "2-element Vector{Action}:\n",
       " REJECT::Action = 0\n",
       " ACCEPT::Action = 1"
      ]
     },
     "execution_count": 9,
     "metadata": {},
     "output_type": "execute_result"
    }
   ],
   "source": [
    "𝒜 = [REJECT, ACCEPT]"
   ]
  },
  {
   "cell_type": "code",
   "execution_count": 10,
   "metadata": {},
   "outputs": [
    {
     "data": {
      "text/plain": [
       "validtime (generic function with 1 method)"
      ]
     },
     "execution_count": 10,
     "metadata": {},
     "output_type": "execute_result"
    }
   ],
   "source": [
    "# only inbounds if room for the family [assuming would not separate even though might]\n",
    "# and if time is available to enter the airport \n",
    "validtime(s::State) = 0 < s.t "
   ]
  },
  {
   "cell_type": "code",
   "execution_count": 11,
   "metadata": {},
   "outputs": [
    {
     "data": {
      "text/plain": [
       "validcapacity (generic function with 1 method)"
      ]
     },
     "execution_count": 11,
     "metadata": {},
     "output_type": "execute_result"
    }
   ],
   "source": [
    "validcapacity(s::State) = 0 ≤ s.c # maybe try back to 0 "
   ]
  },
  {
   "cell_type": "markdown",
   "metadata": {},
   "source": [
    "**Transition Function** "
   ]
  },
  {
   "cell_type": "code",
   "execution_count": 12,
   "metadata": {},
   "outputs": [
    {
     "data": {
      "text/plain": [
       "T (generic function with 1 method)"
      ]
     },
     "execution_count": 12,
     "metadata": {},
     "output_type": "execute_result"
    }
   ],
   "source": [
    "function T(s::State, a::Action)\n",
    "    next_states = []\n",
    "    if validtime(s) \n",
    "        f′ = rand(params.family_sizes) # pull according to those probabilities \n",
    "        v′ = rand(params.visa_status) # TODO: possibly make this weighted in some way \n",
    "        \n",
    "        # need a for loop iterating over all family sizes and and visa statuses \n",
    "        \n",
    "        if a == ACCEPT \n",
    "            next_state_accept = State(s.c - s.f, s.t - 1, f′, v′) # they get seats\n",
    "            next_state_reject = State(s.c, s.t - 1, f′, v′)\n",
    "            push!(next_states, next_state_accept)\n",
    "            push!(next_states, next_state_reject)\n",
    "            if !validcapacity(next_state_accept) \n",
    "                probabilities = [0, 1] #no room for full family :( so we make probability 0 to accept and 1 reject\n",
    "            else\n",
    "                probabilities = [.80, .20]\n",
    "            end\n",
    "\n",
    "        elseif a == REJECT\n",
    "            probabilities = [1.0]\n",
    "            push!(next_states, State(s.c, s.t - 1, f′, v′))\n",
    "        end\n",
    "    else\n",
    "        push!(next_states,params.null_state)\n",
    "        probabilities = [1]\n",
    "    end\n",
    "    return SparseCat(next_states, probabilities)\n",
    "end\n",
    "\n",
    "    "
   ]
  },
  {
   "cell_type": "markdown",
   "metadata": {},
   "source": [
    "**Reward Function**"
   ]
  },
  {
   "cell_type": "code",
   "execution_count": 13,
   "metadata": {},
   "outputs": [
    {
     "data": {
      "text/plain": [
       "R (generic function with 1 method)"
      ]
     },
     "execution_count": 13,
     "metadata": {},
     "output_type": "execute_result"
    }
   ],
   "source": [
    "function R(s::State, a::Action)\n",
    "    # reward is just the visa status times family size i think! \n",
    "    if a == ACCEPT\n",
    "        return s.v*s.f\n",
    "    end\n",
    "    return 0\n",
    "end "
   ]
  },
  {
   "cell_type": "code",
   "execution_count": 14,
   "metadata": {},
   "outputs": [
    {
     "data": {
      "text/plain": [
       "0.95"
      ]
     },
     "execution_count": 14,
     "metadata": {},
     "output_type": "execute_result"
    }
   ],
   "source": [
    "#render(mdp; show_rewards=true)\n",
    "#@bind γ Slider(0:0.05:1, default=0.95, show_value=true)\n",
    "# hard code for now. maybe come back to it. \n",
    "γ = 0.95"
   ]
  },
  {
   "cell_type": "code",
   "execution_count": 15,
   "metadata": {},
   "outputs": [
    {
     "data": {
      "text/plain": [
       "termination (generic function with 1 method)"
      ]
     },
     "execution_count": 15,
     "metadata": {},
     "output_type": "execute_result"
    }
   ],
   "source": [
    "# when time is 0...possibly encode this into the parameters \n",
    "#termination(s::State) = (s.t == 0 || s.c == 0)\n",
    "# can probably do this instead of overriding ... alternate possibility: \n",
    "# # not sure we need this... to say when time and capacity are equal\n",
    "\n",
    "#termination(s::State) = (s.t == params.null_state.t && s.c == params.null_state.c)\n",
    "#Base.:(==)(s1::State, s2::State) = (s1.t == s2.t) && (s1.c == s2.c)\n",
    "termination(s::State)= s == params.null_state # change to 1 or the other "
   ]
  },
  {
   "cell_type": "markdown",
   "metadata": {},
   "source": [
    "**MDP Formulation**"
   ]
  },
  {
   "cell_type": "code",
   "execution_count": 16,
   "metadata": {},
   "outputs": [],
   "source": [
    "# We define the Airport abstract MDP type so we can reference it in other methods.\n",
    "abstract type Evacuation <: MDP{State, Action} end"
   ]
  },
  {
   "cell_type": "code",
   "execution_count": 17,
   "metadata": {},
   "outputs": [
    {
     "data": {
      "text/plain": [
       "State(70, 60, 9, 1)"
      ]
     },
     "execution_count": 17,
     "metadata": {},
     "output_type": "execute_result"
    }
   ],
   "source": [
    "c_initial = params.capacity\n",
    "t_initial = params.time\n",
    "f_initial = rand(params.family_sizes, 1)[1]\n",
    "v_initial = rand(params.visa_status, 1)[1]\n",
    "\n",
    "initial_state = State(c_initial, t_initial, f_initial, v_initial)"
   ]
  },
  {
   "cell_type": "code",
   "execution_count": 18,
   "metadata": {},
   "outputs": [
    {
     "data": {
      "text/plain": [
       "1-element Vector{State}:\n",
       " State(70, 60, 9, 1)"
      ]
     },
     "execution_count": 18,
     "metadata": {},
     "output_type": "execute_result"
    }
   ],
   "source": [
    "statetype = typeof(initial_state)\n",
    "initialstate_array = [initial_state]"
   ]
  },
  {
   "cell_type": "code",
   "execution_count": 19,
   "metadata": {},
   "outputs": [],
   "source": [
    "#render = plot_evac"
   ]
  },
  {
   "cell_type": "code",
   "execution_count": 20,
   "metadata": {},
   "outputs": [],
   "source": [
    "mdp = QuickMDP(Evacuation,\n",
    "    states       = 𝒮,\n",
    "    actions      = 𝒜,\n",
    "    transition   = T,\n",
    "    reward       = R,\n",
    "    discount     = γ,\n",
    "    initialstate = initialstate_array, \n",
    "    isterminal   = termination,\n",
    "    render       = render,\n",
    "    statetype    = statetype \n",
    "    );"
   ]
  },
  {
   "cell_type": "code",
   "execution_count": 21,
   "metadata": {},
   "outputs": [],
   "source": [
    "#render(mdp)"
   ]
  },
  {
   "cell_type": "code",
   "execution_count": 22,
   "metadata": {},
   "outputs": [],
   "source": [
    "solver = ValueIterationSolver(max_iterations=30, belres=1e-6, verbose=true);"
   ]
  },
  {
   "cell_type": "markdown",
   "metadata": {},
   "source": [
    "**Policy**"
   ]
  },
  {
   "cell_type": "code",
   "execution_count": 23,
   "metadata": {},
   "outputs": [
    {
     "name": "stdout",
     "output_type": "stream",
     "text": [
      "[Iteration 1   ] residual:        697 | iteration runtime:   1625.510 ms, (      1.63 s total)\n",
      "[Iteration 2   ] residual:        258 | iteration runtime:   1520.866 ms, (      3.15 s total)\n",
      "[Iteration 3   ] residual:        272 | iteration runtime:   1695.311 ms, (      4.84 s total)\n",
      "[Iteration 4   ] residual:        236 | iteration runtime:   1541.079 ms, (      6.38 s total)\n",
      "[Iteration 5   ] residual:        268 | iteration runtime:   1539.464 ms, (      7.92 s total)\n",
      "[Iteration 6   ] residual:        295 | iteration runtime:   1523.984 ms, (      9.45 s total)\n",
      "[Iteration 7   ] residual:        245 | iteration runtime:   1528.602 ms, (        11 s total)\n",
      "[Iteration 8   ] residual:        259 | iteration runtime:   1542.742 ms, (      12.5 s total)\n",
      "[Iteration 9   ] residual:        254 | iteration runtime:   1979.235 ms, (      14.5 s total)\n",
      "[Iteration 10  ] residual:        298 | iteration runtime:   1660.517 ms, (      16.2 s total)\n",
      "[Iteration 11  ] residual:        275 | iteration runtime:   1526.992 ms, (      17.7 s total)\n",
      "[Iteration 12  ] residual:        271 | iteration runtime:   1675.871 ms, (      19.4 s total)\n",
      "[Iteration 13  ] residual:        263 | iteration runtime:   1630.401 ms, (        21 s total)\n",
      "[Iteration 14  ] residual:        266 | iteration runtime:   1562.721 ms, (      22.6 s total)\n",
      "[Iteration 15  ] residual:        274 | iteration runtime:   1532.532 ms, (      24.1 s total)\n",
      "[Iteration 16  ] residual:        259 | iteration runtime:   1490.115 ms, (      25.6 s total)\n",
      "[Iteration 17  ] residual:        272 | iteration runtime:   1513.830 ms, (      27.1 s total)\n",
      "[Iteration 18  ] residual:        253 | iteration runtime:   1566.090 ms, (      28.7 s total)\n",
      "[Iteration 19  ] residual:        264 | iteration runtime:   1521.186 ms, (      30.2 s total)\n",
      "[Iteration 20  ] residual:        259 | iteration runtime:   1672.460 ms, (      31.8 s total)\n",
      "[Iteration 21  ] residual:        284 | iteration runtime:   1667.020 ms, (      33.5 s total)\n",
      "[Iteration 22  ] residual:        337 | iteration runtime:   1728.648 ms, (      35.2 s total)\n",
      "[Iteration 23  ] residual:        346 | iteration runtime:   1685.009 ms, (      36.9 s total)\n",
      "[Iteration 24  ] residual:        282 | iteration runtime:   1522.131 ms, (      38.5 s total)\n",
      "[Iteration 25  ] residual:        275 | iteration runtime:   1527.211 ms, (        40 s total)\n",
      "[Iteration 26  ] residual:        258 | iteration runtime:   1495.844 ms, (      41.5 s total)\n",
      "[Iteration 27  ] residual:        254 | iteration runtime:   1517.060 ms, (        43 s total)\n",
      "[Iteration 28  ] residual:        239 | iteration runtime:   1580.389 ms, (      44.6 s total)\n",
      "[Iteration 29  ] residual:        289 | iteration runtime:   1545.041 ms, (      46.1 s total)\n",
      "[Iteration 30  ] residual:        235 | iteration runtime:   1640.241 ms, (      47.8 s total)\n"
     ]
    },
    {
     "data": {
      "text/plain": [
       "ValueIterationPolicy:\n",
       " State(0, 0, 1, -20) -> REJECT\n",
       " State(0, 0, 1, -4) -> REJECT\n",
       " State(0, 0, 1, 0) -> REJECT\n",
       " State(0, 0, 1, 1) -> ACCEPT\n",
       " State(0, 0, 1, 2) -> ACCEPT\n",
       " State(0, 0, 1, 3) -> ACCEPT\n",
       " State(0, 0, 1, 4) -> ACCEPT\n",
       " State(0, 0, 1, 10) -> ACCEPT\n",
       " State(0, 0, 2, -20) -> REJECT\n",
       " State(0, 0, 2, -4) -> REJECT\n",
       " State(0, 0, 2, 0) -> REJECT\n",
       " State(0, 0, 2, 1) -> ACCEPT\n",
       " State(0, 0, 2, 2) -> ACCEPT\n",
       " State(0, 0, 2, 3) -> ACCEPT\n",
       " State(0, 0, 2, 4) -> ACCEPT\n",
       " State(0, 0, 2, 10) -> ACCEPT\n",
       " State(0, 0, 3, -20) -> REJECT\n",
       " State(0, 0, 3, -4) -> REJECT\n",
       " State(0, 0, 3, 0) -> REJECT\n",
       " State(0, 0, 3, 1) -> ACCEPT\n",
       " State(0, 0, 3, 2) -> ACCEPT\n",
       " State(0, 0, 3, 3) -> ACCEPT\n",
       " State(0, 0, 3, 4) -> ACCEPT\n",
       " State(0, 0, 3, 10) -> ACCEPT\n",
       " State(0, 0, 4, -20) -> REJECT\n",
       " …"
      ]
     },
     "execution_count": 23,
     "metadata": {},
     "output_type": "execute_result"
    }
   ],
   "source": [
    "policy = solve(solver, mdp) "
   ]
  },
  {
   "cell_type": "markdown",
   "metadata": {},
   "source": [
    "**Additional possible needs- use for baseline policies?**"
   ]
  },
  {
   "cell_type": "code",
   "execution_count": 24,
   "metadata": {},
   "outputs": [],
   "source": [
    "# helper functions to:\n",
    "# # 1. get all the values from a policy\n",
    "\n",
    "\n",
    "# begin\n",
    "#     function one_based_policy!(policy)\n",
    "#         # change the default action in the policy (all zeros) to all ones (if needed) e.g. just accept everyone\n",
    "#         if all(iszero, policy.policy)\n",
    "#             policy.policy[:] = ones(eltype(policy.policy), length(policy.policy))\n",
    "#         end\n",
    "#     end\n",
    "    \n",
    "#     # no idea if this is right \n",
    "#     function get_rewards(mdp::QuickMDP{Evacuation}, policy::Policy)\n",
    "#         null_state = params.null_state\n",
    "#         valid_states = setdiff(states(mdp), [null_state])\n",
    "#         valid_actions = [action(policy, valid_state) for valid_state in valid_states]\n",
    "#         # can I map a state and action to reward? \n",
    "#         state_actions = zip(valid_states, valid_actions) \n",
    "#         U = map(state_action->reward(mdp, state_action), state_actions)\n",
    "#     end\n",
    "    \n",
    "#     function values(mdp::QuickMDP{Evacuation}, policy::Policy)\n",
    "#         null_state = params.null_state\n",
    "#         valid_states = setdiff(states(mdp), [null_state])\n",
    "#         U = map(s->value(policy, s), valid_states)\n",
    "#     end\n",
    "    \n",
    "# #     # WHAT DOES THIS ONE DO? Monte carlo tree search... don't need \n",
    "# #     function values(mdp::QuickMDP{Evacuation}, planner::MCTSPlanner)\n",
    "# #         null_state = params.null_state\n",
    "# #         valid_states = setdiff(states(mdp), [null_state])\n",
    "# #         U = []\n",
    "# #         for s in valid_states\n",
    "# #             u = 0\n",
    "# #             try\n",
    "# #                 u = value(planner, s)\n",
    "# #             catch\n",
    "# #                 # state not in tree\n",
    "# #             end\n",
    "# #             push!(U, u)\n",
    "# #         end\n",
    "# #         return U\n",
    "# #     end\n",
    "    \n",
    "#     function values(mdp::QuickMDP{Evacuation}, policy::ValuePolicy)\n",
    "#         maxU = mapslices(maximum, policy.value_table, dims=2)\n",
    "#         return maxU[1:end-1] # remove null_state\n",
    "#     end\n",
    "    \n",
    "#     struct NothingPolicy <: Policy end\n",
    "    \n",
    "#     # Use this to get a stationary grid of rewards\n",
    "#     function values(mdp::QuickMDP{Evacuation}, policy::Union{NothingPolicy, FunctionPolicy})\n",
    "#         null_state = params.null_state\n",
    "#         valid_states = setdiff(states(mdp), [null_state])\n",
    "#         rewards = map(s->reward(mdp, s), valid_states)\n",
    "#     end\n",
    "# end"
   ]
  },
  {
   "cell_type": "code",
   "execution_count": 25,
   "metadata": {},
   "outputs": [],
   "source": [
    "# policy.policy # what is this? "
   ]
  },
  {
   "cell_type": "code",
   "execution_count": 26,
   "metadata": {},
   "outputs": [],
   "source": [
    "#https://github.com/JuliaPOMDP/DiscreteValueIteration.jl/blob/master/src/common.jl\n",
    "# # Fields \n",
    "# - `qmat`  Q matrix storing Q(s,a) values\n",
    "# - `util` The value function V(s)\n",
    "# - `policy` Policy array, maps state index to action index\n",
    "# - `action_map` Maps the action index to the concrete action type\n",
    "# - `include_Q` Flag for including the Q-matrix\n",
    "# - `mdp`  uses the model for indexing in the action function\n",
    "# \"\"\"\n",
    "# struct ValueIterationPolicy{Q<:AbstractMatrix, U<:AbstractVector, P<:AbstractVector, A, M<:MDP} <: Policy\n",
    "#     qmat::Q\n",
    "#     util::U \n",
    "#     policy::P \n",
    "#     action_map::Vector{A}\n",
    "#     include_Q::Bool \n",
    "#     mdp::M\n",
    "# end"
   ]
  },
  {
   "cell_type": "markdown",
   "metadata": {},
   "source": [
    "**Basesline Policies**"
   ]
  },
  {
   "cell_type": "code",
   "execution_count": 27,
   "metadata": {},
   "outputs": [
    {
     "data": {
      "text/plain": [
       "only_AMCITS_before_threshold (generic function with 1 method)"
      ]
     },
     "execution_count": 27,
     "metadata": {},
     "output_type": "execute_result"
    }
   ],
   "source": [
    "#Looking at this and confused. Also-do we need to use all the states we have from our \n",
    "#https://github.com/JuliaPOMDP/DiscreteValueIteration.jl/blob/master/src/common.jl\n",
    "#just accept anyone with a positive status \n",
    "#accept Anyone with a high status and low family size \n",
    "#accept everyone who is status 5 until 50 seats remaining and then anything goes \n",
    "#policy::Policy\n",
    "# function baseline_policies(policy::Policy, )\n",
    "        # accept all until capacity would be 0 \n",
    "        # actually I think you just accept all families and then the simulator stops at the terminal state\n",
    "    # anyone up to capacity\n",
    "\n",
    "# visa_status::Vector{Int} = [-20, -4, 0, 1, 2, 3, 4, 10] #TODO: map to various status \n",
    "function accept_all(policy::Policy)\n",
    "    all_policy = deepcopy(policy) \n",
    "    all_policy.policy[:] = 2*ones(eltype(all_policy.policy), length(all_policy.policy)) # better way? 2 is accept \n",
    "    return all_policy\n",
    "end\n",
    "\n",
    "# Only AMCITS and SIVs \n",
    "\n",
    "# WHAT'S WRONG??? IS THIS ONLY DOING POSITIVE NUMBERS ? \n",
    "function accept_AMCITS(policy::Policy)\n",
    "    AMCIT_policy = deepcopy(policy)\n",
    "    for state in states(AMCIT_policy.mdp) # can call on mdp here,right? \n",
    "        if state.v == 10 # if its amcits \n",
    "            print(\"TRUE $state\")\n",
    "            sidx = stateindex(AMCIT_policy.mdp, state)\n",
    "            AMCIT_policy.policy[sidx] = 2\n",
    "        else\n",
    "            sidx = stateindex(AMCIT_policy.mdp, state)\n",
    "            AMCIT_policy.policy[sidx] = 1\n",
    "        end\n",
    "    return AMCIT_policy\n",
    "    end\n",
    "end\n",
    "\n",
    "\n",
    "function accept_SIVS_AMCITS(policy::Policy)\n",
    "    return policy\n",
    "end\n",
    "\n",
    "# Threshold: only AMCITS up to a certain time \n",
    "function only_AMCITS_after_threshold(policy::Policy, threshold_time::Int)\n",
    "    return policy\n",
    "end\n",
    "# Threshold: only AMCITS after a certain time \n",
    "function only_AMCITS_before_threshold(policy::Policy, threshold_time::Int)\n",
    "    return policy\n",
    "end    \n"
   ]
  },
  {
   "cell_type": "code",
   "execution_count": 28,
   "metadata": {},
   "outputs": [
    {
     "data": {
      "text/plain": [
       "ValueIterationPolicy:\n",
       " State(0, 0, 1, -20) -> REJECT\n",
       " State(0, 0, 1, -4) -> REJECT\n",
       " State(0, 0, 1, 0) -> REJECT\n",
       " State(0, 0, 1, 1) -> ACCEPT\n",
       " State(0, 0, 1, 2) -> ACCEPT\n",
       " State(0, 0, 1, 3) -> ACCEPT\n",
       " State(0, 0, 1, 4) -> ACCEPT\n",
       " State(0, 0, 1, 10) -> ACCEPT\n",
       " State(0, 0, 2, -20) -> REJECT\n",
       " State(0, 0, 2, -4) -> REJECT\n",
       " State(0, 0, 2, 0) -> REJECT\n",
       " State(0, 0, 2, 1) -> ACCEPT\n",
       " State(0, 0, 2, 2) -> ACCEPT\n",
       " State(0, 0, 2, 3) -> ACCEPT\n",
       " State(0, 0, 2, 4) -> ACCEPT\n",
       " State(0, 0, 2, 10) -> ACCEPT\n",
       " State(0, 0, 3, -20) -> REJECT\n",
       " State(0, 0, 3, -4) -> REJECT\n",
       " State(0, 0, 3, 0) -> REJECT\n",
       " State(0, 0, 3, 1) -> ACCEPT\n",
       " State(0, 0, 3, 2) -> ACCEPT\n",
       " State(0, 0, 3, 3) -> ACCEPT\n",
       " State(0, 0, 3, 4) -> ACCEPT\n",
       " State(0, 0, 3, 10) -> ACCEPT\n",
       " State(0, 0, 4, -20) -> REJECT\n",
       " …"
      ]
     },
     "execution_count": 28,
     "metadata": {},
     "output_type": "execute_result"
    }
   ],
   "source": [
    "policy"
   ]
  },
  {
   "cell_type": "code",
   "execution_count": 29,
   "metadata": {},
   "outputs": [
    {
     "data": {
      "text/plain": [
       "ValueIterationPolicy:\n",
       " State(0, 0, 1, -20) -> ACCEPT\n",
       " State(0, 0, 1, -4) -> ACCEPT\n",
       " State(0, 0, 1, 0) -> ACCEPT\n",
       " State(0, 0, 1, 1) -> ACCEPT\n",
       " State(0, 0, 1, 2) -> ACCEPT\n",
       " State(0, 0, 1, 3) -> ACCEPT\n",
       " State(0, 0, 1, 4) -> ACCEPT\n",
       " State(0, 0, 1, 10) -> ACCEPT\n",
       " State(0, 0, 2, -20) -> ACCEPT\n",
       " State(0, 0, 2, -4) -> ACCEPT\n",
       " State(0, 0, 2, 0) -> ACCEPT\n",
       " State(0, 0, 2, 1) -> ACCEPT\n",
       " State(0, 0, 2, 2) -> ACCEPT\n",
       " State(0, 0, 2, 3) -> ACCEPT\n",
       " State(0, 0, 2, 4) -> ACCEPT\n",
       " State(0, 0, 2, 10) -> ACCEPT\n",
       " State(0, 0, 3, -20) -> ACCEPT\n",
       " State(0, 0, 3, -4) -> ACCEPT\n",
       " State(0, 0, 3, 0) -> ACCEPT\n",
       " State(0, 0, 3, 1) -> ACCEPT\n",
       " State(0, 0, 3, 2) -> ACCEPT\n",
       " State(0, 0, 3, 3) -> ACCEPT\n",
       " State(0, 0, 3, 4) -> ACCEPT\n",
       " State(0, 0, 3, 10) -> ACCEPT\n",
       " State(0, 0, 4, -20) -> ACCEPT\n",
       " …"
      ]
     },
     "execution_count": 29,
     "metadata": {},
     "output_type": "execute_result"
    }
   ],
   "source": [
    "accept_all_policy = accept_all(policy)"
   ]
  },
  {
   "cell_type": "code",
   "execution_count": 30,
   "metadata": {},
   "outputs": [
    {
     "data": {
      "text/plain": [
       "ValueIterationPolicy:\n",
       " State(0, 0, 1, -20) -> REJECT\n",
       " State(0, 0, 1, -4) -> REJECT\n",
       " State(0, 0, 1, 0) -> REJECT\n",
       " State(0, 0, 1, 1) -> ACCEPT\n",
       " State(0, 0, 1, 2) -> ACCEPT\n",
       " State(0, 0, 1, 3) -> ACCEPT\n",
       " State(0, 0, 1, 4) -> ACCEPT\n",
       " State(0, 0, 1, 10) -> ACCEPT\n",
       " State(0, 0, 2, -20) -> REJECT\n",
       " State(0, 0, 2, -4) -> REJECT\n",
       " State(0, 0, 2, 0) -> REJECT\n",
       " State(0, 0, 2, 1) -> ACCEPT\n",
       " State(0, 0, 2, 2) -> ACCEPT\n",
       " State(0, 0, 2, 3) -> ACCEPT\n",
       " State(0, 0, 2, 4) -> ACCEPT\n",
       " State(0, 0, 2, 10) -> ACCEPT\n",
       " State(0, 0, 3, -20) -> REJECT\n",
       " State(0, 0, 3, -4) -> REJECT\n",
       " State(0, 0, 3, 0) -> REJECT\n",
       " State(0, 0, 3, 1) -> ACCEPT\n",
       " State(0, 0, 3, 2) -> ACCEPT\n",
       " State(0, 0, 3, 3) -> ACCEPT\n",
       " State(0, 0, 3, 4) -> ACCEPT\n",
       " State(0, 0, 3, 10) -> ACCEPT\n",
       " State(0, 0, 4, -20) -> REJECT\n",
       " …"
      ]
     },
     "execution_count": 30,
     "metadata": {},
     "output_type": "execute_result"
    }
   ],
   "source": [
    "accept_AMCITS(policy::Policy)"
   ]
  },
  {
   "cell_type": "code",
   "execution_count": 31,
   "metadata": {},
   "outputs": [
    {
     "data": {
      "text/plain": [
       "ValueIterationPolicy:\n",
       " State(0, 0, 1, -20) -> REJECT\n",
       " State(0, 0, 1, -4) -> REJECT\n",
       " State(0, 0, 1, 0) -> REJECT\n",
       " State(0, 0, 1, 1) -> ACCEPT\n",
       " State(0, 0, 1, 2) -> ACCEPT\n",
       " State(0, 0, 1, 3) -> ACCEPT\n",
       " State(0, 0, 1, 4) -> ACCEPT\n",
       " State(0, 0, 1, 10) -> ACCEPT\n",
       " State(0, 0, 2, -20) -> REJECT\n",
       " State(0, 0, 2, -4) -> REJECT\n",
       " State(0, 0, 2, 0) -> REJECT\n",
       " State(0, 0, 2, 1) -> ACCEPT\n",
       " State(0, 0, 2, 2) -> ACCEPT\n",
       " State(0, 0, 2, 3) -> ACCEPT\n",
       " State(0, 0, 2, 4) -> ACCEPT\n",
       " State(0, 0, 2, 10) -> ACCEPT\n",
       " State(0, 0, 3, -20) -> REJECT\n",
       " State(0, 0, 3, -4) -> REJECT\n",
       " State(0, 0, 3, 0) -> REJECT\n",
       " State(0, 0, 3, 1) -> ACCEPT\n",
       " State(0, 0, 3, 2) -> ACCEPT\n",
       " State(0, 0, 3, 3) -> ACCEPT\n",
       " State(0, 0, 3, 4) -> ACCEPT\n",
       " State(0, 0, 3, 10) -> ACCEPT\n",
       " State(0, 0, 4, -20) -> REJECT\n",
       " …"
      ]
     },
     "execution_count": 31,
     "metadata": {},
     "output_type": "execute_result"
    }
   ],
   "source": [
    "AMCIT_policy = deepcopy(policy)\n",
    "for state in states(AMCIT_policy.mdp) # can call on mdp here,right? \n",
    "    if state.v == 10 # if its amcits \n",
    "        print(\"TRUE $state\")\n",
    "    end\n",
    "return AMCIT_policy\n",
    "end\n",
    "\n"
   ]
  },
  {
   "cell_type": "markdown",
   "metadata": {},
   "source": [
    "**Simulation**"
   ]
  },
  {
   "cell_type": "code",
   "execution_count": 32,
   "metadata": {},
   "outputs": [
    {
     "data": {
      "text/plain": [
       "simulation (generic function with 1 method)"
      ]
     },
     "execution_count": 32,
     "metadata": {},
     "output_type": "execute_result"
    }
   ],
   "source": [
    "# one can use the Rollout Simulator \n",
    "# from the POMDPSimulators package to find the accumulated discounted reward from a single simulated trajectory as follows:\n",
    "function simulation(policy, mdp)\n",
    "    sim = RolloutSimulator()\n",
    "    r = simulate(sim, mdp, policy) #accumulated discounted reward \n",
    "    return r\n",
    "end\n",
    "\n"
   ]
  },
  {
   "cell_type": "code",
   "execution_count": 33,
   "metadata": {},
   "outputs": [
    {
     "ename": "LoadError",
     "evalue": "UndefVarError: RolloutSimulator not defined",
     "output_type": "error",
     "traceback": [
      "UndefVarError: RolloutSimulator not defined",
      "",
      "Stacktrace:",
      " [1] simulation(policy::ValueIterationPolicy{Matrix{Float64}, Vector{Float64}, Vector{Int64}, Action, QuickMDP{Evacuation, State, Action, NamedTuple{(:stateindex, :isterminal, :states, :statetype, :discount, :render, :actions, :actionindex, :transition, :reward, :initialstate), Tuple{Dict{State, Int64}, typeof(termination), Vector{Any}, DataType, Float64, typeof(render), Vector{Action}, Dict{Action, Int64}, typeof(T), typeof(R), Vector{State}}}}}, mdp::QuickMDP{Evacuation, State, Action, NamedTuple{(:stateindex, :isterminal, :states, :statetype, :discount, :render, :actions, :actionindex, :transition, :reward, :initialstate), Tuple{Dict{State, Int64}, typeof(termination), Vector{Any}, DataType, Float64, typeof(render), Vector{Action}, Dict{Action, Int64}, typeof(T), typeof(R), Vector{State}}}})",
      "   @ Main ./In[32]:4",
      " [2] top-level scope",
      "   @ In[33]:1",
      " [3] eval",
      "   @ ./boot.jl:360 [inlined]",
      " [4] include_string(mapexpr::typeof(REPL.softscope), mod::Module, code::String, filename::String)",
      "   @ Base ./loading.jl:1116"
     ]
    }
   ],
   "source": [
    "simulation(policy, mdp) # this should be changing becuase our MDP has uncertainty??"
   ]
  },
  {
   "cell_type": "code",
   "execution_count": 34,
   "metadata": {},
   "outputs": [
    {
     "ename": "LoadError",
     "evalue": "UndefVarError: RolloutSimulator not defined",
     "output_type": "error",
     "traceback": [
      "UndefVarError: RolloutSimulator not defined",
      "",
      "Stacktrace:",
      " [1] simulation(policy::ValueIterationPolicy{Matrix{Float64}, Vector{Float64}, Vector{Int64}, Action, QuickMDP{Evacuation, State, Action, NamedTuple{(:stateindex, :isterminal, :states, :statetype, :discount, :render, :actions, :actionindex, :transition, :reward, :initialstate), Tuple{Dict{State, Int64}, typeof(termination), Vector{Any}, DataType, Float64, typeof(render), Vector{Action}, Dict{Action, Int64}, typeof(T), typeof(R), Vector{State}}}}}, mdp::QuickMDP{Evacuation, State, Action, NamedTuple{(:stateindex, :isterminal, :states, :statetype, :discount, :render, :actions, :actionindex, :transition, :reward, :initialstate), Tuple{Dict{State, Int64}, typeof(termination), Vector{Any}, DataType, Float64, typeof(render), Vector{Action}, Dict{Action, Int64}, typeof(T), typeof(R), Vector{State}}}})",
      "   @ Main ./In[32]:4",
      " [2] top-level scope",
      "   @ In[34]:1",
      " [3] eval",
      "   @ ./boot.jl:360 [inlined]",
      " [4] include_string(mapexpr::typeof(REPL.softscope), mod::Module, code::String, filename::String)",
      "   @ Base ./loading.jl:1116"
     ]
    }
   ],
   "source": [
    "simulation(accept_all_policy, mdp) # this should be changing becuase our MDP has uncertainty??\n",
    "# might be editing in place somehow? "
   ]
  },
  {
   "cell_type": "code",
   "execution_count": 35,
   "metadata": {},
   "outputs": [
    {
     "data": {
      "text/plain": [
       "simulations (generic function with 1 method)"
      ]
     },
     "execution_count": 35,
     "metadata": {},
     "output_type": "execute_result"
    }
   ],
   "source": [
    "function simulations(policy, mdp, n) # n is number of times to run \n",
    "    rewards = []\n",
    "    for i in 1:n\n",
    "        push!(rewards, simulation(policy, mdp))\n",
    "    end\n",
    "    std_rewards = std(rewards)\n",
    "    mean_rewards = mean(rewards)\n",
    "    return mean_rewards, std_rewards, rewards\n",
    "end"
   ]
  },
  {
   "cell_type": "code",
   "execution_count": 36,
   "metadata": {},
   "outputs": [
    {
     "ename": "LoadError",
     "evalue": "UndefVarError: RolloutSimulator not defined",
     "output_type": "error",
     "traceback": [
      "UndefVarError: RolloutSimulator not defined",
      "",
      "Stacktrace:",
      " [1] simulation(policy::ValueIterationPolicy{Matrix{Float64}, Vector{Float64}, Vector{Int64}, Action, QuickMDP{Evacuation, State, Action, NamedTuple{(:stateindex, :isterminal, :states, :statetype, :discount, :render, :actions, :actionindex, :transition, :reward, :initialstate), Tuple{Dict{State, Int64}, typeof(termination), Vector{Any}, DataType, Float64, typeof(render), Vector{Action}, Dict{Action, Int64}, typeof(T), typeof(R), Vector{State}}}}}, mdp::QuickMDP{Evacuation, State, Action, NamedTuple{(:stateindex, :isterminal, :states, :statetype, :discount, :render, :actions, :actionindex, :transition, :reward, :initialstate), Tuple{Dict{State, Int64}, typeof(termination), Vector{Any}, DataType, Float64, typeof(render), Vector{Action}, Dict{Action, Int64}, typeof(T), typeof(R), Vector{State}}}})",
      "   @ Main ./In[32]:4",
      " [2] simulations(policy::ValueIterationPolicy{Matrix{Float64}, Vector{Float64}, Vector{Int64}, Action, QuickMDP{Evacuation, State, Action, NamedTuple{(:stateindex, :isterminal, :states, :statetype, :discount, :render, :actions, :actionindex, :transition, :reward, :initialstate), Tuple{Dict{State, Int64}, typeof(termination), Vector{Any}, DataType, Float64, typeof(render), Vector{Action}, Dict{Action, Int64}, typeof(T), typeof(R), Vector{State}}}}}, mdp::QuickMDP{Evacuation, State, Action, NamedTuple{(:stateindex, :isterminal, :states, :statetype, :discount, :render, :actions, :actionindex, :transition, :reward, :initialstate), Tuple{Dict{State, Int64}, typeof(termination), Vector{Any}, DataType, Float64, typeof(render), Vector{Action}, Dict{Action, Int64}, typeof(T), typeof(R), Vector{State}}}}, n::Int64)",
      "   @ Main ./In[35]:4",
      " [3] top-level scope",
      "   @ In[36]:1",
      " [4] eval",
      "   @ ./boot.jl:360 [inlined]",
      " [5] include_string(mapexpr::typeof(REPL.softscope), mod::Module, code::String, filename::String)",
      "   @ Base ./loading.jl:1116"
     ]
    }
   ],
   "source": [
    "simulations(policy, mdp, 1000)"
   ]
  },
  {
   "cell_type": "code",
   "execution_count": 37,
   "metadata": {},
   "outputs": [
    {
     "ename": "LoadError",
     "evalue": "UndefVarError: RolloutSimulator not defined",
     "output_type": "error",
     "traceback": [
      "UndefVarError: RolloutSimulator not defined",
      "",
      "Stacktrace:",
      " [1] simulation(policy::ValueIterationPolicy{Matrix{Float64}, Vector{Float64}, Vector{Int64}, Action, QuickMDP{Evacuation, State, Action, NamedTuple{(:stateindex, :isterminal, :states, :statetype, :discount, :render, :actions, :actionindex, :transition, :reward, :initialstate), Tuple{Dict{State, Int64}, typeof(termination), Vector{Any}, DataType, Float64, typeof(render), Vector{Action}, Dict{Action, Int64}, typeof(T), typeof(R), Vector{State}}}}}, mdp::QuickMDP{Evacuation, State, Action, NamedTuple{(:stateindex, :isterminal, :states, :statetype, :discount, :render, :actions, :actionindex, :transition, :reward, :initialstate), Tuple{Dict{State, Int64}, typeof(termination), Vector{Any}, DataType, Float64, typeof(render), Vector{Action}, Dict{Action, Int64}, typeof(T), typeof(R), Vector{State}}}})",
      "   @ Main ./In[32]:4",
      " [2] simulations(policy::ValueIterationPolicy{Matrix{Float64}, Vector{Float64}, Vector{Int64}, Action, QuickMDP{Evacuation, State, Action, NamedTuple{(:stateindex, :isterminal, :states, :statetype, :discount, :render, :actions, :actionindex, :transition, :reward, :initialstate), Tuple{Dict{State, Int64}, typeof(termination), Vector{Any}, DataType, Float64, typeof(render), Vector{Action}, Dict{Action, Int64}, typeof(T), typeof(R), Vector{State}}}}}, mdp::QuickMDP{Evacuation, State, Action, NamedTuple{(:stateindex, :isterminal, :states, :statetype, :discount, :render, :actions, :actionindex, :transition, :reward, :initialstate), Tuple{Dict{State, Int64}, typeof(termination), Vector{Any}, DataType, Float64, typeof(render), Vector{Action}, Dict{Action, Int64}, typeof(T), typeof(R), Vector{State}}}}, n::Int64)",
      "   @ Main ./In[35]:4",
      " [3] top-level scope",
      "   @ In[37]:1",
      " [4] eval",
      "   @ ./boot.jl:360 [inlined]",
      " [5] include_string(mapexpr::typeof(REPL.softscope), mod::Module, code::String, filename::String)",
      "   @ Base ./loading.jl:1116"
     ]
    }
   ],
   "source": [
    "simulations(accept_all_policy, mdp, 1000)"
   ]
  },
  {
   "cell_type": "markdown",
   "metadata": {},
   "source": [
    "**Aggregate Metrics**"
   ]
  },
  {
   "cell_type": "code",
   "execution_count": 38,
   "metadata": {},
   "outputs": [],
   "source": [
    "total_states = size(𝒮)[1]\n",
    "\n",
    "total_accept = 0\n",
    "total_reject = 0\n",
    "\n",
    "\n",
    "# this is a dictionary mapping a visa staus to \n",
    "# can make it into variables so if we change it...\n",
    "# also possibly make it a counter \n",
    "#visa_statuses = params.visa_status\n",
    "\n",
    "visa_counts = Dict(-5=>0, -4=>0, -3=>0, -2=>0, -1=>0, 0=>0, 1=>0, 2=>0, 3=>0, 4=>0, 5=>0)\n",
    "\n",
    "for c in 0:params.capacity # capacity ends at 0 \n",
    "    for t in 0:params.time # time ends at 0 \n",
    "        for f in params.family_sizes # family size here we should have the ACTUAL family sizes \n",
    "            for v in params.visa_status # actual visa statuses  \n",
    "                state = State(c, t, f, v)\n",
    "                if action(policy, state) == ACCEPT\n",
    "                    total_accept += 1\n",
    "                    visa_counts[v] += 1\n",
    "                else \n",
    "                    total_reject += 1\n",
    "                end\n",
    "            end        \n",
    "        end\n",
    "    end\n",
    "end\n",
    "    \n",
    "percent_accept = total_accept / total_states \n",
    "percent_reject = total_reject / total_states \n",
    "\n",
    "visa_counts\n",
    "    \n",
    "    \n",
    "\n"
   ]
  },
  {
   "cell_type": "code",
   "execution_count": 79,
   "metadata": {},
   "outputs": [
    {
     "data": {
      "text/plain": [
       "getmetrics (generic function with 1 method)"
      ]
     },
     "execution_count": 79,
     "metadata": {},
     "output_type": "execute_result"
    }
   ],
   "source": [
    "function getmetrics(policy, mdp)\n",
    "    \n",
    "    total_people = 0\n",
    "    total_accept = 0\n",
    "    total_reject = 0\n",
    "    \n",
    "    # Initialize visa_statuses dictionary\n",
    "    visa_statuses = params.visa_status\n",
    "    visa_dict = Dict()\n",
    "    for v in visa_statuses\n",
    "        visa_dict[v] = 0\n",
    "    end\n",
    "    \n",
    "    for c in 0:params.capacity # capacity ends at 0 \n",
    "        for t in 0:params.time # time ends at 0 \n",
    "            for f in params.family_sizes # family size here we should have the ACTUAL family sizes \n",
    "                for v in params.visa_status # actual visa statuses  \n",
    "                    state = State(c, t, f, v)\n",
    "                    total_people += 1\n",
    "                    if action(policy, state) == ACCEPT\n",
    "                        total_accept += 1\n",
    "                        visa_dict[v] += 1\n",
    "                    else \n",
    "                        total_reject += 1\n",
    "                    end\n",
    "                end        \n",
    "            end\n",
    "        end\n",
    "    end\n",
    "    \n",
    "    print(\"Total people: \", total_people, )\n",
    "    print(\"Total accept: \", total_accept)\n",
    "    print(\"Total reject: \", total_reject)\n",
    "    visa_dict \n",
    "       \n",
    "end "
   ]
  },
  {
   "cell_type": "code",
   "execution_count": 80,
   "metadata": {},
   "outputs": [
    {
     "name": "stdout",
     "output_type": "stream",
     "text": [
      "Total people: 346480Total accept: 186352Total reject: 160128"
     ]
    },
    {
     "data": {
      "text/plain": [
       "Dict{Any, Any} with 8 entries:\n",
       "  0   => 21882\n",
       "  4   => 30417\n",
       "  -20 => 2807\n",
       "  2   => 26908\n",
       "  10  => 36962\n",
       "  -4  => 13609\n",
       "  3   => 28730\n",
       "  1   => 25037"
      ]
     },
     "execution_count": 80,
     "metadata": {},
     "output_type": "execute_result"
    }
   ],
   "source": [
    "getmetrics(policy, mdp)"
   ]
  },
  {
   "cell_type": "code",
   "execution_count": 40,
   "metadata": {},
   "outputs": [],
   "source": [
    "#print(${policy} & {percent_accept:.2f}$\\pm${percent_reject:.2f} & {mean_correlation:.2f}$\\pm${std_correlation:.2f} & {mean_mutual_info_regression:.2f}$\\pm${std_mutual_info_regression:.2f}\\\\\\\\\")"
   ]
  },
  {
   "cell_type": "markdown",
   "metadata": {},
   "source": [
    "**Visualizations Trial 2**"
   ]
  },
  {
   "cell_type": "code",
   "execution_count": 41,
   "metadata": {},
   "outputs": [
    {
     "data": {
      "text/plain": [
       "vis_time_step (generic function with 1 method)"
      ]
     },
     "execution_count": 41,
     "metadata": {},
     "output_type": "execute_result"
    }
   ],
   "source": [
    "\n",
    "function vis_time_step(policy, c, t) # pass in policy and chairs and time remaing. Spit out graph of family size versus visa status.\n",
    "    (vi, fa) = params.size  #visa, family 8, 15\n",
    "    policyGraph = zeros(vi, fa) #8 by 15 matrix of zeroes\n",
    "    \n",
    "    for f in 1:fa\n",
    "        for v in 1:vi\n",
    "            act = action(policy, State(c, t, f, v - 5))\n",
    "            if act == ACCEPT\n",
    "                policyGraph[v,f] = 100\n",
    "            else\n",
    "                policyGraph[v,f] = 0\n",
    "            end\n",
    "        end\n",
    "    end\n",
    "    \n",
    "    x=params.visa_status\n",
    "    y=params.family_sizes\n",
    "    z=policyGraph'\n",
    "    title_time_cap=\"t = $t c = $c \"\n",
    "    return heatmap(x, y, z, aspect_ratio = 1, legend = :none, xlims = (-4,4), xlabel = \"Visa Status\", ylabel = \"Family Size\", ylims = (1,10), title=title_time_cap )\n",
    "    \n",
    "end"
   ]
  },
  {
   "cell_type": "code",
   "execution_count": 42,
   "metadata": {},
   "outputs": [
    {
     "ename": "LoadError",
     "evalue": "KeyError: key State(150, 60, 1, -4) not found",
     "output_type": "error",
     "traceback": [
      "KeyError: key State(150, 60, 1, -4) not found",
      "",
      "Stacktrace:",
      "  [1] getindex",
      "    @ ./dict.jl:482 [inlined]",
      "  [2] _call",
      "    @ ~/.julia/packages/QuickPOMDPs/mIT3P/src/quick.jl:206 [inlined]",
      "  [3] _call",
      "    @ ~/.julia/packages/QuickPOMDPs/mIT3P/src/quick.jl:196 [inlined]",
      "  [4] #stateindex#31",
      "    @ ~/.julia/packages/QuickPOMDPs/mIT3P/src/quick.jl:211 [inlined]",
      "  [5] stateindex",
      "    @ ~/.julia/packages/QuickPOMDPs/mIT3P/src/quick.jl:211 [inlined]",
      "  [6] action",
      "    @ ~/.julia/packages/DiscreteValueIteration/FjeJj/src/common.jl:72 [inlined]",
      "  [7] vis_time_step(policy::ValueIterationPolicy{Matrix{Float64}, Vector{Float64}, Vector{Int64}, Action, QuickMDP{Evacuation, State, Action, NamedTuple{(:stateindex, :isterminal, :states, :statetype, :discount, :render, :actions, :actionindex, :transition, :reward, :initialstate), Tuple{Dict{State, Int64}, typeof(termination), Vector{Any}, DataType, Float64, typeof(render), Vector{Action}, Dict{Action, Int64}, typeof(T), typeof(R), Vector{State}}}}}, c::Int64, t::Int64)",
      "    @ Main ./In[41]:8",
      "  [8] top-level scope",
      "    @ In[42]:2",
      "  [9] eval",
      "    @ ./boot.jl:360 [inlined]",
      " [10] include_string(mapexpr::typeof(REPL.softscope), mod::Module, code::String, filename::String)",
      "    @ Base ./loading.jl:1116"
     ]
    }
   ],
   "source": [
    "# full time and capacity \n",
    "p_1 = vis_time_step(policy, 150, 60)\n"
   ]
  },
  {
   "cell_type": "code",
   "execution_count": 43,
   "metadata": {},
   "outputs": [
    {
     "ename": "LoadError",
     "evalue": "KeyError: key State(50, 50, 1, -3) not found",
     "output_type": "error",
     "traceback": [
      "KeyError: key State(50, 50, 1, -3) not found",
      "",
      "Stacktrace:",
      "  [1] getindex",
      "    @ ./dict.jl:482 [inlined]",
      "  [2] _call",
      "    @ ~/.julia/packages/QuickPOMDPs/mIT3P/src/quick.jl:206 [inlined]",
      "  [3] _call",
      "    @ ~/.julia/packages/QuickPOMDPs/mIT3P/src/quick.jl:196 [inlined]",
      "  [4] #stateindex#31",
      "    @ ~/.julia/packages/QuickPOMDPs/mIT3P/src/quick.jl:211 [inlined]",
      "  [5] stateindex",
      "    @ ~/.julia/packages/QuickPOMDPs/mIT3P/src/quick.jl:211 [inlined]",
      "  [6] action",
      "    @ ~/.julia/packages/DiscreteValueIteration/FjeJj/src/common.jl:72 [inlined]",
      "  [7] vis_time_step(policy::ValueIterationPolicy{Matrix{Float64}, Vector{Float64}, Vector{Int64}, Action, QuickMDP{Evacuation, State, Action, NamedTuple{(:stateindex, :isterminal, :states, :statetype, :discount, :render, :actions, :actionindex, :transition, :reward, :initialstate), Tuple{Dict{State, Int64}, typeof(termination), Vector{Any}, DataType, Float64, typeof(render), Vector{Action}, Dict{Action, Int64}, typeof(T), typeof(R), Vector{State}}}}}, c::Int64, t::Int64)",
      "    @ Main ./In[41]:8",
      "  [8] top-level scope",
      "    @ In[43]:2",
      "  [9] eval",
      "    @ ./boot.jl:360 [inlined]",
      " [10] include_string(mapexpr::typeof(REPL.softscope), mod::Module, code::String, filename::String)",
      "    @ Base ./loading.jl:1116"
     ]
    }
   ],
   "source": [
    "# mid time mid capacity \n",
    "p_2 = vis_time_step(policy, 50, 50)\n"
   ]
  },
  {
   "cell_type": "code",
   "execution_count": null,
   "metadata": {},
   "outputs": [],
   "source": []
  },
  {
   "cell_type": "code",
   "execution_count": 44,
   "metadata": {},
   "outputs": [
    {
     "ename": "LoadError",
     "evalue": "KeyError: key State(10, 50, 1, -3) not found",
     "output_type": "error",
     "traceback": [
      "KeyError: key State(10, 50, 1, -3) not found",
      "",
      "Stacktrace:",
      "  [1] getindex",
      "    @ ./dict.jl:482 [inlined]",
      "  [2] _call",
      "    @ ~/.julia/packages/QuickPOMDPs/mIT3P/src/quick.jl:206 [inlined]",
      "  [3] _call",
      "    @ ~/.julia/packages/QuickPOMDPs/mIT3P/src/quick.jl:196 [inlined]",
      "  [4] #stateindex#31",
      "    @ ~/.julia/packages/QuickPOMDPs/mIT3P/src/quick.jl:211 [inlined]",
      "  [5] stateindex",
      "    @ ~/.julia/packages/QuickPOMDPs/mIT3P/src/quick.jl:211 [inlined]",
      "  [6] action",
      "    @ ~/.julia/packages/DiscreteValueIteration/FjeJj/src/common.jl:72 [inlined]",
      "  [7] vis_time_step(policy::ValueIterationPolicy{Matrix{Float64}, Vector{Float64}, Vector{Int64}, Action, QuickMDP{Evacuation, State, Action, NamedTuple{(:stateindex, :isterminal, :states, :statetype, :discount, :render, :actions, :actionindex, :transition, :reward, :initialstate), Tuple{Dict{State, Int64}, typeof(termination), Vector{Any}, DataType, Float64, typeof(render), Vector{Action}, Dict{Action, Int64}, typeof(T), typeof(R), Vector{State}}}}}, c::Int64, t::Int64)",
      "    @ Main ./In[41]:8",
      "  [8] top-level scope",
      "    @ In[44]:2",
      "  [9] eval",
      "    @ ./boot.jl:360 [inlined]",
      " [10] include_string(mapexpr::typeof(REPL.softscope), mod::Module, code::String, filename::String)",
      "    @ Base ./loading.jl:1116"
     ]
    }
   ],
   "source": [
    "# low time mid capacity\n",
    "p = vis_time_step(policy, 10, 50)\n"
   ]
  },
  {
   "cell_type": "code",
   "execution_count": 45,
   "metadata": {},
   "outputs": [
    {
     "ename": "LoadError",
     "evalue": "KeyError: key State(50, 10, 1, -3) not found",
     "output_type": "error",
     "traceback": [
      "KeyError: key State(50, 10, 1, -3) not found",
      "",
      "Stacktrace:",
      "  [1] getindex",
      "    @ ./dict.jl:482 [inlined]",
      "  [2] _call",
      "    @ ~/.julia/packages/QuickPOMDPs/mIT3P/src/quick.jl:206 [inlined]",
      "  [3] _call",
      "    @ ~/.julia/packages/QuickPOMDPs/mIT3P/src/quick.jl:196 [inlined]",
      "  [4] #stateindex#31",
      "    @ ~/.julia/packages/QuickPOMDPs/mIT3P/src/quick.jl:211 [inlined]",
      "  [5] stateindex",
      "    @ ~/.julia/packages/QuickPOMDPs/mIT3P/src/quick.jl:211 [inlined]",
      "  [6] action",
      "    @ ~/.julia/packages/DiscreteValueIteration/FjeJj/src/common.jl:72 [inlined]",
      "  [7] vis_time_step(policy::ValueIterationPolicy{Matrix{Float64}, Vector{Float64}, Vector{Int64}, Action, QuickMDP{Evacuation, State, Action, NamedTuple{(:stateindex, :isterminal, :states, :statetype, :discount, :render, :actions, :actionindex, :transition, :reward, :initialstate), Tuple{Dict{State, Int64}, typeof(termination), Vector{Any}, DataType, Float64, typeof(render), Vector{Action}, Dict{Action, Int64}, typeof(T), typeof(R), Vector{State}}}}}, c::Int64, t::Int64)",
      "    @ Main ./In[41]:8",
      "  [8] top-level scope",
      "    @ In[45]:2",
      "  [9] eval",
      "    @ ./boot.jl:360 [inlined]",
      " [10] include_string(mapexpr::typeof(REPL.softscope), mod::Module, code::String, filename::String)",
      "    @ Base ./loading.jl:1116"
     ]
    }
   ],
   "source": [
    "# low capacity high time\n",
    "p = vis_time_step(policy, 50, 10)\n"
   ]
  },
  {
   "cell_type": "code",
   "execution_count": 46,
   "metadata": {},
   "outputs": [
    {
     "ename": "LoadError",
     "evalue": "KeyError: key State(0, 0, 1, -3) not found",
     "output_type": "error",
     "traceback": [
      "KeyError: key State(0, 0, 1, -3) not found",
      "",
      "Stacktrace:",
      "  [1] getindex",
      "    @ ./dict.jl:482 [inlined]",
      "  [2] _call",
      "    @ ~/.julia/packages/QuickPOMDPs/mIT3P/src/quick.jl:206 [inlined]",
      "  [3] _call",
      "    @ ~/.julia/packages/QuickPOMDPs/mIT3P/src/quick.jl:196 [inlined]",
      "  [4] #stateindex#31",
      "    @ ~/.julia/packages/QuickPOMDPs/mIT3P/src/quick.jl:211 [inlined]",
      "  [5] stateindex",
      "    @ ~/.julia/packages/QuickPOMDPs/mIT3P/src/quick.jl:211 [inlined]",
      "  [6] action",
      "    @ ~/.julia/packages/DiscreteValueIteration/FjeJj/src/common.jl:72 [inlined]",
      "  [7] vis_time_step(policy::ValueIterationPolicy{Matrix{Float64}, Vector{Float64}, Vector{Int64}, Action, QuickMDP{Evacuation, State, Action, NamedTuple{(:stateindex, :isterminal, :states, :statetype, :discount, :render, :actions, :actionindex, :transition, :reward, :initialstate), Tuple{Dict{State, Int64}, typeof(termination), Vector{Any}, DataType, Float64, typeof(render), Vector{Action}, Dict{Action, Int64}, typeof(T), typeof(R), Vector{State}}}}}, c::Int64, t::Int64)",
      "    @ Main ./In[41]:8",
      "  [8] top-level scope",
      "    @ In[46]:2",
      "  [9] eval",
      "    @ ./boot.jl:360 [inlined]",
      " [10] include_string(mapexpr::typeof(REPL.softscope), mod::Module, code::String, filename::String)",
      "    @ Base ./loading.jl:1116"
     ]
    }
   ],
   "source": [
    "# no time or capacity \n",
    "p = vis_time_step(policy, 0, 0)\n"
   ]
  },
  {
   "cell_type": "code",
   "execution_count": 47,
   "metadata": {},
   "outputs": [
    {
     "data": {
      "text/plain": [
       "\"Evacuation Policy when t = 2\""
      ]
     },
     "execution_count": 47,
     "metadata": {},
     "output_type": "execute_result"
    }
   ],
   "source": [
    "t = 2\n",
    "\"Evacuation Policy when t = $t\""
   ]
  },
  {
   "cell_type": "code",
   "execution_count": 48,
   "metadata": {},
   "outputs": [
    {
     "data": {
      "text/plain": [
       "vis_all (generic function with 1 method)"
      ]
     },
     "execution_count": 48,
     "metadata": {},
     "output_type": "execute_result"
    }
   ],
   "source": [
    "# group plot \n",
    "# http://docs.juliaplots.org/latest/layouts/\n",
    "function vis_all(policy)\n",
    "    total_time = params.time \n",
    "    total_capacity = params.capacity\n",
    "    total_graphs = total_time*total_capacity\n",
    "    heat_maps = []\n",
    "    for t in 1:2 #total_time\n",
    "        for c in 1:2 #total_capacity\n",
    "            push!(heat_maps, vis_time_step(policy, c, t))\n",
    "          #  plot(vis_time_step(policy, 1, 1), layout =1)\n",
    "        end\n",
    "    end\n",
    "    return heat_maps\n",
    "    \n",
    "   # plot(vis_time_step(policy, 1, 1), layout =1)\n",
    "   # plot(vis_time_step(policy, c, t), layout =4)\n",
    " #   \"$heat_maps[i],\" for i in 1:2\n",
    "        \n",
    "   \n",
    "  #  plot(heat_maps[i] for i in 1:total_graphs, layout=4)\n",
    "    # return vis_time_step(policy, c, t)\n",
    "end\n",
    "\n",
    "\n",
    "\n",
    "#plot(p_1, p_2, layout = 2)\n"
   ]
  },
  {
   "cell_type": "code",
   "execution_count": 49,
   "metadata": {},
   "outputs": [
    {
     "ename": "LoadError",
     "evalue": "KeyError: key State(1, 1, 1, -3) not found",
     "output_type": "error",
     "traceback": [
      "KeyError: key State(1, 1, 1, -3) not found",
      "",
      "Stacktrace:",
      "  [1] getindex",
      "    @ ./dict.jl:482 [inlined]",
      "  [2] _call",
      "    @ ~/.julia/packages/QuickPOMDPs/mIT3P/src/quick.jl:206 [inlined]",
      "  [3] _call",
      "    @ ~/.julia/packages/QuickPOMDPs/mIT3P/src/quick.jl:196 [inlined]",
      "  [4] #stateindex#31",
      "    @ ~/.julia/packages/QuickPOMDPs/mIT3P/src/quick.jl:211 [inlined]",
      "  [5] stateindex",
      "    @ ~/.julia/packages/QuickPOMDPs/mIT3P/src/quick.jl:211 [inlined]",
      "  [6] action",
      "    @ ~/.julia/packages/DiscreteValueIteration/FjeJj/src/common.jl:72 [inlined]",
      "  [7] vis_time_step(policy::ValueIterationPolicy{Matrix{Float64}, Vector{Float64}, Vector{Int64}, Action, QuickMDP{Evacuation, State, Action, NamedTuple{(:stateindex, :isterminal, :states, :statetype, :discount, :render, :actions, :actionindex, :transition, :reward, :initialstate), Tuple{Dict{State, Int64}, typeof(termination), Vector{Any}, DataType, Float64, typeof(render), Vector{Action}, Dict{Action, Int64}, typeof(T), typeof(R), Vector{State}}}}}, c::Int64, t::Int64)",
      "    @ Main ./In[41]:8",
      "  [8] vis_all(policy::ValueIterationPolicy{Matrix{Float64}, Vector{Float64}, Vector{Int64}, Action, QuickMDP{Evacuation, State, Action, NamedTuple{(:stateindex, :isterminal, :states, :statetype, :discount, :render, :actions, :actionindex, :transition, :reward, :initialstate), Tuple{Dict{State, Int64}, typeof(termination), Vector{Any}, DataType, Float64, typeof(render), Vector{Action}, Dict{Action, Int64}, typeof(T), typeof(R), Vector{State}}}}})",
      "    @ Main ./In[48]:10",
      "  [9] top-level scope",
      "    @ In[49]:1",
      " [10] eval",
      "    @ ./boot.jl:360 [inlined]",
      " [11] include_string(mapexpr::typeof(REPL.softscope), mod::Module, code::String, filename::String)",
      "    @ Base ./loading.jl:1116"
     ]
    }
   ],
   "source": [
    "heat_maps = vis_all(policy)"
   ]
  },
  {
   "cell_type": "code",
   "execution_count": 50,
   "metadata": {},
   "outputs": [
    {
     "ename": "LoadError",
     "evalue": "Cannot convert Base.Generator{Base.Iterators.ProductIterator{Tuple{UnitRange{Int64}, Int64}}, var\"#4#5\"} to series data for plotting",
     "output_type": "error",
     "traceback": [
      "Cannot convert Base.Generator{Base.Iterators.ProductIterator{Tuple{UnitRange{Int64}, Int64}}, var\"#4#5\"} to series data for plotting",
      "",
      "Stacktrace:",
      "  [1] error(s::String)",
      "    @ Base ./error.jl:33",
      "  [2] _prepare_series_data(x::Base.Generator{Base.Iterators.ProductIterator{Tuple{UnitRange{Int64}, Int64}}, var\"#4#5\"})",
      "    @ RecipesPipeline ~/.julia/packages/RecipesPipeline/Bxu2O/src/series.jl:8",
      "  [3] _series_data_vector(x::Base.Generator{Base.Iterators.ProductIterator{Tuple{UnitRange{Int64}, Int64}}, var\"#4#5\"}, plotattributes::Dict{Symbol, Any})",
      "    @ RecipesPipeline ~/.julia/packages/RecipesPipeline/Bxu2O/src/series.jl:27",
      "  [4] macro expansion",
      "    @ ~/.julia/packages/RecipesPipeline/Bxu2O/src/series.jl:144 [inlined]",
      "  [5] apply_recipe(plotattributes::AbstractDict{Symbol, Any}, #unused#::Type{RecipesPipeline.SliceIt}, x::Any, y::Any, z::Any)",
      "    @ RecipesPipeline ~/.julia/packages/RecipesBase/3fzVq/src/RecipesBase.jl:283",
      "  [6] _process_userrecipes!(plt::Any, plotattributes::Any, args::Any)",
      "    @ RecipesPipeline ~/.julia/packages/RecipesPipeline/Bxu2O/src/user_recipe.jl:36",
      "  [7] recipe_pipeline!(plt::Any, plotattributes::Any, args::Any)",
      "    @ RecipesPipeline ~/.julia/packages/RecipesPipeline/Bxu2O/src/RecipesPipeline.jl:70",
      "  [8] _plot!(plt::Plots.Plot, plotattributes::Any, args::Any)",
      "    @ Plots ~/.julia/packages/Plots/1RWWg/src/plot.jl:208",
      "  [9] plot(args::Any; kw::Any)",
      "    @ Plots ~/.julia/packages/Plots/1RWWg/src/plot.jl:91",
      " [10] plot(args::Any)",
      "    @ Plots ~/.julia/packages/Plots/1RWWg/src/plot.jl:85",
      " [11] top-level scope",
      "    @ In[50]:1",
      " [12] eval",
      "    @ ./boot.jl:360 [inlined]",
      " [13] include_string(mapexpr::typeof(REPL.softscope), mod::Module, code::String, filename::String)",
      "    @ Base ./loading.jl:1116"
     ]
    }
   ],
   "source": [
    "plot(\"$heat_maps[i],\" for i in 1:2, layout=2)"
   ]
  },
  {
   "cell_type": "code",
   "execution_count": 51,
   "metadata": {},
   "outputs": [
    {
     "ename": "LoadError",
     "evalue": "KeyError: key State(1, 1, 1, -3) not found",
     "output_type": "error",
     "traceback": [
      "KeyError: key State(1, 1, 1, -3) not found",
      "",
      "Stacktrace:",
      "  [1] getindex",
      "    @ ./dict.jl:482 [inlined]",
      "  [2] _call",
      "    @ ~/.julia/packages/QuickPOMDPs/mIT3P/src/quick.jl:206 [inlined]",
      "  [3] _call",
      "    @ ~/.julia/packages/QuickPOMDPs/mIT3P/src/quick.jl:196 [inlined]",
      "  [4] #stateindex#31",
      "    @ ~/.julia/packages/QuickPOMDPs/mIT3P/src/quick.jl:211 [inlined]",
      "  [5] stateindex",
      "    @ ~/.julia/packages/QuickPOMDPs/mIT3P/src/quick.jl:211 [inlined]",
      "  [6] action",
      "    @ ~/.julia/packages/DiscreteValueIteration/FjeJj/src/common.jl:72 [inlined]",
      "  [7] vis_time_step(policy::ValueIterationPolicy{Matrix{Float64}, Vector{Float64}, Vector{Int64}, Action, QuickMDP{Evacuation, State, Action, NamedTuple{(:stateindex, :isterminal, :states, :statetype, :discount, :render, :actions, :actionindex, :transition, :reward, :initialstate), Tuple{Dict{State, Int64}, typeof(termination), Vector{Any}, DataType, Float64, typeof(render), Vector{Action}, Dict{Action, Int64}, typeof(T), typeof(R), Vector{State}}}}}, c::Int64, t::Int64)",
      "    @ Main ./In[41]:8",
      "  [8] vis_all(policy::ValueIterationPolicy{Matrix{Float64}, Vector{Float64}, Vector{Int64}, Action, QuickMDP{Evacuation, State, Action, NamedTuple{(:stateindex, :isterminal, :states, :statetype, :discount, :render, :actions, :actionindex, :transition, :reward, :initialstate), Tuple{Dict{State, Int64}, typeof(termination), Vector{Any}, DataType, Float64, typeof(render), Vector{Action}, Dict{Action, Int64}, typeof(T), typeof(R), Vector{State}}}}})",
      "    @ Main ./In[48]:10",
      "  [9] top-level scope",
      "    @ In[51]:1",
      " [10] eval",
      "    @ ./boot.jl:360 [inlined]",
      " [11] include_string(mapexpr::typeof(REPL.softscope), mod::Module, code::String, filename::String)",
      "    @ Base ./loading.jl:1116"
     ]
    }
   ],
   "source": [
    "vis_all(policy)"
   ]
  },
  {
   "cell_type": "code",
   "execution_count": 52,
   "metadata": {},
   "outputs": [
    {
     "data": {
      "text/plain": [
       "10×4 Matrix{Float64}:\n",
       " 0.414261    0.351724  0.438497  0.0120118\n",
       " 0.81546     0.187717  0.431495  0.747849\n",
       " 0.00599868  0.385396  0.689819  0.37141\n",
       " 0.99738     0.869194  0.449428  0.557156\n",
       " 0.179317    0.551265  0.418353  0.0969207\n",
       " 0.377552    0.417572  0.804797  0.673884\n",
       " 0.613832    0.772917  0.156682  0.774173\n",
       " 0.402236    0.630776  0.398615  0.188972\n",
       " 0.744547    0.648804  0.349833  0.541362\n",
       " 0.458616    0.522807  0.980054  0.79301"
      ]
     },
     "execution_count": 52,
     "metadata": {},
     "output_type": "execute_result"
    }
   ],
   "source": [
    "rand(10, 4)"
   ]
  },
  {
   "cell_type": "code",
   "execution_count": 53,
   "metadata": {},
   "outputs": [
    {
     "data": {
      "text/plain": [
       "Plots.GRBackend()"
      ]
     },
     "execution_count": 53,
     "metadata": {},
     "output_type": "execute_result"
    }
   ],
   "source": [
    "gr(leg = false, bg = :lightgrey)"
   ]
  },
  {
   "cell_type": "code",
   "execution_count": 54,
   "metadata": {},
   "outputs": [
    {
     "ename": "LoadError",
     "evalue": "UndefVarError: p1 not defined",
     "output_type": "error",
     "traceback": [
      "UndefVarError: p1 not defined",
      "",
      "Stacktrace:",
      " [1] top-level scope",
      "   @ In[54]:1",
      " [2] eval",
      "   @ ./boot.jl:360 [inlined]",
      " [3] include_string(mapexpr::typeof(REPL.softscope), mod::Module, code::String, filename::String)",
      "   @ Base ./loading.jl:1116"
     ]
    }
   ],
   "source": [
    "plot(p1, p2)"
   ]
  },
  {
   "cell_type": "code",
   "execution_count": 55,
   "metadata": {},
   "outputs": [
    {
     "ename": "LoadError",
     "evalue": "KeyError: key State(1, 0, 1, -3) not found",
     "output_type": "error",
     "traceback": [
      "KeyError: key State(1, 0, 1, -3) not found",
      "",
      "Stacktrace:",
      "  [1] getindex",
      "    @ ./dict.jl:482 [inlined]",
      "  [2] _call",
      "    @ ~/.julia/packages/QuickPOMDPs/mIT3P/src/quick.jl:206 [inlined]",
      "  [3] _call",
      "    @ ~/.julia/packages/QuickPOMDPs/mIT3P/src/quick.jl:196 [inlined]",
      "  [4] #stateindex#31",
      "    @ ~/.julia/packages/QuickPOMDPs/mIT3P/src/quick.jl:211 [inlined]",
      "  [5] stateindex",
      "    @ ~/.julia/packages/QuickPOMDPs/mIT3P/src/quick.jl:211 [inlined]",
      "  [6] action",
      "    @ ~/.julia/packages/DiscreteValueIteration/FjeJj/src/common.jl:72 [inlined]",
      "  [7] vis_time_step(policy::ValueIterationPolicy{Matrix{Float64}, Vector{Float64}, Vector{Int64}, Action, QuickMDP{Evacuation, State, Action, NamedTuple{(:stateindex, :isterminal, :states, :statetype, :discount, :render, :actions, :actionindex, :transition, :reward, :initialstate), Tuple{Dict{State, Int64}, typeof(termination), Vector{Any}, DataType, Float64, typeof(render), Vector{Action}, Dict{Action, Int64}, typeof(T), typeof(R), Vector{State}}}}}, c::Int64, t::Int64)",
      "    @ Main ./In[41]:8",
      "  [8] top-level scope",
      "    @ In[55]:2",
      "  [9] eval",
      "    @ ./boot.jl:360 [inlined]",
      " [10] include_string(mapexpr::typeof(REPL.softscope), mod::Module, code::String, filename::String)",
      "    @ Base ./loading.jl:1116"
     ]
    }
   ],
   "source": [
    "l = @layout [a b;  c d]\n",
    "p1 = plot(vis_time_step(policy, 1, 0))\n",
    "p2 = plot(vis_time_step(policy, 0, 1))\n",
    "p3 = plot(vis_time_step(policy, 1, 1))\n",
    "p4 = plot(vis_time_step(policy, 1, 1))\n",
    "plot(p1, p2, p3, p4, layout = l)"
   ]
  },
  {
   "cell_type": "code",
   "execution_count": 56,
   "metadata": {},
   "outputs": [
    {
     "ename": "LoadError",
     "evalue": "KeyError: key State(1, 1, 1, -3) not found",
     "output_type": "error",
     "traceback": [
      "KeyError: key State(1, 1, 1, -3) not found",
      "",
      "Stacktrace:",
      "  [1] getindex",
      "    @ ./dict.jl:482 [inlined]",
      "  [2] _call",
      "    @ ~/.julia/packages/QuickPOMDPs/mIT3P/src/quick.jl:206 [inlined]",
      "  [3] _call",
      "    @ ~/.julia/packages/QuickPOMDPs/mIT3P/src/quick.jl:196 [inlined]",
      "  [4] #stateindex#31",
      "    @ ~/.julia/packages/QuickPOMDPs/mIT3P/src/quick.jl:211 [inlined]",
      "  [5] stateindex",
      "    @ ~/.julia/packages/QuickPOMDPs/mIT3P/src/quick.jl:211 [inlined]",
      "  [6] action",
      "    @ ~/.julia/packages/DiscreteValueIteration/FjeJj/src/common.jl:72 [inlined]",
      "  [7] vis_time_step(policy::ValueIterationPolicy{Matrix{Float64}, Vector{Float64}, Vector{Int64}, Action, QuickMDP{Evacuation, State, Action, NamedTuple{(:stateindex, :isterminal, :states, :statetype, :discount, :render, :actions, :actionindex, :transition, :reward, :initialstate), Tuple{Dict{State, Int64}, typeof(termination), Vector{Any}, DataType, Float64, typeof(render), Vector{Action}, Dict{Action, Int64}, typeof(T), typeof(R), Vector{State}}}}}, c::Int64, t::Int64)",
      "    @ Main ./In[41]:8",
      "  [8] vis_all(policy::ValueIterationPolicy{Matrix{Float64}, Vector{Float64}, Vector{Int64}, Action, QuickMDP{Evacuation, State, Action, NamedTuple{(:stateindex, :isterminal, :states, :statetype, :discount, :render, :actions, :actionindex, :transition, :reward, :initialstate), Tuple{Dict{State, Int64}, typeof(termination), Vector{Any}, DataType, Float64, typeof(render), Vector{Action}, Dict{Action, Int64}, typeof(T), typeof(R), Vector{State}}}}})",
      "    @ Main ./In[48]:10",
      "  [9] top-level scope",
      "    @ In[56]:1",
      " [10] eval",
      "    @ ./boot.jl:360 [inlined]",
      " [11] include_string(mapexpr::typeof(REPL.softscope), mod::Module, code::String, filename::String)",
      "    @ Base ./loading.jl:1116"
     ]
    }
   ],
   "source": [
    "vis_all(policy)"
   ]
  },
  {
   "cell_type": "code",
   "execution_count": 57,
   "metadata": {},
   "outputs": [
    {
     "data": {
      "text/plain": [
       "Plots.GridLayout(1, 2)"
      ]
     },
     "execution_count": 57,
     "metadata": {},
     "output_type": "execute_result"
    }
   ],
   "source": [
    "l = @layout [\n",
    "    a{0.2w} [grid(2,2)\n",
    "             b{0.2h}  ]\n",
    "]"
   ]
  },
  {
   "cell_type": "code",
   "execution_count": null,
   "metadata": {},
   "outputs": [],
   "source": []
  },
  {
   "cell_type": "code",
   "execution_count": 58,
   "metadata": {},
   "outputs": [
    {
     "ename": "LoadError",
     "evalue": "KeyError: key State(1, 1, 1, -3) not found",
     "output_type": "error",
     "traceback": [
      "KeyError: key State(1, 1, 1, -3) not found",
      "",
      "Stacktrace:",
      "  [1] getindex",
      "    @ ./dict.jl:482 [inlined]",
      "  [2] _call",
      "    @ ~/.julia/packages/QuickPOMDPs/mIT3P/src/quick.jl:206 [inlined]",
      "  [3] _call",
      "    @ ~/.julia/packages/QuickPOMDPs/mIT3P/src/quick.jl:196 [inlined]",
      "  [4] #stateindex#31",
      "    @ ~/.julia/packages/QuickPOMDPs/mIT3P/src/quick.jl:211 [inlined]",
      "  [5] stateindex",
      "    @ ~/.julia/packages/QuickPOMDPs/mIT3P/src/quick.jl:211 [inlined]",
      "  [6] action",
      "    @ ~/.julia/packages/DiscreteValueIteration/FjeJj/src/common.jl:72 [inlined]",
      "  [7] vis_time_step(policy::ValueIterationPolicy{Matrix{Float64}, Vector{Float64}, Vector{Int64}, Action, QuickMDP{Evacuation, State, Action, NamedTuple{(:stateindex, :isterminal, :states, :statetype, :discount, :render, :actions, :actionindex, :transition, :reward, :initialstate), Tuple{Dict{State, Int64}, typeof(termination), Vector{Any}, DataType, Float64, typeof(render), Vector{Action}, Dict{Action, Int64}, typeof(T), typeof(R), Vector{State}}}}}, c::Int64, t::Int64)",
      "    @ Main ./In[41]:8",
      "  [8] vis_all(policy::ValueIterationPolicy{Matrix{Float64}, Vector{Float64}, Vector{Int64}, Action, QuickMDP{Evacuation, State, Action, NamedTuple{(:stateindex, :isterminal, :states, :statetype, :discount, :render, :actions, :actionindex, :transition, :reward, :initialstate), Tuple{Dict{State, Int64}, typeof(termination), Vector{Any}, DataType, Float64, typeof(render), Vector{Action}, Dict{Action, Int64}, typeof(T), typeof(R), Vector{State}}}}})",
      "    @ Main ./In[48]:10",
      "  [9] top-level scope",
      "    @ In[58]:1",
      " [10] eval",
      "    @ ./boot.jl:360 [inlined]",
      " [11] include_string(mapexpr::typeof(REPL.softscope), mod::Module, code::String, filename::String)",
      "    @ Base ./loading.jl:1116"
     ]
    }
   ],
   "source": [
    "vis_all(policy)"
   ]
  },
  {
   "cell_type": "code",
   "execution_count": 59,
   "metadata": {},
   "outputs": [],
   "source": [
    "#@show size(heat_maps) [shouldn't this be 60*20 here]"
   ]
  },
  {
   "cell_type": "code",
   "execution_count": 60,
   "metadata": {},
   "outputs": [
    {
     "ename": "LoadError",
     "evalue": "UndefVarError: vis not defined",
     "output_type": "error",
     "traceback": [
      "UndefVarError: vis not defined",
      "",
      "Stacktrace:",
      " [1] top-level scope",
      "   @ In[60]:1",
      " [2] eval",
      "   @ ./boot.jl:360 [inlined]",
      " [3] include_string(mapexpr::typeof(REPL.softscope), mod::Module, code::String, filename::String)",
      "   @ Base ./loading.jl:1116"
     ]
    }
   ],
   "source": [
    "p = vis(policy, 20, 20)\n",
    "# plot(p)\n",
    "#policyGraph = zeros(5,3) #turns into 5 by 3 matrix\n",
    "#(xmax, ymax) = params.size    \n"
   ]
  },
  {
   "cell_type": "code",
   "execution_count": 61,
   "metadata": {},
   "outputs": [
    {
     "ename": "LoadError",
     "evalue": "UndefVarError: vis not defined",
     "output_type": "error",
     "traceback": [
      "UndefVarError: vis not defined",
      "",
      "Stacktrace:",
      " [1] top-level scope",
      "   @ In[61]:1",
      " [2] eval",
      "   @ ./boot.jl:360 [inlined]",
      " [3] include_string(mapexpr::typeof(REPL.softscope), mod::Module, code::String, filename::String)",
      "   @ Base ./loading.jl:1116"
     ]
    }
   ],
   "source": [
    "p = vis(policy, 20, 60)\n",
    "#State(c, t, f, v)"
   ]
  },
  {
   "cell_type": "code",
   "execution_count": 62,
   "metadata": {},
   "outputs": [
    {
     "ename": "LoadError",
     "evalue": "UndefVarError: vis not defined",
     "output_type": "error",
     "traceback": [
      "UndefVarError: vis not defined",
      "",
      "Stacktrace:",
      " [1] top-level scope",
      "   @ In[62]:1",
      " [2] eval",
      "   @ ./boot.jl:360 [inlined]",
      " [3] include_string(mapexpr::typeof(REPL.softscope), mod::Module, code::String, filename::String)",
      "   @ Base ./loading.jl:1116"
     ]
    }
   ],
   "source": [
    "p = vis(policy, 10, 10)\n"
   ]
  },
  {
   "cell_type": "code",
   "execution_count": null,
   "metadata": {},
   "outputs": [],
   "source": []
  },
  {
   "cell_type": "markdown",
   "metadata": {},
   "source": [
    "**Visualizations**"
   ]
  },
  {
   "cell_type": "code",
   "execution_count": 63,
   "metadata": {},
   "outputs": [],
   "source": [
    "# struct evacPolicy <: Policy end "
   ]
  },
  {
   "cell_type": "code",
   "execution_count": 64,
   "metadata": {},
   "outputs": [],
   "source": [
    "# function plot_evac(mdp::MDP,\n",
    "#         policy::Policy=NothingPolicy(),  # our policy will have states State(c, t, f, v) with actions (reject/accept)\n",
    "#         iter=0,\n",
    "#         discount=NaN; \n",
    "#         outline=true,\n",
    "#         show_policy=true,\n",
    "#         show_rewards=false, \n",
    "#         outline_state::Union{State, Nothing}=nothing\n",
    "#     )\n",
    "                   \n",
    "#     gr()\n",
    "    \n",
    "#     # what do here? \n",
    "# #     if policy isa NothingPolicy\n",
    "# #         # override when the policy is empty\n",
    "# #         show_policy = false\n",
    "# #     end\n",
    "    \n",
    "#     show_policy = false\n",
    "    \n",
    "# #     U = zeros(1, params.size[1]*params.size[2]) # tryung \n",
    "# #     policy = ones(1, params.size[1]*params.size[2]) # how do you make a policy? \n",
    "# #    DISCUSS \n",
    "#     if iter == 0\n",
    "#         # solver has not been run yet, so we just plot the raw rewards\n",
    "#         # overwrite policy at time=0 to be emp\n",
    "#         U = get_rewards(mdp, policy)\n",
    "#     else\n",
    "#         # otherwise, use the Value Function to get the values (i.e., utility)\n",
    "#         U = values(mdp, policy)\n",
    "#     end\n",
    "    \n",
    "#     # reshape to grid\n",
    "#     (xmax, ymax) = params.size # reshape grid to family size * visa status\n",
    "#     Uxy = reshape(U, xmax, ymax)\n",
    "#     # plot values (i.e the U matrix)\n",
    "#     fig = heatmap(Uxy',\n",
    "#                   legend=:none,\n",
    "#                   aspect_ratio=:equal,\n",
    "#                   framestyle=:box,\n",
    "#                   tickdirection=:out)\n",
    "#     xlims!(0.5, xmax+0.5)\n",
    "#     ylims!(0.5, ymax+0.5)\n",
    "#     xticks!(1:xmax)\n",
    "#     yticks!(1:ymax)\n",
    "#     rectangle(w, h, x, y) = Shape(x .+ [0,w,w,0], y .+ [0,0,h,h])\n",
    "#     # not sure the visualization makes perfect sense since x and y will not have every possible family size...\n",
    "#     # policy_grid(policy::Policy, xmax::Int, ymax::Int, time::Int, capacity::Int)\n",
    "#     # Let x represent family size, y represent visa status \n",
    "#     for x in 1:xmax, y in 1:ymax \n",
    "#         policy_grid(policy, xmax, ymax, 0, 0) # time = 0 and capacity = 0 here - the last time step \n",
    "#         annotate!([(x, y, (grid[x,y], :center, 12, \"Computer Modern\"))])\n",
    "#         rect = rectangle(1, 1, x - 0.5, y - 0.5)\n",
    "#         plot!(rect, fillalpha=0, linecolor=:gray)\n",
    "        \n",
    "#         # Some if statement here to say: \n",
    "#         # if policy at State(c,t,f,v) == ACCEPT\n",
    "#             # color = green\n",
    "#         # else \n",
    "#             # no color \n",
    "#     end\n",
    "#         title!(\"Evacuation Policy Plot$extra_title\")\n",
    "#         return fig \n",
    "# end"
   ]
  },
  {
   "cell_type": "code",
   "execution_count": 65,
   "metadata": {},
   "outputs": [],
   "source": [
    "# plot_evac(mdp)"
   ]
  },
  {
   "cell_type": "code",
   "execution_count": 66,
   "metadata": {},
   "outputs": [],
   "source": [
    "# policy\n",
    "# act = action(policy, State(0,0,1,5))\n"
   ]
  },
  {
   "cell_type": "code",
   "execution_count": null,
   "metadata": {},
   "outputs": [],
   "source": []
  },
  {
   "cell_type": "code",
   "execution_count": 67,
   "metadata": {},
   "outputs": [],
   "source": [
    "# # create policy grid showing the best action in each state at a particular time and capacity \n",
    "# #State(c, t, f, v)\n",
    "# function policy_grid(policy::Policy, xmax::Int, ymax::Int, time::Int, capacity::Int)\n",
    "#     viz_action = Dict(REJECT => \"\",\n",
    "#                   ACCEPT => \"+\",)\n",
    "#     grid = Array{String}(undef, xmax, ymax)\n",
    "#     for x = 1:xmax, y = 1:xmax\n",
    "#         s = State(capacity, time, x, y) # x is family size, v is visa status \n",
    "#         grid[x,y] = viz_action[action(policy, s)] # need to define this action space \n",
    "#     end\n",
    "#     return grid\n",
    "# end\n"
   ]
  },
  {
   "cell_type": "code",
   "execution_count": 68,
   "metadata": {},
   "outputs": [],
   "source": [
    "#(chairs, time, family_size, visa_status)\n",
    "#T(State(-1, -1, 4, 5), ACCEPT)\n",
    "# this is the problem \n",
    "# ACCEPT: State(50, 9, ANYTHING, ANYTHING)\n",
    "# ACCEPT: State(42, 9, ANYTHING, ANYTHING)\n",
    "# REJECT: State(50, 9, ANYTHING, ANYTHING)"
   ]
  },
  {
   "cell_type": "code",
   "execution_count": 69,
   "metadata": {},
   "outputs": [],
   "source": [
    "# T(State(4, 3, 4, 5), ACCEPT)\n"
   ]
  },
  {
   "cell_type": "code",
   "execution_count": 70,
   "metadata": {},
   "outputs": [],
   "source": [
    "#T(State(-1, -1, 4, 5), ACCEPT)"
   ]
  }
 ],
 "metadata": {
  "@webio": {
   "lastCommId": "b5d61c2173eb40a488d5cac01c9e13a1",
   "lastKernelId": "c341b7c9-7607-47e4-9d4e-360847dfcdec"
  },
  "kernelspec": {
   "display_name": "Julia 1.6.3",
   "language": "julia",
   "name": "julia-1.6"
  },
  "language_info": {
   "file_extension": ".jl",
   "mimetype": "application/julia",
   "name": "julia",
   "version": "1.6.3"
  }
 },
 "nbformat": 4,
 "nbformat_minor": 5
}
