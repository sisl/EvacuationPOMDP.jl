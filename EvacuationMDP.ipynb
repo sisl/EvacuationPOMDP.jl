{
 "cells": [
  {
   "cell_type": "code",
   "execution_count": 1,
   "id": "2df6dbc7",
   "metadata": {},
   "outputs": [],
   "source": [
    "using POMDPs # for MDP type\n",
    "using DiscreteValueIteration\n",
    "using POMDPPolicies\n",
    "using POMDPModelTools #for sparse cat \n",
    "using Parameters\n",
    "using Random\n",
    "using Plots; default(fontfamily=\"Computer Modern\", framestyle=:box) # LaTex-style\n",
    "using QuickPOMDPs\n",
    "using Distributions \n",
    "#using PlotlyJS\n",
    "using LinearAlgebra"
   ]
  },
  {
   "cell_type": "code",
   "execution_count": 2,
   "id": "f2a06957",
   "metadata": {},
   "outputs": [
    {
     "data": {
      "text/plain": [
       "MersenneTwister(12648430)"
      ]
     },
     "execution_count": 2,
     "metadata": {},
     "output_type": "execute_result"
    }
   ],
   "source": [
    "Random.seed!(0xC0FFEE)"
   ]
  },
  {
   "cell_type": "markdown",
   "id": "41c9cdd8",
   "metadata": {},
   "source": [
    "**States**"
   ]
  },
  {
   "cell_type": "code",
   "execution_count": 3,
   "id": "0aab1a9c",
   "metadata": {},
   "outputs": [],
   "source": [
    "# A state s in the evacuation problem is a discrete set of 4 values: \n",
    "# chairs remaining, time remaining, family size, and visa status\n",
    "struct State\n",
    "    c::Int # chairs remaining \n",
    "    t::Int # time remaining \n",
    "    f::Int # family size \n",
    "    v::Int # visa status \n",
    "end "
   ]
  },
  {
   "cell_type": "markdown",
   "id": "6cc585ac",
   "metadata": {},
   "source": [
    "**Environment Parameters**"
   ]
  },
  {
   "cell_type": "code",
   "execution_count": 4,
   "id": "258940f1",
   "metadata": {},
   "outputs": [
    {
     "data": {
      "text/plain": [
       "EvacuationParameters"
      ]
     },
     "execution_count": 4,
     "metadata": {},
     "output_type": "execute_result"
    }
   ],
   "source": [
    "# assume families normally distributed as integers around average family size in afghanistan of 8. \n",
    "# Truncated to include 1 or greater and rounded to be integers \n",
    "@with_kw struct EvacuationParameters\n",
    "    #family_sizes::Vector{Int} =  [trunc(Int, x) for x in rand(TruncatedNormal(3, 1, 1, Inf), 10)] \n",
    "    # or [1, 2, 3, 4, 5, 6, 6, 7, 7, 8, 8, 8, 8, 9, 9, 9, 10, 10, 11, 12]  ?? \n",
    "    family_sizes::Vector{Int} = [1, 2, 3, 4, 5, 6, 7, 8, 9, 10]\n",
    "    visa_status::Vector{Int} = [-4, -3, -2, -1, 0, 1, 2, 3, 4] #TODO: map to various status \n",
    "    capacity::Int = 150\n",
    "    time::Int = 60\n",
    "    size::Tuple{Int, Int} = (length(visa_status), length(family_sizes)) # size of grid \n",
    "    p_transition::Real = 0.8 # don't we always transition into this since time moves forward? I'm confused... \n",
    "    null_state::State = State(-1, -1, -1 ,-1) # is there someway to do this???\n",
    "end\n"
   ]
  },
  {
   "cell_type": "code",
   "execution_count": 5,
   "id": "b0442685",
   "metadata": {},
   "outputs": [],
   "source": [
    "params = EvacuationParameters(); "
   ]
  },
  {
   "cell_type": "code",
   "execution_count": null,
   "id": "4453bfd7",
   "metadata": {},
   "outputs": [],
   "source": []
  },
  {
   "cell_type": "code",
   "execution_count": 6,
   "id": "ddf0f738",
   "metadata": {},
   "outputs": [
    {
     "name": "stdout",
     "output_type": "stream",
     "text": [
      "number_states = params.capacity * params.time * (size(params.family_sizes))[1] * (size(params.visa_status))[1] = 810000\n"
     ]
    },
    {
     "data": {
      "text/plain": [
       "810000"
      ]
     },
     "execution_count": 6,
     "metadata": {},
     "output_type": "execute_result"
    }
   ],
   "source": [
    "@show number_states = params.capacity * params.time * size(params.family_sizes)[1] * size(params.visa_status)[1]"
   ]
  },
  {
   "cell_type": "code",
   "execution_count": null,
   "id": "f62a060b",
   "metadata": {},
   "outputs": [],
   "source": [
    "# The state space S for the evacuation problem is the set of all combinations \n",
    "𝒮 = []\n",
    "\n",
    "for c in 0:params.capacity # capacity ends at 0 \n",
    "    for t in 0:params.time # time ends at 0 \n",
    "        for f in params.family_sizes # family size here we should have the ACTUAL family sizes \n",
    "            for v in params.visa_status # actual visa statuses \n",
    "                new = State(c, t, f, v) \n",
    "                𝒮 = [𝒮; new]\n",
    "            end\n",
    "        end        \n",
    "    end\n",
    "end\n",
    "𝒮 = [𝒮; params.null_state]\n",
    "\n",
    "\n"
   ]
  },
  {
   "cell_type": "code",
   "execution_count": null,
   "id": "05cc11ce",
   "metadata": {},
   "outputs": [],
   "source": [
    "@show 𝒮"
   ]
  },
  {
   "cell_type": "code",
   "execution_count": null,
   "id": "0e5e6bfe",
   "metadata": {},
   "outputs": [],
   "source": [
    "#@show size(𝒮)"
   ]
  },
  {
   "cell_type": "markdown",
   "id": "2b54b559",
   "metadata": {},
   "source": [
    "**Actions**"
   ]
  },
  {
   "cell_type": "code",
   "execution_count": null,
   "id": "e39358e4",
   "metadata": {},
   "outputs": [],
   "source": [
    "# the possible actions are whether accept or reject a family at the gate \n",
    "@enum Action REJECT ACCEPT"
   ]
  },
  {
   "cell_type": "code",
   "execution_count": null,
   "id": "7c9681fe",
   "metadata": {},
   "outputs": [],
   "source": [
    "𝒜 = [REJECT, ACCEPT]"
   ]
  },
  {
   "cell_type": "code",
   "execution_count": null,
   "id": "01617c1d",
   "metadata": {},
   "outputs": [],
   "source": [
    "# create policy grid showing the best action in each state at a particular time and capacity \n",
    "#State(c, t, f, v)\n",
    "function policy_grid(policy::Policy, xmax::Int, ymax::Int, time::Int, capacity::Int)\n",
    "    viz_action = Dict(REJECT => \"\",\n",
    "                  ACCEPT => \"+\",)\n",
    "    grid = Array{String}(undef, xmax, ymax)\n",
    "    for x = 1:xmax, y = 1:xmax\n",
    "        s = State(capacity, time, x, y) # x is family size, v is visa status \n",
    "        grid[x,y] = viz_action[action(policy, s)] # need to define this action space \n",
    "    end\n",
    "    return grid\n",
    "end\n"
   ]
  },
  {
   "cell_type": "code",
   "execution_count": null,
   "id": "7c069d06",
   "metadata": {},
   "outputs": [],
   "source": [
    "# only inbounds if room for the family [assuming would not separate even though might]\n",
    "# and if time is available to enter the airport \n",
    "validtime(s::State) = 0 < s.t "
   ]
  },
  {
   "cell_type": "code",
   "execution_count": null,
   "id": "6d649f36",
   "metadata": {},
   "outputs": [],
   "source": [
    "validcapacity(s::State) = 0 ≤ s.c # maybe try back to 0 "
   ]
  },
  {
   "cell_type": "markdown",
   "id": "57696b5e",
   "metadata": {},
   "source": [
    "**Transition Function** "
   ]
  },
  {
   "cell_type": "code",
   "execution_count": null,
   "id": "f5fb2df0",
   "metadata": {},
   "outputs": [],
   "source": [
    "function T(s::State, a::Action)\n",
    "    next_states = []\n",
    "    if validtime(s) \n",
    "        f′ = rand(params.family_sizes)\n",
    "        v′ = rand(params.visa_status) # TODO: possibly make this weighted in some way \n",
    "        if a == ACCEPT \n",
    "            next_state_accept = State(s.c - s.f, s.t - 1, f′, v′) # they get seats\n",
    "            next_state_reject = State(s.c, s.t - 1, f′, v′)\n",
    "            push!(next_states, next_state_accept)\n",
    "            push!(next_states, next_state_reject)\n",
    "            if !validcapacity(next_state_accept) \n",
    "                probabilities = [0, 1] #no room for full family :( so we make probability 0 to accept and 1 reject\n",
    "            else\n",
    "                probabilities = [.80, .20]\n",
    "            end\n",
    "\n",
    "        elseif a == REJECT\n",
    "            probabilities = [1.0]\n",
    "            push!(next_states, State(s.c, s.t - 1, f′, v′))\n",
    "        end\n",
    "    else\n",
    "        push!(next_states,params.null_state)\n",
    "        probabilities = [1]\n",
    "    end\n",
    "    return SparseCat(next_states, probabilities)\n",
    "end\n",
    "\n",
    "    "
   ]
  },
  {
   "cell_type": "code",
   "execution_count": null,
   "id": "4aff57f7",
   "metadata": {},
   "outputs": [],
   "source": [
    "#(chairs, time, family_size, visa_status)\n",
    "#T(State(-1, -1, 4, 5), ACCEPT)\n",
    "# this is the problem \n",
    "# ACCEPT: State(50, 9, ANYTHING, ANYTHING)\n",
    "# ACCEPT: State(42, 9, ANYTHING, ANYTHING)\n",
    "# REJECT: State(50, 9, ANYTHING, ANYTHING)"
   ]
  },
  {
   "cell_type": "code",
   "execution_count": null,
   "id": "609d5c1a",
   "metadata": {},
   "outputs": [],
   "source": [
    "T(State(4, 3, 4, 5), ACCEPT)\n"
   ]
  },
  {
   "cell_type": "code",
   "execution_count": null,
   "id": "e4742e66",
   "metadata": {},
   "outputs": [],
   "source": [
    "#T(State(-1, -1, 4, 5), ACCEPT)"
   ]
  },
  {
   "cell_type": "markdown",
   "id": "c976b83b",
   "metadata": {},
   "source": [
    "**Reward Function**"
   ]
  },
  {
   "cell_type": "code",
   "execution_count": null,
   "id": "e5e4117d",
   "metadata": {},
   "outputs": [],
   "source": [
    "function R(s::State, a::Action)\n",
    "    # reward is just the visa status times family size i think! \n",
    "    if a == ACCEPT\n",
    "        return s.v*s.f\n",
    "    end\n",
    "    return 0\n",
    "end "
   ]
  },
  {
   "cell_type": "code",
   "execution_count": null,
   "id": "10e74fea",
   "metadata": {},
   "outputs": [],
   "source": [
    "#render(mdp; show_rewards=true)\n",
    "#@bind γ Slider(0:0.05:1, default=0.95, show_value=true)\n",
    "# hard code for now. maybe come back to it. \n",
    "γ = 0.95"
   ]
  },
  {
   "cell_type": "code",
   "execution_count": null,
   "id": "5e73455a",
   "metadata": {},
   "outputs": [],
   "source": [
    "# when time is 0...possibly encode this into the parameters \n",
    "#termination(s::State) = (s.t == 0 || s.c == 0)\n",
    "# can probably do this instead of overriding ... alternate possibility: \n",
    "# # not sure we need this... to say when time and capacity are equal\n",
    "\n",
    "#termination(s::State) = (s.t == params.null_state.t && s.c == params.null_state.c)\n",
    "#Base.:(==)(s1::State, s2::State) = (s1.t == s2.t) && (s1.c == s2.c)\n",
    "termination(s::State)= s == params.null_state # change to 1 or the other "
   ]
  },
  {
   "cell_type": "markdown",
   "id": "dfdcdbac",
   "metadata": {},
   "source": [
    "**MDP Formulation**"
   ]
  },
  {
   "cell_type": "code",
   "execution_count": null,
   "id": "eb47d072",
   "metadata": {},
   "outputs": [],
   "source": [
    "# We define the Airport abstract MDP type so we can reference it in other methods.\n",
    "abstract type Evacuation <: MDP{State, Action} end"
   ]
  },
  {
   "cell_type": "code",
   "execution_count": null,
   "id": "cd187a9f",
   "metadata": {},
   "outputs": [],
   "source": [
    "c_initial = params.capacity\n",
    "t_initial = params.time\n",
    "f_initial = rand(params.family_sizes, 1)[1]\n",
    "v_initial = rand(params.visa_status, 1)[1]\n",
    "\n",
    "initial_state = State(c_initial, t_initial, f_initial, v_initial)"
   ]
  },
  {
   "cell_type": "code",
   "execution_count": null,
   "id": "f2d6fcb9",
   "metadata": {},
   "outputs": [],
   "source": [
    "statetype = typeof(initial_state)\n",
    "initialstate_array = [initial_state]"
   ]
  },
  {
   "cell_type": "code",
   "execution_count": null,
   "id": "5e6be2ca",
   "metadata": {},
   "outputs": [],
   "source": [
    "#render = plot_evac"
   ]
  },
  {
   "cell_type": "code",
   "execution_count": null,
   "id": "0781bae1",
   "metadata": {},
   "outputs": [],
   "source": [
    "mdp = QuickMDP(Evacuation,\n",
    "    states       = 𝒮,\n",
    "    actions      = 𝒜,\n",
    "    transition   = T,\n",
    "    reward       = R,\n",
    "    discount     = γ,\n",
    "    initialstate = initialstate_array, \n",
    "    isterminal   = termination,\n",
    "    render       = render,\n",
    "    statetype    = statetype \n",
    "    );"
   ]
  },
  {
   "cell_type": "code",
   "execution_count": null,
   "id": "e07faa69",
   "metadata": {},
   "outputs": [],
   "source": [
    "#render(mdp)"
   ]
  },
  {
   "cell_type": "code",
   "execution_count": null,
   "id": "0c47742a",
   "metadata": {},
   "outputs": [],
   "source": [
    "solver = ValueIterationSolver(max_iterations=30, belres=1e-6, verbose=true);"
   ]
  },
  {
   "cell_type": "markdown",
   "id": "b18554c7",
   "metadata": {},
   "source": [
    "**Policy**"
   ]
  },
  {
   "cell_type": "code",
   "execution_count": null,
   "id": "219e5164",
   "metadata": {},
   "outputs": [],
   "source": [
    "# Set discount factor to variable gamma and solve the MDP to obptain policy pi mapping states to actions a"
   ]
  },
  {
   "cell_type": "code",
   "execution_count": null,
   "id": "d9bf7d0f",
   "metadata": {},
   "outputs": [],
   "source": [
    "policy = solve(solver, mdp) "
   ]
  },
  {
   "cell_type": "code",
   "execution_count": null,
   "id": "3f414513",
   "metadata": {},
   "outputs": [],
   "source": [
    "action(policy, State(20, 60, 4, 3))\n",
    "# we now have a policy! "
   ]
  },
  {
   "cell_type": "code",
   "execution_count": null,
   "id": "10d44737",
   "metadata": {},
   "outputs": [],
   "source": [
    "# a = action(policy, s) # returns the optimal action for state s\n",
    "# value(policy, s) # returns the optimal value at state s\n",
    "#actions = [action(policy, valid_state) for valid_state in valid_states]"
   ]
  },
  {
   "cell_type": "markdown",
   "id": "55ffed9b",
   "metadata": {},
   "source": [
    "**Additional possible needs**"
   ]
  },
  {
   "cell_type": "code",
   "execution_count": null,
   "id": "68e81c1e",
   "metadata": {},
   "outputs": [],
   "source": [
    "# helper functions to:\n",
    "# 1. get all the values from a policy\n",
    "\n",
    "\n",
    "begin\n",
    "    function one_based_policy!(policy)\n",
    "        # change the default action in the policy (all zeros) to all ones (if needed) e.g. just accept everyone\n",
    "        if all(iszero, policy.policy)\n",
    "            policy.policy[:] = ones(eltype(policy.policy), length(policy.policy))\n",
    "        end\n",
    "    end\n",
    "    \n",
    "    # no idea if this is right \n",
    "    function get_rewards(mdp::QuickMDP{Evacuation}, policy::Policy)\n",
    "        null_state = params.null_state\n",
    "        valid_states = setdiff(states(mdp), [null_state])\n",
    "        valid_actions = [action(policy, valid_state) for valid_state in valid_states]\n",
    "        # can I map a state and action to reward? \n",
    "        state_actions = zip(valid_states, valid_actions) \n",
    "        U = map(state_action->reward(mdp, state_action), state_actions)\n",
    "    end\n",
    "    \n",
    "    function values(mdp::QuickMDP{Evacuation}, policy::Policy)\n",
    "        null_state = params.null_state\n",
    "        valid_states = setdiff(states(mdp), [null_state])\n",
    "        U = map(s->value(policy, s), valid_states)\n",
    "    end\n",
    "    \n",
    "#     # WHAT DOES THIS ONE DO? Monte carlo tree search... don't need \n",
    "#     function values(mdp::QuickMDP{Evacuation}, planner::MCTSPlanner)\n",
    "#         null_state = params.null_state\n",
    "#         valid_states = setdiff(states(mdp), [null_state])\n",
    "#         U = []\n",
    "#         for s in valid_states\n",
    "#             u = 0\n",
    "#             try\n",
    "#                 u = value(planner, s)\n",
    "#             catch\n",
    "#                 # state not in tree\n",
    "#             end\n",
    "#             push!(U, u)\n",
    "#         end\n",
    "#         return U\n",
    "#     end\n",
    "    \n",
    "    function values(mdp::QuickMDP{Evacuation}, policy::ValuePolicy)\n",
    "        maxU = mapslices(maximum, policy.value_table, dims=2)\n",
    "        return maxU[1:end-1] # remove null_state\n",
    "    end\n",
    "    \n",
    "    struct NothingPolicy <: Policy end\n",
    "    \n",
    "    # Use this to get a stationary grid of rewards\n",
    "    function values(mdp::QuickMDP{Evacuation}, policy::Union{NothingPolicy, FunctionPolicy})\n",
    "        null_state = params.null_state\n",
    "        valid_states = setdiff(states(mdp), [null_state])\n",
    "        rewards = map(s->reward(mdp, s), valid_states)\n",
    "    end\n",
    "end"
   ]
  },
  {
   "cell_type": "markdown",
   "id": "98243b2f",
   "metadata": {},
   "source": [
    "**Visualizations**"
   ]
  },
  {
   "cell_type": "code",
   "execution_count": null,
   "id": "4e4ba30d",
   "metadata": {},
   "outputs": [],
   "source": [
    "# struct evacPolicy <: Policy end "
   ]
  },
  {
   "cell_type": "code",
   "execution_count": null,
   "id": "0c259e46",
   "metadata": {},
   "outputs": [],
   "source": [
    "# function plot_evac(mdp::MDP,\n",
    "#         policy::Policy=NothingPolicy(),  # our policy will have states State(c, t, f, v) with actions (reject/accept)\n",
    "#         iter=0,\n",
    "#         discount=NaN; \n",
    "#         outline=true,\n",
    "#         show_policy=true,\n",
    "#         show_rewards=false, \n",
    "#         outline_state::Union{State, Nothing}=nothing\n",
    "#     )\n",
    "                   \n",
    "#     gr()\n",
    "    \n",
    "#     # what do here? \n",
    "# #     if policy isa NothingPolicy\n",
    "# #         # override when the policy is empty\n",
    "# #         show_policy = false\n",
    "# #     end\n",
    "    \n",
    "#     show_policy = false\n",
    "    \n",
    "# #     U = zeros(1, params.size[1]*params.size[2]) # tryung \n",
    "# #     policy = ones(1, params.size[1]*params.size[2]) # how do you make a policy? \n",
    "# #    DISCUSS \n",
    "#     if iter == 0\n",
    "#         # solver has not been run yet, so we just plot the raw rewards\n",
    "#         # overwrite policy at time=0 to be emp\n",
    "#         U = get_rewards(mdp, policy)\n",
    "#     else\n",
    "#         # otherwise, use the Value Function to get the values (i.e., utility)\n",
    "#         U = values(mdp, policy)\n",
    "#     end\n",
    "    \n",
    "#     # reshape to grid\n",
    "#     (xmax, ymax) = params.size # reshape grid to family size * visa status\n",
    "#     Uxy = reshape(U, xmax, ymax)\n",
    "#     # plot values (i.e the U matrix)\n",
    "#     fig = heatmap(Uxy',\n",
    "#                   legend=:none,\n",
    "#                   aspect_ratio=:equal,\n",
    "#                   framestyle=:box,\n",
    "#                   tickdirection=:out)\n",
    "#     xlims!(0.5, xmax+0.5)\n",
    "#     ylims!(0.5, ymax+0.5)\n",
    "#     xticks!(1:xmax)\n",
    "#     yticks!(1:ymax)\n",
    "#     rectangle(w, h, x, y) = Shape(x .+ [0,w,w,0], y .+ [0,0,h,h])\n",
    "#     # not sure the visualization makes perfect sense since x and y will not have every possible family size...\n",
    "#     # policy_grid(policy::Policy, xmax::Int, ymax::Int, time::Int, capacity::Int)\n",
    "#     # Let x represent family size, y represent visa status \n",
    "#     for x in 1:xmax, y in 1:ymax \n",
    "#         policy_grid(policy, xmax, ymax, 0, 0) # time = 0 and capacity = 0 here - the last time step \n",
    "#         annotate!([(x, y, (grid[x,y], :center, 12, \"Computer Modern\"))])\n",
    "#         rect = rectangle(1, 1, x - 0.5, y - 0.5)\n",
    "#         plot!(rect, fillalpha=0, linecolor=:gray)\n",
    "        \n",
    "#         # Some if statement here to say: \n",
    "#         # if policy at State(c,t,f,v) == ACCEPT\n",
    "#             # color = green\n",
    "#         # else \n",
    "#             # no color \n",
    "#     end\n",
    "#         title!(\"Evacuation Policy Plot$extra_title\")\n",
    "#         return fig \n",
    "# end"
   ]
  },
  {
   "cell_type": "code",
   "execution_count": null,
   "id": "ec9fcc2b",
   "metadata": {},
   "outputs": [],
   "source": [
    "# plot_evac(mdp)"
   ]
  },
  {
   "cell_type": "code",
   "execution_count": null,
   "id": "1a517a5c",
   "metadata": {},
   "outputs": [],
   "source": [
    "# policy\n",
    "# act = action(policy, State(0,0,1,5))\n"
   ]
  },
  {
   "cell_type": "markdown",
   "id": "9687b9ef",
   "metadata": {},
   "source": [
    "**Basesline Policies**"
   ]
  },
  {
   "cell_type": "code",
   "execution_count": null,
   "id": "5eaa4eee",
   "metadata": {},
   "outputs": [],
   "source": [
    "\n",
    "#just accept anyone with a positive status \n",
    "#accept Anyone with a high status and low family size \n",
    "#accept everyone who is status 5 until 50 seats remaining and then anything goes \n",
    "\n"
   ]
  },
  {
   "cell_type": "markdown",
   "id": "1bc5fa2b",
   "metadata": {},
   "source": [
    "**Aggregate Metrics**"
   ]
  },
  {
   "cell_type": "code",
   "execution_count": null,
   "id": "26ee8eae",
   "metadata": {},
   "outputs": [],
   "source": [
    "total_states = size(𝒮)[1]\n",
    "\n",
    "total_accept = 0\n",
    "total_reject = 0\n",
    "\n",
    "\n",
    "# this is a dictionary mapping a visa staus to \n",
    "# can make it into variables so if we change it...\n",
    "# also possibly make it a counter \n",
    "#visa_statuses = params.visa_status\n",
    "\n",
    "visa_counts = Dict(-5=>0, -4=>0, -3=>0, -2=>0, -1=>0, 0=>0, 1=>0, 2=>0, 3=>0, 4=>0, 5=>0)\n",
    "\n",
    "for c in 0:params.capacity # capacity ends at 0 \n",
    "    for t in 0:params.time # time ends at 0 \n",
    "        for f in params.family_sizes # family size here we should have the ACTUAL family sizes \n",
    "            for v in params.visa_status # actual visa statuses  \n",
    "                state = State(c, t, f, v)\n",
    "                if action(policy, state) == ACCEPT\n",
    "                    total_accept += 1\n",
    "                    visa_counts[v] += 1\n",
    "                else \n",
    "                    total_reject += 1\n",
    "                end\n",
    "            end        \n",
    "        end\n",
    "    end\n",
    "end\n",
    "    \n",
    "percent_accept = total_accept / total_states \n",
    "percent_reject = total_reject / total_states \n",
    "\n",
    "visa_counts\n",
    "    \n",
    "    \n",
    "\n"
   ]
  },
  {
   "cell_type": "code",
   "execution_count": null,
   "id": "34879225",
   "metadata": {},
   "outputs": [],
   "source": [
    "params"
   ]
  },
  {
   "cell_type": "code",
   "execution_count": null,
   "id": "32a94203",
   "metadata": {},
   "outputs": [],
   "source": [
    "policy = \"all\""
   ]
  },
  {
   "cell_type": "code",
   "execution_count": null,
   "id": "b28b2c9b",
   "metadata": {},
   "outputs": [],
   "source": [
    "print(${policy} & {percent_accept:.2f}$\\pm${percent_reject:.2f} & {mean_correlation:.2f}$\\pm${std_correlation:.2f} & {mean_mutual_info_regression:.2f}$\\pm${std_mutual_info_regression:.2f}\\\\\\\\\")"
   ]
  },
  {
   "cell_type": "markdown",
   "id": "0ba418d9",
   "metadata": {},
   "source": [
    "**Visualizations Trial 2**"
   ]
  },
  {
   "cell_type": "code",
   "execution_count": null,
   "id": "60d89b3a",
   "metadata": {},
   "outputs": [],
   "source": [
    "\n",
    "function vis_time_step(policy, c, t) # pass in policy and chairs and time remaing. Spit out graph of family size versus visa status.\n",
    "    (vi, fa) = params.size  #visa, family 8, 15\n",
    "    policyGraph = zeros(vi, fa) #8 by 15 matrix of zeroes\n",
    "    \n",
    "    for f in 1:fa\n",
    "        for v in 1:vi\n",
    "            act = action(policy, State(c, t, f, v - 5))\n",
    "            if act == ACCEPT\n",
    "                policyGraph[v,f] = 100\n",
    "            else\n",
    "                policyGraph[v,f] = 0\n",
    "            end\n",
    "        end\n",
    "    end\n",
    "    \n",
    "    x=params.visa_status\n",
    "    y=params.family_sizes\n",
    "    z=policyGraph'\n",
    "    title_time_cap=\"Evacuation Policy: t = $t c = $c \"\n",
    "    return heatmap(x, y, z, aspect_ratio = 1, legend = :none, xlims = (-4,4), xlabel = \"Visa Status\", ylabel = \"Family Size\", ylims = (1,10), title=title_time_cap )\n",
    "    \n",
    "end"
   ]
  },
  {
   "cell_type": "code",
   "execution_count": null,
   "id": "f1f4e6ad",
   "metadata": {},
   "outputs": [],
   "source": [
    "p = vis_time_step(policy, 20, 20)\n"
   ]
  },
  {
   "cell_type": "code",
   "execution_count": null,
   "id": "751df2ee",
   "metadata": {},
   "outputs": [],
   "source": [
    "t = 2\n",
    "\"Evacuation Policy when t = $t\""
   ]
  },
  {
   "cell_type": "code",
   "execution_count": null,
   "id": "88d3b2fc",
   "metadata": {},
   "outputs": [],
   "source": [
    "\n",
    "function vis_all(policy)\n",
    "    total_time = params.time \n",
    "    total_capacity = params.capacity\n",
    "    heat_maps = []\n",
    "    for t in 1:total_time\n",
    "        for c in 1:total_capacity\n",
    "            #push!(heat_maps, vis_time_step(policy, c, t))\n",
    "            return vis_time_step(policy, c, t)\n",
    "        end\n",
    "    end\n",
    "end"
   ]
  },
  {
   "cell_type": "code",
   "execution_count": null,
   "id": "e09c67e3",
   "metadata": {},
   "outputs": [],
   "source": [
    "vis_all(policy)"
   ]
  },
  {
   "cell_type": "code",
   "execution_count": null,
   "id": "f1944973",
   "metadata": {},
   "outputs": [],
   "source": [
    "#@show size(heat_maps) [shouldn't this be 60*20 here]"
   ]
  },
  {
   "cell_type": "code",
   "execution_count": null,
   "id": "b884826a",
   "metadata": {},
   "outputs": [],
   "source": [
    "p = vis(policy, 20, 20)\n",
    "# plot(p)\n",
    "#policyGraph = zeros(5,3) #turns into 5 by 3 matrix\n",
    "#(xmax, ymax) = params.size    \n"
   ]
  },
  {
   "cell_type": "code",
   "execution_count": null,
   "id": "4a5bce43",
   "metadata": {},
   "outputs": [],
   "source": [
    "p = vis(policy, 20, 60)\n",
    "#State(c, t, f, v)"
   ]
  },
  {
   "cell_type": "code",
   "execution_count": null,
   "id": "b1d90691",
   "metadata": {},
   "outputs": [],
   "source": [
    "p = vis(policy, 10, 10)\n"
   ]
  },
  {
   "cell_type": "code",
   "execution_count": null,
   "id": "14f591cc",
   "metadata": {},
   "outputs": [],
   "source": [
    "    total_capacity = params.capacity\n"
   ]
  },
  {
   "cell_type": "code",
   "execution_count": null,
   "id": "5922c5d6",
   "metadata": {},
   "outputs": [],
   "source": []
  }
 ],
 "metadata": {
  "@webio": {
   "lastCommId": "b5d61c2173eb40a488d5cac01c9e13a1",
   "lastKernelId": "c341b7c9-7607-47e4-9d4e-360847dfcdec"
  },
  "kernelspec": {
   "display_name": "Julia 1.6.2",
   "language": "julia",
   "name": "julia-1.6"
  },
  "language_info": {
   "file_extension": ".jl",
   "mimetype": "application/julia",
   "name": "julia",
   "version": "1.6.2"
  }
 },
 "nbformat": 4,
 "nbformat_minor": 5
}
