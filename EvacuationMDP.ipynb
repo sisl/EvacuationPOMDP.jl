{
 "cells": [
  {
   "cell_type": "code",
   "execution_count": null,
   "id": "e3742698",
   "metadata": {},
   "outputs": [],
   "source": [
    "#import Pkg\n",
    "#Pkg.add(\"POMDPs\")\n",
    "using POMDPs # for MDP type\n",
    "# import Pkg\n",
    "#Pkg.add(\"DiscreteValueIteration\")\n",
    "#Pkg.add(\"Parameters\")\n",
    "#Pkg.add(\"Random\")\n",
    "#Pkg.add(\"Plots\")\n",
    "#Pkg.add(\"POMDPModelTools\")\n",
    "#Pkg.add(\"POMDPPolicies\")\n",
    "#Pkg.add(\"Distributions\")\n",
    "using DiscreteValueIteration\n",
    "using POMDPPolicies\n",
    "using POMDPModelTools\n",
    "using Parameters\n",
    "using Random\n",
    "using Plots; default(fontfamily=\"Computer Modern\", framestyle=:box) # LaTex-style"
   ]
  },
  {
   "cell_type": "code",
   "execution_count": null,
   "id": "62df16e3",
   "metadata": {},
   "outputs": [],
   "source": [
    "using QuickPOMDPs\n",
    "using Distributions "
   ]
  },
  {
   "cell_type": "code",
   "execution_count": null,
   "id": "0b70d70c",
   "metadata": {},
   "outputs": [],
   "source": [
    "Random.seed!(123)\n"
   ]
  },
  {
   "cell_type": "code",
   "execution_count": null,
   "id": "caaa2363",
   "metadata": {},
   "outputs": [],
   "source": [
    "# average family size in Afganistan \n",
    "#family_sizes = Normal(8, 1.0)\n",
    "#family_size = rand(family_sizes, 10)\n",
    "#family_size = convert(Int64, RoundUp(family_size, digits=0))\n",
    "# figure out how to round up or down for this "
   ]
  },
  {
   "cell_type": "code",
   "execution_count": null,
   "id": "b0f9fc02",
   "metadata": {},
   "outputs": [],
   "source": [
    "#family_sizes = rand(Normal(8, 2.0), 10) # truncate positive #s"
   ]
  },
  {
   "cell_type": "code",
   "execution_count": null,
   "id": "dcf88557",
   "metadata": {},
   "outputs": [],
   "source": [
    "# Define the problem with QuickPOMPDPs.kl \n"
   ]
  },
  {
   "cell_type": "markdown",
   "id": "da502a7c",
   "metadata": {},
   "source": [
    "**Environment Parameters**"
   ]
  },
  {
   "cell_type": "code",
   "execution_count": null,
   "id": "1f362087",
   "metadata": {},
   "outputs": [],
   "source": [
    "# Parameters defining the evacuation environment \n",
    "# (rather than creating global variables we \n",
    "# consolodate them into a single EvacuationParams structure)"
   ]
  },
  {
   "cell_type": "code",
   "execution_count": null,
   "id": "ef46f2c9",
   "metadata": {},
   "outputs": [],
   "source": [
    "#trunc(Int, 1.2)"
   ]
  },
  {
   "cell_type": "code",
   "execution_count": null,
   "id": "2b253604",
   "metadata": {},
   "outputs": [],
   "source": [
    "#rand(Normal(8, 2.0), 10)"
   ]
  },
  {
   "cell_type": "code",
   "execution_count": null,
   "id": "0756bdcd",
   "metadata": {},
   "outputs": [],
   "source": [
    "#rand(TruncatedNormal(8, 5, 1, Inf), 10)\n"
   ]
  },
  {
   "cell_type": "code",
   "execution_count": null,
   "id": "ac2be926",
   "metadata": {},
   "outputs": [],
   "source": [
    "#[trunc(Int, x) for x in rand(TruncatedNormal(8, 4.0, 1, Inf), 10)]"
   ]
  },
  {
   "cell_type": "code",
   "execution_count": null,
   "id": "2e0cfd1a",
   "metadata": {},
   "outputs": [],
   "source": [
    "@with_kw struct EvacuationParameters\n",
    "    # family distribution \n",
    "    # visa distribution [should this include time and chairs?]\n",
    "    # convert(Int64, round(1.3, digits=0))\n",
    "    # no magic variable? \n",
    "    family_sizes::Vector{Int} =  [trunc(Int, x) for x in rand(TruncatedNormal(8, 4.0, 1, Inf), 10)] # TODO: truncate positive #s and make int \n",
    "    visa_status::Vector{Int} = [-5, -4, -3, -2, 0, 1, 2, 3, 4, 5] #TODO: map to various status \n",
    "    capacity::Int = 20\n",
    "    time::Int = 60 \n",
    "    size::Tuple{Int, Int} = (length(visa_status), length(family_sizes)) # size of grid \n",
    "#    null_state::State = State(x, 0, x, x) == 0 [how would do this?]\n",
    "end\n"
   ]
  },
  {
   "cell_type": "code",
   "execution_count": null,
   "id": "745adc49",
   "metadata": {},
   "outputs": [],
   "source": [
    "#truncated(rand(Normal(8, 2.0), 10), 0.0, Inf) # truncate positive #s\n",
    "#family_sizes = convert(Int64, round((rand(Normal(8, 2.0), 10), digits=0)"
   ]
  },
  {
   "cell_type": "code",
   "execution_count": null,
   "id": "99864dba",
   "metadata": {},
   "outputs": [],
   "source": [
    "params = EvacuationParameters(); "
   ]
  },
  {
   "cell_type": "code",
   "execution_count": null,
   "id": "f6fc25c6",
   "metadata": {},
   "outputs": [],
   "source": [
    "# params.family_sizes\n",
    "# params.visa_status\n",
    "# params.size\n",
    "# render(mdp) graphing..."
   ]
  },
  {
   "cell_type": "markdown",
   "id": "6cfc04f1",
   "metadata": {},
   "source": [
    "**States**"
   ]
  },
  {
   "cell_type": "code",
   "execution_count": null,
   "id": "0dc6c034",
   "metadata": {},
   "outputs": [],
   "source": [
    "# A state s in the evacuation problem is a discrete set of 4 values: \n",
    "# chairs remaining, time remaining, family size, and visa status\n",
    "struct State\n",
    "    c::Int # chairs remaining \n",
    "    t::Int # time remaining \n",
    "    f::Int # family size \n",
    "    v::Int # visa status \n",
    "end "
   ]
  },
  {
   "cell_type": "code",
   "execution_count": null,
   "id": "f4901555",
   "metadata": {},
   "outputs": [],
   "source": [
    "# The state space S for the evacuation problem is the set of \n",
    "# all combinations \n",
    "# in a grird world it is the set of all (x, y values in the 10X 10 grid...)\n",
    "# a list of all the structs ... \n",
    "𝒮 = [[State(c, t, f, v) for  c=1:params.capacity, t=1:params.time, f=1:params.size[2], v=1:params.size[1]]]"
   ]
  },
  {
   "cell_type": "code",
   "execution_count": null,
   "id": "55e525e9",
   "metadata": {},
   "outputs": [],
   "source": [
    "#size(𝒮[1])\n",
    "#(20, 60, 10, 10)\n",
    "#length(𝒮[1]) = 120000 = 20*60*10*10\n"
   ]
  },
  {
   "cell_type": "markdown",
   "id": "66c65a7b",
   "metadata": {},
   "source": [
    "**Actions**"
   ]
  },
  {
   "cell_type": "code",
   "execution_count": null,
   "id": "4b6c19a8",
   "metadata": {},
   "outputs": [],
   "source": [
    "# the possible actions \\scrs<TAB> are wither accepting or rejecting a family\n",
    "@enum Action REJECT ACCEPT"
   ]
  },
  {
   "cell_type": "code",
   "execution_count": null,
   "id": "ba99998d",
   "metadata": {},
   "outputs": [],
   "source": [
    "#A = [REJECT::Action=0, ACCEPT::Action=1]\n",
    "𝒜 = [REJECT, ACCEPT]"
   ]
  },
  {
   "cell_type": "markdown",
   "id": "e9e8f2b7",
   "metadata": {},
   "source": [
    "**Transition Function** "
   ]
  },
  {
   "cell_type": "code",
   "execution_count": null,
   "id": "725eccef",
   "metadata": {},
   "outputs": [],
   "source": [
    "# The dynamics to transition the agent live in the transition function T(s'|s, a). The transition function \n",
    "function T(s::State, a::Action, s_prime::State)\n",
    "    # if we accept the person, we want to decriment by family size \n",
    "    if a == ACCEPT\n",
    "        s_prime.c = s.c - s.f\n",
    "    end \n",
    "    s_prime.t = s_prime.t - 1 # how to update  time\n",
    "    # maybe make some terminal state when time = 0?\n",
    "    # do I return something here? \n",
    "end\n",
    "    "
   ]
  },
  {
   "cell_type": "markdown",
   "id": "de0bd7a7",
   "metadata": {},
   "source": [
    "**Reward Function**"
   ]
  },
  {
   "cell_type": "code",
   "execution_count": null,
   "id": "5d783684",
   "metadata": {},
   "outputs": [],
   "source": [
    "# The reward functions R(s) and R(s,a) return rewards for a given State. Certain formulations may use R(s) or R(s,a) \n",
    "# do we only compute rewards \n",
    "function R(s::State, a::Action)\n",
    "    # reward is just the visa status times family size i think! assuming \n",
    "    return s.v*s.f\n",
    "end "
   ]
  },
  {
   "cell_type": "code",
   "execution_count": null,
   "id": "feb1df50",
   "metadata": {},
   "outputs": [],
   "source": []
  },
  {
   "cell_type": "code",
   "execution_count": null,
   "id": "2e2f2d39",
   "metadata": {},
   "outputs": [],
   "source": [
    "#render(mdp; show_rewards=true)\n",
    "#@bind γ Slider(0:0.05:1, default=0.95, show_value=true)\n",
    "γ = 0.95"
   ]
  },
  {
   "cell_type": "code",
   "execution_count": null,
   "id": "3d534615",
   "metadata": {},
   "outputs": [],
   "source": [
    "# when time is 0\n",
    "termination(s::State) = s.t == 0"
   ]
  },
  {
   "cell_type": "markdown",
   "id": "cbe06a74",
   "metadata": {},
   "source": [
    "**MDP Formulation**"
   ]
  },
  {
   "cell_type": "code",
   "execution_count": null,
   "id": "cbe6dbf8",
   "metadata": {},
   "outputs": [],
   "source": [
    "# We define the Airport abstract MDP type so we can reference it in other methods.\n",
    "abstract type Evacuation <: MDP{State, Action} end"
   ]
  },
  {
   "cell_type": "code",
   "execution_count": null,
   "id": "ba21c00a",
   "metadata": {},
   "outputs": [],
   "source": [
    "mdp = QuickMDP(Evacuation,\n",
    "    states       = 𝒮,\n",
    "    actions      = 𝒜,\n",
    "    transition   = T,\n",
    "    reward       = R,\n",
    "    discount     = γ,\n",
    "    initialstate = 𝒮,\n",
    "    isterminal   = termination,\n",
    "    render       = render\n",
    "    );"
   ]
  },
  {
   "cell_type": "code",
   "execution_count": null,
   "id": "55c75084",
   "metadata": {},
   "outputs": [],
   "source": []
  },
  {
   "cell_type": "code",
   "execution_count": null,
   "id": "1b8f2a49",
   "metadata": {},
   "outputs": [],
   "source": [
    "render(mdp)"
   ]
  },
  {
   "cell_type": "code",
   "execution_count": null,
   "id": "43c0928a",
   "metadata": {},
   "outputs": [],
   "source": [
    "solver = ValueIterationSolver(max_iterations=30);"
   ]
  },
  {
   "cell_type": "markdown",
   "id": "ff124440",
   "metadata": {},
   "source": [
    "**Policy**"
   ]
  },
  {
   "cell_type": "code",
   "execution_count": null,
   "id": "01025f10",
   "metadata": {},
   "outputs": [],
   "source": [
    "# Set discount factor to variable gamma and solve the MDP to obptain policy pi mapping states to actions a"
   ]
  },
  {
   "cell_type": "code",
   "execution_count": null,
   "id": "a6093654",
   "metadata": {},
   "outputs": [],
   "source": [
    "policy = solve(solver, mdp)"
   ]
  },
  {
   "cell_type": "code",
   "execution_count": null,
   "id": "921ec8a9",
   "metadata": {},
   "outputs": [],
   "source": []
  }
 ],
 "metadata": {
  "kernelspec": {
   "display_name": "Julia 1.6.2",
   "language": "julia",
   "name": "julia-1.6"
  },
  "language_info": {
   "file_extension": ".jl",
   "mimetype": "application/julia",
   "name": "julia",
   "version": "1.6.2"
  }
 },
 "nbformat": 4,
 "nbformat_minor": 5
}
