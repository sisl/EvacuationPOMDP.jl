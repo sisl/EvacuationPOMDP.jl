{
 "cells": [
  {
   "cell_type": "code",
   "execution_count": 28,
   "id": "a1b1de2b",
   "metadata": {},
   "outputs": [],
   "source": [
    "#import Pkg\n",
    "#Pkg.add(\"POMDPs\")\n",
    "using POMDPs # for MDP type\n",
    "# import Pkg\n",
    "#Pkg.add(\"DiscreteValueIteration\")\n",
    "#Pkg.add(\"Parameters\")\n",
    "#Pkg.add(\"Random\")\n",
    "#Pkg.add(\"Plots\")\n",
    "#Pkg.add(\"POMDPModelTools\")\n",
    "#Pkg.add(\"POMDPPolicies\")\n",
    "using DiscreteValueIteration\n",
    "using POMDPPolicies\n",
    "using POMDPModelTools\n",
    "using Parameters\n",
    "using Random\n",
    "using Plots; default(fontfamily=\"Computer Modern\", framestyle=:box) # LaTex-style"
   ]
  },
  {
   "cell_type": "code",
   "execution_count": 7,
   "id": "97108d34",
   "metadata": {},
   "outputs": [],
   "source": [
    "# Define the problem with QuickPOMPDPs.kl "
   ]
  },
  {
   "cell_type": "code",
   "execution_count": null,
   "id": "c5cdaee5",
   "metadata": {},
   "outputs": [],
   "source": [
    "@with_kw struct EvacuationParameters\n",
    "    "
   ]
  },
  {
   "cell_type": "code",
   "execution_count": null,
   "id": "3d289d6b",
   "metadata": {},
   "outputs": [],
   "source": [
    "**State**"
   ]
  },
  {
   "cell_type": "code",
   "execution_count": 30,
   "id": "483092e4",
   "metadata": {},
   "outputs": [],
   "source": [
    "# A state \n",
    "struct State\n",
    "    c::Int # chairs remaining \n",
    "    t::Int # time remaining \n",
    "    f::Int # family size \n",
    "    v::Int # visa status \n",
    "end "
   ]
  },
  {
   "cell_type": "code",
   "execution_count": null,
   "id": "46c4bf4b",
   "metadata": {},
   "outputs": [],
   "source": []
  },
  {
   "cell_type": "code",
   "execution_count": 33,
   "id": "6d1bbce9",
   "metadata": {},
   "outputs": [],
   "source": []
  },
  {
   "cell_type": "code",
   "execution_count": 31,
   "id": "672cbb00",
   "metadata": {},
   "outputs": [],
   "source": [
    "# Initialize the state space ? \n",
    "# in a grird world it is the set of all (x, y values in the 10X 10 grid...)\n",
    "# a list of all the structs ... \n",
    "# S = [State(c, t, f, v) for ]"
   ]
  },
  {
   "cell_type": "markdown",
   "id": "92ec0498",
   "metadata": {},
   "source": [
    "**Actions**"
   ]
  },
  {
   "cell_type": "code",
   "execution_count": 36,
   "id": "e3d52439",
   "metadata": {},
   "outputs": [
    {
     "name": "stderr",
     "output_type": "stream",
     "text": [
      "WARNING: redefinition of constant REJECT. This may fail, cause incorrect answers, or produce other errors.\n",
      "WARNING: redefinition of constant ACCEPT. This may fail, cause incorrect answers, or produce other errors.\n"
     ]
    }
   ],
   "source": [
    "# the possible actions \\scrs<TAB> are wither accepting or rejecting a family\n",
    "@enum Action REJECT ACCEPT"
   ]
  },
  {
   "cell_type": "code",
   "execution_count": 42,
   "id": "9b316364",
   "metadata": {},
   "outputs": [
    {
     "data": {
      "text/plain": [
       "Enum Action:\n",
       "REJECT = 0\n",
       "ACCEPT = 1"
      ]
     },
     "execution_count": 42,
     "metadata": {},
     "output_type": "execute_result"
    }
   ],
   "source": [
    "#A = [REJECT::Action=0, ACCEPT::Action=1]\n",
    "A = Action "
   ]
  },
  {
   "cell_type": "code",
   "execution_count": 43,
   "id": "44eafd05",
   "metadata": {},
   "outputs": [
    {
     "data": {
      "text/plain": [
       "2-element Vector{Action}:\n",
       " REJECT::Action = 0\n",
       " ACCEPT::Action = 1"
      ]
     },
     "execution_count": 43,
     "metadata": {},
     "output_type": "execute_result"
    }
   ],
   "source": [
    "A = [REJECT, ACCEPT]"
   ]
  },
  {
   "cell_type": "code",
   "execution_count": 44,
   "id": "5ea75ff6",
   "metadata": {},
   "outputs": [],
   "source": [
    "# We define the Airport abstract MDP type so we can reference it in other methods.\n",
    "abstract type Airport <: MDP{State, Action} end"
   ]
  },
  {
   "cell_type": "code",
   "execution_count": 45,
   "id": "da2aff97",
   "metadata": {},
   "outputs": [
    {
     "data": {
      "text/plain": [
       "Airport"
      ]
     },
     "execution_count": 45,
     "metadata": {},
     "output_type": "execute_result"
    }
   ],
   "source": [
    "Airport"
   ]
  },
  {
   "cell_type": "markdown",
   "id": "f77c0f02",
   "metadata": {},
   "source": [
    "**Transition Function** "
   ]
  },
  {
   "cell_type": "code",
   "execution_count": null,
   "id": "4ba68fc0",
   "metadata": {},
   "outputs": [],
   "source": []
  }
 ],
 "metadata": {
  "kernelspec": {
   "display_name": "Julia 1.6.2",
   "language": "julia",
   "name": "julia-1.6"
  },
  "language_info": {
   "file_extension": ".jl",
   "mimetype": "application/julia",
   "name": "julia",
   "version": "1.6.2"
  }
 },
 "nbformat": 4,
 "nbformat_minor": 5
}
