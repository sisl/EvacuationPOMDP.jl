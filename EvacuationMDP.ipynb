{
 "cells": [
  {
   "cell_type": "code",
   "execution_count": 1,
   "id": "d1439bc0",
   "metadata": {},
   "outputs": [],
   "source": [
    "using POMDPs # for MDP type\n",
    "using DiscreteValueIteration\n",
    "using POMDPPolicies\n",
    "using POMDPModelTools #for sparse cat \n",
    "using Parameters\n",
    "using Random\n",
    "using Plots; default(fontfamily=\"Computer Modern\", framestyle=:box) # LaTex-style\n",
    "using QuickPOMDPs\n",
    "using Distributions \n",
    "#using PlotlyJS\n",
    "using LinearAlgebra\n",
    "using POMDPSimulators"
   ]
  },
  {
   "cell_type": "code",
   "execution_count": 2,
   "id": "1775e911",
   "metadata": {},
   "outputs": [
    {
     "data": {
      "text/plain": [
       "MersenneTwister(12648430)"
      ]
     },
     "execution_count": 2,
     "metadata": {},
     "output_type": "execute_result"
    }
   ],
   "source": [
    "Random.seed!(0xC0FFEE)"
   ]
  },
  {
   "cell_type": "markdown",
   "id": "a21058cf",
   "metadata": {},
   "source": [
    "**States**"
   ]
  },
  {
   "cell_type": "code",
   "execution_count": 3,
   "id": "75e654a0",
   "metadata": {},
   "outputs": [],
   "source": [
    "# A state s in the evacuation problem is a discrete set of 4 values: \n",
    "# chairs remaining, time remaining, family size, and visa status\n",
    "struct State\n",
    "    c::Int # chairs remaining \n",
    "    t::Int # time remaining \n",
    "    f::Int # family size \n",
    "    v::Int # visa status \n",
    "end "
   ]
  },
  {
   "cell_type": "markdown",
   "id": "8897ebc7",
   "metadata": {},
   "source": [
    "**Environment Parameters**"
   ]
  },
  {
   "cell_type": "code",
   "execution_count": null,
   "id": "bfb019dd",
   "metadata": {},
   "outputs": [],
   "source": [
    "# # OLD ENVIRONMENT PARAMETERS THAT WORKED before adding weights etd. \n",
    "# @with_kw struct EvacuationParameters\n",
    "#     # could add threshold here \n",
    "#     family_sizes::Vector{Int} = [1, 2, 3, 4, 5, 6, 7, 8, 9, 10] # set with no repeats \n",
    "#     # p_family_sizes::Vector{Float} = # must sum to 1 \n",
    "#     visa_status::Vector{Int} = [-5, -4, -3, -2, -1, 1, 2, 3, 4, 5] #TODO: map to various status \n",
    "#     # p_visa_status::Vector{Float} = # must sum to 1 \n",
    "#     capacity::Int = 60\n",
    "#     time::Int = 60\n",
    "#     size::Tuple{Int, Int} = (length(visa_status), length(family_sizes)) # size of grid \n",
    "#     p_transition::Real = 0.8 # don't we always transition into this since time moves forward? I'm confused... \n",
    "#     null_state::State = State(-1, -1, -1 ,-1) # is there someway to do this???\n",
    "# end\n"
   ]
  },
  {
   "cell_type": "code",
   "execution_count": 4,
   "id": "59361f1c",
   "metadata": {},
   "outputs": [
    {
     "data": {
      "text/plain": [
       "EvacuationParameters"
      ]
     },
     "execution_count": 4,
     "metadata": {},
     "output_type": "execute_result"
    }
   ],
   "source": [
    "@with_kw struct EvacuationParameters\n",
    "    family_sizes::Vector{Int} = [1, 2, 3, 4, 5, 6, 7, 8, 9, 10] # set with no repeats \n",
    "    family_prob = [1/25, 1/25, 3/25, 4/25, 5/25, 4/25, 3/25, 2/25, 1/25, 1/25]\n",
    "    visa_status::Vector{Int} = [-5, -4, -3, -2, -1, 1, 2, 3, 4, 5] #TODO: map to various status \n",
    "    visa_prob = [.05, .05, .5, .1, .15, .05, .05, .05]\n",
    "    # p_visa_status::Vector{Float} = # must sum to 1 \n",
    "    capacity::Int = 60 # keeping these both as integers of 20 for now. \n",
    "    time::Int = 60\n",
    "    size::Tuple{Int, Int} = (length(visa_status), length(family_sizes)) # size of grid \n",
    "    p_transition::Real = 0.8 # don't we always transition into this since time moves forward? I'm confused... \n",
    "    null_state::State = State(-1, -1, -1 ,-1) # is there someway to do this???\n",
    "    accept_prob = [.80, .20]\n",
    "    reject_prob = [1.0]\n",
    "end\n"
   ]
  },
  {
   "cell_type": "code",
   "execution_count": 5,
   "id": "27f4df6b",
   "metadata": {},
   "outputs": [],
   "source": [
    "params = EvacuationParameters(); "
   ]
  },
  {
   "cell_type": "code",
   "execution_count": 6,
   "id": "8d7ed9cc",
   "metadata": {},
   "outputs": [
    {
     "name": "stdout",
     "output_type": "stream",
     "text": [
      "number_states = params.capacity * params.time * (size(params.family_sizes))[1] * (size(params.visa_status))[1] = 360000\n"
     ]
    },
    {
     "data": {
      "text/plain": [
       "360000"
      ]
     },
     "execution_count": 6,
     "metadata": {},
     "output_type": "execute_result"
    }
   ],
   "source": [
    "@show number_states = params.capacity * params.time * size(params.family_sizes)[1] * size(params.visa_status)[1]"
   ]
  },
  {
   "cell_type": "code",
   "execution_count": 7,
   "id": "84038044",
   "metadata": {},
   "outputs": [
    {
     "data": {
      "text/plain": [
       "372101-element Vector{Any}:\n",
       " State(0, 0, 1, -5)\n",
       " State(0, 0, 1, -4)\n",
       " State(0, 0, 1, -3)\n",
       " State(0, 0, 1, -2)\n",
       " State(0, 0, 1, -1)\n",
       " State(0, 0, 1, 1)\n",
       " State(0, 0, 1, 2)\n",
       " State(0, 0, 1, 3)\n",
       " State(0, 0, 1, 4)\n",
       " State(0, 0, 1, 5)\n",
       " State(0, 0, 2, -5)\n",
       " State(0, 0, 2, -4)\n",
       " State(0, 0, 2, -3)\n",
       " ⋮\n",
       " State(60, 60, 9, 5)\n",
       " State(60, 60, 10, -5)\n",
       " State(60, 60, 10, -4)\n",
       " State(60, 60, 10, -3)\n",
       " State(60, 60, 10, -2)\n",
       " State(60, 60, 10, -1)\n",
       " State(60, 60, 10, 1)\n",
       " State(60, 60, 10, 2)\n",
       " State(60, 60, 10, 3)\n",
       " State(60, 60, 10, 4)\n",
       " State(60, 60, 10, 5)\n",
       " State(-1, -1, -1, -1)"
      ]
     },
     "execution_count": 7,
     "metadata": {},
     "output_type": "execute_result"
    }
   ],
   "source": [
    "# The state space S for the evacuation problem is the set of all combinations \n",
    "𝒮 = []\n",
    "for c in 0:params.capacity # capacity ends at 0 \n",
    "    for t in 0:params.time # time ends at 0 \n",
    "        for f in params.family_sizes # family size here we should have the ACTUAL family sizes \n",
    "            for v in params.visa_status # actual visa statuses \n",
    "                new = State(c, t, f, v) \n",
    "                𝒮 = [𝒮; new]\n",
    "            end\n",
    "        end        \n",
    "    end\n",
    "end\n",
    "𝒮 = [𝒮; params.null_state]\n",
    "\n",
    "\n"
   ]
  },
  {
   "cell_type": "markdown",
   "id": "f9a0c0d5",
   "metadata": {},
   "source": [
    "**Actions**"
   ]
  },
  {
   "cell_type": "code",
   "execution_count": 8,
   "id": "e0ce57ab",
   "metadata": {},
   "outputs": [],
   "source": [
    "# the possible actions are whether accept or reject a family at the gate \n",
    "@enum Action REJECT ACCEPT"
   ]
  },
  {
   "cell_type": "code",
   "execution_count": 9,
   "id": "d07469a5",
   "metadata": {},
   "outputs": [
    {
     "data": {
      "text/plain": [
       "2-element Vector{Action}:\n",
       " REJECT::Action = 0\n",
       " ACCEPT::Action = 1"
      ]
     },
     "execution_count": 9,
     "metadata": {},
     "output_type": "execute_result"
    }
   ],
   "source": [
    "𝒜 = [REJECT, ACCEPT]"
   ]
  },
  {
   "cell_type": "code",
   "execution_count": 10,
   "id": "839bbf8f",
   "metadata": {},
   "outputs": [
    {
     "data": {
      "text/plain": [
       "validtime (generic function with 1 method)"
      ]
     },
     "execution_count": 10,
     "metadata": {},
     "output_type": "execute_result"
    }
   ],
   "source": [
    "# only inbounds if room for the family [assuming would not separate even though might]\n",
    "# and if time is available to enter the airport \n",
    "validtime(s::State) = 0 < s.t "
   ]
  },
  {
   "cell_type": "code",
   "execution_count": 11,
   "id": "32351952",
   "metadata": {},
   "outputs": [
    {
     "data": {
      "text/plain": [
       "validcapacity (generic function with 1 method)"
      ]
     },
     "execution_count": 11,
     "metadata": {},
     "output_type": "execute_result"
    }
   ],
   "source": [
    "validcapacity(s::State) = 0 ≤ s.c # maybe try back to 0 "
   ]
  },
  {
   "cell_type": "markdown",
   "id": "9be60758",
   "metadata": {},
   "source": [
    "**Transition Function** "
   ]
  },
  {
   "cell_type": "code",
   "execution_count": 14,
   "id": "bf68a83a",
   "metadata": {},
   "outputs": [
    {
     "data": {
      "text/plain": [
       "T (generic function with 1 method)"
      ]
     },
     "execution_count": 14,
     "metadata": {},
     "output_type": "execute_result"
    }
   ],
   "source": [
    "#**************************OLD TRANSITION FUNCTION JUST KEEPING CUZ IT WORKED **************************\n",
    "# just using it to debug other parts of the code right now \n",
    "function T(s::State, a::Action)\n",
    "    next_states = []\n",
    "    if validtime(s) \n",
    "        \n",
    "        f′ = rand(params.family_sizes) # pull according to those probabilities \n",
    "        v′ = rand(params.visa_status) # TODO: possibly make this weighted in some way \n",
    "        # keep pushing to next states and have a bigger associated probability mass with those possible next states. \n",
    "        # need a for loop iterating over all family sizes and and visa statuses \n",
    "        \n",
    "        if a == ACCEPT \n",
    "            next_state_accept = State(s.c - s.f, s.t - 1, f′, v′) # they get seats\n",
    "            next_state_reject = State(s.c, s.t - 1, f′, v′)\n",
    "            push!(next_states, next_state_accept)\n",
    "            push!(next_states, next_state_reject)\n",
    "            if !validcapacity(next_state_accept) \n",
    "                probabilities = [0, 1] #no room for full family :( so we make probability 0 to accept and 1 reject\n",
    "            else\n",
    "                probabilities = [.80, .20]\n",
    "            end\n",
    "\n",
    "        elseif a == REJECT\n",
    "            probabilities = [1.0]\n",
    "            push!(next_states, State(s.c, s.t - 1, f′, v′))\n",
    "        end\n",
    "    else\n",
    "        push!(next_states,params.null_state)\n",
    "        probabilities = [1]\n",
    "    end\n",
    "    return SparseCat(next_states, probabilities)\n",
    "end\n"
   ]
  },
  {
   "cell_type": "code",
   "execution_count": 13,
   "id": "e10413ef",
   "metadata": {},
   "outputs": [
    {
     "ename": "LoadError",
     "evalue": "syntax: \"if\" at In[13]:13 expected \"end\", got \"else\"",
     "output_type": "error",
     "traceback": [
      "syntax: \"if\" at In[13]:13 expected \"end\", got \"else\"",
      "",
      "Stacktrace:",
      " [1] top-level scope",
      "   @ In[13]:31",
      " [2] eval",
      "   @ ./boot.jl:360 [inlined]",
      " [3] include_string(mapexpr::typeof(REPL.softscope), mod::Module, code::String, filename::String)",
      "   @ Base ./loading.jl:1116"
     ]
    }
   ],
   "source": [
    "#***** DEBUG WEDNESDAY NIGHT******\n",
    "\n",
    "# function T(s::State, a::Action)\n",
    "#     #c::Int # chairs remaining \n",
    "#     #t::Int # time remaining \n",
    "#     #f::Int # family size \n",
    "#     #v::Int # visa status \n",
    "#     next_states = []\n",
    "#     probabilities = [] \n",
    "\n",
    "#     if validtime(s) \n",
    "        \n",
    "#         #if accept\n",
    "#         if a == ACCEPT \n",
    "#             if !validcapacity(next_state_accept) \n",
    "#                 prob = [0,1] #no room for full family :( so we make probability 0 to accept and 1 reject\n",
    "#             else\n",
    "#                 prob = params.accept_prob\n",
    "            \n",
    "#             for f in length(params.family_size)\n",
    "#                 for v in length(params.visa_status)\n",
    "#                     #if get on plane\n",
    "#                     push!(next_states, State(s.c - s.f, s.t - 1, params.family_sizes[f], params.visa_status[v]))\n",
    "#                     push!(probabilities, prob[1] * visa_prob[v] * family_prob[f])\n",
    "#                     #if not\n",
    "#                     push!(next_states, State(s.c, s.t - 1, params.family_sizes[f], params.visa_status[v]))\n",
    "#                     push!(probabilities, prob[2] * visa_prob[v] * family_prob[f])                    \n",
    "#                 end\n",
    "#             end\n",
    "        \n",
    "                \n",
    "                \n",
    "#         else   #if reject     \n",
    "#             for f in length(params.family_size)\n",
    "#                 for v in length(params.visa_status)\n",
    "#                     push!(next_states, State(s.c, s.t - 1, params.family_sizes[f], params.visa_status[v]))\n",
    "#                     push!(probabilities, params.reject_prob[1] * visa_prob[v] * family_prob[f])    \n",
    "#                 end\n",
    "#             end            \n",
    "#     end                \n",
    "                    \n",
    "#     return SparseCat(next_states, probabilities)\n",
    "# end\n",
    "        "
   ]
  },
  {
   "cell_type": "markdown",
   "id": "9b7629b2",
   "metadata": {},
   "source": [
    "**Reward Function**"
   ]
  },
  {
   "cell_type": "code",
   "execution_count": 15,
   "id": "c0022d74",
   "metadata": {},
   "outputs": [
    {
     "data": {
      "text/plain": [
       "R (generic function with 1 method)"
      ]
     },
     "execution_count": 15,
     "metadata": {},
     "output_type": "execute_result"
    }
   ],
   "source": [
    "function R(s::State, a::Action)\n",
    "    # reward is just the visa status times family size i think! \n",
    "    if a == ACCEPT\n",
    "        return s.v*s.f\n",
    "    end\n",
    "    return 0\n",
    "end "
   ]
  },
  {
   "cell_type": "code",
   "execution_count": 16,
   "id": "2179f471",
   "metadata": {},
   "outputs": [
    {
     "data": {
      "text/plain": [
       "0.95"
      ]
     },
     "execution_count": 16,
     "metadata": {},
     "output_type": "execute_result"
    }
   ],
   "source": [
    "#render(mdp; show_rewards=true)\n",
    "#@bind γ Slider(0:0.05:1, default=0.95, show_value=true)\n",
    "# hard code for now. maybe come back to it. \n",
    "γ = 0.95"
   ]
  },
  {
   "cell_type": "code",
   "execution_count": 17,
   "id": "00c36682",
   "metadata": {},
   "outputs": [
    {
     "data": {
      "text/plain": [
       "termination (generic function with 1 method)"
      ]
     },
     "execution_count": 17,
     "metadata": {},
     "output_type": "execute_result"
    }
   ],
   "source": [
    "termination(s::State)= s == params.null_state # change to 1 or the other "
   ]
  },
  {
   "cell_type": "markdown",
   "id": "4f975135",
   "metadata": {},
   "source": [
    "**MDP Formulation**"
   ]
  },
  {
   "cell_type": "code",
   "execution_count": 18,
   "id": "aa4058f8",
   "metadata": {},
   "outputs": [],
   "source": [
    "# We define the Airport abstract MDP type so we can reference it in other methods.\n",
    "abstract type Evacuation <: MDP{State, Action} end"
   ]
  },
  {
   "cell_type": "code",
   "execution_count": 19,
   "id": "6f0ad105",
   "metadata": {},
   "outputs": [
    {
     "data": {
      "text/plain": [
       "State(60, 60, 9, -1)"
      ]
     },
     "execution_count": 19,
     "metadata": {},
     "output_type": "execute_result"
    }
   ],
   "source": [
    "c_initial = params.capacity\n",
    "t_initial = params.time\n",
    "f_initial = rand(params.family_sizes, 1)[1]\n",
    "v_initial = rand(params.visa_status, 1)[1]\n",
    "\n",
    "initial_state = State(c_initial, t_initial, f_initial, v_initial)"
   ]
  },
  {
   "cell_type": "code",
   "execution_count": 20,
   "id": "028c9b87",
   "metadata": {},
   "outputs": [
    {
     "data": {
      "text/plain": [
       "1-element Vector{State}:\n",
       " State(60, 60, 9, -1)"
      ]
     },
     "execution_count": 20,
     "metadata": {},
     "output_type": "execute_result"
    }
   ],
   "source": [
    "statetype = typeof(initial_state)\n",
    "initialstate_array = [initial_state]"
   ]
  },
  {
   "cell_type": "code",
   "execution_count": 22,
   "id": "34895203",
   "metadata": {},
   "outputs": [],
   "source": [
    "mdp = QuickMDP(Evacuation,\n",
    "    states       = 𝒮,\n",
    "    actions      = 𝒜,\n",
    "    transition   = T,\n",
    "    reward       = R,\n",
    "    discount     = γ,\n",
    "    initialstate = initialstate_array, \n",
    "    isterminal   = termination,\n",
    "    render       = render,\n",
    "    statetype    = statetype \n",
    "    );"
   ]
  },
  {
   "cell_type": "code",
   "execution_count": 23,
   "id": "2dec2621",
   "metadata": {},
   "outputs": [],
   "source": [
    "solver = ValueIterationSolver(max_iterations=30, belres=1e-6, verbose=true);"
   ]
  },
  {
   "cell_type": "markdown",
   "id": "6d829758",
   "metadata": {},
   "source": [
    "**Policy**"
   ]
  },
  {
   "cell_type": "code",
   "execution_count": 24,
   "id": "7dbbd783",
   "metadata": {},
   "outputs": [
    {
     "name": "stdout",
     "output_type": "stream",
     "text": [
      "[Iteration 1   ] residual:        363 | iteration runtime:   1394.585 ms, (      1.39 s total)\n",
      "[Iteration 2   ] residual:        133 | iteration runtime:   1298.927 ms, (      2.69 s total)\n",
      "[Iteration 3   ] residual:        134 | iteration runtime:   1323.886 ms, (      4.02 s total)\n",
      "[Iteration 4   ] residual:        147 | iteration runtime:   1304.364 ms, (      5.32 s total)\n",
      "[Iteration 5   ] residual:        135 | iteration runtime:   1320.498 ms, (      6.64 s total)\n",
      "[Iteration 6   ] residual:        132 | iteration runtime:   1293.174 ms, (      7.94 s total)\n",
      "[Iteration 7   ] residual:        137 | iteration runtime:   1286.505 ms, (      9.22 s total)\n",
      "[Iteration 8   ] residual:        131 | iteration runtime:   1280.487 ms, (      10.5 s total)\n",
      "[Iteration 9   ] residual:        147 | iteration runtime:   1300.546 ms, (      11.8 s total)\n",
      "[Iteration 10  ] residual:        143 | iteration runtime:   1297.982 ms, (      13.1 s total)\n",
      "[Iteration 11  ] residual:        134 | iteration runtime:   1312.226 ms, (      14.4 s total)\n",
      "[Iteration 12  ] residual:        127 | iteration runtime:   1286.255 ms, (      15.7 s total)\n",
      "[Iteration 13  ] residual:        130 | iteration runtime:   1310.568 ms, (        17 s total)\n",
      "[Iteration 14  ] residual:        134 | iteration runtime:   1306.093 ms, (      18.3 s total)\n",
      "[Iteration 15  ] residual:        144 | iteration runtime:   1299.255 ms, (      19.6 s total)\n",
      "[Iteration 16  ] residual:        151 | iteration runtime:   1310.392 ms, (      20.9 s total)\n",
      "[Iteration 17  ] residual:        146 | iteration runtime:   1303.767 ms, (      22.2 s total)\n",
      "[Iteration 18  ] residual:        130 | iteration runtime:   1305.531 ms, (      23.5 s total)\n",
      "[Iteration 19  ] residual:        135 | iteration runtime:   1289.168 ms, (      24.8 s total)\n",
      "[Iteration 20  ] residual:        140 | iteration runtime:   1291.909 ms, (      26.1 s total)\n",
      "[Iteration 21  ] residual:        135 | iteration runtime:   1304.480 ms, (      27.4 s total)\n",
      "[Iteration 22  ] residual:        156 | iteration runtime:   1302.708 ms, (      28.7 s total)\n",
      "[Iteration 23  ] residual:        138 | iteration runtime:   1297.420 ms, (        30 s total)\n",
      "[Iteration 24  ] residual:        136 | iteration runtime:   1308.877 ms, (      31.3 s total)\n",
      "[Iteration 25  ] residual:        129 | iteration runtime:   1314.306 ms, (      32.6 s total)\n",
      "[Iteration 26  ] residual:        135 | iteration runtime:   1290.106 ms, (      33.9 s total)\n",
      "[Iteration 27  ] residual:        144 | iteration runtime:   1312.419 ms, (      35.2 s total)\n",
      "[Iteration 28  ] residual:        134 | iteration runtime:   1300.007 ms, (      36.5 s total)\n",
      "[Iteration 29  ] residual:        136 | iteration runtime:   1311.556 ms, (      37.9 s total)\n",
      "[Iteration 30  ] residual:        135 | iteration runtime:   1320.684 ms, (      39.2 s total)\n"
     ]
    },
    {
     "data": {
      "text/plain": [
       "ValueIterationPolicy:\n",
       " State(0, 0, 1, -5) -> REJECT\n",
       " State(0, 0, 1, -4) -> REJECT\n",
       " State(0, 0, 1, -3) -> REJECT\n",
       " State(0, 0, 1, -2) -> REJECT\n",
       " State(0, 0, 1, -1) -> REJECT\n",
       " State(0, 0, 1, 1) -> ACCEPT\n",
       " State(0, 0, 1, 2) -> ACCEPT\n",
       " State(0, 0, 1, 3) -> ACCEPT\n",
       " State(0, 0, 1, 4) -> ACCEPT\n",
       " State(0, 0, 1, 5) -> ACCEPT\n",
       " State(0, 0, 2, -5) -> REJECT\n",
       " State(0, 0, 2, -4) -> REJECT\n",
       " State(0, 0, 2, -3) -> REJECT\n",
       " State(0, 0, 2, -2) -> REJECT\n",
       " State(0, 0, 2, -1) -> REJECT\n",
       " State(0, 0, 2, 1) -> ACCEPT\n",
       " State(0, 0, 2, 2) -> ACCEPT\n",
       " State(0, 0, 2, 3) -> ACCEPT\n",
       " State(0, 0, 2, 4) -> ACCEPT\n",
       " State(0, 0, 2, 5) -> ACCEPT\n",
       " State(0, 0, 3, -5) -> REJECT\n",
       " State(0, 0, 3, -4) -> REJECT\n",
       " State(0, 0, 3, -3) -> REJECT\n",
       " State(0, 0, 3, -2) -> REJECT\n",
       " State(0, 0, 3, -1) -> REJECT\n",
       " …"
      ]
     },
     "execution_count": 24,
     "metadata": {},
     "output_type": "execute_result"
    }
   ],
   "source": [
    "policy = solve(solver, mdp) "
   ]
  },
  {
   "cell_type": "markdown",
   "id": "d0b557df",
   "metadata": {},
   "source": [
    "**Basesline Policies**"
   ]
  },
  {
   "cell_type": "code",
   "execution_count": 26,
   "id": "a74102f8",
   "metadata": {},
   "outputs": [
    {
     "data": {
      "text/plain": [
       "AcceptAll()"
      ]
     },
     "execution_count": 26,
     "metadata": {},
     "output_type": "execute_result"
    }
   ],
   "source": [
    "\"\"\"AcceptAll\"\"\"\n",
    "struct AcceptAll <: Policy end\n",
    "function POMDPs.action(::AcceptAll, s::State)\n",
    "    return s.c >= 0 ? ACCEPT : REJECT\n",
    "end;\n",
    "AcceptAll_policy = AcceptAll()\n",
    "#simulations(AcceptAll_policy, mdp, 10) how it will be called "
   ]
  },
  {
   "cell_type": "code",
   "execution_count": 28,
   "id": "93128860",
   "metadata": {},
   "outputs": [
    {
     "data": {
      "text/plain": [
       "AMCITS()"
      ]
     },
     "execution_count": 28,
     "metadata": {},
     "output_type": "execute_result"
    }
   ],
   "source": [
    "\"\"\"AMCITS\"\"\"\n",
    "struct AMCITS <: Policy end\n",
    "function POMDPs.action(::AMCITS, s::State)\n",
    "    return s.v == 5 ? ACCEPT : REJECT\n",
    "end;\n",
    "AMCITS_policy = AMCITS()\n",
    "\n",
    "# simulations(AMCITS_policy, mdp, 10) how it will be called "
   ]
  },
  {
   "cell_type": "code",
   "execution_count": 29,
   "id": "16d547fb",
   "metadata": {},
   "outputs": [
    {
     "data": {
      "text/plain": [
       "SIV_AMCITS()"
      ]
     },
     "execution_count": 29,
     "metadata": {},
     "output_type": "execute_result"
    }
   ],
   "source": [
    "\"\"\"SIV_AMCITS \"\"\"\n",
    "struct SIV_AMCITS <: Policy end\n",
    "function POMDPs.action(::SIV_AMCITS, s::State)\n",
    "    return (s.v == 5 || s.v == 4) ? ACCEPT : REJECT\n",
    "end;\n",
    "SIV_AMCITS_policy = SIV_AMCITS()\n",
    "\n",
    "\n",
    "# simulations(SIV_AMCITS_policy, mdp, 10) how it will be called "
   ]
  },
  {
   "cell_type": "code",
   "execution_count": 61,
   "id": "54e5614c",
   "metadata": {},
   "outputs": [
    {
     "data": {
      "text/plain": [
       "AfterThresholdAMCITS\n",
       "  threshold: Int64 20\n"
      ]
     },
     "execution_count": 61,
     "metadata": {},
     "output_type": "execute_result"
    }
   ],
   "source": [
    "\"\"\"AfterThresholdAMCITS\"\"\"\n",
    "# if want to change this need to make it a mutable struct \n",
    "@with_kw struct AfterThresholdAMCITS <: Policy\n",
    "    threshold = 20 # could define this in parameters \n",
    "end\n",
    "function POMDPs.action(::AfterThresholdAMCITS, s::State)\n",
    "    return (s.t <= 20 && s.v == 10) ? ACCEPT : REJECT # make the threshold a variable \n",
    "end;\n",
    "        \n",
    "SIV_AfterThresholdAMCITS_policy = AfterThresholdAMCITS()\n",
    "# simulations(SIV_AfterThresholdAMCITS_policy, mdp, 10)\n"
   ]
  },
  {
   "cell_type": "code",
   "execution_count": 62,
   "id": "26a8cd1d",
   "metadata": {},
   "outputs": [
    {
     "data": {
      "text/plain": [
       "AfterThresholdAMCITS\n",
       "  threshold: Int64 20\n"
      ]
     },
     "execution_count": 62,
     "metadata": {},
     "output_type": "execute_result"
    }
   ],
   "source": [
    "\"\"\"BeforeThresholdAMCITS\"\"\"\n",
    "@with_kw struct BeforeThresholdAMCITS <: Policy\n",
    "    threshold = 20\n",
    "end\n",
    "# SOMETHING WRONG HERE... with the policy. want regular until threshold and then only amcits \n",
    "function POMDPs.action(::BeforeThresholdAMCITS, s::State)\n",
    "    return (s.t <= 20 && s.v == 10) ? ACCEPT : REJECT # make the threshold a variable \n",
    "end;\n",
    "        \n",
    "BeforeThresholdAMCITS_policy = AfterThresholdAMCITS()\n",
    "# simulations(BeforeThresholdAMCITS_policy, mdp, 10)\n",
    "# could play with changing this threshold\n"
   ]
  },
  {
   "cell_type": "markdown",
   "id": "50ef9852",
   "metadata": {},
   "source": [
    "**Simulation**"
   ]
  },
  {
   "cell_type": "code",
   "execution_count": 63,
   "id": "a2d0fba8",
   "metadata": {},
   "outputs": [
    {
     "data": {
      "text/plain": [
       "simulation (generic function with 1 method)"
      ]
     },
     "execution_count": 63,
     "metadata": {},
     "output_type": "execute_result"
    }
   ],
   "source": [
    "function simulation(policy, mdp)\n",
    "    sim = RolloutSimulator()\n",
    "    r = simulate(sim, mdp, policy) #accumulated discounted reward \n",
    "    return r\n",
    "end"
   ]
  },
  {
   "cell_type": "code",
   "execution_count": 64,
   "id": "cca30a79",
   "metadata": {},
   "outputs": [
    {
     "data": {
      "text/plain": [
       "simulations (generic function with 1 method)"
      ]
     },
     "execution_count": 64,
     "metadata": {},
     "output_type": "execute_result"
    }
   ],
   "source": [
    "function simulations(policy, mdp, n_sims) # n is number of times to run \n",
    "    policy_rewards = []\n",
    "    for i in 1:n_sims\n",
    "        push!(policy_rewards, simulation(policy, mdp))\n",
    "    end\n",
    "    std_policy_reward = std(policy_rewards)\n",
    "    mean_policy_reward = mean(policy_rewards)\n",
    "    return mean_policy_reward, std_policy_reward\n",
    "end"
   ]
  },
  {
   "cell_type": "code",
   "execution_count": 83,
   "id": "711b4ea9",
   "metadata": {},
   "outputs": [
    {
     "data": {
      "text/plain": [
       "experiments (generic function with 1 method)"
      ]
     },
     "execution_count": 83,
     "metadata": {},
     "output_type": "execute_result"
    }
   ],
   "source": [
    "function experiments()\n",
    "    # policies and n_sims can probably be put in our params function as a list. here for now. \n",
    "    n_sims = 100\n",
    "    policies = [AcceptAll_policy, AMCITS_policy, \n",
    "        SIV_AMCITS_policy, SIV_AfterThresholdAMCITS_policy, \n",
    "        BeforeThresholdAMCITS_policy]\n",
    "    m_std_rewards = []\n",
    "    for curr_policy in policies\n",
    "        push!(m_std_rewards, simulations(curr_policy, mdp, n_sims))\n",
    "\n",
    "    end\n",
    "    # TRUNCATE TO FIT \n",
    "    for m_std_reward in m_std_rewards\n",
    "        print(\"mean_reward: $m_std_reward[1], std_reward: $m_std_reward[2]\")\n",
    "    end\n",
    "    \n",
    "    return m_std_rewards\n",
    "\n",
    "end"
   ]
  },
  {
   "cell_type": "code",
   "execution_count": 84,
   "id": "7ca64147",
   "metadata": {},
   "outputs": [
    {
     "name": "stdout",
     "output_type": "stream",
     "text": [
      "mean_reward: (-6.449533039305711, 62.08486632326366)[1], std_reward: (-6.449533039305711, 62.08486632326366)[2]mean_reward: (51.062286763357996, 28.682572132157066)[1], std_reward: (51.062286763357996, 28.682572132157066)[2]mean_reward: (86.57643280813767, 36.54272341101374)[1], std_reward: (86.57643280813767, 36.54272341101374)[2]mean_reward: (0.0, 0.0)[1], std_reward: (0.0, 0.0)[2]mean_reward: (0.0, 0.0)[1], std_reward: (0.0, 0.0)[2]"
     ]
    },
    {
     "data": {
      "text/plain": [
       "5-element Vector{Any}:\n",
       " (-6.449533039305711, 62.08486632326366)\n",
       " (51.062286763357996, 28.682572132157066)\n",
       " (86.57643280813767, 36.54272341101374)\n",
       " (0.0, 0.0)\n",
       " (0.0, 0.0)"
      ]
     },
     "execution_count": 84,
     "metadata": {},
     "output_type": "execute_result"
    }
   ],
   "source": [
    "mean_std_rewards = experiments()"
   ]
  },
  {
   "cell_type": "markdown",
   "id": "b5c6b89c",
   "metadata": {},
   "source": [
    "**Visualizations**"
   ]
  },
  {
   "cell_type": "code",
   "execution_count": null,
   "id": "63cda74b",
   "metadata": {},
   "outputs": [],
   "source": [
    "\n",
    "function vis_time_step(policy, c, t) # pass in policy and chairs and time remaing. Spit out graph of family size versus visa status.\n",
    "    (v_size, f_size) = params.size  #visa, family 8, 15\n",
    "    policyGraph = zeros(v_size, f_size) #8 by 15 matrix of zeroes\n",
    "    visa_statuses=params.visa_status\n",
    "    family_sizes=params.family_sizes\n",
    "    \n",
    "    for f in 1:f_size\n",
    "        for v in 1:v_size\n",
    "            act = action(policy, State(c, t, family_sizes[f], visa_statuses[v])) \n",
    "            if act == ACCEPT\n",
    "                policyGraph[v,f] = 100\n",
    "            else\n",
    "                policyGraph[v,f] = 0\n",
    "            end\n",
    "        end\n",
    "    end\n",
    "    \n",
    "    x=params.visa_status\n",
    "    y=params.family_sizes\n",
    "    z=policyGraph'\n",
    "    title_time_cap=\"t = $t c = $c \"\n",
    "    return heatmap(x, y, z, aspect_ratio = 1, legend = :none, xlims = (-4,4), xlabel = \"Visa Status\", ylabel = \"Family Size\", ylims = (1,10), title=title_time_cap )\n",
    "    \n",
    "end"
   ]
  },
  {
   "cell_type": "code",
   "execution_count": null,
   "id": "e6545eb2",
   "metadata": {},
   "outputs": [],
   "source": [
    "function vis_all(policy)\n",
    "    total_time = params.time \n",
    "    total_capacity = 60 #params.capacity\n",
    "    total_graphs = total_time*total_capacity\n",
    "    heat_maps = []\n",
    "    time_points = total_time/20 \n",
    "    capacity_points = total_capacity/20 \n",
    "    num_graphs = trunc(Int,((total_time*total_capacity/20^2)))\n",
    "\n",
    "    \n",
    "    for t in 1:total_time\n",
    "        if t % 20 == 0 \n",
    "            for c in 1:total_capacity\n",
    "                if c % 20 == 0\n",
    "                push!(heat_maps, vis_time_step(policy, c, t))\n",
    "                end\n",
    "            end\n",
    "        end\n",
    "    end \n",
    "    plot(heat_maps..., layout=num_graphs)\n",
    "end"
   ]
  },
  {
   "cell_type": "code",
   "execution_count": null,
   "id": "7010dfb1",
   "metadata": {},
   "outputs": [],
   "source": [
    "vis_all(policy)"
   ]
  },
  {
   "cell_type": "markdown",
   "id": "513becc1",
   "metadata": {},
   "source": [
    "**Aggregate Metrics**"
   ]
  },
  {
   "cell_type": "code",
   "execution_count": null,
   "id": "9b327c22",
   "metadata": {},
   "outputs": [],
   "source": [
    "function getmetrics(policy, mdp)\n",
    "    # I think this somehow needs to simulated in our rollout \n",
    "    total_people = 0\n",
    "    total_accept = 0\n",
    "    total_reject = 0\n",
    "    \n",
    "    # Initialize visa_statuses dictionary\n",
    "    visa_statuses = params.visa_status\n",
    "    visa_dict = Dict()\n",
    "    for v in visa_statuses\n",
    "        visa_dict[v] = 0\n",
    "    end\n",
    "    \n",
    "    for c in 0:params.capacity # capacity ends at 0 \n",
    "        for t in 0:params.time # time ends at 0 \n",
    "            for f in params.family_sizes # family size here we should have the ACTUAL family sizes \n",
    "                for v in params.visa_status # actual visa statuses  \n",
    "                    state = State(c, t, f, v)\n",
    "                    total_people += 1\n",
    "                    if action(policy, state) == ACCEPT\n",
    "                        total_accept += 1\n",
    "                        visa_dict[v] += 1\n",
    "                    else \n",
    "                        total_reject += 1\n",
    "                    end\n",
    "                end        \n",
    "            end\n",
    "        end\n",
    "    end\n",
    "    \n",
    "    print(\"Total people: \", total_people, )\n",
    "    print(\"Total accept: \", total_accept)\n",
    "    print(\"Total reject: \", total_reject)\n",
    "    visa_dict \n",
    "       \n",
    "end "
   ]
  },
  {
   "cell_type": "code",
   "execution_count": null,
   "id": "8e11022d",
   "metadata": {},
   "outputs": [],
   "source": [
    "getmetrics(policy, mdp)"
   ]
  }
 ],
 "metadata": {
  "@webio": {
   "lastCommId": "b5d61c2173eb40a488d5cac01c9e13a1",
   "lastKernelId": "c341b7c9-7607-47e4-9d4e-360847dfcdec"
  },
  "kernelspec": {
   "display_name": "Julia 1.6.2",
   "language": "julia",
   "name": "julia-1.6"
  },
  "language_info": {
   "file_extension": ".jl",
   "mimetype": "application/julia",
   "name": "julia",
   "version": "1.6.2"
  }
 },
 "nbformat": 4,
 "nbformat_minor": 5
}
