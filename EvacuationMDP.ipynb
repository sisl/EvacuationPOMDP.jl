{
 "cells": [
  {
   "cell_type": "code",
   "execution_count": 2,
   "id": "d9f1e2e3",
   "metadata": {},
   "outputs": [],
   "source": [
    "using POMDPs # for MDP type\n",
    "using DiscreteValueIteration\n",
    "using POMDPPolicies\n",
    "using POMDPModelTools\n",
    "using Parameters\n",
    "using Random\n",
    "using Plots; default(fontfamily=\"Computer Modern\", framestyle=:box) # LaTex-style\n",
    "using QuickPOMDPs\n",
    "using Distributions "
   ]
  },
  {
   "cell_type": "code",
   "execution_count": 3,
   "id": "2b9f438e",
   "metadata": {},
   "outputs": [
    {
     "data": {
      "text/plain": [
       "MersenneTwister(123)"
      ]
     },
     "execution_count": 3,
     "metadata": {},
     "output_type": "execute_result"
    }
   ],
   "source": [
    "Random.seed!(123)"
   ]
  },
  {
   "cell_type": "markdown",
   "id": "a4476a99",
   "metadata": {},
   "source": [
    "**Environment Parameters**"
   ]
  },
  {
   "cell_type": "code",
   "execution_count": 4,
   "id": "f6b0581f",
   "metadata": {},
   "outputs": [
    {
     "data": {
      "text/plain": [
       "EvacuationParameters"
      ]
     },
     "execution_count": 4,
     "metadata": {},
     "output_type": "execute_result"
    }
   ],
   "source": [
    "# assume families normally distributed as integers around average family size in afghanistan of 8. \n",
    "# Truncated to include 1 or greater and rounded to be integers \n",
    "@with_kw struct EvacuationParameters\n",
    "    # need the probability that a particular family shows up at the door....\n",
    "    family_sizes::Vector{Int} =  [trunc(Int, x) for x in rand(TruncatedNormal(8, 4.0, 1, Inf), 10)] \n",
    "    visa_status::Vector{Int} = [-5, -4, -3, -2, 0, 1, 2, 3, 4, 5] #TODO: map to various status \n",
    "    capacity::Int = 20\n",
    "    time::Int = 60 \n",
    "    size::Tuple{Int, Int} = (length(visa_status), length(family_sizes)) # size of grid \n",
    "    p_transition::Real = 0.7 # don't we always transition into this since time moves forward? I'm confused... \n",
    "#    null_state::State = State(x, 0, x, x) == 0 [how would do this?]\n",
    "end\n"
   ]
  },
  {
   "cell_type": "code",
   "execution_count": 5,
   "id": "85b0fd63",
   "metadata": {},
   "outputs": [],
   "source": [
    "params = EvacuationParameters(); "
   ]
  },
  {
   "cell_type": "markdown",
   "id": "2becbdb8",
   "metadata": {},
   "source": [
    "**States**"
   ]
  },
  {
   "cell_type": "code",
   "execution_count": 6,
   "id": "4a8cc27e",
   "metadata": {},
   "outputs": [],
   "source": [
    "# A state s in the evacuation problem is a discrete set of 4 values: \n",
    "# chairs remaining, time remaining, family size, and visa status\n",
    "struct State\n",
    "    c::Int # chairs remaining \n",
    "    t::Int # time remaining \n",
    "    f::Int # family size \n",
    "    v::Int # visa status \n",
    "end "
   ]
  },
  {
   "cell_type": "code",
   "execution_count": 7,
   "id": "6bce05cb",
   "metadata": {},
   "outputs": [],
   "source": [
    "# The state space S for the evacuation problem is the set of \n",
    "# all combinations \n",
    "# Question: Do I need the end state here? \n",
    "#𝒮 = [[State(c, t, f, v) for  c=1:params.capacity, t=1:params.time, f=1:params.size[2], v=1:params.size[1]]]\n",
    "𝒮 = []\n",
    "\n",
    "for c in 1:params.capacity\n",
    "    for t in 1:params.time\n",
    "        for f in 1:params.size[2]\n",
    "            for v in 1:params.size[1]\n",
    "                new = State(c, t, f, v)\n",
    "                𝒮 = [𝒮; new]\n",
    "            end\n",
    "        end        \n",
    "    end\n",
    "end\n"
   ]
  },
  {
   "cell_type": "code",
   "execution_count": 8,
   "id": "8c1f74d3",
   "metadata": {},
   "outputs": [
    {
     "name": "stdout",
     "output_type": "stream",
     "text": [
      "size(𝒮) = (120000,)\n"
     ]
    },
    {
     "data": {
      "text/plain": [
       "(120000,)"
      ]
     },
     "execution_count": 8,
     "metadata": {},
     "output_type": "execute_result"
    }
   ],
   "source": [
    "@show size(𝒮)\n",
    "#@show size[1,1,1,1]\n",
    "#(20, 60, 10, 10)\n",
    "#length(𝒮[1]) = 120000 = 20*60*10*10"
   ]
  },
  {
   "cell_type": "markdown",
   "id": "db20f788",
   "metadata": {},
   "source": [
    "**Actions**"
   ]
  },
  {
   "cell_type": "code",
   "execution_count": 9,
   "id": "eeed1f84",
   "metadata": {},
   "outputs": [],
   "source": [
    "# the possible actions are whether accept or reject a family at the gate \n",
    "@enum Action REJECT ACCEPT"
   ]
  },
  {
   "cell_type": "code",
   "execution_count": 10,
   "id": "61a11d34",
   "metadata": {},
   "outputs": [
    {
     "data": {
      "text/plain": [
       "2-element Vector{Action}:\n",
       " REJECT::Action = 0\n",
       " ACCEPT::Action = 1"
      ]
     },
     "execution_count": 10,
     "metadata": {},
     "output_type": "execute_result"
    }
   ],
   "source": [
    "𝒜 = [REJECT, ACCEPT]"
   ]
  },
  {
   "cell_type": "markdown",
   "id": "9677353c",
   "metadata": {},
   "source": [
    "**Transition Function** "
   ]
  },
  {
   "cell_type": "code",
   "execution_count": null,
   "id": "b2c4c2a6",
   "metadata": {},
   "outputs": [],
   "source": []
  },
  {
   "cell_type": "code",
   "execution_count": 15,
   "id": "cdf24312",
   "metadata": {},
   "outputs": [
    {
     "data": {
      "text/plain": [
       "T (generic function with 1 method)"
      ]
     },
     "execution_count": 15,
     "metadata": {},
     "output_type": "execute_result"
    }
   ],
   "source": [
    "#XXXXXXXXXXXXXXXXXXXXXXXXXNote from Lilian:XXXXXXXXXXXXXXXXXXXXXXXXXXXXXXXXXXXXXXXXXXXXXXXXXXXXXX\n",
    "# check out https://juliapomdp.github.io/POMDPModelTools.jl/stable/distributions/\n",
    "# we are supposed to return a sparsecat structure with all the states and the prob of going to them next\n",
    "# so i think this is incorrect because we seem to be not returning that\n",
    "# SparseCat(values, probabilities) to create a sparse categorical distribution.\n",
    "#textbook page 148\n",
    "\n",
    "#Other notes:\n",
    "#T = P(S' | S, A), so the probs are always 100% for each action \n",
    "\n",
    "#I figured it out, just havent coded it yet, just have to send back a SparseCat with \n",
    "# if action = accept, new state (S') to be time -1 and seats -1 100% and the rest 0%\n",
    "# if action = reject, send back exact same state space (s') but with time - 1 100% of the time\n",
    "\n",
    "#this is assuming an accept means 100% you get on the plane and reject means you can't sneak onto it. I \n",
    "#I think it might be realistic to make an accept give you a 80% chance of actually getting a seat if accepted.\n",
    "#i read your article and it seemed like it was so disorganized that some of the accepted people didnt \n",
    "#make it. \n",
    "\n",
    "#need to add global rep of all the states so we can check it\n",
    "\n",
    "# think about how to fix the transition function \n",
    "# The transition function returns a distribution over next states given the current state and an action .\n",
    "function T(s::State, a::Action)\n",
    "     Nₐ = length(𝒜) #should be 2\n",
    "     next_states = Vector{State}(undef, Nₐ + 1)\n",
    "#     probabilities = zeros(Nₐ + 1)\n",
    "#     p_transition = params.p_transition # what are our probabilities here????    \n",
    "#     for (i, a_prime) in enumerate(𝒜)\n",
    "#     # if we accept the person, we want to decriment by family size \n",
    "    #if a == ACCEPT\n",
    "    #    s_prime.c = s.c - s.f\n",
    "    #end \n",
    "    s_prime.t = s_prime.t - 1 # how to update  time\n",
    "    # maybe make some terminal state when time = 0?\n",
    "    # do I return something here? \n",
    "    return s_prime \n",
    "end\n",
    "\n",
    "#marking out what each part does\n",
    "#function T(s::State, a::Action)\n",
    "#    #if R(s) != 0 \n",
    "    #    return Deterministic(params.null_state)\n",
    "    #end\n",
    "\n",
    "#    Nₐ = length(𝒜) #length of action space, so 2\n",
    "#    next_states = Vector{State}(undef, Nₐ + 1) #creates an uninitialized vector of 3 \n",
    "#    probabilities = zeros(Nₐ + 1) #make a zero vector of length 3\n",
    "#    p_transition = params.p_transition #transitions probs I've determined in the notes above\n",
    "\n",
    "#    for (i, a′) in enumerate(𝒜)\n",
    "#        prob = (a′ == a) ? p_transition : (1 - p_transition) / (Nₐ - 1)\n",
    "#        destination = s + MOVEMENTS[a′]\n",
    "#        next_states[i+1] = destination\n",
    "\n",
    "#        if inbounds(destination)\n",
    "#            probabilities[i+1] += prob\n",
    "#        end\n",
    "#    end\n",
    "    \n",
    "    # handle out-of-bounds transitions\n",
    "#    next_states[1] = s\n",
    "#    probabilities[1] = 1 - sum(probabilities)\n",
    "\n",
    "#    return SparseCat(next_states, probabilities)\n",
    "#end\n",
    "\n",
    "\n",
    "    "
   ]
  },
  {
   "cell_type": "markdown",
   "id": "b8b569a4",
   "metadata": {},
   "source": [
    "**Reward Function**"
   ]
  },
  {
   "cell_type": "code",
   "execution_count": 14,
   "id": "5c92b6b3",
   "metadata": {},
   "outputs": [
    {
     "data": {
      "text/plain": [
       "R (generic function with 2 methods)"
      ]
     },
     "execution_count": 14,
     "metadata": {},
     "output_type": "execute_result"
    }
   ],
   "source": [
    "function R(s::State, a::Action=missing)\n",
    "    # reward is just the visa status times family size i think! \n",
    "    return s.v*s.f\n",
    "end "
   ]
  },
  {
   "cell_type": "code",
   "execution_count": 20,
   "id": "fe0a82b8",
   "metadata": {},
   "outputs": [
    {
     "data": {
      "text/plain": [
       "0.95"
      ]
     },
     "execution_count": 20,
     "metadata": {},
     "output_type": "execute_result"
    }
   ],
   "source": [
    "#render(mdp; show_rewards=true)\n",
    "#@bind γ Slider(0:0.05:1, default=0.95, show_value=true)\n",
    "# hard code for now. maybe come back to it. \n",
    "γ = 0.95"
   ]
  },
  {
   "cell_type": "code",
   "execution_count": 21,
   "id": "556c281a",
   "metadata": {},
   "outputs": [
    {
     "data": {
      "text/plain": [
       "termination (generic function with 1 method)"
      ]
     },
     "execution_count": 21,
     "metadata": {},
     "output_type": "execute_result"
    }
   ],
   "source": [
    "# when time is 0...possibly encode this into the parameters \n",
    "termination(s::State) = s.t == 0"
   ]
  },
  {
   "cell_type": "markdown",
   "id": "f60f056c",
   "metadata": {},
   "source": [
    "**MDP Formulation**"
   ]
  },
  {
   "cell_type": "code",
   "execution_count": 22,
   "id": "8210d6e8",
   "metadata": {},
   "outputs": [],
   "source": [
    "# We define the Airport abstract MDP type so we can reference it in other methods.\n",
    "abstract type Evacuation <: MDP{State, Action} end"
   ]
  },
  {
   "cell_type": "code",
   "execution_count": 23,
   "id": "c4c06e40",
   "metadata": {},
   "outputs": [],
   "source": [
    "mdp = QuickMDP(Evacuation,\n",
    "    states       = 𝒮,\n",
    "    actions      = 𝒜,\n",
    "    transition   = T,\n",
    "    reward       = R,\n",
    "    discount     = γ,\n",
    "    initialstate = 𝒮,\n",
    "    isterminal   = termination,\n",
    "    render       = render\n",
    "    );"
   ]
  },
  {
   "cell_type": "code",
   "execution_count": 24,
   "id": "fe7ecfea",
   "metadata": {},
   "outputs": [
    {
     "ename": "LoadError",
     "evalue": "MethodError: no method matching render()\n\u001b[0mClosest candidates are:\n\u001b[0m  render(\u001b[91m::Union{QuickMDP, QuickPOMDP}\u001b[39m, \u001b[91m::Any...\u001b[39m; kwargs...) at /Users/lisaeinstein/.julia/packages/QuickPOMDPs/mIT3P/src/quick.jl:211\n\u001b[0m  render(\u001b[91m::Union{MDP, POMDP}\u001b[39m) at /Users/lisaeinstein/.julia/packages/POMDPModelTools/SycBB/src/visualization.jl:50\n\u001b[0m  render(\u001b[91m::Union{MDP, POMDP}\u001b[39m, \u001b[91m::Any\u001b[39m) at /Users/lisaeinstein/.julia/packages/POMDPModelTools/SycBB/src/visualization.jl:30",
     "output_type": "error",
     "traceback": [
      "MethodError: no method matching render()\n\u001b[0mClosest candidates are:\n\u001b[0m  render(\u001b[91m::Union{QuickMDP, QuickPOMDP}\u001b[39m, \u001b[91m::Any...\u001b[39m; kwargs...) at /Users/lisaeinstein/.julia/packages/QuickPOMDPs/mIT3P/src/quick.jl:211\n\u001b[0m  render(\u001b[91m::Union{MDP, POMDP}\u001b[39m) at /Users/lisaeinstein/.julia/packages/POMDPModelTools/SycBB/src/visualization.jl:50\n\u001b[0m  render(\u001b[91m::Union{MDP, POMDP}\u001b[39m, \u001b[91m::Any\u001b[39m) at /Users/lisaeinstein/.julia/packages/POMDPModelTools/SycBB/src/visualization.jl:30",
      "",
      "Stacktrace:",
      " [1] _call(::Val{:render}, f::Function, args::Tuple{}, kwargs::Base.Iterators.Pairs{Union{}, Union{}, Tuple{}, NamedTuple{(), Tuple{}}})",
      "   @ QuickPOMDPs ~/.julia/packages/QuickPOMDPs/mIT3P/src/quick.jl:204",
      " [2] _call(namev::Val{:render}, m::QuickMDP{Evacuation, Array{State, 4}, Action, NamedTuple{(:stateindex, :isterminal, :render, :transition, :reward, :states, :actions, :discount, :initialstate, :actionindex), Tuple{Dict{Array{State, 4}, Int64}, typeof(termination), typeof(render), typeof(T), typeof(R), Vector{Array{State, 4}}, Vector{Action}, Float64, Vector{Array{State, 4}}, Dict{Action, Int64}}}}, args::Tuple{}, kwargs::Base.Iterators.Pairs{Union{}, Union{}, Tuple{}, NamedTuple{(), Tuple{}}})",
      "   @ QuickPOMDPs ~/.julia/packages/QuickPOMDPs/mIT3P/src/quick.jl:196",
      " [3] render(::QuickMDP{Evacuation, Array{State, 4}, Action, NamedTuple{(:stateindex, :isterminal, :render, :transition, :reward, :states, :actions, :discount, :initialstate, :actionindex), Tuple{Dict{Array{State, 4}, Int64}, typeof(termination), typeof(render), typeof(T), typeof(R), Vector{Array{State, 4}}, Vector{Action}, Float64, Vector{Array{State, 4}}, Dict{Action, Int64}}}}; kwargs::Base.Iterators.Pairs{Union{}, Union{}, Tuple{}, NamedTuple{(), Tuple{}}})",
      "   @ QuickPOMDPs ~/.julia/packages/QuickPOMDPs/mIT3P/src/quick.jl:211",
      " [4] render(::QuickMDP{Evacuation, Array{State, 4}, Action, NamedTuple{(:stateindex, :isterminal, :render, :transition, :reward, :states, :actions, :discount, :initialstate, :actionindex), Tuple{Dict{Array{State, 4}, Int64}, typeof(termination), typeof(render), typeof(T), typeof(R), Vector{Array{State, 4}}, Vector{Action}, Float64, Vector{Array{State, 4}}, Dict{Action, Int64}}}})",
      "   @ QuickPOMDPs ~/.julia/packages/QuickPOMDPs/mIT3P/src/quick.jl:211",
      " [5] top-level scope",
      "   @ In[24]:1",
      " [6] eval",
      "   @ ./boot.jl:360 [inlined]",
      " [7] include_string(mapexpr::typeof(REPL.softscope), mod::Module, code::String, filename::String)",
      "   @ Base ./loading.jl:1116"
     ]
    }
   ],
   "source": [
    "render(mdp)"
   ]
  },
  {
   "cell_type": "code",
   "execution_count": 25,
   "id": "141252e0",
   "metadata": {},
   "outputs": [],
   "source": [
    "solver = ValueIterationSolver(max_iterations=30, belres=1e-6, verbose=true);"
   ]
  },
  {
   "cell_type": "markdown",
   "id": "302364c8",
   "metadata": {},
   "source": [
    "**Policy**"
   ]
  },
  {
   "cell_type": "code",
   "execution_count": 26,
   "id": "17e25774",
   "metadata": {},
   "outputs": [],
   "source": [
    "# Set discount factor to variable gamma and solve the MDP to obptain policy pi mapping states to actions a"
   ]
  },
  {
   "cell_type": "code",
   "execution_count": 27,
   "id": "562a9bdc",
   "metadata": {},
   "outputs": [
    {
     "name": "stdout",
     "output_type": "stream",
     "text": [
      "INFO: POMDPLinter requirements for \u001b[34msolve(::ValueIterationSolver, ::Union{MDP,POMDP})\u001b[39m and dependencies. ([✔] = implemented correctly; [X] = not implemented; [?] = could not determine)\n",
      "\n",
      "For \u001b[34msolve(::ValueIterationSolver, ::Union{MDP,POMDP})\u001b[39m:\n",
      "\u001b[32m  [✔] discount(::QuickMDP{EvacuationArray{State, 4}ActionNamedTuple{(:stateindex, :isterminal, :render, :transition, :reward, :states, :actions, :discount, :initialstate, :actionindex), Tuple{Dict{Array{State, 4}, Int64}, typeof(termination), typeof(render), typeof(T), typeof(R), Vector{Array{State, 4}}, Vector{Action}, Float64, Vector{Array{State, 4}}, Dict{Action, Int64}}}})\u001b[39m\n",
      "\u001b[32m  [✔] transition(::QuickMDP{EvacuationArray{State, 4}ActionNamedTuple{(:stateindex, :isterminal, :render, :transition, :reward, :states, :actions, :discount, :initialstate, :actionindex), Tuple{Dict{Array{State, 4}, Int64}, typeof(termination), typeof(render), typeof(T), typeof(R), Vector{Array{State, 4}}, Vector{Action}, Float64, Vector{Array{State, 4}}, Dict{Action, Int64}}}}, ::Array{State4}, ::Action)\u001b[39m\n",
      "\u001b[32m  [✔] reward(::QuickMDP{EvacuationArray{State, 4}ActionNamedTuple{(:stateindex, :isterminal, :render, :transition, :reward, :states, :actions, :discount, :initialstate, :actionindex), Tuple{Dict{Array{State, 4}, Int64}, typeof(termination), typeof(render), typeof(T), typeof(R), Vector{Array{State, 4}}, Vector{Action}, Float64, Vector{Array{State, 4}}, Dict{Action, Int64}}}}, ::Array{State4}, ::Action, ::Array{State4})\u001b[39m\n",
      "\u001b[32m  [✔] stateindex(::QuickMDP{EvacuationArray{State, 4}ActionNamedTuple{(:stateindex, :isterminal, :render, :transition, :reward, :states, :actions, :discount, :initialstate, :actionindex), Tuple{Dict{Array{State, 4}, Int64}, typeof(termination), typeof(render), typeof(T), typeof(R), Vector{Array{State, 4}}, Vector{Action}, Float64, Vector{Array{State, 4}}, Dict{Action, Int64}}}}, ::Array{State4})\u001b[39m\n",
      "\u001b[32m  [✔] actionindex(::QuickMDP{EvacuationArray{State, 4}ActionNamedTuple{(:stateindex, :isterminal, :render, :transition, :reward, :states, :actions, :discount, :initialstate, :actionindex), Tuple{Dict{Array{State, 4}, Int64}, typeof(termination), typeof(render), typeof(T), typeof(R), Vector{Array{State, 4}}, Vector{Action}, Float64, Vector{Array{State, 4}}, Dict{Action, Int64}}}}, ::Action)\u001b[39m\n",
      "\u001b[32m  [✔] actions(::QuickMDP{EvacuationArray{State, 4}ActionNamedTuple{(:stateindex, :isterminal, :render, :transition, :reward, :states, :actions, :discount, :initialstate, :actionindex), Tuple{Dict{Array{State, 4}, Int64}, typeof(termination), typeof(render), typeof(T), typeof(R), Vector{Array{State, 4}}, Vector{Action}, Float64, Vector{Array{State, 4}}, Dict{Action, Int64}}}}, ::Array{State4})\u001b[39m\n",
      "\u001b[32m  [✔] length(::Array{Array{State, 4}1})\u001b[39m\n",
      "\u001b[32m  [✔] length(::Array{Action1})\u001b[39m\n",
      "\u001b[33m  WARNING: Some requirements may not be shown because a MethodError was thrown.\u001b[39m\n",
      "For \u001b[34mordered_states(::Union{MDP,POMDP})\u001b[39m (in solve(::ValueIterationSolver, ::Union{MDP,POMDP})):\n",
      "\u001b[32m  [✔] states(::QuickMDP{EvacuationArray{State, 4}ActionNamedTuple{(:stateindex, :isterminal, :render, :transition, :reward, :states, :actions, :discount, :initialstate, :actionindex), Tuple{Dict{Array{State, 4}, Int64}, typeof(termination), typeof(render), typeof(T), typeof(R), Vector{Array{State, 4}}, Vector{Action}, Float64, Vector{Array{State, 4}}, Dict{Action, Int64}}}})\u001b[39m\n",
      "For \u001b[34mordered_actions(::Union{MDP,POMDP})\u001b[39m (in solve(::ValueIterationSolver, ::Union{MDP,POMDP})):\n",
      "\u001b[32m  [✔] actions(::QuickMDP{EvacuationArray{State, 4}ActionNamedTuple{(:stateindex, :isterminal, :render, :transition, :reward, :states, :actions, :discount, :initialstate, :actionindex), Tuple{Dict{Array{State, 4}, Int64}, typeof(termination), typeof(render), typeof(T), typeof(R), Vector{Array{State, 4}}, Vector{Action}, Float64, Vector{Array{State, 4}}, Dict{Action, Int64}}}})\u001b[39m\n",
      "Note: Missing methods are often due to incorrect importing. You must explicitly import POMDPs functions to add new methods.\n",
      "\n",
      "Throwing the first exception (from processing \u001b[34msolve(::ValueIterationSolver, ::Union{MDP,POMDP})\u001b[39m requirements):\n",
      "\n"
     ]
    },
    {
     "ename": "LoadError",
     "evalue": "MethodError: no method matching T(::Array{State, 4}, ::Action)\n\u001b[0mClosest candidates are:\n\u001b[0m  T(\u001b[91m::State\u001b[39m, ::Action) at In[18]:15",
     "output_type": "error",
     "traceback": [
      "MethodError: no method matching T(::Array{State, 4}, ::Action)\n\u001b[0mClosest candidates are:\n\u001b[0m  T(\u001b[91m::State\u001b[39m, ::Action) at In[18]:15",
      "",
      "Stacktrace:",
      " [1] show_requirements(r::POMDPLinter.RequirementSet)",
      "   @ POMDPLinter ~/.julia/packages/POMDPLinter/OSyYC/src/requirements_interface.jl:213",
      " [2] macro expansion",
      "   @ ~/.julia/packages/POMDPLinter/OSyYC/src/requirements_interface.jl:100 [inlined]",
      " [3] solve(solver::ValueIterationSolver, mdp::QuickMDP{Evacuation, Array{State, 4}, Action, NamedTuple{(:stateindex, :isterminal, :render, :transition, :reward, :states, :actions, :discount, :initialstate, :actionindex), Tuple{Dict{Array{State, 4}, Int64}, typeof(termination), typeof(render), typeof(T), typeof(R), Vector{Array{State, 4}}, Vector{Action}, Float64, Vector{Array{State, 4}}, Dict{Action, Int64}}}}; kwargs::Base.Iterators.Pairs{Union{}, Union{}, Tuple{}, NamedTuple{(), Tuple{}}})",
      "   @ DiscreteValueIteration ~/.julia/packages/DiscreteValueIteration/FjeJj/src/vanilla.jl:71",
      " [4] solve(solver::ValueIterationSolver, mdp::QuickMDP{Evacuation, Array{State, 4}, Action, NamedTuple{(:stateindex, :isterminal, :render, :transition, :reward, :states, :actions, :discount, :initialstate, :actionindex), Tuple{Dict{Array{State, 4}, Int64}, typeof(termination), typeof(render), typeof(T), typeof(R), Vector{Array{State, 4}}, Vector{Action}, Float64, Vector{Array{State, 4}}, Dict{Action, Int64}}}})",
      "   @ DiscreteValueIteration ~/.julia/packages/DiscreteValueIteration/FjeJj/src/vanilla.jl:67",
      " [5] top-level scope",
      "   @ In[27]:1",
      " [6] eval",
      "   @ ./boot.jl:360 [inlined]",
      " [7] include_string(mapexpr::typeof(REPL.softscope), mod::Module, code::String, filename::String)",
      "   @ Base ./loading.jl:1116"
     ]
    }
   ],
   "source": [
    "policy = solve(solver, mdp)"
   ]
  },
  {
   "cell_type": "code",
   "execution_count": 16,
   "id": "9c7ea005",
   "metadata": {},
   "outputs": [
    {
     "ename": "LoadError",
     "evalue": "UndefVarError: mdp not defined",
     "output_type": "error",
     "traceback": [
      "UndefVarError: mdp not defined",
      "",
      "Stacktrace:",
      " [1] top-level scope",
      "   @ ~/.julia/packages/POMDPs/PFpk1/src/deprecated.jl:30",
      " [2] eval",
      "   @ ./boot.jl:360 [inlined]",
      " [3] include_string(mapexpr::typeof(REPL.softscope), mod::Module, code::String, filename::String)",
      "   @ Base ./loading.jl:1116"
     ]
    }
   ],
   "source": [
    "@requirements_info ValueIterationSolver() mdp()"
   ]
  },
  {
   "cell_type": "code",
   "execution_count": null,
   "id": "1b1f8db8",
   "metadata": {},
   "outputs": [],
   "source": [
    "# a = action(policy, s) # returns the optimal action for state s\n",
    "# value(policy, s) # returns the optimal value at state s\n"
   ]
  }
 ],
 "metadata": {
  "kernelspec": {
   "display_name": "Julia 1.6.3",
   "language": "julia",
   "name": "julia-1.6"
  },
  "language_info": {
   "file_extension": ".jl",
   "mimetype": "application/julia",
   "name": "julia",
   "version": "1.6.3"
  }
 },
 "nbformat": 4,
 "nbformat_minor": 5
}
