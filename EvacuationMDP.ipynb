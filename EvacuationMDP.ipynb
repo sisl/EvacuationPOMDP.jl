{
 "cells": [
  {
   "cell_type": "code",
   "execution_count": 1,
   "id": "d1439bc0",
   "metadata": {},
   "outputs": [],
   "source": [
    "using POMDPs # for MDP type\n",
    "using DiscreteValueIteration\n",
    "using POMDPPolicies\n",
    "using POMDPModelTools #for sparse cat \n",
    "using Parameters\n",
    "using Random\n",
    "using Plots; default(fontfamily=\"Computer Modern\", framestyle=:box) # LaTex-style\n",
    "using QuickPOMDPs\n",
    "using Distributions \n",
    "#using PlotlyJS\n",
    "using LinearAlgebra\n",
    "using POMDPSimulators"
   ]
  },
  {
   "cell_type": "code",
   "execution_count": 2,
   "id": "1775e911",
   "metadata": {},
   "outputs": [
    {
     "data": {
      "text/plain": [
       "MersenneTwister(12648430)"
      ]
     },
     "execution_count": 2,
     "metadata": {},
     "output_type": "execute_result"
    },
    {
     "data": {
      "text/plain": [
       "MersenneTwister(12648430)"
      ]
     },
     "execution_count": 2,
     "metadata": {},
     "output_type": "execute_result"
    }
   ],
   "source": [
    "Random.seed!(0xC0FFEE)"
   ]
  },
  {
   "cell_type": "markdown",
   "id": "a21058cf",
   "metadata": {},
   "source": [
    "**States**"
   ]
  },
  {
   "cell_type": "code",
   "execution_count": null,
   "id": "75e654a0",
   "metadata": {},
   "outputs": [],
   "source": [
    "# A state s in the evacuation problem is a discrete set of 4 values: \n",
    "# chairs remaining, time remaining, family size, and visa status\n",
    "struct State\n",
    "    c::Int # chairs remaining \n",
    "    t::Int # time remaining \n",
    "    f::Int # family size \n",
    "    v::Int # visa status \n",
    "end "
   ]
  },
  {
   "cell_type": "markdown",
   "id": "8897ebc7",
   "metadata": {},
   "source": [
    "**Environment Parameters**"
   ]
  },
  {
   "cell_type": "code",
   "execution_count": null,
   "id": "bfb019dd",
   "metadata": {},
   "outputs": [],
   "source": [
    "# TO DO: WEIGHT FAMILY SIZES AND VISA STATUS BY PROBABILITY \n",
    "@with_kw struct EvacuationParameters\n",
    "    family_sizes::Vector{Int} = [1, 2, 3, 4, 5, 6, 7, 8, 9, 10] # set with no repeats \n",
    "    # p_family_sizes::Vector{Float} = # must sum to 1 \n",
    "    visa_status::Vector{Int} = [-20, -4, 0, 1, 2, 3, 4, 10] #TODO: map to various status \n",
    "    # p_visa_status::Vector{Float} = # must sum to 1 \n",
    "    capacity::Int = 70\n",
    "    time::Int = 60\n",
    "    size::Tuple{Int, Int} = (length(visa_status), length(family_sizes)) # size of grid \n",
    "    p_transition::Real = 0.8 # don't we always transition into this since time moves forward? I'm confused... \n",
    "    null_state::State = State(-1, -1, -1 ,-1) # is there someway to do this???\n",
    "end\n"
   ]
  },
  {
   "cell_type": "code",
   "execution_count": null,
   "id": "27f4df6b",
   "metadata": {},
   "outputs": [],
   "source": [
    "params = EvacuationParameters(); "
   ]
  },
  {
   "cell_type": "code",
   "execution_count": null,
   "id": "8d7ed9cc",
   "metadata": {},
   "outputs": [],
   "source": [
    "@show number_states = params.capacity * params.time * size(params.family_sizes)[1] * size(params.visa_status)[1]"
   ]
  },
  {
   "cell_type": "code",
   "execution_count": null,
   "id": "84038044",
   "metadata": {},
   "outputs": [],
   "source": [
    "# The state space S for the evacuation problem is the set of all combinations \n",
    "𝒮 = []\n",
    "for c in 0:params.capacity # capacity ends at 0 \n",
    "    for t in 0:params.time # time ends at 0 \n",
    "        for f in params.family_sizes # family size here we should have the ACTUAL family sizes \n",
    "            for v in params.visa_status # actual visa statuses \n",
    "                new = State(c, t, f, v) \n",
    "                𝒮 = [𝒮; new]\n",
    "            end\n",
    "        end        \n",
    "    end\n",
    "end\n",
    "𝒮 = [𝒮; params.null_state]\n",
    "\n",
    "\n"
   ]
  },
  {
   "cell_type": "markdown",
   "id": "f9a0c0d5",
   "metadata": {},
   "source": [
    "**Actions**"
   ]
  },
  {
   "cell_type": "code",
   "execution_count": null,
   "id": "e0ce57ab",
   "metadata": {},
   "outputs": [],
   "source": [
    "# the possible actions are whether accept or reject a family at the gate \n",
    "@enum Action REJECT ACCEPT"
   ]
  },
  {
   "cell_type": "code",
   "execution_count": null,
   "id": "d07469a5",
   "metadata": {},
   "outputs": [],
   "source": [
    "𝒜 = [REJECT, ACCEPT]"
   ]
  },
  {
   "cell_type": "code",
   "execution_count": null,
   "id": "839bbf8f",
   "metadata": {},
   "outputs": [],
   "source": [
    "# only inbounds if room for the family [assuming would not separate even though might]\n",
    "# and if time is available to enter the airport \n",
    "validtime(s::State) = 0 < s.t "
   ]
  },
  {
   "cell_type": "code",
   "execution_count": null,
   "id": "32351952",
   "metadata": {},
   "outputs": [],
   "source": [
    "validcapacity(s::State) = 0 ≤ s.c # maybe try back to 0 "
   ]
  },
  {
   "cell_type": "markdown",
   "id": "9be60758",
   "metadata": {},
   "source": [
    "**Transition Function** "
   ]
  },
  {
   "cell_type": "code",
   "execution_count": null,
   "id": "bf68a83a",
   "metadata": {},
   "outputs": [],
   "source": [
    "function T(s::State, a::Action)\n",
    "    next_states = []\n",
    "    if validtime(s) \n",
    "        \n",
    "        f′ = rand(params.family_sizes) # pull according to those probabilities \n",
    "        v′ = rand(params.visa_status) # TODO: possibly make this weighted in some way \n",
    "        # keep pushing to next states and have a bigger associated probability mass with those possible next states. \n",
    "        # need a for loop iterating over all family sizes and and visa statuses \n",
    "        \n",
    "        if a == ACCEPT \n",
    "            next_state_accept = State(s.c - s.f, s.t - 1, f′, v′) # they get seats\n",
    "            next_state_reject = State(s.c, s.t - 1, f′, v′)\n",
    "            push!(next_states, next_state_accept)\n",
    "            push!(next_states, next_state_reject)\n",
    "            if !validcapacity(next_state_accept) \n",
    "                probabilities = [0, 1] #no room for full family :( so we make probability 0 to accept and 1 reject\n",
    "            else\n",
    "                probabilities = [.80, .20]\n",
    "            end\n",
    "\n",
    "        elseif a == REJECT\n",
    "            probabilities = [1.0]\n",
    "            push!(next_states, State(s.c, s.t - 1, f′, v′))\n",
    "        end\n",
    "    else\n",
    "        push!(next_states,params.null_state)\n",
    "        probabilities = [1]\n",
    "    end\n",
    "    return SparseCat(next_states, probabilities)\n",
    "end\n",
    "\n",
    "# returning dis over all possible next states ... can ignore the ones that are zero or not feasible \n",
    "# you want that distribution to sampled \n",
    "# Include additional next states, with some probability mass -> assign that probability mass to \n",
    "# allows us to include the certainty to transition to the next state and allow whoever using it to know that\n",
    "# we want to return a distribution that can then be used. \n",
    "# include weighting of how we wieght -> keep adding and making sure probability vector sums to 1 and \n",
    "# every single possble state has a probability associated with it. \n",
    "    "
   ]
  },
  {
   "cell_type": "markdown",
   "id": "9b7629b2",
   "metadata": {},
   "source": [
    "**Reward Function**"
   ]
  },
  {
   "cell_type": "code",
   "execution_count": null,
   "id": "c0022d74",
   "metadata": {},
   "outputs": [],
   "source": [
    "function R(s::State, a::Action)\n",
    "    # reward is just the visa status times family size i think! \n",
    "    if a == ACCEPT\n",
    "        return s.v*s.f\n",
    "    end\n",
    "    return 0\n",
    "end "
   ]
  },
  {
   "cell_type": "code",
   "execution_count": null,
   "id": "2179f471",
   "metadata": {},
   "outputs": [],
   "source": [
    "#render(mdp; show_rewards=true)\n",
    "#@bind γ Slider(0:0.05:1, default=0.95, show_value=true)\n",
    "# hard code for now. maybe come back to it. \n",
    "γ = 0.95"
   ]
  },
  {
   "cell_type": "code",
   "execution_count": null,
   "id": "00c36682",
   "metadata": {},
   "outputs": [],
   "source": [
    "# when time is 0...possibly encode this into the parameters \n",
    "#termination(s::State) = (s.t == 0 || s.c == 0)\n",
    "# can probably do this instead of overriding ... alternate possibility: \n",
    "# # not sure we need this... to say when time and capacity are equal\n",
    "\n",
    "#termination(s::State) = (s.t == params.null_state.t && s.c == params.null_state.c)\n",
    "#Base.:(==)(s1::State, s2::State) = (s1.t == s2.t) && (s1.c == s2.c)\n",
    "termination(s::State)= s == params.null_state # change to 1 or the other "
   ]
  },
  {
   "cell_type": "markdown",
   "id": "4f975135",
   "metadata": {},
   "source": [
    "**MDP Formulation**"
   ]
  },
  {
   "cell_type": "code",
   "execution_count": null,
   "id": "aa4058f8",
   "metadata": {},
   "outputs": [],
   "source": [
    "# We define the Airport abstract MDP type so we can reference it in other methods.\n",
    "abstract type Evacuation <: MDP{State, Action} end"
   ]
  },
  {
   "cell_type": "code",
   "execution_count": null,
   "id": "6f0ad105",
   "metadata": {},
   "outputs": [],
   "source": [
    "c_initial = params.capacity\n",
    "t_initial = params.time\n",
    "f_initial = rand(params.family_sizes, 1)[1]\n",
    "v_initial = rand(params.visa_status, 1)[1]\n",
    "\n",
    "initial_state = State(c_initial, t_initial, f_initial, v_initial)"
   ]
  },
  {
   "cell_type": "code",
   "execution_count": null,
   "id": "028c9b87",
   "metadata": {},
   "outputs": [],
   "source": [
    "statetype = typeof(initial_state)\n",
    "initialstate_array = [initial_state]"
   ]
  },
  {
   "cell_type": "code",
   "execution_count": null,
   "id": "ae9c90e1",
   "metadata": {},
   "outputs": [],
   "source": [
    "#render = plot_evac"
   ]
  },
  {
   "cell_type": "code",
   "execution_count": null,
   "id": "34895203",
   "metadata": {},
   "outputs": [],
   "source": [
    "mdp = QuickMDP(Evacuation,\n",
    "    states       = 𝒮,\n",
    "    actions      = 𝒜,\n",
    "    transition   = T,\n",
    "    reward       = R,\n",
    "    discount     = γ,\n",
    "    initialstate = initialstate_array, \n",
    "    isterminal   = termination,\n",
    "    render       = render,\n",
    "    statetype    = statetype \n",
    "    );"
   ]
  },
  {
   "cell_type": "code",
   "execution_count": null,
   "id": "66d38232",
   "metadata": {},
   "outputs": [],
   "source": [
    "#render(mdp)"
   ]
  },
  {
   "cell_type": "code",
   "execution_count": null,
   "id": "2dec2621",
   "metadata": {},
   "outputs": [],
   "source": [
    "solver = ValueIterationSolver(max_iterations=30, belres=1e-6, verbose=true);"
   ]
  },
  {
   "cell_type": "markdown",
   "id": "6d829758",
   "metadata": {},
   "source": [
    "**Policy**"
   ]
  },
  {
   "cell_type": "code",
   "execution_count": null,
   "id": "7dbbd783",
   "metadata": {},
   "outputs": [],
   "source": [
    "policy = solve(solver, mdp) "
   ]
  },
  {
   "cell_type": "markdown",
   "id": "1829c1a5",
   "metadata": {},
   "source": [
    "**Additional possible needs- use for baseline policies?**"
   ]
  },
  {
   "cell_type": "code",
   "execution_count": null,
   "id": "f5dd4899",
   "metadata": {},
   "outputs": [],
   "source": [
    "# helper functions to:\n",
    "# # 1. get all the values from a policy\n",
    "\n",
    "\n",
    "# begin\n",
    "#     function one_based_policy!(policy)\n",
    "#         # change the default action in the policy (all zeros) to all ones (if needed) e.g. just accept everyone\n",
    "#         if all(iszero, policy.policy)\n",
    "#             policy.policy[:] = ones(eltype(policy.policy), length(policy.policy))\n",
    "#         end\n",
    "#     end\n",
    "    \n",
    "#     # no idea if this is right \n",
    "#     function get_rewards(mdp::QuickMDP{Evacuation}, policy::Policy)\n",
    "#         null_state = params.null_state\n",
    "#         valid_states = setdiff(states(mdp), [null_state])\n",
    "#         valid_actions = [action(policy, valid_state) for valid_state in valid_states]\n",
    "#         # can I map a state and action to reward? \n",
    "#         state_actions = zip(valid_states, valid_actions) \n",
    "#         U = map(state_action->reward(mdp, state_action), state_actions)\n",
    "#     end\n",
    "    \n",
    "#     function values(mdp::QuickMDP{Evacuation}, policy::Policy)\n",
    "#         null_state = params.null_state\n",
    "#         valid_states = setdiff(states(mdp), [null_state])\n",
    "#         U = map(s->value(policy, s), valid_states)\n",
    "#     end\n",
    "    \n",
    "# #     # WHAT DOES THIS ONE DO? Monte carlo tree search... don't need \n",
    "# #     function values(mdp::QuickMDP{Evacuation}, planner::MCTSPlanner)\n",
    "# #         null_state = params.null_state\n",
    "# #         valid_states = setdiff(states(mdp), [null_state])\n",
    "# #         U = []\n",
    "# #         for s in valid_states\n",
    "# #             u = 0\n",
    "# #             try\n",
    "# #                 u = value(planner, s)\n",
    "# #             catch\n",
    "# #                 # state not in tree\n",
    "# #             end\n",
    "# #             push!(U, u)\n",
    "# #         end\n",
    "# #         return U\n",
    "# #     end\n",
    "    \n",
    "#     function values(mdp::QuickMDP{Evacuation}, policy::ValuePolicy)\n",
    "#         maxU = mapslices(maximum, policy.value_table, dims=2)\n",
    "#         return maxU[1:end-1] # remove null_state\n",
    "#     end\n",
    "    \n",
    "#     struct NothingPolicy <: Policy end\n",
    "    \n",
    "#     # Use this to get a stationary grid of rewards\n",
    "#     function values(mdp::QuickMDP{Evacuation}, policy::Union{NothingPolicy, FunctionPolicy})\n",
    "#         null_state = params.null_state\n",
    "#         valid_states = setdiff(states(mdp), [null_state])\n",
    "#         rewards = map(s->reward(mdp, s), valid_states)\n",
    "#     end\n",
    "# end"
   ]
  },
  {
   "cell_type": "code",
   "execution_count": null,
   "id": "266ad140",
   "metadata": {},
   "outputs": [],
   "source": [
    "# policy.policy # what is this? "
   ]
  },
  {
   "cell_type": "code",
   "execution_count": null,
   "id": "c1497e76",
   "metadata": {},
   "outputs": [],
   "source": [
    "#https://github.com/JuliaPOMDP/DiscreteValueIteration.jl/blob/master/src/common.jl\n",
    "# # Fields \n",
    "# - `qmat`  Q matrix storing Q(s,a) values\n",
    "# - `util` The value function V(s)\n",
    "# - `policy` Policy array, maps state index to action index\n",
    "# - `action_map` Maps the action index to the concrete action type\n",
    "# - `include_Q` Flag for including the Q-matrix\n",
    "# - `mdp`  uses the model for indexing in the action function\n",
    "# \"\"\"\n",
    "# struct ValueIterationPolicy{Q<:AbstractMatrix, U<:AbstractVector, P<:AbstractVector, A, M<:MDP} <: Policy\n",
    "#     qmat::Q\n",
    "#     util::U \n",
    "#     policy::P \n",
    "#     action_map::Vector{A}\n",
    "#     include_Q::Bool \n",
    "#     mdp::M\n",
    "# end"
   ]
  },
  {
   "cell_type": "markdown",
   "id": "d0b557df",
   "metadata": {},
   "source": [
    "**Basesline Policies**"
   ]
  },
  {
   "cell_type": "code",
   "execution_count": null,
   "id": "8c303080",
   "metadata": {},
   "outputs": [],
   "source": [
    "#Looking at this and confused. Also-do we need to use all the states we have from our \n",
    "#https://github.com/JuliaPOMDP/DiscreteValueIteration.jl/blob/master/src/common.jl\n",
    "#just accept anyone with a positive status \n",
    "#accept Anyone with a high status and low family size \n",
    "#accept everyone who is status 5 until 50 seats remaining and then anything goes \n",
    "#policy::Policy\n",
    "\n",
    "# function baseline_policies(policy::Policy, )\n",
    "        # accept all until capacity would be 0 \n",
    "        # actually I think you just accept all families and then the simulator stops at the terminal state\n",
    "    # anyone up to capacity\n",
    "\n",
    "# visa_status::Vector{Int} = [-20, -4, 0, 1, 2, 3, 4, 10] #TODO: map to various status \n",
    "#https://htmlview.glitch.me/?https://github.com/JuliaAcademy/Decision-Making-Under-Uncertainty/blob/master/html/2-POMDPs.jl.html\n",
    "function accept_all(policy::Policy)\n",
    "    all_policy = deepcopy(policy) \n",
    "    all_policy.policy[:] = 2*ones(eltype(all_policy.policy), length(all_policy.policy)) # better way? 2 is accept \n",
    "    return all_policy\n",
    "end\n",
    "\n",
    "# Only AMCITS and SIVs \n",
    "\n",
    "# easier ways !\n",
    "# WHAT'S WRONG??? IS THIS ONLY DOING POSITIVE NUMBERS ? \n",
    "function accept_AMCITS(policy::Policy)\n",
    "    AMCIT_policy = deepcopy(policy)\n",
    "    for state in states(AMCIT_policy.mdp) # can call on mdp here,right? \n",
    "        if state.v == 10 # if its amcits \n",
    "            print(\"TRUE $state\")\n",
    "            sidx = stateindex(AMCIT_policy.mdp, state)\n",
    "            AMCIT_policy.policy[sidx] = 2\n",
    "        else\n",
    "            sidx = stateindex(AMCIT_policy.mdp, state)\n",
    "            AMCIT_policy.policy[sidx] = 1\n",
    "        end\n",
    "    return AMCIT_policy\n",
    "    end\n",
    "end\n",
    "\n",
    "\n",
    "function accept_SIVS_AMCITS(policy::Policy)\n",
    "    return policy\n",
    "end\n",
    "\n",
    "# Threshold: only AMCITS up to a certain time \n",
    "function only_AMCITS_after_threshold(policy::Policy, threshold_time::Int)\n",
    "    return policy\n",
    "end\n",
    "# Threshold: only AMCITS after a certain time \n",
    "function only_AMCITS_before_threshold(policy::Policy, threshold_time::Int)\n",
    "    return policy\n",
    "end    \n"
   ]
  },
  {
   "cell_type": "code",
   "execution_count": null,
   "id": "03bf9eb4",
   "metadata": {},
   "outputs": [],
   "source": [
    "policy"
   ]
  },
  {
   "cell_type": "code",
   "execution_count": null,
   "id": "1ceda4cd",
   "metadata": {},
   "outputs": [],
   "source": [
    "accept_all_policy = accept_all(policy)"
   ]
  },
  {
   "cell_type": "code",
   "execution_count": null,
   "id": "56e7b135",
   "metadata": {},
   "outputs": [],
   "source": [
    "accept_AMCITS(policy::Policy)"
   ]
  },
  {
   "cell_type": "code",
   "execution_count": null,
   "id": "393f7c63",
   "metadata": {},
   "outputs": [],
   "source": [
    "AMCIT_policy = deepcopy(policy)\n",
    "for state in states(AMCIT_policy.mdp) # can call on mdp here,right? \n",
    "    if state.v == 10 # if its amcits \n",
    "        print(\"TRUE $state\")\n",
    "    end\n",
    "return AMCIT_policy\n",
    "end\n",
    "\n"
   ]
  },
  {
   "cell_type": "code",
   "execution_count": null,
   "id": "17fd2067",
   "metadata": {},
   "outputs": [],
   "source": [
    "struct AMCITS <: Policy end"
   ]
  },
  {
   "cell_type": "code",
   "execution_count": null,
   "id": "a74102f8",
   "metadata": {},
   "outputs": [],
   "source": [
    "\"\"\"Simple policy with takes in the previous observation in place of the belief.\"\"\"\n",
    "function POMDPs.action(::AMCITS, s::State)\n",
    "\treturn s.v == 10 ? ACCEPT : REJECT\n",
    "end;"
   ]
  },
  {
   "cell_type": "code",
   "execution_count": null,
   "id": "93128860",
   "metadata": {},
   "outputs": [],
   "source": [
    "AMCITS_policy = AMCITS()\n",
    "simulation(AMCITS_policy, mdp)"
   ]
  },
  {
   "cell_type": "code",
   "execution_count": null,
   "id": "26a8cd1d",
   "metadata": {},
   "outputs": [],
   "source": [
    "@with_kw struct THRESHOLD <: Policy\n",
    "    threshold = 2\n",
    "end\n",
    "# if want to change this need to make it a mutable struct \n",
    "threshold = THRESHOLD(thres)\n",
    "\"\"\"Simple policy with takes in the previous observation in place of the belief.\"\"\"\n",
    "\n",
    "function POMDPs.action(::threshold, s::State)\n",
    "    if s.t <= threshold\n",
    "    return s.v == 10 ? ACCEPT : REJECT\n",
    "end;"
   ]
  },
  {
   "cell_type": "markdown",
   "id": "50ef9852",
   "metadata": {},
   "source": [
    "**Simulation**"
   ]
  },
  {
   "cell_type": "code",
   "execution_count": null,
   "id": "a2d0fba8",
   "metadata": {},
   "outputs": [],
   "source": [
    "# one can use the Rollout Simulator \n",
    "# from the POMDPSimulators package to find the accumulated discounted reward from a single simulated trajectory as follows:\n",
    "function simulation(policy, mdp)\n",
    "    sim = RolloutSimulator()\n",
    "    r = simulate(sim, mdp, policy) #accumulated discounted reward \n",
    "    return r\n",
    "end\n",
    "\n",
    "# under the hood it calls the action for that policy \n",
    "\n"
   ]
  },
  {
   "cell_type": "code",
   "execution_count": null,
   "id": "807298c3",
   "metadata": {},
   "outputs": [],
   "source": [
    "simulation(policy, mdp) # this should be changing becuase our MDP has uncertainty??"
   ]
  },
  {
   "cell_type": "code",
   "execution_count": null,
   "id": "a45fb5be",
   "metadata": {},
   "outputs": [],
   "source": [
    "simulation(accept_all_policy, mdp) # this should be changing becuase our MDP has uncertainty??\n",
    "# might be editing in place somehow? "
   ]
  },
  {
   "cell_type": "code",
   "execution_count": null,
   "id": "cca30a79",
   "metadata": {},
   "outputs": [],
   "source": [
    "function simulations(policy, mdp, n) # n is number of times to run \n",
    "    rewards = []\n",
    "    for i in 1:n\n",
    "        push!(rewards, simulation(policy, mdp))\n",
    "    end\n",
    "    std_rewards = std(rewards)\n",
    "    mean_rewards = mean(rewards)\n",
    "    return mean_rewards, std_rewards, rewards\n",
    "end\n",
    "\n",
    "# only a few times when you wouldn't need to do it. e.g. if no stochastisity in the simulation \n",
    "# if you do have a distribution over initial states it allows us to have aggregate depending on where we are initiatlly \n",
    "# also some randomness in the transition "
   ]
  },
  {
   "cell_type": "code",
   "execution_count": null,
   "id": "2e7d1df0",
   "metadata": {},
   "outputs": [],
   "source": [
    "simulations(policy, mdp, 1000)"
   ]
  },
  {
   "cell_type": "code",
   "execution_count": null,
   "id": "1a92eb7b",
   "metadata": {},
   "outputs": [],
   "source": [
    "simulations(accept_all_policy, mdp, 1000)"
   ]
  },
  {
   "cell_type": "markdown",
   "id": "579e0d01",
   "metadata": {},
   "source": [
    "**Aggregate Metrics**"
   ]
  },
  {
   "cell_type": "code",
   "execution_count": null,
   "id": "25593ee1",
   "metadata": {},
   "outputs": [],
   "source": [
    "total_states = size(𝒮)[1]\n",
    "\n",
    "total_accept = 0\n",
    "total_reject = 0\n",
    "\n",
    "\n",
    "# this is a dictionary mapping a visa staus to \n",
    "# can make it into variables so if we change it...\n",
    "# also possibly make it a counter \n",
    "#visa_statuses = params.visa_status\n",
    "\n",
    "visa_counts = Dict(-5=>0, -4=>0, -3=>0, -2=>0, -1=>0, 0=>0, 1=>0, 2=>0, 3=>0, 4=>0, 5=>0)\n",
    "\n",
    "for c in 0:params.capacity # capacity ends at 0 \n",
    "    for t in 0:params.time # time ends at 0 \n",
    "        for f in params.family_sizes # family size here we should have the ACTUAL family sizes \n",
    "            for v in params.visa_status # actual visa statuses  \n",
    "                state = State(c, t, f, v)\n",
    "                if action(policy, state) == ACCEPT\n",
    "                    total_accept += 1\n",
    "                    visa_counts[v] += 1\n",
    "                else \n",
    "                    total_reject += 1\n",
    "                end\n",
    "            end        \n",
    "        end\n",
    "    end\n",
    "end\n",
    "    \n",
    "percent_accept = total_accept / total_states \n",
    "percent_reject = total_reject / total_states \n",
    "\n",
    "visa_counts\n",
    "    \n",
    "    \n",
    "\n"
   ]
  },
  {
   "cell_type": "code",
   "execution_count": null,
   "id": "389cf691",
   "metadata": {},
   "outputs": [],
   "source": [
    "function getmetrics(policy, mdp)\n",
    "    \n",
    "    total_people = 0\n",
    "    total_accept = 0\n",
    "    total_reject = 0\n",
    "    \n",
    "    # Initialize visa_statuses dictionary\n",
    "    visa_statuses = params.visa_status\n",
    "    visa_dict = Dict()\n",
    "    for v in visa_statuses\n",
    "        visa_dict[v] = 0\n",
    "    end\n",
    "    \n",
    "    for c in 0:params.capacity # capacity ends at 0 \n",
    "        for t in 0:params.time # time ends at 0 \n",
    "            for f in params.family_sizes # family size here we should have the ACTUAL family sizes \n",
    "                for v in params.visa_status # actual visa statuses  \n",
    "                    state = State(c, t, f, v)\n",
    "                    total_people += 1\n",
    "                    if action(policy, state) == ACCEPT\n",
    "                        total_accept += 1\n",
    "                        visa_dict[v] += 1\n",
    "                    else \n",
    "                        total_reject += 1\n",
    "                    end\n",
    "                end        \n",
    "            end\n",
    "        end\n",
    "    end\n",
    "    \n",
    "    print(\"Total people: \", total_people, )\n",
    "    print(\"Total accept: \", total_accept)\n",
    "    print(\"Total reject: \", total_reject)\n",
    "    visa_dict \n",
    "       \n",
    "end "
   ]
  },
  {
   "cell_type": "code",
   "execution_count": null,
   "id": "c84b191b",
   "metadata": {},
   "outputs": [],
   "source": [
    "getmetrics(policy, mdp)"
   ]
  },
  {
   "cell_type": "code",
   "execution_count": null,
   "id": "0aad3aef",
   "metadata": {},
   "outputs": [],
   "source": [
    "#print(${policy} & {percent_accept:.2f}$\\pm${percent_reject:.2f} & {mean_correlation:.2f}$\\pm${std_correlation:.2f} & {mean_mutual_info_regression:.2f}$\\pm${std_mutual_info_regression:.2f}\\\\\\\\\")"
   ]
  },
  {
   "cell_type": "markdown",
   "id": "b5c6b89c",
   "metadata": {},
   "source": [
    "**Visualizations Trial 2**"
   ]
  },
  {
   "cell_type": "code",
   "execution_count": null,
   "id": "63cda74b",
   "metadata": {},
   "outputs": [],
   "source": [
    "\n",
    "function vis_time_step(policy, c, t) # pass in policy and chairs and time remaing. Spit out graph of family size versus visa status.\n",
    "    (vi, fa) = params.size  #visa, family 8, 15\n",
    "    policyGraph = zeros(vi, fa) #8 by 15 matrix of zeroes\n",
    "    \n",
    "    for f in 1:fa\n",
    "        for v in 1:vi\n",
    "            act = action(policy, State(c, t, f, v - 5))\n",
    "            if act == ACCEPT\n",
    "                policyGraph[v,f] = 100\n",
    "            else\n",
    "                policyGraph[v,f] = 0\n",
    "            end\n",
    "        end\n",
    "    end\n",
    "    \n",
    "    x=params.visa_status\n",
    "    y=params.family_sizes\n",
    "    z=policyGraph'\n",
    "    title_time_cap=\"t = $t c = $c \"\n",
    "    return heatmap(x, y, z, aspect_ratio = 1, legend = :none, xlims = (-4,4), xlabel = \"Visa Status\", ylabel = \"Family Size\", ylims = (1,10), title=title_time_cap )\n",
    "    \n",
    "end"
   ]
  },
  {
   "cell_type": "code",
   "execution_count": null,
   "id": "dafe7b51",
   "metadata": {},
   "outputs": [],
   "source": [
    "params.capacity"
   ]
  },
  {
   "cell_type": "code",
   "execution_count": null,
   "id": "b08850d0",
   "metadata": {},
   "outputs": [],
   "source": [
    "# full time and capacity \n",
    "p_1 = vis_time_step(policy, 10, 10)\n"
   ]
  },
  {
   "cell_type": "code",
   "execution_count": null,
   "id": "44e38431",
   "metadata": {},
   "outputs": [],
   "source": [
    "# mid time mid capacity \n",
    "p_2 = vis_time_step(policy, 50, 50)\n"
   ]
  },
  {
   "cell_type": "code",
   "execution_count": null,
   "id": "045fffb4",
   "metadata": {},
   "outputs": [],
   "source": []
  },
  {
   "cell_type": "code",
   "execution_count": null,
   "id": "d1a4d74f",
   "metadata": {},
   "outputs": [],
   "source": [
    "# low time mid capacity\n",
    "p = vis_time_step(policy, 10, 50)\n"
   ]
  },
  {
   "cell_type": "code",
   "execution_count": null,
   "id": "6b4194a2",
   "metadata": {},
   "outputs": [],
   "source": [
    "# low capacity high time\n",
    "p = vis_time_step(policy, 50, 10)\n"
   ]
  },
  {
   "cell_type": "code",
   "execution_count": null,
   "id": "fb8e8b09",
   "metadata": {},
   "outputs": [],
   "source": [
    "# no time or capacity \n",
    "p = vis_time_step(policy, 0, 0)\n"
   ]
  },
  {
   "cell_type": "code",
   "execution_count": null,
   "id": "71977dda",
   "metadata": {},
   "outputs": [],
   "source": [
    "t = 2\n",
    "\"Evacuation Policy when t = $t\""
   ]
  },
  {
   "cell_type": "code",
   "execution_count": null,
   "id": "3cef702d",
   "metadata": {},
   "outputs": [],
   "source": [
    "policy"
   ]
  },
  {
   "cell_type": "code",
   "execution_count": null,
   "id": "e6545eb2",
   "metadata": {},
   "outputs": [],
   "source": [
    "# group plot \n",
    "# http://docs.juliaplots.org/latest/layouts/\n",
    "function vis_all(policy)\n",
    "    total_time = params.time \n",
    "    total_capacity = params.capacity\n",
    "    total_graphs = total_time*total_capacity\n",
    "    heat_maps = []\n",
    "    \n",
    "    for t in 1:2 #total_time\n",
    "        for c in 1:2 #total_capacity\n",
    "            push!(heat_maps, vis_time_step(policy, c, t))\n",
    "        end\n",
    "    end \n",
    "   \n",
    "    plot(heat_maps..., layout=4)\n",
    "end\n",
    "\n",
    "\n",
    "\n",
    "#plot(p_1, p_2, layout = 2)\n"
   ]
  },
  {
   "cell_type": "code",
   "execution_count": null,
   "id": "7010dfb1",
   "metadata": {},
   "outputs": [],
   "source": [
    "heat_maps = vis_all(policy)"
   ]
  },
  {
   "cell_type": "code",
   "execution_count": null,
   "id": "5f763042",
   "metadata": {},
   "outputs": [],
   "source": [
    "plot(\"$heat_maps[i],\" for i in 1:2, layout=2)"
   ]
  },
  {
   "cell_type": "code",
   "execution_count": null,
   "id": "c85d9a72",
   "metadata": {},
   "outputs": [],
   "source": [
    "vis_all(policy)"
   ]
  },
  {
   "cell_type": "code",
   "execution_count": null,
   "id": "d1fe5f66",
   "metadata": {},
   "outputs": [],
   "source": [
    "rand(10, 4)"
   ]
  },
  {
   "cell_type": "code",
   "execution_count": null,
   "id": "7e7196a8",
   "metadata": {},
   "outputs": [],
   "source": [
    "gr(leg = false, bg = :lightgrey)"
   ]
  },
  {
   "cell_type": "code",
   "execution_count": null,
   "id": "1c5bbed4",
   "metadata": {},
   "outputs": [],
   "source": [
    "plot(p1, p2)"
   ]
  },
  {
   "cell_type": "code",
   "execution_count": null,
   "id": "e8c6888c",
   "metadata": {},
   "outputs": [],
   "source": [
    "l = @layout [a b;  c d]\n",
    "p1 = plot(vis_time_step(policy, 1, 0))\n",
    "p2 = plot(vis_time_step(policy, 0, 1))\n",
    "p3 = plot(vis_time_step(policy, 1, 1))\n",
    "p4 = plot(vis_time_step(policy, 1, 1))\n",
    "plot(p1, p2, p3, p4, layout = l)"
   ]
  },
  {
   "cell_type": "code",
   "execution_count": null,
   "id": "3d7b043b",
   "metadata": {},
   "outputs": [],
   "source": [
    "vis_all(policy)"
   ]
  },
  {
   "cell_type": "code",
   "execution_count": null,
   "id": "0dc78336",
   "metadata": {},
   "outputs": [],
   "source": [
    "l = @layout [\n",
    "    a{0.2w} [grid(2,2)\n",
    "             b{0.2h}  ]\n",
    "]"
   ]
  },
  {
   "cell_type": "code",
   "execution_count": null,
   "id": "0557cfae",
   "metadata": {},
   "outputs": [],
   "source": []
  },
  {
   "cell_type": "code",
   "execution_count": null,
   "id": "47caa9ec",
   "metadata": {},
   "outputs": [],
   "source": [
    "vis_all(policy)"
   ]
  },
  {
   "cell_type": "code",
   "execution_count": null,
   "id": "f06dabd5",
   "metadata": {},
   "outputs": [],
   "source": [
    "#@show size(heat_maps) [shouldn't this be 60*20 here]"
   ]
  },
  {
   "cell_type": "code",
   "execution_count": null,
   "id": "23362d51",
   "metadata": {},
   "outputs": [],
   "source": [
    "p = vis(policy, 20, 20)\n",
    "# plot(p)\n",
    "#policyGraph = zeros(5,3) #turns into 5 by 3 matrix\n",
    "#(xmax, ymax) = params.size    \n"
   ]
  },
  {
   "cell_type": "code",
   "execution_count": null,
   "id": "dd45b10c",
   "metadata": {},
   "outputs": [],
   "source": [
    "p = vis(policy, 20, 60)\n",
    "#State(c, t, f, v)"
   ]
  },
  {
   "cell_type": "code",
   "execution_count": null,
   "id": "32f15b37",
   "metadata": {},
   "outputs": [],
   "source": [
    "p = vis(policy, 10, 10)\n"
   ]
  },
  {
   "cell_type": "code",
   "execution_count": null,
   "id": "cee1516a",
   "metadata": {},
   "outputs": [],
   "source": []
  },
  {
   "cell_type": "markdown",
   "id": "b632d64f",
   "metadata": {},
   "source": [
    "**Visualizations**"
   ]
  },
  {
   "cell_type": "code",
   "execution_count": null,
   "id": "88de27cb",
   "metadata": {},
   "outputs": [],
   "source": [
    "# struct evacPolicy <: Policy end "
   ]
  },
  {
   "cell_type": "code",
   "execution_count": null,
   "id": "4373ab84",
   "metadata": {},
   "outputs": [],
   "source": [
    "# function plot_evac(mdp::MDP,\n",
    "#         policy::Policy=NothingPolicy(),  # our policy will have states State(c, t, f, v) with actions (reject/accept)\n",
    "#         iter=0,\n",
    "#         discount=NaN; \n",
    "#         outline=true,\n",
    "#         show_policy=true,\n",
    "#         show_rewards=false, \n",
    "#         outline_state::Union{State, Nothing}=nothing\n",
    "#     )\n",
    "                   \n",
    "#     gr()\n",
    "    \n",
    "#     # what do here? \n",
    "# #     if policy isa NothingPolicy\n",
    "# #         # override when the policy is empty\n",
    "# #         show_policy = false\n",
    "# #     end\n",
    "    \n",
    "#     show_policy = false\n",
    "    \n",
    "# #     U = zeros(1, params.size[1]*params.size[2]) # tryung \n",
    "# #     policy = ones(1, params.size[1]*params.size[2]) # how do you make a policy? \n",
    "# #    DISCUSS \n",
    "#     if iter == 0\n",
    "#         # solver has not been run yet, so we just plot the raw rewards\n",
    "#         # overwrite policy at time=0 to be emp\n",
    "#         U = get_rewards(mdp, policy)\n",
    "#     else\n",
    "#         # otherwise, use the Value Function to get the values (i.e., utility)\n",
    "#         U = values(mdp, policy)\n",
    "#     end\n",
    "    \n",
    "#     # reshape to grid\n",
    "#     (xmax, ymax) = params.size # reshape grid to family size * visa status\n",
    "#     Uxy = reshape(U, xmax, ymax)\n",
    "#     # plot values (i.e the U matrix)\n",
    "#     fig = heatmap(Uxy',\n",
    "#                   legend=:none,\n",
    "#                   aspect_ratio=:equal,\n",
    "#                   framestyle=:box,\n",
    "#                   tickdirection=:out)\n",
    "#     xlims!(0.5, xmax+0.5)\n",
    "#     ylims!(0.5, ymax+0.5)\n",
    "#     xticks!(1:xmax)\n",
    "#     yticks!(1:ymax)\n",
    "#     rectangle(w, h, x, y) = Shape(x .+ [0,w,w,0], y .+ [0,0,h,h])\n",
    "#     # not sure the visualization makes perfect sense since x and y will not have every possible family size...\n",
    "#     # policy_grid(policy::Policy, xmax::Int, ymax::Int, time::Int, capacity::Int)\n",
    "#     # Let x represent family size, y represent visa status \n",
    "#     for x in 1:xmax, y in 1:ymax \n",
    "#         policy_grid(policy, xmax, ymax, 0, 0) # time = 0 and capacity = 0 here - the last time step \n",
    "#         annotate!([(x, y, (grid[x,y], :center, 12, \"Computer Modern\"))])\n",
    "#         rect = rectangle(1, 1, x - 0.5, y - 0.5)\n",
    "#         plot!(rect, fillalpha=0, linecolor=:gray)\n",
    "        \n",
    "#         # Some if statement here to say: \n",
    "#         # if policy at State(c,t,f,v) == ACCEPT\n",
    "#             # color = green\n",
    "#         # else \n",
    "#             # no color \n",
    "#     end\n",
    "#         title!(\"Evacuation Policy Plot$extra_title\")\n",
    "#         return fig \n",
    "# end"
   ]
  },
  {
   "cell_type": "code",
   "execution_count": null,
   "id": "e7934433",
   "metadata": {},
   "outputs": [],
   "source": [
    "# plot_evac(mdp)"
   ]
  },
  {
   "cell_type": "code",
   "execution_count": null,
   "id": "efd4d412",
   "metadata": {},
   "outputs": [],
   "source": [
    "# policy\n",
    "# act = action(policy, State(0,0,1,5))\n"
   ]
  },
  {
   "cell_type": "code",
   "execution_count": null,
   "id": "131a2d04",
   "metadata": {},
   "outputs": [],
   "source": []
  },
  {
   "cell_type": "code",
   "execution_count": null,
   "id": "9e74cee3",
   "metadata": {},
   "outputs": [],
   "source": [
    "# # create policy grid showing the best action in each state at a particular time and capacity \n",
    "# #State(c, t, f, v)\n",
    "# function policy_grid(policy::Policy, xmax::Int, ymax::Int, time::Int, capacity::Int)\n",
    "#     viz_action = Dict(REJECT => \"\",\n",
    "#                   ACCEPT => \"+\",)\n",
    "#     grid = Array{String}(undef, xmax, ymax)\n",
    "#     for x = 1:xmax, y = 1:xmax\n",
    "#         s = State(capacity, time, x, y) # x is family size, v is visa status \n",
    "#         grid[x,y] = viz_action[action(policy, s)] # need to define this action space \n",
    "#     end\n",
    "#     return grid\n",
    "# end\n"
   ]
  },
  {
   "cell_type": "code",
   "execution_count": null,
   "id": "14f35a6e",
   "metadata": {},
   "outputs": [],
   "source": [
    "#(chairs, time, family_size, visa_status)\n",
    "#T(State(-1, -1, 4, 5), ACCEPT)\n",
    "# this is the problem \n",
    "# ACCEPT: State(50, 9, ANYTHING, ANYTHING)\n",
    "# ACCEPT: State(42, 9, ANYTHING, ANYTHING)\n",
    "# REJECT: State(50, 9, ANYTHING, ANYTHING)"
   ]
  },
  {
   "cell_type": "code",
   "execution_count": null,
   "id": "856ea6fd",
   "metadata": {},
   "outputs": [],
   "source": [
    "# T(State(4, 3, 4, 5), ACCEPT)\n"
   ]
  },
  {
   "cell_type": "code",
   "execution_count": null,
   "id": "ab590f71",
   "metadata": {},
   "outputs": [],
   "source": [
    "#T(State(-1, -1, 4, 5), ACCEPT)"
   ]
  }
 ],
 "metadata": {
  "@webio": {
   "lastCommId": "b5d61c2173eb40a488d5cac01c9e13a1",
   "lastKernelId": "c341b7c9-7607-47e4-9d4e-360847dfcdec"
  },
  "kernelspec": {
   "display_name": "Julia 1.6.2",
   "language": "julia",
   "name": "julia-1.6"
  },
  "language_info": {
   "file_extension": ".jl",
   "mimetype": "application/julia",
   "name": "julia",
   "version": "1.6.2"
  }
 },
 "nbformat": 4,
 "nbformat_minor": 5
}
