{
 "cells": [
  {
   "cell_type": "code",
   "execution_count": null,
   "id": "d9f1e2e3",
   "metadata": {},
   "outputs": [],
   "source": [
    "using POMDPs # for MDP type\n",
    "using DiscreteValueIteration\n",
    "using POMDPPolicies\n",
    "using POMDPModelTools #for sparse cat \n",
    "using Parameters\n",
    "using Random\n",
    "using Plots; default(fontfamily=\"Computer Modern\", framestyle=:box) # LaTex-style\n",
    "using QuickPOMDPs\n",
    "using Distributions "
   ]
  },
  {
   "cell_type": "code",
   "execution_count": null,
   "id": "2b9f438e",
   "metadata": {},
   "outputs": [],
   "source": [
    "Random.seed!(123)"
   ]
  },
  {
   "cell_type": "markdown",
   "id": "a4476a99",
   "metadata": {},
   "source": [
    "**Environment Parameters**"
   ]
  },
  {
   "cell_type": "code",
   "execution_count": null,
   "id": "f6b0581f",
   "metadata": {},
   "outputs": [],
   "source": [
    "# moving below becasue need state defined..."
   ]
  },
  {
   "cell_type": "code",
   "execution_count": null,
   "id": "85b0fd63",
   "metadata": {},
   "outputs": [],
   "source": []
  },
  {
   "cell_type": "markdown",
   "id": "2becbdb8",
   "metadata": {},
   "source": [
    "**States**"
   ]
  },
  {
   "cell_type": "code",
   "execution_count": null,
   "id": "4a8cc27e",
   "metadata": {},
   "outputs": [],
   "source": [
    "# A state s in the evacuation problem is a discrete set of 4 values: \n",
    "# chairs remaining, time remaining, family size, and visa status\n",
    "struct State\n",
    "    c::Int # chairs remaining \n",
    "    t::Int # time remaining \n",
    "    f::Int # family size \n",
    "    v::Int # visa status \n",
    "end "
   ]
  },
  {
   "cell_type": "code",
   "execution_count": null,
   "id": "9b97f373",
   "metadata": {},
   "outputs": [],
   "source": [
    "# assume families normally distributed as integers around average family size in afghanistan of 8. \n",
    "# Truncated to include 1 or greater and rounded to be integers \n",
    "@with_kw struct EvacuationParameters\n",
    "    # need the probability that a particular family shows up at the door....\n",
    "    family_sizes::Vector{Int} =  [trunc(Int, x) for x in rand(TruncatedNormal(3, 1, 1, Inf), 10)] \n",
    "    visa_status::Vector{Int} = [-4, -3, -2, 0, 1, 2, 3, 4] #TODO: map to various status \n",
    "    capacity::Int = 20\n",
    "    time::Int = 60\n",
    "    size::Tuple{Int, Int} = (length(visa_status), length(family_sizes)) # size of grid \n",
    "    p_transition::Real = 0.8 # don't we always transition into this since time moves forward? I'm confused... \n",
    "    null_state::State = State(0, 0, 0 ,0) # is there someway to do this???\n",
    "end\n"
   ]
  },
  {
   "cell_type": "code",
   "execution_count": null,
   "id": "bb1dcf7a",
   "metadata": {},
   "outputs": [],
   "source": [
    "params = EvacuationParameters(); "
   ]
  },
  {
   "cell_type": "code",
   "execution_count": null,
   "id": "6bce05cb",
   "metadata": {},
   "outputs": [],
   "source": [
    "# The state space S for the evacuation problem is the set of \n",
    "# all combinations \n",
    "# Question: Do I need the end state here? \n",
    "#𝒮 = [[State(c, t, f, v) for  c=1:params.capacity, t=1:params.time, f=1:params.size[2], v=1:params.size[1]]]\n",
    "𝒮 = []\n",
    "\n",
    "for c in 0:params.capacity # capacity ends at 0 \n",
    "    for t in 0:params.time # time ends at 0 \n",
    "        for f in params.family_sizes # family size here we should have the ACTUAL family sizes \n",
    "            for v in params.visa_status # actual visa statuses \n",
    "                new = State(c, t, f, v) \n",
    "                𝒮 = [𝒮; new]\n",
    "            end\n",
    "        end        \n",
    "    end\n",
    "end\n",
    "𝒮 = [𝒮; params.null_state]\n"
   ]
  },
  {
   "cell_type": "code",
   "execution_count": null,
   "id": "28b8fe7f",
   "metadata": {},
   "outputs": [],
   "source": [
    "@show 𝒮"
   ]
  },
  {
   "cell_type": "code",
   "execution_count": null,
   "id": "8c1f74d3",
   "metadata": {},
   "outputs": [],
   "source": [
    "@show size(𝒮)\n",
    "#@show size[1,1,1,1]\n",
    "#(20, 60, 10, 10)\n",
    "#length(𝒮[1]) = 120000 = 100*60*10*10"
   ]
  },
  {
   "cell_type": "markdown",
   "id": "db20f788",
   "metadata": {},
   "source": [
    "**Actions**"
   ]
  },
  {
   "cell_type": "code",
   "execution_count": null,
   "id": "eeed1f84",
   "metadata": {},
   "outputs": [],
   "source": [
    "# the possible actions are whether accept or reject a family at the gate \n",
    "@enum Action REJECT ACCEPT"
   ]
  },
  {
   "cell_type": "code",
   "execution_count": null,
   "id": "61a11d34",
   "metadata": {},
   "outputs": [],
   "source": [
    "𝒜 = [REJECT, ACCEPT]"
   ]
  },
  {
   "cell_type": "code",
   "execution_count": null,
   "id": "57ee9a74",
   "metadata": {},
   "outputs": [],
   "source": [
    "length(𝒜)"
   ]
  },
  {
   "cell_type": "code",
   "execution_count": null,
   "id": "6bb782f9",
   "metadata": {},
   "outputs": [],
   "source": [
    "v′ = rand(params.visa_status, 1)"
   ]
  },
  {
   "cell_type": "code",
   "execution_count": null,
   "id": "2560de47",
   "metadata": {},
   "outputs": [],
   "source": [
    "v′ = rand(params.visa_status, 1)[1]"
   ]
  },
  {
   "cell_type": "code",
   "execution_count": null,
   "id": "2620c443",
   "metadata": {},
   "outputs": [],
   "source": [
    "# only inbounds if room for the family [assuming would not separate even though might]\n",
    "# and if time is available to enter the airport \n",
    "validtime(s::State) = 0 ≤ s.t "
   ]
  },
  {
   "cell_type": "code",
   "execution_count": null,
   "id": "b5a193ba",
   "metadata": {},
   "outputs": [],
   "source": [
    "validcapacity(s::State) = 0 ≤ s.c "
   ]
  },
  {
   "cell_type": "markdown",
   "id": "9677353c",
   "metadata": {},
   "source": [
    "**Transition Function** "
   ]
  },
  {
   "cell_type": "code",
   "execution_count": null,
   "id": "cdf24312",
   "metadata": {},
   "outputs": [],
   "source": [
    "#XXXXXXXXXXXXXXXXXXXXXXXXXNote from Lilian:XXXXXXXXXXXXXXXXXXXXXXXXXXXXXXXXXXXXXXXXXXXXXXXXXXXXXX\n",
    "# check out https://juliapomdp.github.io/POMDPModelTools.jl/stable/distributions/\n",
    "# we are supposed to return a sparsecat structure with all the states and the prob of going to them next\n",
    "# so i think this is incorrect because we seem to be not returning that\n",
    "# SparseCat(values, probabilities) to create a sparse categorical distribution.\n",
    "#textbook page 148\n",
    "\n",
    "#Other notes:\n",
    "#T = P(S' | S, A), so the probs are always 100% for each action \n",
    "\n",
    "#I figured it out, just havent coded it yet, just have to send back a SparseCat with \n",
    "# if action = accept, new state (S') to be time -1 and seats -1 100% and the rest 0%\n",
    "# if action = reject, send back exact same state space (s') but with time - 1 100% of the time\n",
    "\n",
    "#this is assuming an accept means 100% you get on the plane and reject means you can't sneak onto it. I \n",
    "#I think it might be realistic to make an accept give you a 80% chance of actually getting a seat if accepted.\n",
    "#i read your article and it seemed like it was so disorganized that some of the accepted people didnt \n",
    "#make it. \n",
    "\n",
    "#need to add global rep of all the states so we can check it\n",
    "\n",
    "# think about how to fix the transition function \n",
    "# The transition function returns a distribution over next states given the current state and an action .\n",
    "function T(s::State, a::Action)\n",
    "    # randomly sample a family size and visa status \n",
    "    if s.t == 0\n",
    "        return Deterministic(params.null_state)\n",
    "    end\n",
    "        \n",
    "    #null_state = params.nullstate\n",
    "        \n",
    "    f′ = rand(params.family_sizes, 1)[1]\n",
    "    v′ = rand(params.visa_status, 1)[1] # TODO: possibly make this weighted in some way \n",
    "    #next_states = Vector{State}(undef, Nₐ) \n",
    "    if a == ACCEPT \n",
    "        Nₐ = 2 #80% get a seat, 20% lost it due to poor organization\n",
    "        next_states = Vector{State}(undef, Nₐ) \n",
    "        probabilities = [.80, .20]\n",
    "        next_state_accept = State(s.c - s.f, s.t - 1, f′, v′) # they get seats\n",
    "        next_state_reject = State(s.c, s.t - 1, f′, v′)\n",
    "        if validcapacity(next_state_accept) \n",
    "            next_states[1] = next_state_accept\n",
    "        else\n",
    "            probabilities = [0, 1] #no room for full family :( so we make probability 0 to accept and 1 reject\n",
    "        end\n",
    "        next_states[2] = next_state_reject  # no need to check capacity if rejecting \n",
    "\n",
    "    elseif a == REJECT\n",
    "        Nₐ = 1\n",
    "        next_states = Vector{State}(undef, Nₐ) \n",
    "        probabilities = [1.0]\n",
    "        next_states[1] = State(s.c, s.t - 1, f′, v′) #where they don't get seats\n",
    "    \n",
    "        # handle out-of-bounds transitions\n",
    "    else \n",
    "        Nₐ = 1\n",
    "        next_states = Vector{State}(undef, Nₐ) \n",
    "        probabilities = [1.0]\n",
    "        next_states[1] = s\n",
    "    end\n",
    "    return SparseCat(next_states, probabilities)\n",
    "end\n",
    "\n",
    "    "
   ]
  },
  {
   "cell_type": "code",
   "execution_count": null,
   "id": "b218c265",
   "metadata": {},
   "outputs": [],
   "source": [
    "# struct State\n",
    "#     c::Int # chairs remaining \n",
    "#     t::Int # time remaining \n",
    "# #     f::Int # family size \n",
    "# #     v::Int # visa status \n",
    "# # end \n",
    "T(State(6, 4, 4, 5), ACCEPT)\n",
    "\n",
    "\n",
    "# ACCEPT: State(50, 9, ANYTHING, ANYTHING)\n",
    "# ACCEPT: State(42, 9, ANYTHING, ANYTHING)\n",
    "# REJECT: State(50, 9, ANYTHING, ANYTHING)"
   ]
  },
  {
   "cell_type": "markdown",
   "id": "b8b569a4",
   "metadata": {},
   "source": [
    "**Reward Function**"
   ]
  },
  {
   "cell_type": "code",
   "execution_count": null,
   "id": "5c92b6b3",
   "metadata": {},
   "outputs": [],
   "source": [
    "function R(s::State, a::Action)\n",
    "    # reward is just the visa status times family size i think! \n",
    "    if a == ACCEPT\n",
    "        return s.v*s.f\n",
    "    end\n",
    "    return 0\n",
    "end "
   ]
  },
  {
   "cell_type": "code",
   "execution_count": null,
   "id": "fe0a82b8",
   "metadata": {},
   "outputs": [],
   "source": [
    "#render(mdp; show_rewards=true)\n",
    "#@bind γ Slider(0:0.05:1, default=0.95, show_value=true)\n",
    "# hard code for now. maybe come back to it. \n",
    "γ = 0.95"
   ]
  },
  {
   "cell_type": "code",
   "execution_count": null,
   "id": "556c281a",
   "metadata": {},
   "outputs": [],
   "source": [
    "# when time is 0...possibly encode this into the parameters \n",
    "#termination(s::State) = (s.t == 0 || s.c == 0)\n",
    "\n",
    "termination(s::State) = (s.t == params.null_state.t && s.c == params.null_state.c)"
   ]
  },
  {
   "cell_type": "markdown",
   "id": "f60f056c",
   "metadata": {},
   "source": [
    "**MDP Formulation**"
   ]
  },
  {
   "cell_type": "code",
   "execution_count": null,
   "id": "8210d6e8",
   "metadata": {},
   "outputs": [],
   "source": [
    "# We define the Airport abstract MDP type so we can reference it in other methods.\n",
    "abstract type Evacuation <: MDP{State, Action} end"
   ]
  },
  {
   "cell_type": "code",
   "execution_count": null,
   "id": "0f290802",
   "metadata": {},
   "outputs": [],
   "source": [
    "  # struct State\n",
    "        #     c::Int # chairs remaining \n",
    "        #     t::Int # time remaining \n",
    "        #     f::Int # family size \n",
    "        #     v::Int # visa status \n",
    "        # end \n",
    "c_initial = params.capacity\n",
    "t_initial = params.time\n",
    "f_initial = rand(params.family_sizes, 1)[1]\n",
    "v_initial = rand(params.visa_status, 1)[1]\n",
    "\n",
    "initial_state = State(c_initial, t_initial, f_initial, v_initial)"
   ]
  },
  {
   "cell_type": "code",
   "execution_count": null,
   "id": "2a87c361",
   "metadata": {},
   "outputs": [],
   "source": [
    "statetype = typeof(initial_state)\n",
    "@show initialstate_array = [initial_state]"
   ]
  },
  {
   "cell_type": "code",
   "execution_count": null,
   "id": "755dd058",
   "metadata": {},
   "outputs": [],
   "source": [
    "initialstate_array"
   ]
  },
  {
   "cell_type": "code",
   "execution_count": null,
   "id": "c4c06e40",
   "metadata": {},
   "outputs": [],
   "source": [
    "mdp = QuickMDP(Evacuation,\n",
    "    states       = 𝒮,\n",
    "    actions      = 𝒜,\n",
    "    transition   = T,\n",
    "    reward       = R,\n",
    "    discount     = γ,\n",
    "    initialstate = 𝒮, # initialstate_array,\n",
    "    isterminal   = termination,\n",
    "    render       = render,\n",
    "    statetype    = statetype #\n",
    "    );"
   ]
  },
  {
   "cell_type": "code",
   "execution_count": null,
   "id": "fe7ecfea",
   "metadata": {},
   "outputs": [],
   "source": [
    "#render(mdp)"
   ]
  },
  {
   "cell_type": "code",
   "execution_count": null,
   "id": "141252e0",
   "metadata": {},
   "outputs": [],
   "source": [
    "solver = ValueIterationSolver(max_iterations=30, belres=1e-6, verbose=true);"
   ]
  },
  {
   "cell_type": "markdown",
   "id": "302364c8",
   "metadata": {},
   "source": [
    "**Policy**"
   ]
  },
  {
   "cell_type": "code",
   "execution_count": null,
   "id": "17e25774",
   "metadata": {},
   "outputs": [],
   "source": [
    "# Set discount factor to variable gamma and solve the MDP to obptain policy pi mapping states to actions a"
   ]
  },
  {
   "cell_type": "code",
   "execution_count": null,
   "id": "562a9bdc",
   "metadata": {},
   "outputs": [],
   "source": [
    "@show policy = solve(solver, mdp) "
   ]
  },
  {
   "cell_type": "code",
   "execution_count": null,
   "id": "9c7ea005",
   "metadata": {},
   "outputs": [],
   "source": [
    "@requirements_info ValueIterationSolver() mdp()"
   ]
  },
  {
   "cell_type": "code",
   "execution_count": null,
   "id": "1b1f8db8",
   "metadata": {},
   "outputs": [],
   "source": [
    "# a = action(policy, s) # returns the optimal action for state s\n",
    "# value(policy, s) # returns the optimal value at state s\n"
   ]
  },
  {
   "cell_type": "code",
   "execution_count": null,
   "id": "c43a08bf",
   "metadata": {},
   "outputs": [],
   "source": []
  }
 ],
 "metadata": {
  "kernelspec": {
   "display_name": "Julia 1.6.2",
   "language": "julia",
   "name": "julia-1.6"
  },
  "language_info": {
   "file_extension": ".jl",
   "mimetype": "application/julia",
   "name": "julia",
   "version": "1.6.2"
  }
 },
 "nbformat": 4,
 "nbformat_minor": 5
}
