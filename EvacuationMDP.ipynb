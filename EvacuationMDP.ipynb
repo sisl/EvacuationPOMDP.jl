{
 "cells": [
  {
   "cell_type": "code",
   "execution_count": 1,
   "id": "d1439bc0",
   "metadata": {},
   "outputs": [],
   "source": [
    "using POMDPs # for MDP type\n",
    "using DiscreteValueIteration\n",
    "using POMDPPolicies\n",
    "using POMDPModelTools #for sparse cat \n",
    "using Parameters\n",
    "using Random\n",
    "using Plots; default(fontfamily=\"Computer Modern\", framestyle=:box) # LaTex-style\n",
    "using QuickPOMDPs\n",
    "using Distributions \n",
    "#using PlotlyJS\n",
    "using LinearAlgebra\n",
    "using POMDPSimulators\n",
    "using Measures"
   ]
  },
  {
   "cell_type": "code",
   "execution_count": 2,
   "id": "1775e911",
   "metadata": {},
   "outputs": [
    {
     "data": {
      "text/plain": [
       "MersenneTwister(12648430)"
      ]
     },
     "execution_count": 2,
     "metadata": {},
     "output_type": "execute_result"
    }
   ],
   "source": [
    "Random.seed!(0xC0FFEE)"
   ]
  },
  {
   "cell_type": "markdown",
   "id": "a21058cf",
   "metadata": {},
   "source": [
    "**States**"
   ]
  },
  {
   "cell_type": "code",
   "execution_count": 3,
   "id": "75e654a0",
   "metadata": {},
   "outputs": [],
   "source": [
    "# A state s in the evacuation problem is a discrete set of 4 values: \n",
    "# chairs remaining, time remaining, family size, and visa status\n",
    "struct State\n",
    "    c::Int # chairs remaining \n",
    "    t::Int # time remaining \n",
    "    f::Int # family size \n",
    "    v::Int # visa status \n",
    "end "
   ]
  },
  {
   "cell_type": "markdown",
   "id": "8897ebc7",
   "metadata": {},
   "source": [
    "**Environment Parameters**"
   ]
  },
  {
   "cell_type": "code",
   "execution_count": 4,
   "id": "b9e4868d",
   "metadata": {},
   "outputs": [
    {
     "data": {
      "text/plain": [
       "EvacuationParameters"
      ]
     },
     "execution_count": 4,
     "metadata": {},
     "output_type": "execute_result"
    }
   ],
   "source": [
    "@with_kw struct EvacuationParameters\n",
    "    family_sizes::Vector{Int} = [1, 2, 3, 4, 5] # set with no repeats \n",
    "    family_prob = [.1, .2, .3, .2, .2]\n",
    "    visa_status::Vector{Int} = [-2, -1, 0, 1, 2] #TODO: map to various status \n",
    "    visa_prob = [.1, .1, .4, .2, .2]\n",
    "    # p_visa_status::Vector{Float} = # must sum to 1 \n",
    "    capacity::Int = 60 # keeping these both as integers of 20 for now. \n",
    "    time::Int = 60\n",
    "    size::Tuple{Int, Int} = (length(visa_status), length(family_sizes)) # size of grid \n",
    "    p_transition::Real = 0.8 # don't we always transition into this since time moves forward? I'm confused... \n",
    "    null_state::State = State(-1, -1, -1 ,-1) # is there someway to do this???\n",
    "    accept_prob = [.80, .20]\n",
    "    reject_prob = [1.0]\n",
    "end"
   ]
  },
  {
   "cell_type": "code",
   "execution_count": 5,
   "id": "27f4df6b",
   "metadata": {},
   "outputs": [],
   "source": [
    "params = EvacuationParameters(); "
   ]
  },
  {
   "cell_type": "code",
   "execution_count": 6,
   "id": "8d7ed9cc",
   "metadata": {},
   "outputs": [
    {
     "name": "stdout",
     "output_type": "stream",
     "text": [
      "number_states = params.capacity * params.time * (size(params.family_sizes))[1] * (size(params.visa_status))[1] = 90000\n"
     ]
    },
    {
     "data": {
      "text/plain": [
       "90000"
      ]
     },
     "execution_count": 6,
     "metadata": {},
     "output_type": "execute_result"
    }
   ],
   "source": [
    "@show number_states = params.capacity * params.time * size(params.family_sizes)[1] * size(params.visa_status)[1]"
   ]
  },
  {
   "cell_type": "code",
   "execution_count": 7,
   "id": "84038044",
   "metadata": {},
   "outputs": [
    {
     "data": {
      "text/plain": [
       "93026-element Vector{Any}:\n",
       " State(0, 0, 1, -2)\n",
       " State(0, 0, 1, -1)\n",
       " State(0, 0, 1, 0)\n",
       " State(0, 0, 1, 1)\n",
       " State(0, 0, 1, 2)\n",
       " State(0, 0, 2, -2)\n",
       " State(0, 0, 2, -1)\n",
       " State(0, 0, 2, 0)\n",
       " State(0, 0, 2, 1)\n",
       " State(0, 0, 2, 2)\n",
       " State(0, 0, 3, -2)\n",
       " State(0, 0, 3, -1)\n",
       " State(0, 0, 3, 0)\n",
       " ⋮\n",
       " State(60, 60, 3, 2)\n",
       " State(60, 60, 4, -2)\n",
       " State(60, 60, 4, -1)\n",
       " State(60, 60, 4, 0)\n",
       " State(60, 60, 4, 1)\n",
       " State(60, 60, 4, 2)\n",
       " State(60, 60, 5, -2)\n",
       " State(60, 60, 5, -1)\n",
       " State(60, 60, 5, 0)\n",
       " State(60, 60, 5, 1)\n",
       " State(60, 60, 5, 2)\n",
       " State(-1, -1, -1, -1)"
      ]
     },
     "execution_count": 7,
     "metadata": {},
     "output_type": "execute_result"
    }
   ],
   "source": [
    "# The state space S for the evacuation problem is the set of all combinations \n",
    "𝒮 = []\n",
    "for c in 0:params.capacity # capacity ends at 0 \n",
    "    for t in 0:params.time # time ends at 0 \n",
    "        for f in params.family_sizes # family size here we should have the ACTUAL family sizes \n",
    "            for v in params.visa_status # actual visa statuses \n",
    "                new = State(c, t, f, v) \n",
    "                𝒮 = [𝒮; new]\n",
    "            end\n",
    "        end        \n",
    "    end\n",
    "end\n",
    "𝒮 = [𝒮; params.null_state]\n",
    "\n",
    "\n"
   ]
  },
  {
   "cell_type": "markdown",
   "id": "f9a0c0d5",
   "metadata": {},
   "source": [
    "**Actions**"
   ]
  },
  {
   "cell_type": "code",
   "execution_count": 8,
   "id": "e0ce57ab",
   "metadata": {},
   "outputs": [],
   "source": [
    "# the possible actions are whether accept or reject a family at the gate \n",
    "@enum Action REJECT ACCEPT"
   ]
  },
  {
   "cell_type": "code",
   "execution_count": 9,
   "id": "d07469a5",
   "metadata": {},
   "outputs": [
    {
     "data": {
      "text/plain": [
       "2-element Vector{Action}:\n",
       " REJECT::Action = 0\n",
       " ACCEPT::Action = 1"
      ]
     },
     "execution_count": 9,
     "metadata": {},
     "output_type": "execute_result"
    }
   ],
   "source": [
    "𝒜 = [REJECT, ACCEPT]"
   ]
  },
  {
   "cell_type": "code",
   "execution_count": 10,
   "id": "839bbf8f",
   "metadata": {},
   "outputs": [
    {
     "data": {
      "text/plain": [
       "validtime (generic function with 1 method)"
      ]
     },
     "execution_count": 10,
     "metadata": {},
     "output_type": "execute_result"
    }
   ],
   "source": [
    "# only inbounds if room for the family [assuming would not separate even though might]\n",
    "# and if time is available to enter the airport \n",
    "validtime(s::State) = 0 < s.t "
   ]
  },
  {
   "cell_type": "code",
   "execution_count": 11,
   "id": "32351952",
   "metadata": {},
   "outputs": [
    {
     "data": {
      "text/plain": [
       "validcapacity (generic function with 1 method)"
      ]
     },
     "execution_count": 11,
     "metadata": {},
     "output_type": "execute_result"
    }
   ],
   "source": [
    "validcapacity(s::State) = 0 ≤ s.c # maybe try back to 0 "
   ]
  },
  {
   "cell_type": "markdown",
   "id": "9be60758",
   "metadata": {},
   "source": [
    "**Transition Function** "
   ]
  },
  {
   "cell_type": "code",
   "execution_count": 69,
   "id": "bf68a83a",
   "metadata": {},
   "outputs": [
    {
     "data": {
      "text/plain": [
       "T (generic function with 1 method)"
      ]
     },
     "execution_count": 69,
     "metadata": {},
     "output_type": "execute_result"
    }
   ],
   "source": [
    "#***** OLD ONE THAT WORKED ******\n",
    "function T(s::State, a::Action)\n",
    "    next_states = []\n",
    "    if validtime(s) \n",
    "        \n",
    "        f′ = rand(params.family_sizes) # pull according to those probabilities \n",
    "        v′ = rand(params.visa_status) # TODO: possibly make this weighted in some way \n",
    "        # keep pushing to next states and have a bigger associated probability mass with those possible next states. \n",
    "        # need a for loop iterating over all family sizes and and visa statuses \n",
    "        \n",
    "        if a == ACCEPT \n",
    "            next_state_accept = State(s.c - s.f, s.t - 1, f′, v′) # they get seats\n",
    "            next_state_reject = State(s.c, s.t - 1, f′, v′)\n",
    "            push!(next_states, next_state_accept)\n",
    "            push!(next_states, next_state_reject)\n",
    "            if !validcapacity(next_state_accept) \n",
    "                probabilities = [0, 1] #no room for full family :( so we make probability 0 to accept and 1 reject\n",
    "            else\n",
    "                probabilities = [.80, .20]\n",
    "            end\n",
    "\n",
    "        elseif a == REJECT\n",
    "            probabilities = [1.0]\n",
    "            push!(next_states, State(s.c, s.t - 1, f′, v′))\n",
    "        end\n",
    "    else\n",
    "        push!(next_states,params.null_state)\n",
    "        probabilities = [1]\n",
    "    end\n",
    "    return SparseCat(next_states, probabilities)\n",
    "end"
   ]
  },
  {
   "cell_type": "code",
   "execution_count": 53,
   "id": "7d3d0137",
   "metadata": {},
   "outputs": [
    {
     "data": {
      "text/plain": [
       "T (generic function with 1 method)"
      ]
     },
     "execution_count": 53,
     "metadata": {},
     "output_type": "execute_result"
    }
   ],
   "source": [
    "# #***** ENUMERATING OVER ALL STATES ******\n",
    "\n",
    "# function T(s::State, a::Action)\n",
    "#     #c::Int # chairs remaining \n",
    "#     #t::Int # time remaining \n",
    "#     #f::Int # family size \n",
    "#     #v::Int # visa status \n",
    "#     next_states = []\n",
    "#     probabilities = [] \n",
    "\n",
    "# #     if !validtime(s) \n",
    "# #         push!(next_states,params.null_state)\n",
    "# #         push!(probabilities, 1) # double check \n",
    "# #     else\n",
    "#     if validtime(s)\n",
    "#         if a == ACCEPT \n",
    "#             next_state_accept = State(s.c - s.f, s.t - 1, 1, 1) # they get seats\n",
    "#             if !validcapacity(next_state_accept) \n",
    "#                 prob = [0,1] #no room for full family :( so we make probability 0 to accept and 1 reject\n",
    "#             else\n",
    "#                 prob = params.accept_prob\n",
    "#             end\n",
    "#             for f in 1:length(params.family_sizes)\n",
    "#                 for v in 1:length(params.visa_status)\n",
    "#                      #if get on plan\n",
    "#                     push!(next_states, State(s.c - s.f, s.t - 1, params.family_sizes[f], params.visa_status[v]))\n",
    "#                     push!(probabilities, prob[1] * params.visa_prob[v] * params.family_prob[f])\n",
    "#                      #if not\n",
    "#                     push!(next_states, State(s.c, s.t - 1, params.family_sizes[f], params.visa_status[v]))\n",
    "#                     push!(probabilities, prob[2] * params.visa_prob[v] * params.family_prob[f])                    \n",
    "#                 end\n",
    "#             end\n",
    "#         else   #if reject     \n",
    "#             for f in 1:length(params.family_sizes)\n",
    "#                 for v in 1:length(params.visa_status)\n",
    "#                     push!(next_states, State(s.c, s.t - 1, params.family_sizes[f], params.visa_status[v]))\n",
    "#                     push!(probabilities, params.reject_prob[1] * params.visa_prob[v] * params.family_prob[f])    \n",
    "#                 end\n",
    "#             end  \n",
    "#         end\n",
    "#     end                \n",
    "#     return SparseCat(next_states, probabilities)\n",
    "# end      "
   ]
  },
  {
   "cell_type": "code",
   "execution_count": 70,
   "id": "66ddbe7f",
   "metadata": {},
   "outputs": [
    {
     "data": {
      "text/plain": [
       "                                   \u001b[1mSparseCat distribution\u001b[22m           \n",
       "                         \u001b[90m┌                                        ┐\u001b[39m \n",
       "   \u001b[0mState(-1, -1, -1, -1) \u001b[90m┤\u001b[39m\u001b[38;5;2m■■■■■■■■■■■■■■■■■■■■■■■■■■■■■■■■■■■\u001b[39m\u001b[0m 1.0 \u001b[90m \u001b[39m \n",
       "                         \u001b[90m└                                        ┘\u001b[39m "
      ]
     },
     "execution_count": 70,
     "metadata": {},
     "output_type": "execute_result"
    }
   ],
   "source": [
    "check = T(State(2,0,2,2), ACCEPT)\n",
    "#check = T(State(0,10,2,2), ACCEPT) # im confused with what should be happening here...."
   ]
  },
  {
   "cell_type": "markdown",
   "id": "9b7629b2",
   "metadata": {},
   "source": [
    "**Reward Function**"
   ]
  },
  {
   "cell_type": "code",
   "execution_count": 71,
   "id": "c0022d74",
   "metadata": {},
   "outputs": [
    {
     "data": {
      "text/plain": [
       "R (generic function with 1 method)"
      ]
     },
     "execution_count": 71,
     "metadata": {},
     "output_type": "execute_result"
    }
   ],
   "source": [
    "function R(s::State, a::Action)\n",
    "    # reward is just the visa status times family size i think! \n",
    "    if a == ACCEPT\n",
    "        return s.v*s.f\n",
    "    end\n",
    "    return 0\n",
    "end "
   ]
  },
  {
   "cell_type": "code",
   "execution_count": 72,
   "id": "2179f471",
   "metadata": {},
   "outputs": [
    {
     "data": {
      "text/plain": [
       "0.95"
      ]
     },
     "execution_count": 72,
     "metadata": {},
     "output_type": "execute_result"
    }
   ],
   "source": [
    "#render(mdp; show_rewards=true)\n",
    "#@bind γ Slider(0:0.05:1, default=0.95, show_value=true)\n",
    "# hard code for now. maybe come back to it. \n",
    "γ = 0.95"
   ]
  },
  {
   "cell_type": "code",
   "execution_count": 73,
   "id": "00c36682",
   "metadata": {},
   "outputs": [
    {
     "data": {
      "text/plain": [
       "termination (generic function with 1 method)"
      ]
     },
     "execution_count": 73,
     "metadata": {},
     "output_type": "execute_result"
    }
   ],
   "source": [
    "termination(s::State)= s == params.null_state # change to 1 or the other "
   ]
  },
  {
   "cell_type": "markdown",
   "id": "4f975135",
   "metadata": {},
   "source": [
    "**MDP Formulation**"
   ]
  },
  {
   "cell_type": "code",
   "execution_count": 74,
   "id": "aa4058f8",
   "metadata": {},
   "outputs": [],
   "source": [
    "# We define the Airport abstract MDP type so we can reference it in other methods.\n",
    "abstract type Evacuation <: MDP{State, Action} end"
   ]
  },
  {
   "cell_type": "code",
   "execution_count": 75,
   "id": "6f0ad105",
   "metadata": {},
   "outputs": [
    {
     "data": {
      "text/plain": [
       "State(60, 60, 5, 0)"
      ]
     },
     "execution_count": 75,
     "metadata": {},
     "output_type": "execute_result"
    }
   ],
   "source": [
    "c_initial = params.capacity\n",
    "t_initial = params.time\n",
    "f_initial = rand(params.family_sizes, 1)[1]\n",
    "v_initial = rand(params.visa_status, 1)[1]\n",
    "\n",
    "initial_state = State(c_initial, t_initial, f_initial, v_initial)"
   ]
  },
  {
   "cell_type": "code",
   "execution_count": 76,
   "id": "028c9b87",
   "metadata": {},
   "outputs": [
    {
     "data": {
      "text/plain": [
       "1-element Vector{State}:\n",
       " State(60, 60, 5, 0)"
      ]
     },
     "execution_count": 76,
     "metadata": {},
     "output_type": "execute_result"
    }
   ],
   "source": [
    "statetype = typeof(initial_state)\n",
    "initialstate_array = [initial_state]"
   ]
  },
  {
   "cell_type": "code",
   "execution_count": 77,
   "id": "34895203",
   "metadata": {},
   "outputs": [],
   "source": [
    "mdp = QuickMDP(Evacuation,\n",
    "    states       = 𝒮,\n",
    "    actions      = 𝒜,\n",
    "    transition   = T,\n",
    "    reward       = R,\n",
    "    discount     = γ,\n",
    "    initialstate = initialstate_array, \n",
    "    isterminal   = termination,\n",
    "    render       = render,\n",
    "    statetype    = statetype \n",
    "    );"
   ]
  },
  {
   "cell_type": "code",
   "execution_count": 78,
   "id": "2dec2621",
   "metadata": {},
   "outputs": [],
   "source": [
    "solver = ValueIterationSolver(max_iterations=30, belres=1e-6, verbose=true);"
   ]
  },
  {
   "cell_type": "code",
   "execution_count": 79,
   "id": "4a674f64",
   "metadata": {},
   "outputs": [],
   "source": [
    "# MY PREDICTION ABOUT WHAT IS GOING WRONG: \n",
    "# Read more about simulations. maybe we are supposed to plot the policy that is created from the simulation \n",
    "# we are close! "
   ]
  },
  {
   "cell_type": "markdown",
   "id": "6d829758",
   "metadata": {},
   "source": [
    "**Policy**"
   ]
  },
  {
   "cell_type": "code",
   "execution_count": 91,
   "id": "7dbbd783",
   "metadata": {},
   "outputs": [
    {
     "name": "stdout",
     "output_type": "stream",
     "text": [
      "[Iteration 1   ] residual:       83.5 | iteration runtime:    375.053 ms, (     0.375 s total)\n",
      "[Iteration 2   ] residual:       29.1 | iteration runtime:    346.695 ms, (     0.722 s total)\n",
      "[Iteration 3   ] residual:       28.9 | iteration runtime:    360.088 ms, (      1.08 s total)\n",
      "[Iteration 4   ] residual:         26 | iteration runtime:    345.268 ms, (      1.43 s total)\n",
      "[Iteration 5   ] residual:       26.6 | iteration runtime:    355.430 ms, (      1.78 s total)\n",
      "[Iteration 6   ] residual:       25.2 | iteration runtime:    346.626 ms, (      2.13 s total)\n",
      "[Iteration 7   ] residual:       27.7 | iteration runtime:    350.874 ms, (      2.48 s total)\n",
      "[Iteration 8   ] residual:       26.4 | iteration runtime:    345.487 ms, (      2.83 s total)\n",
      "[Iteration 9   ] residual:         27 | iteration runtime:    354.675 ms, (      3.18 s total)\n",
      "[Iteration 10  ] residual:       28.1 | iteration runtime:    352.277 ms, (      3.53 s total)\n",
      "[Iteration 11  ] residual:       30.5 | iteration runtime:    350.879 ms, (      3.88 s total)\n",
      "[Iteration 12  ] residual:       28.9 | iteration runtime:    347.358 ms, (      4.23 s total)\n",
      "[Iteration 13  ] residual:         30 | iteration runtime:    345.031 ms, (      4.58 s total)\n",
      "[Iteration 14  ] residual:       28.8 | iteration runtime:    344.888 ms, (      4.92 s total)\n",
      "[Iteration 15  ] residual:       33.2 | iteration runtime:    345.233 ms, (      5.27 s total)\n",
      "[Iteration 16  ] residual:       26.6 | iteration runtime:    352.613 ms, (      5.62 s total)\n",
      "[Iteration 17  ] residual:       26.2 | iteration runtime:    354.908 ms, (      5.97 s total)\n",
      "[Iteration 18  ] residual:       26.2 | iteration runtime:    347.989 ms, (      6.32 s total)\n",
      "[Iteration 19  ] residual:       26.8 | iteration runtime:    353.547 ms, (      6.67 s total)\n",
      "[Iteration 20  ] residual:       28.9 | iteration runtime:    348.105 ms, (      7.02 s total)\n",
      "[Iteration 21  ] residual:       28.2 | iteration runtime:    346.369 ms, (      7.37 s total)\n",
      "[Iteration 22  ] residual:       25.8 | iteration runtime:    348.571 ms, (      7.72 s total)\n",
      "[Iteration 23  ] residual:       26.3 | iteration runtime:    350.054 ms, (      8.07 s total)\n",
      "[Iteration 24  ] residual:       27.8 | iteration runtime:    347.702 ms, (      8.42 s total)\n",
      "[Iteration 25  ] residual:       30.1 | iteration runtime:    352.549 ms, (      8.77 s total)\n",
      "[Iteration 26  ] residual:       28.9 | iteration runtime:    346.175 ms, (      9.11 s total)\n",
      "[Iteration 27  ] residual:       32.9 | iteration runtime:    347.015 ms, (      9.46 s total)\n",
      "[Iteration 28  ] residual:       24.8 | iteration runtime:    348.476 ms, (      9.81 s total)\n",
      "[Iteration 29  ] residual:       26.6 | iteration runtime:    349.394 ms, (      10.2 s total)\n",
      "[Iteration 30  ] residual:       27.9 | iteration runtime:    353.808 ms, (      10.5 s total)\n"
     ]
    },
    {
     "data": {
      "text/plain": [
       "ValueIterationPolicy:\n",
       " State(0, 0, 1, -2) -> REJECT\n",
       " State(0, 0, 1, -1) -> REJECT\n",
       " State(0, 0, 1, 0) -> REJECT\n",
       " State(0, 0, 1, 1) -> ACCEPT\n",
       " State(0, 0, 1, 2) -> ACCEPT\n",
       " State(0, 0, 2, -2) -> REJECT\n",
       " State(0, 0, 2, -1) -> REJECT\n",
       " State(0, 0, 2, 0) -> REJECT\n",
       " State(0, 0, 2, 1) -> ACCEPT\n",
       " State(0, 0, 2, 2) -> ACCEPT\n",
       " State(0, 0, 3, -2) -> REJECT\n",
       " State(0, 0, 3, -1) -> REJECT\n",
       " State(0, 0, 3, 0) -> REJECT\n",
       " State(0, 0, 3, 1) -> ACCEPT\n",
       " State(0, 0, 3, 2) -> ACCEPT\n",
       " State(0, 0, 4, -2) -> REJECT\n",
       " State(0, 0, 4, -1) -> REJECT\n",
       " State(0, 0, 4, 0) -> REJECT\n",
       " State(0, 0, 4, 1) -> ACCEPT\n",
       " State(0, 0, 4, 2) -> ACCEPT\n",
       " State(0, 0, 5, -2) -> REJECT\n",
       " State(0, 0, 5, -1) -> REJECT\n",
       " State(0, 0, 5, 0) -> REJECT\n",
       " State(0, 0, 5, 1) -> ACCEPT\n",
       " State(0, 0, 5, 2) -> ACCEPT\n",
       " …"
      ]
     },
     "execution_count": 91,
     "metadata": {},
     "output_type": "execute_result"
    }
   ],
   "source": [
    "mdp_policy = solve(solver, mdp) "
   ]
  },
  {
   "cell_type": "markdown",
   "id": "d0b557df",
   "metadata": {},
   "source": [
    "**Basesline Policies**"
   ]
  },
  {
   "cell_type": "code",
   "execution_count": null,
   "id": "87332ccb",
   "metadata": {},
   "outputs": [],
   "source": [
    "# Examples of how to make policies: \n",
    "#https://htmlview.glitch.me/?https://github.com/JuliaAcademy/Decision-Making-Under-Uncertainty/blob/master/html/2-POMDPs.jl.html"
   ]
  },
  {
   "cell_type": "code",
   "execution_count": 112,
   "id": "a74102f8",
   "metadata": {},
   "outputs": [
    {
     "data": {
      "text/plain": [
       "(0.27834994383923933, 15.08033104525932)"
      ]
     },
     "execution_count": 112,
     "metadata": {},
     "output_type": "execute_result"
    }
   ],
   "source": [
    "\"\"\"AcceptAll\"\"\"\n",
    "struct AcceptAll <: Policy end\n",
    "\n",
    "# accept everyone until capacity is 0\n",
    "function POMDPs.action(::AcceptAll, s::State)    # action(policy, state)\n",
    "    return ACCEPT\n",
    "end;\n",
    "\n",
    "AcceptAll_policy = AcceptAll()\n",
    "\n",
    "simulations(AcceptAll_policy, mdp, 100) #how it will be called "
   ]
  },
  {
   "cell_type": "code",
   "execution_count": null,
   "id": "cf2ebe54",
   "metadata": {},
   "outputs": [],
   "source": [
    "#simulations(test_policy, mdp, 100) #how it will be called "
   ]
  },
  {
   "cell_type": "code",
   "execution_count": 116,
   "id": "93128860",
   "metadata": {},
   "outputs": [
    {
     "data": {
      "text/plain": [
       "(24.206226109920827, 8.56462147939779)"
      ]
     },
     "execution_count": 116,
     "metadata": {},
     "output_type": "execute_result"
    }
   ],
   "source": [
    "\"\"\"AMCITS\"\"\"\n",
    "struct AMCITS <: Policy end\n",
    "\n",
    "function POMDPs.action(::AMCITS, s::State)\n",
    "    return (s.v == 2)  ? ACCEPT : REJECT\n",
    "end;\n",
    "\n",
    "AMCITS_policy = AMCITS()\n",
    "\n",
    "simulations(AMCITS_policy, mdp, 10) #how it will be called "
   ]
  },
  {
   "cell_type": "code",
   "execution_count": 118,
   "id": "2ba06f60",
   "metadata": {},
   "outputs": [
    {
     "data": {
      "text/plain": [
       "(34.29551665080522, 7.7824231666262875)"
      ]
     },
     "execution_count": 118,
     "metadata": {},
     "output_type": "execute_result"
    }
   ],
   "source": [
    "\"\"\"SIV_AMCITS \"\"\"\n",
    "struct SIV_AMCITS <: Policy end\n",
    "\n",
    "function POMDPs.action(::SIV_AMCITS, s::State)\n",
    "    return (s.v == 2 || s.v == 1) ? ACCEPT : REJECT\n",
    "end;\n",
    "SIV_AMCITS_policy = SIV_AMCITS()\n",
    "\n",
    "\n",
    "simulations(SIV_AMCITS_policy, mdp, 10) #how it will be called "
   ]
  },
  {
   "cell_type": "code",
   "execution_count": 108,
   "id": "3b4fd55e",
   "metadata": {},
   "outputs": [
    {
     "data": {
      "text/plain": [
       "AfterThresholdAMCITS\n",
       "  threshold: Int64 20\n"
      ]
     },
     "execution_count": 108,
     "metadata": {},
     "output_type": "execute_result"
    }
   ],
   "source": [
    "\"\"\"AfterThresholdAMCITS\"\"\"\n",
    "# if want to change this need to make it a mutable struct \n",
    "@with_kw struct AfterThresholdAMCITS <: Policy\n",
    "    threshold = 20 # could define this in parameters \n",
    "end\n",
    "\n",
    "function POMDPs.action(policy::AfterThresholdAMCITS, s::State)\n",
    "    if s.t <= 20 #policy.threshold\n",
    "        return s.v == 5 ? ACCEPT : REJECT\n",
    "    else\n",
    "        return action(mdp_policy, s)\n",
    "    end\n",
    "end\n",
    "\n",
    "# function POMDPs.action(::AfterThresholdAMCITS, s::State)\n",
    "    \n",
    "#     # regular MDP up until that point \n",
    "#     return (((s.c-s.f) >= 0 && s.t >= 0) && s.t <= 20 && s.v == 5) ? ACCEPT : REJECT # make the threshold a variable \n",
    "# end;\n",
    "        \n",
    "SIV_AfterThresholdAMCITS_policy = AfterThresholdAMCITS()\n",
    "#simulations(SIV_AfterThresholdAMCITS_policy, mdp, 10)\n"
   ]
  },
  {
   "cell_type": "code",
   "execution_count": 109,
   "id": "26a8cd1d",
   "metadata": {},
   "outputs": [
    {
     "data": {
      "text/plain": [
       "BeforeThresholdAMCITS\n",
       "  threshold: Int64 20\n"
      ]
     },
     "execution_count": 109,
     "metadata": {},
     "output_type": "execute_result"
    }
   ],
   "source": [
    "\"\"\"BeforeThresholdAMCITS\"\"\"\n",
    "@with_kw struct BeforeThresholdAMCITS <: Policy\n",
    "    threshold = 20\n",
    "end\n",
    "\n",
    "function POMDPs.action(policy::BeforeThresholdAMCITS, s::State)\n",
    "    if s.t >= 20 #policy.threshold\n",
    "        return s.v == 5 ? ACCEPT : REJECT\n",
    "    else\n",
    "        return action(mdp_policy, s)\n",
    "    end\n",
    "end\n",
    "\n",
    "        \n",
    "BeforeThresholdAMCITS_policy = BeforeThresholdAMCITS()\n",
    "#simulations(BeforeThresholdAMCITS_policy, mdp, 10)\n",
    "# could play with changing this threshold\n"
   ]
  },
  {
   "cell_type": "code",
   "execution_count": 96,
   "id": "75ed698d",
   "metadata": {},
   "outputs": [
    {
     "data": {
      "text/plain": [
       "simulation (generic function with 1 method)"
      ]
     },
     "execution_count": 96,
     "metadata": {},
     "output_type": "execute_result"
    }
   ],
   "source": [
    "function simulation(policy, mdp)\n",
    "    sim = RolloutSimulator()\n",
    "    r = simulate(sim, mdp, policy) #accumulated discounted reward \n",
    "    # could we also return the number of ppl on the plane? \n",
    "    return r\n",
    "end"
   ]
  },
  {
   "cell_type": "code",
   "execution_count": 98,
   "id": "e64b8618",
   "metadata": {},
   "outputs": [
    {
     "data": {
      "text/plain": [
       "30.039894189611125"
      ]
     },
     "execution_count": 98,
     "metadata": {},
     "output_type": "execute_result"
    }
   ],
   "source": [
    "simulation(SIV_AfterThresholdAMCITS_policy, mdp)"
   ]
  },
  {
   "cell_type": "code",
   "execution_count": 97,
   "id": "23fe919a",
   "metadata": {},
   "outputs": [
    {
     "data": {
      "text/plain": [
       "30.629320285409488"
      ]
     },
     "execution_count": 97,
     "metadata": {},
     "output_type": "execute_result"
    }
   ],
   "source": [
    "simulation(mdp_policy, mdp)"
   ]
  },
  {
   "cell_type": "markdown",
   "id": "50ef9852",
   "metadata": {},
   "source": [
    "**Simulation**"
   ]
  },
  {
   "cell_type": "code",
   "execution_count": 83,
   "id": "a2d0fba8",
   "metadata": {},
   "outputs": [
    {
     "data": {
      "text/plain": [
       "simulation (generic function with 1 method)"
      ]
     },
     "execution_count": 83,
     "metadata": {},
     "output_type": "execute_result"
    }
   ],
   "source": [
    "# # for reference, this is what is happening in sim\n",
    "# # b = initialize_belief(up, b0)\n",
    "\n",
    "# r_total = 0.0\n",
    "# d = 1.0\n",
    "# while !isterminal(pomdp, s)\n",
    "#     a = action(policy, b)\n",
    "#     s, o, r = @gen(:sp,:o,:r)(pomdp, s, a) # gen is \n",
    "#     r_total += d*r\n",
    "#     d *= discount(pomdp)\n",
    "#     b = update(up, b, a, o)\n",
    "# end\n",
    "\n",
    "# gen is     \n",
    "#     sp = rand(transition(pomdp, s, a))\n",
    "#     o = rand(observation(pomdp, s, a, sp))\n",
    "#     r = reward(pomdp, s, a, sp, o)\n",
    "#     s = sp\n",
    "# function simulation(policy, mdp)\n",
    "#     sim = RolloutSimulator()\n",
    "#     r = simulate(sim, mdp, policy) #accumulated discounted reward \n",
    "#     # could we also return the number of ppl on the plane? \n",
    "#     return r\n",
    "# end\n",
    "\n",
    "# INTEGRATE HISTORY HERE https://juliapomdp.github.io/POMDPSimulators.jl/latest/histories/#Examples and use in stats\n",
    "function simulation(policy, mdp)\n",
    "    hr = HistoryRecorder()\n",
    "    #sim = RolloutSimulator()\n",
    "    history = simulate(hr, mdp, policy)\n",
    "    #r = simulate(sim, mdp, policy) #accumulated discounted reward \n",
    "    # could we also return the number of ppl on the plane? \n",
    "    return history\n",
    "end\n"
   ]
  },
  {
   "cell_type": "code",
   "execution_count": 87,
   "id": "7323347b",
   "metadata": {},
   "outputs": [
    {
     "data": {
      "text/plain": [
       "61-element SimHistory{NamedTuple{(:s, :a, :sp, :r, :info, :t, :action_info), Tuple{State, Action, State, Int64, Nothing, Int64, Nothing}}, Float64}:\n",
       " (s = State(60, 60, 5, 0), a = REJECT, sp = State(60, 59, 5, 0), r = 0, info = nothing, t = 1, action_info = nothing)\n",
       " (s = State(60, 59, 5, 0), a = ACCEPT, sp = State(55, 58, 1, -1), r = 0, info = nothing, t = 2, action_info = nothing)\n",
       " (s = State(55, 58, 1, -1), a = ACCEPT, sp = State(54, 57, 3, 2), r = -1, info = nothing, t = 3, action_info = nothing)\n",
       " (s = State(54, 57, 3, 2), a = ACCEPT, sp = State(51, 56, 1, -1), r = 6, info = nothing, t = 4, action_info = nothing)\n",
       " (s = State(51, 56, 1, -1), a = REJECT, sp = State(51, 55, 2, 1), r = 0, info = nothing, t = 5, action_info = nothing)\n",
       " (s = State(51, 55, 2, 1), a = ACCEPT, sp = State(49, 54, 2, 2), r = 2, info = nothing, t = 6, action_info = nothing)\n",
       " (s = State(49, 54, 2, 2), a = ACCEPT, sp = State(47, 53, 4, 1), r = 4, info = nothing, t = 7, action_info = nothing)\n",
       " (s = State(47, 53, 4, 1), a = REJECT, sp = State(47, 52, 4, 2), r = 0, info = nothing, t = 8, action_info = nothing)\n",
       " (s = State(47, 52, 4, 2), a = ACCEPT, sp = State(43, 51, 3, 2), r = 8, info = nothing, t = 9, action_info = nothing)\n",
       " (s = State(43, 51, 3, 2), a = REJECT, sp = State(43, 50, 2, 0), r = 0, info = nothing, t = 10, action_info = nothing)\n",
       " (s = State(43, 50, 2, 0), a = REJECT, sp = State(43, 49, 5, 2), r = 0, info = nothing, t = 11, action_info = nothing)\n",
       " (s = State(43, 49, 5, 2), a = ACCEPT, sp = State(38, 48, 1, -2), r = 10, info = nothing, t = 12, action_info = nothing)\n",
       " (s = State(38, 48, 1, -2), a = ACCEPT, sp = State(38, 47, 2, -2), r = -2, info = nothing, t = 13, action_info = nothing)\n",
       " ⋮\n",
       " (s = State(1, 11, 4, 1), a = REJECT, sp = State(1, 10, 5, -1), r = 0, info = nothing, t = 50, action_info = nothing)\n",
       " (s = State(1, 10, 5, -1), a = REJECT, sp = State(1, 9, 3, -2), r = 0, info = nothing, t = 51, action_info = nothing)\n",
       " (s = State(1, 9, 3, -2), a = REJECT, sp = State(1, 8, 3, 0), r = 0, info = nothing, t = 52, action_info = nothing)\n",
       " (s = State(1, 8, 3, 0), a = REJECT, sp = State(1, 7, 3, -2), r = 0, info = nothing, t = 53, action_info = nothing)\n",
       " (s = State(1, 7, 3, -2), a = REJECT, sp = State(1, 6, 5, 1), r = 0, info = nothing, t = 54, action_info = nothing)\n",
       " (s = State(1, 6, 5, 1), a = ACCEPT, sp = State(1, 5, 4, -2), r = 5, info = nothing, t = 55, action_info = nothing)\n",
       " (s = State(1, 5, 4, -2), a = REJECT, sp = State(1, 4, 3, 2), r = 0, info = nothing, t = 56, action_info = nothing)\n",
       " (s = State(1, 4, 3, 2), a = ACCEPT, sp = State(1, 3, 1, -2), r = 6, info = nothing, t = 57, action_info = nothing)\n",
       " (s = State(1, 3, 1, -2), a = REJECT, sp = State(1, 2, 3, 2), r = 0, info = nothing, t = 58, action_info = nothing)\n",
       " (s = State(1, 2, 3, 2), a = ACCEPT, sp = State(1, 1, 2, 0), r = 6, info = nothing, t = 59, action_info = nothing)\n",
       " (s = State(1, 1, 2, 0), a = ACCEPT, sp = State(1, 0, 2, -2), r = 0, info = nothing, t = 60, action_info = nothing)\n",
       " (s = State(1, 0, 2, -2), a = REJECT, sp = State(-1, -1, -1, -1), r = 0, info = nothing, t = 61, action_info = nothing)"
      ]
     },
     "execution_count": 87,
     "metadata": {},
     "output_type": "execute_result"
    }
   ],
   "source": [
    "hist = simulation(policy, mdp)"
   ]
  },
  {
   "cell_type": "code",
   "execution_count": 89,
   "id": "8057276d",
   "metadata": {},
   "outputs": [
    {
     "data": {
      "text/plain": [
       "State(60, 60, 5, 0)"
      ]
     },
     "execution_count": 89,
     "metadata": {},
     "output_type": "execute_result"
    }
   ],
   "source": [
    "hist[1][:s] # returns the first state in the history\n"
   ]
  },
  {
   "cell_type": "code",
   "execution_count": 90,
   "id": "1b2ab7a9",
   "metadata": {},
   "outputs": [
    {
     "data": {
      "text/plain": [
       "Base.Generator{Vector{NamedTuple{(:s, :a, :sp, :r, :info, :t, :action_info), Tuple{State, Action, State, Int64, Nothing, Int64, Nothing}}}, POMDPSimulators.var\"#8#9\"{Symbol}}(POMDPSimulators.var\"#8#9\"{Symbol}(:a), NamedTuple{(:s, :a, :sp, :r, :info, :t, :action_info), Tuple{State, Action, State, Int64, Nothing, Int64, Nothing}}[(s = State(60, 60, 5, 0), a = REJECT, sp = State(60, 59, 5, 0), r = 0, info = nothing, t = 1, action_info = nothing), (s = State(60, 59, 5, 0), a = ACCEPT, sp = State(55, 58, 1, -1), r = 0, info = nothing, t = 2, action_info = nothing), (s = State(55, 58, 1, -1), a = ACCEPT, sp = State(54, 57, 3, 2), r = -1, info = nothing, t = 3, action_info = nothing), (s = State(54, 57, 3, 2), a = ACCEPT, sp = State(51, 56, 1, -1), r = 6, info = nothing, t = 4, action_info = nothing), (s = State(51, 56, 1, -1), a = REJECT, sp = State(51, 55, 2, 1), r = 0, info = nothing, t = 5, action_info = nothing), (s = State(51, 55, 2, 1), a = ACCEPT, sp = State(49, 54, 2, 2), r = 2, info = nothing, t = 6, action_info = nothing), (s = State(49, 54, 2, 2), a = ACCEPT, sp = State(47, 53, 4, 1), r = 4, info = nothing, t = 7, action_info = nothing), (s = State(47, 53, 4, 1), a = REJECT, sp = State(47, 52, 4, 2), r = 0, info = nothing, t = 8, action_info = nothing), (s = State(47, 52, 4, 2), a = ACCEPT, sp = State(43, 51, 3, 2), r = 8, info = nothing, t = 9, action_info = nothing), (s = State(43, 51, 3, 2), a = REJECT, sp = State(43, 50, 2, 0), r = 0, info = nothing, t = 10, action_info = nothing)  …  (s = State(1, 9, 3, -2), a = REJECT, sp = State(1, 8, 3, 0), r = 0, info = nothing, t = 52, action_info = nothing), (s = State(1, 8, 3, 0), a = REJECT, sp = State(1, 7, 3, -2), r = 0, info = nothing, t = 53, action_info = nothing), (s = State(1, 7, 3, -2), a = REJECT, sp = State(1, 6, 5, 1), r = 0, info = nothing, t = 54, action_info = nothing), (s = State(1, 6, 5, 1), a = ACCEPT, sp = State(1, 5, 4, -2), r = 5, info = nothing, t = 55, action_info = nothing), (s = State(1, 5, 4, -2), a = REJECT, sp = State(1, 4, 3, 2), r = 0, info = nothing, t = 56, action_info = nothing), (s = State(1, 4, 3, 2), a = ACCEPT, sp = State(1, 3, 1, -2), r = 6, info = nothing, t = 57, action_info = nothing), (s = State(1, 3, 1, -2), a = REJECT, sp = State(1, 2, 3, 2), r = 0, info = nothing, t = 58, action_info = nothing), (s = State(1, 2, 3, 2), a = ACCEPT, sp = State(1, 1, 2, 0), r = 6, info = nothing, t = 59, action_info = nothing), (s = State(1, 1, 2, 0), a = ACCEPT, sp = State(1, 0, 2, -2), r = 0, info = nothing, t = 60, action_info = nothing), (s = State(1, 0, 2, -2), a = REJECT, sp = State(-1, -1, -1, -1), r = 0, info = nothing, t = 61, action_info = nothing)])"
      ]
     },
     "execution_count": 90,
     "metadata": {},
     "output_type": "execute_result"
    }
   ],
   "source": [
    "hist[:a] # returns all of the actions in the history\n"
   ]
  },
  {
   "cell_type": "code",
   "execution_count": null,
   "id": "d861fae4",
   "metadata": {},
   "outputs": [],
   "source": [
    "hr = HistoryRecorder(max_steps=5)\n",
    "history = simulate(hr, mdp, policy);\n",
    "\n",
    "#history = simulate(his, mdp, policy)\n",
    "# r = simulate(sim, mdp, policy) #accumulated discounted reward \n",
    "hist[1][:s] # returns the first state in the history\n",
    "hist[:a] # returns all of the actions in the history\n"
   ]
  },
  {
   "cell_type": "code",
   "execution_count": 99,
   "id": "cca30a79",
   "metadata": {},
   "outputs": [
    {
     "data": {
      "text/plain": [
       "simulations (generic function with 1 method)"
      ]
     },
     "execution_count": 99,
     "metadata": {},
     "output_type": "execute_result"
    }
   ],
   "source": [
    "function simulations(policy, mdp, n_sims) # n is number of times to run \n",
    "    policy_rewards = []\n",
    "    for i in 1:n_sims\n",
    "        push!(policy_rewards, simulation(policy, mdp))\n",
    "    end\n",
    "    std_policy_reward = std(policy_rewards)\n",
    "    mean_policy_reward = mean(policy_rewards)\n",
    "    return mean_policy_reward, std_policy_reward\n",
    "end"
   ]
  },
  {
   "cell_type": "code",
   "execution_count": 105,
   "id": "dff9f1b1",
   "metadata": {},
   "outputs": [
    {
     "data": {
      "text/plain": [
       "experiments (generic function with 1 method)"
      ]
     },
     "execution_count": 105,
     "metadata": {},
     "output_type": "execute_result"
    }
   ],
   "source": [
    "function experiments()\n",
    "    # policies and n_sims can probably be put in our params function as a list. here for now. \n",
    "    n_sims = 100\n",
    "    policies = [AcceptAll_policy, AMCITS_policy, \n",
    "        SIV_AMCITS_policy, SIV_AfterThresholdAMCITS_policy, \n",
    "        BeforeThresholdAMCITS_policy]\n",
    "    m_std_rewards = []\n",
    "    for curr_policy in policies\n",
    "        push!(m_std_rewards, simulations(curr_policy, mdp, n_sims))\n",
    "    end\n",
    "    # Could print them in a way that makes it more fun \n",
    "    return m_std_rewards\n",
    "\n",
    "end"
   ]
  },
  {
   "cell_type": "code",
   "execution_count": 111,
   "id": "880a5549",
   "metadata": {},
   "outputs": [
    {
     "data": {
      "text/plain": [
       "5-element Vector{Any}:\n",
       " (1.1547832999920435, 15.382295784885098)\n",
       " (0.0, 0.0)\n",
       " (0.0, 0.0)\n",
       " (19.88893457857716, 8.662625524326367)\n",
       " (1.8599272341900732, 1.139445687696571)"
      ]
     },
     "execution_count": 111,
     "metadata": {},
     "output_type": "execute_result"
    }
   ],
   "source": [
    "mean_std_rewards = experiments()"
   ]
  },
  {
   "cell_type": "markdown",
   "id": "b5c6b89c",
   "metadata": {},
   "source": [
    "**Visualizations**"
   ]
  },
  {
   "cell_type": "code",
   "execution_count": null,
   "id": "63cda74b",
   "metadata": {},
   "outputs": [],
   "source": [
    "function vis_time_step(policy, c, t) # pass in policy and chairs and time remaing. Spit out graph of family size versus visa status.\n",
    "    (v_size, f_size) = params.size  #visa, family 8, 15\n",
    "    policyGraph = zeros(v_size, f_size) \n",
    "    visa_statuses=params.visa_status\n",
    "    family_sizes=params.family_sizes\n",
    "    \n",
    "    for f in 1:f_size\n",
    "        for v in 1:v_size\n",
    "            act = action(policy, State(c, t, family_sizes[f], visa_statuses[v])) \n",
    "            if act == ACCEPT\n",
    "                policyGraph[v,f] = 100\n",
    "            else\n",
    "                policyGraph[v,f] = 0\n",
    "            end\n",
    "        end\n",
    "    end\n",
    "    \n",
    "    x=params.visa_status\n",
    "    y=params.family_sizes\n",
    "    z=policyGraph'\n",
    "    title_time_cap=\"t = $t c = $c $policy\" # MAKE title smaller \n",
    "    return heatmap(x, y, z, \n",
    "        aspect_ratio = :equal, \n",
    "        legend = :none, \n",
    "        xlims = (params.visa_status[1], \n",
    "        params.visa_status[length(params.visa_status)]), \n",
    "        xlabel = \"Visa Status\", \n",
    "        ylabel = \"Family Size\", \n",
    "        ylims = (params.family_sizes[1], \n",
    "        params.family_sizes[length(params.family_sizes)]), \n",
    "        title=title_time_cap, \n",
    "        xtickfont = font(5, \"Courier\"), \n",
    "        ytickfont = font(5, \"Courier\"),\n",
    "        thickness_scaling = .5,\n",
    "        palette = cgrad([:red, :green], [0, 1]),\n",
    "        )\n",
    "    \n",
    "end"
   ]
  },
  {
   "cell_type": "code",
   "execution_count": null,
   "id": "b2c8c0d9",
   "metadata": {},
   "outputs": [],
   "source": [
    "x = vis_time_step(AcceptAll_policy, 10, 30)"
   ]
  },
  {
   "cell_type": "code",
   "execution_count": null,
   "id": "e6545eb2",
   "metadata": {},
   "outputs": [],
   "source": [
    "function vis_all(policy)\n",
    "    total_time = params.time \n",
    "    total_capacity = params.capacity\n",
    "    graph_per_n = 4\n",
    "    heat_maps = []\n",
    "    time_points = (total_time/graph_per_n) + 1 # to include 0 \n",
    "    capacity_points = (total_capacity/graph_per_n) + 1 \n",
    "    num_graphs = trunc(Int, time_points*capacity_points)\n",
    "    \n",
    "    for t in 0:total_time\n",
    "        if t % graph_per_n == 0 \n",
    "            for c in 0:total_capacity\n",
    "                if c % graph_per_n == 0\n",
    "                push!(heat_maps, vis_time_step(policy, c, t))\n",
    "                end\n",
    "            end\n",
    "        end\n",
    "    end \n",
    "    plot((heat_maps...), layout = num_graphs, margin = 5mm)\n",
    "\n",
    "end"
   ]
  },
  {
   "cell_type": "code",
   "execution_count": null,
   "id": "7010dfb1",
   "metadata": {},
   "outputs": [],
   "source": [
    "vis_all(policy) # THIS IS VISIA;L"
   ]
  },
  {
   "cell_type": "code",
   "execution_count": null,
   "id": "65a79631",
   "metadata": {},
   "outputs": [],
   "source": [
    "vis_all(AcceptAll_policy)"
   ]
  },
  {
   "cell_type": "code",
   "execution_count": null,
   "id": "fb6155e1",
   "metadata": {},
   "outputs": [],
   "source": [
    "vis_all(AMCITS_policy) \n",
    "\n",
    "       "
   ]
  },
  {
   "cell_type": "code",
   "execution_count": null,
   "id": "3b7450be",
   "metadata": {},
   "outputs": [],
   "source": [
    "vis_all(SIV_AMCITS_policy)"
   ]
  },
  {
   "cell_type": "code",
   "execution_count": null,
   "id": "98364f5d",
   "metadata": {
    "scrolled": false
   },
   "outputs": [],
   "source": [
    "vis_all(SIV_AfterThresholdAMCITS_policy)\n"
   ]
  },
  {
   "cell_type": "code",
   "execution_count": null,
   "id": "604f298b",
   "metadata": {},
   "outputs": [],
   "source": [
    "vis_all(BeforeThresholdAMCITS_policy)"
   ]
  },
  {
   "cell_type": "markdown",
   "id": "43a55929",
   "metadata": {},
   "source": [
    "**Aggregate Metrics**"
   ]
  },
  {
   "cell_type": "code",
   "execution_count": null,
   "id": "7e1a9513",
   "metadata": {},
   "outputs": [],
   "source": [
    "function getmetrics(policy, mdp)\n",
    "    # I think this somehow needs to simulated in our rollout \n",
    "    total_people = 0\n",
    "    total_accept = 0\n",
    "    total_reject = 0\n",
    "    total_accepted_people = 0 \n",
    "    \n",
    "    # Initialize visa_statuses dictionary\n",
    "    visa_statuses = params.visa_status\n",
    "    visa_dict = Dict()\n",
    "    for v in visa_statuses\n",
    "        visa_dict[v] = 0\n",
    "    end\n",
    "    \n",
    "    for c in 0:params.capacity # capacity ends at 0 \n",
    "        for t in 0:params.time # time ends at 0 \n",
    "            for f in params.family_sizes # family size here we should have the ACTUAL family sizes \n",
    "                for v in params.visa_status # actual visa statuses  \n",
    "                    state = State(c, t, f, v)\n",
    "                    total_people += f \n",
    "                    if action(policy, state) == ACCEPT\n",
    "                        total_accept += 1\n",
    "                        total_accepted_people += f\n",
    "                        visa_dict[v] += 1\n",
    "                    else \n",
    "                        total_reject += 1\n",
    "                    end\n",
    "                end        \n",
    "            end\n",
    "        end\n",
    "    end\n",
    "    \n",
    "    print(\"Total people: \", total_people, )\n",
    "    print(\"Total accept: \", total_accept)\n",
    "    print(\"Total reject: \", total_reject)\n",
    "    visa_dict \n",
    "       \n",
    "end "
   ]
  },
  {
   "cell_type": "code",
   "execution_count": null,
   "id": "09367517",
   "metadata": {},
   "outputs": [],
   "source": [
    "getmetrics(policy, mdp)"
   ]
  },
  {
   "cell_type": "code",
   "execution_count": null,
   "id": "59e99bc0",
   "metadata": {},
   "outputs": [],
   "source": []
  },
  {
   "cell_type": "code",
   "execution_count": null,
   "id": "c8ec33b8",
   "metadata": {},
   "outputs": [],
   "source": []
  },
  {
   "cell_type": "code",
   "execution_count": null,
   "id": "d0a55567",
   "metadata": {},
   "outputs": [],
   "source": []
  }
 ],
 "metadata": {
  "@webio": {
   "lastCommId": null,
   "lastKernelId": null
  },
  "kernelspec": {
   "display_name": "Julia 1.6.2",
   "language": "julia",
   "name": "julia-1.6"
  },
  "language_info": {
   "file_extension": ".jl",
   "mimetype": "application/julia",
   "name": "julia",
   "version": "1.6.2"
  }
 },
 "nbformat": 4,
 "nbformat_minor": 5
}
