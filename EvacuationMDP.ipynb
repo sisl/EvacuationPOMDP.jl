{
 "cells": [
  {
   "cell_type": "code",
   "execution_count": 3,
   "id": "d9f1e2e3",
   "metadata": {},
   "outputs": [],
   "source": [
    "using POMDPs # for MDP type\n",
    "using DiscreteValueIteration\n",
    "using POMDPPolicies\n",
    "using POMDPModelTools\n",
    "using Parameters\n",
    "using Random\n",
    "using Plots; default(fontfamily=\"Computer Modern\", framestyle=:box) # LaTex-style\n",
    "using QuickPOMDPs\n",
    "using Distributions "
   ]
  },
  {
   "cell_type": "code",
   "execution_count": 4,
   "id": "2b9f438e",
   "metadata": {},
   "outputs": [
    {
     "data": {
      "text/plain": [
       "MersenneTwister(123)"
      ]
     },
     "execution_count": 4,
     "metadata": {},
     "output_type": "execute_result"
    }
   ],
   "source": [
    "Random.seed!(123)"
   ]
  },
  {
   "cell_type": "markdown",
   "id": "a4476a99",
   "metadata": {},
   "source": [
    "**Environment Parameters**"
   ]
  },
  {
   "cell_type": "code",
   "execution_count": 5,
   "id": "f6b0581f",
   "metadata": {},
   "outputs": [
    {
     "data": {
      "text/plain": [
       "EvacuationParameters"
      ]
     },
     "execution_count": 5,
     "metadata": {},
     "output_type": "execute_result"
    }
   ],
   "source": [
    "# assume families normally distributed as integers around average family size in afghanistan of 8. \n",
    "# Truncated to include 1 or greater and rounded to be integers \n",
    "@with_kw struct EvacuationParameters\n",
    "    # need the probability that a particular family shows up at the door....\n",
    "    family_sizes::Vector{Int} =  [trunc(Int, x) for x in rand(TruncatedNormal(8, 4.0, 1, Inf), 10)] \n",
    "    visa_status::Vector{Int} = [-5, -4, -3, -2, 0, 1, 2, 3, 4, 5] #TODO: map to various status \n",
    "    capacity::Int = 20\n",
    "    time::Int = 60 \n",
    "    size::Tuple{Int, Int} = (length(visa_status), length(family_sizes)) # size of grid \n",
    "    p_transition::Real = 0.7 # don't we always transition into this since time moves forward? I'm confused... \n",
    "#    null_state::State = State(x, 0, x, x) == 0 [how would do this?]\n",
    "end\n"
   ]
  },
  {
   "cell_type": "code",
   "execution_count": 6,
   "id": "85b0fd63",
   "metadata": {},
   "outputs": [],
   "source": [
    "params = EvacuationParameters(); "
   ]
  },
  {
   "cell_type": "markdown",
   "id": "2becbdb8",
   "metadata": {},
   "source": [
    "**States**"
   ]
  },
  {
   "cell_type": "code",
   "execution_count": 7,
   "id": "4a8cc27e",
   "metadata": {},
   "outputs": [],
   "source": [
    "# A state s in the evacuation problem is a discrete set of 4 values: \n",
    "# chairs remaining, time remaining, family size, and visa status\n",
    "struct State\n",
    "    c::Int # chairs remaining \n",
    "    t::Int # time remaining \n",
    "    f::Int # family size \n",
    "    v::Int # visa status \n",
    "end "
   ]
  },
  {
   "cell_type": "code",
   "execution_count": 8,
   "id": "6bce05cb",
   "metadata": {},
   "outputs": [
    {
     "data": {
      "text/plain": [
       "1-element Vector{Array{State, 4}}:\n",
       " [State(1, 1, 1, 1) State(1, 2, 1, 1) … State(1, 59, 1, 1) State(1, 60, 1, 1); State(2, 1, 1, 1) State(2, 2, 1, 1) … State(2, 59, 1, 1) State(2, 60, 1, 1); … ; State(19, 1, 1, 1) State(19, 2, 1, 1) … State(19, 59, 1, 1) State(19, 60, 1, 1); State(20, 1, 1, 1) State(20, 2, 1, 1) … State(20, 59, 1, 1) State(20, 60, 1, 1)]\n",
       "\n",
       "[State(1, 1, 2, 1) State(1, 2, 2, 1) … State(1, 59, 2, 1) State(1, 60, 2, 1); State(2, 1, 2, 1) State(2, 2, 2, 1) … State(2, 59, 2, 1) State(2, 60, 2, 1); … ; State(19, 1, 2, 1) State(19, 2, 2, 1) … State(19, 59, 2, 1) State(19, 60, 2, 1); State(20, 1, 2, 1) State(20, 2, 2, 1) … State(20, 59, 2, 1) State(20, 60, 2, 1)]\n",
       "\n",
       "[State(1, 1, 3, 1) State(1, 2, 3, 1) … State(1, 59, 3, 1) State(1, 60, 3, 1); State(2, 1, 3, 1) State(2, 2, 3, 1) … State(2, 59, 3, 1) State(2, 60, 3, 1); … ; State(19, 1, 3, 1) State(19, 2, 3, 1) … State(19, 59, 3, 1) State(19, 60, 3, 1); State(20, 1, 3, 1) State(20, 2, 3, 1) … State(20, 59, 3, 1) State(20, 60, 3, 1)]\n",
       "\n",
       "[State(1, 1, 4, 1) State(1, 2, 4, 1) … State(1, 59, 4, 1) State(1, 60, 4, 1); State(2, 1, 4, 1) State(2, 2, 4, 1) … State(2, 59, 4, 1) State(2, 60, 4, 1); … ; State(19, 1, 4, 1) State(19, 2, 4, 1) … State(19, 59, 4, 1) State(19, 60, 4, 1); State(20, 1, 4, 1) State(20, 2, 4, 1) … State(20, 59, 4, 1) State(20, 60, 4, 1)]\n",
       "\n",
       "[State(1, 1, 5, 1) State(1, 2, 5, 1) … State(1, 59, 5, 1) State(1, 60, 5, 1); State(2, 1, 5, 1) State(2, 2, 5, 1) … State(2, 59, 5, 1) State(2, 60, 5, 1); … ; State(19, 1, 5, 1) State(19, 2, 5, 1) … State(19, 59, 5, 1) State(19, 60, 5, 1); State(20, 1, 5, 1) State(20, 2, 5, 1) … State(20, 59, 5, 1) State(20, 60, 5, 1)]\n",
       "\n",
       "[State(1, 1, 6, 1) State(1, 2, 6, 1) … State(1, 59, 6, 1) State(1, 60, 6, 1); State(2, 1, 6, 1) State(2, 2, 6, 1) … State(2, 59, 6, 1) State(2, 60, 6, 1); … ; State(19, 1, 6, 1) State(19, 2, 6, 1) … State(19, 59, 6, 1) State(19, 60, 6, 1); State(20, 1, 6, 1) State(20, 2, 6, 1) … State(20, 59, 6, 1) State(20, 60, 6, 1)]\n",
       "\n",
       "[State(1, 1, 7, 1) State(1, 2, 7, 1) … State(1, 59, 7, 1) State(1, 60, 7, 1); State(2, 1, 7, 1) State(2, 2, 7, 1) … State(2, 59, 7, 1) State(2, 60, 7, 1); … ; State(19, 1, 7, 1) State(19, 2, 7, 1) … State(19, 59, 7, 1) State(19, 60, 7, 1); State(20, 1, 7, 1) State(20, 2, 7, 1) … State(20, 59, 7, 1) State(20, 60, 7, 1)]\n",
       "\n",
       "[State(1, 1, 8, 1) State(1, 2, 8, 1) … State(1, 59, 8, 1) State(1, 60, 8, 1); State(2, 1, 8, 1) State(2, 2, 8, 1) … State(2, 59, 8, 1) State(2, 60, 8, 1); … ; State(19, 1, 8, 1) State(19, 2, 8, 1) … State(19, 59, 8, 1) State(19, 60, 8, 1); State(20, 1, 8, 1) State(20, 2, 8, 1) … State(20, 59, 8, 1) State(20, 60, 8, 1)]\n",
       "\n",
       "[State(1, 1, 9, 1) State(1, 2, 9, 1) … State(1, 59, 9, 1) State(1, 60, 9, 1); State(2, 1, 9, 1) State(2, 2, 9, 1) … State(2, 59, 9, 1) State(2, 60, 9, 1); … ; State(19, 1, 9, 1) State(19, 2, 9, 1) … State(19, 59, 9, 1) State(19, 60, 9, 1); State(20, 1, 9, 1) State(20, 2, 9, 1) … State(20, 59, 9, 1) State(20, 60, 9, 1)]\n",
       "\n",
       "[State(1, 1, 10, 1) State(1, 2, 10, 1) … State(1, 59, 10, 1) State(1, 60, 10, 1); State(2, 1, 10, 1) State(2, 2, 10, 1) … State(2, 59, 10, 1) State(2, 60, 10, 1); … ; State(19, 1, 10, 1) State(19, 2, 10, 1) … State(19, 59, 10, 1) State(19, 60, 10, 1); State(20, 1, 10, 1) State(20, 2, 10, 1) … State(20, 59, 10, 1) State(20, 60, 10, 1)]\n",
       "\n",
       "[State(1, 1, 1, 2) State(1, 2, 1, 2) … State(1, 59, 1, 2) State(1, 60, 1, 2); State(2, 1, 1, 2) State(2, 2, 1, 2) … State(2, 59, 1, 2) State(2, 60, 1, 2); … ; State(19, 1, 1, 2) State(19, 2, 1, 2) … State(19, 59, 1, 2) State(19, 60, 1, 2); State(20, 1, 1, 2) State(20, 2, 1, 2) … State(20, 59, 1, 2) State(20, 60, 1, 2)]\n",
       "\n",
       "[State(1, 1, 2, 2) State(1, 2, 2, 2) … State(1, 59, 2, 2) State(1, 60, 2, 2); State(2, 1, 2, 2) State(2, 2, 2, 2) … State(2, 59, 2, 2) State(2, 60, 2, 2); … ; State(19, 1, 2, 2) State(19, 2, 2, 2) … State(19, 59, 2, 2) State(19, 60, 2, 2); State(20, 1, 2, 2) State(20, 2, 2, 2) … State(20, 59, 2, 2) State(20, 60, 2, 2)]\n",
       "\n",
       "[State(1, 1, 3, 2) State(1, 2, 3, 2) … State(1, 59, 3, 2) State(1, 60, 3, 2); State(2, 1, 3, 2) State(2, 2, 3, 2) … State(2, 59, 3, 2) State(2, 60, 3, 2); … ; State(19, 1, 3, 2) State(19, 2, 3, 2) … State(19, 59, 3, 2) State(19, 60, 3, 2); State(20, 1, 3, 2) State(20, 2, 3, 2) … State(20, 59, 3, 2) State(20, 60, 3, 2)]\n",
       "\n",
       "[State(1, 1, 4, 2) State(1, 2, 4, 2) … State(1, 59, 4, 2) State(1, 60, 4, 2); State(2, 1, 4, 2) State(2, 2, 4, 2) … State(2, 59, 4, 2) State(2, 60, 4, 2); … ; State(19, 1, 4, 2) State(19, 2, 4, 2) … State(19, 59, 4, 2) State(19, 60, 4, 2); State(20, 1, 4, 2) State(20, 2, 4, 2) … State(20, 59, 4, 2) State(20, 60, 4, 2)]\n",
       "\n",
       "[State(1, 1, 5, 2) State(1, 2, 5, 2) … State(1, 59, 5, 2) State(1, 60, 5, 2); State(2, 1, 5, 2) State(2, 2, 5, 2) … State(2, 59, 5, 2) State(2, 60, 5, 2); … ; State(19, 1, 5, 2) State(19, 2, 5, 2) … State(19, 59, 5, 2) State(19, 60, 5, 2); State(20, 1, 5, 2) State(20, 2, 5, 2) … State(20, 59, 5, 2) State(20, 60, 5, 2)]\n",
       "\n",
       "[State(1, 1, 6, 2) State(1, 2, 6, 2) … State(1, 59, 6, 2) State(1, 60, 6, 2); State(2, 1, 6, 2) State(2, 2, 6, 2) … State(2, 59, 6, 2) State(2, 60, 6, 2); … ; State(19, 1, 6, 2) State(19, 2, 6, 2) … State(19, 59, 6, 2) State(19, 60, 6, 2); State(20, 1, 6, 2) State(20, 2, 6, 2) … State(20, 59, 6, 2) State(20, 60, 6, 2)]\n",
       "\n",
       "[State(1, 1, 7, 2) State(1, 2, 7, 2) … State(1, 59, 7, 2) State(1, 60, 7, 2); State(2, 1, 7, 2) State(2, 2, 7, 2) … State(2, 59, 7, 2) State(2, 60, 7, 2); … ; State(19, 1, 7, 2) State(19, 2, 7, 2) … State(19, 59, 7, 2) State(19, 60, 7, 2); State(20, 1, 7, 2) State(20, 2, 7, 2) … State(20, 59, 7, 2) State(20, 60, 7, 2)]\n",
       "\n",
       "[State(1, 1, 8, 2) State(1, 2, 8, 2) … State(1, 59, 8, 2) State(1, 60, 8, 2); State(2, 1, 8, 2) State(2, 2, 8, 2) … State(2, 59, 8, 2) State(2, 60, 8, 2); … ; State(19, 1, 8, 2) State(19, 2, 8, 2) … State(19, 59, 8, 2) State(19, 60, 8, 2); State(20, 1, 8, 2) State(20, 2, 8, 2) … State(20, 59, 8, 2) State(20, 60, 8, 2)]\n",
       "\n",
       "[State(1, 1, 9, 2) State(1, 2, 9, 2) … State(1, 59, 9, 2) State(1, 60, 9, 2); State(2, 1, 9, 2) State(2, 2, 9, 2) … State(2, 59, 9, 2) State(2, 60, 9, 2); … ; State(19, 1, 9, 2) State(19, 2, 9, 2) … State(19, 59, 9, 2) State(19, 60, 9, 2); State(20, 1, 9, 2) State(20, 2, 9, 2) … State(20, 59, 9, 2) State(20, 60, 9, 2)]\n",
       "\n",
       "[State(1, 1, 10, 2) State(1, 2, 10, 2) … State(1, 59, 10, 2) State(1, 60, 10, 2); State(2, 1, 10, 2) State(2, 2, 10, 2) … State(2, 59, 10, 2) State(2, 60, 10, 2); … ; State(19, 1, 10, 2) State(19, 2, 10, 2) … State(19, 59, 10, 2) State(19, 60, 10, 2); State(20, 1, 10, 2) State(20, 2, 10, 2) … State(20, 59, 10, 2) State(20, 60, 10, 2)]\n",
       "\n",
       "[State(1, 1, 1, 3) State(1, 2, 1, 3) … State(1, 59, 1, 3) State(1, 60, 1, 3); State(2, 1, 1, 3) State(2, 2, 1, 3) … State(2, 59, 1, 3) State(2, 60, 1, 3); … ; State(19, 1, 1, 3) State(19, 2, 1, 3) … State(19, 59, 1, 3) State(19, 60, 1, 3); State(20, 1, 1, 3) State(20, 2, 1, 3) … State(20, 59, 1, 3) State(20, 60, 1, 3)]\n",
       "\n",
       "[State(1, 1, 2, 3) State(1, 2, 2, 3) … State(1, 59, 2, 3) State(1, 60, 2, 3); State(2, 1, 2, 3) State(2, 2, 2, 3) … State(2, 59, 2, 3) State(2, 60, 2, 3); … ; State(19, 1, 2, 3) State(19, 2, 2, 3) … State(19, 59, 2, 3) State(19, 60, 2, 3); State(20, 1, 2, 3) State(20, 2, 2, 3) … State(20, 59, 2, 3) State(20, 60, 2, 3)]\n",
       "\n",
       "[State(1, 1, 3, 3) State(1, 2, 3, 3) … State(1, 59, 3, 3) State(1, 60, 3, 3); State(2, 1, 3, 3) State(2, 2, 3, 3) … State(2, 59, 3, 3) State(2, 60, 3, 3); … ; State(19, 1, 3, 3) State(19, 2, 3, 3) … State(19, 59, 3, 3) State(19, 60, 3, 3); State(20, 1, 3, 3) State(20, 2, 3, 3) … State(20, 59, 3, 3) State(20, 60, 3, 3)]\n",
       "\n",
       "[State(1, 1, 4, 3) State(1, 2, 4, 3) … State(1, 59, 4, 3) State(1, 60, 4, 3); State(2, 1, 4, 3) State(2, 2, 4, 3) … State(2, 59, 4, 3) State(2, 60, 4, 3); … ; State(19, 1, 4, 3) State(19, 2, 4, 3) … State(19, 59, 4, 3) State(19, 60, 4, 3); State(20, 1, 4, 3) State(20, 2, 4, 3) … State(20, 59, 4, 3) State(20, 60, 4, 3)]\n",
       "\n",
       "[State(1, 1, 5, 3) State(1, 2, 5, 3) … State(1, 59, 5, 3) State(1, 60, 5, 3); State(2, 1, 5, 3) State(2, 2, 5, 3) … State(2, 59, 5, 3) State(2, 60, 5, 3); … ; State(19, 1, 5, 3) State(19, 2, 5, 3) … State(19, 59, 5, 3) State(19, 60, 5, 3); State(20, 1, 5, 3) State(20, 2, 5, 3) … State(20, 59, 5, 3) State(20, 60, 5, 3)]\n",
       "\n",
       "[State(1, 1, 6, 3) State(1, 2, 6, 3) … State(1, 59, 6, 3) State(1, 60, 6, 3); State(2, 1, 6, 3) State(2, 2, 6, 3) … State(2, 59, 6, 3) State(2, 60, 6, 3); … ; State(19, 1, 6, 3) State(19, 2, 6, 3) … State(19, 59, 6, 3) State(19, 60, 6, 3); State(20, 1, 6, 3) State(20, 2, 6, 3) … State(20, 59, 6, 3) State(20, 60, 6, 3)]\n",
       "\n",
       "[State(1, 1, 7, 3) State(1, 2, 7, 3) … State(1, 59, 7, 3) State(1, 60, 7, 3); State(2, 1, 7, 3) State(2, 2, 7, 3) … State(2, 59, 7, 3) State(2, 60, 7, 3); … ; State(19, 1, 7, 3) State(19, 2, 7, 3) … State(19, 59, 7, 3) State(19, 60, 7, 3); State(20, 1, 7, 3) State(20, 2, 7, 3) … State(20, 59, 7, 3) State(20, 60, 7, 3)]\n",
       "\n",
       "[State(1, 1, 8, 3) State(1, 2, 8, 3) … State(1, 59, 8, 3) State(1, 60, 8, 3); State(2, 1, 8, 3) State(2, 2, 8, 3) … State(2, 59, 8, 3) State(2, 60, 8, 3); … ; State(19, 1, 8, 3) State(19, 2, 8, 3) … State(19, 59, 8, 3) State(19, 60, 8, 3); State(20, 1, 8, 3) State(20, 2, 8, 3) … State(20, 59, 8, 3) State(20, 60, 8, 3)]\n",
       "\n",
       "[State(1, 1, 9, 3) State(1, 2, 9, 3) … State(1, 59, 9, 3) State(1, 60, 9, 3); State(2, 1, 9, 3) State(2, 2, 9, 3) … State(2, 59, 9, 3) State(2, 60, 9, 3); … ; State(19, 1, 9, 3) State(19, 2, 9, 3) … State(19, 59, 9, 3) State(19, 60, 9, 3); State(20, 1, 9, 3) State(20, 2, 9, 3) … State(20, 59, 9, 3) State(20, 60, 9, 3)]\n",
       "\n",
       "[State(1, 1, 10, 3) State(1, 2, 10, 3) … State(1, 59, 10, 3) State(1, 60, 10, 3); State(2, 1, 10, 3) State(2, 2, 10, 3) … State(2, 59, 10, 3) State(2, 60, 10, 3); … ; State(19, 1, 10, 3) State(19, 2, 10, 3) … State(19, 59, 10, 3) State(19, 60, 10, 3); State(20, 1, 10, 3) State(20, 2, 10, 3) … State(20, 59, 10, 3) State(20, 60, 10, 3)]\n",
       "\n",
       "[State(1, 1, 1, 4) State(1, 2, 1, 4) … State(1, 59, 1, 4) State(1, 60, 1, 4); State(2, 1, 1, 4) State(2, 2, 1, 4) … State(2, 59, 1, 4) State(2, 60, 1, 4); … ; State(19, 1, 1, 4) State(19, 2, 1, 4) … State(19, 59, 1, 4) State(19, 60, 1, 4); State(20, 1, 1, 4) State(20, 2, 1, 4) … State(20, 59, 1, 4) State(20, 60, 1, 4)]\n",
       "\n",
       "[State(1, 1, 2, 4) State(1, 2, 2, 4) … State(1, 59, 2, 4) State(1, 60, 2, 4); State(2, 1, 2, 4) State(2, 2, 2, 4) … State(2, 59, 2, 4) State(2, 60, 2, 4); … ; State(19, 1, 2, 4) State(19, 2, 2, 4) … State(19, 59, 2, 4) State(19, 60, 2, 4); State(20, 1, 2, 4) State(20, 2, 2, 4) … State(20, 59, 2, 4) State(20, 60, 2, 4)]\n",
       "\n",
       "[State(1, 1, 3, 4) State(1, 2, 3, 4) … State(1, 59, 3, 4) State(1, 60, 3, 4); State(2, 1, 3, 4) State(2, 2, 3, 4) … State(2, 59, 3, 4) State(2, 60, 3, 4); … ; State(19, 1, 3, 4) State(19, 2, 3, 4) … State(19, 59, 3, 4) State(19, 60, 3, 4); State(20, 1, 3, 4) State(20, 2, 3, 4) … State(20, 59, 3, 4) State(20, 60, 3, 4)]\n",
       "\n",
       "[State(1, 1, 4, 4) State(1, 2, 4, 4) … State(1, 59, 4, 4) State(1, 60, 4, 4); State(2, 1, 4, 4) State(2, 2, 4, 4) … State(2, 59, 4, 4) State(2, 60, 4, 4); … ; State(19, 1, 4, 4) State(19, 2, 4, 4) … State(19, 59, 4, 4) State(19, 60, 4, 4); State(20, 1, 4, 4) State(20, 2, 4, 4) … State(20, 59, 4, 4) State(20, 60, 4, 4)]\n",
       "\n",
       "[State(1, 1, 5, 4) State(1, 2, 5, 4) … State(1, 59, 5, 4) State(1, 60, 5, 4); State(2, 1, 5, 4) State(2, 2, 5, 4) … State(2, 59, 5, 4) State(2, 60, 5, 4); … ; State(19, 1, 5, 4) State(19, 2, 5, 4) … State(19, 59, 5, 4) State(19, 60, 5, 4); State(20, 1, 5, 4) State(20, 2, 5, 4) … State(20, 59, 5, 4) State(20, 60, 5, 4)]\n",
       "\n",
       "[State(1, 1, 6, 4) State(1, 2, 6, 4) … State(1, 59, 6, 4) State(1, 60, 6, 4); State(2, 1, 6, 4) State(2, 2, 6, 4) … State(2, 59, 6, 4) State(2, 60, 6, 4); … ; State(19, 1, 6, 4) State(19, 2, 6, 4) … State(19, 59, 6, 4) State(19, 60, 6, 4); State(20, 1, 6, 4) State(20, 2, 6, 4) … State(20, 59, 6, 4) State(20, 60, 6, 4)]\n",
       "\n",
       "[State(1, 1, 7, 4) State(1, 2, 7, 4) … State(1, 59, 7, 4) State(1, 60, 7, 4); State(2, 1, 7, 4) State(2, 2, 7, 4) … State(2, 59, 7, 4) State(2, 60, 7, 4); … ; State(19, 1, 7, 4) State(19, 2, 7, 4) … State(19, 59, 7, 4) State(19, 60, 7, 4); State(20, 1, 7, 4) State(20, 2, 7, 4) … State(20, 59, 7, 4) State(20, 60, 7, 4)]\n",
       "\n",
       "[State(1, 1, 8, 4) State(1, 2, 8, 4) … State(1, 59, 8, 4) State(1, 60, 8, 4); State(2, 1, 8, 4) State(2, 2, 8, 4) … State(2, 59, 8, 4) State(2, 60, 8, 4); … ; State(19, 1, 8, 4) State(19, 2, 8, 4) … State(19, 59, 8, 4) State(19, 60, 8, 4); State(20, 1, 8, 4) State(20, 2, 8, 4) … State(20, 59, 8, 4) State(20, 60, 8, 4)]\n",
       "\n",
       "[State(1, 1, 9, 4) State(1, 2, 9, 4) … State(1, 59, 9, 4) State(1, 60, 9, 4); State(2, 1, 9, 4) State(2, 2, 9, 4) … State(2, 59, 9, 4) State(2, 60, 9, 4); … ; State(19, 1, 9, 4) State(19, 2, 9, 4) … State(19, 59, 9, 4) State(19, 60, 9, 4); State(20, 1, 9, 4) State(20, 2, 9, 4) … State(20, 59, 9, 4) State(20, 60, 9, 4)]\n",
       "\n",
       "[State(1, 1, 10, 4) State(1, 2, 10, 4) … State(1, 59, 10, 4) State(1, 60, 10, 4); State(2, 1, 10, 4) State(2, 2, 10, 4) … State(2, 59, 10, 4) State(2, 60, 10, 4); … ; State(19, 1, 10, 4) State(19, 2, 10, 4) … State(19, 59, 10, 4) State(19, 60, 10, 4); State(20, 1, 10, 4) State(20, 2, 10, 4) … State(20, 59, 10, 4) State(20, 60, 10, 4)]\n",
       "\n",
       "[State(1, 1, 1, 5) State(1, 2, 1, 5) … State(1, 59, 1, 5) State(1, 60, 1, 5); State(2, 1, 1, 5) State(2, 2, 1, 5) … State(2, 59, 1, 5) State(2, 60, 1, 5); … ; State(19, 1, 1, 5) State(19, 2, 1, 5) … State(19, 59, 1, 5) State(19, 60, 1, 5); State(20, 1, 1, 5) State(20, 2, 1, 5) … State(20, 59, 1, 5) State(20, 60, 1, 5)]\n",
       "\n",
       "[State(1, 1, 2, 5) State(1, 2, 2, 5) … State(1, 59, 2, 5) State(1, 60, 2, 5); State(2, 1, 2, 5) State(2, 2, 2, 5) … State(2, 59, 2, 5) State(2, 60, 2, 5); … ; State(19, 1, 2, 5) State(19, 2, 2, 5) … State(19, 59, 2, 5) State(19, 60, 2, 5); State(20, 1, 2, 5) State(20, 2, 2, 5) … State(20, 59, 2, 5) State(20, 60, 2, 5)]\n",
       "\n",
       "[State(1, 1, 3, 5) State(1, 2, 3, 5) … State(1, 59, 3, 5) State(1, 60, 3, 5); State(2, 1, 3, 5) State(2, 2, 3, 5) … State(2, 59, 3, 5) State(2, 60, 3, 5); … ; State(19, 1, 3, 5) State(19, 2, 3, 5) … State(19, 59, 3, 5) State(19, 60, 3, 5); State(20, 1, 3, 5) State(20, 2, 3, 5) … State(20, 59, 3, 5) State(20, 60, 3, 5)]\n",
       "\n",
       "[State(1, 1, 4, 5) State(1, 2, 4, 5) … State(1, 59, 4, 5) State(1, 60, 4, 5); State(2, 1, 4, 5) State(2, 2, 4, 5) … State(2, 59, 4, 5) State(2, 60, 4, 5); … ; State(19, 1, 4, 5) State(19, 2, 4, 5) … State(19, 59, 4, 5) State(19, 60, 4, 5); State(20, 1, 4, 5) State(20, 2, 4, 5) … State(20, 59, 4, 5) State(20, 60, 4, 5)]\n",
       "\n",
       "[State(1, 1, 5, 5) State(1, 2, 5, 5) … State(1, 59, 5, 5) State(1, 60, 5, 5); State(2, 1, 5, 5) State(2, 2, 5, 5) … State(2, 59, 5, 5) State(2, 60, 5, 5); … ; State(19, 1, 5, 5) State(19, 2, 5, 5) … State(19, 59, 5, 5) State(19, 60, 5, 5); State(20, 1, 5, 5) State(20, 2, 5, 5) … State(20, 59, 5, 5) State(20, 60, 5, 5)]\n",
       "\n",
       "[State(1, 1, 6, 5) State(1, 2, 6, 5) … State(1, 59, 6, 5) State(1, 60, 6, 5); State(2, 1, 6, 5) State(2, 2, 6, 5) … State(2, 59, 6, 5) State(2, 60, 6, 5); … ; State(19, 1, 6, 5) State(19, 2, 6, 5) … State(19, 59, 6, 5) State(19, 60, 6, 5); State(20, 1, 6, 5) State(20, 2, 6, 5) … State(20, 59, 6, 5) State(20, 60, 6, 5)]\n",
       "\n",
       "[State(1, 1, 7, 5) State(1, 2, 7, 5) … State(1, 59, 7, 5) State(1, 60, 7, 5); State(2, 1, 7, 5) State(2, 2, 7, 5) … State(2, 59, 7, 5) State(2, 60, 7, 5); … ; State(19, 1, 7, 5) State(19, 2, 7, 5) … State(19, 59, 7, 5) State(19, 60, 7, 5); State(20, 1, 7, 5) State(20, 2, 7, 5) … State(20, 59, 7, 5) State(20, 60, 7, 5)]\n",
       "\n",
       "[State(1, 1, 8, 5) State(1, 2, 8, 5) … State(1, 59, 8, 5) State(1, 60, 8, 5); State(2, 1, 8, 5) State(2, 2, 8, 5) … State(2, 59, 8, 5) State(2, 60, 8, 5); … ; State(19, 1, 8, 5) State(19, 2, 8, 5) … State(19, 59, 8, 5) State(19, 60, 8, 5); State(20, 1, 8, 5) State(20, 2, 8, 5) … State(20, 59, 8, 5) State(20, 60, 8, 5)]\n",
       "\n",
       "[State(1, 1, 9, 5) State(1, 2, 9, 5) … State(1, 59, 9, 5) State(1, 60, 9, 5); State(2, 1, 9, 5) State(2, 2, 9, 5) … State(2, 59, 9, 5) State(2, 60, 9, 5); … ; State(19, 1, 9, 5) State(19, 2, 9, 5) … State(19, 59, 9, 5) State(19, 60, 9, 5); State(20, 1, 9, 5) State(20, 2, 9, 5) … State(20, 59, 9, 5) State(20, 60, 9, 5)]\n",
       "\n",
       "[State(1, 1, 10, 5) State(1, 2, 10, 5) … State(1, 59, 10, 5) State(1, 60, 10, 5); State(2, 1, 10, 5) State(2, 2, 10, 5) … State(2, 59, 10, 5) State(2, 60, 10, 5); … ; State(19, 1, 10, 5) State(19, 2, 10, 5) … State(19, 59, 10, 5) State(19, 60, 10, 5); State(20, 1, 10, 5) State(20, 2, 10, 5) … State(20, 59, 10, 5) State(20, 60, 10, 5)]\n",
       "\n",
       "[State(1, 1, 1, 6) State(1, 2, 1, 6) … State(1, 59, 1, 6) State(1, 60, 1, 6); State(2, 1, 1, 6) State(2, 2, 1, 6) … State(2, 59, 1, 6) State(2, 60, 1, 6); … ; State(19, 1, 1, 6) State(19, 2, 1, 6) … State(19, 59, 1, 6) State(19, 60, 1, 6); State(20, 1, 1, 6) State(20, 2, 1, 6) … State(20, 59, 1, 6) State(20, 60, 1, 6)]\n",
       "\n",
       "[State(1, 1, 2, 6) State(1, 2, 2, 6) … State(1, 59, 2, 6) State(1, 60, 2, 6); State(2, 1, 2, 6) State(2, 2, 2, 6) … State(2, 59, 2, 6) State(2, 60, 2, 6); … ; State(19, 1, 2, 6) State(19, 2, 2, 6) … State(19, 59, 2, 6) State(19, 60, 2, 6); State(20, 1, 2, 6) State(20, 2, 2, 6) … State(20, 59, 2, 6) State(20, 60, 2, 6)]\n",
       "\n",
       "[State(1, 1, 3, 6) State(1, 2, 3, 6) … State(1, 59, 3, 6) State(1, 60, 3, 6); State(2, 1, 3, 6) State(2, 2, 3, 6) … State(2, 59, 3, 6) State(2, 60, 3, 6); … ; State(19, 1, 3, 6) State(19, 2, 3, 6) … State(19, 59, 3, 6) State(19, 60, 3, 6); State(20, 1, 3, 6) State(20, 2, 3, 6) … State(20, 59, 3, 6) State(20, 60, 3, 6)]\n",
       "\n",
       "[State(1, 1, 4, 6) State(1, 2, 4, 6) … State(1, 59, 4, 6) State(1, 60, 4, 6); State(2, 1, 4, 6) State(2, 2, 4, 6) … State(2, 59, 4, 6) State(2, 60, 4, 6); … ; State(19, 1, 4, 6) State(19, 2, 4, 6) … State(19, 59, 4, 6) State(19, 60, 4, 6); State(20, 1, 4, 6) State(20, 2, 4, 6) … State(20, 59, 4, 6) State(20, 60, 4, 6)]\n",
       "\n",
       "[State(1, 1, 5, 6) State(1, 2, 5, 6) … State(1, 59, 5, 6) State(1, 60, 5, 6); State(2, 1, 5, 6) State(2, 2, 5, 6) … State(2, 59, 5, 6) State(2, 60, 5, 6); … ; State(19, 1, 5, 6) State(19, 2, 5, 6) … State(19, 59, 5, 6) State(19, 60, 5, 6); State(20, 1, 5, 6) State(20, 2, 5, 6) … State(20, 59, 5, 6) State(20, 60, 5, 6)]\n",
       "\n",
       "[State(1, 1, 6, 6) State(1, 2, 6, 6) … State(1, 59, 6, 6) State(1, 60, 6, 6); State(2, 1, 6, 6) State(2, 2, 6, 6) … State(2, 59, 6, 6) State(2, 60, 6, 6); … ; State(19, 1, 6, 6) State(19, 2, 6, 6) … State(19, 59, 6, 6) State(19, 60, 6, 6); State(20, 1, 6, 6) State(20, 2, 6, 6) … State(20, 59, 6, 6) State(20, 60, 6, 6)]\n",
       "\n",
       "[State(1, 1, 7, 6) State(1, 2, 7, 6) … State(1, 59, 7, 6) State(1, 60, 7, 6); State(2, 1, 7, 6) State(2, 2, 7, 6) … State(2, 59, 7, 6) State(2, 60, 7, 6); … ; State(19, 1, 7, 6) State(19, 2, 7, 6) … State(19, 59, 7, 6) State(19, 60, 7, 6); State(20, 1, 7, 6) State(20, 2, 7, 6) … State(20, 59, 7, 6) State(20, 60, 7, 6)]\n",
       "\n",
       "[State(1, 1, 8, 6) State(1, 2, 8, 6) … State(1, 59, 8, 6) State(1, 60, 8, 6); State(2, 1, 8, 6) State(2, 2, 8, 6) … State(2, 59, 8, 6) State(2, 60, 8, 6); … ; State(19, 1, 8, 6) State(19, 2, 8, 6) … State(19, 59, 8, 6) State(19, 60, 8, 6); State(20, 1, 8, 6) State(20, 2, 8, 6) … State(20, 59, 8, 6) State(20, 60, 8, 6)]\n",
       "\n",
       "[State(1, 1, 9, 6) State(1, 2, 9, 6) … State(1, 59, 9, 6) State(1, 60, 9, 6); State(2, 1, 9, 6) State(2, 2, 9, 6) … State(2, 59, 9, 6) State(2, 60, 9, 6); … ; State(19, 1, 9, 6) State(19, 2, 9, 6) … State(19, 59, 9, 6) State(19, 60, 9, 6); State(20, 1, 9, 6) State(20, 2, 9, 6) … State(20, 59, 9, 6) State(20, 60, 9, 6)]\n",
       "\n",
       "[State(1, 1, 10, 6) State(1, 2, 10, 6) … State(1, 59, 10, 6) State(1, 60, 10, 6); State(2, 1, 10, 6) State(2, 2, 10, 6) … State(2, 59, 10, 6) State(2, 60, 10, 6); … ; State(19, 1, 10, 6) State(19, 2, 10, 6) … State(19, 59, 10, 6) State(19, 60, 10, 6); State(20, 1, 10, 6) State(20, 2, 10, 6) … State(20, 59, 10, 6) State(20, 60, 10, 6)]\n",
       "\n",
       "[State(1, 1, 1, 7) State(1, 2, 1, 7) … State(1, 59, 1, 7) State(1, 60, 1, 7); State(2, 1, 1, 7) State(2, 2, 1, 7) … State(2, 59, 1, 7) State(2, 60, 1, 7); … ; State(19, 1, 1, 7) State(19, 2, 1, 7) … State(19, 59, 1, 7) State(19, 60, 1, 7); State(20, 1, 1, 7) State(20, 2, 1, 7) … State(20, 59, 1, 7) State(20, 60, 1, 7)]\n",
       "\n",
       "[State(1, 1, 2, 7) State(1, 2, 2, 7) … State(1, 59, 2, 7) State(1, 60, 2, 7); State(2, 1, 2, 7) State(2, 2, 2, 7) … State(2, 59, 2, 7) State(2, 60, 2, 7); … ; State(19, 1, 2, 7) State(19, 2, 2, 7) … State(19, 59, 2, 7) State(19, 60, 2, 7); State(20, 1, 2, 7) State(20, 2, 2, 7) … State(20, 59, 2, 7) State(20, 60, 2, 7)]\n",
       "\n",
       "[State(1, 1, 3, 7) State(1, 2, 3, 7) … State(1, 59, 3, 7) State(1, 60, 3, 7); State(2, 1, 3, 7) State(2, 2, 3, 7) … State(2, 59, 3, 7) State(2, 60, 3, 7); … ; State(19, 1, 3, 7) State(19, 2, 3, 7) … State(19, 59, 3, 7) State(19, 60, 3, 7); State(20, 1, 3, 7) State(20, 2, 3, 7) … State(20, 59, 3, 7) State(20, 60, 3, 7)]\n",
       "\n",
       "[State(1, 1, 4, 7) State(1, 2, 4, 7) … State(1, 59, 4, 7) State(1, 60, 4, 7); State(2, 1, 4, 7) State(2, 2, 4, 7) … State(2, 59, 4, 7) State(2, 60, 4, 7); … ; State(19, 1, 4, 7) State(19, 2, 4, 7) … State(19, 59, 4, 7) State(19, 60, 4, 7); State(20, 1, 4, 7) State(20, 2, 4, 7) … State(20, 59, 4, 7) State(20, 60, 4, 7)]\n",
       "\n",
       "[State(1, 1, 5, 7) State(1, 2, 5, 7) … State(1, 59, 5, 7) State(1, 60, 5, 7); State(2, 1, 5, 7) State(2, 2, 5, 7) … State(2, 59, 5, 7) State(2, 60, 5, 7); … ; State(19, 1, 5, 7) State(19, 2, 5, 7) … State(19, 59, 5, 7) State(19, 60, 5, 7); State(20, 1, 5, 7) State(20, 2, 5, 7) … State(20, 59, 5, 7) State(20, 60, 5, 7)]\n",
       "\n",
       "[State(1, 1, 6, 7) State(1, 2, 6, 7) … State(1, 59, 6, 7) State(1, 60, 6, 7); State(2, 1, 6, 7) State(2, 2, 6, 7) … State(2, 59, 6, 7) State(2, 60, 6, 7); … ; State(19, 1, 6, 7) State(19, 2, 6, 7) … State(19, 59, 6, 7) State(19, 60, 6, 7); State(20, 1, 6, 7) State(20, 2, 6, 7) … State(20, 59, 6, 7) State(20, 60, 6, 7)]\n",
       "\n",
       "[State(1, 1, 7, 7) State(1, 2, 7, 7) … State(1, 59, 7, 7) State(1, 60, 7, 7); State(2, 1, 7, 7) State(2, 2, 7, 7) … State(2, 59, 7, 7) State(2, 60, 7, 7); … ; State(19, 1, 7, 7) State(19, 2, 7, 7) … State(19, 59, 7, 7) State(19, 60, 7, 7); State(20, 1, 7, 7) State(20, 2, 7, 7) … State(20, 59, 7, 7) State(20, 60, 7, 7)]\n",
       "\n",
       "[State(1, 1, 8, 7) State(1, 2, 8, 7) … State(1, 59, 8, 7) State(1, 60, 8, 7); State(2, 1, 8, 7) State(2, 2, 8, 7) … State(2, 59, 8, 7) State(2, 60, 8, 7); … ; State(19, 1, 8, 7) State(19, 2, 8, 7) … State(19, 59, 8, 7) State(19, 60, 8, 7); State(20, 1, 8, 7) State(20, 2, 8, 7) … State(20, 59, 8, 7) State(20, 60, 8, 7)]\n",
       "\n",
       "[State(1, 1, 9, 7) State(1, 2, 9, 7) … State(1, 59, 9, 7) State(1, 60, 9, 7); State(2, 1, 9, 7) State(2, 2, 9, 7) … State(2, 59, 9, 7) State(2, 60, 9, 7); … ; State(19, 1, 9, 7) State(19, 2, 9, 7) … State(19, 59, 9, 7) State(19, 60, 9, 7); State(20, 1, 9, 7) State(20, 2, 9, 7) … State(20, 59, 9, 7) State(20, 60, 9, 7)]\n",
       "\n",
       "[State(1, 1, 10, 7) State(1, 2, 10, 7) … State(1, 59, 10, 7) State(1, 60, 10, 7); State(2, 1, 10, 7) State(2, 2, 10, 7) … State(2, 59, 10, 7) State(2, 60, 10, 7); … ; State(19, 1, 10, 7) State(19, 2, 10, 7) … State(19, 59, 10, 7) State(19, 60, 10, 7); State(20, 1, 10, 7) State(20, 2, 10, 7) … State(20, 59, 10, 7) State(20, 60, 10, 7)]\n",
       "\n",
       "[State(1, 1, 1, 8) State(1, 2, 1, 8) … State(1, 59, 1, 8) State(1, 60, 1, 8); State(2, 1, 1, 8) State(2, 2, 1, 8) … State(2, 59, 1, 8) State(2, 60, 1, 8); … ; State(19, 1, 1, 8) State(19, 2, 1, 8) … State(19, 59, 1, 8) State(19, 60, 1, 8); State(20, 1, 1, 8) State(20, 2, 1, 8) … State(20, 59, 1, 8) State(20, 60, 1, 8)]\n",
       "\n",
       "[State(1, 1, 2, 8) State(1, 2, 2, 8) … State(1, 59, 2, 8) State(1, 60, 2, 8); State(2, 1, 2, 8) State(2, 2, 2, 8) … State(2, 59, 2, 8) State(2, 60, 2, 8); … ; State(19, 1, 2, 8) State(19, 2, 2, 8) … State(19, 59, 2, 8) State(19, 60, 2, 8); State(20, 1, 2, 8) State(20, 2, 2, 8) … State(20, 59, 2, 8) State(20, 60, 2, 8)]\n",
       "\n",
       "[State(1, 1, 3, 8) State(1, 2, 3, 8) … State(1, 59, 3, 8) State(1, 60, 3, 8); State(2, 1, 3, 8) State(2, 2, 3, 8) … State(2, 59, 3, 8) State(2, 60, 3, 8); … ; State(19, 1, 3, 8) State(19, 2, 3, 8) … State(19, 59, 3, 8) State(19, 60, 3, 8); State(20, 1, 3, 8) State(20, 2, 3, 8) … State(20, 59, 3, 8) State(20, 60, 3, 8)]\n",
       "\n",
       "[State(1, 1, 4, 8) State(1, 2, 4, 8) … State(1, 59, 4, 8) State(1, 60, 4, 8); State(2, 1, 4, 8) State(2, 2, 4, 8) … State(2, 59, 4, 8) State(2, 60, 4, 8); … ; State(19, 1, 4, 8) State(19, 2, 4, 8) … State(19, 59, 4, 8) State(19, 60, 4, 8); State(20, 1, 4, 8) State(20, 2, 4, 8) … State(20, 59, 4, 8) State(20, 60, 4, 8)]\n",
       "\n",
       "[State(1, 1, 5, 8) State(1, 2, 5, 8) … State(1, 59, 5, 8) State(1, 60, 5, 8); State(2, 1, 5, 8) State(2, 2, 5, 8) … State(2, 59, 5, 8) State(2, 60, 5, 8); … ; State(19, 1, 5, 8) State(19, 2, 5, 8) … State(19, 59, 5, 8) State(19, 60, 5, 8); State(20, 1, 5, 8) State(20, 2, 5, 8) … State(20, 59, 5, 8) State(20, 60, 5, 8)]\n",
       "\n",
       "[State(1, 1, 6, 8) State(1, 2, 6, 8) … State(1, 59, 6, 8) State(1, 60, 6, 8); State(2, 1, 6, 8) State(2, 2, 6, 8) … State(2, 59, 6, 8) State(2, 60, 6, 8); … ; State(19, 1, 6, 8) State(19, 2, 6, 8) … State(19, 59, 6, 8) State(19, 60, 6, 8); State(20, 1, 6, 8) State(20, 2, 6, 8) … State(20, 59, 6, 8) State(20, 60, 6, 8)]\n",
       "\n",
       "[State(1, 1, 7, 8) State(1, 2, 7, 8) … State(1, 59, 7, 8) State(1, 60, 7, 8); State(2, 1, 7, 8) State(2, 2, 7, 8) … State(2, 59, 7, 8) State(2, 60, 7, 8); … ; State(19, 1, 7, 8) State(19, 2, 7, 8) … State(19, 59, 7, 8) State(19, 60, 7, 8); State(20, 1, 7, 8) State(20, 2, 7, 8) … State(20, 59, 7, 8) State(20, 60, 7, 8)]\n",
       "\n",
       "[State(1, 1, 8, 8) State(1, 2, 8, 8) … State(1, 59, 8, 8) State(1, 60, 8, 8); State(2, 1, 8, 8) State(2, 2, 8, 8) … State(2, 59, 8, 8) State(2, 60, 8, 8); … ; State(19, 1, 8, 8) State(19, 2, 8, 8) … State(19, 59, 8, 8) State(19, 60, 8, 8); State(20, 1, 8, 8) State(20, 2, 8, 8) … State(20, 59, 8, 8) State(20, 60, 8, 8)]\n",
       "\n",
       "[State(1, 1, 9, 8) State(1, 2, 9, 8) … State(1, 59, 9, 8) State(1, 60, 9, 8); State(2, 1, 9, 8) State(2, 2, 9, 8) … State(2, 59, 9, 8) State(2, 60, 9, 8); … ; State(19, 1, 9, 8) State(19, 2, 9, 8) … State(19, 59, 9, 8) State(19, 60, 9, 8); State(20, 1, 9, 8) State(20, 2, 9, 8) … State(20, 59, 9, 8) State(20, 60, 9, 8)]\n",
       "\n",
       "[State(1, 1, 10, 8) State(1, 2, 10, 8) … State(1, 59, 10, 8) State(1, 60, 10, 8); State(2, 1, 10, 8) State(2, 2, 10, 8) … State(2, 59, 10, 8) State(2, 60, 10, 8); … ; State(19, 1, 10, 8) State(19, 2, 10, 8) … State(19, 59, 10, 8) State(19, 60, 10, 8); State(20, 1, 10, 8) State(20, 2, 10, 8) … State(20, 59, 10, 8) State(20, 60, 10, 8)]\n",
       "\n",
       "[State(1, 1, 1, 9) State(1, 2, 1, 9) … State(1, 59, 1, 9) State(1, 60, 1, 9); State(2, 1, 1, 9) State(2, 2, 1, 9) … State(2, 59, 1, 9) State(2, 60, 1, 9); … ; State(19, 1, 1, 9) State(19, 2, 1, 9) … State(19, 59, 1, 9) State(19, 60, 1, 9); State(20, 1, 1, 9) State(20, 2, 1, 9) … State(20, 59, 1, 9) State(20, 60, 1, 9)]\n",
       "\n",
       "[State(1, 1, 2, 9) State(1, 2, 2, 9) … State(1, 59, 2, 9) State(1, 60, 2, 9); State(2, 1, 2, 9) State(2, 2, 2, 9) … State(2, 59, 2, 9) State(2, 60, 2, 9); … ; State(19, 1, 2, 9) State(19, 2, 2, 9) … State(19, 59, 2, 9) State(19, 60, 2, 9); State(20, 1, 2, 9) State(20, 2, 2, 9) … State(20, 59, 2, 9) State(20, 60, 2, 9)]\n",
       "\n",
       "[State(1, 1, 3, 9) State(1, 2, 3, 9) … State(1, 59, 3, 9) State(1, 60, 3, 9); State(2, 1, 3, 9) State(2, 2, 3, 9) … State(2, 59, 3, 9) State(2, 60, 3, 9); … ; State(19, 1, 3, 9) State(19, 2, 3, 9) … State(19, 59, 3, 9) State(19, 60, 3, 9); State(20, 1, 3, 9) State(20, 2, 3, 9) … State(20, 59, 3, 9) State(20, 60, 3, 9)]\n",
       "\n",
       "[State(1, 1, 4, 9) State(1, 2, 4, 9) … State(1, 59, 4, 9) State(1, 60, 4, 9); State(2, 1, 4, 9) State(2, 2, 4, 9) … State(2, 59, 4, 9) State(2, 60, 4, 9); … ; State(19, 1, 4, 9) State(19, 2, 4, 9) … State(19, 59, 4, 9) State(19, 60, 4, 9); State(20, 1, 4, 9) State(20, 2, 4, 9) … State(20, 59, 4, 9) State(20, 60, 4, 9)]\n",
       "\n",
       "[State(1, 1, 5, 9) State(1, 2, 5, 9) … State(1, 59, 5, 9) State(1, 60, 5, 9); State(2, 1, 5, 9) State(2, 2, 5, 9) … State(2, 59, 5, 9) State(2, 60, 5, 9); … ; State(19, 1, 5, 9) State(19, 2, 5, 9) … State(19, 59, 5, 9) State(19, 60, 5, 9); State(20, 1, 5, 9) State(20, 2, 5, 9) … State(20, 59, 5, 9) State(20, 60, 5, 9)]\n",
       "\n",
       "[State(1, 1, 6, 9) State(1, 2, 6, 9) … State(1, 59, 6, 9) State(1, 60, 6, 9); State(2, 1, 6, 9) State(2, 2, 6, 9) … State(2, 59, 6, 9) State(2, 60, 6, 9); … ; State(19, 1, 6, 9) State(19, 2, 6, 9) … State(19, 59, 6, 9) State(19, 60, 6, 9); State(20, 1, 6, 9) State(20, 2, 6, 9) … State(20, 59, 6, 9) State(20, 60, 6, 9)]\n",
       "\n",
       "[State(1, 1, 7, 9) State(1, 2, 7, 9) … State(1, 59, 7, 9) State(1, 60, 7, 9); State(2, 1, 7, 9) State(2, 2, 7, 9) … State(2, 59, 7, 9) State(2, 60, 7, 9); … ; State(19, 1, 7, 9) State(19, 2, 7, 9) … State(19, 59, 7, 9) State(19, 60, 7, 9); State(20, 1, 7, 9) State(20, 2, 7, 9) … State(20, 59, 7, 9) State(20, 60, 7, 9)]\n",
       "\n",
       "[State(1, 1, 8, 9) State(1, 2, 8, 9) … State(1, 59, 8, 9) State(1, 60, 8, 9); State(2, 1, 8, 9) State(2, 2, 8, 9) … State(2, 59, 8, 9) State(2, 60, 8, 9); … ; State(19, 1, 8, 9) State(19, 2, 8, 9) … State(19, 59, 8, 9) State(19, 60, 8, 9); State(20, 1, 8, 9) State(20, 2, 8, 9) … State(20, 59, 8, 9) State(20, 60, 8, 9)]\n",
       "\n",
       "[State(1, 1, 9, 9) State(1, 2, 9, 9) … State(1, 59, 9, 9) State(1, 60, 9, 9); State(2, 1, 9, 9) State(2, 2, 9, 9) … State(2, 59, 9, 9) State(2, 60, 9, 9); … ; State(19, 1, 9, 9) State(19, 2, 9, 9) … State(19, 59, 9, 9) State(19, 60, 9, 9); State(20, 1, 9, 9) State(20, 2, 9, 9) … State(20, 59, 9, 9) State(20, 60, 9, 9)]\n",
       "\n",
       "[State(1, 1, 10, 9) State(1, 2, 10, 9) … State(1, 59, 10, 9) State(1, 60, 10, 9); State(2, 1, 10, 9) State(2, 2, 10, 9) … State(2, 59, 10, 9) State(2, 60, 10, 9); … ; State(19, 1, 10, 9) State(19, 2, 10, 9) … State(19, 59, 10, 9) State(19, 60, 10, 9); State(20, 1, 10, 9) State(20, 2, 10, 9) … State(20, 59, 10, 9) State(20, 60, 10, 9)]\n",
       "\n",
       "[State(1, 1, 1, 10) State(1, 2, 1, 10) … State(1, 59, 1, 10) State(1, 60, 1, 10); State(2, 1, 1, 10) State(2, 2, 1, 10) … State(2, 59, 1, 10) State(2, 60, 1, 10); … ; State(19, 1, 1, 10) State(19, 2, 1, 10) … State(19, 59, 1, 10) State(19, 60, 1, 10); State(20, 1, 1, 10) State(20, 2, 1, 10) … State(20, 59, 1, 10) State(20, 60, 1, 10)]\n",
       "\n",
       "[State(1, 1, 2, 10) State(1, 2, 2, 10) … State(1, 59, 2, 10) State(1, 60, 2, 10); State(2, 1, 2, 10) State(2, 2, 2, 10) … State(2, 59, 2, 10) State(2, 60, 2, 10); … ; State(19, 1, 2, 10) State(19, 2, 2, 10) … State(19, 59, 2, 10) State(19, 60, 2, 10); State(20, 1, 2, 10) State(20, 2, 2, 10) … State(20, 59, 2, 10) State(20, 60, 2, 10)]\n",
       "\n",
       "[State(1, 1, 3, 10) State(1, 2, 3, 10) … State(1, 59, 3, 10) State(1, 60, 3, 10); State(2, 1, 3, 10) State(2, 2, 3, 10) … State(2, 59, 3, 10) State(2, 60, 3, 10); … ; State(19, 1, 3, 10) State(19, 2, 3, 10) … State(19, 59, 3, 10) State(19, 60, 3, 10); State(20, 1, 3, 10) State(20, 2, 3, 10) … State(20, 59, 3, 10) State(20, 60, 3, 10)]\n",
       "\n",
       "[State(1, 1, 4, 10) State(1, 2, 4, 10) … State(1, 59, 4, 10) State(1, 60, 4, 10); State(2, 1, 4, 10) State(2, 2, 4, 10) … State(2, 59, 4, 10) State(2, 60, 4, 10); … ; State(19, 1, 4, 10) State(19, 2, 4, 10) … State(19, 59, 4, 10) State(19, 60, 4, 10); State(20, 1, 4, 10) State(20, 2, 4, 10) … State(20, 59, 4, 10) State(20, 60, 4, 10)]\n",
       "\n",
       "[State(1, 1, 5, 10) State(1, 2, 5, 10) … State(1, 59, 5, 10) State(1, 60, 5, 10); State(2, 1, 5, 10) State(2, 2, 5, 10) … State(2, 59, 5, 10) State(2, 60, 5, 10); … ; State(19, 1, 5, 10) State(19, 2, 5, 10) … State(19, 59, 5, 10) State(19, 60, 5, 10); State(20, 1, 5, 10) State(20, 2, 5, 10) … State(20, 59, 5, 10) State(20, 60, 5, 10)]\n",
       "\n",
       "[State(1, 1, 6, 10) State(1, 2, 6, 10) … State(1, 59, 6, 10) State(1, 60, 6, 10); State(2, 1, 6, 10) State(2, 2, 6, 10) … State(2, 59, 6, 10) State(2, 60, 6, 10); … ; State(19, 1, 6, 10) State(19, 2, 6, 10) … State(19, 59, 6, 10) State(19, 60, 6, 10); State(20, 1, 6, 10) State(20, 2, 6, 10) … State(20, 59, 6, 10) State(20, 60, 6, 10)]\n",
       "\n",
       "[State(1, 1, 7, 10) State(1, 2, 7, 10) … State(1, 59, 7, 10) State(1, 60, 7, 10); State(2, 1, 7, 10) State(2, 2, 7, 10) … State(2, 59, 7, 10) State(2, 60, 7, 10); … ; State(19, 1, 7, 10) State(19, 2, 7, 10) … State(19, 59, 7, 10) State(19, 60, 7, 10); State(20, 1, 7, 10) State(20, 2, 7, 10) … State(20, 59, 7, 10) State(20, 60, 7, 10)]\n",
       "\n",
       "[State(1, 1, 8, 10) State(1, 2, 8, 10) … State(1, 59, 8, 10) State(1, 60, 8, 10); State(2, 1, 8, 10) State(2, 2, 8, 10) … State(2, 59, 8, 10) State(2, 60, 8, 10); … ; State(19, 1, 8, 10) State(19, 2, 8, 10) … State(19, 59, 8, 10) State(19, 60, 8, 10); State(20, 1, 8, 10) State(20, 2, 8, 10) … State(20, 59, 8, 10) State(20, 60, 8, 10)]\n",
       "\n",
       "[State(1, 1, 9, 10) State(1, 2, 9, 10) … State(1, 59, 9, 10) State(1, 60, 9, 10); State(2, 1, 9, 10) State(2, 2, 9, 10) … State(2, 59, 9, 10) State(2, 60, 9, 10); … ; State(19, 1, 9, 10) State(19, 2, 9, 10) … State(19, 59, 9, 10) State(19, 60, 9, 10); State(20, 1, 9, 10) State(20, 2, 9, 10) … State(20, 59, 9, 10) State(20, 60, 9, 10)]\n",
       "\n",
       "[State(1, 1, 10, 10) State(1, 2, 10, 10) … State(1, 59, 10, 10) State(1, 60, 10, 10); State(2, 1, 10, 10) State(2, 2, 10, 10) … State(2, 59, 10, 10) State(2, 60, 10, 10); … ; State(19, 1, 10, 10) State(19, 2, 10, 10) … State(19, 59, 10, 10) State(19, 60, 10, 10); State(20, 1, 10, 10) State(20, 2, 10, 10) … State(20, 59, 10, 10) State(20, 60, 10, 10)]"
      ]
     },
     "execution_count": 8,
     "metadata": {},
     "output_type": "execute_result"
    }
   ],
   "source": [
    "# The state space S for the evacuation problem is the set of \n",
    "# all combinations \n",
    "# Question: Do I need the end state here? \n",
    "𝒮 = [[State(c, t, f, v) for  c=1:params.capacity, t=1:params.time, f=1:params.size[2], v=1:params.size[1]]]"
   ]
  },
  {
   "cell_type": "code",
   "execution_count": 9,
   "id": "8c1f74d3",
   "metadata": {},
   "outputs": [],
   "source": [
    "#size(𝒮[1])\n",
    "#(20, 60, 10, 10)\n",
    "#length(𝒮[1]) = 120000 = 20*60*10*10"
   ]
  },
  {
   "cell_type": "markdown",
   "id": "db20f788",
   "metadata": {},
   "source": [
    "**Actions**"
   ]
  },
  {
   "cell_type": "code",
   "execution_count": 10,
   "id": "eeed1f84",
   "metadata": {},
   "outputs": [],
   "source": [
    "# the possible actions are whether accept or reject a family at the gate \n",
    "@enum Action REJECT ACCEPT"
   ]
  },
  {
   "cell_type": "code",
   "execution_count": 11,
   "id": "61a11d34",
   "metadata": {},
   "outputs": [
    {
     "data": {
      "text/plain": [
       "2-element Vector{Action}:\n",
       " REJECT::Action = 0\n",
       " ACCEPT::Action = 1"
      ]
     },
     "execution_count": 11,
     "metadata": {},
     "output_type": "execute_result"
    }
   ],
   "source": [
    "𝒜 = [REJECT, ACCEPT]"
   ]
  },
  {
   "cell_type": "markdown",
   "id": "9677353c",
   "metadata": {},
   "source": [
    "**Transition Function** "
   ]
  },
  {
   "cell_type": "code",
   "execution_count": 18,
   "id": "cdf24312",
   "metadata": {},
   "outputs": [
    {
     "data": {
      "text/plain": [
       "T (generic function with 1 method)"
      ]
     },
     "execution_count": 18,
     "metadata": {},
     "output_type": "execute_result"
    }
   ],
   "source": [
    "# The dynamics to transition the agent live in the transition function T(s'|s, a). The transition function \n",
    "# I think our transition function is wrong...\n",
    "# function T(s::State, a::Action, s_prime::State)\n",
    "#     # if we accept the person, we want to decriment by family size \n",
    "#     if a == ACCEPT\n",
    "#         s_prime.c = s.c - s.f\n",
    "#     end \n",
    "#     s_prime.t = s_prime.t - 1 # how to update  time\n",
    "#     # maybe make some terminal state when time = 0?\n",
    "#     # do I return something here? \n",
    "# end\n",
    "\n",
    "# think about how to fix the transition function \n",
    "# The transition function returns a distribution over next states  given the current state and an action .\n",
    "function T(s::State, a::Action)\n",
    "#     Nₐ = length(𝒜)\n",
    "#     next_states = Vector{State}(undef, Nₐ + 1)\n",
    "#     probabilities = zeros(Nₐ + 1)\n",
    "#     p_transition = params.p_transition # what are our probabilities here????    \n",
    "#     for (i, a_prime) in enumerate(𝒜)\n",
    "#     # if we accept the person, we want to decriment by family size \n",
    "    if a == ACCEPT\n",
    "        s_prime.c = s.c - s.f\n",
    "    end \n",
    "    s_prime.t = s_prime.t - 1 # how to update  time\n",
    "    # maybe make some terminal state when time = 0?\n",
    "    # do I return something here? \n",
    "    return s_prime \n",
    "end\n",
    "    "
   ]
  },
  {
   "cell_type": "markdown",
   "id": "b8b569a4",
   "metadata": {},
   "source": [
    "**Reward Function**"
   ]
  },
  {
   "cell_type": "code",
   "execution_count": 19,
   "id": "5c92b6b3",
   "metadata": {},
   "outputs": [
    {
     "data": {
      "text/plain": [
       "R (generic function with 1 method)"
      ]
     },
     "execution_count": 19,
     "metadata": {},
     "output_type": "execute_result"
    }
   ],
   "source": [
    "function R(s::State, a::Action)\n",
    "    # reward is just the visa status times family size i think! \n",
    "    return s.v*s.f\n",
    "end "
   ]
  },
  {
   "cell_type": "code",
   "execution_count": 20,
   "id": "fe0a82b8",
   "metadata": {},
   "outputs": [
    {
     "data": {
      "text/plain": [
       "0.95"
      ]
     },
     "execution_count": 20,
     "metadata": {},
     "output_type": "execute_result"
    }
   ],
   "source": [
    "#render(mdp; show_rewards=true)\n",
    "#@bind γ Slider(0:0.05:1, default=0.95, show_value=true)\n",
    "# hard code for now. maybe come back to it. \n",
    "γ = 0.95"
   ]
  },
  {
   "cell_type": "code",
   "execution_count": 21,
   "id": "556c281a",
   "metadata": {},
   "outputs": [
    {
     "data": {
      "text/plain": [
       "termination (generic function with 1 method)"
      ]
     },
     "execution_count": 21,
     "metadata": {},
     "output_type": "execute_result"
    }
   ],
   "source": [
    "# when time is 0...possibly encode this into the parameters \n",
    "termination(s::State) = s.t == 0"
   ]
  },
  {
   "cell_type": "markdown",
   "id": "f60f056c",
   "metadata": {},
   "source": [
    "**MDP Formulation**"
   ]
  },
  {
   "cell_type": "code",
   "execution_count": 22,
   "id": "8210d6e8",
   "metadata": {},
   "outputs": [],
   "source": [
    "# We define the Airport abstract MDP type so we can reference it in other methods.\n",
    "abstract type Evacuation <: MDP{State, Action} end"
   ]
  },
  {
   "cell_type": "code",
   "execution_count": 23,
   "id": "c4c06e40",
   "metadata": {},
   "outputs": [],
   "source": [
    "mdp = QuickMDP(Evacuation,\n",
    "    states       = 𝒮,\n",
    "    actions      = 𝒜,\n",
    "    transition   = T,\n",
    "    reward       = R,\n",
    "    discount     = γ,\n",
    "    initialstate = 𝒮,\n",
    "    isterminal   = termination,\n",
    "    render       = render\n",
    "    );"
   ]
  },
  {
   "cell_type": "code",
   "execution_count": 24,
   "id": "fe7ecfea",
   "metadata": {},
   "outputs": [
    {
     "ename": "LoadError",
     "evalue": "MethodError: no method matching render()\n\u001b[0mClosest candidates are:\n\u001b[0m  render(\u001b[91m::Union{QuickMDP, QuickPOMDP}\u001b[39m, \u001b[91m::Any...\u001b[39m; kwargs...) at /Users/lisaeinstein/.julia/packages/QuickPOMDPs/mIT3P/src/quick.jl:211\n\u001b[0m  render(\u001b[91m::Union{MDP, POMDP}\u001b[39m) at /Users/lisaeinstein/.julia/packages/POMDPModelTools/SycBB/src/visualization.jl:50\n\u001b[0m  render(\u001b[91m::Union{MDP, POMDP}\u001b[39m, \u001b[91m::Any\u001b[39m) at /Users/lisaeinstein/.julia/packages/POMDPModelTools/SycBB/src/visualization.jl:30",
     "output_type": "error",
     "traceback": [
      "MethodError: no method matching render()\n\u001b[0mClosest candidates are:\n\u001b[0m  render(\u001b[91m::Union{QuickMDP, QuickPOMDP}\u001b[39m, \u001b[91m::Any...\u001b[39m; kwargs...) at /Users/lisaeinstein/.julia/packages/QuickPOMDPs/mIT3P/src/quick.jl:211\n\u001b[0m  render(\u001b[91m::Union{MDP, POMDP}\u001b[39m) at /Users/lisaeinstein/.julia/packages/POMDPModelTools/SycBB/src/visualization.jl:50\n\u001b[0m  render(\u001b[91m::Union{MDP, POMDP}\u001b[39m, \u001b[91m::Any\u001b[39m) at /Users/lisaeinstein/.julia/packages/POMDPModelTools/SycBB/src/visualization.jl:30",
      "",
      "Stacktrace:",
      " [1] _call(::Val{:render}, f::Function, args::Tuple{}, kwargs::Base.Iterators.Pairs{Union{}, Union{}, Tuple{}, NamedTuple{(), Tuple{}}})",
      "   @ QuickPOMDPs ~/.julia/packages/QuickPOMDPs/mIT3P/src/quick.jl:204",
      " [2] _call(namev::Val{:render}, m::QuickMDP{Evacuation, Array{State, 4}, Action, NamedTuple{(:stateindex, :isterminal, :render, :transition, :reward, :states, :actions, :discount, :initialstate, :actionindex), Tuple{Dict{Array{State, 4}, Int64}, typeof(termination), typeof(render), typeof(T), typeof(R), Vector{Array{State, 4}}, Vector{Action}, Float64, Vector{Array{State, 4}}, Dict{Action, Int64}}}}, args::Tuple{}, kwargs::Base.Iterators.Pairs{Union{}, Union{}, Tuple{}, NamedTuple{(), Tuple{}}})",
      "   @ QuickPOMDPs ~/.julia/packages/QuickPOMDPs/mIT3P/src/quick.jl:196",
      " [3] render(::QuickMDP{Evacuation, Array{State, 4}, Action, NamedTuple{(:stateindex, :isterminal, :render, :transition, :reward, :states, :actions, :discount, :initialstate, :actionindex), Tuple{Dict{Array{State, 4}, Int64}, typeof(termination), typeof(render), typeof(T), typeof(R), Vector{Array{State, 4}}, Vector{Action}, Float64, Vector{Array{State, 4}}, Dict{Action, Int64}}}}; kwargs::Base.Iterators.Pairs{Union{}, Union{}, Tuple{}, NamedTuple{(), Tuple{}}})",
      "   @ QuickPOMDPs ~/.julia/packages/QuickPOMDPs/mIT3P/src/quick.jl:211",
      " [4] render(::QuickMDP{Evacuation, Array{State, 4}, Action, NamedTuple{(:stateindex, :isterminal, :render, :transition, :reward, :states, :actions, :discount, :initialstate, :actionindex), Tuple{Dict{Array{State, 4}, Int64}, typeof(termination), typeof(render), typeof(T), typeof(R), Vector{Array{State, 4}}, Vector{Action}, Float64, Vector{Array{State, 4}}, Dict{Action, Int64}}}})",
      "   @ QuickPOMDPs ~/.julia/packages/QuickPOMDPs/mIT3P/src/quick.jl:211",
      " [5] top-level scope",
      "   @ In[24]:1",
      " [6] eval",
      "   @ ./boot.jl:360 [inlined]",
      " [7] include_string(mapexpr::typeof(REPL.softscope), mod::Module, code::String, filename::String)",
      "   @ Base ./loading.jl:1116"
     ]
    }
   ],
   "source": [
    "render(mdp)"
   ]
  },
  {
   "cell_type": "code",
   "execution_count": 25,
   "id": "141252e0",
   "metadata": {},
   "outputs": [],
   "source": [
    "solver = ValueIterationSolver(max_iterations=30, belres=1e-6, verbose=true);"
   ]
  },
  {
   "cell_type": "markdown",
   "id": "302364c8",
   "metadata": {},
   "source": [
    "**Policy**"
   ]
  },
  {
   "cell_type": "code",
   "execution_count": 26,
   "id": "17e25774",
   "metadata": {},
   "outputs": [],
   "source": [
    "# Set discount factor to variable gamma and solve the MDP to obptain policy pi mapping states to actions a"
   ]
  },
  {
   "cell_type": "code",
   "execution_count": 27,
   "id": "562a9bdc",
   "metadata": {},
   "outputs": [
    {
     "name": "stdout",
     "output_type": "stream",
     "text": [
      "INFO: POMDPLinter requirements for \u001b[34msolve(::ValueIterationSolver, ::Union{MDP,POMDP})\u001b[39m and dependencies. ([✔] = implemented correctly; [X] = not implemented; [?] = could not determine)\n",
      "\n",
      "For \u001b[34msolve(::ValueIterationSolver, ::Union{MDP,POMDP})\u001b[39m:\n",
      "\u001b[32m  [✔] discount(::QuickMDP{EvacuationArray{State, 4}ActionNamedTuple{(:stateindex, :isterminal, :render, :transition, :reward, :states, :actions, :discount, :initialstate, :actionindex), Tuple{Dict{Array{State, 4}, Int64}, typeof(termination), typeof(render), typeof(T), typeof(R), Vector{Array{State, 4}}, Vector{Action}, Float64, Vector{Array{State, 4}}, Dict{Action, Int64}}}})\u001b[39m\n",
      "\u001b[32m  [✔] transition(::QuickMDP{EvacuationArray{State, 4}ActionNamedTuple{(:stateindex, :isterminal, :render, :transition, :reward, :states, :actions, :discount, :initialstate, :actionindex), Tuple{Dict{Array{State, 4}, Int64}, typeof(termination), typeof(render), typeof(T), typeof(R), Vector{Array{State, 4}}, Vector{Action}, Float64, Vector{Array{State, 4}}, Dict{Action, Int64}}}}, ::Array{State4}, ::Action)\u001b[39m\n",
      "\u001b[32m  [✔] reward(::QuickMDP{EvacuationArray{State, 4}ActionNamedTuple{(:stateindex, :isterminal, :render, :transition, :reward, :states, :actions, :discount, :initialstate, :actionindex), Tuple{Dict{Array{State, 4}, Int64}, typeof(termination), typeof(render), typeof(T), typeof(R), Vector{Array{State, 4}}, Vector{Action}, Float64, Vector{Array{State, 4}}, Dict{Action, Int64}}}}, ::Array{State4}, ::Action, ::Array{State4})\u001b[39m\n",
      "\u001b[32m  [✔] stateindex(::QuickMDP{EvacuationArray{State, 4}ActionNamedTuple{(:stateindex, :isterminal, :render, :transition, :reward, :states, :actions, :discount, :initialstate, :actionindex), Tuple{Dict{Array{State, 4}, Int64}, typeof(termination), typeof(render), typeof(T), typeof(R), Vector{Array{State, 4}}, Vector{Action}, Float64, Vector{Array{State, 4}}, Dict{Action, Int64}}}}, ::Array{State4})\u001b[39m\n",
      "\u001b[32m  [✔] actionindex(::QuickMDP{EvacuationArray{State, 4}ActionNamedTuple{(:stateindex, :isterminal, :render, :transition, :reward, :states, :actions, :discount, :initialstate, :actionindex), Tuple{Dict{Array{State, 4}, Int64}, typeof(termination), typeof(render), typeof(T), typeof(R), Vector{Array{State, 4}}, Vector{Action}, Float64, Vector{Array{State, 4}}, Dict{Action, Int64}}}}, ::Action)\u001b[39m\n",
      "\u001b[32m  [✔] actions(::QuickMDP{EvacuationArray{State, 4}ActionNamedTuple{(:stateindex, :isterminal, :render, :transition, :reward, :states, :actions, :discount, :initialstate, :actionindex), Tuple{Dict{Array{State, 4}, Int64}, typeof(termination), typeof(render), typeof(T), typeof(R), Vector{Array{State, 4}}, Vector{Action}, Float64, Vector{Array{State, 4}}, Dict{Action, Int64}}}}, ::Array{State4})\u001b[39m\n",
      "\u001b[32m  [✔] length(::Array{Array{State, 4}1})\u001b[39m\n",
      "\u001b[32m  [✔] length(::Array{Action1})\u001b[39m\n",
      "\u001b[33m  WARNING: Some requirements may not be shown because a MethodError was thrown.\u001b[39m\n",
      "For \u001b[34mordered_states(::Union{MDP,POMDP})\u001b[39m (in solve(::ValueIterationSolver, ::Union{MDP,POMDP})):\n",
      "\u001b[32m  [✔] states(::QuickMDP{EvacuationArray{State, 4}ActionNamedTuple{(:stateindex, :isterminal, :render, :transition, :reward, :states, :actions, :discount, :initialstate, :actionindex), Tuple{Dict{Array{State, 4}, Int64}, typeof(termination), typeof(render), typeof(T), typeof(R), Vector{Array{State, 4}}, Vector{Action}, Float64, Vector{Array{State, 4}}, Dict{Action, Int64}}}})\u001b[39m\n",
      "For \u001b[34mordered_actions(::Union{MDP,POMDP})\u001b[39m (in solve(::ValueIterationSolver, ::Union{MDP,POMDP})):\n",
      "\u001b[32m  [✔] actions(::QuickMDP{EvacuationArray{State, 4}ActionNamedTuple{(:stateindex, :isterminal, :render, :transition, :reward, :states, :actions, :discount, :initialstate, :actionindex), Tuple{Dict{Array{State, 4}, Int64}, typeof(termination), typeof(render), typeof(T), typeof(R), Vector{Array{State, 4}}, Vector{Action}, Float64, Vector{Array{State, 4}}, Dict{Action, Int64}}}})\u001b[39m\n",
      "Note: Missing methods are often due to incorrect importing. You must explicitly import POMDPs functions to add new methods.\n",
      "\n",
      "Throwing the first exception (from processing \u001b[34msolve(::ValueIterationSolver, ::Union{MDP,POMDP})\u001b[39m requirements):\n",
      "\n"
     ]
    },
    {
     "ename": "LoadError",
     "evalue": "MethodError: no method matching T(::Array{State, 4}, ::Action)\n\u001b[0mClosest candidates are:\n\u001b[0m  T(\u001b[91m::State\u001b[39m, ::Action) at In[18]:15",
     "output_type": "error",
     "traceback": [
      "MethodError: no method matching T(::Array{State, 4}, ::Action)\n\u001b[0mClosest candidates are:\n\u001b[0m  T(\u001b[91m::State\u001b[39m, ::Action) at In[18]:15",
      "",
      "Stacktrace:",
      " [1] show_requirements(r::POMDPLinter.RequirementSet)",
      "   @ POMDPLinter ~/.julia/packages/POMDPLinter/OSyYC/src/requirements_interface.jl:213",
      " [2] macro expansion",
      "   @ ~/.julia/packages/POMDPLinter/OSyYC/src/requirements_interface.jl:100 [inlined]",
      " [3] solve(solver::ValueIterationSolver, mdp::QuickMDP{Evacuation, Array{State, 4}, Action, NamedTuple{(:stateindex, :isterminal, :render, :transition, :reward, :states, :actions, :discount, :initialstate, :actionindex), Tuple{Dict{Array{State, 4}, Int64}, typeof(termination), typeof(render), typeof(T), typeof(R), Vector{Array{State, 4}}, Vector{Action}, Float64, Vector{Array{State, 4}}, Dict{Action, Int64}}}}; kwargs::Base.Iterators.Pairs{Union{}, Union{}, Tuple{}, NamedTuple{(), Tuple{}}})",
      "   @ DiscreteValueIteration ~/.julia/packages/DiscreteValueIteration/FjeJj/src/vanilla.jl:71",
      " [4] solve(solver::ValueIterationSolver, mdp::QuickMDP{Evacuation, Array{State, 4}, Action, NamedTuple{(:stateindex, :isterminal, :render, :transition, :reward, :states, :actions, :discount, :initialstate, :actionindex), Tuple{Dict{Array{State, 4}, Int64}, typeof(termination), typeof(render), typeof(T), typeof(R), Vector{Array{State, 4}}, Vector{Action}, Float64, Vector{Array{State, 4}}, Dict{Action, Int64}}}})",
      "   @ DiscreteValueIteration ~/.julia/packages/DiscreteValueIteration/FjeJj/src/vanilla.jl:67",
      " [5] top-level scope",
      "   @ In[27]:1",
      " [6] eval",
      "   @ ./boot.jl:360 [inlined]",
      " [7] include_string(mapexpr::typeof(REPL.softscope), mod::Module, code::String, filename::String)",
      "   @ Base ./loading.jl:1116"
     ]
    }
   ],
   "source": [
    "policy = solve(solver, mdp)"
   ]
  },
  {
   "cell_type": "code",
   "execution_count": 16,
   "id": "9c7ea005",
   "metadata": {},
   "outputs": [
    {
     "ename": "LoadError",
     "evalue": "UndefVarError: mdp not defined",
     "output_type": "error",
     "traceback": [
      "UndefVarError: mdp not defined",
      "",
      "Stacktrace:",
      " [1] top-level scope",
      "   @ ~/.julia/packages/POMDPs/PFpk1/src/deprecated.jl:30",
      " [2] eval",
      "   @ ./boot.jl:360 [inlined]",
      " [3] include_string(mapexpr::typeof(REPL.softscope), mod::Module, code::String, filename::String)",
      "   @ Base ./loading.jl:1116"
     ]
    }
   ],
   "source": [
    "@requirements_info ValueIterationSolver() mdp()"
   ]
  },
  {
   "cell_type": "code",
   "execution_count": null,
   "id": "1b1f8db8",
   "metadata": {},
   "outputs": [],
   "source": [
    "# a = action(policy, s) # returns the optimal action for state s\n",
    "# value(policy, s) # returns the optimal value at state s\n"
   ]
  }
 ],
 "metadata": {
  "kernelspec": {
   "display_name": "Julia 1.6.2",
   "language": "julia",
   "name": "julia-1.6"
  },
  "language_info": {
   "file_extension": ".jl",
   "mimetype": "application/julia",
   "name": "julia",
   "version": "1.6.2"
  }
 },
 "nbformat": 4,
 "nbformat_minor": 5
}
