{
 "cells": [
  {
   "cell_type": "code",
   "execution_count": 1,
   "id": "d1439bc0",
   "metadata": {},
   "outputs": [],
   "source": [
    "using POMDPs # for MDP type\n",
    "using DiscreteValueIteration\n",
    "using POMDPPolicies\n",
    "using POMDPModelTools #for sparse cat \n",
    "using Parameters\n",
    "using Random\n",
    "using Plots; default(fontfamily=\"Computer Modern\", framestyle=:box) # LaTex-style\n",
    "using QuickPOMDPs\n",
    "using Distributions \n",
    "#using PlotlyJS\n",
    "using LinearAlgebra\n",
    "using POMDPSimulators\n",
    "using Measures"
   ]
  },
  {
   "cell_type": "code",
   "execution_count": 2,
   "id": "1775e911",
   "metadata": {},
   "outputs": [
    {
     "data": {
      "text/plain": [
       "MersenneTwister(12648430)"
      ]
     },
     "execution_count": 2,
     "metadata": {},
     "output_type": "execute_result"
    }
   ],
   "source": [
    "Random.seed!(0xC0FFEE)"
   ]
  },
  {
   "cell_type": "markdown",
   "id": "a21058cf",
   "metadata": {},
   "source": [
    "**States**"
   ]
  },
  {
   "cell_type": "code",
   "execution_count": 3,
   "id": "75e654a0",
   "metadata": {},
   "outputs": [],
   "source": [
    "# A state s in the evacuation problem is a discrete set of 4 values: \n",
    "# chairs remaining, time remaining, family size, and visa status\n",
    "struct State\n",
    "    c::Int # chairs remaining \n",
    "    t::Int # time remaining \n",
    "    f::Int # family size \n",
    "    v::Int # visa status \n",
    "end "
   ]
  },
  {
   "cell_type": "markdown",
   "id": "8897ebc7",
   "metadata": {},
   "source": [
    "**Environment Parameters**"
   ]
  },
  {
   "cell_type": "code",
   "execution_count": 4,
   "id": "b9e4868d",
   "metadata": {},
   "outputs": [
    {
     "data": {
      "text/plain": [
       "EvacuationParameters"
      ]
     },
     "execution_count": 4,
     "metadata": {},
     "output_type": "execute_result"
    }
   ],
   "source": [
    "@with_kw struct EvacuationParameters\n",
    "    family_sizes::Vector{Int} = [1, 2, 3, 4, 5] # set with no repeats \n",
    "    family_prob = [.1, .2, .3, .2, .2]\n",
    "    visa_status::Vector{Int} = [-2, -1, 0, 1, 2] #TODO: map to various status \n",
    "    visa_prob = [.1, .1, .4, .2, .2]\n",
    "    # p_visa_status::Vector{Float} = # must sum to 1 \n",
    "    capacity::Int = 60 # keeping these both as integers of 20 for now. \n",
    "    time::Int = 60\n",
    "    size::Tuple{Int, Int} = (length(visa_status), length(family_sizes)) # size of grid \n",
    "    p_transition::Real = 0.8 # don't we always transition into this since time moves forward? I'm confused... \n",
    "    null_state::State = State(-1, -1, -1 ,-1) # is there someway to do this???\n",
    "    accept_prob = [.80, .20]\n",
    "    reject_prob = [1.0]\n",
    "end"
   ]
  },
  {
   "cell_type": "code",
   "execution_count": 5,
   "id": "27f4df6b",
   "metadata": {},
   "outputs": [],
   "source": [
    "params = EvacuationParameters(); "
   ]
  },
  {
   "cell_type": "code",
   "execution_count": 6,
   "id": "8d7ed9cc",
   "metadata": {},
   "outputs": [
    {
     "name": "stdout",
     "output_type": "stream",
     "text": [
      "number_states = params.capacity * params.time * (size(params.family_sizes))[1] * (size(params.visa_status))[1] = 90000\n"
     ]
    },
    {
     "data": {
      "text/plain": [
       "90000"
      ]
     },
     "execution_count": 6,
     "metadata": {},
     "output_type": "execute_result"
    }
   ],
   "source": [
    "@show number_states = params.capacity * params.time * size(params.family_sizes)[1] * size(params.visa_status)[1]"
   ]
  },
  {
   "cell_type": "code",
   "execution_count": 7,
   "id": "84038044",
   "metadata": {},
   "outputs": [
    {
     "data": {
      "text/plain": [
       "93026-element Vector{Any}:\n",
       " State(0, 0, 1, -2)\n",
       " State(0, 0, 1, -1)\n",
       " State(0, 0, 1, 0)\n",
       " State(0, 0, 1, 1)\n",
       " State(0, 0, 1, 2)\n",
       " State(0, 0, 2, -2)\n",
       " State(0, 0, 2, -1)\n",
       " State(0, 0, 2, 0)\n",
       " State(0, 0, 2, 1)\n",
       " State(0, 0, 2, 2)\n",
       " State(0, 0, 3, -2)\n",
       " State(0, 0, 3, -1)\n",
       " State(0, 0, 3, 0)\n",
       " ⋮\n",
       " State(60, 60, 3, 2)\n",
       " State(60, 60, 4, -2)\n",
       " State(60, 60, 4, -1)\n",
       " State(60, 60, 4, 0)\n",
       " State(60, 60, 4, 1)\n",
       " State(60, 60, 4, 2)\n",
       " State(60, 60, 5, -2)\n",
       " State(60, 60, 5, -1)\n",
       " State(60, 60, 5, 0)\n",
       " State(60, 60, 5, 1)\n",
       " State(60, 60, 5, 2)\n",
       " State(-1, -1, -1, -1)"
      ]
     },
     "execution_count": 7,
     "metadata": {},
     "output_type": "execute_result"
    }
   ],
   "source": [
    "# The state space S for the evacuation problem is the set of all combinations \n",
    "𝒮 = []\n",
    "for c in 0:params.capacity # capacity ends at 0 \n",
    "    for t in 0:params.time # time ends at 0 \n",
    "        for f in params.family_sizes # family size here we should have the ACTUAL family sizes \n",
    "            for v in params.visa_status # actual visa statuses \n",
    "                new = State(c, t, f, v) \n",
    "                𝒮 = [𝒮; new]\n",
    "            end\n",
    "        end        \n",
    "    end\n",
    "end\n",
    "𝒮 = [𝒮; params.null_state]\n",
    "\n",
    "\n"
   ]
  },
  {
   "cell_type": "markdown",
   "id": "f9a0c0d5",
   "metadata": {},
   "source": [
    "**Actions**"
   ]
  },
  {
   "cell_type": "code",
   "execution_count": 8,
   "id": "e0ce57ab",
   "metadata": {},
   "outputs": [],
   "source": [
    "# the possible actions are whether accept or reject a family at the gate \n",
    "@enum Action REJECT ACCEPT"
   ]
  },
  {
   "cell_type": "code",
   "execution_count": 9,
   "id": "d07469a5",
   "metadata": {},
   "outputs": [
    {
     "data": {
      "text/plain": [
       "2-element Vector{Action}:\n",
       " REJECT::Action = 0\n",
       " ACCEPT::Action = 1"
      ]
     },
     "execution_count": 9,
     "metadata": {},
     "output_type": "execute_result"
    }
   ],
   "source": [
    "𝒜 = [REJECT, ACCEPT]"
   ]
  },
  {
   "cell_type": "code",
   "execution_count": 10,
   "id": "839bbf8f",
   "metadata": {},
   "outputs": [
    {
     "data": {
      "text/plain": [
       "validtime (generic function with 1 method)"
      ]
     },
     "execution_count": 10,
     "metadata": {},
     "output_type": "execute_result"
    }
   ],
   "source": [
    "# only inbounds if room for the family [assuming would not separate even though might]\n",
    "# and if time is available to enter the airport \n",
    "validtime(s::State) = 0 < s.t "
   ]
  },
  {
   "cell_type": "code",
   "execution_count": 11,
   "id": "32351952",
   "metadata": {},
   "outputs": [
    {
     "data": {
      "text/plain": [
       "validcapacity (generic function with 1 method)"
      ]
     },
     "execution_count": 11,
     "metadata": {},
     "output_type": "execute_result"
    }
   ],
   "source": [
    "validcapacity(s::State) = 0 ≤ s.c # maybe try back to 0 "
   ]
  },
  {
   "cell_type": "markdown",
   "id": "9be60758",
   "metadata": {},
   "source": [
    "**Transition Function** "
   ]
  },
  {
   "cell_type": "code",
   "execution_count": 12,
   "id": "bf68a83a",
   "metadata": {},
   "outputs": [
    {
     "data": {
      "text/plain": [
       "T (generic function with 1 method)"
      ]
     },
     "execution_count": 12,
     "metadata": {},
     "output_type": "execute_result"
    }
   ],
   "source": [
    "#***** OLD ONE THAT WORKED ******\n",
    "function T(s::State, a::Action)\n",
    "    next_states = []\n",
    "    if validtime(s) \n",
    "        \n",
    "        f′ = rand(params.family_sizes) # pull according to those probabilities \n",
    "        v′ = rand(params.visa_status) # TODO: possibly make this weighted in some way \n",
    "        # keep pushing to next states and have a bigger associated probability mass with those possible next states. \n",
    "        # need a for loop iterating over all family sizes and and visa statuses \n",
    "        \n",
    "        if a == ACCEPT \n",
    "            next_state_accept = State(s.c - s.f, s.t - 1, f′, v′) # they get seats\n",
    "            next_state_reject = State(s.c, s.t - 1, f′, v′)\n",
    "            push!(next_states, next_state_accept)\n",
    "            push!(next_states, next_state_reject)\n",
    "            if !validcapacity(next_state_accept) \n",
    "                probabilities = [0, 1] #no room for full family :( so we make probability 0 to accept and 1 reject\n",
    "            else\n",
    "                probabilities = [.80, .20]\n",
    "            end\n",
    "\n",
    "        elseif a == REJECT\n",
    "            probabilities = [1.0]\n",
    "            push!(next_states, State(s.c, s.t - 1, f′, v′))\n",
    "        end\n",
    "    else\n",
    "        push!(next_states,params.null_state)\n",
    "        probabilities = [1]\n",
    "    end\n",
    "    return SparseCat(next_states, probabilities)\n",
    "end"
   ]
  },
  {
   "cell_type": "code",
   "execution_count": null,
   "id": "7d3d0137",
   "metadata": {},
   "outputs": [],
   "source": [
    "# #***** ENUMERATING OVER ALL STATES ******\n",
    "\n",
    "# function T(s::State, a::Action)\n",
    "#     #c::Int # chairs remaining \n",
    "#     #t::Int # time remaining \n",
    "#     #f::Int # family size \n",
    "#     #v::Int # visa status \n",
    "#     next_states = []\n",
    "#     probabilities = [] \n",
    "\n",
    "# #     if !validtime(s) \n",
    "# #         push!(next_states,params.null_state)\n",
    "# #         push!(probabilities, 1) # double check \n",
    "# #     else\n",
    "#     if validtime(s)\n",
    "#         if a == ACCEPT \n",
    "#             next_state_accept = State(s.c - s.f, s.t - 1, 1, 1) # they get seats\n",
    "#             if !validcapacity(next_state_accept) \n",
    "#                 prob = [0,1] #no room for full family :( so we make probability 0 to accept and 1 reject\n",
    "#             else\n",
    "#                 prob = params.accept_prob\n",
    "#             end\n",
    "#             for f in 1:length(params.family_sizes)\n",
    "#                 for v in 1:length(params.visa_status)\n",
    "#                      #if get on plan\n",
    "#                     push!(next_states, State(s.c - s.f, s.t - 1, params.family_sizes[f], params.visa_status[v]))\n",
    "#                     push!(probabilities, prob[1] * params.visa_prob[v] * params.family_prob[f])\n",
    "#                      #if not\n",
    "#                     push!(next_states, State(s.c, s.t - 1, params.family_sizes[f], params.visa_status[v]))\n",
    "#                     push!(probabilities, prob[2] * params.visa_prob[v] * params.family_prob[f])                    \n",
    "#                 end\n",
    "#             end\n",
    "#         else   #if reject     \n",
    "#             for f in 1:length(params.family_sizes)\n",
    "#                 for v in 1:length(params.visa_status)\n",
    "#                     push!(next_states, State(s.c, s.t - 1, params.family_sizes[f], params.visa_status[v]))\n",
    "#                     push!(probabilities, params.reject_prob[1] * params.visa_prob[v] * params.family_prob[f])    \n",
    "#                 end\n",
    "#             end  \n",
    "#         end\n",
    "#     end                \n",
    "#     return SparseCat(next_states, probabilities)\n",
    "# end      "
   ]
  },
  {
   "cell_type": "code",
   "execution_count": 13,
   "id": "66ddbe7f",
   "metadata": {},
   "outputs": [
    {
     "data": {
      "text/plain": [
       "                                   \u001b[1mSparseCat distribution\u001b[22m           \n",
       "                         \u001b[90m┌                                        ┐\u001b[39m \n",
       "   \u001b[0mState(-1, -1, -1, -1) \u001b[90m┤\u001b[39m\u001b[38;5;2m■■■■■■■■■■■■■■■■■■■■■■■■■■■■■■■■■■■\u001b[39m\u001b[0m 1.0 \u001b[90m \u001b[39m \n",
       "                         \u001b[90m└                                        ┘\u001b[39m "
      ]
     },
     "execution_count": 13,
     "metadata": {},
     "output_type": "execute_result"
    }
   ],
   "source": [
    "check = T(State(2,0,2,2), ACCEPT)\n",
    "#check = T(State(0,10,2,2), ACCEPT) # im confused with what should be happening here...."
   ]
  },
  {
   "cell_type": "markdown",
   "id": "9b7629b2",
   "metadata": {},
   "source": [
    "**Reward Function**"
   ]
  },
  {
   "cell_type": "code",
   "execution_count": 14,
   "id": "c0022d74",
   "metadata": {},
   "outputs": [
    {
     "data": {
      "text/plain": [
       "R (generic function with 1 method)"
      ]
     },
     "execution_count": 14,
     "metadata": {},
     "output_type": "execute_result"
    }
   ],
   "source": [
    "function R(s::State, a::Action)\n",
    "    # reward is just the visa status times family size i think! \n",
    "    if a == ACCEPT\n",
    "        return s.v*s.f\n",
    "    end\n",
    "    return 0\n",
    "end "
   ]
  },
  {
   "cell_type": "code",
   "execution_count": 15,
   "id": "2179f471",
   "metadata": {},
   "outputs": [
    {
     "data": {
      "text/plain": [
       "0.95"
      ]
     },
     "execution_count": 15,
     "metadata": {},
     "output_type": "execute_result"
    }
   ],
   "source": [
    "#render(mdp; show_rewards=true)\n",
    "#@bind γ Slider(0:0.05:1, default=0.95, show_value=true)\n",
    "# hard code for now. maybe come back to it. \n",
    "γ = 0.95"
   ]
  },
  {
   "cell_type": "code",
   "execution_count": 16,
   "id": "00c36682",
   "metadata": {},
   "outputs": [
    {
     "data": {
      "text/plain": [
       "termination (generic function with 1 method)"
      ]
     },
     "execution_count": 16,
     "metadata": {},
     "output_type": "execute_result"
    }
   ],
   "source": [
    "termination(s::State)= s == params.null_state # change to 1 or the other "
   ]
  },
  {
   "cell_type": "markdown",
   "id": "4f975135",
   "metadata": {},
   "source": [
    "**MDP Formulation**"
   ]
  },
  {
   "cell_type": "code",
   "execution_count": 17,
   "id": "aa4058f8",
   "metadata": {},
   "outputs": [],
   "source": [
    "# We define the Airport abstract MDP type so we can reference it in other methods.\n",
    "abstract type Evacuation <: MDP{State, Action} end"
   ]
  },
  {
   "cell_type": "code",
   "execution_count": 18,
   "id": "6f0ad105",
   "metadata": {},
   "outputs": [
    {
     "data": {
      "text/plain": [
       "State(60, 60, 5, 0)"
      ]
     },
     "execution_count": 18,
     "metadata": {},
     "output_type": "execute_result"
    }
   ],
   "source": [
    "c_initial = params.capacity\n",
    "t_initial = params.time\n",
    "f_initial = rand(params.family_sizes, 1)[1]\n",
    "v_initial = rand(params.visa_status, 1)[1]\n",
    "\n",
    "initial_state = State(c_initial, t_initial, f_initial, v_initial)"
   ]
  },
  {
   "cell_type": "code",
   "execution_count": 19,
   "id": "028c9b87",
   "metadata": {},
   "outputs": [
    {
     "data": {
      "text/plain": [
       "1-element Vector{State}:\n",
       " State(60, 60, 5, 0)"
      ]
     },
     "execution_count": 19,
     "metadata": {},
     "output_type": "execute_result"
    }
   ],
   "source": [
    "statetype = typeof(initial_state)\n",
    "initialstate_array = [initial_state]"
   ]
  },
  {
   "cell_type": "code",
   "execution_count": 20,
   "id": "34895203",
   "metadata": {},
   "outputs": [],
   "source": [
    "mdp = QuickMDP(Evacuation,\n",
    "    states       = 𝒮,\n",
    "    actions      = 𝒜,\n",
    "    transition   = T,\n",
    "    reward       = R,\n",
    "    discount     = γ,\n",
    "    initialstate = initialstate_array, \n",
    "    isterminal   = termination,\n",
    "    render       = render,\n",
    "    statetype    = statetype \n",
    "    );"
   ]
  },
  {
   "cell_type": "code",
   "execution_count": 21,
   "id": "2dec2621",
   "metadata": {},
   "outputs": [],
   "source": [
    "solver = ValueIterationSolver(max_iterations=30, belres=1e-6, verbose=true);"
   ]
  },
  {
   "cell_type": "code",
   "execution_count": 22,
   "id": "54d2ad50",
   "metadata": {},
   "outputs": [],
   "source": [
    "# MY PREDICTION ABOUT WHAT IS GOING WRONG: \n",
    "# Read more about simulations. maybe we are supposed to plot the policy that is created from the simulation \n",
    "# we are close! "
   ]
  },
  {
   "cell_type": "markdown",
   "id": "6d829758",
   "metadata": {},
   "source": [
    "**Policy**"
   ]
  },
  {
   "cell_type": "code",
   "execution_count": 23,
   "id": "7dbbd783",
   "metadata": {},
   "outputs": [
    {
     "name": "stdout",
     "output_type": "stream",
     "text": [
      "[Iteration 1   ] residual:       74.3 | iteration runtime:    574.281 ms, (     0.574 s total)\n",
      "[Iteration 2   ] residual:       31.3 | iteration runtime:    331.825 ms, (     0.906 s total)\n",
      "[Iteration 3   ] residual:       24.8 | iteration runtime:    328.925 ms, (      1.24 s total)\n",
      "[Iteration 4   ] residual:         30 | iteration runtime:    324.242 ms, (      1.56 s total)\n",
      "[Iteration 5   ] residual:       29.4 | iteration runtime:    329.600 ms, (      1.89 s total)\n",
      "[Iteration 6   ] residual:       30.6 | iteration runtime:    328.246 ms, (      2.22 s total)\n",
      "[Iteration 7   ] residual:       31.9 | iteration runtime:    326.564 ms, (      2.54 s total)\n",
      "[Iteration 8   ] residual:       26.5 | iteration runtime:    328.348 ms, (      2.87 s total)\n",
      "[Iteration 9   ] residual:       25.7 | iteration runtime:    316.113 ms, (      3.19 s total)\n",
      "[Iteration 10  ] residual:       28.3 | iteration runtime:    320.461 ms, (      3.51 s total)\n",
      "[Iteration 11  ] residual:       32.2 | iteration runtime:    326.467 ms, (      3.84 s total)\n",
      "[Iteration 12  ] residual:         32 | iteration runtime:    326.159 ms, (      4.16 s total)\n",
      "[Iteration 13  ] residual:       33.6 | iteration runtime:    326.853 ms, (      4.49 s total)\n",
      "[Iteration 14  ] residual:       29.9 | iteration runtime:    326.164 ms, (      4.81 s total)\n",
      "[Iteration 15  ] residual:       30.1 | iteration runtime:    332.583 ms, (      5.15 s total)\n",
      "[Iteration 16  ] residual:       27.2 | iteration runtime:    321.718 ms, (      5.47 s total)\n",
      "[Iteration 17  ] residual:       27.9 | iteration runtime:    316.949 ms, (      5.79 s total)\n",
      "[Iteration 18  ] residual:       31.6 | iteration runtime:    321.219 ms, (      6.11 s total)\n",
      "[Iteration 19  ] residual:       35.9 | iteration runtime:    327.935 ms, (      6.43 s total)\n",
      "[Iteration 20  ] residual:       30.8 | iteration runtime:    325.233 ms, (      6.76 s total)\n",
      "[Iteration 21  ] residual:       26.9 | iteration runtime:    325.256 ms, (      7.09 s total)\n",
      "[Iteration 22  ] residual:       28.6 | iteration runtime:    325.492 ms, (      7.41 s total)\n",
      "[Iteration 23  ] residual:       24.4 | iteration runtime:    323.864 ms, (      7.73 s total)\n",
      "[Iteration 24  ] residual:       25.8 | iteration runtime:    321.986 ms, (      8.06 s total)\n",
      "[Iteration 25  ] residual:       31.5 | iteration runtime:    326.247 ms, (      8.38 s total)\n",
      "[Iteration 26  ] residual:       26.4 | iteration runtime:    321.621 ms, (       8.7 s total)\n",
      "[Iteration 27  ] residual:       27.5 | iteration runtime:    328.615 ms, (      9.03 s total)\n",
      "[Iteration 28  ] residual:       26.6 | iteration runtime:    328.356 ms, (      9.36 s total)\n",
      "[Iteration 29  ] residual:       33.5 | iteration runtime:    328.916 ms, (      9.69 s total)\n",
      "[Iteration 30  ] residual:         32 | iteration runtime:    328.320 ms, (        10 s total)\n"
     ]
    },
    {
     "data": {
      "text/plain": [
       "ValueIterationPolicy:\n",
       " State(0, 0, 1, -2) -> REJECT\n",
       " State(0, 0, 1, -1) -> REJECT\n",
       " State(0, 0, 1, 0) -> REJECT\n",
       " State(0, 0, 1, 1) -> ACCEPT\n",
       " State(0, 0, 1, 2) -> ACCEPT\n",
       " State(0, 0, 2, -2) -> REJECT\n",
       " State(0, 0, 2, -1) -> REJECT\n",
       " State(0, 0, 2, 0) -> REJECT\n",
       " State(0, 0, 2, 1) -> ACCEPT\n",
       " State(0, 0, 2, 2) -> ACCEPT\n",
       " State(0, 0, 3, -2) -> REJECT\n",
       " State(0, 0, 3, -1) -> REJECT\n",
       " State(0, 0, 3, 0) -> REJECT\n",
       " State(0, 0, 3, 1) -> ACCEPT\n",
       " State(0, 0, 3, 2) -> ACCEPT\n",
       " State(0, 0, 4, -2) -> REJECT\n",
       " State(0, 0, 4, -1) -> REJECT\n",
       " State(0, 0, 4, 0) -> REJECT\n",
       " State(0, 0, 4, 1) -> ACCEPT\n",
       " State(0, 0, 4, 2) -> ACCEPT\n",
       " State(0, 0, 5, -2) -> REJECT\n",
       " State(0, 0, 5, -1) -> REJECT\n",
       " State(0, 0, 5, 0) -> REJECT\n",
       " State(0, 0, 5, 1) -> ACCEPT\n",
       " State(0, 0, 5, 2) -> ACCEPT\n",
       " …"
      ]
     },
     "execution_count": 23,
     "metadata": {},
     "output_type": "execute_result"
    }
   ],
   "source": [
    "mdp_policy = solve(solver, mdp) "
   ]
  },
  {
   "cell_type": "markdown",
   "id": "d0b557df",
   "metadata": {},
   "source": [
    "**Basesline Policies**"
   ]
  },
  {
   "cell_type": "code",
   "execution_count": 24,
   "id": "87332ccb",
   "metadata": {},
   "outputs": [],
   "source": [
    "# Examples of how to make policies: \n",
    "#https://htmlview.glitch.me/?https://github.com/JuliaAcademy/Decision-Making-Under-Uncertainty/blob/master/html/2-POMDPs.jl.html"
   ]
  },
  {
   "cell_type": "code",
   "execution_count": 26,
   "id": "a74102f8",
   "metadata": {},
   "outputs": [
    {
     "data": {
      "text/plain": [
       "AcceptAll()"
      ]
     },
     "execution_count": 26,
     "metadata": {},
     "output_type": "execute_result"
    }
   ],
   "source": [
    "\"\"\"AcceptAll\"\"\"\n",
    "struct AcceptAll <: Policy end\n",
    "\n",
    "# accept everyone until capacity is 0\n",
    "function POMDPs.action(::AcceptAll, s::State)    # action(policy, state)\n",
    "    return ACCEPT\n",
    "end;\n",
    "\n",
    "AcceptAll_policy = AcceptAll()\n",
    "\n",
    "#simulations(AcceptAll_policy, mdp, 100) #how it will be called "
   ]
  },
  {
   "cell_type": "code",
   "execution_count": null,
   "id": "cf2ebe54",
   "metadata": {},
   "outputs": [],
   "source": [
    "#simulations(test_policy, mdp, 100) #how it will be called "
   ]
  },
  {
   "cell_type": "code",
   "execution_count": 27,
   "id": "93128860",
   "metadata": {},
   "outputs": [
    {
     "data": {
      "text/plain": [
       "AMCITS()"
      ]
     },
     "execution_count": 27,
     "metadata": {},
     "output_type": "execute_result"
    }
   ],
   "source": [
    "\"\"\"AMCITS\"\"\"\n",
    "struct AMCITS <: Policy end\n",
    "\n",
    "function POMDPs.action(::AMCITS, s::State)\n",
    "    return (s.v == 2)  ? ACCEPT : REJECT\n",
    "end;\n",
    "\n",
    "AMCITS_policy = AMCITS()\n",
    "\n",
    "#simulations(AMCITS_policy, mdp, 10) #how it will be called "
   ]
  },
  {
   "cell_type": "code",
   "execution_count": 28,
   "id": "2ba06f60",
   "metadata": {},
   "outputs": [
    {
     "data": {
      "text/plain": [
       "SIV_AMCITS()"
      ]
     },
     "execution_count": 28,
     "metadata": {},
     "output_type": "execute_result"
    }
   ],
   "source": [
    "\"\"\"SIV_AMCITS \"\"\"\n",
    "struct SIV_AMCITS <: Policy end\n",
    "\n",
    "function POMDPs.action(::SIV_AMCITS, s::State)\n",
    "    return (s.v == 2 || s.v == 1) ? ACCEPT : REJECT\n",
    "end;\n",
    "SIV_AMCITS_policy = SIV_AMCITS()\n",
    "\n",
    "\n",
    "#simulations(SIV_AMCITS_policy, mdp, 10) #how it will be called "
   ]
  },
  {
   "cell_type": "code",
   "execution_count": 29,
   "id": "3b4fd55e",
   "metadata": {},
   "outputs": [
    {
     "data": {
      "text/plain": [
       "AfterThresholdAMCITS\n",
       "  threshold: Int64 20\n"
      ]
     },
     "execution_count": 29,
     "metadata": {},
     "output_type": "execute_result"
    }
   ],
   "source": [
    "\"\"\"AfterThresholdAMCITS\"\"\"\n",
    "# if want to change this need to make it a mutable struct \n",
    "@with_kw struct AfterThresholdAMCITS <: Policy\n",
    "    threshold = 20 # could define this in parameters \n",
    "end\n",
    "\n",
    "function POMDPs.action(policy::AfterThresholdAMCITS, s::State)\n",
    "    if s.t <= 20 #policy.threshold\n",
    "        return s.v == 5 ? ACCEPT : REJECT\n",
    "    else\n",
    "        return action(mdp_policy, s)\n",
    "    end\n",
    "end\n",
    "\n",
    "# function POMDPs.action(::AfterThresholdAMCITS, s::State)\n",
    "    \n",
    "#     # regular MDP up until that point \n",
    "#     return (((s.c-s.f) >= 0 && s.t >= 0) && s.t <= 20 && s.v == 5) ? ACCEPT : REJECT # make the threshold a variable \n",
    "# end;\n",
    "        \n",
    "SIV_AfterThresholdAMCITS_policy = AfterThresholdAMCITS()\n",
    "#simulations(SIV_AfterThresholdAMCITS_policy, mdp, 10)\n"
   ]
  },
  {
   "cell_type": "code",
   "execution_count": 30,
   "id": "26a8cd1d",
   "metadata": {},
   "outputs": [
    {
     "data": {
      "text/plain": [
       "BeforeThresholdAMCITS\n",
       "  threshold: Int64 20\n"
      ]
     },
     "execution_count": 30,
     "metadata": {},
     "output_type": "execute_result"
    }
   ],
   "source": [
    "\"\"\"BeforeThresholdAMCITS\"\"\"\n",
    "@with_kw struct BeforeThresholdAMCITS <: Policy\n",
    "    threshold = 20\n",
    "end\n",
    "\n",
    "function POMDPs.action(policy::BeforeThresholdAMCITS, s::State)\n",
    "    if s.t >= 20 #policy.threshold\n",
    "        return s.v == 5 ? ACCEPT : REJECT\n",
    "    else\n",
    "        return action(mdp_policy, s)\n",
    "    end\n",
    "end\n",
    "\n",
    "        \n",
    "BeforeThresholdAMCITS_policy = BeforeThresholdAMCITS()\n",
    "#simulations(BeforeThresholdAMCITS_policy, mdp, 10)\n",
    "# could play with changing this threshold\n"
   ]
  },
  {
   "cell_type": "code",
   "execution_count": 31,
   "id": "89cbd4d8",
   "metadata": {},
   "outputs": [
    {
     "data": {
      "text/plain": [
       "simulation (generic function with 1 method)"
      ]
     },
     "execution_count": 31,
     "metadata": {},
     "output_type": "execute_result"
    }
   ],
   "source": [
    "function simulation(policy, mdp)\n",
    "    sim = RolloutSimulator()\n",
    "    r = simulate(sim, mdp, policy) #accumulated discounted reward \n",
    "    # could we also return the number of ppl on the plane? \n",
    "    return r\n",
    "end"
   ]
  },
  {
   "cell_type": "code",
   "execution_count": null,
   "id": "bafbd741",
   "metadata": {},
   "outputs": [],
   "source": [
    "#simulation(SIV_AfterThresholdAMCITS_policy, mdp)"
   ]
  },
  {
   "cell_type": "code",
   "execution_count": null,
   "id": "564f8c79",
   "metadata": {},
   "outputs": [],
   "source": [
    "#simulation(mdp_policy, mdp)"
   ]
  },
  {
   "cell_type": "markdown",
   "id": "50ef9852",
   "metadata": {},
   "source": [
    "**Simulation**"
   ]
  },
  {
   "cell_type": "code",
   "execution_count": 32,
   "id": "a2d0fba8",
   "metadata": {},
   "outputs": [
    {
     "data": {
      "text/plain": [
       "simulation (generic function with 1 method)"
      ]
     },
     "execution_count": 32,
     "metadata": {},
     "output_type": "execute_result"
    }
   ],
   "source": [
    "# # for reference, this is what is happening in sim\n",
    "# # b = initialize_belief(up, b0)\n",
    "\n",
    "# r_total = 0.0\n",
    "# d = 1.0\n",
    "# while !isterminal(pomdp, s)\n",
    "#     a = action(policy, b)\n",
    "#     s, o, r = @gen(:sp,:o,:r)(pomdp, s, a) # gen is \n",
    "#     r_total += d*r\n",
    "#     d *= discount(pomdp)\n",
    "#     b = update(up, b, a, o)\n",
    "# end\n",
    "\n",
    "# gen is     \n",
    "#     sp = rand(transition(pomdp, s, a))\n",
    "#     o = rand(observation(pomdp, s, a, sp))\n",
    "#     r = reward(pomdp, s, a, sp, o)\n",
    "#     s = sp\n",
    "# function simulation(policy, mdp)\n",
    "#     sim = RolloutSimulator()\n",
    "#     r = simulate(sim, mdp, policy) #accumulated discounted reward \n",
    "#     # could we also return the number of ppl on the plane? \n",
    "#     return r\n",
    "# end\n",
    "\n",
    "# INTEGRATE HISTORY HERE https://juliapomdp.github.io/POMDPSimulators.jl/latest/histories/#Examples and use in stats\n",
    "function simulation(policy, mdp)\n",
    "    hr = HistoryRecorder()\n",
    "    #sim = RolloutSimulator()\n",
    "    history = simulate(hr, mdp, policy)\n",
    "    #r = simulate(sim, mdp, policy) #accumulated discounted reward \n",
    "    # could we also return the number of ppl on the plane? \n",
    "    return history\n",
    "end\n"
   ]
  },
  {
   "cell_type": "code",
   "execution_count": 35,
   "id": "ea492a78",
   "metadata": {},
   "outputs": [
    {
     "data": {
      "text/plain": [
       "61-element SimHistory{NamedTuple{(:s, :a, :sp, :r, :info, :t, :action_info), Tuple{State, Action, State, Int64, Nothing, Int64, Nothing}}, Float64}:\n",
       " (s = State(60, 60, 5, 0), a = ACCEPT, sp = State(60, 59, 2, -1), r = 0, info = nothing, t = 1, action_info = nothing)\n",
       " (s = State(60, 59, 2, -1), a = ACCEPT, sp = State(58, 58, 3, 0), r = -2, info = nothing, t = 2, action_info = nothing)\n",
       " (s = State(58, 58, 3, 0), a = REJECT, sp = State(58, 57, 4, -2), r = 0, info = nothing, t = 3, action_info = nothing)\n",
       " (s = State(58, 57, 4, -2), a = REJECT, sp = State(58, 56, 2, -1), r = 0, info = nothing, t = 4, action_info = nothing)\n",
       " (s = State(58, 56, 2, -1), a = REJECT, sp = State(58, 55, 1, -2), r = 0, info = nothing, t = 5, action_info = nothing)\n",
       " (s = State(58, 55, 1, -2), a = REJECT, sp = State(58, 54, 2, -1), r = 0, info = nothing, t = 6, action_info = nothing)\n",
       " (s = State(58, 54, 2, -1), a = REJECT, sp = State(58, 53, 4, -2), r = 0, info = nothing, t = 7, action_info = nothing)\n",
       " (s = State(58, 53, 4, -2), a = REJECT, sp = State(58, 52, 3, 0), r = 0, info = nothing, t = 8, action_info = nothing)\n",
       " (s = State(58, 52, 3, 0), a = ACCEPT, sp = State(55, 51, 1, -1), r = 0, info = nothing, t = 9, action_info = nothing)\n",
       " (s = State(55, 51, 1, -1), a = ACCEPT, sp = State(55, 50, 3, 2), r = -1, info = nothing, t = 10, action_info = nothing)\n",
       " (s = State(55, 50, 3, 2), a = ACCEPT, sp = State(52, 49, 2, -1), r = 6, info = nothing, t = 11, action_info = nothing)\n",
       " (s = State(52, 49, 2, -1), a = ACCEPT, sp = State(50, 48, 5, 1), r = -2, info = nothing, t = 12, action_info = nothing)\n",
       " (s = State(50, 48, 5, 1), a = ACCEPT, sp = State(50, 47, 4, 0), r = 5, info = nothing, t = 13, action_info = nothing)\n",
       " ⋮\n",
       " (s = State(12, 11, 5, 1), a = REJECT, sp = State(12, 10, 5, 0), r = 0, info = nothing, t = 50, action_info = nothing)\n",
       " (s = State(12, 10, 5, 0), a = REJECT, sp = State(12, 9, 2, 0), r = 0, info = nothing, t = 51, action_info = nothing)\n",
       " (s = State(12, 9, 2, 0), a = REJECT, sp = State(12, 8, 3, 1), r = 0, info = nothing, t = 52, action_info = nothing)\n",
       " (s = State(12, 8, 3, 1), a = REJECT, sp = State(12, 7, 2, 0), r = 0, info = nothing, t = 53, action_info = nothing)\n",
       " (s = State(12, 7, 2, 0), a = ACCEPT, sp = State(10, 6, 2, 0), r = 0, info = nothing, t = 54, action_info = nothing)\n",
       " (s = State(10, 6, 2, 0), a = REJECT, sp = State(10, 5, 3, 1), r = 0, info = nothing, t = 55, action_info = nothing)\n",
       " (s = State(10, 5, 3, 1), a = REJECT, sp = State(10, 4, 5, -1), r = 0, info = nothing, t = 56, action_info = nothing)\n",
       " (s = State(10, 4, 5, -1), a = REJECT, sp = State(10, 3, 4, 0), r = 0, info = nothing, t = 57, action_info = nothing)\n",
       " (s = State(10, 3, 4, 0), a = REJECT, sp = State(10, 2, 4, 1), r = 0, info = nothing, t = 58, action_info = nothing)\n",
       " (s = State(10, 2, 4, 1), a = ACCEPT, sp = State(6, 1, 5, 1), r = 4, info = nothing, t = 59, action_info = nothing)\n",
       " (s = State(6, 1, 5, 1), a = ACCEPT, sp = State(1, 0, 4, 1), r = 5, info = nothing, t = 60, action_info = nothing)\n",
       " (s = State(1, 0, 4, 1), a = ACCEPT, sp = State(-1, -1, -1, -1), r = 4, info = nothing, t = 61, action_info = nothing)"
      ]
     },
     "execution_count": 35,
     "metadata": {},
     "output_type": "execute_result"
    }
   ],
   "source": [
    "mdp_history = simulation(mdp_policy, mdp)"
   ]
  },
  {
   "cell_type": "code",
   "execution_count": 38,
   "id": "6e4f9567",
   "metadata": {},
   "outputs": [
    {
     "name": "stdout",
     "output_type": "stream",
     "text": [
      "reward 0 received when state State(60, 59, 2, -1) was reached after action ACCEPT was taken in state State(60, 60, 5, 0)\n",
      "reward -2 received when state State(58, 58, 3, 0) was reached after action ACCEPT was taken in state State(60, 59, 2, -1)\n",
      "reward 0 received when state State(58, 57, 4, -2) was reached after action REJECT was taken in state State(58, 58, 3, 0)\n",
      "reward 0 received when state State(58, 56, 2, -1) was reached after action REJECT was taken in state State(58, 57, 4, -2)\n",
      "reward 0 received when state State(58, 55, 1, -2) was reached after action REJECT was taken in state State(58, 56, 2, -1)\n",
      "reward 0 received when state State(58, 54, 2, -1) was reached after action REJECT was taken in state State(58, 55, 1, -2)\n",
      "reward 0 received when state State(58, 53, 4, -2) was reached after action REJECT was taken in state State(58, 54, 2, -1)\n",
      "reward 0 received when state State(58, 52, 3, 0) was reached after action REJECT was taken in state State(58, 53, 4, -2)\n",
      "reward 0 received when state State(55, 51, 1, -1) was reached after action ACCEPT was taken in state State(58, 52, 3, 0)\n",
      "reward -1 received when state State(55, 50, 3, 2) was reached after action ACCEPT was taken in state State(55, 51, 1, -1)\n",
      "reward 6 received when state State(52, 49, 2, -1) was reached after action ACCEPT was taken in state State(55, 50, 3, 2)\n",
      "reward -2 received when state State(50, 48, 5, 1) was reached after action ACCEPT was taken in state State(52, 49, 2, -1)\n",
      "reward 5 received when state State(50, 47, 4, 0) was reached after action ACCEPT was taken in state State(50, 48, 5, 1)\n",
      "reward 0 received when state State(50, 46, 3, -2) was reached after action REJECT was taken in state State(50, 47, 4, 0)\n",
      "reward 0 received when state State(50, 45, 5, -1) was reached after action REJECT was taken in state State(50, 46, 3, -2)\n",
      "reward -5 received when state State(45, 44, 5, 0) was reached after action ACCEPT was taken in state State(50, 45, 5, -1)\n",
      "reward 0 received when state State(45, 43, 1, -2) was reached after action ACCEPT was taken in state State(45, 44, 5, 0)\n",
      "reward -2 received when state State(45, 42, 1, -2) was reached after action ACCEPT was taken in state State(45, 43, 1, -2)\n",
      "reward -2 received when state State(44, 41, 1, -1) was reached after action ACCEPT was taken in state State(45, 42, 1, -2)\n",
      "reward -1 received when state State(43, 40, 3, -2) was reached after action ACCEPT was taken in state State(44, 41, 1, -1)\n",
      "reward 0 received when state State(43, 39, 5, -2) was reached after action REJECT was taken in state State(43, 40, 3, -2)\n",
      "reward 0 received when state State(43, 38, 2, -2) was reached after action REJECT was taken in state State(43, 39, 5, -2)\n",
      "reward 0 received when state State(43, 37, 3, -2) was reached after action REJECT was taken in state State(43, 38, 2, -2)\n",
      "reward 0 received when state State(43, 36, 2, 1) was reached after action REJECT was taken in state State(43, 37, 3, -2)\n",
      "reward 0 received when state State(43, 35, 1, -2) was reached after action REJECT was taken in state State(43, 36, 2, 1)\n",
      "reward 0 received when state State(43, 34, 5, -2) was reached after action REJECT was taken in state State(43, 35, 1, -2)\n",
      "reward 0 received when state State(43, 33, 1, 1) was reached after action REJECT was taken in state State(43, 34, 5, -2)\n",
      "reward 1 received when state State(42, 32, 5, 0) was reached after action ACCEPT was taken in state State(43, 33, 1, 1)\n",
      "reward 0 received when state State(42, 31, 3, 2) was reached after action ACCEPT was taken in state State(42, 32, 5, 0)\n",
      "reward 6 received when state State(42, 30, 4, 2) was reached after action ACCEPT was taken in state State(42, 31, 3, 2)\n",
      "reward 8 received when state State(38, 29, 3, 0) was reached after action ACCEPT was taken in state State(42, 30, 4, 2)\n",
      "reward 0 received when state State(35, 28, 4, 1) was reached after action ACCEPT was taken in state State(38, 29, 3, 0)\n",
      "reward 4 received when state State(31, 27, 4, -1) was reached after action ACCEPT was taken in state State(35, 28, 4, 1)\n",
      "reward 0 received when state State(31, 26, 3, -2) was reached after action REJECT was taken in state State(31, 27, 4, -1)\n",
      "reward 0 received when state State(31, 25, 5, 2) was reached after action REJECT was taken in state State(31, 26, 3, -2)\n",
      "reward 10 received when state State(26, 24, 2, 2) was reached after action ACCEPT was taken in state State(31, 25, 5, 2)\n",
      "reward 4 received when state State(26, 23, 1, 2) was reached after action ACCEPT was taken in state State(26, 24, 2, 2)\n",
      "reward 2 received when state State(25, 22, 4, 1) was reached after action ACCEPT was taken in state State(26, 23, 1, 2)\n",
      "reward 4 received when state State(25, 21, 5, 0) was reached after action ACCEPT was taken in state State(25, 22, 4, 1)\n",
      "reward 0 received when state State(20, 20, 2, -2) was reached after action ACCEPT was taken in state State(25, 21, 5, 0)\n",
      "reward 0 received when state State(20, 19, 1, 0) was reached after action REJECT was taken in state State(20, 20, 2, -2)\n",
      "reward 0 received when state State(19, 18, 5, -2) was reached after action ACCEPT was taken in state State(20, 19, 1, 0)\n",
      "reward 0 received when state State(19, 17, 3, 1) was reached after action REJECT was taken in state State(19, 18, 5, -2)\n",
      "reward 3 received when state State(16, 16, 5, -2) was reached after action ACCEPT was taken in state State(19, 17, 3, 1)\n",
      "reward 0 received when state State(16, 15, 3, 2) was reached after action REJECT was taken in state State(16, 16, 5, -2)\n",
      "reward 6 received when state State(13, 14, 1, 1) was reached after action ACCEPT was taken in state State(16, 15, 3, 2)\n",
      "reward 1 received when state State(12, 13, 5, 0) was reached after action ACCEPT was taken in state State(13, 14, 1, 1)\n",
      "reward 0 received when state State(12, 12, 1, 1) was reached after action REJECT was taken in state State(12, 13, 5, 0)\n",
      "reward 0 received when state State(12, 11, 5, 1) was reached after action REJECT was taken in state State(12, 12, 1, 1)\n",
      "reward 0 received when state State(12, 10, 5, 0) was reached after action REJECT was taken in state State(12, 11, 5, 1)\n",
      "reward 0 received when state State(12, 9, 2, 0) was reached after action REJECT was taken in state State(12, 10, 5, 0)\n",
      "reward 0 received when state State(12, 8, 3, 1) was reached after action REJECT was taken in state State(12, 9, 2, 0)\n",
      "reward 0 received when state State(12, 7, 2, 0) was reached after action REJECT was taken in state State(12, 8, 3, 1)\n",
      "reward 0 received when state State(10, 6, 2, 0) was reached after action ACCEPT was taken in state State(12, 7, 2, 0)\n",
      "reward 0 received when state State(10, 5, 3, 1) was reached after action REJECT was taken in state State(10, 6, 2, 0)\n",
      "reward 0 received when state State(10, 4, 5, -1) was reached after action REJECT was taken in state State(10, 5, 3, 1)\n",
      "reward 0 received when state State(10, 3, 4, 0) was reached after action REJECT was taken in state State(10, 4, 5, -1)\n",
      "reward 0 received when state State(10, 2, 4, 1) was reached after action REJECT was taken in state State(10, 3, 4, 0)\n",
      "reward 4 received when state State(6, 1, 5, 1) was reached after action ACCEPT was taken in state State(10, 2, 4, 1)\n",
      "reward 5 received when state State(1, 0, 4, 1) was reached after action ACCEPT was taken in state State(6, 1, 5, 1)\n",
      "reward 4 received when state State(-1, -1, -1, -1) was reached after action ACCEPT was taken in state State(1, 0, 4, 1)\n"
     ]
    }
   ],
   "source": [
    "# THIS IS SO COOL AH \n",
    "total_accepted_people = 0\n",
    "total_accepted_families = 0 \n",
    "total_rejected_people = 0\n",
    "total_rejected_families = 0\n",
    "total_reward = 0\n",
    "# Initialize visa_statuses dictionary\n",
    "visa_statuses = params.visa_status\n",
    "visa_dict_accepts = Dict()\n",
    "for v in visa_statuses\n",
    "    visa_dict_accepts[v] = 0\n",
    "end\n",
    "visa_dict_rejects = Dict()\n",
    "for v in visa_statuses\n",
    "    visa_dict_rejects[v] = 0\n",
    "end\n",
    "\n",
    "# State(c, t, f, v)\n",
    "for (s, a, r, sp) in eachstep(mdp_history, \"(s, a, r, sp)\") \n",
    "    # only counting the s not sp so as not to double count \n",
    "    if a==ACCEPT\n",
    "        total_accepted_people += s.f\n",
    "        total_accepted_families += 1\n",
    "        visa_dict_accepts[s.v] += 1\n",
    "    else # action is reject \n",
    "        total_rejected_people += 1\n",
    "        total_rejected_families +=1\n",
    "        visa_dict_rejects[s.v] += 1\n",
    "    end\n",
    "    \n",
    "    total_reward += r\n",
    "    \n",
    "    println(\"reward $r received when state $sp was reached after action $a was taken in state $s\")\n",
    "end"
   ]
  },
  {
   "cell_type": "code",
   "execution_count": 39,
   "id": "eaf301a6",
   "metadata": {},
   "outputs": [
    {
     "data": {
      "text/plain": [
       "Dict{Any, Any} with 5 entries:\n",
       "  0  => 8\n",
       "  -1 => 5\n",
       "  2  => 7\n",
       "  -2 => 2\n",
       "  1  => 9"
      ]
     },
     "execution_count": 39,
     "metadata": {},
     "output_type": "execute_result"
    }
   ],
   "source": [
    "visa_dict_accepts"
   ]
  },
  {
   "cell_type": "code",
   "execution_count": 40,
   "id": "91108355",
   "metadata": {},
   "outputs": [
    {
     "data": {
      "text/plain": [
       "Dict{Any, Any} with 5 entries:\n",
       "  0  => 7\n",
       "  -1 => 4\n",
       "  2  => 0\n",
       "  -2 => 14\n",
       "  1  => 5"
      ]
     },
     "execution_count": 40,
     "metadata": {},
     "output_type": "execute_result"
    }
   ],
   "source": [
    "visa_dict_rejects"
   ]
  },
  {
   "cell_type": "code",
   "execution_count": null,
   "id": "cca30a79",
   "metadata": {},
   "outputs": [],
   "source": [
    "function simulations(policy, mdp, n_sims) # n is number of times to run \n",
    "    policy_rewards = []\n",
    "    for i in 1:n_sims\n",
    "        push!(policy_rewards, simulation(policy, mdp))\n",
    "    end\n",
    "    std_policy_reward = std(policy_rewards)\n",
    "    mean_policy_reward = mean(policy_rewards)\n",
    "    return mean_policy_reward, std_policy_reward\n",
    "end"
   ]
  },
  {
   "cell_type": "code",
   "execution_count": null,
   "id": "dff9f1b1",
   "metadata": {},
   "outputs": [],
   "source": [
    "function experiments()\n",
    "    # policies and n_sims can probably be put in our params function as a list. here for now. \n",
    "    n_sims = 100\n",
    "    policies = [AcceptAll_policy, AMCITS_policy, \n",
    "        SIV_AMCITS_policy, SIV_AfterThresholdAMCITS_policy, \n",
    "        BeforeThresholdAMCITS_policy]\n",
    "    m_std_rewards = []\n",
    "    for curr_policy in policies\n",
    "        push!(m_std_rewards, simulations(curr_policy, mdp, n_sims))\n",
    "    end\n",
    "    # Could print them in a way that makes it more fun \n",
    "    return m_std_rewards\n",
    "\n",
    "end"
   ]
  },
  {
   "cell_type": "code",
   "execution_count": null,
   "id": "880a5549",
   "metadata": {},
   "outputs": [],
   "source": [
    "mean_std_rewards = experiments()"
   ]
  },
  {
   "cell_type": "code",
   "execution_count": 45,
   "id": "72047928",
   "metadata": {},
   "outputs": [],
   "source": [
    "visa_statuses=params.visa_status\n",
    "    family_sizes=params.family_sizes\n",
    "    \n",
    "    index = 1\n",
    "    visatoindx_dict = Dict()\n",
    "    for v in visa_statuses\n",
    "        visatoindx_dict[v] = index\n",
    "        index += 1\n",
    "    end"
   ]
  },
  {
   "cell_type": "code",
   "execution_count": 46,
   "id": "e8750584",
   "metadata": {},
   "outputs": [
    {
     "data": {
      "text/plain": [
       "Dict{Any, Any} with 5 entries:\n",
       "  0  => 3\n",
       "  -1 => 2\n",
       "  2  => 5\n",
       "  -2 => 1\n",
       "  1  => 4"
      ]
     },
     "execution_count": 46,
     "metadata": {},
     "output_type": "execute_result"
    }
   ],
   "source": [
    "visatoindx_dict"
   ]
  },
  {
   "cell_type": "markdown",
   "id": "b5c6b89c",
   "metadata": {},
   "source": [
    "**Visualizations**"
   ]
  },
  {
   "cell_type": "code",
   "execution_count": 47,
   "id": "63cda74b",
   "metadata": {},
   "outputs": [
    {
     "data": {
      "text/plain": [
       "vis_time_step (generic function with 1 method)"
      ]
     },
     "execution_count": 47,
     "metadata": {},
     "output_type": "execute_result"
    }
   ],
   "source": [
    "function vis_time_step(policy, history, c, t) # pass in policy and chairs and time remaing. Spit out graph of family size versus visa status.\n",
    "    (v_size, f_size) = params.size  #visa, family 8, 15\n",
    "    policyGraph = zeros(v_size, f_size) \n",
    "    \n",
    "#     visa_statuses=params.visa_status\n",
    "#     family_sizes=params.family_sizes\n",
    "    \n",
    "#     index = 1\n",
    "#     visatoindx_dict = Dict()\n",
    "#     for v in visa_statuses\n",
    "#         visatoindx_dict[v] = index\n",
    "#         index += 1\n",
    "#     end\n",
    "    \n",
    "    \n",
    "\n",
    "    \n",
    "    for (s, a, r, sp) in eachstep(mdp_history, \"(s, a, r, sp)\") \n",
    "        if a == ACCEPT\n",
    "            println(s.v, s.f)\n",
    "            v = s.v \n",
    "            # I want to access at the index not the status. \n",
    "            policyGraph[visatoindx_dict[s.v], s.f] = 100\n",
    "        else \n",
    "            policyGraph[visatoindx_dict[s.v], s.f]\n",
    "        end\n",
    "    end\n",
    "        \n",
    "#     for f in 1:f_size\n",
    "#         for v in 1:v_size\n",
    "#             act = action(policy, State(c, t, family_sizes[f], visa_statuses[v])) \n",
    "#             if act == ACCEPT\n",
    "#                 policyGraph[v,f] = 100\n",
    "#             else\n",
    "#                 policyGraph[v,f] = 0\n",
    "#             end\n",
    "#         end\n",
    "#     end\n",
    "    \n",
    "    x=params.visa_status\n",
    "    y=params.family_sizes\n",
    "    z=policyGraph'\n",
    "    title_time_cap=\"t = $t c = $c $policy\" # MAKE title smaller \n",
    "    return heatmap(x, y, z, \n",
    "        aspect_ratio = :equal, \n",
    "        legend = :none, \n",
    "        xlims = (params.visa_status[1], \n",
    "        params.visa_status[length(params.visa_status)]), \n",
    "        xlabel = \"Visa Status\", \n",
    "        ylabel = \"Family Size\", \n",
    "        ylims = (params.family_sizes[1], \n",
    "        params.family_sizes[length(params.family_sizes)]), \n",
    "        title=title_time_cap, \n",
    "        xtickfont = font(5, \"Courier\"), \n",
    "        ytickfont = font(5, \"Courier\"),\n",
    "        thickness_scaling = .5,\n",
    "        palette = cgrad([:red, :green], [0, 1]),\n",
    "        )\n",
    "    \n",
    "end"
   ]
  },
  {
   "cell_type": "code",
   "execution_count": null,
   "id": "b2c8c0d9",
   "metadata": {},
   "outputs": [
    {
     "name": "stdout",
     "output_type": "stream",
     "text": [
      "05\n",
      "-12\n",
      "03\n",
      "-11\n",
      "23\n",
      "-12\n",
      "15\n",
      "-15\n",
      "05\n",
      "-21\n",
      "-21\n",
      "-11\n",
      "11\n",
      "05\n",
      "23\n",
      "24\n",
      "03\n",
      "14\n",
      "25\n",
      "22\n",
      "21\n",
      "14\n",
      "05\n",
      "01\n",
      "13\n",
      "23\n",
      "11\n",
      "02\n",
      "14\n",
      "15\n",
      "14\n"
     ]
    }
   ],
   "source": [
    "x = vis_time_step(mdp_policy, mdp_history, 10, 30)"
   ]
  },
  {
   "cell_type": "code",
   "execution_count": null,
   "id": "e6545eb2",
   "metadata": {},
   "outputs": [],
   "source": [
    "function vis_all(policy)\n",
    "    total_time = params.time \n",
    "    total_capacity = params.capacity\n",
    "    graph_per_n = 4\n",
    "    heat_maps = []\n",
    "    time_points = (total_time/graph_per_n) + 1 # to include 0 \n",
    "    capacity_points = (total_capacity/graph_per_n) + 1 \n",
    "    num_graphs = trunc(Int, time_points*capacity_points)\n",
    "    \n",
    "    for t in 0:total_time\n",
    "        if t % graph_per_n == 0 \n",
    "            for c in 0:total_capacity\n",
    "                if c % graph_per_n == 0\n",
    "                push!(heat_maps, vis_time_step(policy, c, t))\n",
    "                end\n",
    "            end\n",
    "        end\n",
    "    end \n",
    "    plot((heat_maps...), layout = num_graphs, margin = 5mm)\n",
    "\n",
    "end"
   ]
  },
  {
   "cell_type": "code",
   "execution_count": null,
   "id": "7010dfb1",
   "metadata": {},
   "outputs": [],
   "source": [
    "vis_all(policy) # THIS IS VISIA;L"
   ]
  },
  {
   "cell_type": "code",
   "execution_count": null,
   "id": "65a79631",
   "metadata": {},
   "outputs": [],
   "source": [
    "vis_all(AcceptAll_policy)"
   ]
  },
  {
   "cell_type": "code",
   "execution_count": null,
   "id": "fb6155e1",
   "metadata": {},
   "outputs": [],
   "source": [
    "vis_all(AMCITS_policy) \n",
    "\n",
    "       "
   ]
  },
  {
   "cell_type": "code",
   "execution_count": null,
   "id": "3b7450be",
   "metadata": {},
   "outputs": [],
   "source": [
    "vis_all(SIV_AMCITS_policy)"
   ]
  },
  {
   "cell_type": "code",
   "execution_count": null,
   "id": "98364f5d",
   "metadata": {
    "scrolled": false
   },
   "outputs": [],
   "source": [
    "vis_all(SIV_AfterThresholdAMCITS_policy)\n"
   ]
  },
  {
   "cell_type": "code",
   "execution_count": null,
   "id": "604f298b",
   "metadata": {},
   "outputs": [],
   "source": [
    "vis_all(BeforeThresholdAMCITS_policy)"
   ]
  },
  {
   "cell_type": "markdown",
   "id": "43a55929",
   "metadata": {},
   "source": [
    "**Aggregate Metrics**"
   ]
  },
  {
   "cell_type": "code",
   "execution_count": null,
   "id": "7e1a9513",
   "metadata": {},
   "outputs": [],
   "source": [
    "# function getmetrics(policy, mdp)\n",
    "#     # I think this somehow needs to simulated in our rollout \n",
    "#     total_people = 0\n",
    "#     total_accept = 0\n",
    "#     total_reject = 0\n",
    "#     total_accepted_people = 0 \n",
    "    \n",
    "#     # Initialize visa_statuses dictionary\n",
    "#     visa_statuses = params.visa_status\n",
    "#     visa_dict = Dict()\n",
    "#     for v in visa_statuses\n",
    "#         visa_dict[v] = 0\n",
    "#     end\n",
    "    \n",
    "#     for c in 0:params.capacity # capacity ends at 0 \n",
    "#         for t in 0:params.time # time ends at 0 \n",
    "#             for f in params.family_sizes # family size here we should have the ACTUAL family sizes \n",
    "#                 for v in params.visa_status # actual visa statuses  \n",
    "#                     state = State(c, t, f, v)\n",
    "#                     total_people += f \n",
    "#                     if action(policy, state) == ACCEPT\n",
    "#                         total_accept += 1\n",
    "#                         total_accepted_people += f\n",
    "#                         visa_dict[v] += 1\n",
    "#                     else \n",
    "#                         total_reject += 1\n",
    "#                     end\n",
    "#                 end        \n",
    "#             end\n",
    "#         end\n",
    "#     end\n",
    "    \n",
    "#     print(\"Total people: \", total_people, )\n",
    "#     print(\"Total accept: \", total_accept)\n",
    "#     print(\"Total reject: \", total_reject)\n",
    "#     visa_dict \n",
    "       \n",
    "# end "
   ]
  },
  {
   "cell_type": "code",
   "execution_count": null,
   "id": "09367517",
   "metadata": {},
   "outputs": [],
   "source": [
    "# getmetrics(policy, mdp)"
   ]
  },
  {
   "cell_type": "code",
   "execution_count": null,
   "id": "48d00343",
   "metadata": {},
   "outputs": [],
   "source": [
    "# function getmetrics(policy, mdp)\n",
    "#     # I think this somehow needs to simulated in our rollout \n",
    "#     total_people = 0\n",
    "#     total_accept = 0\n",
    "#     total_reject = 0\n",
    "#     total_accepted_people = 0 \n",
    "    \n",
    "#     # Initialize visa_statuses dictionary\n",
    "#     visa_statuses = params.visa_status\n",
    "#     visa_dict = Dict()\n",
    "#     for v in visa_statuses\n",
    "#         visa_dict[v] = 0\n",
    "#     end\n",
    "    \n",
    "#     for c in 0:params.capacity # capacity ends at 0 \n",
    "#         for t in 0:params.time # time ends at 0 \n",
    "#             for f in params.family_sizes # family size here we should have the ACTUAL family sizes \n",
    "#                 for v in params.visa_status # actual visa statuses  \n",
    "#                     state = State(c, t, f, v)\n",
    "#                     total_people += f \n",
    "#                     if action(policy, state) == ACCEPT\n",
    "#                         total_accept += 1\n",
    "#                         total_accepted_people += f\n",
    "#                         visa_dict[v] += 1\n",
    "#                     else \n",
    "#                         total_reject += 1\n",
    "#                     end\n",
    "#                 end        \n",
    "#             end\n",
    "#         end\n",
    "#     end\n",
    "    \n",
    "#     print(\"Total people: \", total_people, )\n",
    "#     print(\"Total accept: \", total_accept)\n",
    "#     print(\"Total reject: \", total_reject)\n",
    "#     visa_dict \n",
    "       \n",
    "# end "
   ]
  }
 ],
 "metadata": {
  "@webio": {
   "lastCommId": null,
   "lastKernelId": null
  },
  "kernelspec": {
   "display_name": "Julia 1.6.2",
   "language": "julia",
   "name": "julia-1.6"
  },
  "language_info": {
   "file_extension": ".jl",
   "mimetype": "application/julia",
   "name": "julia",
   "version": "1.6.2"
  }
 },
 "nbformat": 4,
 "nbformat_minor": 5
}
