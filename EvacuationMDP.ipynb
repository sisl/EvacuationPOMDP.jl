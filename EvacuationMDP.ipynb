{
 "cells": [
  {
   "cell_type": "code",
   "execution_count": 1,
   "id": "d9f1e2e3",
   "metadata": {},
   "outputs": [],
   "source": [
    "using POMDPs # for MDP type\n",
    "using DiscreteValueIteration\n",
    "using POMDPPolicies\n",
    "using POMDPModelTools #for sparse cat \n",
    "using Parameters\n",
    "using Random\n",
    "using Plots; default(fontfamily=\"Computer Modern\", framestyle=:box) # LaTex-style\n",
    "using QuickPOMDPs\n",
    "using Distributions "
   ]
  },
  {
   "cell_type": "code",
   "execution_count": 2,
   "id": "2b9f438e",
   "metadata": {},
   "outputs": [
    {
     "data": {
      "text/plain": [
       "MersenneTwister(123)"
      ]
     },
     "execution_count": 2,
     "metadata": {},
     "output_type": "execute_result"
    }
   ],
   "source": [
    "Random.seed!(123)"
   ]
  },
  {
   "cell_type": "markdown",
   "id": "a4476a99",
   "metadata": {},
   "source": [
    "**Environment Parameters**"
   ]
  },
  {
   "cell_type": "code",
   "execution_count": 3,
   "id": "f6b0581f",
   "metadata": {},
   "outputs": [
    {
     "data": {
      "text/plain": [
       "EvacuationParameters"
      ]
     },
     "execution_count": 3,
     "metadata": {},
     "output_type": "execute_result"
    }
   ],
   "source": [
    "# assume families normally distributed as integers around average family size in afghanistan of 8. \n",
    "# Truncated to include 1 or greater and rounded to be integers \n",
    "@with_kw struct EvacuationParameters\n",
    "    # need the probability that a particular family shows up at the door....\n",
    "    family_sizes::Vector{Int} =  [trunc(Int, x) for x in rand(TruncatedNormal(3, 1, 1, Inf), 10)] \n",
    "    visa_status::Vector{Int} = [-4, -3, -2, 0, 1, 2, 3, 4] #TODO: map to various status \n",
    "    capacity::Int = 20\n",
    "    time::Int = 60\n",
    "    size::Tuple{Int, Int} = (length(visa_status), length(family_sizes)) # size of grid \n",
    "    p_transition::Real = 0.8 # don't we always transition into this since time moves forward? I'm confused... \n",
    "#    null_state::State = State(x, 0, x, x) == 0 [how would do this?]\n",
    "end\n"
   ]
  },
  {
   "cell_type": "code",
   "execution_count": 4,
   "id": "85b0fd63",
   "metadata": {},
   "outputs": [],
   "source": [
    "params = EvacuationParameters(); "
   ]
  },
  {
   "cell_type": "markdown",
   "id": "2becbdb8",
   "metadata": {},
   "source": [
    "**States**"
   ]
  },
  {
   "cell_type": "code",
   "execution_count": 5,
   "id": "4a8cc27e",
   "metadata": {},
   "outputs": [],
   "source": [
    "# A state s in the evacuation problem is a discrete set of 4 values: \n",
    "# chairs remaining, time remaining, family size, and visa status\n",
    "struct State\n",
    "    c::Int # chairs remaining \n",
    "    t::Int # time remaining \n",
    "    f::Int # family size \n",
    "    v::Int # visa status \n",
    "end "
   ]
  },
  {
   "cell_type": "code",
   "execution_count": 6,
   "id": "6bce05cb",
   "metadata": {},
   "outputs": [],
   "source": [
    "# The state space S for the evacuation problem is the set of \n",
    "# all combinations \n",
    "# Question: Do I need the end state here? \n",
    "#𝒮 = [[State(c, t, f, v) for  c=1:params.capacity, t=1:params.time, f=1:params.size[2], v=1:params.size[1]]]\n",
    "𝒮 = []\n",
    "\n",
    "for c in 1:params.capacity\n",
    "    for t in 1:params.time\n",
    "        for f in 1:params.size[2]\n",
    "            for v in 1:params.size[1]\n",
    "                new = State(c, t, f, v)\n",
    "                𝒮 = [𝒮; new]\n",
    "            end\n",
    "        end        \n",
    "    end\n",
    "end\n"
   ]
  },
  {
   "cell_type": "code",
   "execution_count": 7,
   "id": "8c1f74d3",
   "metadata": {},
   "outputs": [
    {
     "name": "stdout",
     "output_type": "stream",
     "text": [
      "size(𝒮) = (96000,)\n"
     ]
    },
    {
     "data": {
      "text/plain": [
       "(96000,)"
      ]
     },
     "execution_count": 7,
     "metadata": {},
     "output_type": "execute_result"
    }
   ],
   "source": [
    "@show size(𝒮)\n",
    "#@show size[1,1,1,1]\n",
    "#(20, 60, 10, 10)\n",
    "#length(𝒮[1]) = 120000 = 100*60*10*10"
   ]
  },
  {
   "cell_type": "markdown",
   "id": "db20f788",
   "metadata": {},
   "source": [
    "**Actions**"
   ]
  },
  {
   "cell_type": "code",
   "execution_count": 8,
   "id": "eeed1f84",
   "metadata": {},
   "outputs": [],
   "source": [
    "# the possible actions are whether accept or reject a family at the gate \n",
    "@enum Action REJECT ACCEPT"
   ]
  },
  {
   "cell_type": "code",
   "execution_count": 9,
   "id": "61a11d34",
   "metadata": {},
   "outputs": [
    {
     "data": {
      "text/plain": [
       "2-element Vector{Action}:\n",
       " REJECT::Action = 0\n",
       " ACCEPT::Action = 1"
      ]
     },
     "execution_count": 9,
     "metadata": {},
     "output_type": "execute_result"
    }
   ],
   "source": [
    "𝒜 = [REJECT, ACCEPT]"
   ]
  },
  {
   "cell_type": "code",
   "execution_count": 10,
   "id": "57ee9a74",
   "metadata": {},
   "outputs": [
    {
     "data": {
      "text/plain": [
       "2"
      ]
     },
     "execution_count": 10,
     "metadata": {},
     "output_type": "execute_result"
    }
   ],
   "source": [
    "length(𝒜)"
   ]
  },
  {
   "cell_type": "code",
   "execution_count": 11,
   "id": "6bb782f9",
   "metadata": {},
   "outputs": [
    {
     "data": {
      "text/plain": [
       "1-element Vector{Int64}:\n",
       " 3"
      ]
     },
     "execution_count": 11,
     "metadata": {},
     "output_type": "execute_result"
    }
   ],
   "source": [
    "v′ = rand(params.visa_status, 1)"
   ]
  },
  {
   "cell_type": "code",
   "execution_count": 12,
   "id": "2560de47",
   "metadata": {},
   "outputs": [
    {
     "data": {
      "text/plain": [
       "1"
      ]
     },
     "execution_count": 12,
     "metadata": {},
     "output_type": "execute_result"
    }
   ],
   "source": [
    "v′ = rand(params.visa_status, 1)[1]"
   ]
  },
  {
   "cell_type": "markdown",
   "id": "9677353c",
   "metadata": {},
   "source": [
    "**Transition Function** "
   ]
  },
  {
   "cell_type": "code",
   "execution_count": 13,
   "id": "cdf24312",
   "metadata": {},
   "outputs": [
    {
     "data": {
      "text/plain": [
       "T (generic function with 1 method)"
      ]
     },
     "execution_count": 13,
     "metadata": {},
     "output_type": "execute_result"
    }
   ],
   "source": [
    "#XXXXXXXXXXXXXXXXXXXXXXXXXNote from Lilian:XXXXXXXXXXXXXXXXXXXXXXXXXXXXXXXXXXXXXXXXXXXXXXXXXXXXXX\n",
    "# check out https://juliapomdp.github.io/POMDPModelTools.jl/stable/distributions/\n",
    "# we are supposed to return a sparsecat structure with all the states and the prob of going to them next\n",
    "# so i think this is incorrect because we seem to be not returning that\n",
    "# SparseCat(values, probabilities) to create a sparse categorical distribution.\n",
    "#textbook page 148\n",
    "\n",
    "#Other notes:\n",
    "#T = P(S' | S, A), so the probs are always 100% for each action \n",
    "\n",
    "#I figured it out, just havent coded it yet, just have to send back a SparseCat with \n",
    "# if action = accept, new state (S') to be time -1 and seats -1 100% and the rest 0%\n",
    "# if action = reject, send back exact same state space (s') but with time - 1 100% of the time\n",
    "\n",
    "#this is assuming an accept means 100% you get on the plane and reject means you can't sneak onto it. I \n",
    "#I think it might be realistic to make an accept give you a 80% chance of actually getting a seat if accepted.\n",
    "#i read your article and it seemed like it was so disorganized that some of the accepted people didnt \n",
    "#make it. \n",
    "\n",
    "#need to add global rep of all the states so we can check it\n",
    "\n",
    "# think about how to fix the transition function \n",
    "# The transition function returns a distribution over next states given the current state and an action .\n",
    "function T(s::State, a::Action)\n",
    "    \n",
    "    f′ = rand(params.family_sizes, 1)[1]\n",
    "    v′ = rand(params.visa_status, 1)[1] # TODO: possibly make this weighted in some way \n",
    "    \n",
    "    if a == ACCEPT\n",
    "        # struct State\n",
    "        #     c::Int # chairs remaining \n",
    "        #     t::Int # time remaining \n",
    "        #     f::Int # family size \n",
    "        #     v::Int # visa status \n",
    "        # end \n",
    "        \n",
    "        Nₐ = 2 #80% get a seat, 20% lost it due to poor orgnaization\n",
    "        next_states = Vector{State}(undef, Nₐ) \n",
    "        probabilities = [.80, .20]\n",
    "        \n",
    "        next_states[1] = State(s.c - s.f, s.t - 1, f′, v′) #they get seats\n",
    "        next_states[2] = State(s.c, s.t - 1, f′, v′) #where they don't get seats\n",
    "        \n",
    "    elseif a == REJECT\n",
    "        Nₐ = 1\n",
    "        next_states = Vector{State}(undef, Nₐ) \n",
    "        probabilities = [1.0]\n",
    "        next_states[1] = State(s.c, s.t - 1, f′, v′) #where they don't get seats\n",
    "    \n",
    "    end\n",
    "    return SparseCat(next_states, probabilities)\n",
    "end\n",
    "\n",
    "    "
   ]
  },
  {
   "cell_type": "code",
   "execution_count": 30,
   "id": "b218c265",
   "metadata": {},
   "outputs": [
    {
     "data": {
      "text/plain": [
       "                                \u001b[1mSparseCat distribution\u001b[22m           \n",
       "                      \u001b[90m┌                                        ┐\u001b[39m \n",
       "   \u001b[0mState(42, 9, 3, 2) \u001b[90m┤\u001b[39m\u001b[38;5;2m■■■■■■■■■■■■■■■■■■■■■■■■■■■■■■■■■■■\u001b[39m\u001b[0m 0.8 \u001b[90m \u001b[39m \n",
       "   \u001b[0mState(50, 9, 3, 2) \u001b[90m┤\u001b[39m\u001b[38;5;2m■■■■■■■■■\u001b[39m\u001b[0m 0.2                           \u001b[90m \u001b[39m \n",
       "                      \u001b[90m└                                        ┘\u001b[39m "
      ]
     },
     "execution_count": 30,
     "metadata": {},
     "output_type": "execute_result"
    }
   ],
   "source": [
    "# struct State\n",
    "#     c::Int # chairs remaining \n",
    "#     t::Int # time remaining \n",
    "# #     f::Int # family size \n",
    "# #     v::Int # visa status \n",
    "# # end \n",
    "T(State(50, 10, 8, 1), ACCEPT)\n",
    "\n",
    "\n",
    "# ACCEPT: State(50, 9, ANYTHING, ANYTHING)\n",
    "# ACCEPT: State(42, 9, ANYTHING, ANYTHING)\n",
    "# REJECT: State(50, 9, ANYTHING, ANYTHING)"
   ]
  },
  {
   "cell_type": "markdown",
   "id": "b8b569a4",
   "metadata": {},
   "source": [
    "**Reward Function**"
   ]
  },
  {
   "cell_type": "code",
   "execution_count": 32,
   "id": "5c92b6b3",
   "metadata": {},
   "outputs": [
    {
     "data": {
      "text/plain": [
       "R (generic function with 2 methods)"
      ]
     },
     "execution_count": 32,
     "metadata": {},
     "output_type": "execute_result"
    }
   ],
   "source": [
    "function R(s::State, a::Action)\n",
    "    # reward is just the visa status times family size i think! \n",
    "    if a == ACCEPT\n",
    "        return s.v*s.f\n",
    "    end\n",
    "    return 0\n",
    "end "
   ]
  },
  {
   "cell_type": "code",
   "execution_count": 33,
   "id": "fe0a82b8",
   "metadata": {},
   "outputs": [
    {
     "data": {
      "text/plain": [
       "0.95"
      ]
     },
     "execution_count": 33,
     "metadata": {},
     "output_type": "execute_result"
    }
   ],
   "source": [
    "#render(mdp; show_rewards=true)\n",
    "#@bind γ Slider(0:0.05:1, default=0.95, show_value=true)\n",
    "# hard code for now. maybe come back to it. \n",
    "γ = 0.95"
   ]
  },
  {
   "cell_type": "code",
   "execution_count": 34,
   "id": "556c281a",
   "metadata": {},
   "outputs": [
    {
     "data": {
      "text/plain": [
       "termination (generic function with 1 method)"
      ]
     },
     "execution_count": 34,
     "metadata": {},
     "output_type": "execute_result"
    }
   ],
   "source": [
    "# when time is 0...possibly encode this into the parameters \n",
    "termination(s::State) = (s.t == 0 || s.c == 0)"
   ]
  },
  {
   "cell_type": "markdown",
   "id": "f60f056c",
   "metadata": {},
   "source": [
    "**MDP Formulation**"
   ]
  },
  {
   "cell_type": "code",
   "execution_count": 35,
   "id": "8210d6e8",
   "metadata": {},
   "outputs": [],
   "source": [
    "# We define the Airport abstract MDP type so we can reference it in other methods.\n",
    "abstract type Evacuation <: MDP{State, Action} end"
   ]
  },
  {
   "cell_type": "code",
   "execution_count": 40,
   "id": "f96257ea",
   "metadata": {},
   "outputs": [
    {
     "data": {
      "text/plain": [
       "State(20, 60, 3, -2)"
      ]
     },
     "execution_count": 40,
     "metadata": {},
     "output_type": "execute_result"
    }
   ],
   "source": [
    "  # struct State\n",
    "        #     c::Int # chairs remaining \n",
    "        #     t::Int # time remaining \n",
    "        #     f::Int # family size \n",
    "        #     v::Int # visa status \n",
    "        # end \n",
    "c_initial = params.capacity\n",
    "t_initial = params.time\n",
    "f_initial = rand(params.family_sizes, 1)[1]\n",
    "v_initial = rand(params.visa_status, 1)[1]\n",
    "\n",
    "initialstate = State(c_initial, t_initial, f_initial, v_initial) "
   ]
  },
  {
   "cell_type": "code",
   "execution_count": 67,
   "id": "312047cb",
   "metadata": {},
   "outputs": [
    {
     "data": {
      "text/plain": [
       "State"
      ]
     },
     "execution_count": 67,
     "metadata": {},
     "output_type": "execute_result"
    }
   ],
   "source": [
    "typeof(initialstate)"
   ]
  },
  {
   "cell_type": "code",
   "execution_count": 69,
   "id": "c4c06e40",
   "metadata": {},
   "outputs": [],
   "source": [
    "\n",
    "mdp = QuickMDP(Evacuation,\n",
    "    states       = 𝒮,\n",
    "    actions      = 𝒜,\n",
    "    transition   = T,\n",
    "    reward       = R,\n",
    "    discount     = γ,\n",
    "    initialstate = initialstate,\n",
    "    isterminal   = termination,\n",
    "    render       = render,\n",
    "    statetype    = typeof(initialstate) #\n",
    "    );"
   ]
  },
  {
   "cell_type": "code",
   "execution_count": 70,
   "id": "fe7ecfea",
   "metadata": {},
   "outputs": [],
   "source": [
    "#render(mdp)"
   ]
  },
  {
   "cell_type": "code",
   "execution_count": 71,
   "id": "141252e0",
   "metadata": {},
   "outputs": [],
   "source": [
    "solver = ValueIterationSolver(max_iterations=30, belres=1e-6, verbose=true);"
   ]
  },
  {
   "cell_type": "markdown",
   "id": "302364c8",
   "metadata": {},
   "source": [
    "**Policy**"
   ]
  },
  {
   "cell_type": "code",
   "execution_count": 72,
   "id": "17e25774",
   "metadata": {},
   "outputs": [],
   "source": [
    "# Set discount factor to variable gamma and solve the MDP to obptain policy pi mapping states to actions a"
   ]
  },
  {
   "cell_type": "code",
   "execution_count": 73,
   "id": "562a9bdc",
   "metadata": {},
   "outputs": [
    {
     "ename": "LoadError",
     "evalue": "KeyError: key State(1, 0, 4, 2) not found",
     "output_type": "error",
     "traceback": [
      "KeyError: key State(1, 0, 4, 2) not found",
      "",
      "Stacktrace:",
      "  [1] getindex",
      "    @ ./dict.jl:482 [inlined]",
      "  [2] _call",
      "    @ ~/.julia/packages/QuickPOMDPs/mIT3P/src/quick.jl:206 [inlined]",
      "  [3] _call",
      "    @ ~/.julia/packages/QuickPOMDPs/mIT3P/src/quick.jl:196 [inlined]",
      "  [4] #stateindex#31",
      "    @ ~/.julia/packages/QuickPOMDPs/mIT3P/src/quick.jl:211 [inlined]",
      "  [5] stateindex",
      "    @ ~/.julia/packages/QuickPOMDPs/mIT3P/src/quick.jl:211 [inlined]",
      "  [6] macro expansion",
      "    @ ~/.julia/packages/DiscreteValueIteration/FjeJj/src/vanilla.jl:121 [inlined]",
      "  [7] macro expansion",
      "    @ ./timing.jl:287 [inlined]",
      "  [8] solve(solver::ValueIterationSolver, mdp::QuickMDP{Evacuation, State, Action, NamedTuple{(:stateindex, :isterminal, :states, :statetype, :discount, :render, :actions, :actionindex, :transition, :reward, :initialstate), Tuple{Dict{State, Int64}, typeof(termination), Vector{Any}, DataType, Float64, typeof(render), Vector{Action}, Dict{Action, Int64}, typeof(T), typeof(R), State}}}; kwargs::Base.Iterators.Pairs{Union{}, Union{}, Tuple{}, NamedTuple{(), Tuple{}}})",
      "    @ DiscreteValueIteration ~/.julia/packages/DiscreteValueIteration/FjeJj/src/vanilla.jl:102",
      "  [9] solve(solver::ValueIterationSolver, mdp::QuickMDP{Evacuation, State, Action, NamedTuple{(:stateindex, :isterminal, :states, :statetype, :discount, :render, :actions, :actionindex, :transition, :reward, :initialstate), Tuple{Dict{State, Int64}, typeof(termination), Vector{Any}, DataType, Float64, typeof(render), Vector{Action}, Dict{Action, Int64}, typeof(T), typeof(R), State}}})",
      "    @ DiscreteValueIteration ~/.julia/packages/DiscreteValueIteration/FjeJj/src/vanilla.jl:67",
      " [10] top-level scope",
      "    @ show.jl:955",
      " [11] eval",
      "    @ ./boot.jl:360 [inlined]",
      " [12] include_string(mapexpr::typeof(REPL.softscope), mod::Module, code::String, filename::String)",
      "    @ Base ./loading.jl:1116"
     ]
    }
   ],
   "source": [
    "@show policy = solve(solver, mdp) "
   ]
  },
  {
   "cell_type": "code",
   "execution_count": 27,
   "id": "9c7ea005",
   "metadata": {},
   "outputs": [
    {
     "ename": "LoadError",
     "evalue": "MethodError: objects of type QuickMDP{Evacuation, Any, Action, NamedTuple{(:stateindex, :isterminal, :render, :transition, :reward, :states, :actions, :discount, :initialstate, :actionindex), Tuple{Dict{State, Int64}, typeof(termination), typeof(render), typeof(T), typeof(R), Vector{Any}, Vector{Action}, Float64, Vector{Any}, Dict{Action, Int64}}}} are not callable",
     "output_type": "error",
     "traceback": [
      "MethodError: objects of type QuickMDP{Evacuation, Any, Action, NamedTuple{(:stateindex, :isterminal, :render, :transition, :reward, :states, :actions, :discount, :initialstate, :actionindex), Tuple{Dict{State, Int64}, typeof(termination), typeof(render), typeof(T), typeof(R), Vector{Any}, Vector{Action}, Float64, Vector{Any}, Dict{Action, Int64}}}} are not callable",
      "",
      "Stacktrace:",
      " [1] top-level scope",
      "   @ ~/.julia/packages/POMDPs/PFpk1/src/deprecated.jl:30",
      " [2] eval",
      "   @ ./boot.jl:360 [inlined]",
      " [3] include_string(mapexpr::typeof(REPL.softscope), mod::Module, code::String, filename::String)",
      "   @ Base ./loading.jl:1116"
     ]
    }
   ],
   "source": [
    "@requirements_info ValueIterationSolver() mdp()"
   ]
  },
  {
   "cell_type": "code",
   "execution_count": null,
   "id": "1b1f8db8",
   "metadata": {},
   "outputs": [],
   "source": [
    "# a = action(policy, s) # returns the optimal action for state s\n",
    "# value(policy, s) # returns the optimal value at state s\n"
   ]
  }
 ],
 "metadata": {
  "kernelspec": {
   "display_name": "Julia 1.6.2",
   "language": "julia",
   "name": "julia-1.6"
  },
  "language_info": {
   "file_extension": ".jl",
   "mimetype": "application/julia",
   "name": "julia",
   "version": "1.6.2"
  }
 },
 "nbformat": 4,
 "nbformat_minor": 5
}
