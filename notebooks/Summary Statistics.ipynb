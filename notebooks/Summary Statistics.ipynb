{
 "cells": [
  {
   "cell_type": "code",
   "execution_count": null,
   "metadata": {},
   "outputs": [],
   "source": [
    "total_states = size(𝒮)[1]\n",
    "\n",
    "total_accept = 0\n",
    "total_reject = 0\n",
    "\n",
    "visa_counts = Dict(-5=>0, -4=>0, -3=>0, -2=>0, -1=>0, 0=>0, 1=>0, 2=>0, 3=>0, 4=>0, 5=>0)\n",
    "\n",
    "for c in 0:params.capacity # capacity ends at 0 \n",
    "    for t in 0:params.time # time ends at 0 \n",
    "        for f in params.family_sizes # family size here we should have the ACTUAL family sizes \n",
    "            for v in params.visa_status # actual visa statuses  \n",
    "                if action(policy, State(c, t, f, v)) == ACCEPT\n",
    "                    total_accept += 1\n",
    "                    visa_counts[v] += 1\n",
    "                else \n",
    "                    total_reject += 1\n",
    "            end\n",
    "        end        \n",
    "    end\n",
    "end\n",
    "    \n",
    "percent_accept = total_accept / total_states \n",
    "percent_reject = total_reject / total_states \n",
    "visa_counts"
   ]
  }
 ],
 "metadata": {
  "kernelspec": {
   "display_name": "Julia 1.6.3",
   "language": "julia",
   "name": "julia-1.6"
  },
  "language_info": {
   "file_extension": ".jl",
   "mimetype": "application/julia",
   "name": "julia",
   "version": "1.6.3"
  }
 },
 "nbformat": 4,
 "nbformat_minor": 2
}
