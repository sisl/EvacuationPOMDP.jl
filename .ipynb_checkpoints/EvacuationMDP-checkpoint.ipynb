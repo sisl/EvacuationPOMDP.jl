{
 "cells": [
  {
   "cell_type": "code",
   "execution_count": 1,
   "id": "3db5fbb4",
   "metadata": {},
   "outputs": [],
   "source": [
    "#import Pkg\n",
    "#Pkg.add(\"POMDPs\")\n",
    "using POMDPs # for MDP type\n",
    "# import Pkg\n",
    "#Pkg.add(\"DiscreteValueIteration\")\n",
    "#Pkg.add(\"Parameters\")\n",
    "#Pkg.add(\"Random\")\n",
    "#Pkg.add(\"Plots\")\n",
    "#Pkg.add(\"POMDPModelTools\")\n",
    "#Pkg.add(\"POMDPPolicies\")\n",
    "using DiscreteValueIteration\n",
    "using POMDPPolicies\n",
    "using POMDPModelTools\n",
    "using Parameters\n",
    "using Random\n",
    "using Plots; default(fontfamily=\"Computer Modern\", framestyle=:box) # LaTex-style"
   ]
  },
  {
   "cell_type": "code",
   "execution_count": 5,
   "id": "705a7b4c",
   "metadata": {},
   "outputs": [],
   "source": [
    "using QuickPOMDPs"
   ]
  },
  {
   "cell_type": "code",
   "execution_count": 2,
   "id": "b45a26b1",
   "metadata": {},
   "outputs": [],
   "source": [
    "# Define the problem with QuickPOMPDPs.kl "
   ]
  },
  {
   "cell_type": "markdown",
   "id": "1643d07f",
   "metadata": {},
   "source": [
    "**Environment Parameters**"
   ]
  },
  {
   "cell_type": "code",
   "execution_count": 7,
   "id": "71a81c71",
   "metadata": {},
   "outputs": [],
   "source": [
    "# Parameters defining the evacuation environment \n",
    "# (rather than creating global variables we \n",
    "# consolodate them into a single EvacuationParams structure)"
   ]
  },
  {
   "cell_type": "code",
   "execution_count": null,
   "id": "c3d7c103",
   "metadata": {},
   "outputs": [],
   "source": [
    "@with_kw struct EvacuationParameters\n",
    "    size::Tuple{Int, Int} = (10, 10) # size of grid \n",
    "    null_state::State = State(-1, -1) # terminal state outside grid\n",
    "    p_transition::Real = 0.7 # probability of transitioning to the correct next state\n",
    "end\n",
    "\n",
    "params = EvacuationParameters(); "
   ]
  },
  {
   "cell_type": "markdown",
   "id": "8ddeff23",
   "metadata": {},
   "source": [
    "**States**"
   ]
  },
  {
   "cell_type": "code",
   "execution_count": 4,
   "id": "228c484a",
   "metadata": {},
   "outputs": [],
   "source": [
    "# A state \n",
    "struct State\n",
    "    c::Int # chairs remaining \n",
    "    t::Int # time remaining \n",
    "    f::Int # family size \n",
    "    v::Int # visa status \n",
    "end "
   ]
  },
  {
   "cell_type": "code",
   "execution_count": null,
   "id": "b80e82e7",
   "metadata": {},
   "outputs": [],
   "source": [
    "# Initialize the state space ? \n",
    "# in a grird world it is the set of all (x, y values in the 10X 10 grid...)\n",
    "# a list of all the structs ... \n",
    "𝒮 = [State(c, t, f, v) for ]"
   ]
  },
  {
   "cell_type": "code",
   "execution_count": null,
   "id": "4175e600",
   "metadata": {},
   "outputs": [],
   "source": []
  },
  {
   "cell_type": "markdown",
   "id": "8571e5eb",
   "metadata": {},
   "source": [
    "**Actions**"
   ]
  },
  {
   "cell_type": "code",
   "execution_count": null,
   "id": "b19561db",
   "metadata": {},
   "outputs": [],
   "source": [
    "# the possible actions \\scrs<TAB> are wither accepting or rejecting a family\n",
    "@enum Action REJECT ACCEPT"
   ]
  },
  {
   "cell_type": "code",
   "execution_count": null,
   "id": "c19e949c",
   "metadata": {},
   "outputs": [],
   "source": [
    "#A = [REJECT::Action=0, ACCEPT::Action=1]\n",
    "𝒜 = Action "
   ]
  },
  {
   "cell_type": "code",
   "execution_count": null,
   "id": "5f89f46a",
   "metadata": {},
   "outputs": [],
   "source": [
    "#𝒜 = [REJECT, ACCEPT]"
   ]
  },
  {
   "cell_type": "code",
   "execution_count": null,
   "id": "e6f54e01",
   "metadata": {},
   "outputs": [],
   "source": []
  },
  {
   "cell_type": "code",
   "execution_count": null,
   "id": "3b97bfbe",
   "metadata": {},
   "outputs": [],
   "source": [
    "# We define the Airport abstract MDP type so we can reference it in other methods.\n",
    "abstract type Airport <: MDP{State, Action} end"
   ]
  },
  {
   "cell_type": "code",
   "execution_count": null,
   "id": "040a2647",
   "metadata": {},
   "outputs": [],
   "source": [
    "Airport"
   ]
  },
  {
   "cell_type": "markdown",
   "id": "ead0f4d9",
   "metadata": {},
   "source": [
    "**Transition Function** "
   ]
  },
  {
   "cell_type": "code",
   "execution_count": null,
   "id": "7a1cf296",
   "metadata": {},
   "outputs": [],
   "source": [
    "# The dynamics to transition the agent live in the transition function T(s'|s, a). The transition function \n",
    "function T(s::State, a::Action)\n",
    "    "
   ]
  },
  {
   "cell_type": "markdown",
   "id": "4b4a66c5",
   "metadata": {},
   "source": [
    "**Reward Function**"
   ]
  },
  {
   "cell_type": "code",
   "execution_count": null,
   "id": "20dea728",
   "metadata": {},
   "outputs": [],
   "source": [
    "# The reward functions R(s) and R(s,a) return rewards for a given State. Certain formulations may use R(s) or R(s,a) \n",
    "# to computer the rewards \n",
    "function R(s, a)\n",
    "    if s == State()\n",
    "        return 1\n",
    "    elseif s == State()\n",
    "        return 5\n",
    "    elseif s == State()\n",
    "        return 10\n",
    "    elseif s == State()\n",
    "        return -10\n",
    "    else \n",
    "        return 0\n",
    "    end \n",
    "end "
   ]
  },
  {
   "cell_type": "code",
   "execution_count": null,
   "id": "34eacc4f",
   "metadata": {},
   "outputs": [],
   "source": [
    "render(mdp; show_rewards=true)"
   ]
  },
  {
   "cell_type": "markdown",
   "id": "9caccc7a",
   "metadata": {},
   "source": [
    "**MDP Formulation**"
   ]
  },
  {
   "cell_type": "code",
   "execution_count": null,
   "id": "7fd8583a",
   "metadata": {},
   "outputs": [],
   "source": [
    "mdp = QuickMDP(GridWorld,\n",
    "    states       = 𝒮,\n",
    "    actions      = 𝒜,\n",
    "    transition   = T,\n",
    "    reward       = R,\n",
    "    discount     = γ,\n",
    "    initialstate = 𝒮,\n",
    "    isterminal   = termination,\n",
    "    render       = render);"
   ]
  },
  {
   "cell_type": "code",
   "execution_count": null,
   "id": "7bb35a0d",
   "metadata": {},
   "outputs": [],
   "source": [
    "solver = ValueIterationSolver(max_iterations=30);"
   ]
  },
  {
   "cell_type": "markdown",
   "id": "0ad2add5",
   "metadata": {},
   "source": [
    "**Policy**"
   ]
  },
  {
   "cell_type": "code",
   "execution_count": null,
   "id": "38d38122",
   "metadata": {},
   "outputs": [],
   "source": [
    "# Set discount factor to variable gamma and solve the MDP to obptain policy pi mapping states to actions a"
   ]
  },
  {
   "cell_type": "code",
   "execution_count": null,
   "id": "9faff62a",
   "metadata": {},
   "outputs": [],
   "source": [
    "policy = solve(solver, mdp)"
   ]
  },
  {
   "cell_type": "code",
   "execution_count": null,
   "id": "1d6cf970",
   "metadata": {},
   "outputs": [],
   "source": []
  }
 ],
 "metadata": {
  "kernelspec": {
   "display_name": "Julia 1.6.2",
   "language": "julia",
   "name": "julia-1.6"
  },
  "language_info": {
   "file_extension": ".jl",
   "mimetype": "application/julia",
   "name": "julia",
   "version": "1.6.2"
  }
 },
 "nbformat": 4,
 "nbformat_minor": 5
}
