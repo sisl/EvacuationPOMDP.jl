{
 "cells": [
  {
   "cell_type": "code",
   "execution_count": 1,
   "id": "b9b038bc",
   "metadata": {},
   "outputs": [],
   "source": [
    "#import Pkg\n",
    "#Pkg.add(\"POMDPs\")\n",
    "using POMDPs # for MDP type\n",
    "# import Pkg\n",
    "#Pkg.add(\"DiscreteValueIteration\")\n",
    "#Pkg.add(\"Parameters\")\n",
    "#Pkg.add(\"Random\")\n",
    "#Pkg.add(\"Plots\")\n",
    "#Pkg.add(\"POMDPModelTools\")\n",
    "#Pkg.add(\"POMDPPolicies\")\n",
    "#Pkg.add(\"Distributions\")\n",
    "using DiscreteValueIteration\n",
    "using POMDPPolicies\n",
    "using POMDPModelTools\n",
    "using Parameters\n",
    "using Random\n",
    "using Plots; default(fontfamily=\"Computer Modern\", framestyle=:box) # LaTex-style"
   ]
  },
  {
   "cell_type": "code",
   "execution_count": 2,
   "id": "a562134e",
   "metadata": {},
   "outputs": [],
   "source": [
    "using QuickPOMDPs\n",
    "using Distributions "
   ]
  },
  {
   "cell_type": "code",
   "execution_count": 3,
   "id": "f5bfdf18",
   "metadata": {},
   "outputs": [
    {
     "data": {
      "text/plain": [
       "MersenneTwister(123)"
      ]
     },
     "execution_count": 3,
     "metadata": {},
     "output_type": "execute_result"
    }
   ],
   "source": [
    "Random.seed!(123)\n"
   ]
  },
  {
   "cell_type": "code",
   "execution_count": null,
   "id": "474a9c38",
   "metadata": {},
   "outputs": [],
   "source": [
    "# average family size in Afganistan \n",
    "#family_sizes = Normal(8, 1.0)\n",
    "#family_size = rand(family_sizes, 10)\n",
    "#family_size = convert(Int64, RoundUp(family_size, digits=0))\n",
    "# figure out how to round up or down for this "
   ]
  },
  {
   "cell_type": "code",
   "execution_count": null,
   "id": "13c47937",
   "metadata": {},
   "outputs": [],
   "source": [
    "#family_sizes = rand(Normal(8, 2.0), 10) # truncate positive #s"
   ]
  },
  {
   "cell_type": "code",
   "execution_count": 20,
   "id": "4c79cd85",
   "metadata": {},
   "outputs": [
    {
     "data": {
      "text/plain": [
       "Truncated(Normal{Float64}(μ=8.0, σ=5.0), range=(1.0, Inf))"
      ]
     },
     "execution_count": 20,
     "metadata": {},
     "output_type": "execute_result"
    }
   ],
   "source": [
    "# Define the problem with QuickPOMPDPs.kl \n"
   ]
  },
  {
   "cell_type": "markdown",
   "id": "fd79da1f",
   "metadata": {},
   "source": [
    "**Environment Parameters**"
   ]
  },
  {
   "cell_type": "code",
   "execution_count": null,
   "id": "dc93b58e",
   "metadata": {},
   "outputs": [],
   "source": [
    "# Parameters defining the evacuation environment \n",
    "# (rather than creating global variables we \n",
    "# consolodate them into a single EvacuationParams structure)"
   ]
  },
  {
   "cell_type": "code",
   "execution_count": 4,
   "id": "af2a47f2",
   "metadata": {},
   "outputs": [
    {
     "data": {
      "text/plain": [
       "1"
      ]
     },
     "execution_count": 4,
     "metadata": {},
     "output_type": "execute_result"
    }
   ],
   "source": [
    "#trunc(Int, 1.2)"
   ]
  },
  {
   "cell_type": "code",
   "execution_count": 5,
   "id": "2f935cd2",
   "metadata": {},
   "outputs": [
    {
     "data": {
      "text/plain": [
       "10-element Vector{Float64}:\n",
       " 10.380535761972553\n",
       " 12.09635941557848\n",
       " 10.285301805734399\n",
       "  8.91883124081416\n",
       "  7.206641841409554\n",
       "  6.670574909616625\n",
       "  9.961935653517067\n",
       "  7.849033867204488\n",
       "  8.547630742424312\n",
       "  7.611541865788559"
      ]
     },
     "execution_count": 5,
     "metadata": {},
     "output_type": "execute_result"
    }
   ],
   "source": [
    "#rand(Normal(8, 2.0), 10)"
   ]
  },
  {
   "cell_type": "code",
   "execution_count": 22,
   "id": "04083e44",
   "metadata": {},
   "outputs": [
    {
     "data": {
      "text/plain": [
       "10-element Vector{Float64}:\n",
       "  4.170081621700107\n",
       "  7.004044236748712\n",
       " 15.469801484596978\n",
       "  8.11195129084749\n",
       "  8.120795138501837\n",
       " 13.538238533361696\n",
       "  8.745929928379955\n",
       " 16.44753477736475\n",
       "  5.390476483426479\n",
       " 11.127693645571131"
      ]
     },
     "execution_count": 22,
     "metadata": {},
     "output_type": "execute_result"
    }
   ],
   "source": [
    "#rand(TruncatedNormal(8, 5, 1, Inf), 10)\n"
   ]
  },
  {
   "cell_type": "code",
   "execution_count": 23,
   "id": "0f352dc7",
   "metadata": {},
   "outputs": [
    {
     "data": {
      "text/plain": [
       "10-element Vector{Int64}:\n",
       "  1\n",
       " 10\n",
       " 14\n",
       "  2\n",
       "  8\n",
       " 11\n",
       " 10\n",
       " 11\n",
       "  6\n",
       " 11"
      ]
     },
     "execution_count": 23,
     "metadata": {},
     "output_type": "execute_result"
    }
   ],
   "source": [
    "#[trunc(Int, x) for x in rand(TruncatedNormal(8, 4.0, 1, Inf), 10)]"
   ]
  },
  {
   "cell_type": "code",
   "execution_count": 18,
   "id": "b90e0ada",
   "metadata": {},
   "outputs": [
    {
     "data": {
      "text/plain": [
       "EvacuationParameters"
      ]
     },
     "execution_count": 18,
     "metadata": {},
     "output_type": "execute_result"
    }
   ],
   "source": [
    "@with_kw struct EvacuationParameters\n",
    "    # family distribution \n",
    "    # visa distribution [should this include time and chairs?]\n",
    "    # convert(Int64, round(1.3, digits=0))\n",
    "    # no magic variable? \n",
    "    family_sizes::Vector{Int} =  [trunc(Int, x) for x in rand(TruncatedNormal(8, 4.0, 1, Inf), 10)] # TODO: truncate positive #s and make int \n",
    "    visa_status::Vector{Int} = [-5, -4, -3, -2, 0, 1, 2, 3, 4, 5] #TODO: map to various status \n",
    "    capacity::Int = 20\n",
    "    time::Int = 60 \n",
    "    size::Tuple{Int, Int} = (length(visa_status), length(family_sizes)) # size of grid \n",
    "#    null_state::State = State(x, 0, x, x) == 0 [how would do this?]\n",
    "end\n"
   ]
  },
  {
   "cell_type": "code",
   "execution_count": null,
   "id": "1bc11009",
   "metadata": {},
   "outputs": [],
   "source": [
    "#truncated(rand(Normal(8, 2.0), 10), 0.0, Inf) # truncate positive #s\n",
    "#family_sizes = convert(Int64, round((rand(Normal(8, 2.0), 10), digits=0)"
   ]
  },
  {
   "cell_type": "code",
   "execution_count": 19,
   "id": "3e3b6fcd",
   "metadata": {},
   "outputs": [],
   "source": [
    "params = EvacuationParameters(); "
   ]
  },
  {
   "cell_type": "code",
   "execution_count": null,
   "id": "703463df",
   "metadata": {},
   "outputs": [],
   "source": [
    "# params.family_sizes\n",
    "# params.visa_status\n",
    "# params.size\n",
    "# render(mdp) graphing..."
   ]
  },
  {
   "cell_type": "markdown",
   "id": "e3574d29",
   "metadata": {},
   "source": [
    "**States**"
   ]
  },
  {
   "cell_type": "code",
   "execution_count": null,
   "id": "0ccded43",
   "metadata": {},
   "outputs": [],
   "source": [
    "# A state s in the evacuation problem is a discrete set of 4 values: \n",
    "# chairs remaining, time remaining, family size, and visa status\n",
    "struct State\n",
    "    c::Int # chairs remaining \n",
    "    t::Int # time remaining \n",
    "    f::Int # family size \n",
    "    v::Int # visa status \n",
    "end "
   ]
  },
  {
   "cell_type": "code",
   "execution_count": null,
   "id": "d5f69c5b",
   "metadata": {},
   "outputs": [],
   "source": [
    "# The state space S for the evacuation problem is the set of \n",
    "# all combinations \n",
    "# in a grird world it is the set of all (x, y values in the 10X 10 grid...)\n",
    "# a list of all the structs ... \n",
    "𝒮 = [[State(c, t, f, v) for  c=1:params.capacity, t=1:params.time, f=1:params.size[2], v=1:params.size[1]]]"
   ]
  },
  {
   "cell_type": "code",
   "execution_count": null,
   "id": "6d9977a4",
   "metadata": {},
   "outputs": [],
   "source": [
    "#size(𝒮[1])\n",
    "#(20, 60, 10, 10)\n",
    "#length(𝒮[1]) = 120000 = 20*60*10*10\n"
   ]
  },
  {
   "cell_type": "markdown",
   "id": "9bbb2437",
   "metadata": {},
   "source": [
    "**Actions**"
   ]
  },
  {
   "cell_type": "code",
   "execution_count": null,
   "id": "6bcb4f5a",
   "metadata": {},
   "outputs": [],
   "source": [
    "# the possible actions \\scrs<TAB> are wither accepting or rejecting a family\n",
    "@enum Action REJECT ACCEPT"
   ]
  },
  {
   "cell_type": "code",
   "execution_count": null,
   "id": "c8b21198",
   "metadata": {},
   "outputs": [],
   "source": [
    "#A = [REJECT::Action=0, ACCEPT::Action=1]\n",
    "𝒜 = [REJECT, ACCEPT]"
   ]
  },
  {
   "cell_type": "markdown",
   "id": "da8a9d14",
   "metadata": {},
   "source": [
    "**Transition Function** "
   ]
  },
  {
   "cell_type": "code",
   "execution_count": null,
   "id": "c3a25f52",
   "metadata": {},
   "outputs": [],
   "source": [
    "# The dynamics to transition the agent live in the transition function T(s'|s, a). The transition function \n",
    "function T(s::State, a::Action, s_prime::State)\n",
    "    # if we accept the person, we want to decriment by family size \n",
    "    if a == ACCEPT\n",
    "        s_prime.c = s.c - s.f\n",
    "    end \n",
    "    s_prime.t = s_prime.t - 1 # how to update  time\n",
    "    # maybe make some terminal state when time = 0?\n",
    "    # do I return something here? \n",
    "end\n",
    "    "
   ]
  },
  {
   "cell_type": "markdown",
   "id": "49b347db",
   "metadata": {},
   "source": [
    "**Reward Function**"
   ]
  },
  {
   "cell_type": "code",
   "execution_count": null,
   "id": "3709ee3a",
   "metadata": {},
   "outputs": [],
   "source": [
    "# The reward functions R(s) and R(s,a) return rewards for a given State. Certain formulations may use R(s) or R(s,a) \n",
    "# do we only compute rewards \n",
    "function R(s::State, a::Action)\n",
    "    # reward is just the visa status times family size i think! assuming \n",
    "    return s.v*s.f\n",
    "end "
   ]
  },
  {
   "cell_type": "code",
   "execution_count": null,
   "id": "6599227f",
   "metadata": {},
   "outputs": [],
   "source": []
  },
  {
   "cell_type": "code",
   "execution_count": null,
   "id": "6a704836",
   "metadata": {},
   "outputs": [],
   "source": [
    "#render(mdp; show_rewards=true)\n",
    "#@bind γ Slider(0:0.05:1, default=0.95, show_value=true)\n",
    "γ = 0.95"
   ]
  },
  {
   "cell_type": "code",
   "execution_count": null,
   "id": "460f7736",
   "metadata": {},
   "outputs": [],
   "source": [
    "# when time is 0\n",
    "termination(s::State) = s.t == 0"
   ]
  },
  {
   "cell_type": "markdown",
   "id": "3ade09cc",
   "metadata": {},
   "source": [
    "**MDP Formulation**"
   ]
  },
  {
   "cell_type": "code",
   "execution_count": null,
   "id": "bd4d926f",
   "metadata": {},
   "outputs": [],
   "source": [
    "# We define the Airport abstract MDP type so we can reference it in other methods.\n",
    "abstract type Evacuation <: MDP{State, Action} end"
   ]
  },
  {
   "cell_type": "code",
   "execution_count": null,
   "id": "6e4031b4",
   "metadata": {},
   "outputs": [],
   "source": [
    "mdp = QuickMDP(Evacuation,\n",
    "    states       = 𝒮,\n",
    "    actions      = 𝒜,\n",
    "    transition   = T,\n",
    "    reward       = R,\n",
    "    discount     = γ,\n",
    "    initialstate = 𝒮,\n",
    "    isterminal   = termination,\n",
    "    render       = render\n",
    "    );"
   ]
  },
  {
   "cell_type": "code",
   "execution_count": null,
   "id": "cbc32493",
   "metadata": {},
   "outputs": [],
   "source": []
  },
  {
   "cell_type": "code",
   "execution_count": null,
   "id": "0026e810",
   "metadata": {},
   "outputs": [],
   "source": [
    "render(mdp)"
   ]
  },
  {
   "cell_type": "code",
   "execution_count": null,
   "id": "0890c3f4",
   "metadata": {},
   "outputs": [],
   "source": [
    "solver = ValueIterationSolver(max_iterations=30);"
   ]
  },
  {
   "cell_type": "markdown",
   "id": "da936473",
   "metadata": {},
   "source": [
    "**Policy**"
   ]
  },
  {
   "cell_type": "code",
   "execution_count": null,
   "id": "8194248d",
   "metadata": {},
   "outputs": [],
   "source": [
    "# Set discount factor to variable gamma and solve the MDP to obptain policy pi mapping states to actions a"
   ]
  },
  {
   "cell_type": "code",
   "execution_count": null,
   "id": "3fb00366",
   "metadata": {},
   "outputs": [],
   "source": [
    "policy = solve(solver, mdp)"
   ]
  },
  {
   "cell_type": "code",
   "execution_count": null,
   "id": "a1030360",
   "metadata": {},
   "outputs": [],
   "source": []
  }
 ],
 "metadata": {
  "kernelspec": {
   "display_name": "Julia 1.6.2",
   "language": "julia",
   "name": "julia-1.6"
  },
  "language_info": {
   "file_extension": ".jl",
   "mimetype": "application/julia",
   "name": "julia",
   "version": "1.6.2"
  }
 },
 "nbformat": 4,
 "nbformat_minor": 5
}
