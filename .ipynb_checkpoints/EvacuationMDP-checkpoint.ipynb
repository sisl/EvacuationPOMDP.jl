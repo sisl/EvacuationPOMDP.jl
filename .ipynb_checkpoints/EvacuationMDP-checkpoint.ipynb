{
 "cells": [
  {
   "cell_type": "code",
   "execution_count": 28,
   "id": "67e50756",
   "metadata": {},
   "outputs": [],
   "source": [
    "#import Pkg\n",
    "#Pkg.add(\"POMDPs\")\n",
    "using POMDPs # for MDP type\n",
    "# import Pkg\n",
    "#Pkg.add(\"DiscreteValueIteration\")\n",
    "#Pkg.add(\"Parameters\")\n",
    "#Pkg.add(\"Random\")\n",
    "#Pkg.add(\"Plots\")\n",
    "#Pkg.add(\"POMDPModelTools\")\n",
    "#Pkg.add(\"POMDPPolicies\")\n",
    "using DiscreteValueIteration\n",
    "using POMDPPolicies\n",
    "using POMDPModelTools\n",
    "using Parameters\n",
    "using Random\n",
    "using Plots; default(fontfamily=\"Computer Modern\", framestyle=:box) # LaTex-style"
   ]
  },
  {
   "cell_type": "code",
   "execution_count": 7,
   "id": "2132309a",
   "metadata": {},
   "outputs": [],
   "source": [
    "# Define the problem with QuickPOMPDPs.kl "
   ]
  },
  {
   "cell_type": "code",
   "execution_count": null,
   "id": "46b1c763",
   "metadata": {},
   "outputs": [],
   "source": [
    "@with_kw struct EvacuationParameters\n",
    "    "
   ]
  },
  {
   "cell_type": "markdown",
   "id": "f5cadb47",
   "metadata": {},
   "source": [
    "**States**"
   ]
  },
  {
   "cell_type": "code",
   "execution_count": 30,
   "id": "8414cb35",
   "metadata": {},
   "outputs": [],
   "source": [
    "# A state \n",
    "struct State\n",
    "    c::Int # chairs remaining \n",
    "    t::Int # time remaining \n",
    "    f::Int # family size \n",
    "    v::Int # visa status \n",
    "end "
   ]
  },
  {
   "cell_type": "code",
   "execution_count": 49,
   "id": "c507ce18",
   "metadata": {},
   "outputs": [
    {
     "data": {
      "text/plain": [
       "2"
      ]
     },
     "execution_count": 49,
     "metadata": {},
     "output_type": "execute_result"
    }
   ],
   "source": [
    "# Initialize the state space ? \n",
    "# in a grird world it is the set of all (x, y values in the 10X 10 grid...)\n",
    "# a list of all the structs ... \n",
    "𝒮 = [State(c, t, f, v) for ]"
   ]
  },
  {
   "cell_type": "markdown",
   "id": "fbd40e7f",
   "metadata": {},
   "source": [
    "**Actions**"
   ]
  },
  {
   "cell_type": "code",
   "execution_count": 36,
   "id": "29c22a39",
   "metadata": {},
   "outputs": [
    {
     "name": "stderr",
     "output_type": "stream",
     "text": [
      "WARNING: redefinition of constant REJECT. This may fail, cause incorrect answers, or produce other errors.\n",
      "WARNING: redefinition of constant ACCEPT. This may fail, cause incorrect answers, or produce other errors.\n"
     ]
    }
   ],
   "source": [
    "# the possible actions \\scrs<TAB> are wither accepting or rejecting a family\n",
    "@enum Action REJECT ACCEPT"
   ]
  },
  {
   "cell_type": "code",
   "execution_count": 42,
   "id": "a154603c",
   "metadata": {},
   "outputs": [
    {
     "data": {
      "text/plain": [
       "Enum Action:\n",
       "REJECT = 0\n",
       "ACCEPT = 1"
      ]
     },
     "execution_count": 42,
     "metadata": {},
     "output_type": "execute_result"
    }
   ],
   "source": [
    "#A = [REJECT::Action=0, ACCEPT::Action=1]\n",
    "A = Action "
   ]
  },
  {
   "cell_type": "code",
   "execution_count": 50,
   "id": "769e30b5",
   "metadata": {},
   "outputs": [
    {
     "data": {
      "text/plain": [
       "2-element Vector{Action}:\n",
       " REJECT::Action = 0\n",
       " ACCEPT::Action = 1"
      ]
     },
     "execution_count": 50,
     "metadata": {},
     "output_type": "execute_result"
    }
   ],
   "source": [
    "𝒜 = [REJECT, ACCEPT]"
   ]
  },
  {
   "cell_type": "code",
   "execution_count": 44,
   "id": "8abfbdf6",
   "metadata": {},
   "outputs": [],
   "source": [
    "# We define the Airport abstract MDP type so we can reference it in other methods.\n",
    "abstract type Airport <: MDP{State, Action} end"
   ]
  },
  {
   "cell_type": "code",
   "execution_count": 45,
   "id": "bb676226",
   "metadata": {},
   "outputs": [
    {
     "data": {
      "text/plain": [
       "Airport"
      ]
     },
     "execution_count": 45,
     "metadata": {},
     "output_type": "execute_result"
    }
   ],
   "source": [
    "Airport"
   ]
  },
  {
   "cell_type": "markdown",
   "id": "1b2a4e39",
   "metadata": {},
   "source": [
    "**Transition Function** "
   ]
  },
  {
   "cell_type": "code",
   "execution_count": null,
   "id": "67b23612",
   "metadata": {},
   "outputs": [],
   "source": [
    "# The dynamics to transition the agent live in the transition function T(s'|s, a). The transition function \n",
    "function T(s::State, a::Action)\n",
    "    "
   ]
  },
  {
   "cell_type": "markdown",
   "id": "97c7e71c",
   "metadata": {},
   "source": [
    "**Reward Function**"
   ]
  },
  {
   "cell_type": "code",
   "execution_count": null,
   "id": "af67a6d9",
   "metadata": {},
   "outputs": [],
   "source": [
    "# The reward functions R(s) and R(s,a) return rewards for a given State. Certain formulations may use R(s) or R(s,a) \n",
    "# to computer the rewards \n",
    "function R(s, a)\n",
    "    if s == State()\n",
    "        return 1\n",
    "    elseif s == State()\n",
    "        return 5\n",
    "    elseif s == State()\n",
    "        return 10\n",
    "    elseif s == State()\n",
    "        return -10\n",
    "    else \n",
    "        return 0\n",
    "    end \n",
    "end "
   ]
  },
  {
   "cell_type": "code",
   "execution_count": null,
   "id": "5c5402ed",
   "metadata": {},
   "outputs": [],
   "source": [
    "render(mdp; show_rewards=true)"
   ]
  },
  {
   "cell_type": "markdown",
   "id": "1730dad7",
   "metadata": {},
   "source": [
    "**MDP Formulation**"
   ]
  },
  {
   "cell_type": "code",
   "execution_count": 48,
   "id": "50480ae1",
   "metadata": {},
   "outputs": [
    {
     "ename": "LoadError",
     "evalue": "UndefVarError: 𝒮 not defined",
     "output_type": "error",
     "traceback": [
      "UndefVarError: 𝒮 not defined",
      "",
      "Stacktrace:",
      " [1] top-level scope",
      "   @ In[48]:1",
      " [2] eval",
      "   @ ./boot.jl:360 [inlined]",
      " [3] include_string(mapexpr::typeof(REPL.softscope), mod::Module, code::String, filename::String)",
      "   @ Base ./loading.jl:1116"
     ]
    }
   ],
   "source": [
    "mdp = QuickMDP(GridWorld,\n",
    "    states       = 𝒮,\n",
    "    actions      = 𝒜,\n",
    "    transition   = T,\n",
    "    reward       = R,\n",
    "    discount     = γ,\n",
    "    initialstate = 𝒮,\n",
    "    isterminal   = termination,\n",
    "    render       = render);"
   ]
  },
  {
   "cell_type": "code",
   "execution_count": 51,
   "id": "adf98a02",
   "metadata": {},
   "outputs": [],
   "source": [
    "solver = ValueIterationSolver(max_iterations=30);"
   ]
  },
  {
   "cell_type": "markdown",
   "id": "68cf8ba9",
   "metadata": {},
   "source": [
    "**Policy**"
   ]
  },
  {
   "cell_type": "code",
   "execution_count": 53,
   "id": "2f743886",
   "metadata": {},
   "outputs": [],
   "source": [
    "# Set discount factor to variable gamma and solve the MDP to obptain policy pi mapping states to actions a"
   ]
  },
  {
   "cell_type": "code",
   "execution_count": 54,
   "id": "caefe8c7",
   "metadata": {},
   "outputs": [
    {
     "ename": "LoadError",
     "evalue": "UndefVarError: mdp not defined",
     "output_type": "error",
     "traceback": [
      "UndefVarError: mdp not defined",
      "",
      "Stacktrace:",
      " [1] top-level scope",
      "   @ In[54]:1",
      " [2] eval",
      "   @ ./boot.jl:360 [inlined]",
      " [3] include_string(mapexpr::typeof(REPL.softscope), mod::Module, code::String, filename::String)",
      "   @ Base ./loading.jl:1116"
     ]
    }
   ],
   "source": [
    "policy = solve(solver, mdp)"
   ]
  },
  {
   "cell_type": "code",
   "execution_count": null,
   "id": "3ea451a2",
   "metadata": {},
   "outputs": [],
   "source": []
  }
 ],
 "metadata": {
  "kernelspec": {
   "display_name": "Julia 1.6.2",
   "language": "julia",
   "name": "julia-1.6"
  },
  "language_info": {
   "file_extension": ".jl",
   "mimetype": "application/julia",
   "name": "julia",
   "version": "1.6.2"
  }
 },
 "nbformat": 4,
 "nbformat_minor": 5
}
